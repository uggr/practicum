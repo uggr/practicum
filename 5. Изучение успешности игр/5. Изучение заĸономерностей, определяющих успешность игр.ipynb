{
 "cells": [
  {
   "cell_type": "markdown",
   "id": "15c485ea",
   "metadata": {},
   "source": [
    "## Изучение заĸономерностей, определяющих успешность игр"
   ]
  },
  {
   "cell_type": "markdown",
   "id": "2c25dfe6",
   "metadata": {},
   "source": [
    "## Описание проекта\n",
    "Вы работаете в интернет-магазине «Стримчик», который продаёт по всему миру компьютерные игры. Из открытых источников доступны исторические данные о продажах игр, оценки пользователей и экспертов, жанры и платформы (например, Xboxили PlayStation). Вам нужно выявить определяющие успешность игры закономерности. Это позволит сделать ставку на потенциально популярный\n",
    "продукт и спланировать рекламные кампании.\n",
    "\n",
    "Перед вами данные до 2016 года. Представим, что сейчас декабрь 2016 г., и вы планируете кампанию на 2017-й. Нужно отработать принцип работы с данными. Неважно, прогнозируете ли вы продажи на 2017 год по данным 2016-го или же 2027-й — по данным 2026 года.\n",
    "\n",
    "В наборе данных попадается аббревиатура ESRB (Entertainment Software Rating Board) — это ассоциация, определяющая возрастной рейтинг компьютерных игр. ESRB оценивает игровой контент и присваивает ему подходящую возрастную категорию, например, «Для взрослых», «Для детей младшего возраста» или «Для подростков»."
   ]
  },
  {
   "cell_type": "markdown",
   "id": "3394fde2",
   "metadata": {},
   "source": [
    "## Шаг 1. Изучение общей информации"
   ]
  },
  {
   "cell_type": "code",
   "execution_count": 1,
   "id": "032a4d82",
   "metadata": {},
   "outputs": [],
   "source": [
    "import pandas as pd\n",
    "import numpy as np\n",
    "import seaborn as sns\n",
    "import matplotlib.pyplot as plt\n",
    "from scipy import stats as st\n",
    "\n",
    "import warnings\n",
    "warnings.filterwarnings('ignore')"
   ]
  },
  {
   "cell_type": "code",
   "execution_count": 2,
   "id": "860801a8",
   "metadata": {},
   "outputs": [],
   "source": [
    "df = pd.read_csv('/datasets/games.csv')"
   ]
  },
  {
   "cell_type": "code",
   "execution_count": 3,
   "id": "175b450a",
   "metadata": {
    "scrolled": false
   },
   "outputs": [
    {
     "data": {
      "text/html": [
       "<div>\n",
       "<style scoped>\n",
       "    .dataframe tbody tr th:only-of-type {\n",
       "        vertical-align: middle;\n",
       "    }\n",
       "\n",
       "    .dataframe tbody tr th {\n",
       "        vertical-align: top;\n",
       "    }\n",
       "\n",
       "    .dataframe thead th {\n",
       "        text-align: right;\n",
       "    }\n",
       "</style>\n",
       "<table border=\"1\" class=\"dataframe\">\n",
       "  <thead>\n",
       "    <tr style=\"text-align: right;\">\n",
       "      <th></th>\n",
       "      <th>Name</th>\n",
       "      <th>Platform</th>\n",
       "      <th>Year_of_Release</th>\n",
       "      <th>Genre</th>\n",
       "      <th>NA_sales</th>\n",
       "      <th>EU_sales</th>\n",
       "      <th>JP_sales</th>\n",
       "      <th>Other_sales</th>\n",
       "      <th>Critic_Score</th>\n",
       "      <th>User_Score</th>\n",
       "      <th>Rating</th>\n",
       "    </tr>\n",
       "  </thead>\n",
       "  <tbody>\n",
       "    <tr>\n",
       "      <th>0</th>\n",
       "      <td>Wii Sports</td>\n",
       "      <td>Wii</td>\n",
       "      <td>2006.0</td>\n",
       "      <td>Sports</td>\n",
       "      <td>41.36</td>\n",
       "      <td>28.96</td>\n",
       "      <td>3.77</td>\n",
       "      <td>8.45</td>\n",
       "      <td>76.0</td>\n",
       "      <td>8</td>\n",
       "      <td>E</td>\n",
       "    </tr>\n",
       "    <tr>\n",
       "      <th>1</th>\n",
       "      <td>Super Mario Bros.</td>\n",
       "      <td>NES</td>\n",
       "      <td>1985.0</td>\n",
       "      <td>Platform</td>\n",
       "      <td>29.08</td>\n",
       "      <td>3.58</td>\n",
       "      <td>6.81</td>\n",
       "      <td>0.77</td>\n",
       "      <td>NaN</td>\n",
       "      <td>NaN</td>\n",
       "      <td>NaN</td>\n",
       "    </tr>\n",
       "    <tr>\n",
       "      <th>2</th>\n",
       "      <td>Mario Kart Wii</td>\n",
       "      <td>Wii</td>\n",
       "      <td>2008.0</td>\n",
       "      <td>Racing</td>\n",
       "      <td>15.68</td>\n",
       "      <td>12.76</td>\n",
       "      <td>3.79</td>\n",
       "      <td>3.29</td>\n",
       "      <td>82.0</td>\n",
       "      <td>8.3</td>\n",
       "      <td>E</td>\n",
       "    </tr>\n",
       "    <tr>\n",
       "      <th>3</th>\n",
       "      <td>Wii Sports Resort</td>\n",
       "      <td>Wii</td>\n",
       "      <td>2009.0</td>\n",
       "      <td>Sports</td>\n",
       "      <td>15.61</td>\n",
       "      <td>10.93</td>\n",
       "      <td>3.28</td>\n",
       "      <td>2.95</td>\n",
       "      <td>80.0</td>\n",
       "      <td>8</td>\n",
       "      <td>E</td>\n",
       "    </tr>\n",
       "    <tr>\n",
       "      <th>4</th>\n",
       "      <td>Pokemon Red/Pokemon Blue</td>\n",
       "      <td>GB</td>\n",
       "      <td>1996.0</td>\n",
       "      <td>Role-Playing</td>\n",
       "      <td>11.27</td>\n",
       "      <td>8.89</td>\n",
       "      <td>10.22</td>\n",
       "      <td>1.00</td>\n",
       "      <td>NaN</td>\n",
       "      <td>NaN</td>\n",
       "      <td>NaN</td>\n",
       "    </tr>\n",
       "    <tr>\n",
       "      <th>...</th>\n",
       "      <td>...</td>\n",
       "      <td>...</td>\n",
       "      <td>...</td>\n",
       "      <td>...</td>\n",
       "      <td>...</td>\n",
       "      <td>...</td>\n",
       "      <td>...</td>\n",
       "      <td>...</td>\n",
       "      <td>...</td>\n",
       "      <td>...</td>\n",
       "      <td>...</td>\n",
       "    </tr>\n",
       "    <tr>\n",
       "      <th>16710</th>\n",
       "      <td>Samurai Warriors: Sanada Maru</td>\n",
       "      <td>PS3</td>\n",
       "      <td>2016.0</td>\n",
       "      <td>Action</td>\n",
       "      <td>0.00</td>\n",
       "      <td>0.00</td>\n",
       "      <td>0.01</td>\n",
       "      <td>0.00</td>\n",
       "      <td>NaN</td>\n",
       "      <td>NaN</td>\n",
       "      <td>NaN</td>\n",
       "    </tr>\n",
       "    <tr>\n",
       "      <th>16711</th>\n",
       "      <td>LMA Manager 2007</td>\n",
       "      <td>X360</td>\n",
       "      <td>2006.0</td>\n",
       "      <td>Sports</td>\n",
       "      <td>0.00</td>\n",
       "      <td>0.01</td>\n",
       "      <td>0.00</td>\n",
       "      <td>0.00</td>\n",
       "      <td>NaN</td>\n",
       "      <td>NaN</td>\n",
       "      <td>NaN</td>\n",
       "    </tr>\n",
       "    <tr>\n",
       "      <th>16712</th>\n",
       "      <td>Haitaka no Psychedelica</td>\n",
       "      <td>PSV</td>\n",
       "      <td>2016.0</td>\n",
       "      <td>Adventure</td>\n",
       "      <td>0.00</td>\n",
       "      <td>0.00</td>\n",
       "      <td>0.01</td>\n",
       "      <td>0.00</td>\n",
       "      <td>NaN</td>\n",
       "      <td>NaN</td>\n",
       "      <td>NaN</td>\n",
       "    </tr>\n",
       "    <tr>\n",
       "      <th>16713</th>\n",
       "      <td>Spirits &amp; Spells</td>\n",
       "      <td>GBA</td>\n",
       "      <td>2003.0</td>\n",
       "      <td>Platform</td>\n",
       "      <td>0.01</td>\n",
       "      <td>0.00</td>\n",
       "      <td>0.00</td>\n",
       "      <td>0.00</td>\n",
       "      <td>NaN</td>\n",
       "      <td>NaN</td>\n",
       "      <td>NaN</td>\n",
       "    </tr>\n",
       "    <tr>\n",
       "      <th>16714</th>\n",
       "      <td>Winning Post 8 2016</td>\n",
       "      <td>PSV</td>\n",
       "      <td>2016.0</td>\n",
       "      <td>Simulation</td>\n",
       "      <td>0.00</td>\n",
       "      <td>0.00</td>\n",
       "      <td>0.01</td>\n",
       "      <td>0.00</td>\n",
       "      <td>NaN</td>\n",
       "      <td>NaN</td>\n",
       "      <td>NaN</td>\n",
       "    </tr>\n",
       "  </tbody>\n",
       "</table>\n",
       "<p>16715 rows × 11 columns</p>\n",
       "</div>"
      ],
      "text/plain": [
       "                                Name Platform  Year_of_Release         Genre  \\\n",
       "0                         Wii Sports      Wii           2006.0        Sports   \n",
       "1                  Super Mario Bros.      NES           1985.0      Platform   \n",
       "2                     Mario Kart Wii      Wii           2008.0        Racing   \n",
       "3                  Wii Sports Resort      Wii           2009.0        Sports   \n",
       "4           Pokemon Red/Pokemon Blue       GB           1996.0  Role-Playing   \n",
       "...                              ...      ...              ...           ...   \n",
       "16710  Samurai Warriors: Sanada Maru      PS3           2016.0        Action   \n",
       "16711               LMA Manager 2007     X360           2006.0        Sports   \n",
       "16712        Haitaka no Psychedelica      PSV           2016.0     Adventure   \n",
       "16713               Spirits & Spells      GBA           2003.0      Platform   \n",
       "16714            Winning Post 8 2016      PSV           2016.0    Simulation   \n",
       "\n",
       "       NA_sales  EU_sales  JP_sales  Other_sales  Critic_Score User_Score  \\\n",
       "0         41.36     28.96      3.77         8.45          76.0          8   \n",
       "1         29.08      3.58      6.81         0.77           NaN        NaN   \n",
       "2         15.68     12.76      3.79         3.29          82.0        8.3   \n",
       "3         15.61     10.93      3.28         2.95          80.0          8   \n",
       "4         11.27      8.89     10.22         1.00           NaN        NaN   \n",
       "...         ...       ...       ...          ...           ...        ...   \n",
       "16710      0.00      0.00      0.01         0.00           NaN        NaN   \n",
       "16711      0.00      0.01      0.00         0.00           NaN        NaN   \n",
       "16712      0.00      0.00      0.01         0.00           NaN        NaN   \n",
       "16713      0.01      0.00      0.00         0.00           NaN        NaN   \n",
       "16714      0.00      0.00      0.01         0.00           NaN        NaN   \n",
       "\n",
       "      Rating  \n",
       "0          E  \n",
       "1        NaN  \n",
       "2          E  \n",
       "3          E  \n",
       "4        NaN  \n",
       "...      ...  \n",
       "16710    NaN  \n",
       "16711    NaN  \n",
       "16712    NaN  \n",
       "16713    NaN  \n",
       "16714    NaN  \n",
       "\n",
       "[16715 rows x 11 columns]"
      ]
     },
     "execution_count": 3,
     "metadata": {},
     "output_type": "execute_result"
    }
   ],
   "source": [
    "df"
   ]
  },
  {
   "cell_type": "markdown",
   "id": "7c2c4e23",
   "metadata": {},
   "source": [
    "- `Name` — название игры\n",
    "- `Platform` — платформа\n",
    "- `Year_of_Release` — год выпуска\n",
    "- `Genre` — жанр игры\n",
    "- `NA_sales` — продажи в Северной Америке (миллионы проданных копий)\n",
    "- `EU_sales` — продажи в Европе (миллионы проданных копий)\n",
    "- `JP_sales` — продажи в Японии (миллионы проданных копий)\n",
    "- `Other_sales` — продажи в других странах (миллионы проданных копий)\n",
    "- `Critic_Score` — оценка критиков (максимум 100)\n",
    "- `User_Score` — оценка пользователей (максимум 10)\n",
    "- `Rating` — рейтинг от организации ESRB (англ. Entertainment Software Rating\n",
    "Board). Эта ассоциация определяет рейтинг компьютерных игр и присваивает\n",
    "им подходящую возрастную категорию"
   ]
  },
  {
   "cell_type": "code",
   "execution_count": 4,
   "id": "234d995d",
   "metadata": {
    "scrolled": false
   },
   "outputs": [
    {
     "name": "stdout",
     "output_type": "stream",
     "text": [
      "<class 'pandas.core.frame.DataFrame'>\n",
      "RangeIndex: 16715 entries, 0 to 16714\n",
      "Data columns (total 11 columns):\n",
      " #   Column           Non-Null Count  Dtype  \n",
      "---  ------           --------------  -----  \n",
      " 0   Name             16713 non-null  object \n",
      " 1   Platform         16715 non-null  object \n",
      " 2   Year_of_Release  16446 non-null  float64\n",
      " 3   Genre            16713 non-null  object \n",
      " 4   NA_sales         16715 non-null  float64\n",
      " 5   EU_sales         16715 non-null  float64\n",
      " 6   JP_sales         16715 non-null  float64\n",
      " 7   Other_sales      16715 non-null  float64\n",
      " 8   Critic_Score     8137 non-null   float64\n",
      " 9   User_Score       10014 non-null  object \n",
      " 10  Rating           9949 non-null   object \n",
      "dtypes: float64(6), object(5)\n",
      "memory usage: 1.4+ MB\n"
     ]
    }
   ],
   "source": [
    "df.info()"
   ]
  },
  {
   "cell_type": "markdown",
   "id": "b36b8080",
   "metadata": {},
   "source": [
    "### Вывод\n",
    "\n",
    "Таблица состоит из 11 колонок и 16715 строк\n",
    "\n",
    "Необходимо:\n",
    "- привести названия колонок к нижнем регистру\n",
    "- `Year_of_Release`, `Critic_Score` привести к целым числам\n",
    "- `User_Score` привести к вещественному типу\n",
    "\n",
    "В данных обнаружены пропуски, их изучим и по необходимости заполним."
   ]
  },
  {
   "cell_type": "markdown",
   "id": "d0ca2b27",
   "metadata": {},
   "source": [
    "## Шаг 2. Подготовка данных"
   ]
  },
  {
   "cell_type": "markdown",
   "id": "c8dac55b",
   "metadata": {},
   "source": [
    "#### Замена названия столбцов (приведение к нижнему регистру)"
   ]
  },
  {
   "cell_type": "code",
   "execution_count": 5,
   "id": "e12abb24",
   "metadata": {},
   "outputs": [],
   "source": [
    "df.columns = df.columns.str.lower()"
   ]
  },
  {
   "cell_type": "markdown",
   "id": "64f8d5c6",
   "metadata": {
    "scrolled": true
   },
   "source": [
    "#### Проверка на пропуски"
   ]
  },
  {
   "cell_type": "code",
   "execution_count": 6,
   "id": "12c19c25",
   "metadata": {
    "scrolled": false
   },
   "outputs": [
    {
     "data": {
      "text/plain": [
       "name                  2\n",
       "platform              0\n",
       "year_of_release     269\n",
       "genre                 2\n",
       "na_sales              0\n",
       "eu_sales              0\n",
       "jp_sales              0\n",
       "other_sales           0\n",
       "critic_score       8578\n",
       "user_score         6701\n",
       "rating             6766\n",
       "dtype: int64"
      ]
     },
     "execution_count": 6,
     "metadata": {},
     "output_type": "execute_result"
    }
   ],
   "source": [
    "df.isna().sum()"
   ]
  },
  {
   "cell_type": "markdown",
   "id": "2198a336",
   "metadata": {},
   "source": [
    "Обнаруен пропуски в нескольких колонках, будем рассматривать ихпоочередно\n",
    "колонках: `name`, `year_of_release`, critic_score, user_score, rating"
   ]
  },
  {
   "cell_type": "markdown",
   "id": "0b6e18e5",
   "metadata": {},
   "source": [
    "#### name"
   ]
  },
  {
   "cell_type": "code",
   "execution_count": 7,
   "id": "fd92a506",
   "metadata": {
    "scrolled": true
   },
   "outputs": [
    {
     "data": {
      "text/html": [
       "<div>\n",
       "<style scoped>\n",
       "    .dataframe tbody tr th:only-of-type {\n",
       "        vertical-align: middle;\n",
       "    }\n",
       "\n",
       "    .dataframe tbody tr th {\n",
       "        vertical-align: top;\n",
       "    }\n",
       "\n",
       "    .dataframe thead th {\n",
       "        text-align: right;\n",
       "    }\n",
       "</style>\n",
       "<table border=\"1\" class=\"dataframe\">\n",
       "  <thead>\n",
       "    <tr style=\"text-align: right;\">\n",
       "      <th></th>\n",
       "      <th>name</th>\n",
       "      <th>platform</th>\n",
       "      <th>year_of_release</th>\n",
       "      <th>genre</th>\n",
       "      <th>na_sales</th>\n",
       "      <th>eu_sales</th>\n",
       "      <th>jp_sales</th>\n",
       "      <th>other_sales</th>\n",
       "      <th>critic_score</th>\n",
       "      <th>user_score</th>\n",
       "      <th>rating</th>\n",
       "    </tr>\n",
       "  </thead>\n",
       "  <tbody>\n",
       "    <tr>\n",
       "      <th>659</th>\n",
       "      <td>NaN</td>\n",
       "      <td>GEN</td>\n",
       "      <td>1993.0</td>\n",
       "      <td>NaN</td>\n",
       "      <td>1.78</td>\n",
       "      <td>0.53</td>\n",
       "      <td>0.00</td>\n",
       "      <td>0.08</td>\n",
       "      <td>NaN</td>\n",
       "      <td>NaN</td>\n",
       "      <td>NaN</td>\n",
       "    </tr>\n",
       "    <tr>\n",
       "      <th>14244</th>\n",
       "      <td>NaN</td>\n",
       "      <td>GEN</td>\n",
       "      <td>1993.0</td>\n",
       "      <td>NaN</td>\n",
       "      <td>0.00</td>\n",
       "      <td>0.00</td>\n",
       "      <td>0.03</td>\n",
       "      <td>0.00</td>\n",
       "      <td>NaN</td>\n",
       "      <td>NaN</td>\n",
       "      <td>NaN</td>\n",
       "    </tr>\n",
       "  </tbody>\n",
       "</table>\n",
       "</div>"
      ],
      "text/plain": [
       "      name platform  year_of_release genre  na_sales  eu_sales  jp_sales  \\\n",
       "659    NaN      GEN           1993.0   NaN      1.78      0.53      0.00   \n",
       "14244  NaN      GEN           1993.0   NaN      0.00      0.00      0.03   \n",
       "\n",
       "       other_sales  critic_score user_score rating  \n",
       "659           0.08           NaN        NaN    NaN  \n",
       "14244         0.00           NaN        NaN    NaN  "
      ]
     },
     "execution_count": 7,
     "metadata": {},
     "output_type": "execute_result"
    }
   ],
   "source": [
    "df[df['name'].isna() == True]"
   ]
  },
  {
   "cell_type": "markdown",
   "id": "31a57d53",
   "metadata": {},
   "source": [
    "2 пропуска в `name` совпадают с 2 пропусками в `genre`, удалим эти пропуски"
   ]
  },
  {
   "cell_type": "code",
   "execution_count": 8,
   "id": "c069bcf2",
   "metadata": {},
   "outputs": [],
   "source": [
    "# df.dropna(subset=['name'], inplace=True)\n",
    "df = df[df['name'].isna() == False]"
   ]
  },
  {
   "cell_type": "markdown",
   "id": "8f885e11",
   "metadata": {},
   "source": [
    "#### year_of_release"
   ]
  },
  {
   "cell_type": "markdown",
   "id": "72bb7fae",
   "metadata": {},
   "source": [
    "В колонке year_of_release 296 пропусков. Названия некоторых игр содержат год, предположим что эта цифра близка к году релиза"
   ]
  },
  {
   "cell_type": "code",
   "execution_count": 9,
   "id": "e3580028",
   "metadata": {
    "scrolled": true
   },
   "outputs": [
    {
     "data": {
      "text/html": [
       "<div>\n",
       "<style scoped>\n",
       "    .dataframe tbody tr th:only-of-type {\n",
       "        vertical-align: middle;\n",
       "    }\n",
       "\n",
       "    .dataframe tbody tr th {\n",
       "        vertical-align: top;\n",
       "    }\n",
       "\n",
       "    .dataframe thead th {\n",
       "        text-align: right;\n",
       "    }\n",
       "</style>\n",
       "<table border=\"1\" class=\"dataframe\">\n",
       "  <thead>\n",
       "    <tr style=\"text-align: right;\">\n",
       "      <th></th>\n",
       "      <th>name</th>\n",
       "      <th>platform</th>\n",
       "      <th>year_of_release</th>\n",
       "      <th>genre</th>\n",
       "      <th>na_sales</th>\n",
       "      <th>eu_sales</th>\n",
       "      <th>jp_sales</th>\n",
       "      <th>other_sales</th>\n",
       "      <th>critic_score</th>\n",
       "      <th>user_score</th>\n",
       "      <th>rating</th>\n",
       "    </tr>\n",
       "  </thead>\n",
       "  <tbody>\n",
       "    <tr>\n",
       "      <th>183</th>\n",
       "      <td>Madden NFL 2004</td>\n",
       "      <td>PS2</td>\n",
       "      <td>NaN</td>\n",
       "      <td>Sports</td>\n",
       "      <td>4.26</td>\n",
       "      <td>0.26</td>\n",
       "      <td>0.01</td>\n",
       "      <td>0.71</td>\n",
       "      <td>94.0</td>\n",
       "      <td>8.5</td>\n",
       "      <td>E</td>\n",
       "    </tr>\n",
       "    <tr>\n",
       "      <th>377</th>\n",
       "      <td>FIFA Soccer 2004</td>\n",
       "      <td>PS2</td>\n",
       "      <td>NaN</td>\n",
       "      <td>Sports</td>\n",
       "      <td>0.59</td>\n",
       "      <td>2.36</td>\n",
       "      <td>0.04</td>\n",
       "      <td>0.51</td>\n",
       "      <td>84.0</td>\n",
       "      <td>6.4</td>\n",
       "      <td>E</td>\n",
       "    </tr>\n",
       "    <tr>\n",
       "      <th>456</th>\n",
       "      <td>LEGO Batman: The Videogame</td>\n",
       "      <td>Wii</td>\n",
       "      <td>NaN</td>\n",
       "      <td>Action</td>\n",
       "      <td>1.80</td>\n",
       "      <td>0.97</td>\n",
       "      <td>0.00</td>\n",
       "      <td>0.29</td>\n",
       "      <td>74.0</td>\n",
       "      <td>7.9</td>\n",
       "      <td>E10+</td>\n",
       "    </tr>\n",
       "    <tr>\n",
       "      <th>475</th>\n",
       "      <td>wwe Smackdown vs. Raw 2006</td>\n",
       "      <td>PS2</td>\n",
       "      <td>NaN</td>\n",
       "      <td>Fighting</td>\n",
       "      <td>1.57</td>\n",
       "      <td>1.02</td>\n",
       "      <td>0.00</td>\n",
       "      <td>0.41</td>\n",
       "      <td>NaN</td>\n",
       "      <td>NaN</td>\n",
       "      <td>NaN</td>\n",
       "    </tr>\n",
       "    <tr>\n",
       "      <th>609</th>\n",
       "      <td>Space Invaders</td>\n",
       "      <td>2600</td>\n",
       "      <td>NaN</td>\n",
       "      <td>Shooter</td>\n",
       "      <td>2.36</td>\n",
       "      <td>0.14</td>\n",
       "      <td>0.00</td>\n",
       "      <td>0.03</td>\n",
       "      <td>NaN</td>\n",
       "      <td>NaN</td>\n",
       "      <td>NaN</td>\n",
       "    </tr>\n",
       "  </tbody>\n",
       "</table>\n",
       "</div>"
      ],
      "text/plain": [
       "                           name platform  year_of_release     genre  na_sales  \\\n",
       "183             Madden NFL 2004      PS2              NaN    Sports      4.26   \n",
       "377            FIFA Soccer 2004      PS2              NaN    Sports      0.59   \n",
       "456  LEGO Batman: The Videogame      Wii              NaN    Action      1.80   \n",
       "475  wwe Smackdown vs. Raw 2006      PS2              NaN  Fighting      1.57   \n",
       "609              Space Invaders     2600              NaN   Shooter      2.36   \n",
       "\n",
       "     eu_sales  jp_sales  other_sales  critic_score user_score rating  \n",
       "183      0.26      0.01         0.71          94.0        8.5      E  \n",
       "377      2.36      0.04         0.51          84.0        6.4      E  \n",
       "456      0.97      0.00         0.29          74.0        7.9   E10+  \n",
       "475      1.02      0.00         0.41           NaN        NaN    NaN  \n",
       "609      0.14      0.00         0.03           NaN        NaN    NaN  "
      ]
     },
     "execution_count": 9,
     "metadata": {},
     "output_type": "execute_result"
    }
   ],
   "source": [
    "df[df['year_of_release'].isna() == True].head()"
   ]
  },
  {
   "cell_type": "markdown",
   "id": "3a206e6c",
   "metadata": {},
   "source": [
    "Напишем функцию которая вытаскивает из названия год если он находится в диапазоне 1985-2016"
   ]
  },
  {
   "cell_type": "code",
   "execution_count": 10,
   "id": "42028f8c",
   "metadata": {},
   "outputs": [],
   "source": [
    "def year(row):\n",
    "    years = [i for i in range(1985,2017)]\n",
    "    name = row['name']\n",
    "    text = name.split()\n",
    "    text[-1]\n",
    "    if text[-1].isnumeric():\n",
    "        is_year = int(text[-1])\n",
    "        if is_year in years:\n",
    "            return is_year"
   ]
  },
  {
   "cell_type": "markdown",
   "id": "f8cf17ba",
   "metadata": {},
   "source": [
    "применим функцию и заполним пропуски"
   ]
  },
  {
   "cell_type": "code",
   "execution_count": 11,
   "id": "d3e753c7",
   "metadata": {},
   "outputs": [
    {
     "name": "stderr",
     "output_type": "stream",
     "text": [
      "/tmp/ipykernel_85/3337826172.py:1: SettingWithCopyWarning: \n",
      "A value is trying to be set on a copy of a slice from a DataFrame.\n",
      "Try using .loc[row_indexer,col_indexer] = value instead\n",
      "\n",
      "See the caveats in the documentation: https://pandas.pydata.org/pandas-docs/stable/user_guide/indexing.html#returning-a-view-versus-a-copy\n",
      "  df['year'] = df.apply(year,axis=1)\n",
      "/tmp/ipykernel_85/3337826172.py:3: SettingWithCopyWarning: \n",
      "A value is trying to be set on a copy of a slice from a DataFrame.\n",
      "Try using .loc[row_indexer,col_indexer] = value instead\n",
      "\n",
      "See the caveats in the documentation: https://pandas.pydata.org/pandas-docs/stable/user_guide/indexing.html#returning-a-view-versus-a-copy\n",
      "  df['year_of_release'] = df['year_of_release'].fillna(df['year'])\n"
     ]
    }
   ],
   "source": [
    "df['year'] = df.apply(year,axis=1)\n",
    "\n",
    "df['year_of_release'] = df['year_of_release'].fillna(df['year'])\n",
    "df = df.drop(columns = ['year'],axis = 1)"
   ]
  },
  {
   "cell_type": "code",
   "execution_count": 12,
   "id": "05518b66",
   "metadata": {},
   "outputs": [
    {
     "data": {
      "text/plain": [
       "254"
      ]
     },
     "execution_count": 12,
     "metadata": {},
     "output_type": "execute_result"
    }
   ],
   "source": [
    "df['year_of_release'].isna().sum()"
   ]
  },
  {
   "cell_type": "markdown",
   "id": "faa8871e",
   "metadata": {},
   "source": [
    "Из 269 пропусков осталось 254, поскольку в дальнейшем анализ требуется делать в разрезе временных показателей, удалим эти строки."
   ]
  },
  {
   "cell_type": "code",
   "execution_count": 13,
   "id": "1fc0137a",
   "metadata": {},
   "outputs": [],
   "source": [
    "df = df[df['year_of_release'].isna() == False]\n",
    "df = df.astype({'year_of_release':int})"
   ]
  },
  {
   "cell_type": "markdown",
   "id": "9ee330ef",
   "metadata": {},
   "source": [
    "#### critic_score, user_score, rating"
   ]
  },
  {
   "cell_type": "code",
   "execution_count": 14,
   "id": "7582de5d",
   "metadata": {
    "scrolled": true
   },
   "outputs": [
    {
     "data": {
      "text/html": [
       "<div>\n",
       "<style scoped>\n",
       "    .dataframe tbody tr th:only-of-type {\n",
       "        vertical-align: middle;\n",
       "    }\n",
       "\n",
       "    .dataframe tbody tr th {\n",
       "        vertical-align: top;\n",
       "    }\n",
       "\n",
       "    .dataframe thead th {\n",
       "        text-align: right;\n",
       "    }\n",
       "</style>\n",
       "<table border=\"1\" class=\"dataframe\">\n",
       "  <thead>\n",
       "    <tr style=\"text-align: right;\">\n",
       "      <th></th>\n",
       "      <th>name</th>\n",
       "      <th>platform</th>\n",
       "      <th>year_of_release</th>\n",
       "      <th>genre</th>\n",
       "      <th>na_sales</th>\n",
       "      <th>eu_sales</th>\n",
       "      <th>jp_sales</th>\n",
       "      <th>other_sales</th>\n",
       "      <th>critic_score</th>\n",
       "      <th>user_score</th>\n",
       "      <th>rating</th>\n",
       "    </tr>\n",
       "  </thead>\n",
       "  <tbody>\n",
       "    <tr>\n",
       "      <th>1</th>\n",
       "      <td>Super Mario Bros.</td>\n",
       "      <td>NES</td>\n",
       "      <td>1985</td>\n",
       "      <td>Platform</td>\n",
       "      <td>29.08</td>\n",
       "      <td>3.58</td>\n",
       "      <td>6.81</td>\n",
       "      <td>0.77</td>\n",
       "      <td>NaN</td>\n",
       "      <td>NaN</td>\n",
       "      <td>NaN</td>\n",
       "    </tr>\n",
       "    <tr>\n",
       "      <th>4</th>\n",
       "      <td>Pokemon Red/Pokemon Blue</td>\n",
       "      <td>GB</td>\n",
       "      <td>1996</td>\n",
       "      <td>Role-Playing</td>\n",
       "      <td>11.27</td>\n",
       "      <td>8.89</td>\n",
       "      <td>10.22</td>\n",
       "      <td>1.00</td>\n",
       "      <td>NaN</td>\n",
       "      <td>NaN</td>\n",
       "      <td>NaN</td>\n",
       "    </tr>\n",
       "    <tr>\n",
       "      <th>5</th>\n",
       "      <td>Tetris</td>\n",
       "      <td>GB</td>\n",
       "      <td>1989</td>\n",
       "      <td>Puzzle</td>\n",
       "      <td>23.20</td>\n",
       "      <td>2.26</td>\n",
       "      <td>4.22</td>\n",
       "      <td>0.58</td>\n",
       "      <td>NaN</td>\n",
       "      <td>NaN</td>\n",
       "      <td>NaN</td>\n",
       "    </tr>\n",
       "    <tr>\n",
       "      <th>9</th>\n",
       "      <td>Duck Hunt</td>\n",
       "      <td>NES</td>\n",
       "      <td>1984</td>\n",
       "      <td>Shooter</td>\n",
       "      <td>26.93</td>\n",
       "      <td>0.63</td>\n",
       "      <td>0.28</td>\n",
       "      <td>0.47</td>\n",
       "      <td>NaN</td>\n",
       "      <td>NaN</td>\n",
       "      <td>NaN</td>\n",
       "    </tr>\n",
       "    <tr>\n",
       "      <th>10</th>\n",
       "      <td>Nintendogs</td>\n",
       "      <td>DS</td>\n",
       "      <td>2005</td>\n",
       "      <td>Simulation</td>\n",
       "      <td>9.05</td>\n",
       "      <td>10.95</td>\n",
       "      <td>1.93</td>\n",
       "      <td>2.74</td>\n",
       "      <td>NaN</td>\n",
       "      <td>NaN</td>\n",
       "      <td>NaN</td>\n",
       "    </tr>\n",
       "  </tbody>\n",
       "</table>\n",
       "</div>"
      ],
      "text/plain": [
       "                        name platform  year_of_release         genre  \\\n",
       "1          Super Mario Bros.      NES             1985      Platform   \n",
       "4   Pokemon Red/Pokemon Blue       GB             1996  Role-Playing   \n",
       "5                     Tetris       GB             1989        Puzzle   \n",
       "9                  Duck Hunt      NES             1984       Shooter   \n",
       "10                Nintendogs       DS             2005    Simulation   \n",
       "\n",
       "    na_sales  eu_sales  jp_sales  other_sales  critic_score user_score rating  \n",
       "1      29.08      3.58      6.81         0.77           NaN        NaN    NaN  \n",
       "4      11.27      8.89     10.22         1.00           NaN        NaN    NaN  \n",
       "5      23.20      2.26      4.22         0.58           NaN        NaN    NaN  \n",
       "9      26.93      0.63      0.28         0.47           NaN        NaN    NaN  \n",
       "10      9.05     10.95      1.93         2.74           NaN        NaN    NaN  "
      ]
     },
     "execution_count": 14,
     "metadata": {},
     "output_type": "execute_result"
    }
   ],
   "source": [
    "# Пропуски в оценке критиков\n",
    "df[df['critic_score'].isna() == True].head()"
   ]
  },
  {
   "cell_type": "markdown",
   "id": "c6d43a17",
   "metadata": {},
   "source": [
    "Значительное количество игр осталось без оценок, хотя на первых строках мы видим явные хиты например Super Mario или Tetris. Видимо на момент их выхода оценки не практиковались. Так же можно предположить, что не все игры оценивались критиками по причине их малой популярности.\n",
    "\n",
    "Заменим пропуски нулями, но предварительно проверим не занято ли это значение"
   ]
  },
  {
   "cell_type": "code",
   "execution_count": 15,
   "id": "b69df9c6",
   "metadata": {},
   "outputs": [
    {
     "data": {
      "text/plain": [
       "0"
      ]
     },
     "execution_count": 15,
     "metadata": {},
     "output_type": "execute_result"
    }
   ],
   "source": [
    "df.query('critic_score == 0' or 'user_score == 0')['name'].count()"
   ]
  },
  {
   "cell_type": "markdown",
   "id": "ed559c78",
   "metadata": {},
   "source": [
    "Заменим пропуски в critic_score, user_score на 0, rating на no_rating"
   ]
  },
  {
   "cell_type": "code",
   "execution_count": 16,
   "id": "272466c5",
   "metadata": {},
   "outputs": [],
   "source": [
    "# df.loc[df[['critic_score','user_score','rating']].isna(), [['critic_score','user_score','rating']]] = 0\n",
    "df[['critic_score','user_score']] = df[['critic_score','user_score']].fillna(0)\n",
    "df['rating'] = df['rating'].fillna('no_rating')"
   ]
  },
  {
   "cell_type": "markdown",
   "id": "618a3100",
   "metadata": {},
   "source": [
    "Проверка значений critic_score"
   ]
  },
  {
   "cell_type": "code",
   "execution_count": 17,
   "id": "8e4b96d4",
   "metadata": {
    "scrolled": true
   },
   "outputs": [
    {
     "data": {
      "text/plain": [
       "array([76.,  0., 82., 80., 89., 58., 87., 91., 61., 97., 95., 77., 88.,\n",
       "       83., 94., 93., 85., 86., 98., 96., 90., 84., 73., 74., 78., 92.,\n",
       "       71., 72., 68., 62., 49., 67., 81., 66., 56., 79., 70., 59., 64.,\n",
       "       75., 60., 63., 69., 50., 25., 42., 44., 55., 48., 57., 29., 47.,\n",
       "       65., 54., 20., 53., 37., 38., 33., 52., 30., 32., 43., 45., 51.,\n",
       "       40., 46., 39., 34., 41., 36., 31., 27., 35., 26., 19., 28., 23.,\n",
       "       24., 21., 17., 13.])"
      ]
     },
     "execution_count": 17,
     "metadata": {},
     "output_type": "execute_result"
    }
   ],
   "source": [
    "df.critic_score.unique()"
   ]
  },
  {
   "cell_type": "markdown",
   "id": "6f00e3c8",
   "metadata": {},
   "source": [
    "В колонке critic_score представлены целые числа, поэтому заменим на int"
   ]
  },
  {
   "cell_type": "code",
   "execution_count": 18,
   "id": "790efdcf",
   "metadata": {},
   "outputs": [],
   "source": [
    "df = df.astype({'critic_score':int})"
   ]
  },
  {
   "cell_type": "markdown",
   "id": "791a1284",
   "metadata": {},
   "source": [
    "Проверка значений user_score"
   ]
  },
  {
   "cell_type": "code",
   "execution_count": 19,
   "id": "c5fca2e1",
   "metadata": {},
   "outputs": [
    {
     "data": {
      "text/plain": [
       "array(['8', 0, '8.3', '8.5', '6.6', '8.4', '8.6', '7.7', '6.3', '7.4',\n",
       "       '8.2', '9', '7.9', '8.1', '8.7', '7.1', '3.4', '5.3', '4.8', '3.2',\n",
       "       '8.9', '6.4', '7.8', '7.5', '2.6', '7.2', '9.2', '7', '7.3', '4.3',\n",
       "       '7.6', '5.7', '5', '9.1', '6.5', 'tbd', '8.8', '6.9', '9.4', '6.8',\n",
       "       '6.1', '6.7', '5.4', '4', '4.9', '4.5', '9.3', '6.2', '4.2', '6',\n",
       "       '3.7', '4.1', '5.8', '5.6', '5.5', '4.4', '4.6', '5.9', '3.9',\n",
       "       '3.1', '2.9', '5.2', '3.3', '4.7', '5.1', '3.5', '2.5', '1.9', '3',\n",
       "       '2.7', '2.2', '2', '9.5', '2.1', '3.6', '2.8', '1.8', '3.8', '0',\n",
       "       '1.6', '9.6', '2.4', '1.7', '1.1', '0.3', '1.5', '0.7', '1.2',\n",
       "       '2.3', '0.5', '1.3', '0.2', '0.6', '1.4', '0.9', '1', '9.7'],\n",
       "      dtype=object)"
      ]
     },
     "execution_count": 19,
     "metadata": {},
     "output_type": "execute_result"
    }
   ],
   "source": [
    "df.user_score.unique()"
   ]
  },
  {
   "cell_type": "markdown",
   "id": "c7425dce",
   "metadata": {},
   "source": [
    "В колонке user_score помимо пропусков присутствует значение 'tbd' (to be done - рейтинга ещё нет). Заменим его на 0 и изменим тип на числовое значение"
   ]
  },
  {
   "cell_type": "code",
   "execution_count": 20,
   "id": "cf139ef9",
   "metadata": {},
   "outputs": [],
   "source": [
    "df.loc[df['user_score'] == 'tbd', 'user_score'] = 0\n",
    "df['user_score'] = pd.to_numeric(df['user_score'])"
   ]
  },
  {
   "cell_type": "markdown",
   "id": "4ed3f963",
   "metadata": {},
   "source": [
    "Проверка значений rating"
   ]
  },
  {
   "cell_type": "code",
   "execution_count": 21,
   "id": "c3b9efeb",
   "metadata": {},
   "outputs": [
    {
     "data": {
      "text/plain": [
       "array(['E', 'no_rating', 'M', 'T', 'E10+', 'K-A', 'AO', 'EC', 'RP'],\n",
       "      dtype=object)"
      ]
     },
     "execution_count": 21,
     "metadata": {},
     "output_type": "execute_result"
    }
   ],
   "source": [
    "df.rating.unique()"
   ]
  },
  {
   "cell_type": "code",
   "execution_count": 22,
   "id": "a53ffcad",
   "metadata": {
    "scrolled": true
   },
   "outputs": [
    {
     "data": {
      "text/plain": [
       "name               0\n",
       "platform           0\n",
       "year_of_release    0\n",
       "genre              0\n",
       "na_sales           0\n",
       "eu_sales           0\n",
       "jp_sales           0\n",
       "other_sales        0\n",
       "critic_score       0\n",
       "user_score         0\n",
       "rating             0\n",
       "dtype: int64"
      ]
     },
     "execution_count": 22,
     "metadata": {},
     "output_type": "execute_result"
    }
   ],
   "source": [
    "# Проверка на пропуски\n",
    "df.isna().sum()"
   ]
  },
  {
   "cell_type": "markdown",
   "id": "ceb95083",
   "metadata": {},
   "source": [
    "Посчитаем суммарные продажи во всех регионах"
   ]
  },
  {
   "cell_type": "code",
   "execution_count": 23,
   "id": "08b7f02f",
   "metadata": {},
   "outputs": [
    {
     "data": {
      "text/html": [
       "<div>\n",
       "<style scoped>\n",
       "    .dataframe tbody tr th:only-of-type {\n",
       "        vertical-align: middle;\n",
       "    }\n",
       "\n",
       "    .dataframe tbody tr th {\n",
       "        vertical-align: top;\n",
       "    }\n",
       "\n",
       "    .dataframe thead th {\n",
       "        text-align: right;\n",
       "    }\n",
       "</style>\n",
       "<table border=\"1\" class=\"dataframe\">\n",
       "  <thead>\n",
       "    <tr style=\"text-align: right;\">\n",
       "      <th></th>\n",
       "      <th>name</th>\n",
       "      <th>platform</th>\n",
       "      <th>year_of_release</th>\n",
       "      <th>genre</th>\n",
       "      <th>na_sales</th>\n",
       "      <th>eu_sales</th>\n",
       "      <th>jp_sales</th>\n",
       "      <th>other_sales</th>\n",
       "      <th>critic_score</th>\n",
       "      <th>user_score</th>\n",
       "      <th>rating</th>\n",
       "    </tr>\n",
       "  </thead>\n",
       "  <tbody>\n",
       "    <tr>\n",
       "      <th>0</th>\n",
       "      <td>Wii Sports</td>\n",
       "      <td>Wii</td>\n",
       "      <td>2006</td>\n",
       "      <td>Sports</td>\n",
       "      <td>41.36</td>\n",
       "      <td>28.96</td>\n",
       "      <td>3.77</td>\n",
       "      <td>8.45</td>\n",
       "      <td>76</td>\n",
       "      <td>8.0</td>\n",
       "      <td>E</td>\n",
       "    </tr>\n",
       "    <tr>\n",
       "      <th>1</th>\n",
       "      <td>Super Mario Bros.</td>\n",
       "      <td>NES</td>\n",
       "      <td>1985</td>\n",
       "      <td>Platform</td>\n",
       "      <td>29.08</td>\n",
       "      <td>3.58</td>\n",
       "      <td>6.81</td>\n",
       "      <td>0.77</td>\n",
       "      <td>0</td>\n",
       "      <td>0.0</td>\n",
       "      <td>no_rating</td>\n",
       "    </tr>\n",
       "    <tr>\n",
       "      <th>2</th>\n",
       "      <td>Mario Kart Wii</td>\n",
       "      <td>Wii</td>\n",
       "      <td>2008</td>\n",
       "      <td>Racing</td>\n",
       "      <td>15.68</td>\n",
       "      <td>12.76</td>\n",
       "      <td>3.79</td>\n",
       "      <td>3.29</td>\n",
       "      <td>82</td>\n",
       "      <td>8.3</td>\n",
       "      <td>E</td>\n",
       "    </tr>\n",
       "    <tr>\n",
       "      <th>3</th>\n",
       "      <td>Wii Sports Resort</td>\n",
       "      <td>Wii</td>\n",
       "      <td>2009</td>\n",
       "      <td>Sports</td>\n",
       "      <td>15.61</td>\n",
       "      <td>10.93</td>\n",
       "      <td>3.28</td>\n",
       "      <td>2.95</td>\n",
       "      <td>80</td>\n",
       "      <td>8.0</td>\n",
       "      <td>E</td>\n",
       "    </tr>\n",
       "    <tr>\n",
       "      <th>4</th>\n",
       "      <td>Pokemon Red/Pokemon Blue</td>\n",
       "      <td>GB</td>\n",
       "      <td>1996</td>\n",
       "      <td>Role-Playing</td>\n",
       "      <td>11.27</td>\n",
       "      <td>8.89</td>\n",
       "      <td>10.22</td>\n",
       "      <td>1.00</td>\n",
       "      <td>0</td>\n",
       "      <td>0.0</td>\n",
       "      <td>no_rating</td>\n",
       "    </tr>\n",
       "    <tr>\n",
       "      <th>...</th>\n",
       "      <td>...</td>\n",
       "      <td>...</td>\n",
       "      <td>...</td>\n",
       "      <td>...</td>\n",
       "      <td>...</td>\n",
       "      <td>...</td>\n",
       "      <td>...</td>\n",
       "      <td>...</td>\n",
       "      <td>...</td>\n",
       "      <td>...</td>\n",
       "      <td>...</td>\n",
       "    </tr>\n",
       "    <tr>\n",
       "      <th>16710</th>\n",
       "      <td>Samurai Warriors: Sanada Maru</td>\n",
       "      <td>PS3</td>\n",
       "      <td>2016</td>\n",
       "      <td>Action</td>\n",
       "      <td>0.00</td>\n",
       "      <td>0.00</td>\n",
       "      <td>0.01</td>\n",
       "      <td>0.00</td>\n",
       "      <td>0</td>\n",
       "      <td>0.0</td>\n",
       "      <td>no_rating</td>\n",
       "    </tr>\n",
       "    <tr>\n",
       "      <th>16711</th>\n",
       "      <td>LMA Manager 2007</td>\n",
       "      <td>X360</td>\n",
       "      <td>2006</td>\n",
       "      <td>Sports</td>\n",
       "      <td>0.00</td>\n",
       "      <td>0.01</td>\n",
       "      <td>0.00</td>\n",
       "      <td>0.00</td>\n",
       "      <td>0</td>\n",
       "      <td>0.0</td>\n",
       "      <td>no_rating</td>\n",
       "    </tr>\n",
       "    <tr>\n",
       "      <th>16712</th>\n",
       "      <td>Haitaka no Psychedelica</td>\n",
       "      <td>PSV</td>\n",
       "      <td>2016</td>\n",
       "      <td>Adventure</td>\n",
       "      <td>0.00</td>\n",
       "      <td>0.00</td>\n",
       "      <td>0.01</td>\n",
       "      <td>0.00</td>\n",
       "      <td>0</td>\n",
       "      <td>0.0</td>\n",
       "      <td>no_rating</td>\n",
       "    </tr>\n",
       "    <tr>\n",
       "      <th>16713</th>\n",
       "      <td>Spirits &amp; Spells</td>\n",
       "      <td>GBA</td>\n",
       "      <td>2003</td>\n",
       "      <td>Platform</td>\n",
       "      <td>0.01</td>\n",
       "      <td>0.00</td>\n",
       "      <td>0.00</td>\n",
       "      <td>0.00</td>\n",
       "      <td>0</td>\n",
       "      <td>0.0</td>\n",
       "      <td>no_rating</td>\n",
       "    </tr>\n",
       "    <tr>\n",
       "      <th>16714</th>\n",
       "      <td>Winning Post 8 2016</td>\n",
       "      <td>PSV</td>\n",
       "      <td>2016</td>\n",
       "      <td>Simulation</td>\n",
       "      <td>0.00</td>\n",
       "      <td>0.00</td>\n",
       "      <td>0.01</td>\n",
       "      <td>0.00</td>\n",
       "      <td>0</td>\n",
       "      <td>0.0</td>\n",
       "      <td>no_rating</td>\n",
       "    </tr>\n",
       "  </tbody>\n",
       "</table>\n",
       "<p>16459 rows × 11 columns</p>\n",
       "</div>"
      ],
      "text/plain": [
       "                                name platform  year_of_release         genre  \\\n",
       "0                         Wii Sports      Wii             2006        Sports   \n",
       "1                  Super Mario Bros.      NES             1985      Platform   \n",
       "2                     Mario Kart Wii      Wii             2008        Racing   \n",
       "3                  Wii Sports Resort      Wii             2009        Sports   \n",
       "4           Pokemon Red/Pokemon Blue       GB             1996  Role-Playing   \n",
       "...                              ...      ...              ...           ...   \n",
       "16710  Samurai Warriors: Sanada Maru      PS3             2016        Action   \n",
       "16711               LMA Manager 2007     X360             2006        Sports   \n",
       "16712        Haitaka no Psychedelica      PSV             2016     Adventure   \n",
       "16713               Spirits & Spells      GBA             2003      Platform   \n",
       "16714            Winning Post 8 2016      PSV             2016    Simulation   \n",
       "\n",
       "       na_sales  eu_sales  jp_sales  other_sales  critic_score  user_score  \\\n",
       "0         41.36     28.96      3.77         8.45            76         8.0   \n",
       "1         29.08      3.58      6.81         0.77             0         0.0   \n",
       "2         15.68     12.76      3.79         3.29            82         8.3   \n",
       "3         15.61     10.93      3.28         2.95            80         8.0   \n",
       "4         11.27      8.89     10.22         1.00             0         0.0   \n",
       "...         ...       ...       ...          ...           ...         ...   \n",
       "16710      0.00      0.00      0.01         0.00             0         0.0   \n",
       "16711      0.00      0.01      0.00         0.00             0         0.0   \n",
       "16712      0.00      0.00      0.01         0.00             0         0.0   \n",
       "16713      0.01      0.00      0.00         0.00             0         0.0   \n",
       "16714      0.00      0.00      0.01         0.00             0         0.0   \n",
       "\n",
       "          rating  \n",
       "0              E  \n",
       "1      no_rating  \n",
       "2              E  \n",
       "3              E  \n",
       "4      no_rating  \n",
       "...          ...  \n",
       "16710  no_rating  \n",
       "16711  no_rating  \n",
       "16712  no_rating  \n",
       "16713  no_rating  \n",
       "16714  no_rating  \n",
       "\n",
       "[16459 rows x 11 columns]"
      ]
     },
     "execution_count": 23,
     "metadata": {},
     "output_type": "execute_result"
    }
   ],
   "source": [
    "df"
   ]
  },
  {
   "cell_type": "code",
   "execution_count": 24,
   "id": "6cc13708",
   "metadata": {},
   "outputs": [
    {
     "data": {
      "text/html": [
       "<div>\n",
       "<style scoped>\n",
       "    .dataframe tbody tr th:only-of-type {\n",
       "        vertical-align: middle;\n",
       "    }\n",
       "\n",
       "    .dataframe tbody tr th {\n",
       "        vertical-align: top;\n",
       "    }\n",
       "\n",
       "    .dataframe thead th {\n",
       "        text-align: right;\n",
       "    }\n",
       "</style>\n",
       "<table border=\"1\" class=\"dataframe\">\n",
       "  <thead>\n",
       "    <tr style=\"text-align: right;\">\n",
       "      <th></th>\n",
       "      <th>name</th>\n",
       "      <th>platform</th>\n",
       "      <th>year_of_release</th>\n",
       "      <th>genre</th>\n",
       "      <th>na_sales</th>\n",
       "      <th>eu_sales</th>\n",
       "      <th>jp_sales</th>\n",
       "      <th>other_sales</th>\n",
       "      <th>critic_score</th>\n",
       "      <th>user_score</th>\n",
       "      <th>rating</th>\n",
       "      <th>total_sales</th>\n",
       "    </tr>\n",
       "  </thead>\n",
       "  <tbody>\n",
       "    <tr>\n",
       "      <th>0</th>\n",
       "      <td>Wii Sports</td>\n",
       "      <td>Wii</td>\n",
       "      <td>2006</td>\n",
       "      <td>Sports</td>\n",
       "      <td>41.36</td>\n",
       "      <td>28.96</td>\n",
       "      <td>3.77</td>\n",
       "      <td>8.45</td>\n",
       "      <td>76</td>\n",
       "      <td>8.0</td>\n",
       "      <td>E</td>\n",
       "      <td>82.54</td>\n",
       "    </tr>\n",
       "    <tr>\n",
       "      <th>1</th>\n",
       "      <td>Super Mario Bros.</td>\n",
       "      <td>NES</td>\n",
       "      <td>1985</td>\n",
       "      <td>Platform</td>\n",
       "      <td>29.08</td>\n",
       "      <td>3.58</td>\n",
       "      <td>6.81</td>\n",
       "      <td>0.77</td>\n",
       "      <td>0</td>\n",
       "      <td>0.0</td>\n",
       "      <td>no_rating</td>\n",
       "      <td>40.24</td>\n",
       "    </tr>\n",
       "    <tr>\n",
       "      <th>2</th>\n",
       "      <td>Mario Kart Wii</td>\n",
       "      <td>Wii</td>\n",
       "      <td>2008</td>\n",
       "      <td>Racing</td>\n",
       "      <td>15.68</td>\n",
       "      <td>12.76</td>\n",
       "      <td>3.79</td>\n",
       "      <td>3.29</td>\n",
       "      <td>82</td>\n",
       "      <td>8.3</td>\n",
       "      <td>E</td>\n",
       "      <td>35.52</td>\n",
       "    </tr>\n",
       "    <tr>\n",
       "      <th>3</th>\n",
       "      <td>Wii Sports Resort</td>\n",
       "      <td>Wii</td>\n",
       "      <td>2009</td>\n",
       "      <td>Sports</td>\n",
       "      <td>15.61</td>\n",
       "      <td>10.93</td>\n",
       "      <td>3.28</td>\n",
       "      <td>2.95</td>\n",
       "      <td>80</td>\n",
       "      <td>8.0</td>\n",
       "      <td>E</td>\n",
       "      <td>32.77</td>\n",
       "    </tr>\n",
       "    <tr>\n",
       "      <th>4</th>\n",
       "      <td>Pokemon Red/Pokemon Blue</td>\n",
       "      <td>GB</td>\n",
       "      <td>1996</td>\n",
       "      <td>Role-Playing</td>\n",
       "      <td>11.27</td>\n",
       "      <td>8.89</td>\n",
       "      <td>10.22</td>\n",
       "      <td>1.00</td>\n",
       "      <td>0</td>\n",
       "      <td>0.0</td>\n",
       "      <td>no_rating</td>\n",
       "      <td>31.38</td>\n",
       "    </tr>\n",
       "  </tbody>\n",
       "</table>\n",
       "</div>"
      ],
      "text/plain": [
       "                       name platform  year_of_release         genre  na_sales  \\\n",
       "0                Wii Sports      Wii             2006        Sports     41.36   \n",
       "1         Super Mario Bros.      NES             1985      Platform     29.08   \n",
       "2            Mario Kart Wii      Wii             2008        Racing     15.68   \n",
       "3         Wii Sports Resort      Wii             2009        Sports     15.61   \n",
       "4  Pokemon Red/Pokemon Blue       GB             1996  Role-Playing     11.27   \n",
       "\n",
       "   eu_sales  jp_sales  other_sales  critic_score  user_score     rating  \\\n",
       "0     28.96      3.77         8.45            76         8.0          E   \n",
       "1      3.58      6.81         0.77             0         0.0  no_rating   \n",
       "2     12.76      3.79         3.29            82         8.3          E   \n",
       "3     10.93      3.28         2.95            80         8.0          E   \n",
       "4      8.89     10.22         1.00             0         0.0  no_rating   \n",
       "\n",
       "   total_sales  \n",
       "0        82.54  \n",
       "1        40.24  \n",
       "2        35.52  \n",
       "3        32.77  \n",
       "4        31.38  "
      ]
     },
     "execution_count": 24,
     "metadata": {},
     "output_type": "execute_result"
    }
   ],
   "source": [
    "df['total_sales'] = df['na_sales'] + df['eu_sales'] + df['jp_sales']+df['other_sales']\n",
    "df.head()"
   ]
  },
  {
   "cell_type": "markdown",
   "id": "c24b8851",
   "metadata": {},
   "source": [
    "### Вывод\n",
    "\n",
    "В процессе подготовки данных:\n",
    "- привели названия колонок к нижнему регистру,\n",
    "- заменили типы данных в годе выпуска, оценке критиков и оценке пользователей,\n",
    "- пропуски в годе выпуска заполнили из названия игр, что не заменилось удалили,\n",
    "- пропуски в оценках и рейтинге были заменены на 0 подразумевая отсутствие значения,\n",
    "- пропуски в названии игр были удалены,\n",
    "- добавили колонку суммарных продаж."
   ]
  },
  {
   "cell_type": "markdown",
   "id": "3caf7bb3",
   "metadata": {},
   "source": [
    "### Шаг 3. Исследовательский анализ данных"
   ]
  },
  {
   "cell_type": "markdown",
   "id": "be6e559b",
   "metadata": {},
   "source": [
    "#### Сколько игр выпускалось в разные годы"
   ]
  },
  {
   "cell_type": "code",
   "execution_count": 25,
   "id": "0d9f7549",
   "metadata": {},
   "outputs": [],
   "source": [
    "years = df.groupby('year_of_release',as_index=False)['platform'].count()\n",
    "years.columns = ['year','count']"
   ]
  },
  {
   "cell_type": "code",
   "execution_count": 26,
   "id": "69e90a1c",
   "metadata": {},
   "outputs": [
    {
     "data": {
      "text/plain": [
       "Text(0, 0.5, 'Количество')"
      ]
     },
     "execution_count": 26,
     "metadata": {},
     "output_type": "execute_result"
    },
    {
     "data": {
      "image/png": "[encoded data removed]",
      "text/plain": [
       "<Figure size 1440x576 with 1 Axes>"
      ]
     },
     "metadata": {
      "needs_background": "light"
     },
     "output_type": "display_data"
    }
   ],
   "source": [
    "fig, ax = plt.subplots(figsize=(20, 8))\n",
    "\n",
    "ax = sns.barplot(x='year', y='count', data=years, palette='Greens_d')\n",
    "\n",
    "plt.title('График выпуска игр по годам',fontsize = 20)\n",
    "plt.xlabel('Год выпуска',fontsize = 15)\n",
    "plt.ylabel('Количество',fontsize = 15)"
   ]
  },
  {
   "cell_type": "markdown",
   "id": "e5a209d8",
   "metadata": {},
   "source": [
    "Пик выпуска новых игр приходится на 2008, 2009 годы, далее мы видим снижение. В 2012 году выпуск игр упал почти в 2 раза и дальше идет постепенное снижение. Проверим выручку по годам."
   ]
  },
  {
   "cell_type": "markdown",
   "id": "00c13771",
   "metadata": {},
   "source": [
    "Посчитаем количество проданных копий по годам"
   ]
  },
  {
   "cell_type": "code",
   "execution_count": 27,
   "id": "fa7a0f23",
   "metadata": {},
   "outputs": [],
   "source": [
    "sales = df.groupby('year_of_release',as_index=False)['total_sales'].sum()\n",
    "sales.columns = ['year','sales']"
   ]
  },
  {
   "cell_type": "code",
   "execution_count": 28,
   "id": "af59680c",
   "metadata": {},
   "outputs": [
    {
     "data": {
      "text/plain": [
       "Text(0, 0.5, 'Миллионы копий')"
      ]
     },
     "execution_count": 28,
     "metadata": {},
     "output_type": "execute_result"
    },
    {
     "data": {
      "image/png": "[encoded data removed]",
      "text/plain": [
       "<Figure size 1440x576 with 1 Axes>"
      ]
     },
     "metadata": {
      "needs_background": "light"
     },
     "output_type": "display_data"
    }
   ],
   "source": [
    "fig, ax = plt.subplots(figsize=(20, 8))\n",
    "ax = sns.barplot(x='year', y='sales', data=sales, palette='Blues_d')\n",
    "\n",
    "plt.title('Продажи игр по годам',fontsize = 20)\n",
    "plt.xlabel('Год выпуска',fontsize = 15)\n",
    "plt.ylabel('Миллионы копий',fontsize = 15)"
   ]
  },
  {
   "cell_type": "markdown",
   "id": "0d64db5a",
   "metadata": {},
   "source": [
    "Пик продаж игр так же приходится на 2008 и 2009 годы. Даалее продажи падают, причем в последний 2016 продажи упали почти в 2 раза по сравнениб с 2015 годом.  "
   ]
  },
  {
   "cell_type": "markdown",
   "id": "081b6972",
   "metadata": {},
   "source": [
    "#### Как менялись продажи по платформам. Платформы с наибольшими суммарными продажами."
   ]
  },
  {
   "cell_type": "markdown",
   "id": "a3e9d136",
   "metadata": {},
   "source": [
    "Выведем топ платформ по продажам больше 75 квартиля"
   ]
  },
  {
   "cell_type": "code",
   "execution_count": 29,
   "id": "cfb41fc6",
   "metadata": {},
   "outputs": [
    {
     "data": {
      "text/html": [
       "<div>\n",
       "<style scoped>\n",
       "    .dataframe tbody tr th:only-of-type {\n",
       "        vertical-align: middle;\n",
       "    }\n",
       "\n",
       "    .dataframe tbody tr th {\n",
       "        vertical-align: top;\n",
       "    }\n",
       "\n",
       "    .dataframe thead th {\n",
       "        text-align: right;\n",
       "    }\n",
       "</style>\n",
       "<table border=\"1\" class=\"dataframe\">\n",
       "  <thead>\n",
       "    <tr style=\"text-align: right;\">\n",
       "      <th></th>\n",
       "      <th>total_sales</th>\n",
       "    </tr>\n",
       "    <tr>\n",
       "      <th>platform</th>\n",
       "      <th></th>\n",
       "    </tr>\n",
       "  </thead>\n",
       "  <tbody>\n",
       "    <tr>\n",
       "      <th>PS2</th>\n",
       "      <td>1247.28</td>\n",
       "    </tr>\n",
       "    <tr>\n",
       "      <th>X360</th>\n",
       "      <td>961.30</td>\n",
       "    </tr>\n",
       "    <tr>\n",
       "      <th>PS3</th>\n",
       "      <td>931.34</td>\n",
       "    </tr>\n",
       "    <tr>\n",
       "      <th>Wii</th>\n",
       "      <td>891.18</td>\n",
       "    </tr>\n",
       "    <tr>\n",
       "      <th>DS</th>\n",
       "      <td>802.79</td>\n",
       "    </tr>\n",
       "    <tr>\n",
       "      <th>PS</th>\n",
       "      <td>727.58</td>\n",
       "    </tr>\n",
       "    <tr>\n",
       "      <th>PS4</th>\n",
       "      <td>314.14</td>\n",
       "    </tr>\n",
       "    <tr>\n",
       "      <th>GBA</th>\n",
       "      <td>312.88</td>\n",
       "    </tr>\n",
       "  </tbody>\n",
       "</table>\n",
       "</div>"
      ],
      "text/plain": [
       "          total_sales\n",
       "platform             \n",
       "PS2           1247.28\n",
       "X360           961.30\n",
       "PS3            931.34\n",
       "Wii            891.18\n",
       "DS             802.79\n",
       "PS             727.58\n",
       "PS4            314.14\n",
       "GBA            312.88"
      ]
     },
     "execution_count": 29,
     "metadata": {},
     "output_type": "execute_result"
    }
   ],
   "source": [
    "platform_top = df.pivot_table(index='platform', values='total_sales', aggfunc='sum')\\\n",
    "                .query('total_sales > total_sales.quantile(0.75)').sort_values(by='total_sales',ascending=False)\n",
    "top = list(platform_top.index)\n",
    "platform_top"
   ]
  },
  {
   "cell_type": "markdown",
   "id": "14514d41",
   "metadata": {},
   "source": [
    "Построим графики по продажам игр по топ платформам"
   ]
  },
  {
   "cell_type": "code",
   "execution_count": 30,
   "id": "8c914a5d",
   "metadata": {},
   "outputs": [],
   "source": [
    "# Сводная таблица топ платформ для графика\n",
    "platform_sales = df.pivot_table(index='year_of_release',columns='platform',values='total_sales',aggfunc='sum')\n",
    "platform_top_sales = platform_sales.loc[:, top]"
   ]
  },
  {
   "cell_type": "code",
   "execution_count": 31,
   "id": "a2013979",
   "metadata": {
    "scrolled": false
   },
   "outputs": [
    {
     "data": {
      "image/png": "[encoded data removed]",
      "text/plain": [
       "<Figure size 1152x432 with 1 Axes>"
      ]
     },
     "metadata": {
      "needs_background": "light"
     },
     "output_type": "display_data"
    }
   ],
   "source": [
    "plt.figure(figsize=(16,6))\n",
    "\n",
    "plt.plot(platform_top_sales.index, platform_top_sales)\n",
    "\n",
    "plt.title('Платформы с максимальными продажами',fontsize = 20)\n",
    "plt.xlim(left=1993)\n",
    "plt.ylabel('Миллионы копий',fontsize = 15)\n",
    "plt.xlabel('Год выпуска',fontsize = 15)\n",
    "plt.legend(platform_top_sales,loc='upper left', fontsize=12)\n",
    "plt.grid()\n",
    "\n",
    "plt.show()"
   ]
  },
  {
   "cell_type": "markdown",
   "id": "70d4acfe",
   "metadata": {},
   "source": [
    "**Комментарий к графику**:\n",
    "Хотя график и не очень крвсивый, по нему мы видим, явно прослеживается жизненный цикл платформы. Наблюдаем старт, рост, пик, падение продаж и закрытие платформы. С начала жизни игровой индустрии доминировали продукты SONY. После 2005 года активно подтянулись Nintendo и Microsoft. Для сохранения интереса пользователей к своим продуктам производители обновляли свои игровые платформы создавая цепочку их развития, как например PS-PS2-PS3-PS4.\n",
    "\n",
    "В период 1995-2000 годы максимум продавалась платформа PS\n",
    "2000-2005 - PS2\n",
    "2005-2010 - Wii"
   ]
  },
  {
   "cell_type": "code",
   "execution_count": 32,
   "id": "9f35710d",
   "metadata": {},
   "outputs": [
    {
     "data": {
      "image/png": "[encoded data removed]",
      "text/plain": [
       "<Figure size 1152x432 with 1 Axes>"
      ]
     },
     "metadata": {
      "needs_background": "light"
     },
     "output_type": "display_data"
    }
   ],
   "source": [
    "platform_top_sales.plot.area(figsize=(16,6))\n",
    "plt.xlim(left=1993)\n",
    "\n",
    "plt.title('Количество продаж по платформам',fontsize = 20)\n",
    "plt.ylabel('Миллионы копий',fontsize = 15)\n",
    "plt.xlabel('Год выпуска',fontsize = 15)\n",
    "plt.grid()"
   ]
  },
  {
   "cell_type": "markdown",
   "id": "ba8f1028",
   "metadata": {},
   "source": [
    "**Комментарий к графику**:\n",
    "График более информативен в разрезе продаж платформенной игровой индустрии. Как ранее было сказано, с начала доминировали продукты SONY. После 2005 года активно подтянулись Nintendo и Microsoft. В целом видим рост всей игровой индустрии до 2007 года, после пика идет явный спад и даже появление новых платформ не сильно влияет на общее снижение продаж."
   ]
  },
  {
   "cell_type": "markdown",
   "id": "1661c11f",
   "metadata": {},
   "source": [
    "#### За какой характерный срок появляются новые и исчезают старые платформы?"
   ]
  },
  {
   "cell_type": "code",
   "execution_count": 33,
   "id": "2770b700",
   "metadata": {},
   "outputs": [],
   "source": [
    "platform_lifetime = df.groupby('platform').agg({'year_of_release':['min','max']})#.sort_values(('year_of_release','min'))\n",
    "platform_lifetime.columns = ['year_min','year_max']\n",
    "platform_lifetime['lifetime'] = platform_lifetime['year_max']-platform_lifetime['year_min']+1"
   ]
  },
  {
   "cell_type": "code",
   "execution_count": 34,
   "id": "6159a795",
   "metadata": {
    "scrolled": false
   },
   "outputs": [
    {
     "data": {
      "image/png": "[encoded data removed]",
      "text/plain": [
       "<Figure size 432x288 with 1 Axes>"
      ]
     },
     "metadata": {
      "needs_background": "light"
     },
     "output_type": "display_data"
    }
   ],
   "source": [
    "sns.boxplot(data=platform_lifetime['lifetime'], orient='h')\n",
    "\n",
    "plt.title('Средняя продолжительность жизни игровой платформы')\n",
    "plt.xlabel('Продолжительность лет')\n",
    "\n",
    "plt.show()"
   ]
  },
  {
   "cell_type": "code",
   "execution_count": 35,
   "id": "700e3209",
   "metadata": {},
   "outputs": [
    {
     "data": {
      "text/plain": [
       "7.0"
      ]
     },
     "execution_count": 35,
     "metadata": {},
     "output_type": "execute_result"
    }
   ],
   "source": [
    "platform_lifetime['lifetime'].median()"
   ]
  },
  {
   "cell_type": "markdown",
   "id": "76bcb0f7",
   "metadata": {},
   "source": [
    "Средняя продолжительность жизни игровой платформы(медиана) составляет 7 лет. Поскольку есть платформы чей жизненный цикл к 2016 году еще не закончился, рассчитаем среднее по уже закрывшимся платформам"
   ]
  },
  {
   "cell_type": "code",
   "execution_count": 36,
   "id": "e8729e4b",
   "metadata": {},
   "outputs": [
    {
     "data": {
      "text/plain": [
       "8.0"
      ]
     },
     "execution_count": 36,
     "metadata": {},
     "output_type": "execute_result"
    }
   ],
   "source": [
    "platform_lifetime.query('year_max < 2016')['lifetime'].mean()"
   ]
  },
  {
   "cell_type": "markdown",
   "id": "b87be002",
   "metadata": {},
   "source": [
    "Средняя продолжительность жизни игровой платформы 8 лет. При этом есть долгожители которые на момент 2016 года еще не закрылись."
   ]
  },
  {
   "cell_type": "markdown",
   "id": "a2858ddf",
   "metadata": {},
   "source": [
    "#### Определим актуальный период для анализа данных\n",
    "Посмотрим количество игрвых платформ актуальных в разрезе года выпуска игр"
   ]
  },
  {
   "cell_type": "code",
   "execution_count": 37,
   "id": "15b6d7dc",
   "metadata": {},
   "outputs": [
    {
     "data": {
      "text/html": [
       "<div>\n",
       "<style scoped>\n",
       "    .dataframe tbody tr th:only-of-type {\n",
       "        vertical-align: middle;\n",
       "    }\n",
       "\n",
       "    .dataframe tbody tr th {\n",
       "        vertical-align: top;\n",
       "    }\n",
       "\n",
       "    .dataframe thead th {\n",
       "        text-align: right;\n",
       "    }\n",
       "</style>\n",
       "<table border=\"1\" class=\"dataframe\">\n",
       "  <thead>\n",
       "    <tr style=\"text-align: right;\">\n",
       "      <th></th>\n",
       "      <th>year_of_release</th>\n",
       "      <th>platform</th>\n",
       "    </tr>\n",
       "  </thead>\n",
       "  <tbody>\n",
       "    <tr>\n",
       "      <th>36</th>\n",
       "      <td>2016</td>\n",
       "      <td>9</td>\n",
       "    </tr>\n",
       "    <tr>\n",
       "      <th>35</th>\n",
       "      <td>2015</td>\n",
       "      <td>10</td>\n",
       "    </tr>\n",
       "    <tr>\n",
       "      <th>34</th>\n",
       "      <td>2014</td>\n",
       "      <td>10</td>\n",
       "    </tr>\n",
       "    <tr>\n",
       "      <th>33</th>\n",
       "      <td>2013</td>\n",
       "      <td>11</td>\n",
       "    </tr>\n",
       "    <tr>\n",
       "      <th>32</th>\n",
       "      <td>2012</td>\n",
       "      <td>9</td>\n",
       "    </tr>\n",
       "    <tr>\n",
       "      <th>31</th>\n",
       "      <td>2011</td>\n",
       "      <td>9</td>\n",
       "    </tr>\n",
       "    <tr>\n",
       "      <th>30</th>\n",
       "      <td>2010</td>\n",
       "      <td>7</td>\n",
       "    </tr>\n",
       "    <tr>\n",
       "      <th>29</th>\n",
       "      <td>2009</td>\n",
       "      <td>7</td>\n",
       "    </tr>\n",
       "    <tr>\n",
       "      <th>28</th>\n",
       "      <td>2008</td>\n",
       "      <td>9</td>\n",
       "    </tr>\n",
       "    <tr>\n",
       "      <th>27</th>\n",
       "      <td>2007</td>\n",
       "      <td>11</td>\n",
       "    </tr>\n",
       "  </tbody>\n",
       "</table>\n",
       "</div>"
      ],
      "text/plain": [
       "    year_of_release  platform\n",
       "36             2016         9\n",
       "35             2015        10\n",
       "34             2014        10\n",
       "33             2013        11\n",
       "32             2012         9\n",
       "31             2011         9\n",
       "30             2010         7\n",
       "29             2009         7\n",
       "28             2008         9\n",
       "27             2007        11"
      ]
     },
     "execution_count": 37,
     "metadata": {},
     "output_type": "execute_result"
    }
   ],
   "source": [
    "df.groupby(['year_of_release'],as_index=False)['platform'].nunique().sort_values(by='year_of_release',ascending=False).head(10)"
   ]
  },
  {
   "cell_type": "markdown",
   "id": "4542a312",
   "metadata": {},
   "source": [
    "Количество игровых платформ меняется с течением времени. Последний пик приходится на 2013 год затем идет снижение количества живых платформ. Предположим, что релевантные продажи игр вряд ли продолжаются больше 4 лет после релиза. Примем за актуальный период 2013-2016 годы."
   ]
  },
  {
   "cell_type": "code",
   "execution_count": 38,
   "id": "80b7fb11",
   "metadata": {},
   "outputs": [],
   "source": [
    "actual_df = df.query('year_of_release >= 2013')"
   ]
  },
  {
   "cell_type": "code",
   "execution_count": 39,
   "id": "e41d5f28",
   "metadata": {},
   "outputs": [
    {
     "data": {
      "text/html": [
       "<div>\n",
       "<style scoped>\n",
       "    .dataframe tbody tr th:only-of-type {\n",
       "        vertical-align: middle;\n",
       "    }\n",
       "\n",
       "    .dataframe tbody tr th {\n",
       "        vertical-align: top;\n",
       "    }\n",
       "\n",
       "    .dataframe thead th {\n",
       "        text-align: right;\n",
       "    }\n",
       "</style>\n",
       "<table border=\"1\" class=\"dataframe\">\n",
       "  <thead>\n",
       "    <tr style=\"text-align: right;\">\n",
       "      <th>platform</th>\n",
       "      <th>3DS</th>\n",
       "      <th>DS</th>\n",
       "      <th>PC</th>\n",
       "      <th>PS3</th>\n",
       "      <th>PS4</th>\n",
       "      <th>PSP</th>\n",
       "      <th>PSV</th>\n",
       "      <th>Wii</th>\n",
       "      <th>WiiU</th>\n",
       "      <th>X360</th>\n",
       "      <th>XOne</th>\n",
       "    </tr>\n",
       "    <tr>\n",
       "      <th>year_of_release</th>\n",
       "      <th></th>\n",
       "      <th></th>\n",
       "      <th></th>\n",
       "      <th></th>\n",
       "      <th></th>\n",
       "      <th></th>\n",
       "      <th></th>\n",
       "      <th></th>\n",
       "      <th></th>\n",
       "      <th></th>\n",
       "      <th></th>\n",
       "    </tr>\n",
       "  </thead>\n",
       "  <tbody>\n",
       "    <tr>\n",
       "      <th>2013</th>\n",
       "      <td>56.57</td>\n",
       "      <td>1.54</td>\n",
       "      <td>12.38</td>\n",
       "      <td>113.25</td>\n",
       "      <td>25.99</td>\n",
       "      <td>3.14</td>\n",
       "      <td>10.59</td>\n",
       "      <td>8.59</td>\n",
       "      <td>21.65</td>\n",
       "      <td>88.58</td>\n",
       "      <td>18.96</td>\n",
       "    </tr>\n",
       "    <tr>\n",
       "      <th>2014</th>\n",
       "      <td>43.76</td>\n",
       "      <td>NaN</td>\n",
       "      <td>13.28</td>\n",
       "      <td>47.76</td>\n",
       "      <td>100.00</td>\n",
       "      <td>0.24</td>\n",
       "      <td>11.90</td>\n",
       "      <td>3.75</td>\n",
       "      <td>22.03</td>\n",
       "      <td>34.74</td>\n",
       "      <td>54.07</td>\n",
       "    </tr>\n",
       "    <tr>\n",
       "      <th>2015</th>\n",
       "      <td>27.78</td>\n",
       "      <td>NaN</td>\n",
       "      <td>8.52</td>\n",
       "      <td>16.82</td>\n",
       "      <td>118.90</td>\n",
       "      <td>0.12</td>\n",
       "      <td>6.25</td>\n",
       "      <td>1.14</td>\n",
       "      <td>16.35</td>\n",
       "      <td>11.96</td>\n",
       "      <td>60.14</td>\n",
       "    </tr>\n",
       "    <tr>\n",
       "      <th>2016</th>\n",
       "      <td>15.14</td>\n",
       "      <td>NaN</td>\n",
       "      <td>5.25</td>\n",
       "      <td>3.60</td>\n",
       "      <td>69.25</td>\n",
       "      <td>NaN</td>\n",
       "      <td>4.25</td>\n",
       "      <td>0.18</td>\n",
       "      <td>4.60</td>\n",
       "      <td>1.52</td>\n",
       "      <td>26.15</td>\n",
       "    </tr>\n",
       "  </tbody>\n",
       "</table>\n",
       "</div>"
      ],
      "text/plain": [
       "platform           3DS    DS     PC     PS3     PS4   PSP    PSV   Wii   WiiU  \\\n",
       "year_of_release                                                                 \n",
       "2013             56.57  1.54  12.38  113.25   25.99  3.14  10.59  8.59  21.65   \n",
       "2014             43.76   NaN  13.28   47.76  100.00  0.24  11.90  3.75  22.03   \n",
       "2015             27.78   NaN   8.52   16.82  118.90  0.12   6.25  1.14  16.35   \n",
       "2016             15.14   NaN   5.25    3.60   69.25   NaN   4.25  0.18   4.60   \n",
       "\n",
       "platform          X360   XOne  \n",
       "year_of_release                \n",
       "2013             88.58  18.96  \n",
       "2014             34.74  54.07  \n",
       "2015             11.96  60.14  \n",
       "2016              1.52  26.15  "
      ]
     },
     "execution_count": 39,
     "metadata": {},
     "output_type": "execute_result"
    }
   ],
   "source": [
    "actual_sales = actual_df.pivot_table(index='year_of_release',columns='platform',values='total_sales',aggfunc='sum')\n",
    "actual_sales"
   ]
  },
  {
   "cell_type": "markdown",
   "id": "f017a83e",
   "metadata": {},
   "source": [
    "Выведем графики продаж игр по платформам и их количество в общих продажах"
   ]
  },
  {
   "cell_type": "code",
   "execution_count": 40,
   "id": "e3cf014a",
   "metadata": {
    "scrolled": false
   },
   "outputs": [
    {
     "data": {
      "image/png": "[encoded data removed]",
      "text/plain": [
       "<Figure size 1152x432 with 1 Axes>"
      ]
     },
     "metadata": {
      "needs_background": "light"
     },
     "output_type": "display_data"
    }
   ],
   "source": [
    "plt.figure(figsize=(16,6))\n",
    "\n",
    "plt.plot(actual_sales.index, actual_sales)\n",
    "\n",
    "plt.title('Продажи игр по платформам',fontsize = 20)\n",
    "\n",
    "plt.ylabel('Миллионы копий',fontsize = 12)\n",
    "plt.xlabel('Год выпуска',fontsize = 12)\n",
    "plt.legend(actual_sales,loc='upper left', fontsize=12)\n",
    "plt.grid()\n",
    "\n",
    "plt.xticks([2013,2014, 2015, 2016])\n",
    "plt.show()"
   ]
  },
  {
   "cell_type": "code",
   "execution_count": 41,
   "id": "16d64700",
   "metadata": {},
   "outputs": [
    {
     "data": {
      "text/plain": [
       "<Figure size 1152x432 with 0 Axes>"
      ]
     },
     "metadata": {},
     "output_type": "display_data"
    },
    {
     "data": {
      "image/png": "[encoded data removed]",
      "text/plain": [
       "<Figure size 1152x432 with 1 Axes>"
      ]
     },
     "metadata": {
      "needs_background": "light"
     },
     "output_type": "display_data"
    }
   ],
   "source": [
    "plt.figure(figsize=(16,6))\n",
    "actual_sales.plot.area(figsize=(16,6))\n",
    "plt.xticks([2014, 2015, 2016])\n",
    "plt.title('Продажи игр по платформам в общих продажах',fontsize = 20)\n",
    "plt.ylabel('Миллионы копий',fontsize = 12)\n",
    "plt.xlabel('Год выпуска',fontsize = 12)\n",
    "\n",
    "plt.xticks([2013,2014, 2015, 2016])\n",
    "\n",
    "plt.show()"
   ]
  },
  {
   "cell_type": "markdown",
   "id": "abb9e407",
   "metadata": {},
   "source": [
    "Мы видим 10 актуальных платформ. На первом месте PS4, на втором XOne, на третьем 3DS. Продажи всех платформ снизились. Посмотрим на жизненный цикл этих платформ"
   ]
  },
  {
   "cell_type": "code",
   "execution_count": 42,
   "id": "4e5af244",
   "metadata": {},
   "outputs": [
    {
     "data": {
      "text/html": [
       "<div>\n",
       "<style scoped>\n",
       "    .dataframe tbody tr th:only-of-type {\n",
       "        vertical-align: middle;\n",
       "    }\n",
       "\n",
       "    .dataframe tbody tr th {\n",
       "        vertical-align: top;\n",
       "    }\n",
       "\n",
       "    .dataframe thead th {\n",
       "        text-align: right;\n",
       "    }\n",
       "</style>\n",
       "<table border=\"1\" class=\"dataframe\">\n",
       "  <thead>\n",
       "    <tr style=\"text-align: right;\">\n",
       "      <th></th>\n",
       "      <th>year_min</th>\n",
       "      <th>year_max</th>\n",
       "      <th>lifetime</th>\n",
       "    </tr>\n",
       "    <tr>\n",
       "      <th>platform</th>\n",
       "      <th></th>\n",
       "      <th></th>\n",
       "      <th></th>\n",
       "    </tr>\n",
       "  </thead>\n",
       "  <tbody>\n",
       "    <tr>\n",
       "      <th>PC</th>\n",
       "      <td>1985</td>\n",
       "      <td>2016</td>\n",
       "      <td>32</td>\n",
       "    </tr>\n",
       "    <tr>\n",
       "      <th>PSP</th>\n",
       "      <td>2004</td>\n",
       "      <td>2015</td>\n",
       "      <td>12</td>\n",
       "    </tr>\n",
       "    <tr>\n",
       "      <th>X360</th>\n",
       "      <td>2005</td>\n",
       "      <td>2016</td>\n",
       "      <td>12</td>\n",
       "    </tr>\n",
       "    <tr>\n",
       "      <th>PS3</th>\n",
       "      <td>2006</td>\n",
       "      <td>2016</td>\n",
       "      <td>11</td>\n",
       "    </tr>\n",
       "    <tr>\n",
       "      <th>Wii</th>\n",
       "      <td>2006</td>\n",
       "      <td>2016</td>\n",
       "      <td>11</td>\n",
       "    </tr>\n",
       "    <tr>\n",
       "      <th>3DS</th>\n",
       "      <td>2011</td>\n",
       "      <td>2016</td>\n",
       "      <td>6</td>\n",
       "    </tr>\n",
       "    <tr>\n",
       "      <th>PSV</th>\n",
       "      <td>2011</td>\n",
       "      <td>2016</td>\n",
       "      <td>6</td>\n",
       "    </tr>\n",
       "    <tr>\n",
       "      <th>WiiU</th>\n",
       "      <td>2012</td>\n",
       "      <td>2016</td>\n",
       "      <td>5</td>\n",
       "    </tr>\n",
       "    <tr>\n",
       "      <th>PS4</th>\n",
       "      <td>2013</td>\n",
       "      <td>2016</td>\n",
       "      <td>4</td>\n",
       "    </tr>\n",
       "    <tr>\n",
       "      <th>XOne</th>\n",
       "      <td>2013</td>\n",
       "      <td>2016</td>\n",
       "      <td>4</td>\n",
       "    </tr>\n",
       "  </tbody>\n",
       "</table>\n",
       "</div>"
      ],
      "text/plain": [
       "          year_min  year_max  lifetime\n",
       "platform                              \n",
       "PC            1985      2016        32\n",
       "PSP           2004      2015        12\n",
       "X360          2005      2016        12\n",
       "PS3           2006      2016        11\n",
       "Wii           2006      2016        11\n",
       "3DS           2011      2016         6\n",
       "PSV           2011      2016         6\n",
       "WiiU          2012      2016         5\n",
       "PS4           2013      2016         4\n",
       "XOne          2013      2016         4"
      ]
     },
     "execution_count": 42,
     "metadata": {},
     "output_type": "execute_result"
    }
   ],
   "source": [
    "platform_lifetime.query('year_max > 2014').sort_values('lifetime',ascending=False)"
   ]
  },
  {
   "cell_type": "markdown",
   "id": "27dc9e58",
   "metadata": {},
   "source": [
    "5 платформ явно перешагнули порог средней продолжительности жизни, из них PC явный долгожитель.  "
   ]
  },
  {
   "cell_type": "markdown",
   "id": "4795c3ca",
   "metadata": {},
   "source": [
    "#### Построим график «ящик с усами» по глобальным продажам игр в разбивке по платформам."
   ]
  },
  {
   "cell_type": "code",
   "execution_count": 43,
   "id": "032b073b",
   "metadata": {},
   "outputs": [],
   "source": [
    "#actual_sales"
   ]
  },
  {
   "cell_type": "code",
   "execution_count": 44,
   "id": "0133440a",
   "metadata": {
    "scrolled": false
   },
   "outputs": [],
   "source": [
    "# plt.figure(figsize=(16,6))\n",
    "# actual_sales.boxplot()\n",
    "\n",
    "# plt.title('Продажи игр в разбивке по платформам за 2013-2016 годы',fontsize = 15)\n"
   ]
  },
  {
   "cell_type": "code",
   "execution_count": 45,
   "id": "2e63d0d7",
   "metadata": {},
   "outputs": [],
   "source": [
    "actual_games = df[df['year_of_release'] > 2012]"
   ]
  },
  {
   "cell_type": "code",
   "execution_count": 46,
   "id": "cfd083f5",
   "metadata": {
    "scrolled": false
   },
   "outputs": [
    {
     "data": {
      "text/plain": [
       "(0.0, 2.0)"
      ]
     },
     "execution_count": 46,
     "metadata": {},
     "output_type": "execute_result"
    },
    {
     "data": {
      "image/png": "[encoded data removed]",
      "text/plain": [
       "<Figure size 576x576 with 1 Axes>"
      ]
     },
     "metadata": {
      "needs_background": "light"
     },
     "output_type": "display_data"
    }
   ],
   "source": [
    "sns.catplot(x=\"platform\", \n",
    "            y='total_sales', \n",
    "            kind=\"box\", \n",
    "            data=actual_games, \n",
    "            orient='v',\n",
    "            height=8)\n",
    "plt.title('Объемы продаж по платформам за актуальный период')\n",
    "plt.xlabel('Платформа')\n",
    "plt.ylabel('Миллоны копий')\n",
    "plt.ylim(0, 2)"
   ]
  },
  {
   "cell_type": "markdown",
   "id": "b76927f0",
   "metadata": {},
   "source": [
    "**Комментарий**\n",
    "Видим, что за выбранный актуальный период(2013-2016гг) в среднем продажи игр не достигают миллиона копий. При этом есть явные выбросы - бестселлеры с миллионными продажами. Особо отличаются игры на PS4, X360 и Wii"
   ]
  },
  {
   "cell_type": "markdown",
   "id": "a4a5c8e7",
   "metadata": {},
   "source": [
    "Посмотрим доли платформ в общих продажах за 2016 год"
   ]
  },
  {
   "cell_type": "code",
   "execution_count": 47,
   "id": "0b89d940",
   "metadata": {},
   "outputs": [],
   "source": [
    "platform_2016 = actual_df.query('year_of_release == 2016').groupby('platform',as_index=False)['total_sales'].sum()"
   ]
  },
  {
   "cell_type": "code",
   "execution_count": 48,
   "id": "ef9d1b71",
   "metadata": {
    "scrolled": false
   },
   "outputs": [
    {
     "data": {
      "image/png": "[encoded data removed]",
      "text/plain": [
       "<Figure size 576x576 with 1 Axes>"
      ]
     },
     "metadata": {},
     "output_type": "display_data"
    }
   ],
   "source": [
    "platform_2016['total_sales'].plot(kind='pie',labels=platform_2016['platform'],autopct=\"%.1f%%\",fontsize=8,figsize=(8,8))\n",
    "\n",
    "plt.title('Продажи игр по платформам за 2016 год')\n",
    "plt.show()"
   ]
  },
  {
   "cell_type": "markdown",
   "id": "16336c9e",
   "metadata": {},
   "source": [
    "Посчитаем изменения по выпуску игр и по продажам"
   ]
  },
  {
   "cell_type": "code",
   "execution_count": 49,
   "id": "9a4f302c",
   "metadata": {},
   "outputs": [],
   "source": [
    "change_in_years = actual_df.query('year_of_release > 2014')\\\n",
    "                 .pivot_table(index='platform',columns='year_of_release',values='total_sales',aggfunc=['count','sum'])"
   ]
  },
  {
   "cell_type": "code",
   "execution_count": 50,
   "id": "a6f46fc4",
   "metadata": {
    "scrolled": false
   },
   "outputs": [
    {
     "data": {
      "text/html": [
       "<div>\n",
       "<style scoped>\n",
       "    .dataframe tbody tr th:only-of-type {\n",
       "        vertical-align: middle;\n",
       "    }\n",
       "\n",
       "    .dataframe tbody tr th {\n",
       "        vertical-align: top;\n",
       "    }\n",
       "\n",
       "    .dataframe thead tr th {\n",
       "        text-align: left;\n",
       "    }\n",
       "\n",
       "    .dataframe thead tr:last-of-type th {\n",
       "        text-align: right;\n",
       "    }\n",
       "</style>\n",
       "<table border=\"1\" class=\"dataframe\">\n",
       "  <thead>\n",
       "    <tr>\n",
       "      <th></th>\n",
       "      <th colspan=\"2\" halign=\"left\">count</th>\n",
       "      <th colspan=\"2\" halign=\"left\">sum</th>\n",
       "      <th>change_in_count</th>\n",
       "      <th>change_in_sum</th>\n",
       "    </tr>\n",
       "    <tr>\n",
       "      <th>year_of_release</th>\n",
       "      <th>2015</th>\n",
       "      <th>2016</th>\n",
       "      <th>2015</th>\n",
       "      <th>2016</th>\n",
       "      <th></th>\n",
       "      <th></th>\n",
       "    </tr>\n",
       "    <tr>\n",
       "      <th>platform</th>\n",
       "      <th></th>\n",
       "      <th></th>\n",
       "      <th></th>\n",
       "      <th></th>\n",
       "      <th></th>\n",
       "      <th></th>\n",
       "    </tr>\n",
       "  </thead>\n",
       "  <tbody>\n",
       "    <tr>\n",
       "      <th>3DS</th>\n",
       "      <td>86.0</td>\n",
       "      <td>46.0</td>\n",
       "      <td>27.78</td>\n",
       "      <td>15.14</td>\n",
       "      <td>0.534884</td>\n",
       "      <td>0.544996</td>\n",
       "    </tr>\n",
       "    <tr>\n",
       "      <th>PC</th>\n",
       "      <td>50.0</td>\n",
       "      <td>54.0</td>\n",
       "      <td>8.52</td>\n",
       "      <td>5.25</td>\n",
       "      <td>1.080000</td>\n",
       "      <td>0.616197</td>\n",
       "    </tr>\n",
       "    <tr>\n",
       "      <th>PS3</th>\n",
       "      <td>73.0</td>\n",
       "      <td>38.0</td>\n",
       "      <td>16.82</td>\n",
       "      <td>3.60</td>\n",
       "      <td>0.520548</td>\n",
       "      <td>0.214031</td>\n",
       "    </tr>\n",
       "    <tr>\n",
       "      <th>PS4</th>\n",
       "      <td>137.0</td>\n",
       "      <td>164.0</td>\n",
       "      <td>118.90</td>\n",
       "      <td>69.25</td>\n",
       "      <td>1.197080</td>\n",
       "      <td>0.582422</td>\n",
       "    </tr>\n",
       "    <tr>\n",
       "      <th>PSP</th>\n",
       "      <td>3.0</td>\n",
       "      <td>NaN</td>\n",
       "      <td>0.12</td>\n",
       "      <td>NaN</td>\n",
       "      <td>NaN</td>\n",
       "      <td>NaN</td>\n",
       "    </tr>\n",
       "    <tr>\n",
       "      <th>PSV</th>\n",
       "      <td>110.0</td>\n",
       "      <td>85.0</td>\n",
       "      <td>6.25</td>\n",
       "      <td>4.25</td>\n",
       "      <td>0.772727</td>\n",
       "      <td>0.680000</td>\n",
       "    </tr>\n",
       "    <tr>\n",
       "      <th>Wii</th>\n",
       "      <td>4.0</td>\n",
       "      <td>1.0</td>\n",
       "      <td>1.14</td>\n",
       "      <td>0.18</td>\n",
       "      <td>0.250000</td>\n",
       "      <td>0.157895</td>\n",
       "    </tr>\n",
       "    <tr>\n",
       "      <th>WiiU</th>\n",
       "      <td>28.0</td>\n",
       "      <td>14.0</td>\n",
       "      <td>16.35</td>\n",
       "      <td>4.60</td>\n",
       "      <td>0.500000</td>\n",
       "      <td>0.281346</td>\n",
       "    </tr>\n",
       "    <tr>\n",
       "      <th>X360</th>\n",
       "      <td>35.0</td>\n",
       "      <td>13.0</td>\n",
       "      <td>11.96</td>\n",
       "      <td>1.52</td>\n",
       "      <td>0.371429</td>\n",
       "      <td>0.127090</td>\n",
       "    </tr>\n",
       "    <tr>\n",
       "      <th>XOne</th>\n",
       "      <td>80.0</td>\n",
       "      <td>87.0</td>\n",
       "      <td>60.14</td>\n",
       "      <td>26.15</td>\n",
       "      <td>1.087500</td>\n",
       "      <td>0.434819</td>\n",
       "    </tr>\n",
       "  </tbody>\n",
       "</table>\n",
       "</div>"
      ],
      "text/plain": [
       "                 count            sum        change_in_count change_in_sum\n",
       "year_of_release   2015   2016    2015   2016                              \n",
       "platform                                                                  \n",
       "3DS               86.0   46.0   27.78  15.14        0.534884      0.544996\n",
       "PC                50.0   54.0    8.52   5.25        1.080000      0.616197\n",
       "PS3               73.0   38.0   16.82   3.60        0.520548      0.214031\n",
       "PS4              137.0  164.0  118.90  69.25        1.197080      0.582422\n",
       "PSP                3.0    NaN    0.12    NaN             NaN           NaN\n",
       "PSV              110.0   85.0    6.25   4.25        0.772727      0.680000\n",
       "Wii                4.0    1.0    1.14   0.18        0.250000      0.157895\n",
       "WiiU              28.0   14.0   16.35   4.60        0.500000      0.281346\n",
       "X360              35.0   13.0   11.96   1.52        0.371429      0.127090\n",
       "XOne              80.0   87.0   60.14  26.15        1.087500      0.434819"
      ]
     },
     "execution_count": 50,
     "metadata": {},
     "output_type": "execute_result"
    }
   ],
   "source": [
    "change_in_years['change_in_count'] = change_in_years[('count', 2016)]/change_in_years[('count', 2015)]\n",
    "change_in_years['change_in_sum'] = change_in_years[('sum', 2016)]/change_in_years[('sum', 2015)]\n",
    "change_in_years"
   ]
  },
  {
   "cell_type": "code",
   "execution_count": 51,
   "id": "a8590bee",
   "metadata": {},
   "outputs": [
    {
     "name": "stdout",
     "output_type": "stream",
     "text": [
      "Изменения в выпуске игр count    9.000000\n",
      "mean     0.701574\n",
      "std      0.345839\n",
      "min      0.250000\n",
      "25%      0.500000\n",
      "50%      0.534884\n",
      "75%      1.080000\n",
      "max      1.197080\n",
      "Name: change_in_count, dtype: float64\n",
      "\n",
      "Изменения в количестве продаж игр count    9.000000\n",
      "mean     0.404311\n",
      "std      0.212793\n",
      "min      0.127090\n",
      "25%      0.214031\n",
      "50%      0.434819\n",
      "75%      0.582422\n",
      "max      0.680000\n",
      "Name: change_in_sum, dtype: float64\n"
     ]
    }
   ],
   "source": [
    "print('Изменения в выпуске игр',change_in_years['change_in_count'].describe())\n",
    "print()\n",
    "print('Изменения в количестве продаж игр',change_in_years['change_in_sum'].describe())"
   ]
  },
  {
   "cell_type": "markdown",
   "id": "d2bcc942",
   "metadata": {},
   "source": [
    "Графики показывают, что лидерами продажи на протяжении последних лет являются продукты Sony(PS3, PS4), Microsoft(X360, XOne) и Nintendo(WiiU,3DS). При этом продукты произведенные одной компании являются приемниками прошлых платформ. \n",
    "\n",
    "Мы видим что после 2015 года продажи всех платформ падают. При этом выпуск игр в среднем сократился на 30%(медиана 47%), продажа игр сократилась на 59%(медиана 56%).\n",
    "\n",
    "Самыми продаваемыми платформами на 2016 являются PS4(51.1%), XOne(20.7%), 3DS(12.6%)."
   ]
  },
  {
   "cell_type": "markdown",
   "id": "a0c038d9",
   "metadata": {},
   "source": [
    "### Как влияют на продажи внутри одной популярной платформы отзывы пользователей и критиков."
   ]
  },
  {
   "cell_type": "markdown",
   "id": "c89b0702",
   "metadata": {},
   "source": [
    "Самой популярной платформой, из продаваемых в 2016 году, является PS4. Рассмотрим влияние отзывов на её примере.\n",
    "\n",
    "Исключим из анализа игры которые не имеют рейтинга(значение 0)."
   ]
  },
  {
   "cell_type": "markdown",
   "id": "de9d2569",
   "metadata": {},
   "source": [
    "#### Диаграмма рассеяния  между отзывами критиков и продажами"
   ]
  },
  {
   "cell_type": "code",
   "execution_count": 52,
   "id": "f73b4501",
   "metadata": {},
   "outputs": [],
   "source": [
    "ps4_critic = df.query('platform == \"PS4\" and critic_score >0')"
   ]
  },
  {
   "cell_type": "code",
   "execution_count": 53,
   "id": "af0cc442",
   "metadata": {},
   "outputs": [
    {
     "data": {
      "image/png": "[encoded data removed]",
      "text/plain": [
       "<Figure size 720x432 with 1 Axes>"
      ]
     },
     "metadata": {
      "needs_background": "light"
     },
     "output_type": "display_data"
    }
   ],
   "source": [
    "fig, ax = plt.subplots(figsize=(10, 6))\n",
    "\n",
    "ax.scatter(x = ps4_critic['critic_score'], y = ps4_critic['total_sales'], alpha=0.6)\n",
    "plt.xlabel(\"Оценка критиков\")\n",
    "plt.ylabel(\"Продажа,миллионы копий\")\n",
    "\n",
    "plt.show()"
   ]
  },
  {
   "cell_type": "markdown",
   "id": "9726b10b",
   "metadata": {},
   "source": [
    "#### Диаграмма рассеяния  между отзывами пользователей и продажами"
   ]
  },
  {
   "cell_type": "code",
   "execution_count": 54,
   "id": "7b5c8553",
   "metadata": {},
   "outputs": [],
   "source": [
    "ps4_user = df.query('platform == \"PS4\" and user_score >0')"
   ]
  },
  {
   "cell_type": "code",
   "execution_count": 55,
   "id": "c083a171",
   "metadata": {},
   "outputs": [
    {
     "data": {
      "image/png": "[encoded data removed]",
      "text/plain": [
       "<Figure size 720x432 with 1 Axes>"
      ]
     },
     "metadata": {
      "needs_background": "light"
     },
     "output_type": "display_data"
    }
   ],
   "source": [
    "fig, ax = plt.subplots(figsize=(10, 6))\n",
    "\n",
    "ax.scatter(x = ps4_user['user_score'], y = ps4_user['total_sales'], alpha=0.6)\n",
    "plt.xlabel(\"Оценка Пользователей\")\n",
    "plt.ylabel(\"Продажа,миллионы копий\")\n",
    "\n",
    "plt.show()"
   ]
  },
  {
   "cell_type": "markdown",
   "id": "3b05c15e",
   "metadata": {},
   "source": [
    "Посчитаем коэффициент корреляции оценки критиков и продаж"
   ]
  },
  {
   "cell_type": "code",
   "execution_count": 56,
   "id": "09f4d89d",
   "metadata": {},
   "outputs": [
    {
     "data": {
      "text/plain": [
       "0.41"
      ]
     },
     "execution_count": 56,
     "metadata": {},
     "output_type": "execute_result"
    }
   ],
   "source": [
    "round(ps4_critic['critic_score'].corr(ps4_critic['total_sales']),2)"
   ]
  },
  {
   "cell_type": "markdown",
   "id": "fa47e061",
   "metadata": {},
   "source": [
    "Посчитаем коэффициент корреляции оценки пользователей и продаж"
   ]
  },
  {
   "cell_type": "code",
   "execution_count": 57,
   "id": "099b1d36",
   "metadata": {},
   "outputs": [
    {
     "data": {
      "text/plain": [
       "-0.03"
      ]
     },
     "execution_count": 57,
     "metadata": {},
     "output_type": "execute_result"
    }
   ],
   "source": [
    "round(ps4_user['user_score'].corr(ps4_user['total_sales']),2)"
   ]
  },
  {
   "cell_type": "markdown",
   "id": "57b26bdd",
   "metadata": {},
   "source": [
    "Самая высокая оценка игры у критиков"
   ]
  },
  {
   "cell_type": "code",
   "execution_count": 58,
   "id": "171b5d3d",
   "metadata": {},
   "outputs": [
    {
     "data": {
      "text/html": [
       "<div>\n",
       "<style scoped>\n",
       "    .dataframe tbody tr th:only-of-type {\n",
       "        vertical-align: middle;\n",
       "    }\n",
       "\n",
       "    .dataframe tbody tr th {\n",
       "        vertical-align: top;\n",
       "    }\n",
       "\n",
       "    .dataframe thead th {\n",
       "        text-align: right;\n",
       "    }\n",
       "</style>\n",
       "<table border=\"1\" class=\"dataframe\">\n",
       "  <thead>\n",
       "    <tr style=\"text-align: right;\">\n",
       "      <th></th>\n",
       "      <th>name</th>\n",
       "      <th>platform</th>\n",
       "      <th>year_of_release</th>\n",
       "      <th>genre</th>\n",
       "      <th>na_sales</th>\n",
       "      <th>eu_sales</th>\n",
       "      <th>jp_sales</th>\n",
       "      <th>other_sales</th>\n",
       "      <th>critic_score</th>\n",
       "      <th>user_score</th>\n",
       "      <th>rating</th>\n",
       "      <th>total_sales</th>\n",
       "    </tr>\n",
       "  </thead>\n",
       "  <tbody>\n",
       "    <tr>\n",
       "      <th>42</th>\n",
       "      <td>Grand Theft Auto V</td>\n",
       "      <td>PS4</td>\n",
       "      <td>2014</td>\n",
       "      <td>Action</td>\n",
       "      <td>3.96</td>\n",
       "      <td>6.31</td>\n",
       "      <td>0.38</td>\n",
       "      <td>1.97</td>\n",
       "      <td>97</td>\n",
       "      <td>8.3</td>\n",
       "      <td>M</td>\n",
       "      <td>12.62</td>\n",
       "    </tr>\n",
       "  </tbody>\n",
       "</table>\n",
       "</div>"
      ],
      "text/plain": [
       "                  name platform  year_of_release   genre  na_sales  eu_sales  \\\n",
       "42  Grand Theft Auto V      PS4             2014  Action      3.96      6.31   \n",
       "\n",
       "    jp_sales  other_sales  critic_score  user_score rating  total_sales  \n",
       "42      0.38         1.97            97         8.3      M        12.62  "
      ]
     },
     "execution_count": 58,
     "metadata": {},
     "output_type": "execute_result"
    }
   ],
   "source": [
    "ps4_critic_max = ps4_critic['critic_score'].max()\n",
    "ps4_critic.query('critic_score == @ps4_critic_max')"
   ]
  },
  {
   "cell_type": "markdown",
   "id": "125a8bba",
   "metadata": {},
   "source": [
    "Самая высокая оценка игры у игроков"
   ]
  },
  {
   "cell_type": "code",
   "execution_count": 59,
   "id": "e53d30e0",
   "metadata": {},
   "outputs": [
    {
     "data": {
      "text/html": [
       "<div>\n",
       "<style scoped>\n",
       "    .dataframe tbody tr th:only-of-type {\n",
       "        vertical-align: middle;\n",
       "    }\n",
       "\n",
       "    .dataframe tbody tr th {\n",
       "        vertical-align: top;\n",
       "    }\n",
       "\n",
       "    .dataframe thead th {\n",
       "        text-align: right;\n",
       "    }\n",
       "</style>\n",
       "<table border=\"1\" class=\"dataframe\">\n",
       "  <thead>\n",
       "    <tr style=\"text-align: right;\">\n",
       "      <th></th>\n",
       "      <th>name</th>\n",
       "      <th>platform</th>\n",
       "      <th>year_of_release</th>\n",
       "      <th>genre</th>\n",
       "      <th>na_sales</th>\n",
       "      <th>eu_sales</th>\n",
       "      <th>jp_sales</th>\n",
       "      <th>other_sales</th>\n",
       "      <th>critic_score</th>\n",
       "      <th>user_score</th>\n",
       "      <th>rating</th>\n",
       "      <th>total_sales</th>\n",
       "    </tr>\n",
       "  </thead>\n",
       "  <tbody>\n",
       "    <tr>\n",
       "      <th>303</th>\n",
       "      <td>The Witcher 3: Wild Hunt</td>\n",
       "      <td>PS4</td>\n",
       "      <td>2015</td>\n",
       "      <td>Role-Playing</td>\n",
       "      <td>1.02</td>\n",
       "      <td>2.13</td>\n",
       "      <td>0.23</td>\n",
       "      <td>0.59</td>\n",
       "      <td>92</td>\n",
       "      <td>9.2</td>\n",
       "      <td>M</td>\n",
       "      <td>3.97</td>\n",
       "    </tr>\n",
       "  </tbody>\n",
       "</table>\n",
       "</div>"
      ],
      "text/plain": [
       "                         name platform  year_of_release         genre  \\\n",
       "303  The Witcher 3: Wild Hunt      PS4             2015  Role-Playing   \n",
       "\n",
       "     na_sales  eu_sales  jp_sales  other_sales  critic_score  user_score  \\\n",
       "303      1.02      2.13      0.23         0.59            92         9.2   \n",
       "\n",
       "    rating  total_sales  \n",
       "303      M         3.97  "
      ]
     },
     "execution_count": 59,
     "metadata": {},
     "output_type": "execute_result"
    }
   ],
   "source": [
    "ps4_user_max = ps4_critic['user_score'].max()\n",
    "ps4_user.query('user_score == @ps4_user_max')"
   ]
  },
  {
   "cell_type": "markdown",
   "id": "5255bdd3",
   "metadata": {},
   "source": [
    "Коэффициент корреляции 0,41 между оценкой критиков и количеством продаж говорит о том, что между ними есть умереренная зависимость. Так максимальная оценка критиков совпадает с максимальными продажами игры. Оценка игроков и продажи не зависят друг от друга."
   ]
  },
  {
   "cell_type": "markdown",
   "id": "b048c7fe",
   "metadata": {},
   "source": [
    "#### Проверим корреляцию продаж с отзывамии игр на топ платформах"
   ]
  },
  {
   "cell_type": "code",
   "execution_count": 60,
   "id": "9d9dd4ec",
   "metadata": {},
   "outputs": [
    {
     "name": "stdout",
     "output_type": "stream",
     "text": [
      "Платформа: PS3\n",
      "Корреляция между отзывами критиков и продажами: 0.43\n",
      "Корреляция между отзывами игроками и продажами: 0.13\n",
      "\n",
      "Платформа: X360\n",
      "Корреляция между отзывами критиков и продажами: 0.39\n",
      "Корреляция между отзывами игроками и продажами: 0.11\n",
      "\n",
      "Платформа: PS4\n",
      "Корреляция между отзывами критиков и продажами: 0.41\n",
      "Корреляция между отзывами игроками и продажами: -0.03\n",
      "\n",
      "Платформа: 3DS\n",
      "Корреляция между отзывами критиков и продажами: 0.35\n",
      "Корреляция между отзывами игроками и продажами: 0.22\n",
      "\n",
      "Платформа: XOne\n",
      "Корреляция между отзывами критиков и продажами: 0.42\n",
      "Корреляция между отзывами игроками и продажами: -0.07\n",
      "\n",
      "Платформа: WiiU\n",
      "Корреляция между отзывами критиков и продажами: 0.35\n",
      "Корреляция между отзывами игроками и продажами: 0.4\n",
      "\n",
      "Платформа: Wii\n",
      "Корреляция между отзывами критиков и продажами: 0.18\n",
      "Корреляция между отзывами игроками и продажами: 0.11\n",
      "\n",
      "Платформа: PC\n",
      "Корреляция между отзывами критиков и продажами: 0.26\n",
      "Корреляция между отзывами игроками и продажами: 0.01\n",
      "\n",
      "Платформа: PSV\n",
      "Корреляция между отзывами критиков и продажами: 0.13\n",
      "Корреляция между отзывами игроками и продажами: 0.01\n",
      "\n",
      "Платформа: DS\n",
      "Корреляция между отзывами критиков и продажами: 0.24\n",
      "Корреляция между отзывами игроками и продажами: 0.13\n",
      "\n",
      "Платформа: PSP\n",
      "Корреляция между отзывами критиков и продажами: 0.32\n",
      "Корреляция между отзывами игроками и продажами: 0.22\n",
      "\n"
     ]
    }
   ],
   "source": [
    "#def platform_corr(plaforms):\n",
    "for p in actual_games['platform'].unique():\n",
    "    \n",
    "    user = df.query('platform == @p and user_score >0')\n",
    "    critic = df.query('platform == @p and critic_score >0')\n",
    "\n",
    "    user_corr = round(user['user_score'].corr(user['total_sales']),2)\n",
    "    critic_corr = round(critic['critic_score'].corr(critic['total_sales']),2)\n",
    "    print('Платформа:', p)\n",
    "    print('Корреляция между отзывами критиков и продажами:', critic_corr)\n",
    "    print('Корреляция между отзывами игроками и продажами:', user_corr)\n",
    "    print()"
   ]
  },
  {
   "cell_type": "code",
   "execution_count": 61,
   "id": "45048900",
   "metadata": {},
   "outputs": [],
   "source": [
    "# for p in top:\n",
    "#     user = actual_df.query('platform == @p and user_score >0')\n",
    "#     critic = actual_df.query('platform == @p and critic_score >0')\n",
    "\n",
    "#     user_corr = round(user['user_score'].corr(user['total_sales']),2)\n",
    "#     critic_corr = round(critic['critic_score'].corr(critic['total_sales']),2)\n",
    "#     print('Платформа:', p)\n",
    "#     print('Корреляция между отзывами критиков и продажами:', critic_corr)\n",
    "#     print('Корреляция между отзывами игроками и продажами:', user_corr)\n",
    "#     print()"
   ]
  },
  {
   "cell_type": "markdown",
   "id": "66866526",
   "metadata": {},
   "source": [
    "В целом можно сказать, что оценки критиков имеют умеренную зависимость с объёмом продаж. Оценки игроков практически не связаны с продажами."
   ]
  },
  {
   "cell_type": "markdown",
   "id": "620fc4db",
   "metadata": {},
   "source": [
    "#### Общее распределение игр по жанрам"
   ]
  },
  {
   "cell_type": "code",
   "execution_count": 62,
   "id": "fc639268",
   "metadata": {},
   "outputs": [
    {
     "data": {
      "text/html": [
       "<div>\n",
       "<style scoped>\n",
       "    .dataframe tbody tr th:only-of-type {\n",
       "        vertical-align: middle;\n",
       "    }\n",
       "\n",
       "    .dataframe tbody tr th {\n",
       "        vertical-align: top;\n",
       "    }\n",
       "\n",
       "    .dataframe thead th {\n",
       "        text-align: right;\n",
       "    }\n",
       "</style>\n",
       "<table border=\"1\" class=\"dataframe\">\n",
       "  <thead>\n",
       "    <tr style=\"text-align: right;\">\n",
       "      <th></th>\n",
       "      <th>games</th>\n",
       "      <th>sales</th>\n",
       "      <th>rate</th>\n",
       "    </tr>\n",
       "    <tr>\n",
       "      <th>genre</th>\n",
       "      <th></th>\n",
       "      <th></th>\n",
       "      <th></th>\n",
       "    </tr>\n",
       "  </thead>\n",
       "  <tbody>\n",
       "    <tr>\n",
       "      <th>Action</th>\n",
       "      <td>766</td>\n",
       "      <td>321.87</td>\n",
       "      <td>0.420196</td>\n",
       "    </tr>\n",
       "    <tr>\n",
       "      <th>Role-Playing</th>\n",
       "      <td>292</td>\n",
       "      <td>145.89</td>\n",
       "      <td>0.499623</td>\n",
       "    </tr>\n",
       "    <tr>\n",
       "      <th>Adventure</th>\n",
       "      <td>245</td>\n",
       "      <td>23.64</td>\n",
       "      <td>0.096490</td>\n",
       "    </tr>\n",
       "    <tr>\n",
       "      <th>Sports</th>\n",
       "      <td>214</td>\n",
       "      <td>150.65</td>\n",
       "      <td>0.703972</td>\n",
       "    </tr>\n",
       "    <tr>\n",
       "      <th>Shooter</th>\n",
       "      <td>187</td>\n",
       "      <td>232.98</td>\n",
       "      <td>1.245882</td>\n",
       "    </tr>\n",
       "    <tr>\n",
       "      <th>Misc</th>\n",
       "      <td>155</td>\n",
       "      <td>62.82</td>\n",
       "      <td>0.405290</td>\n",
       "    </tr>\n",
       "    <tr>\n",
       "      <th>Racing</th>\n",
       "      <td>85</td>\n",
       "      <td>39.89</td>\n",
       "      <td>0.469294</td>\n",
       "    </tr>\n",
       "    <tr>\n",
       "      <th>Fighting</th>\n",
       "      <td>80</td>\n",
       "      <td>35.31</td>\n",
       "      <td>0.441375</td>\n",
       "    </tr>\n",
       "    <tr>\n",
       "      <th>Platform</th>\n",
       "      <td>74</td>\n",
       "      <td>42.63</td>\n",
       "      <td>0.576081</td>\n",
       "    </tr>\n",
       "    <tr>\n",
       "      <th>Simulation</th>\n",
       "      <td>62</td>\n",
       "      <td>21.76</td>\n",
       "      <td>0.350968</td>\n",
       "    </tr>\n",
       "    <tr>\n",
       "      <th>Strategy</th>\n",
       "      <td>56</td>\n",
       "      <td>10.08</td>\n",
       "      <td>0.180000</td>\n",
       "    </tr>\n",
       "    <tr>\n",
       "      <th>Puzzle</th>\n",
       "      <td>17</td>\n",
       "      <td>3.17</td>\n",
       "      <td>0.186471</td>\n",
       "    </tr>\n",
       "  </tbody>\n",
       "</table>\n",
       "</div>"
      ],
      "text/plain": [
       "              games   sales      rate\n",
       "genre                                \n",
       "Action          766  321.87  0.420196\n",
       "Role-Playing    292  145.89  0.499623\n",
       "Adventure       245   23.64  0.096490\n",
       "Sports          214  150.65  0.703972\n",
       "Shooter         187  232.98  1.245882\n",
       "Misc            155   62.82  0.405290\n",
       "Racing           85   39.89  0.469294\n",
       "Fighting         80   35.31  0.441375\n",
       "Platform         74   42.63  0.576081\n",
       "Simulation       62   21.76  0.350968\n",
       "Strategy         56   10.08  0.180000\n",
       "Puzzle           17    3.17  0.186471"
      ]
     },
     "execution_count": 62,
     "metadata": {},
     "output_type": "execute_result"
    }
   ],
   "source": [
    "genre_sales = actual_df.groupby('genre').agg({'total_sales':['count', 'sum']})\n",
    "\n",
    "genre_sales.columns=['games','sales']\n",
    "genre_sales['rate'] = genre_sales['sales']/genre_sales['games']\n",
    "genre_sales.sort_values(('games'), ascending=False)\n"
   ]
  },
  {
   "cell_type": "code",
   "execution_count": 63,
   "id": "14a3c54c",
   "metadata": {
    "scrolled": false
   },
   "outputs": [],
   "source": [
    "# genre_sales['games'].plot(kind='pie',labels=genre_sales.index,autopct=\"%.1f%%\",fontsize=8,figsize=(8,8))\n",
    "\n",
    "# plt.title('Количесство выпущенных игр по жанрам %')\n",
    "# plt.show()"
   ]
  },
  {
   "cell_type": "code",
   "execution_count": 64,
   "id": "95f3ffbd",
   "metadata": {
    "scrolled": false
   },
   "outputs": [
    {
     "data": {
      "image/png": "[encoded data removed]",
      "text/plain": [
       "<Figure size 864x432 with 1 Axes>"
      ]
     },
     "metadata": {
      "needs_background": "light"
     },
     "output_type": "display_data"
    }
   ],
   "source": [
    "genre_sales['sales'].plot(kind='bar',fontsize=8,figsize=(12,6))\n",
    "\n",
    "plt.title('Количесство проданных игр по жанрам %')\n",
    "plt.show()"
   ]
  },
  {
   "cell_type": "code",
   "execution_count": 65,
   "id": "ce06d450",
   "metadata": {
    "scrolled": false
   },
   "outputs": [],
   "source": [
    "# genre_sales['sales'].plot(kind='pie',labels=genre_sales.index,autopct=\"%.1f%%\",fontsize=8,figsize=(8,8))\n",
    "\n",
    "# plt.title('Количесство проданных игр по жанрам %')\n",
    "# plt.show()"
   ]
  },
  {
   "cell_type": "code",
   "execution_count": 66,
   "id": "7796b409",
   "metadata": {},
   "outputs": [
    {
     "data": {
      "image/png": "[encoded data removed]",
      "text/plain": [
       "<Figure size 864x432 with 1 Axes>"
      ]
     },
     "metadata": {
      "needs_background": "light"
     },
     "output_type": "display_data"
    }
   ],
   "source": [
    "genre_sales['sales'].plot(kind='bar',fontsize=8,figsize=(12,6))\n",
    "\n",
    "plt.title('Количесство проданных игр по жанрам %')\n",
    "plt.show()"
   ]
  },
  {
   "cell_type": "markdown",
   "id": "9237cbc0",
   "metadata": {},
   "source": [
    "Самое большое количество выпущенных и проданных игр приходится на жанр Action, 34.3% и 29,3%. Коэффициент проданных копий игр к выпущенным играм у Action составляет 0,372, те 372 тыс проданных копий на каждую выпущенную игру. При этом самый эффетивный и второй по количеству продаж является жанр Shooter с коэффициентом 1,092."
   ]
  },
  {
   "cell_type": "markdown",
   "id": "95e2204e",
   "metadata": {},
   "source": [
    "### Вывод\n",
    "\n",
    "Пик выпуска новых игр приходится на 2008, 2009 годы, далее мы видим снижение. В 2012 году выпуск игр упал почти в 2 раза и дальше идет постепенное снижение.\n",
    "\n",
    "Пик продаж игр так же приходится на 2008 и 2009 годы. Даалее продажи падают, причем в последний 2016 продажи упали почти в 2 раза по сравнениб с 2015 годом. \n",
    "\n",
    "Самыми продаваемыми игровыми платформами за все время являются PS2, X360 и Wii.\n",
    "\n",
    "Средняя продолжительность жизни игровой платформы 8 лет. При этом есть долгожители например PC чья продолжительсть составляет 32 года и на момент 2016 года еще не закрылась.\n",
    "\n",
    "Последний пик роста количества игровых платформ приходится на 2013 год затем идет снижение. После 2015 года продажи всех платформ падают. При этом выпуск игр в среднем сократился на 30%(медиана 47%), продажа игр сократилась на 59%(медиана 56%). Актуальными на 2016 год осталось 9 платформ. Из которых на 3 платформы приходится 84,4% продаж PS4(51.1%), XOne(20.7%), 3DS(12.6%).\n",
    "\n",
    "Самый непопулярным жанром является Puzzle с нименьшим количеством продаж 0,3% и коэффициентом продаж 0,177\n",
    "\n",
    "На продажи игр в небольшой степени влияют оценки критиков и абсолютно не влияют оценки игроков.\n",
    "Самыми популярными по продажам являются игры жанров Action(29,3%), Shooter(21,0%) и Sports(13.5%)\n",
    "\n",
    "Оценивать продажи все-таки имеет смысл не только в количестве проданных игр, но и в денежном выражении. Информации по выручке нет."
   ]
  },
  {
   "cell_type": "markdown",
   "id": "c2b45aff",
   "metadata": {},
   "source": [
    "## Шаг 4. Составьте портрет пользователя каждого региона\n",
    "Определите для пользователя каждого региона (NA, EU, JP):\n",
    "- Самые популярные платформы (топ-5). Опишите различия в долях продаж.\n",
    "- Самые популярные жанры (топ-5). Поясните разницу.\n",
    "- Влияет ли рейтинг ESRB на продажи в отдельном регионе?"
   ]
  },
  {
   "cell_type": "markdown",
   "id": "f73e55ca",
   "metadata": {},
   "source": [
    "## Шаг 4. Составим портрет пользователя каждого региона"
   ]
  },
  {
   "cell_type": "markdown",
   "id": "9e419d2e",
   "metadata": {},
   "source": [
    "Исследовать будем за актуальный период 2013-2016 годы."
   ]
  },
  {
   "cell_type": "markdown",
   "id": "ba811381",
   "metadata": {},
   "source": [
    "### Самые популярные платформы (топ-5)"
   ]
  },
  {
   "cell_type": "code",
   "execution_count": 67,
   "id": "e397d2ee",
   "metadata": {},
   "outputs": [],
   "source": [
    "na_sales = actual_df.groupby('platform',as_index=False)['na_sales'].sum().nlargest(5, 'na_sales')\n",
    "eu_sales = actual_df.groupby('platform',as_index=False)['eu_sales'].sum().nlargest(5, 'eu_sales')\n",
    "jp_sales = actual_df.groupby('platform',as_index=False)['jp_sales'].sum().nlargest(5, 'jp_sales')"
   ]
  },
  {
   "cell_type": "code",
   "execution_count": 68,
   "id": "a1bdbe66",
   "metadata": {},
   "outputs": [
    {
     "data": {
      "text/plain": [
       "<AxesSubplot:title={'center':'Продажи платформ в Японии'}>"
      ]
     },
     "execution_count": 68,
     "metadata": {},
     "output_type": "execute_result"
    },
    {
     "data": {
      "image/png": "[encoded data removed]",
      "text/plain": [
       "<Figure size 432x432 with 1 Axes>"
      ]
     },
     "metadata": {},
     "output_type": "display_data"
    },
    {
     "data": {
      "image/png": "[encoded data removed]",
      "text/plain": [
       "<Figure size 432x432 with 1 Axes>"
      ]
     },
     "metadata": {},
     "output_type": "display_data"
    },
    {
     "data": {
      "image/png": "[encoded data removed]",
      "text/plain": [
       "<Figure size 432x432 with 1 Axes>"
      ]
     },
     "metadata": {},
     "output_type": "display_data"
    }
   ],
   "source": [
    "na_sales.plot(kind='pie',y=\"na_sales\", autopct='%1.0f%%', legend=False, labels=na_sales['platform'],\n",
    "              title = \"Продажи платформ в Северной Америке\", figsize=(6,6),ylabel='')\n",
    "eu_sales.plot(kind='pie',y=\"eu_sales\", autopct='%1.0f%%', legend=False,  labels=na_sales['platform'],\n",
    "              title = \"Продажи платформ в Европе\", figsize=(6,6),ylabel='')\n",
    "jp_sales.plot(kind='pie',y=\"jp_sales\", autopct='%1.0f%%', legend=False,  labels=na_sales['platform'],\n",
    "              title = \"Продажи платформ в Японии\", figsize=(6,6),ylabel='')"
   ]
  },
  {
   "cell_type": "markdown",
   "id": "c4a9e68e",
   "metadata": {},
   "source": [
    "Самой популярной платормой во всех 3 регионах является PS4. Но в Японии на нее приходится 50%, а в Северной Америке 28%, Европа 42%. Распределение может быть связано со страной происхождения платформы которые представлены всего 2 странами США и Япония. Соответственно в Японии большую долю занимают Sony(PS3,PS4),Nintendo(3DS) - 70% рынка и Microsoft(X360,XOne) - 30% рынка. А в Северной Америке Microsoft - 45% рынка и 55% Sony,Nintendo."
   ]
  },
  {
   "cell_type": "code",
   "execution_count": 69,
   "id": "919c5bd6",
   "metadata": {},
   "outputs": [
    {
     "data": {
      "text/html": [
       "<div>\n",
       "<style scoped>\n",
       "    .dataframe tbody tr th:only-of-type {\n",
       "        vertical-align: middle;\n",
       "    }\n",
       "\n",
       "    .dataframe tbody tr th {\n",
       "        vertical-align: top;\n",
       "    }\n",
       "\n",
       "    .dataframe thead th {\n",
       "        text-align: right;\n",
       "    }\n",
       "</style>\n",
       "<table border=\"1\" class=\"dataframe\">\n",
       "  <thead>\n",
       "    <tr style=\"text-align: right;\">\n",
       "      <th></th>\n",
       "      <th>name</th>\n",
       "      <th>platform</th>\n",
       "      <th>year_of_release</th>\n",
       "      <th>genre</th>\n",
       "      <th>na_sales</th>\n",
       "      <th>eu_sales</th>\n",
       "      <th>jp_sales</th>\n",
       "      <th>other_sales</th>\n",
       "      <th>critic_score</th>\n",
       "      <th>user_score</th>\n",
       "      <th>rating</th>\n",
       "      <th>total_sales</th>\n",
       "    </tr>\n",
       "  </thead>\n",
       "  <tbody>\n",
       "    <tr>\n",
       "      <th>16</th>\n",
       "      <td>Grand Theft Auto V</td>\n",
       "      <td>PS3</td>\n",
       "      <td>2013</td>\n",
       "      <td>Action</td>\n",
       "      <td>7.02</td>\n",
       "      <td>9.09</td>\n",
       "      <td>0.98</td>\n",
       "      <td>3.96</td>\n",
       "      <td>97</td>\n",
       "      <td>8.2</td>\n",
       "      <td>M</td>\n",
       "      <td>21.05</td>\n",
       "    </tr>\n",
       "    <tr>\n",
       "      <th>23</th>\n",
       "      <td>Grand Theft Auto V</td>\n",
       "      <td>X360</td>\n",
       "      <td>2013</td>\n",
       "      <td>Action</td>\n",
       "      <td>9.66</td>\n",
       "      <td>5.14</td>\n",
       "      <td>0.06</td>\n",
       "      <td>1.41</td>\n",
       "      <td>97</td>\n",
       "      <td>8.1</td>\n",
       "      <td>M</td>\n",
       "      <td>16.27</td>\n",
       "    </tr>\n",
       "    <tr>\n",
       "      <th>31</th>\n",
       "      <td>Call of Duty: Black Ops 3</td>\n",
       "      <td>PS4</td>\n",
       "      <td>2015</td>\n",
       "      <td>Shooter</td>\n",
       "      <td>6.03</td>\n",
       "      <td>5.86</td>\n",
       "      <td>0.36</td>\n",
       "      <td>2.38</td>\n",
       "      <td>0</td>\n",
       "      <td>0.0</td>\n",
       "      <td>no_rating</td>\n",
       "      <td>14.63</td>\n",
       "    </tr>\n",
       "    <tr>\n",
       "      <th>33</th>\n",
       "      <td>Pokemon X/Pokemon Y</td>\n",
       "      <td>3DS</td>\n",
       "      <td>2013</td>\n",
       "      <td>Role-Playing</td>\n",
       "      <td>5.28</td>\n",
       "      <td>4.19</td>\n",
       "      <td>4.35</td>\n",
       "      <td>0.78</td>\n",
       "      <td>0</td>\n",
       "      <td>0.0</td>\n",
       "      <td>no_rating</td>\n",
       "      <td>14.60</td>\n",
       "    </tr>\n",
       "    <tr>\n",
       "      <th>42</th>\n",
       "      <td>Grand Theft Auto V</td>\n",
       "      <td>PS4</td>\n",
       "      <td>2014</td>\n",
       "      <td>Action</td>\n",
       "      <td>3.96</td>\n",
       "      <td>6.31</td>\n",
       "      <td>0.38</td>\n",
       "      <td>1.97</td>\n",
       "      <td>97</td>\n",
       "      <td>8.3</td>\n",
       "      <td>M</td>\n",
       "      <td>12.62</td>\n",
       "    </tr>\n",
       "    <tr>\n",
       "      <th>...</th>\n",
       "      <td>...</td>\n",
       "      <td>...</td>\n",
       "      <td>...</td>\n",
       "      <td>...</td>\n",
       "      <td>...</td>\n",
       "      <td>...</td>\n",
       "      <td>...</td>\n",
       "      <td>...</td>\n",
       "      <td>...</td>\n",
       "      <td>...</td>\n",
       "      <td>...</td>\n",
       "      <td>...</td>\n",
       "    </tr>\n",
       "    <tr>\n",
       "      <th>16703</th>\n",
       "      <td>Strawberry Nauts</td>\n",
       "      <td>PSV</td>\n",
       "      <td>2016</td>\n",
       "      <td>Adventure</td>\n",
       "      <td>0.00</td>\n",
       "      <td>0.00</td>\n",
       "      <td>0.01</td>\n",
       "      <td>0.00</td>\n",
       "      <td>0</td>\n",
       "      <td>0.0</td>\n",
       "      <td>no_rating</td>\n",
       "      <td>0.01</td>\n",
       "    </tr>\n",
       "    <tr>\n",
       "      <th>16707</th>\n",
       "      <td>Aiyoku no Eustia</td>\n",
       "      <td>PSV</td>\n",
       "      <td>2014</td>\n",
       "      <td>Misc</td>\n",
       "      <td>0.00</td>\n",
       "      <td>0.00</td>\n",
       "      <td>0.01</td>\n",
       "      <td>0.00</td>\n",
       "      <td>0</td>\n",
       "      <td>0.0</td>\n",
       "      <td>no_rating</td>\n",
       "      <td>0.01</td>\n",
       "    </tr>\n",
       "    <tr>\n",
       "      <th>16710</th>\n",
       "      <td>Samurai Warriors: Sanada Maru</td>\n",
       "      <td>PS3</td>\n",
       "      <td>2016</td>\n",
       "      <td>Action</td>\n",
       "      <td>0.00</td>\n",
       "      <td>0.00</td>\n",
       "      <td>0.01</td>\n",
       "      <td>0.00</td>\n",
       "      <td>0</td>\n",
       "      <td>0.0</td>\n",
       "      <td>no_rating</td>\n",
       "      <td>0.01</td>\n",
       "    </tr>\n",
       "    <tr>\n",
       "      <th>16712</th>\n",
       "      <td>Haitaka no Psychedelica</td>\n",
       "      <td>PSV</td>\n",
       "      <td>2016</td>\n",
       "      <td>Adventure</td>\n",
       "      <td>0.00</td>\n",
       "      <td>0.00</td>\n",
       "      <td>0.01</td>\n",
       "      <td>0.00</td>\n",
       "      <td>0</td>\n",
       "      <td>0.0</td>\n",
       "      <td>no_rating</td>\n",
       "      <td>0.01</td>\n",
       "    </tr>\n",
       "    <tr>\n",
       "      <th>16714</th>\n",
       "      <td>Winning Post 8 2016</td>\n",
       "      <td>PSV</td>\n",
       "      <td>2016</td>\n",
       "      <td>Simulation</td>\n",
       "      <td>0.00</td>\n",
       "      <td>0.00</td>\n",
       "      <td>0.01</td>\n",
       "      <td>0.00</td>\n",
       "      <td>0</td>\n",
       "      <td>0.0</td>\n",
       "      <td>no_rating</td>\n",
       "      <td>0.01</td>\n",
       "    </tr>\n",
       "  </tbody>\n",
       "</table>\n",
       "<p>2233 rows × 12 columns</p>\n",
       "</div>"
      ],
      "text/plain": [
       "                                name platform  year_of_release         genre  \\\n",
       "16                Grand Theft Auto V      PS3             2013        Action   \n",
       "23                Grand Theft Auto V     X360             2013        Action   \n",
       "31         Call of Duty: Black Ops 3      PS4             2015       Shooter   \n",
       "33               Pokemon X/Pokemon Y      3DS             2013  Role-Playing   \n",
       "42                Grand Theft Auto V      PS4             2014        Action   \n",
       "...                              ...      ...              ...           ...   \n",
       "16703               Strawberry Nauts      PSV             2016     Adventure   \n",
       "16707               Aiyoku no Eustia      PSV             2014          Misc   \n",
       "16710  Samurai Warriors: Sanada Maru      PS3             2016        Action   \n",
       "16712        Haitaka no Psychedelica      PSV             2016     Adventure   \n",
       "16714            Winning Post 8 2016      PSV             2016    Simulation   \n",
       "\n",
       "       na_sales  eu_sales  jp_sales  other_sales  critic_score  user_score  \\\n",
       "16         7.02      9.09      0.98         3.96            97         8.2   \n",
       "23         9.66      5.14      0.06         1.41            97         8.1   \n",
       "31         6.03      5.86      0.36         2.38             0         0.0   \n",
       "33         5.28      4.19      4.35         0.78             0         0.0   \n",
       "42         3.96      6.31      0.38         1.97            97         8.3   \n",
       "...         ...       ...       ...          ...           ...         ...   \n",
       "16703      0.00      0.00      0.01         0.00             0         0.0   \n",
       "16707      0.00      0.00      0.01         0.00             0         0.0   \n",
       "16710      0.00      0.00      0.01         0.00             0         0.0   \n",
       "16712      0.00      0.00      0.01         0.00             0         0.0   \n",
       "16714      0.00      0.00      0.01         0.00             0         0.0   \n",
       "\n",
       "          rating  total_sales  \n",
       "16             M        21.05  \n",
       "23             M        16.27  \n",
       "31     no_rating        14.63  \n",
       "33     no_rating        14.60  \n",
       "42             M        12.62  \n",
       "...          ...          ...  \n",
       "16703  no_rating         0.01  \n",
       "16707  no_rating         0.01  \n",
       "16710  no_rating         0.01  \n",
       "16712  no_rating         0.01  \n",
       "16714  no_rating         0.01  \n",
       "\n",
       "[2233 rows x 12 columns]"
      ]
     },
     "execution_count": 69,
     "metadata": {},
     "output_type": "execute_result"
    }
   ],
   "source": [
    "actual_df"
   ]
  },
  {
   "cell_type": "markdown",
   "id": "e802ef54",
   "metadata": {},
   "source": [
    "### Самые популярные жанры (топ-5)"
   ]
  },
  {
   "cell_type": "code",
   "execution_count": 70,
   "id": "a0c8d56c",
   "metadata": {},
   "outputs": [],
   "source": [
    "na_genres = actual_df.groupby('genre',as_index=False)['na_sales'].sum().nlargest(5, 'na_sales')\n",
    "eu_genres = actual_df.groupby('genre',as_index=False)['eu_sales'].sum().nlargest(5, 'eu_sales')\n",
    "jp_genres = actual_df.groupby('genre',as_index=False)['jp_sales'].sum().nlargest(5, 'jp_sales')"
   ]
  },
  {
   "cell_type": "code",
   "execution_count": 71,
   "id": "d46ba6ed",
   "metadata": {},
   "outputs": [
    {
     "data": {
      "text/html": [
       "<div>\n",
       "<style scoped>\n",
       "    .dataframe tbody tr th:only-of-type {\n",
       "        vertical-align: middle;\n",
       "    }\n",
       "\n",
       "    .dataframe tbody tr th {\n",
       "        vertical-align: top;\n",
       "    }\n",
       "\n",
       "    .dataframe thead th {\n",
       "        text-align: right;\n",
       "    }\n",
       "</style>\n",
       "<table border=\"1\" class=\"dataframe\">\n",
       "  <thead>\n",
       "    <tr style=\"text-align: right;\">\n",
       "      <th></th>\n",
       "      <th>genre</th>\n",
       "      <th>na_sales</th>\n",
       "    </tr>\n",
       "  </thead>\n",
       "  <tbody>\n",
       "    <tr>\n",
       "      <th>0</th>\n",
       "      <td>Action</td>\n",
       "      <td>126.05</td>\n",
       "    </tr>\n",
       "    <tr>\n",
       "      <th>8</th>\n",
       "      <td>Shooter</td>\n",
       "      <td>109.74</td>\n",
       "    </tr>\n",
       "    <tr>\n",
       "      <th>10</th>\n",
       "      <td>Sports</td>\n",
       "      <td>65.27</td>\n",
       "    </tr>\n",
       "    <tr>\n",
       "      <th>7</th>\n",
       "      <td>Role-Playing</td>\n",
       "      <td>46.40</td>\n",
       "    </tr>\n",
       "    <tr>\n",
       "      <th>3</th>\n",
       "      <td>Misc</td>\n",
       "      <td>27.49</td>\n",
       "    </tr>\n",
       "  </tbody>\n",
       "</table>\n",
       "</div>"
      ],
      "text/plain": [
       "           genre  na_sales\n",
       "0         Action    126.05\n",
       "8        Shooter    109.74\n",
       "10        Sports     65.27\n",
       "7   Role-Playing     46.40\n",
       "3           Misc     27.49"
      ]
     },
     "execution_count": 71,
     "metadata": {},
     "output_type": "execute_result"
    }
   ],
   "source": [
    "na_genres"
   ]
  },
  {
   "cell_type": "code",
   "execution_count": 72,
   "id": "336c588d",
   "metadata": {},
   "outputs": [
    {
     "data": {
      "text/plain": [
       "<AxesSubplot:title={'center':'Популярные жанры в Японии'}>"
      ]
     },
     "execution_count": 72,
     "metadata": {},
     "output_type": "execute_result"
    },
    {
     "data": {
      "image/png": "[encoded data removed]",
      "text/plain": [
       "<Figure size 432x432 with 1 Axes>"
      ]
     },
     "metadata": {},
     "output_type": "display_data"
    },
    {
     "data": {
      "image/png": "[encoded data removed]",
      "text/plain": [
       "<Figure size 432x432 with 1 Axes>"
      ]
     },
     "metadata": {},
     "output_type": "display_data"
    },
    {
     "data": {
      "image/png": "[encoded data removed]",
      "text/plain": [
       "<Figure size 432x432 with 1 Axes>"
      ]
     },
     "metadata": {},
     "output_type": "display_data"
    }
   ],
   "source": [
    "na_genres.plot(kind='pie',y=\"na_sales\", autopct='%1.0f%%', legend=False, labels=na_genres['genre'],\n",
    "              title = \"Популярные жанры в Северной Америке\", figsize=(6,6),ylabel='')\n",
    "eu_genres.plot(kind='pie',y=\"eu_sales\", autopct='%1.0f%%', legend=False, labels=eu_genres['genre'],\n",
    "              title = \"Популярные жанры в Европе\", figsize=(6,6),ylabel='')\n",
    "jp_genres.plot(kind='pie',y=\"jp_sales\", autopct='%1.0f%%', legend=False, labels=jp_genres['genre'],\n",
    "              title = \"Популярные жанры в Японии\", figsize=(6,6),ylabel='')"
   ]
  },
  {
   "cell_type": "markdown",
   "id": "9e4ddd3b",
   "metadata": {},
   "source": [
    "По жанрам Северная Америка не сильно отличается от Европы. На первом месте Action 34% и 36%. На втором Shooter 29% и 27%. В Японии своя атмосфера, там на первом месте Role-Playing 44% и только на втором месте Action 35%. Видимо связано с тем что RPg дает возможность прокачивать и совершенствовать своего героя больше развивая его характеристики, а не убивая соперников."
   ]
  },
  {
   "cell_type": "markdown",
   "id": "e963f98d",
   "metadata": {},
   "source": [
    "### Влияение рейтинга ESRB на продажи в отдельном регионе"
   ]
  },
  {
   "cell_type": "markdown",
   "id": "3fc72e1b",
   "metadata": {},
   "source": [
    "**Entertainment Software Rating Board**\n",
    "- «E» («Everyone») — «Для всех»\n",
    "- «E10+» («Everyone 10 and older») — «Для всех от 10 лет и старше»\n",
    "- «T» («Teen») — «Подросткам»\n",
    "- «M» («Mature») — «Для взрослых»"
   ]
  },
  {
   "cell_type": "code",
   "execution_count": 73,
   "id": "cdb8bb9e",
   "metadata": {},
   "outputs": [],
   "source": [
    "na_rating = actual_df.groupby('rating',as_index=False)['na_sales'].sum()\n",
    "eu_rating = actual_df.groupby('rating',as_index=False)['eu_sales'].sum()\n",
    "jp_rating = actual_df.groupby('rating',as_index=False)['jp_sales'].sum()"
   ]
  },
  {
   "cell_type": "code",
   "execution_count": 74,
   "id": "a466e57a",
   "metadata": {},
   "outputs": [
    {
     "data": {
      "text/plain": [
       "<AxesSubplot:title={'center':'Влияение рейтинга ESRB на продажи в Японии'}>"
      ]
     },
     "execution_count": 74,
     "metadata": {},
     "output_type": "execute_result"
    },
    {
     "data": {
      "image/png": "[encoded data removed]",
      "text/plain": [
       "<Figure size 432x432 with 1 Axes>"
      ]
     },
     "metadata": {},
     "output_type": "display_data"
    },
    {
     "data": {
      "image/png": "[encoded data removed]",
      "text/plain": [
       "<Figure size 432x432 with 1 Axes>"
      ]
     },
     "metadata": {},
     "output_type": "display_data"
    },
    {
     "data": {
      "image/png": "[encoded data removed]",
      "text/plain": [
       "<Figure size 432x432 with 1 Axes>"
      ]
     },
     "metadata": {},
     "output_type": "display_data"
    }
   ],
   "source": [
    "na_rating.plot(kind='pie',y=\"na_sales\", autopct='%1.0f%%', legend=False, labels=na_rating['rating'],\n",
    "               title = \"Влияение рейтинга ESRB на продажи в Северной Америке\", figsize=(6,6),ylabel='')\n",
    "eu_rating.plot(kind='pie',y=\"eu_sales\", autopct='%1.0f%%', legend=False, labels=eu_rating['rating'],\n",
    "               title = \"Влияение рейтинга ESRB на продажи в Европе\", figsize=(6,6),ylabel='')\n",
    "jp_rating.plot(kind='pie',y=\"jp_sales\", autopct='%1.0f%%', legend=False, labels=jp_rating['rating'],\n",
    "               title = \"Влияение рейтинга ESRB на продажи в Японии\", figsize=(6,6),ylabel='')"
   ]
  },
  {
   "cell_type": "markdown",
   "id": "61a1d534",
   "metadata": {},
   "source": [
    "Доля рейтингов у Европы и Северной Америки мало различаются. На первом месте рейтинг «M» («Mature») — «Для взрослых». Проекты с данным рейтингом могут содержать достаточно жестокое насилие, большое количество крови с расчленением, непристойные сексуальные сцены или грубую ненормативную лексику, нежелательную для младшей аудитории. Что соответствует популярным жанрам Action  Shooter. В японии около 60% игр вообще не имеют рейтинга поскольку ESRB не является обязательным и принадлежит Северной Америке."
   ]
  },
  {
   "cell_type": "markdown",
   "id": "a77a3bf8",
   "metadata": {},
   "source": [
    "## Шаг 5. Проверка гипотез"
   ]
  },
  {
   "cell_type": "markdown",
   "id": "13fab665",
   "metadata": {},
   "source": [
    "### Проверка  гипотезы: Средние пользовательские рейтинги платформ Xbox One и PC одинаковые"
   ]
  },
  {
   "cell_type": "markdown",
   "id": "478a2d65",
   "metadata": {},
   "source": [
    "Сформулируем гипотезы:\n",
    "\n",
    "    Нулевая гипотеза H₀: средние пользовательские рейтинги платформ Xbox One и PC не различаются\n",
    "    Альтернативная гипотеза H₁: средние пользовательские рейтинги платформ Xbox One и PC различаются\n",
    "\n",
    "Уровень значимости устанавливаем α = 5%, как общепринятое пороговое значение.\n",
    "\n",
    "Зададим 2 выборки для Xbox One и PC"
   ]
  },
  {
   "cell_type": "code",
   "execution_count": 75,
   "id": "70625afe",
   "metadata": {},
   "outputs": [],
   "source": [
    "xone = actual_df.query('platform == \"XOne\" and user_score > 0')\n",
    "pc = actual_df.query('platform == \"PC\" and user_score > 0')"
   ]
  },
  {
   "cell_type": "markdown",
   "id": "1a92415e",
   "metadata": {},
   "source": [
    "Посмотрим на сравниваемые средние"
   ]
  },
  {
   "cell_type": "code",
   "execution_count": 76,
   "id": "07315e91",
   "metadata": {},
   "outputs": [
    {
     "name": "stdout",
     "output_type": "stream",
     "text": [
      "Средний пользовательский рейтинг Xbox One: 6.521428571428572\n",
      "Средний пользовательский рейтинг PC:       6.2696774193548395\n"
     ]
    }
   ],
   "source": [
    "print('Средний пользовательский рейтинг Xbox One:',xone['user_score'].mean())\n",
    "print('Средний пользовательский рейтинг PC:      ',pc['user_score'].mean())"
   ]
  },
  {
   "cell_type": "code",
   "execution_count": 77,
   "id": "8517c4b0",
   "metadata": {},
   "outputs": [
    {
     "name": "stdout",
     "output_type": "stream",
     "text": [
      "p-значение:  0.14759594013430463\n",
      "Не получилось отвергнуть нулевую гипотезу\n"
     ]
    }
   ],
   "source": [
    "alpha = .05\n",
    "\n",
    "results = st.ttest_ind(xone['user_score'], pc['user_score'], equal_var = False)\n",
    "\n",
    "print('p-значение: ', results.pvalue)\n",
    "\n",
    "if results.pvalue < alpha:\n",
    "    print(\"Отвергаем нулевую гипотезу\")\n",
    "else:\n",
    "    print(\"Не получилось отвергнуть нулевую гипотезу\") "
   ]
  },
  {
   "cell_type": "markdown",
   "id": "1bd12f97",
   "metadata": {},
   "source": [
    "### Проверка  гипотезы: Средние пользовательские рейтинги жанров Action и Sports разные"
   ]
  },
  {
   "cell_type": "markdown",
   "id": "4c9c63c8",
   "metadata": {},
   "source": [
    "Сформулируем гипотезы:\n",
    "\n",
    "    Нулевая гипотеза H₀: Средние пользовательские рейтинги жанров Action и Sports не различаются\n",
    "    Альтернативная гипотеза H₁: Средние пользовательские рейтинги жанров Action и Sports различаются\n",
    "\n",
    "Уровень значимости устанавливаем α = 5%, как общепринятое пороговое значение.\n",
    "\n",
    "Зададим 2 выборки для Action и Sports"
   ]
  },
  {
   "cell_type": "code",
   "execution_count": 78,
   "id": "8e68cc34",
   "metadata": {},
   "outputs": [],
   "source": [
    "action = actual_df.query('genre == \"Action\" and user_score > 0')\n",
    "sports = actual_df.query('genre == \"Sports\" and user_score > 0')"
   ]
  },
  {
   "cell_type": "markdown",
   "id": "807b6b9d",
   "metadata": {},
   "source": [
    "Посмотрим на сравниваемые средние"
   ]
  },
  {
   "cell_type": "code",
   "execution_count": 79,
   "id": "41191ed9",
   "metadata": {},
   "outputs": [
    {
     "name": "stdout",
     "output_type": "stream",
     "text": [
      "Средний пользовательский рейтинг Action: 6.837532133676092\n",
      "Средний пользовательский рейтинг Sports: 5.238124999999999\n"
     ]
    }
   ],
   "source": [
    "print('Средний пользовательский рейтинг Action:',action['user_score'].mean())\n",
    "print('Средний пользовательский рейтинг Sports:',sports['user_score'].mean())"
   ]
  },
  {
   "cell_type": "code",
   "execution_count": 80,
   "id": "493b9fc7",
   "metadata": {},
   "outputs": [
    {
     "name": "stdout",
     "output_type": "stream",
     "text": [
      "p-значение:  1.4460039700704315e-20\n",
      "Отвергаем нулевую гипотезу\n"
     ]
    }
   ],
   "source": [
    "alpha = .05\n",
    "\n",
    "results = st.ttest_ind(action['user_score'], sports['user_score'], equal_var = False)\n",
    "\n",
    "print('p-значение: ', results.pvalue)\n",
    "\n",
    "if results.pvalue < alpha:\n",
    "    print(\"Отвергаем нулевую гипотезу\")\n",
    "else:\n",
    "    print(\"Не получилось отвергнуть нулевую гипотезу\") "
   ]
  },
  {
   "cell_type": "markdown",
   "id": "0e97b126",
   "metadata": {},
   "source": [
    "**Вывод**\n",
    "\n",
    "    Мы подтвердили гипотезу: Средние пользовательские рейтинги платформ Xbox One и PC одинаковые\n",
    "    И опровергли гипотезу: Средние пользовательские рейтинги жанров Action и Sports разные"
   ]
  },
  {
   "cell_type": "markdown",
   "id": "216680c9",
   "metadata": {},
   "source": [
    "## Шаг 6. Общий вывод\n"
   ]
  },
  {
   "cell_type": "markdown",
   "id": "1db1bbc1",
   "metadata": {},
   "source": [
    "Нам были предоставлени данные по выпуску и продаже игр за период 1980-2016 годы. Пик выпуска новых игр приходится на 2008, 2009 годы. Пик продаж игр так же приходится на 2008 и 2009 годы. Далее мы видим снижение и выпуска и продаж. Что связано с появлением и развитием мобильных игр.\n",
    "\n",
    "Самыми продаваемыми игровыми платформами за все время являются PS2, X360 и Wii, которые в свою очередь были заменены своими приемниками.\n",
    "\n",
    "На всем изучаемом периоде количество игровых платформ менялось. Средняя продолжительность жизни игровой платформы 8 лет. Последний пик роста количества игровых платформ приходится на 2013 год и составил 11 платформ, затем идет снижение. Актуальными на 2016 год осталось 9 платформ. Из которых на 3 платформы приходится 84,4% продаж PS4(51.1%), XOne(20.7%), 3DS(12.6%).\n",
    "Указанные платформы являютя приемниками PS3, X360 и DS.\n",
    "\n",
    "Самыми популярными по продажам являются игры жанров Action(29,3%), Shooter(21,0%) и Sports(13.5%)\n",
    "\n",
    "На продажи игр в небольшой степени влияют оценки критиков и абсолютно не влияют оценки игроков.\n",
    "\n",
    "При планировании продаж на 2017 год, необходимо ориентироваться на игровые платформы PS4 и XOne как самые молодые платформы находящиеся в средение своего жизненного цикла.\n",
    "\n",
    "Соответственно для Японии юолее актуально продукция Sony(PS3, PS4) И Nintendo(Wii) для Северной Америки Microsoft(X360,XOne)\n",
    "\n",
    "В северной Америке и Европе следует обращать внимание на игры в жанрах Action или Shooter. В Японии RPg.\n",
    "Влияние на итоговые продажи могутоказать оценки критиков. Оценки игроков таким влиянием не обладают.\n",
    "\n",
    "В целом можно сказать, что по аналогии с 2016 годом можно ожидать 2 кратное падение продаж. Поскольку выпуск новых игр снижается как и их продажи. Поэтому стоит задуматься о сокращении затрат исходя из планируемого сокращения продаж."
   ]
  }
 ],
 "metadata": {
  "ExecuteTimeLog": [
   {
    "duration": 1357,
    "start_time": "2022-03-24T07:37:46.910Z"
   },
   {
    "duration": 155,
    "start_time": "2022-03-24T07:37:48.270Z"
   },
   {
    "duration": 0,
    "start_time": "2022-03-24T07:37:48.430Z"
   },
   {
    "duration": 0,
    "start_time": "2022-03-24T07:37:48.432Z"
   },
   {
    "duration": 0,
    "start_time": "2022-03-24T07:37:48.433Z"
   },
   {
    "duration": 0,
    "start_time": "2022-03-24T07:37:48.435Z"
   },
   {
    "duration": 0,
    "start_time": "2022-03-24T07:37:48.436Z"
   },
   {
    "duration": 0,
    "start_time": "2022-03-24T07:37:48.437Z"
   },
   {
    "duration": 0,
    "start_time": "2022-03-24T07:37:48.438Z"
   },
   {
    "duration": 0,
    "start_time": "2022-03-24T07:37:48.440Z"
   },
   {
    "duration": 0,
    "start_time": "2022-03-24T07:37:48.441Z"
   },
   {
    "duration": 0,
    "start_time": "2022-03-24T07:37:48.443Z"
   },
   {
    "duration": 0,
    "start_time": "2022-03-24T07:37:48.467Z"
   },
   {
    "duration": 0,
    "start_time": "2022-03-24T07:37:48.469Z"
   },
   {
    "duration": 0,
    "start_time": "2022-03-24T07:37:48.470Z"
   },
   {
    "duration": 0,
    "start_time": "2022-03-24T07:37:48.472Z"
   },
   {
    "duration": 0,
    "start_time": "2022-03-24T07:37:48.474Z"
   },
   {
    "duration": 0,
    "start_time": "2022-03-24T07:37:48.476Z"
   },
   {
    "duration": 0,
    "start_time": "2022-03-24T07:37:48.478Z"
   },
   {
    "duration": 0,
    "start_time": "2022-03-24T07:37:48.480Z"
   },
   {
    "duration": 0,
    "start_time": "2022-03-24T07:37:48.482Z"
   },
   {
    "duration": 0,
    "start_time": "2022-03-24T07:37:48.484Z"
   },
   {
    "duration": 0,
    "start_time": "2022-03-24T07:37:48.486Z"
   },
   {
    "duration": 0,
    "start_time": "2022-03-24T07:37:48.488Z"
   },
   {
    "duration": 0,
    "start_time": "2022-03-24T07:37:48.490Z"
   },
   {
    "duration": 0,
    "start_time": "2022-03-24T07:37:48.491Z"
   },
   {
    "duration": 0,
    "start_time": "2022-03-24T07:37:48.493Z"
   },
   {
    "duration": 0,
    "start_time": "2022-03-24T07:37:48.494Z"
   },
   {
    "duration": 0,
    "start_time": "2022-03-24T07:37:48.495Z"
   },
   {
    "duration": 0,
    "start_time": "2022-03-24T07:37:48.497Z"
   },
   {
    "duration": 0,
    "start_time": "2022-03-24T07:37:48.498Z"
   },
   {
    "duration": 1,
    "start_time": "2022-03-24T07:37:48.499Z"
   },
   {
    "duration": 0,
    "start_time": "2022-03-24T07:37:48.501Z"
   },
   {
    "duration": 0,
    "start_time": "2022-03-24T07:37:48.503Z"
   },
   {
    "duration": 0,
    "start_time": "2022-03-24T07:37:48.504Z"
   },
   {
    "duration": 0,
    "start_time": "2022-03-24T07:37:48.568Z"
   },
   {
    "duration": 0,
    "start_time": "2022-03-24T07:37:48.569Z"
   },
   {
    "duration": 0,
    "start_time": "2022-03-24T07:37:48.571Z"
   },
   {
    "duration": 0,
    "start_time": "2022-03-24T07:37:48.572Z"
   },
   {
    "duration": 0,
    "start_time": "2022-03-24T07:37:48.574Z"
   },
   {
    "duration": 0,
    "start_time": "2022-03-24T07:37:48.575Z"
   },
   {
    "duration": 0,
    "start_time": "2022-03-24T07:37:48.577Z"
   },
   {
    "duration": 0,
    "start_time": "2022-03-24T07:37:48.578Z"
   },
   {
    "duration": 0,
    "start_time": "2022-03-24T07:37:48.579Z"
   },
   {
    "duration": 0,
    "start_time": "2022-03-24T07:37:48.580Z"
   },
   {
    "duration": 0,
    "start_time": "2022-03-24T07:37:48.581Z"
   },
   {
    "duration": 0,
    "start_time": "2022-03-24T07:37:48.583Z"
   },
   {
    "duration": 0,
    "start_time": "2022-03-24T07:37:48.585Z"
   },
   {
    "duration": 0,
    "start_time": "2022-03-24T07:37:48.586Z"
   },
   {
    "duration": 0,
    "start_time": "2022-03-24T07:37:48.587Z"
   },
   {
    "duration": 0,
    "start_time": "2022-03-24T07:37:48.589Z"
   },
   {
    "duration": 0,
    "start_time": "2022-03-24T07:37:48.589Z"
   },
   {
    "duration": 0,
    "start_time": "2022-03-24T07:37:48.591Z"
   },
   {
    "duration": 0,
    "start_time": "2022-03-24T07:37:48.592Z"
   },
   {
    "duration": 0,
    "start_time": "2022-03-24T07:37:48.594Z"
   },
   {
    "duration": 0,
    "start_time": "2022-03-24T07:37:48.595Z"
   },
   {
    "duration": 0,
    "start_time": "2022-03-24T07:37:48.597Z"
   },
   {
    "duration": 0,
    "start_time": "2022-03-24T07:37:48.598Z"
   },
   {
    "duration": 0,
    "start_time": "2022-03-24T07:37:48.599Z"
   },
   {
    "duration": 0,
    "start_time": "2022-03-24T07:37:48.600Z"
   },
   {
    "duration": 0,
    "start_time": "2022-03-24T07:37:48.602Z"
   },
   {
    "duration": 0,
    "start_time": "2022-03-24T07:37:48.603Z"
   },
   {
    "duration": 0,
    "start_time": "2022-03-24T07:37:48.668Z"
   },
   {
    "duration": 0,
    "start_time": "2022-03-24T07:37:48.669Z"
   },
   {
    "duration": 0,
    "start_time": "2022-03-24T07:37:48.671Z"
   },
   {
    "duration": 0,
    "start_time": "2022-03-24T07:37:48.672Z"
   },
   {
    "duration": 0,
    "start_time": "2022-03-24T07:37:48.673Z"
   },
   {
    "duration": 0,
    "start_time": "2022-03-24T07:37:48.675Z"
   },
   {
    "duration": 0,
    "start_time": "2022-03-24T07:37:48.676Z"
   },
   {
    "duration": 0,
    "start_time": "2022-03-24T07:37:48.677Z"
   },
   {
    "duration": 0,
    "start_time": "2022-03-24T07:37:48.679Z"
   },
   {
    "duration": 0,
    "start_time": "2022-03-24T07:37:48.681Z"
   },
   {
    "duration": 0,
    "start_time": "2022-03-24T07:37:48.682Z"
   },
   {
    "duration": 0,
    "start_time": "2022-03-24T07:37:48.683Z"
   },
   {
    "duration": 0,
    "start_time": "2022-03-24T07:37:48.684Z"
   },
   {
    "duration": 1223,
    "start_time": "2022-03-28T10:25:41.628Z"
   },
   {
    "duration": 42,
    "start_time": "2022-03-28T10:25:42.853Z"
   },
   {
    "duration": 25,
    "start_time": "2022-03-28T10:25:42.897Z"
   },
   {
    "duration": 39,
    "start_time": "2022-03-28T10:25:42.924Z"
   },
   {
    "duration": 10,
    "start_time": "2022-03-28T10:25:42.965Z"
   },
   {
    "duration": 34,
    "start_time": "2022-03-28T10:25:42.977Z"
   },
   {
    "duration": 46,
    "start_time": "2022-03-28T10:25:43.012Z"
   },
   {
    "duration": 21,
    "start_time": "2022-03-28T10:25:43.060Z"
   },
   {
    "duration": 22,
    "start_time": "2022-03-28T10:25:43.083Z"
   },
   {
    "duration": 17,
    "start_time": "2022-03-28T10:25:43.108Z"
   },
   {
    "duration": 168,
    "start_time": "2022-03-28T10:25:43.127Z"
   },
   {
    "duration": 6,
    "start_time": "2022-03-28T10:25:43.297Z"
   },
   {
    "duration": 24,
    "start_time": "2022-03-28T10:25:43.305Z"
   },
   {
    "duration": 16,
    "start_time": "2022-03-28T10:25:43.331Z"
   },
   {
    "duration": 8,
    "start_time": "2022-03-28T10:25:43.349Z"
   },
   {
    "duration": 10,
    "start_time": "2022-03-28T10:25:43.359Z"
   },
   {
    "duration": 5,
    "start_time": "2022-03-28T10:25:43.370Z"
   },
   {
    "duration": 8,
    "start_time": "2022-03-28T10:25:43.377Z"
   },
   {
    "duration": 5,
    "start_time": "2022-03-28T10:25:43.386Z"
   },
   {
    "duration": 11,
    "start_time": "2022-03-28T10:25:43.392Z"
   },
   {
    "duration": 11,
    "start_time": "2022-03-28T10:25:43.437Z"
   },
   {
    "duration": 20,
    "start_time": "2022-03-28T10:25:43.450Z"
   },
   {
    "duration": 27,
    "start_time": "2022-03-28T10:25:43.471Z"
   },
   {
    "duration": 23,
    "start_time": "2022-03-28T10:25:43.500Z"
   },
   {
    "duration": 7,
    "start_time": "2022-03-28T10:25:43.524Z"
   },
   {
    "duration": 391,
    "start_time": "2022-03-28T10:25:43.533Z"
   },
   {
    "duration": 12,
    "start_time": "2022-03-28T10:25:43.926Z"
   },
   {
    "duration": 383,
    "start_time": "2022-03-28T10:25:43.942Z"
   },
   {
    "duration": 21,
    "start_time": "2022-03-28T10:25:44.327Z"
   },
   {
    "duration": 13,
    "start_time": "2022-03-28T10:25:44.350Z"
   },
   {
    "duration": 245,
    "start_time": "2022-03-28T10:25:44.365Z"
   },
   {
    "duration": 250,
    "start_time": "2022-03-28T10:25:44.612Z"
   },
   {
    "duration": 9,
    "start_time": "2022-03-28T10:25:44.864Z"
   },
   {
    "duration": 107,
    "start_time": "2022-03-28T10:25:44.874Z"
   },
   {
    "duration": 5,
    "start_time": "2022-03-28T10:25:44.983Z"
   },
   {
    "duration": 9,
    "start_time": "2022-03-28T10:25:44.989Z"
   },
   {
    "duration": 32,
    "start_time": "2022-03-28T10:25:45.000Z"
   },
   {
    "duration": 10,
    "start_time": "2022-03-28T10:25:45.034Z"
   },
   {
    "duration": 28,
    "start_time": "2022-03-28T10:25:45.046Z"
   },
   {
    "duration": 239,
    "start_time": "2022-03-28T10:25:45.076Z"
   },
   {
    "duration": 293,
    "start_time": "2022-03-28T10:25:45.317Z"
   },
   {
    "duration": 10,
    "start_time": "2022-03-28T10:25:45.612Z"
   },
   {
    "duration": 17,
    "start_time": "2022-03-28T10:25:45.624Z"
   },
   {
    "duration": 11,
    "start_time": "2022-03-28T10:25:45.643Z"
   },
   {
    "duration": 8,
    "start_time": "2022-03-28T10:25:45.655Z"
   },
   {
    "duration": 510,
    "start_time": "2022-03-28T10:25:45.665Z"
   },
   {
    "duration": 9,
    "start_time": "2022-03-28T10:25:46.177Z"
   },
   {
    "duration": 158,
    "start_time": "2022-03-28T10:25:46.188Z"
   },
   {
    "duration": 22,
    "start_time": "2022-03-28T10:25:46.348Z"
   },
   {
    "duration": 17,
    "start_time": "2022-03-28T10:25:46.372Z"
   },
   {
    "duration": 11,
    "start_time": "2022-03-28T10:25:46.391Z"
   },
   {
    "duration": 34,
    "start_time": "2022-03-28T10:25:46.404Z"
   },
   {
    "duration": 149,
    "start_time": "2022-03-28T10:25:46.440Z"
   },
   {
    "duration": 7,
    "start_time": "2022-03-28T10:25:46.591Z"
   },
   {
    "duration": 150,
    "start_time": "2022-03-28T10:25:46.599Z"
   },
   {
    "duration": 5,
    "start_time": "2022-03-28T10:25:46.750Z"
   },
   {
    "duration": 12,
    "start_time": "2022-03-28T10:25:46.757Z"
   },
   {
    "duration": 24,
    "start_time": "2022-03-28T10:25:46.770Z"
   },
   {
    "duration": 17,
    "start_time": "2022-03-28T10:25:46.796Z"
   },
   {
    "duration": 87,
    "start_time": "2022-03-28T10:25:46.815Z"
   },
   {
    "duration": 3,
    "start_time": "2022-03-28T10:25:46.903Z"
   },
   {
    "duration": 32,
    "start_time": "2022-03-28T10:25:46.908Z"
   },
   {
    "duration": 3,
    "start_time": "2022-03-28T10:25:46.941Z"
   },
   {
    "duration": 187,
    "start_time": "2022-03-28T10:25:46.946Z"
   },
   {
    "duration": 3,
    "start_time": "2022-03-28T10:25:47.138Z"
   },
   {
    "duration": 185,
    "start_time": "2022-03-28T10:25:47.143Z"
   },
   {
    "duration": 21,
    "start_time": "2022-03-28T10:25:47.331Z"
   },
   {
    "duration": 308,
    "start_time": "2022-03-28T10:25:47.354Z"
   },
   {
    "duration": 22,
    "start_time": "2022-03-28T10:25:47.664Z"
   },
   {
    "duration": 16,
    "start_time": "2022-03-28T10:25:47.687Z"
   },
   {
    "duration": 7,
    "start_time": "2022-03-28T10:25:47.705Z"
   },
   {
    "duration": 319,
    "start_time": "2022-03-28T10:25:47.738Z"
   },
   {
    "duration": 10,
    "start_time": "2022-03-28T10:25:48.059Z"
   },
   {
    "duration": 421,
    "start_time": "2022-03-28T10:25:48.071Z"
   },
   {
    "duration": 8,
    "start_time": "2022-03-28T10:25:48.494Z"
   },
   {
    "duration": 8,
    "start_time": "2022-03-28T10:25:48.504Z"
   },
   {
    "duration": 8,
    "start_time": "2022-03-28T10:25:48.514Z"
   },
   {
    "duration": 9,
    "start_time": "2022-03-28T10:25:48.538Z"
   },
   {
    "duration": 7,
    "start_time": "2022-03-28T10:25:48.549Z"
   },
   {
    "duration": 8,
    "start_time": "2022-03-28T10:25:48.557Z"
   },
   {
    "duration": 19,
    "start_time": "2022-03-28T10:27:11.635Z"
   },
   {
    "duration": 27,
    "start_time": "2022-03-28T10:36:13.083Z"
   }
  ],
  "kernelspec": {
   "display_name": "Python 3",
   "language": "python",
   "name": "python3"
  },
  "language_info": {
   "codemirror_mode": {
    "name": "ipython",
    "version": 3
   },
   "file_extension": ".py",
   "mimetype": "text/x-python",
   "name": "python",
   "nbconvert_exporter": "python",
   "pygments_lexer": "ipython3",
   "version": "3.8.8"
  },
  "toc": {
   "base_numbering": 1,
   "nav_menu": {},
   "number_sections": true,
   "sideBar": true,
   "skip_h1_title": true,
   "title_cell": "Table of Contents",
   "title_sidebar": "Contents",
   "toc_cell": false,
   "toc_position": {
    "height": "calc(100% - 180px)",
    "left": "10px",
    "top": "150px",
    "width": "260px"
   },
   "toc_section_display": true,
   "toc_window_display": true
  }
 },
 "nbformat": 4,
 "nbformat_minor": 5
}
