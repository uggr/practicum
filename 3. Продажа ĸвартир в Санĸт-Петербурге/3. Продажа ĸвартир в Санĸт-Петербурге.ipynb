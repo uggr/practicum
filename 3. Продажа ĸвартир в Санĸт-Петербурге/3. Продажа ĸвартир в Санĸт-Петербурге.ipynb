{
 "cells": [
  {
   "cell_type": "markdown",
   "metadata": {},
   "source": [
    "# Исследование объявлений о продаже квартир\n",
    "\n",
    "В вашем распоряжении данные сервиса Яндекс.Недвижимость — архив объявлений о продаже квартир в Санкт-Петербурге и соседних населённых пунктах за несколько лет. Нужно научиться определять рыночную стоимость объектов недвижимости. Ваша задача — установить параметры. Это позволит построить автоматизированную систему: она отследит аномалии и мошенническую деятельность. \n",
    "\n",
    "По каждой квартире на продажу доступны два вида данных. Первые вписаны пользователем, вторые получены автоматически на основе картографических данных. Например, расстояние до центра, аэропорта, ближайшего парка и водоёма. "
   ]
  },
  {
   "cell_type": "markdown",
   "metadata": {},
   "source": [
    "## Изучение данных из файла"
   ]
  },
  {
   "cell_type": "code",
   "execution_count": 1,
   "metadata": {},
   "outputs": [],
   "source": [
    "import pandas as pd\n",
    "import numpy as np\n",
    "import seaborn as sns\n",
    "import matplotlib\n",
    "import matplotlib.pyplot as plt\n",
    "pd.set_option('display.float_format', '{:,.2f}'.format)"
   ]
  },
  {
   "cell_type": "code",
   "execution_count": 2,
   "metadata": {},
   "outputs": [],
   "source": [
    "df = pd.read_csv('/datasets/real_estate_data.csv', sep='\\t')"
   ]
  },
  {
   "cell_type": "code",
   "execution_count": 3,
   "metadata": {},
   "outputs": [],
   "source": [
    "def research(data_file):\n",
    "    display(data_file.head())\n",
    "    display(data_file.info())\n",
    "    display(data_file.describe())"
   ]
  },
  {
   "cell_type": "code",
   "execution_count": 4,
   "metadata": {},
   "outputs": [
    {
     "data": {
      "text/html": [
       "<div>\n",
       "<style scoped>\n",
       "    .dataframe tbody tr th:only-of-type {\n",
       "        vertical-align: middle;\n",
       "    }\n",
       "\n",
       "    .dataframe tbody tr th {\n",
       "        vertical-align: top;\n",
       "    }\n",
       "\n",
       "    .dataframe thead th {\n",
       "        text-align: right;\n",
       "    }\n",
       "</style>\n",
       "<table border=\"1\" class=\"dataframe\">\n",
       "  <thead>\n",
       "    <tr style=\"text-align: right;\">\n",
       "      <th></th>\n",
       "      <th>total_images</th>\n",
       "      <th>last_price</th>\n",
       "      <th>total_area</th>\n",
       "      <th>first_day_exposition</th>\n",
       "      <th>rooms</th>\n",
       "      <th>ceiling_height</th>\n",
       "      <th>floors_total</th>\n",
       "      <th>living_area</th>\n",
       "      <th>floor</th>\n",
       "      <th>is_apartment</th>\n",
       "      <th>...</th>\n",
       "      <th>kitchen_area</th>\n",
       "      <th>balcony</th>\n",
       "      <th>locality_name</th>\n",
       "      <th>airports_nearest</th>\n",
       "      <th>cityCenters_nearest</th>\n",
       "      <th>parks_around3000</th>\n",
       "      <th>parks_nearest</th>\n",
       "      <th>ponds_around3000</th>\n",
       "      <th>ponds_nearest</th>\n",
       "      <th>days_exposition</th>\n",
       "    </tr>\n",
       "  </thead>\n",
       "  <tbody>\n",
       "    <tr>\n",
       "      <th>0</th>\n",
       "      <td>20</td>\n",
       "      <td>13,000,000.00</td>\n",
       "      <td>108.00</td>\n",
       "      <td>2019-03-07T00:00:00</td>\n",
       "      <td>3</td>\n",
       "      <td>2.70</td>\n",
       "      <td>16.00</td>\n",
       "      <td>51.00</td>\n",
       "      <td>8</td>\n",
       "      <td>NaN</td>\n",
       "      <td>...</td>\n",
       "      <td>25.00</td>\n",
       "      <td>NaN</td>\n",
       "      <td>Санкт-Петербург</td>\n",
       "      <td>18,863.00</td>\n",
       "      <td>16,028.00</td>\n",
       "      <td>1.00</td>\n",
       "      <td>482.00</td>\n",
       "      <td>2.00</td>\n",
       "      <td>755.00</td>\n",
       "      <td>NaN</td>\n",
       "    </tr>\n",
       "    <tr>\n",
       "      <th>1</th>\n",
       "      <td>7</td>\n",
       "      <td>3,350,000.00</td>\n",
       "      <td>40.40</td>\n",
       "      <td>2018-12-04T00:00:00</td>\n",
       "      <td>1</td>\n",
       "      <td>NaN</td>\n",
       "      <td>11.00</td>\n",
       "      <td>18.60</td>\n",
       "      <td>1</td>\n",
       "      <td>NaN</td>\n",
       "      <td>...</td>\n",
       "      <td>11.00</td>\n",
       "      <td>2.00</td>\n",
       "      <td>посёлок Шушары</td>\n",
       "      <td>12,817.00</td>\n",
       "      <td>18,603.00</td>\n",
       "      <td>0.00</td>\n",
       "      <td>NaN</td>\n",
       "      <td>0.00</td>\n",
       "      <td>NaN</td>\n",
       "      <td>81.00</td>\n",
       "    </tr>\n",
       "    <tr>\n",
       "      <th>2</th>\n",
       "      <td>10</td>\n",
       "      <td>5,196,000.00</td>\n",
       "      <td>56.00</td>\n",
       "      <td>2015-08-20T00:00:00</td>\n",
       "      <td>2</td>\n",
       "      <td>NaN</td>\n",
       "      <td>5.00</td>\n",
       "      <td>34.30</td>\n",
       "      <td>4</td>\n",
       "      <td>NaN</td>\n",
       "      <td>...</td>\n",
       "      <td>8.30</td>\n",
       "      <td>0.00</td>\n",
       "      <td>Санкт-Петербург</td>\n",
       "      <td>21,741.00</td>\n",
       "      <td>13,933.00</td>\n",
       "      <td>1.00</td>\n",
       "      <td>90.00</td>\n",
       "      <td>2.00</td>\n",
       "      <td>574.00</td>\n",
       "      <td>558.00</td>\n",
       "    </tr>\n",
       "    <tr>\n",
       "      <th>3</th>\n",
       "      <td>0</td>\n",
       "      <td>64,900,000.00</td>\n",
       "      <td>159.00</td>\n",
       "      <td>2015-07-24T00:00:00</td>\n",
       "      <td>3</td>\n",
       "      <td>NaN</td>\n",
       "      <td>14.00</td>\n",
       "      <td>NaN</td>\n",
       "      <td>9</td>\n",
       "      <td>NaN</td>\n",
       "      <td>...</td>\n",
       "      <td>NaN</td>\n",
       "      <td>0.00</td>\n",
       "      <td>Санкт-Петербург</td>\n",
       "      <td>28,098.00</td>\n",
       "      <td>6,800.00</td>\n",
       "      <td>2.00</td>\n",
       "      <td>84.00</td>\n",
       "      <td>3.00</td>\n",
       "      <td>234.00</td>\n",
       "      <td>424.00</td>\n",
       "    </tr>\n",
       "    <tr>\n",
       "      <th>4</th>\n",
       "      <td>2</td>\n",
       "      <td>10,000,000.00</td>\n",
       "      <td>100.00</td>\n",
       "      <td>2018-06-19T00:00:00</td>\n",
       "      <td>2</td>\n",
       "      <td>3.03</td>\n",
       "      <td>14.00</td>\n",
       "      <td>32.00</td>\n",
       "      <td>13</td>\n",
       "      <td>NaN</td>\n",
       "      <td>...</td>\n",
       "      <td>41.00</td>\n",
       "      <td>NaN</td>\n",
       "      <td>Санкт-Петербург</td>\n",
       "      <td>31,856.00</td>\n",
       "      <td>8,098.00</td>\n",
       "      <td>2.00</td>\n",
       "      <td>112.00</td>\n",
       "      <td>1.00</td>\n",
       "      <td>48.00</td>\n",
       "      <td>121.00</td>\n",
       "    </tr>\n",
       "  </tbody>\n",
       "</table>\n",
       "<p>5 rows × 22 columns</p>\n",
       "</div>"
      ],
      "text/plain": [
       "   total_images    last_price  total_area first_day_exposition  rooms  \\\n",
       "0            20 13,000,000.00      108.00  2019-03-07T00:00:00      3   \n",
       "1             7  3,350,000.00       40.40  2018-12-04T00:00:00      1   \n",
       "2            10  5,196,000.00       56.00  2015-08-20T00:00:00      2   \n",
       "3             0 64,900,000.00      159.00  2015-07-24T00:00:00      3   \n",
       "4             2 10,000,000.00      100.00  2018-06-19T00:00:00      2   \n",
       "\n",
       "   ceiling_height  floors_total  living_area  floor is_apartment  ...  \\\n",
       "0            2.70         16.00        51.00      8          NaN  ...   \n",
       "1             NaN         11.00        18.60      1          NaN  ...   \n",
       "2             NaN          5.00        34.30      4          NaN  ...   \n",
       "3             NaN         14.00          NaN      9          NaN  ...   \n",
       "4            3.03         14.00        32.00     13          NaN  ...   \n",
       "\n",
       "   kitchen_area  balcony    locality_name  airports_nearest  \\\n",
       "0         25.00      NaN  Санкт-Петербург         18,863.00   \n",
       "1         11.00     2.00   посёлок Шушары         12,817.00   \n",
       "2          8.30     0.00  Санкт-Петербург         21,741.00   \n",
       "3           NaN     0.00  Санкт-Петербург         28,098.00   \n",
       "4         41.00      NaN  Санкт-Петербург         31,856.00   \n",
       "\n",
       "  cityCenters_nearest  parks_around3000  parks_nearest  ponds_around3000  \\\n",
       "0           16,028.00              1.00         482.00              2.00   \n",
       "1           18,603.00              0.00            NaN              0.00   \n",
       "2           13,933.00              1.00          90.00              2.00   \n",
       "3            6,800.00              2.00          84.00              3.00   \n",
       "4            8,098.00              2.00         112.00              1.00   \n",
       "\n",
       "   ponds_nearest  days_exposition  \n",
       "0         755.00              NaN  \n",
       "1            NaN            81.00  \n",
       "2         574.00           558.00  \n",
       "3         234.00           424.00  \n",
       "4          48.00           121.00  \n",
       "\n",
       "[5 rows x 22 columns]"
      ]
     },
     "metadata": {},
     "output_type": "display_data"
    },
    {
     "name": "stdout",
     "output_type": "stream",
     "text": [
      "<class 'pandas.core.frame.DataFrame'>\n",
      "RangeIndex: 23699 entries, 0 to 23698\n",
      "Data columns (total 22 columns):\n",
      " #   Column                Non-Null Count  Dtype  \n",
      "---  ------                --------------  -----  \n",
      " 0   total_images          23699 non-null  int64  \n",
      " 1   last_price            23699 non-null  float64\n",
      " 2   total_area            23699 non-null  float64\n",
      " 3   first_day_exposition  23699 non-null  object \n",
      " 4   rooms                 23699 non-null  int64  \n",
      " 5   ceiling_height        14504 non-null  float64\n",
      " 6   floors_total          23613 non-null  float64\n",
      " 7   living_area           21796 non-null  float64\n",
      " 8   floor                 23699 non-null  int64  \n",
      " 9   is_apartment          2775 non-null   object \n",
      " 10  studio                23699 non-null  bool   \n",
      " 11  open_plan             23699 non-null  bool   \n",
      " 12  kitchen_area          21421 non-null  float64\n",
      " 13  balcony               12180 non-null  float64\n",
      " 14  locality_name         23650 non-null  object \n",
      " 15  airports_nearest      18157 non-null  float64\n",
      " 16  cityCenters_nearest   18180 non-null  float64\n",
      " 17  parks_around3000      18181 non-null  float64\n",
      " 18  parks_nearest         8079 non-null   float64\n",
      " 19  ponds_around3000      18181 non-null  float64\n",
      " 20  ponds_nearest         9110 non-null   float64\n",
      " 21  days_exposition       20518 non-null  float64\n",
      "dtypes: bool(2), float64(14), int64(3), object(3)\n",
      "memory usage: 3.7+ MB\n"
     ]
    },
    {
     "data": {
      "text/plain": [
       "None"
      ]
     },
     "metadata": {},
     "output_type": "display_data"
    },
    {
     "data": {
      "text/html": [
       "<div>\n",
       "<style scoped>\n",
       "    .dataframe tbody tr th:only-of-type {\n",
       "        vertical-align: middle;\n",
       "    }\n",
       "\n",
       "    .dataframe tbody tr th {\n",
       "        vertical-align: top;\n",
       "    }\n",
       "\n",
       "    .dataframe thead th {\n",
       "        text-align: right;\n",
       "    }\n",
       "</style>\n",
       "<table border=\"1\" class=\"dataframe\">\n",
       "  <thead>\n",
       "    <tr style=\"text-align: right;\">\n",
       "      <th></th>\n",
       "      <th>total_images</th>\n",
       "      <th>last_price</th>\n",
       "      <th>total_area</th>\n",
       "      <th>rooms</th>\n",
       "      <th>ceiling_height</th>\n",
       "      <th>floors_total</th>\n",
       "      <th>living_area</th>\n",
       "      <th>floor</th>\n",
       "      <th>kitchen_area</th>\n",
       "      <th>balcony</th>\n",
       "      <th>airports_nearest</th>\n",
       "      <th>cityCenters_nearest</th>\n",
       "      <th>parks_around3000</th>\n",
       "      <th>parks_nearest</th>\n",
       "      <th>ponds_around3000</th>\n",
       "      <th>ponds_nearest</th>\n",
       "      <th>days_exposition</th>\n",
       "    </tr>\n",
       "  </thead>\n",
       "  <tbody>\n",
       "    <tr>\n",
       "      <th>count</th>\n",
       "      <td>23,699.00</td>\n",
       "      <td>23,699.00</td>\n",
       "      <td>23,699.00</td>\n",
       "      <td>23,699.00</td>\n",
       "      <td>14,504.00</td>\n",
       "      <td>23,613.00</td>\n",
       "      <td>21,796.00</td>\n",
       "      <td>23,699.00</td>\n",
       "      <td>21,421.00</td>\n",
       "      <td>12,180.00</td>\n",
       "      <td>18,157.00</td>\n",
       "      <td>18,180.00</td>\n",
       "      <td>18,181.00</td>\n",
       "      <td>8,079.00</td>\n",
       "      <td>18,181.00</td>\n",
       "      <td>9,110.00</td>\n",
       "      <td>20,518.00</td>\n",
       "    </tr>\n",
       "    <tr>\n",
       "      <th>mean</th>\n",
       "      <td>9.86</td>\n",
       "      <td>6,541,548.77</td>\n",
       "      <td>60.35</td>\n",
       "      <td>2.07</td>\n",
       "      <td>2.77</td>\n",
       "      <td>10.67</td>\n",
       "      <td>34.46</td>\n",
       "      <td>5.89</td>\n",
       "      <td>10.57</td>\n",
       "      <td>1.15</td>\n",
       "      <td>28,793.67</td>\n",
       "      <td>14,191.28</td>\n",
       "      <td>0.61</td>\n",
       "      <td>490.80</td>\n",
       "      <td>0.77</td>\n",
       "      <td>517.98</td>\n",
       "      <td>180.89</td>\n",
       "    </tr>\n",
       "    <tr>\n",
       "      <th>std</th>\n",
       "      <td>5.68</td>\n",
       "      <td>10,887,013.27</td>\n",
       "      <td>35.65</td>\n",
       "      <td>1.08</td>\n",
       "      <td>1.26</td>\n",
       "      <td>6.60</td>\n",
       "      <td>22.03</td>\n",
       "      <td>4.89</td>\n",
       "      <td>5.91</td>\n",
       "      <td>1.07</td>\n",
       "      <td>12,630.88</td>\n",
       "      <td>8,608.39</td>\n",
       "      <td>0.80</td>\n",
       "      <td>342.32</td>\n",
       "      <td>0.94</td>\n",
       "      <td>277.72</td>\n",
       "      <td>219.73</td>\n",
       "    </tr>\n",
       "    <tr>\n",
       "      <th>min</th>\n",
       "      <td>0.00</td>\n",
       "      <td>12,190.00</td>\n",
       "      <td>12.00</td>\n",
       "      <td>0.00</td>\n",
       "      <td>1.00</td>\n",
       "      <td>1.00</td>\n",
       "      <td>2.00</td>\n",
       "      <td>1.00</td>\n",
       "      <td>1.30</td>\n",
       "      <td>0.00</td>\n",
       "      <td>0.00</td>\n",
       "      <td>181.00</td>\n",
       "      <td>0.00</td>\n",
       "      <td>1.00</td>\n",
       "      <td>0.00</td>\n",
       "      <td>13.00</td>\n",
       "      <td>1.00</td>\n",
       "    </tr>\n",
       "    <tr>\n",
       "      <th>25%</th>\n",
       "      <td>6.00</td>\n",
       "      <td>3,400,000.00</td>\n",
       "      <td>40.00</td>\n",
       "      <td>1.00</td>\n",
       "      <td>2.52</td>\n",
       "      <td>5.00</td>\n",
       "      <td>18.60</td>\n",
       "      <td>2.00</td>\n",
       "      <td>7.00</td>\n",
       "      <td>0.00</td>\n",
       "      <td>18,585.00</td>\n",
       "      <td>9,238.00</td>\n",
       "      <td>0.00</td>\n",
       "      <td>288.00</td>\n",
       "      <td>0.00</td>\n",
       "      <td>294.00</td>\n",
       "      <td>45.00</td>\n",
       "    </tr>\n",
       "    <tr>\n",
       "      <th>50%</th>\n",
       "      <td>9.00</td>\n",
       "      <td>4,650,000.00</td>\n",
       "      <td>52.00</td>\n",
       "      <td>2.00</td>\n",
       "      <td>2.65</td>\n",
       "      <td>9.00</td>\n",
       "      <td>30.00</td>\n",
       "      <td>4.00</td>\n",
       "      <td>9.10</td>\n",
       "      <td>1.00</td>\n",
       "      <td>26,726.00</td>\n",
       "      <td>13,098.50</td>\n",
       "      <td>0.00</td>\n",
       "      <td>455.00</td>\n",
       "      <td>1.00</td>\n",
       "      <td>502.00</td>\n",
       "      <td>95.00</td>\n",
       "    </tr>\n",
       "    <tr>\n",
       "      <th>75%</th>\n",
       "      <td>14.00</td>\n",
       "      <td>6,800,000.00</td>\n",
       "      <td>69.90</td>\n",
       "      <td>3.00</td>\n",
       "      <td>2.80</td>\n",
       "      <td>16.00</td>\n",
       "      <td>42.30</td>\n",
       "      <td>8.00</td>\n",
       "      <td>12.00</td>\n",
       "      <td>2.00</td>\n",
       "      <td>37,273.00</td>\n",
       "      <td>16,293.00</td>\n",
       "      <td>1.00</td>\n",
       "      <td>612.00</td>\n",
       "      <td>1.00</td>\n",
       "      <td>729.00</td>\n",
       "      <td>232.00</td>\n",
       "    </tr>\n",
       "    <tr>\n",
       "      <th>max</th>\n",
       "      <td>50.00</td>\n",
       "      <td>763,000,000.00</td>\n",
       "      <td>900.00</td>\n",
       "      <td>19.00</td>\n",
       "      <td>100.00</td>\n",
       "      <td>60.00</td>\n",
       "      <td>409.70</td>\n",
       "      <td>33.00</td>\n",
       "      <td>112.00</td>\n",
       "      <td>5.00</td>\n",
       "      <td>84,869.00</td>\n",
       "      <td>65,968.00</td>\n",
       "      <td>3.00</td>\n",
       "      <td>3,190.00</td>\n",
       "      <td>3.00</td>\n",
       "      <td>1,344.00</td>\n",
       "      <td>1,580.00</td>\n",
       "    </tr>\n",
       "  </tbody>\n",
       "</table>\n",
       "</div>"
      ],
      "text/plain": [
       "       total_images     last_price  total_area     rooms  ceiling_height  \\\n",
       "count     23,699.00      23,699.00   23,699.00 23,699.00       14,504.00   \n",
       "mean           9.86   6,541,548.77       60.35      2.07            2.77   \n",
       "std            5.68  10,887,013.27       35.65      1.08            1.26   \n",
       "min            0.00      12,190.00       12.00      0.00            1.00   \n",
       "25%            6.00   3,400,000.00       40.00      1.00            2.52   \n",
       "50%            9.00   4,650,000.00       52.00      2.00            2.65   \n",
       "75%           14.00   6,800,000.00       69.90      3.00            2.80   \n",
       "max           50.00 763,000,000.00      900.00     19.00          100.00   \n",
       "\n",
       "       floors_total  living_area     floor  kitchen_area   balcony  \\\n",
       "count     23,613.00    21,796.00 23,699.00     21,421.00 12,180.00   \n",
       "mean          10.67        34.46      5.89         10.57      1.15   \n",
       "std            6.60        22.03      4.89          5.91      1.07   \n",
       "min            1.00         2.00      1.00          1.30      0.00   \n",
       "25%            5.00        18.60      2.00          7.00      0.00   \n",
       "50%            9.00        30.00      4.00          9.10      1.00   \n",
       "75%           16.00        42.30      8.00         12.00      2.00   \n",
       "max           60.00       409.70     33.00        112.00      5.00   \n",
       "\n",
       "       airports_nearest  cityCenters_nearest  parks_around3000  parks_nearest  \\\n",
       "count         18,157.00            18,180.00         18,181.00       8,079.00   \n",
       "mean          28,793.67            14,191.28              0.61         490.80   \n",
       "std           12,630.88             8,608.39              0.80         342.32   \n",
       "min                0.00               181.00              0.00           1.00   \n",
       "25%           18,585.00             9,238.00              0.00         288.00   \n",
       "50%           26,726.00            13,098.50              0.00         455.00   \n",
       "75%           37,273.00            16,293.00              1.00         612.00   \n",
       "max           84,869.00            65,968.00              3.00       3,190.00   \n",
       "\n",
       "       ponds_around3000  ponds_nearest  days_exposition  \n",
       "count         18,181.00       9,110.00        20,518.00  \n",
       "mean               0.77         517.98           180.89  \n",
       "std                0.94         277.72           219.73  \n",
       "min                0.00          13.00             1.00  \n",
       "25%                0.00         294.00            45.00  \n",
       "50%                1.00         502.00            95.00  \n",
       "75%                1.00         729.00           232.00  \n",
       "max                3.00       1,344.00         1,580.00  "
      ]
     },
     "metadata": {},
     "output_type": "display_data"
    }
   ],
   "source": [
    "research(df)"
   ]
  },
  {
   "cell_type": "markdown",
   "metadata": {},
   "source": [
    "### Вывод"
   ]
  },
  {
   "cell_type": "markdown",
   "metadata": {},
   "source": [
    "Видим в таблице 22 колонки и 23699 строк, типы данных представлены `int64`, `float64`, `object` и `bool`.\n",
    "\n",
    "Количество значений в колонках различается, значит, **в данных есть пропущенные значения**."
   ]
  },
  {
   "cell_type": "markdown",
   "metadata": {},
   "source": [
    "## Предобработка данных"
   ]
  },
  {
   "cell_type": "markdown",
   "metadata": {},
   "source": [
    "**Проверка стиля заголовков.**"
   ]
  },
  {
   "cell_type": "code",
   "execution_count": 5,
   "metadata": {},
   "outputs": [
    {
     "data": {
      "text/plain": [
       "Index(['total_images', 'last_price', 'total_area', 'first_day_exposition',\n",
       "       'rooms', 'ceiling_height', 'floors_total', 'living_area', 'floor',\n",
       "       'is_apartment', 'studio', 'open_plan', 'kitchen_area', 'balcony',\n",
       "       'locality_name', 'airports_nearest', 'cityCenters_nearest',\n",
       "       'parks_around3000', 'parks_nearest', 'ponds_around3000',\n",
       "       'ponds_nearest', 'days_exposition'],\n",
       "      dtype='object')"
      ]
     },
     "execution_count": 5,
     "metadata": {},
     "output_type": "execute_result"
    }
   ],
   "source": [
    "df.columns"
   ]
  },
  {
   "cell_type": "markdown",
   "metadata": {},
   "source": [
    "Стиль заголовков колонок `cityCenters_nearest`, `parks_around3000`, `ponds_around3000` не соответствует общему стилю. Переименуем колонки."
   ]
  },
  {
   "cell_type": "code",
   "execution_count": 6,
   "metadata": {},
   "outputs": [],
   "source": [
    "df.rename(columns={'cityCenters_nearest':'city_сenters_nearest',\n",
    "                  'parks_around3000':'parks_around_3000',\n",
    "                  'ponds_around3000':'ponds_around_3000'},\n",
    "          inplace=True)"
   ]
  },
  {
   "cell_type": "markdown",
   "metadata": {},
   "source": [
    "**Проверим наличие дубликатов**"
   ]
  },
  {
   "cell_type": "code",
   "execution_count": 7,
   "metadata": {},
   "outputs": [
    {
     "data": {
      "text/plain": [
       "0"
      ]
     },
     "execution_count": 7,
     "metadata": {},
     "output_type": "execute_result"
    }
   ],
   "source": [
    "df.duplicated().sum()"
   ]
  },
  {
   "cell_type": "markdown",
   "metadata": {},
   "source": [
    "Дубликатов в таблице нет"
   ]
  },
  {
   "cell_type": "markdown",
   "metadata": {},
   "source": [
    "**Обработка пропусков и изменение типа данных**\n",
    "\n",
    "Выведем количество пропусков в каждой колонке"
   ]
  },
  {
   "cell_type": "code",
   "execution_count": 8,
   "metadata": {
    "scrolled": true
   },
   "outputs": [
    {
     "data": {
      "text/plain": [
       "total_images                0\n",
       "last_price                  0\n",
       "total_area                  0\n",
       "first_day_exposition        0\n",
       "rooms                       0\n",
       "ceiling_height           9195\n",
       "floors_total               86\n",
       "living_area              1903\n",
       "floor                       0\n",
       "is_apartment            20924\n",
       "studio                      0\n",
       "open_plan                   0\n",
       "kitchen_area             2278\n",
       "balcony                 11519\n",
       "locality_name              49\n",
       "airports_nearest         5542\n",
       "city_сenters_nearest     5519\n",
       "parks_around_3000        5518\n",
       "parks_nearest           15620\n",
       "ponds_around_3000        5518\n",
       "ponds_nearest           14589\n",
       "days_exposition          3181\n",
       "dtype: int64"
      ]
     },
     "execution_count": 8,
     "metadata": {},
     "output_type": "execute_result"
    }
   ],
   "source": [
    "df.isna().sum()"
   ]
  },
  {
   "cell_type": "code",
   "execution_count": 9,
   "metadata": {
    "scrolled": true
   },
   "outputs": [
    {
     "data": {
      "text/plain": [
       "total_images            0.00\n",
       "last_price              0.00\n",
       "total_area              0.00\n",
       "first_day_exposition    0.00\n",
       "rooms                   0.00\n",
       "ceiling_height         38.80\n",
       "floors_total            0.36\n",
       "living_area             8.03\n",
       "floor                   0.00\n",
       "is_apartment           88.29\n",
       "studio                  0.00\n",
       "open_plan               0.00\n",
       "kitchen_area            9.61\n",
       "balcony                48.61\n",
       "locality_name           0.21\n",
       "airports_nearest       23.38\n",
       "city_сenters_nearest   23.29\n",
       "parks_around_3000      23.28\n",
       "parks_nearest          65.91\n",
       "ponds_around_3000      23.28\n",
       "ponds_nearest          61.56\n",
       "days_exposition        13.42\n",
       "dtype: float64"
      ]
     },
     "execution_count": 9,
     "metadata": {},
     "output_type": "execute_result"
    }
   ],
   "source": [
    "df.isna().mean()*100"
   ]
  },
  {
   "cell_type": "markdown",
   "metadata": {},
   "source": [
    "В 14 колонках из 22 видим пропуски данных.\n",
    "\n",
    "Разделим колонки на 4 группы в зависимости от объекта который они описывают:\n",
    "1. Объявление: \n",
    "    - `total_images` — число фотографий квартиры в объявлении\n",
    "    - `first_day_exposition` — дата публикации\n",
    "    - `days_exposition` — сколько дней было размещено объявление (от публикации до снятия)\n",
    "2. Цена:\n",
    "    - `last_price` — цена на момент снятия с публикации\n",
    "3. Объект:\n",
    "    - `total_area` — площадь квартиры в квадратных метрах (м²)\n",
    "    - `rooms` — число комнат\n",
    "    - `ceiling_height` — высота потолков (м)\n",
    "    - `floors_total` — всего этажей в доме\n",
    "    - `living_area` — жилая площадь в квадратных метрах (м²)\n",
    "    - `floor` — этаж\n",
    "    - `is_apartment` — апартаменты (булев тип)\n",
    "    - `studio` — квартира-студия (булев тип)\n",
    "    - `open_plan` — свободная планировка (булев тип)\n",
    "    - `kitchen_area` — площадь кухни в квадратных метрах (м²)\n",
    "    - `balcony` — число балконов\n",
    "4. Местонахождение:\n",
    "    - `locality_name` — название населённого пункта\n",
    "    - `airports_nearest` — расстояние до ближайшего аэропорта в метрах (м)\n",
    "    - `cityCenters_nearest` — расстояние до центра города (м)\n",
    "    - `parks_around3000` — число парков в радиусе 3 км\n",
    "    - `parks_nearest` — расстояние до ближайшего парка (м)\n",
    "    - `ponds_around3000` — число водоёмов в радиусе 3 км\n",
    "    - `ponds_nearest` — расстояние до ближайшего водоёма (м)"
   ]
  },
  {
   "cell_type": "markdown",
   "metadata": {},
   "source": [
    "**Рассмотрим данные связанные с датами в таблице**"
   ]
  },
  {
   "cell_type": "markdown",
   "metadata": {},
   "source": [
    "`first_day_exposition`— дата публикации\n",
    "\n",
    "Данные представлены в формате `object`, заменим на формат даты год-месяц-день"
   ]
  },
  {
   "cell_type": "code",
   "execution_count": 10,
   "metadata": {},
   "outputs": [],
   "source": [
    "df['first_day_exposition'] = pd.to_datetime(df['first_day_exposition'], format='%Y-%m-%d')"
   ]
  },
  {
   "cell_type": "markdown",
   "metadata": {},
   "source": [
    "`days_exposition` — сколько дней было размещено объявление\n",
    "\n",
    "В колонке 3181 пропуска, возможно на момент предоставления данных, квартиры еще не были проданы и объявления не были сняты с публикации."
   ]
  },
  {
   "cell_type": "markdown",
   "metadata": {},
   "source": [
    "**Вывод**:\n",
    "- В колонке `first_day_exposition` и `days_exposition` заменили тип данных на `date`, что даст возможность работать с ними как с датой.\n",
    "- В колонке `days_exposition` пропуски не заполнили, что будет говорить нам о том, что эти объявления ещё не были сняты с публикации."
   ]
  },
  {
   "cell_type": "markdown",
   "metadata": {},
   "source": [
    "**Рассмотрим данные связанные с ценой объекта недвижимости last_price**"
   ]
  },
  {
   "cell_type": "code",
   "execution_count": 11,
   "metadata": {
    "scrolled": true
   },
   "outputs": [
    {
     "data": {
      "text/plain": [
       "count        23,699.00\n",
       "mean      6,541,548.77\n",
       "std      10,887,013.27\n",
       "min          12,190.00\n",
       "25%       3,400,000.00\n",
       "50%       4,650,000.00\n",
       "75%       6,800,000.00\n",
       "max     763,000,000.00\n",
       "Name: last_price, dtype: float64"
      ]
     },
     "execution_count": 11,
     "metadata": {},
     "output_type": "execute_result"
    }
   ],
   "source": [
    "df['last_price'].describe()"
   ]
  },
  {
   "cell_type": "markdown",
   "metadata": {},
   "source": [
    "Странное минимальное значение проверим его."
   ]
  },
  {
   "cell_type": "code",
   "execution_count": 12,
   "metadata": {},
   "outputs": [
    {
     "data": {
      "text/html": [
       "<div>\n",
       "<style scoped>\n",
       "    .dataframe tbody tr th:only-of-type {\n",
       "        vertical-align: middle;\n",
       "    }\n",
       "\n",
       "    .dataframe tbody tr th {\n",
       "        vertical-align: top;\n",
       "    }\n",
       "\n",
       "    .dataframe thead th {\n",
       "        text-align: right;\n",
       "    }\n",
       "</style>\n",
       "<table border=\"1\" class=\"dataframe\">\n",
       "  <thead>\n",
       "    <tr style=\"text-align: right;\">\n",
       "      <th></th>\n",
       "      <th>total_images</th>\n",
       "      <th>last_price</th>\n",
       "      <th>total_area</th>\n",
       "      <th>first_day_exposition</th>\n",
       "      <th>rooms</th>\n",
       "      <th>ceiling_height</th>\n",
       "      <th>floors_total</th>\n",
       "      <th>living_area</th>\n",
       "      <th>floor</th>\n",
       "      <th>is_apartment</th>\n",
       "      <th>...</th>\n",
       "      <th>kitchen_area</th>\n",
       "      <th>balcony</th>\n",
       "      <th>locality_name</th>\n",
       "      <th>airports_nearest</th>\n",
       "      <th>city_сenters_nearest</th>\n",
       "      <th>parks_around_3000</th>\n",
       "      <th>parks_nearest</th>\n",
       "      <th>ponds_around_3000</th>\n",
       "      <th>ponds_nearest</th>\n",
       "      <th>days_exposition</th>\n",
       "    </tr>\n",
       "  </thead>\n",
       "  <tbody>\n",
       "    <tr>\n",
       "      <th>8793</th>\n",
       "      <td>7</td>\n",
       "      <td>12,190.00</td>\n",
       "      <td>109.00</td>\n",
       "      <td>2019-03-20</td>\n",
       "      <td>2</td>\n",
       "      <td>2.75</td>\n",
       "      <td>25.00</td>\n",
       "      <td>32.00</td>\n",
       "      <td>25</td>\n",
       "      <td>NaN</td>\n",
       "      <td>...</td>\n",
       "      <td>40.50</td>\n",
       "      <td>NaN</td>\n",
       "      <td>Санкт-Петербург</td>\n",
       "      <td>36,421.00</td>\n",
       "      <td>9,176.00</td>\n",
       "      <td>1.00</td>\n",
       "      <td>805.00</td>\n",
       "      <td>0.00</td>\n",
       "      <td>NaN</td>\n",
       "      <td>8.00</td>\n",
       "    </tr>\n",
       "  </tbody>\n",
       "</table>\n",
       "<p>1 rows × 22 columns</p>\n",
       "</div>"
      ],
      "text/plain": [
       "      total_images  last_price  total_area first_day_exposition  rooms  \\\n",
       "8793             7   12,190.00      109.00           2019-03-20      2   \n",
       "\n",
       "      ceiling_height  floors_total  living_area  floor is_apartment  ...  \\\n",
       "8793            2.75         25.00        32.00     25          NaN  ...   \n",
       "\n",
       "      kitchen_area  balcony    locality_name  airports_nearest  \\\n",
       "8793         40.50      NaN  Санкт-Петербург         36,421.00   \n",
       "\n",
       "     city_сenters_nearest  parks_around_3000  parks_nearest  \\\n",
       "8793             9,176.00               1.00         805.00   \n",
       "\n",
       "      ponds_around_3000  ponds_nearest  days_exposition  \n",
       "8793               0.00            NaN             8.00  \n",
       "\n",
       "[1 rows x 22 columns]"
      ]
     },
     "execution_count": 12,
     "metadata": {},
     "output_type": "execute_result"
    }
   ],
   "source": [
    "df.query('last_price<100_000')"
   ]
  },
  {
   "cell_type": "markdown",
   "metadata": {},
   "source": [
    "Для площади 109 м, цена в колонке похоже указана в тысячах, исправим значение."
   ]
  },
  {
   "cell_type": "code",
   "execution_count": 13,
   "metadata": {},
   "outputs": [],
   "source": [
    "df.loc[8793, 'last_price'] = df.loc[8793, 'last_price']*1000"
   ]
  },
  {
   "cell_type": "markdown",
   "metadata": {},
   "source": [
    "Проверим максимальные значения"
   ]
  },
  {
   "cell_type": "code",
   "execution_count": 14,
   "metadata": {},
   "outputs": [
    {
     "data": {
      "text/html": [
       "<div>\n",
       "<style scoped>\n",
       "    .dataframe tbody tr th:only-of-type {\n",
       "        vertical-align: middle;\n",
       "    }\n",
       "\n",
       "    .dataframe tbody tr th {\n",
       "        vertical-align: top;\n",
       "    }\n",
       "\n",
       "    .dataframe thead th {\n",
       "        text-align: right;\n",
       "    }\n",
       "</style>\n",
       "<table border=\"1\" class=\"dataframe\">\n",
       "  <thead>\n",
       "    <tr style=\"text-align: right;\">\n",
       "      <th></th>\n",
       "      <th>total_images</th>\n",
       "      <th>last_price</th>\n",
       "      <th>total_area</th>\n",
       "      <th>first_day_exposition</th>\n",
       "      <th>rooms</th>\n",
       "      <th>ceiling_height</th>\n",
       "      <th>floors_total</th>\n",
       "      <th>living_area</th>\n",
       "      <th>floor</th>\n",
       "      <th>is_apartment</th>\n",
       "      <th>...</th>\n",
       "      <th>kitchen_area</th>\n",
       "      <th>balcony</th>\n",
       "      <th>locality_name</th>\n",
       "      <th>airports_nearest</th>\n",
       "      <th>city_сenters_nearest</th>\n",
       "      <th>parks_around_3000</th>\n",
       "      <th>parks_nearest</th>\n",
       "      <th>ponds_around_3000</th>\n",
       "      <th>ponds_nearest</th>\n",
       "      <th>days_exposition</th>\n",
       "    </tr>\n",
       "  </thead>\n",
       "  <tbody>\n",
       "    <tr>\n",
       "      <th>1436</th>\n",
       "      <td>19</td>\n",
       "      <td>330,000,000.00</td>\n",
       "      <td>190.00</td>\n",
       "      <td>2018-04-04</td>\n",
       "      <td>3</td>\n",
       "      <td>3.50</td>\n",
       "      <td>7.00</td>\n",
       "      <td>95.00</td>\n",
       "      <td>5</td>\n",
       "      <td>NaN</td>\n",
       "      <td>...</td>\n",
       "      <td>40.00</td>\n",
       "      <td>NaN</td>\n",
       "      <td>Санкт-Петербург</td>\n",
       "      <td>23,011.00</td>\n",
       "      <td>1,197.00</td>\n",
       "      <td>3.00</td>\n",
       "      <td>519.00</td>\n",
       "      <td>3.00</td>\n",
       "      <td>285.00</td>\n",
       "      <td>233.00</td>\n",
       "    </tr>\n",
       "    <tr>\n",
       "      <th>12971</th>\n",
       "      <td>19</td>\n",
       "      <td>763,000,000.00</td>\n",
       "      <td>400.00</td>\n",
       "      <td>2017-09-30</td>\n",
       "      <td>7</td>\n",
       "      <td>NaN</td>\n",
       "      <td>10.00</td>\n",
       "      <td>250.00</td>\n",
       "      <td>10</td>\n",
       "      <td>NaN</td>\n",
       "      <td>...</td>\n",
       "      <td>NaN</td>\n",
       "      <td>2.00</td>\n",
       "      <td>Санкт-Петербург</td>\n",
       "      <td>25,108.00</td>\n",
       "      <td>3,956.00</td>\n",
       "      <td>1.00</td>\n",
       "      <td>530.00</td>\n",
       "      <td>3.00</td>\n",
       "      <td>756.00</td>\n",
       "      <td>33.00</td>\n",
       "    </tr>\n",
       "    <tr>\n",
       "      <th>14706</th>\n",
       "      <td>15</td>\n",
       "      <td>401,300,000.00</td>\n",
       "      <td>401.00</td>\n",
       "      <td>2016-02-20</td>\n",
       "      <td>5</td>\n",
       "      <td>NaN</td>\n",
       "      <td>9.00</td>\n",
       "      <td>204.00</td>\n",
       "      <td>9</td>\n",
       "      <td>False</td>\n",
       "      <td>...</td>\n",
       "      <td>24.00</td>\n",
       "      <td>3.00</td>\n",
       "      <td>Санкт-Петербург</td>\n",
       "      <td>21,912.00</td>\n",
       "      <td>2,389.00</td>\n",
       "      <td>1.00</td>\n",
       "      <td>545.00</td>\n",
       "      <td>1.00</td>\n",
       "      <td>478.00</td>\n",
       "      <td>393.00</td>\n",
       "    </tr>\n",
       "    <tr>\n",
       "      <th>15651</th>\n",
       "      <td>20</td>\n",
       "      <td>300,000,000.00</td>\n",
       "      <td>618.00</td>\n",
       "      <td>2017-12-18</td>\n",
       "      <td>7</td>\n",
       "      <td>3.40</td>\n",
       "      <td>7.00</td>\n",
       "      <td>258.00</td>\n",
       "      <td>5</td>\n",
       "      <td>NaN</td>\n",
       "      <td>...</td>\n",
       "      <td>70.00</td>\n",
       "      <td>NaN</td>\n",
       "      <td>Санкт-Петербург</td>\n",
       "      <td>32,440.00</td>\n",
       "      <td>5,297.00</td>\n",
       "      <td>0.00</td>\n",
       "      <td>NaN</td>\n",
       "      <td>2.00</td>\n",
       "      <td>198.00</td>\n",
       "      <td>111.00</td>\n",
       "    </tr>\n",
       "    <tr>\n",
       "      <th>19540</th>\n",
       "      <td>8</td>\n",
       "      <td>420,000,000.00</td>\n",
       "      <td>900.00</td>\n",
       "      <td>2017-12-06</td>\n",
       "      <td>12</td>\n",
       "      <td>2.80</td>\n",
       "      <td>25.00</td>\n",
       "      <td>409.70</td>\n",
       "      <td>25</td>\n",
       "      <td>NaN</td>\n",
       "      <td>...</td>\n",
       "      <td>112.00</td>\n",
       "      <td>NaN</td>\n",
       "      <td>Санкт-Петербург</td>\n",
       "      <td>30,706.00</td>\n",
       "      <td>7,877.00</td>\n",
       "      <td>0.00</td>\n",
       "      <td>NaN</td>\n",
       "      <td>2.00</td>\n",
       "      <td>318.00</td>\n",
       "      <td>106.00</td>\n",
       "    </tr>\n",
       "    <tr>\n",
       "      <th>22831</th>\n",
       "      <td>18</td>\n",
       "      <td>289,238,400.00</td>\n",
       "      <td>187.50</td>\n",
       "      <td>2019-03-19</td>\n",
       "      <td>2</td>\n",
       "      <td>3.37</td>\n",
       "      <td>6.00</td>\n",
       "      <td>63.70</td>\n",
       "      <td>6</td>\n",
       "      <td>NaN</td>\n",
       "      <td>...</td>\n",
       "      <td>30.20</td>\n",
       "      <td>NaN</td>\n",
       "      <td>Санкт-Петербург</td>\n",
       "      <td>22,494.00</td>\n",
       "      <td>1,073.00</td>\n",
       "      <td>3.00</td>\n",
       "      <td>386.00</td>\n",
       "      <td>3.00</td>\n",
       "      <td>188.00</td>\n",
       "      <td>NaN</td>\n",
       "    </tr>\n",
       "  </tbody>\n",
       "</table>\n",
       "<p>6 rows × 22 columns</p>\n",
       "</div>"
      ],
      "text/plain": [
       "       total_images     last_price  total_area first_day_exposition  rooms  \\\n",
       "1436             19 330,000,000.00      190.00           2018-04-04      3   \n",
       "12971            19 763,000,000.00      400.00           2017-09-30      7   \n",
       "14706            15 401,300,000.00      401.00           2016-02-20      5   \n",
       "15651            20 300,000,000.00      618.00           2017-12-18      7   \n",
       "19540             8 420,000,000.00      900.00           2017-12-06     12   \n",
       "22831            18 289,238,400.00      187.50           2019-03-19      2   \n",
       "\n",
       "       ceiling_height  floors_total  living_area  floor is_apartment  ...  \\\n",
       "1436             3.50          7.00        95.00      5          NaN  ...   \n",
       "12971             NaN         10.00       250.00     10          NaN  ...   \n",
       "14706             NaN          9.00       204.00      9        False  ...   \n",
       "15651            3.40          7.00       258.00      5          NaN  ...   \n",
       "19540            2.80         25.00       409.70     25          NaN  ...   \n",
       "22831            3.37          6.00        63.70      6          NaN  ...   \n",
       "\n",
       "       kitchen_area  balcony    locality_name  airports_nearest  \\\n",
       "1436          40.00      NaN  Санкт-Петербург         23,011.00   \n",
       "12971           NaN     2.00  Санкт-Петербург         25,108.00   \n",
       "14706         24.00     3.00  Санкт-Петербург         21,912.00   \n",
       "15651         70.00      NaN  Санкт-Петербург         32,440.00   \n",
       "19540        112.00      NaN  Санкт-Петербург         30,706.00   \n",
       "22831         30.20      NaN  Санкт-Петербург         22,494.00   \n",
       "\n",
       "      city_сenters_nearest  parks_around_3000  parks_nearest  \\\n",
       "1436              1,197.00               3.00         519.00   \n",
       "12971             3,956.00               1.00         530.00   \n",
       "14706             2,389.00               1.00         545.00   \n",
       "15651             5,297.00               0.00            NaN   \n",
       "19540             7,877.00               0.00            NaN   \n",
       "22831             1,073.00               3.00         386.00   \n",
       "\n",
       "       ponds_around_3000  ponds_nearest  days_exposition  \n",
       "1436                3.00         285.00           233.00  \n",
       "12971               3.00         756.00            33.00  \n",
       "14706               1.00         478.00           393.00  \n",
       "15651               2.00         198.00           111.00  \n",
       "19540               2.00         318.00           106.00  \n",
       "22831               3.00         188.00              NaN  \n",
       "\n",
       "[6 rows x 22 columns]"
      ]
     },
     "execution_count": 14,
     "metadata": {},
     "output_type": "execute_result"
    }
   ],
   "source": [
    "df.query('last_price>250_000_000')"
   ]
  },
  {
   "cell_type": "markdown",
   "metadata": {},
   "source": [
    "Максимальные значения похоже указаны без ошибки. Так самая дорогая квартира за 763 млн находится на последнем этаже 10 этажного дома, возможно это пентхаус.\n",
    "\n",
    "**Вывод**\n",
    "\n",
    "При рассмотрении значения цены были обнаружены неординарные значения минимальной и максимальной цены. Значение минимальной цены было исправлено как ошибка заполнения, максимальные цены видимо реальны."
   ]
  },
  {
   "cell_type": "markdown",
   "metadata": {},
   "source": [
    "**Рассмотрим данные связанные с местонахождением объекта недвижимости**"
   ]
  },
  {
   "cell_type": "markdown",
   "metadata": {},
   "source": [
    "Нам дано 7 колонок с характеристиками местоположения объекта недвижимости:\n",
    "- `locality_name` — название населённого пункта\n",
    "- `airports_nearest` — расстояние до ближайшего аэропорта в метрах (м)\n",
    "- `city_сenters_nearest` — расстояние до центра города (м)\n",
    "- `parks_around_3000` — число парков в радиусе 3 км\n",
    "- `parks_nearest` — расстояние до ближайшего парка (м)\n",
    "- `ponds_around_3000` — число водоёмов в радиусе 3 км\n",
    "- `ponds_nearest` — расстояние до ближайшего водоёма (м)\n",
    "\n",
    "Известно, что данные включают в себя информацию о продаже квартир в Санкт-Петербурге и соседних населённых пунктах.\n",
    "\n",
    "Пропуски обнаружены во всех колонках, так же потребуется замена типа данных. Выведем количество населенных пунктов"
   ]
  },
  {
   "cell_type": "code",
   "execution_count": 15,
   "metadata": {},
   "outputs": [
    {
     "data": {
      "text/plain": [
       "364"
      ]
     },
     "metadata": {},
     "output_type": "display_data"
    }
   ],
   "source": [
    "# Выведем количество и список населенных пунктов\n",
    "display(df['locality_name'].nunique())"
   ]
  },
  {
   "cell_type": "code",
   "execution_count": 16,
   "metadata": {},
   "outputs": [
    {
     "data": {
      "text/plain": [
       "Санкт-Петербург    15721\n",
       "посёлок Мурино       522\n",
       "посёлок Шушары       440\n",
       "Всеволожск           398\n",
       "Пушкин               369\n",
       "Name: locality_name, dtype: int64"
      ]
     },
     "execution_count": 16,
     "metadata": {},
     "output_type": "execute_result"
    }
   ],
   "source": [
    "df['locality_name'].value_counts().head()"
   ]
  },
  {
   "cell_type": "markdown",
   "metadata": {},
   "source": [
    "В таблице представлено 364 населенных пункта, часть относятся к районам Санкт-Петербурга часть к Ленинградской области. \n",
    "На Санкт-Петербург приходится 15747(66,4%) строк таблицы. \n",
    "\n",
    "В колонке locality_name обнаружено 49 пропусков. Для их заполнения посмотрим насколько они удалены от центра города. При этом, например, Всеволжск относящийся к области, находится ближе к центру чем Зеленогорск, относящийся к городу.\n",
    "\n",
    "Выведем описательную статистику пропусков в locality_name и посмотрим на их удаленность от центра"
   ]
  },
  {
   "cell_type": "code",
   "execution_count": 17,
   "metadata": {},
   "outputs": [
    {
     "data": {
      "text/plain": [
       "count       41.00\n",
       "mean    11,278.90\n",
       "std      8,910.06\n",
       "min      1,322.00\n",
       "25%      4,383.00\n",
       "50%      8,943.00\n",
       "75%     17,369.00\n",
       "max     41,294.00\n",
       "Name: city_сenters_nearest, dtype: float64"
      ]
     },
     "execution_count": 17,
     "metadata": {},
     "output_type": "execute_result"
    }
   ],
   "source": [
    "df.query('locality_name != locality_name')['city_сenters_nearest'].describe()"
   ]
  },
  {
   "cell_type": "markdown",
   "metadata": {},
   "source": [
    "Выведем аналогичную информацию по Санкт-Петербургу"
   ]
  },
  {
   "cell_type": "code",
   "execution_count": 18,
   "metadata": {},
   "outputs": [
    {
     "data": {
      "text/plain": [
       "count   15,660.00\n",
       "mean    11,601.29\n",
       "std      4,842.04\n",
       "min        181.00\n",
       "25%      8,327.00\n",
       "50%     12,244.50\n",
       "75%     14,943.00\n",
       "max     29,493.00\n",
       "Name: city_сenters_nearest, dtype: float64"
      ]
     },
     "execution_count": 18,
     "metadata": {},
     "output_type": "execute_result"
    }
   ],
   "source": [
    "df.query('locality_name == \"Санкт-Петербург\"')['city_сenters_nearest'].describe()"
   ]
  },
  {
   "cell_type": "markdown",
   "metadata": {},
   "source": [
    "Пропуски могут находится как в городе так и в области. Определим, если пропуск находится ближе чем медианное значение расстояния от центра города, то это Санкт-Петербург, остальным выставим значение unknown"
   ]
  },
  {
   "cell_type": "markdown",
   "metadata": {},
   "source": [
    "- Создадим функцию которая сравнивает расстояние до центра и возвращает заданное значение. \n",
    "- Добавим в таблицу колонку с результатами работы функции.\n",
    "- Заменим пропуски значениями из новой колонки и удаляем её."
   ]
  },
  {
   "cell_type": "code",
   "execution_count": 19,
   "metadata": {},
   "outputs": [],
   "source": [
    "сenter_median = df.query('locality_name == \"Санкт-Петербург\"')['city_сenters_nearest'].median()"
   ]
  },
  {
   "cell_type": "code",
   "execution_count": 20,
   "metadata": {},
   "outputs": [],
   "source": [
    "def location(city_сenters_nearest):\n",
    "    if city_сenters_nearest < сenter_median:\n",
    "        return 'Санкт-Петербург'\n",
    "    return 'unknown'\n",
    "\n",
    "df['locality_name2'] = df['city_сenters_nearest'].apply(location)\n",
    "\n",
    "df['locality_name'] = df['locality_name'].fillna(df['locality_name2'])\n",
    "df = df.drop(columns = ['locality_name2'],axis = 1)"
   ]
  },
  {
   "cell_type": "markdown",
   "metadata": {},
   "source": [
    "Проверим значения"
   ]
  },
  {
   "cell_type": "code",
   "execution_count": 21,
   "metadata": {},
   "outputs": [
    {
     "data": {
      "text/plain": [
       "23"
      ]
     },
     "execution_count": 21,
     "metadata": {},
     "output_type": "execute_result"
    }
   ],
   "source": [
    "df[df['locality_name']==\"unknown\"]['rooms'].count()"
   ]
  },
  {
   "cell_type": "markdown",
   "metadata": {},
   "source": [
    "**Вывод**:\n",
    "Из 49 пропусков `locality_name` мы заменили 26 на значение Санкт-Петербург и 23 остались неизвестны"
   ]
  },
  {
   "cell_type": "markdown",
   "metadata": {},
   "source": [
    "Проверим расстояние до аэропорта и расстояние до центра города, где 5542 и 5519 пропуска соответственно. Поскольку самый большой по количеству значений Санкт-Петербург, то посмотрим сколько пропусков он содержит"
   ]
  },
  {
   "cell_type": "markdown",
   "metadata": {},
   "source": [
    "Выведем пропуски airports_nearest по Санкт-Петербургу "
   ]
  },
  {
   "cell_type": "code",
   "execution_count": 22,
   "metadata": {},
   "outputs": [
    {
     "data": {
      "text/plain": [
       "85"
      ]
     },
     "execution_count": 22,
     "metadata": {},
     "output_type": "execute_result"
    }
   ],
   "source": [
    "df.query('locality_name == \"Санкт-Петербург\"')['airports_nearest'].isna().sum()"
   ]
  },
  {
   "cell_type": "markdown",
   "metadata": {},
   "source": [
    "Выведем пропуски city_сenters_nearest по Санкт-Петербургу"
   ]
  },
  {
   "cell_type": "code",
   "execution_count": 23,
   "metadata": {},
   "outputs": [
    {
     "data": {
      "text/plain": [
       "61"
      ]
     },
     "execution_count": 23,
     "metadata": {},
     "output_type": "execute_result"
    }
   ],
   "source": [
    "df.query('locality_name == \"Санкт-Петербург\"')['city_сenters_nearest'].isna().sum()"
   ]
  },
  {
   "cell_type": "markdown",
   "metadata": {},
   "source": [
    "В обоих случаях количество пропусков не значительно, заменим пропуски на медианное значение в зависимости от населенного пункта"
   ]
  },
  {
   "cell_type": "code",
   "execution_count": 24,
   "metadata": {},
   "outputs": [],
   "source": [
    "df['airports_nearest'] = (df['airports_nearest']\n",
    "                          .fillna(df.groupby('locality_name')['airports_nearest']\n",
    "                                  .transform('median')))"
   ]
  },
  {
   "cell_type": "code",
   "execution_count": 25,
   "metadata": {},
   "outputs": [],
   "source": [
    "df['city_сenters_nearest'] = (df['city_сenters_nearest']\n",
    "                          .fillna(df.groupby('locality_name')['city_сenters_nearest']\n",
    "                                  .transform('median')))"
   ]
  },
  {
   "cell_type": "markdown",
   "metadata": {},
   "source": [
    "Заменим значение метров на километры и округлим до десятых"
   ]
  },
  {
   "cell_type": "code",
   "execution_count": 26,
   "metadata": {},
   "outputs": [],
   "source": [
    "df[['airports_nearest','city_сenters_nearest']] = (df[['airports_nearest','city_сenters_nearest']]/1000).round(1)"
   ]
  },
  {
   "cell_type": "markdown",
   "metadata": {},
   "source": [
    "**Вывод**\n",
    "\n",
    "Пропуски удаленности от аэропорта и от центра города в Санкт-Петербурге заменили на медианные значения. Остальные пропуски относятся к населенными пунктами расположенными в Ленинградской области, их не трогали."
   ]
  },
  {
   "cell_type": "markdown",
   "metadata": {},
   "source": [
    "Пропуски в колонках parks_around_3000 и ponds_around_3000 заменим на 0 и изменим тип данных на int"
   ]
  },
  {
   "cell_type": "code",
   "execution_count": 27,
   "metadata": {},
   "outputs": [],
   "source": [
    "df[['parks_around_3000', 'ponds_around_3000']] = df[['parks_around_3000', 'ponds_around_3000']].fillna(0)\n",
    "df[['parks_around_3000', 'ponds_around_3000']] = df[['parks_around_3000', 'ponds_around_3000']].astype(int)"
   ]
  },
  {
   "cell_type": "markdown",
   "metadata": {},
   "source": [
    "Пропуски в колонках parks_nearest и ponds_nearest менять не будем"
   ]
  },
  {
   "cell_type": "code",
   "execution_count": 28,
   "metadata": {},
   "outputs": [
    {
     "data": {
      "text/html": [
       "<div>\n",
       "<style scoped>\n",
       "    .dataframe tbody tr th:only-of-type {\n",
       "        vertical-align: middle;\n",
       "    }\n",
       "\n",
       "    .dataframe tbody tr th {\n",
       "        vertical-align: top;\n",
       "    }\n",
       "\n",
       "    .dataframe thead th {\n",
       "        text-align: right;\n",
       "    }\n",
       "</style>\n",
       "<table border=\"1\" class=\"dataframe\">\n",
       "  <thead>\n",
       "    <tr style=\"text-align: right;\">\n",
       "      <th></th>\n",
       "      <th>total_images</th>\n",
       "      <th>last_price</th>\n",
       "      <th>total_area</th>\n",
       "      <th>first_day_exposition</th>\n",
       "      <th>rooms</th>\n",
       "      <th>ceiling_height</th>\n",
       "      <th>floors_total</th>\n",
       "      <th>living_area</th>\n",
       "      <th>floor</th>\n",
       "      <th>is_apartment</th>\n",
       "      <th>...</th>\n",
       "      <th>kitchen_area</th>\n",
       "      <th>balcony</th>\n",
       "      <th>locality_name</th>\n",
       "      <th>airports_nearest</th>\n",
       "      <th>city_сenters_nearest</th>\n",
       "      <th>parks_around_3000</th>\n",
       "      <th>parks_nearest</th>\n",
       "      <th>ponds_around_3000</th>\n",
       "      <th>ponds_nearest</th>\n",
       "      <th>days_exposition</th>\n",
       "    </tr>\n",
       "  </thead>\n",
       "  <tbody>\n",
       "    <tr>\n",
       "      <th>0</th>\n",
       "      <td>20</td>\n",
       "      <td>13,000,000.00</td>\n",
       "      <td>108.00</td>\n",
       "      <td>2019-03-07</td>\n",
       "      <td>3</td>\n",
       "      <td>2.70</td>\n",
       "      <td>16.00</td>\n",
       "      <td>51.00</td>\n",
       "      <td>8</td>\n",
       "      <td>NaN</td>\n",
       "      <td>...</td>\n",
       "      <td>25.00</td>\n",
       "      <td>NaN</td>\n",
       "      <td>Санкт-Петербург</td>\n",
       "      <td>18.90</td>\n",
       "      <td>16.00</td>\n",
       "      <td>1</td>\n",
       "      <td>482.00</td>\n",
       "      <td>2</td>\n",
       "      <td>755.00</td>\n",
       "      <td>NaN</td>\n",
       "    </tr>\n",
       "    <tr>\n",
       "      <th>1</th>\n",
       "      <td>7</td>\n",
       "      <td>3,350,000.00</td>\n",
       "      <td>40.40</td>\n",
       "      <td>2018-12-04</td>\n",
       "      <td>1</td>\n",
       "      <td>NaN</td>\n",
       "      <td>11.00</td>\n",
       "      <td>18.60</td>\n",
       "      <td>1</td>\n",
       "      <td>NaN</td>\n",
       "      <td>...</td>\n",
       "      <td>11.00</td>\n",
       "      <td>2.00</td>\n",
       "      <td>посёлок Шушары</td>\n",
       "      <td>12.80</td>\n",
       "      <td>18.60</td>\n",
       "      <td>0</td>\n",
       "      <td>NaN</td>\n",
       "      <td>0</td>\n",
       "      <td>NaN</td>\n",
       "      <td>81.00</td>\n",
       "    </tr>\n",
       "    <tr>\n",
       "      <th>2</th>\n",
       "      <td>10</td>\n",
       "      <td>5,196,000.00</td>\n",
       "      <td>56.00</td>\n",
       "      <td>2015-08-20</td>\n",
       "      <td>2</td>\n",
       "      <td>NaN</td>\n",
       "      <td>5.00</td>\n",
       "      <td>34.30</td>\n",
       "      <td>4</td>\n",
       "      <td>NaN</td>\n",
       "      <td>...</td>\n",
       "      <td>8.30</td>\n",
       "      <td>0.00</td>\n",
       "      <td>Санкт-Петербург</td>\n",
       "      <td>21.70</td>\n",
       "      <td>13.90</td>\n",
       "      <td>1</td>\n",
       "      <td>90.00</td>\n",
       "      <td>2</td>\n",
       "      <td>574.00</td>\n",
       "      <td>558.00</td>\n",
       "    </tr>\n",
       "    <tr>\n",
       "      <th>3</th>\n",
       "      <td>0</td>\n",
       "      <td>64,900,000.00</td>\n",
       "      <td>159.00</td>\n",
       "      <td>2015-07-24</td>\n",
       "      <td>3</td>\n",
       "      <td>NaN</td>\n",
       "      <td>14.00</td>\n",
       "      <td>NaN</td>\n",
       "      <td>9</td>\n",
       "      <td>NaN</td>\n",
       "      <td>...</td>\n",
       "      <td>NaN</td>\n",
       "      <td>0.00</td>\n",
       "      <td>Санкт-Петербург</td>\n",
       "      <td>28.10</td>\n",
       "      <td>6.80</td>\n",
       "      <td>2</td>\n",
       "      <td>84.00</td>\n",
       "      <td>3</td>\n",
       "      <td>234.00</td>\n",
       "      <td>424.00</td>\n",
       "    </tr>\n",
       "    <tr>\n",
       "      <th>4</th>\n",
       "      <td>2</td>\n",
       "      <td>10,000,000.00</td>\n",
       "      <td>100.00</td>\n",
       "      <td>2018-06-19</td>\n",
       "      <td>2</td>\n",
       "      <td>3.03</td>\n",
       "      <td>14.00</td>\n",
       "      <td>32.00</td>\n",
       "      <td>13</td>\n",
       "      <td>NaN</td>\n",
       "      <td>...</td>\n",
       "      <td>41.00</td>\n",
       "      <td>NaN</td>\n",
       "      <td>Санкт-Петербург</td>\n",
       "      <td>31.90</td>\n",
       "      <td>8.10</td>\n",
       "      <td>2</td>\n",
       "      <td>112.00</td>\n",
       "      <td>1</td>\n",
       "      <td>48.00</td>\n",
       "      <td>121.00</td>\n",
       "    </tr>\n",
       "  </tbody>\n",
       "</table>\n",
       "<p>5 rows × 22 columns</p>\n",
       "</div>"
      ],
      "text/plain": [
       "   total_images    last_price  total_area first_day_exposition  rooms  \\\n",
       "0            20 13,000,000.00      108.00           2019-03-07      3   \n",
       "1             7  3,350,000.00       40.40           2018-12-04      1   \n",
       "2            10  5,196,000.00       56.00           2015-08-20      2   \n",
       "3             0 64,900,000.00      159.00           2015-07-24      3   \n",
       "4             2 10,000,000.00      100.00           2018-06-19      2   \n",
       "\n",
       "   ceiling_height  floors_total  living_area  floor is_apartment  ...  \\\n",
       "0            2.70         16.00        51.00      8          NaN  ...   \n",
       "1             NaN         11.00        18.60      1          NaN  ...   \n",
       "2             NaN          5.00        34.30      4          NaN  ...   \n",
       "3             NaN         14.00          NaN      9          NaN  ...   \n",
       "4            3.03         14.00        32.00     13          NaN  ...   \n",
       "\n",
       "   kitchen_area  balcony    locality_name  airports_nearest  \\\n",
       "0         25.00      NaN  Санкт-Петербург             18.90   \n",
       "1         11.00     2.00   посёлок Шушары             12.80   \n",
       "2          8.30     0.00  Санкт-Петербург             21.70   \n",
       "3           NaN     0.00  Санкт-Петербург             28.10   \n",
       "4         41.00      NaN  Санкт-Петербург             31.90   \n",
       "\n",
       "  city_сenters_nearest  parks_around_3000  parks_nearest  ponds_around_3000  \\\n",
       "0                16.00                  1         482.00                  2   \n",
       "1                18.60                  0            NaN                  0   \n",
       "2                13.90                  1          90.00                  2   \n",
       "3                 6.80                  2          84.00                  3   \n",
       "4                 8.10                  2         112.00                  1   \n",
       "\n",
       "   ponds_nearest  days_exposition  \n",
       "0         755.00              NaN  \n",
       "1            NaN            81.00  \n",
       "2         574.00           558.00  \n",
       "3         234.00           424.00  \n",
       "4          48.00           121.00  \n",
       "\n",
       "[5 rows x 22 columns]"
      ]
     },
     "execution_count": 28,
     "metadata": {},
     "output_type": "execute_result"
    }
   ],
   "source": [
    "df.head()"
   ]
  },
  {
   "cell_type": "markdown",
   "metadata": {},
   "source": [
    "**Вывод**:\n",
    "\n",
    "Из 23699 строк таблицы 15747(66,4%) приходится на Санкт-Петербург. По возможности пропуски были заменены на медианные значения. Значительная часть пропусков осталась не заполнена, но эти пропуски в основном относятся к объектам недвижимости Ленинградской области, где расстояние до центра и до аэропорта видимо не столь актуально.\n",
    "\n",
    "Для заполнения пропусков можно взять карту и по очереди выписать какое поселение относится к городу, а какое к области, расстояние до центра и прочие показатели, либо где-то взять уже готовую информацию.\n",
    "\n",
    "Также частично были изменены типы данных, метры заменены на километры с округлением до десятых долей. Это поможет сэкономить расчетные ресурсы и более понятно для восприятия информации."
   ]
  },
  {
   "cell_type": "markdown",
   "metadata": {},
   "source": [
    "**Рассмотрим данные связанные с описанием объекта недвижимости**"
   ]
  },
  {
   "cell_type": "markdown",
   "metadata": {},
   "source": [
    "**ceiling_height — высота потолков (м)**"
   ]
  },
  {
   "cell_type": "code",
   "execution_count": 29,
   "metadata": {},
   "outputs": [
    {
     "data": {
      "text/plain": [
       "count   14,504.00\n",
       "mean         2.77\n",
       "std          1.26\n",
       "min          1.00\n",
       "25%          2.52\n",
       "50%          2.65\n",
       "75%          2.80\n",
       "max        100.00\n",
       "Name: ceiling_height, dtype: float64"
      ]
     },
     "execution_count": 29,
     "metadata": {},
     "output_type": "execute_result"
    }
   ],
   "source": [
    "df['ceiling_height'].describe()"
   ]
  },
  {
   "cell_type": "markdown",
   "metadata": {},
   "source": [
    "Обнаружено 9195 пропусков. Кроме пропусков, в колонке `ceiling_height` так же есть явные отклонения:\n",
    " - минимальное значение высоты потолка - 1м,\n",
    " - максимальное значение высоты потолка - 100м.\n",
    " \n",
    "По действующим нормам минимальная высота потолка 2,4 м. Но возможно что в некоторых нестандартных помещениях высота может опускаться до 2 метров. Все что ниже маловероятно."
   ]
  },
  {
   "cell_type": "markdown",
   "metadata": {},
   "source": [
    "Заменим значения меньше 2 м на медиану"
   ]
  },
  {
   "cell_type": "code",
   "execution_count": 30,
   "metadata": {},
   "outputs": [],
   "source": [
    "df.loc[(df['ceiling_height'] < 2), 'ceiling_height'] = df['ceiling_height'].median()"
   ]
  },
  {
   "cell_type": "markdown",
   "metadata": {},
   "source": [
    "Максимальное значение высоты потолка не рагламентируется. Как мы видели ранее в дорогих квартирах высота потолка достигает 3,5 метра, если это 2-х уровневая квартира, то потолок может быть 7 м.\n",
    "\n",
    "Посмотрим на значения где потолок выше 7 метров"
   ]
  },
  {
   "cell_type": "code",
   "execution_count": 31,
   "metadata": {},
   "outputs": [
    {
     "data": {
      "text/html": [
       "<div>\n",
       "<style scoped>\n",
       "    .dataframe tbody tr th:only-of-type {\n",
       "        vertical-align: middle;\n",
       "    }\n",
       "\n",
       "    .dataframe tbody tr th {\n",
       "        vertical-align: top;\n",
       "    }\n",
       "\n",
       "    .dataframe thead th {\n",
       "        text-align: right;\n",
       "    }\n",
       "</style>\n",
       "<table border=\"1\" class=\"dataframe\">\n",
       "  <thead>\n",
       "    <tr style=\"text-align: right;\">\n",
       "      <th></th>\n",
       "      <th>total_images</th>\n",
       "      <th>last_price</th>\n",
       "      <th>total_area</th>\n",
       "      <th>first_day_exposition</th>\n",
       "      <th>rooms</th>\n",
       "      <th>ceiling_height</th>\n",
       "      <th>floors_total</th>\n",
       "      <th>living_area</th>\n",
       "      <th>floor</th>\n",
       "      <th>is_apartment</th>\n",
       "      <th>...</th>\n",
       "      <th>kitchen_area</th>\n",
       "      <th>balcony</th>\n",
       "      <th>locality_name</th>\n",
       "      <th>airports_nearest</th>\n",
       "      <th>city_сenters_nearest</th>\n",
       "      <th>parks_around_3000</th>\n",
       "      <th>parks_nearest</th>\n",
       "      <th>ponds_around_3000</th>\n",
       "      <th>ponds_nearest</th>\n",
       "      <th>days_exposition</th>\n",
       "    </tr>\n",
       "  </thead>\n",
       "  <tbody>\n",
       "    <tr>\n",
       "      <th>355</th>\n",
       "      <td>17</td>\n",
       "      <td>3,600,000.00</td>\n",
       "      <td>55.20</td>\n",
       "      <td>2018-07-12</td>\n",
       "      <td>2</td>\n",
       "      <td>25.00</td>\n",
       "      <td>5.00</td>\n",
       "      <td>32.00</td>\n",
       "      <td>2</td>\n",
       "      <td>False</td>\n",
       "      <td>...</td>\n",
       "      <td>NaN</td>\n",
       "      <td>2.00</td>\n",
       "      <td>Гатчина</td>\n",
       "      <td>NaN</td>\n",
       "      <td>NaN</td>\n",
       "      <td>0</td>\n",
       "      <td>NaN</td>\n",
       "      <td>0</td>\n",
       "      <td>NaN</td>\n",
       "      <td>259.00</td>\n",
       "    </tr>\n",
       "    <tr>\n",
       "      <th>3148</th>\n",
       "      <td>14</td>\n",
       "      <td>2,900,000.00</td>\n",
       "      <td>75.00</td>\n",
       "      <td>2018-11-12</td>\n",
       "      <td>3</td>\n",
       "      <td>32.00</td>\n",
       "      <td>3.00</td>\n",
       "      <td>53.00</td>\n",
       "      <td>2</td>\n",
       "      <td>NaN</td>\n",
       "      <td>...</td>\n",
       "      <td>8.00</td>\n",
       "      <td>NaN</td>\n",
       "      <td>Волхов</td>\n",
       "      <td>NaN</td>\n",
       "      <td>NaN</td>\n",
       "      <td>0</td>\n",
       "      <td>NaN</td>\n",
       "      <td>0</td>\n",
       "      <td>NaN</td>\n",
       "      <td>NaN</td>\n",
       "    </tr>\n",
       "    <tr>\n",
       "      <th>3474</th>\n",
       "      <td>3</td>\n",
       "      <td>1,400,000.00</td>\n",
       "      <td>30.00</td>\n",
       "      <td>2018-03-16</td>\n",
       "      <td>1</td>\n",
       "      <td>8.00</td>\n",
       "      <td>5.00</td>\n",
       "      <td>15.30</td>\n",
       "      <td>2</td>\n",
       "      <td>False</td>\n",
       "      <td>...</td>\n",
       "      <td>7.30</td>\n",
       "      <td>NaN</td>\n",
       "      <td>деревня Нурма</td>\n",
       "      <td>NaN</td>\n",
       "      <td>NaN</td>\n",
       "      <td>0</td>\n",
       "      <td>NaN</td>\n",
       "      <td>0</td>\n",
       "      <td>NaN</td>\n",
       "      <td>125.00</td>\n",
       "    </tr>\n",
       "    <tr>\n",
       "      <th>4643</th>\n",
       "      <td>0</td>\n",
       "      <td>4,300,000.00</td>\n",
       "      <td>45.00</td>\n",
       "      <td>2018-02-01</td>\n",
       "      <td>2</td>\n",
       "      <td>25.00</td>\n",
       "      <td>9.00</td>\n",
       "      <td>30.00</td>\n",
       "      <td>2</td>\n",
       "      <td>NaN</td>\n",
       "      <td>...</td>\n",
       "      <td>7.00</td>\n",
       "      <td>1.00</td>\n",
       "      <td>Санкт-Петербург</td>\n",
       "      <td>12.00</td>\n",
       "      <td>13.30</td>\n",
       "      <td>1</td>\n",
       "      <td>658.00</td>\n",
       "      <td>1</td>\n",
       "      <td>331.00</td>\n",
       "      <td>181.00</td>\n",
       "    </tr>\n",
       "    <tr>\n",
       "      <th>4876</th>\n",
       "      <td>7</td>\n",
       "      <td>3,000,000.00</td>\n",
       "      <td>25.00</td>\n",
       "      <td>2017-09-27</td>\n",
       "      <td>0</td>\n",
       "      <td>27.00</td>\n",
       "      <td>25.00</td>\n",
       "      <td>17.00</td>\n",
       "      <td>17</td>\n",
       "      <td>NaN</td>\n",
       "      <td>...</td>\n",
       "      <td>NaN</td>\n",
       "      <td>2.00</td>\n",
       "      <td>посёлок Мурино</td>\n",
       "      <td>NaN</td>\n",
       "      <td>NaN</td>\n",
       "      <td>0</td>\n",
       "      <td>NaN</td>\n",
       "      <td>0</td>\n",
       "      <td>NaN</td>\n",
       "      <td>28.00</td>\n",
       "    </tr>\n",
       "    <tr>\n",
       "      <th>5076</th>\n",
       "      <td>0</td>\n",
       "      <td>3,850,000.00</td>\n",
       "      <td>30.50</td>\n",
       "      <td>2018-10-03</td>\n",
       "      <td>1</td>\n",
       "      <td>24.00</td>\n",
       "      <td>5.00</td>\n",
       "      <td>19.50</td>\n",
       "      <td>1</td>\n",
       "      <td>True</td>\n",
       "      <td>...</td>\n",
       "      <td>5.50</td>\n",
       "      <td>NaN</td>\n",
       "      <td>Санкт-Петербург</td>\n",
       "      <td>29.70</td>\n",
       "      <td>8.40</td>\n",
       "      <td>3</td>\n",
       "      <td>397.00</td>\n",
       "      <td>1</td>\n",
       "      <td>578.00</td>\n",
       "      <td>7.00</td>\n",
       "    </tr>\n",
       "    <tr>\n",
       "      <th>5246</th>\n",
       "      <td>0</td>\n",
       "      <td>2,500,000.00</td>\n",
       "      <td>54.00</td>\n",
       "      <td>2017-10-13</td>\n",
       "      <td>2</td>\n",
       "      <td>27.00</td>\n",
       "      <td>5.00</td>\n",
       "      <td>30.00</td>\n",
       "      <td>3</td>\n",
       "      <td>NaN</td>\n",
       "      <td>...</td>\n",
       "      <td>9.00</td>\n",
       "      <td>2.00</td>\n",
       "      <td>деревня Мины</td>\n",
       "      <td>NaN</td>\n",
       "      <td>NaN</td>\n",
       "      <td>0</td>\n",
       "      <td>NaN</td>\n",
       "      <td>0</td>\n",
       "      <td>NaN</td>\n",
       "      <td>540.00</td>\n",
       "    </tr>\n",
       "    <tr>\n",
       "      <th>5669</th>\n",
       "      <td>4</td>\n",
       "      <td>4,400,000.00</td>\n",
       "      <td>50.00</td>\n",
       "      <td>2017-08-08</td>\n",
       "      <td>2</td>\n",
       "      <td>26.00</td>\n",
       "      <td>9.00</td>\n",
       "      <td>21.30</td>\n",
       "      <td>3</td>\n",
       "      <td>NaN</td>\n",
       "      <td>...</td>\n",
       "      <td>7.00</td>\n",
       "      <td>2.00</td>\n",
       "      <td>Санкт-Петербург</td>\n",
       "      <td>29.00</td>\n",
       "      <td>10.90</td>\n",
       "      <td>1</td>\n",
       "      <td>305.00</td>\n",
       "      <td>0</td>\n",
       "      <td>NaN</td>\n",
       "      <td>267.00</td>\n",
       "    </tr>\n",
       "    <tr>\n",
       "      <th>5807</th>\n",
       "      <td>17</td>\n",
       "      <td>8,150,000.00</td>\n",
       "      <td>80.00</td>\n",
       "      <td>2019-01-09</td>\n",
       "      <td>2</td>\n",
       "      <td>27.00</td>\n",
       "      <td>36.00</td>\n",
       "      <td>41.00</td>\n",
       "      <td>13</td>\n",
       "      <td>NaN</td>\n",
       "      <td>...</td>\n",
       "      <td>12.00</td>\n",
       "      <td>5.00</td>\n",
       "      <td>Санкт-Петербург</td>\n",
       "      <td>18.70</td>\n",
       "      <td>20.40</td>\n",
       "      <td>0</td>\n",
       "      <td>NaN</td>\n",
       "      <td>3</td>\n",
       "      <td>80.00</td>\n",
       "      <td>38.00</td>\n",
       "    </tr>\n",
       "    <tr>\n",
       "      <th>5863</th>\n",
       "      <td>20</td>\n",
       "      <td>5,650,000.00</td>\n",
       "      <td>45.00</td>\n",
       "      <td>2018-08-15</td>\n",
       "      <td>1</td>\n",
       "      <td>8.30</td>\n",
       "      <td>16.00</td>\n",
       "      <td>19.30</td>\n",
       "      <td>14</td>\n",
       "      <td>NaN</td>\n",
       "      <td>...</td>\n",
       "      <td>8.30</td>\n",
       "      <td>1.00</td>\n",
       "      <td>Санкт-Петербург</td>\n",
       "      <td>13.10</td>\n",
       "      <td>10.80</td>\n",
       "      <td>0</td>\n",
       "      <td>NaN</td>\n",
       "      <td>1</td>\n",
       "      <td>613.00</td>\n",
       "      <td>14.00</td>\n",
       "    </tr>\n",
       "    <tr>\n",
       "      <th>6246</th>\n",
       "      <td>6</td>\n",
       "      <td>3,300,000.00</td>\n",
       "      <td>44.40</td>\n",
       "      <td>2019-03-25</td>\n",
       "      <td>2</td>\n",
       "      <td>25.00</td>\n",
       "      <td>5.00</td>\n",
       "      <td>31.30</td>\n",
       "      <td>5</td>\n",
       "      <td>NaN</td>\n",
       "      <td>...</td>\n",
       "      <td>5.70</td>\n",
       "      <td>NaN</td>\n",
       "      <td>Кронштадт</td>\n",
       "      <td>68.90</td>\n",
       "      <td>50.60</td>\n",
       "      <td>1</td>\n",
       "      <td>417.00</td>\n",
       "      <td>2</td>\n",
       "      <td>73.00</td>\n",
       "      <td>NaN</td>\n",
       "    </tr>\n",
       "    <tr>\n",
       "      <th>9379</th>\n",
       "      <td>5</td>\n",
       "      <td>3,950,000.00</td>\n",
       "      <td>42.00</td>\n",
       "      <td>2017-03-26</td>\n",
       "      <td>3</td>\n",
       "      <td>25.00</td>\n",
       "      <td>5.00</td>\n",
       "      <td>30.00</td>\n",
       "      <td>2</td>\n",
       "      <td>NaN</td>\n",
       "      <td>...</td>\n",
       "      <td>5.20</td>\n",
       "      <td>NaN</td>\n",
       "      <td>Санкт-Петербург</td>\n",
       "      <td>11.60</td>\n",
       "      <td>13.60</td>\n",
       "      <td>0</td>\n",
       "      <td>NaN</td>\n",
       "      <td>0</td>\n",
       "      <td>NaN</td>\n",
       "      <td>NaN</td>\n",
       "    </tr>\n",
       "    <tr>\n",
       "      <th>10773</th>\n",
       "      <td>8</td>\n",
       "      <td>3,800,000.00</td>\n",
       "      <td>58.00</td>\n",
       "      <td>2017-10-13</td>\n",
       "      <td>2</td>\n",
       "      <td>27.00</td>\n",
       "      <td>10.00</td>\n",
       "      <td>30.10</td>\n",
       "      <td>3</td>\n",
       "      <td>False</td>\n",
       "      <td>...</td>\n",
       "      <td>8.10</td>\n",
       "      <td>2.00</td>\n",
       "      <td>посёлок Мурино</td>\n",
       "      <td>NaN</td>\n",
       "      <td>NaN</td>\n",
       "      <td>0</td>\n",
       "      <td>NaN</td>\n",
       "      <td>0</td>\n",
       "      <td>NaN</td>\n",
       "      <td>71.00</td>\n",
       "    </tr>\n",
       "    <tr>\n",
       "      <th>11285</th>\n",
       "      <td>0</td>\n",
       "      <td>1,950,000.00</td>\n",
       "      <td>37.00</td>\n",
       "      <td>2019-03-20</td>\n",
       "      <td>1</td>\n",
       "      <td>25.00</td>\n",
       "      <td>5.00</td>\n",
       "      <td>17.00</td>\n",
       "      <td>4</td>\n",
       "      <td>False</td>\n",
       "      <td>...</td>\n",
       "      <td>9.00</td>\n",
       "      <td>2.00</td>\n",
       "      <td>Луга</td>\n",
       "      <td>NaN</td>\n",
       "      <td>NaN</td>\n",
       "      <td>0</td>\n",
       "      <td>NaN</td>\n",
       "      <td>0</td>\n",
       "      <td>NaN</td>\n",
       "      <td>18.00</td>\n",
       "    </tr>\n",
       "    <tr>\n",
       "      <th>14382</th>\n",
       "      <td>9</td>\n",
       "      <td>1,700,000.00</td>\n",
       "      <td>35.00</td>\n",
       "      <td>2015-12-04</td>\n",
       "      <td>1</td>\n",
       "      <td>25.00</td>\n",
       "      <td>5.00</td>\n",
       "      <td>20.00</td>\n",
       "      <td>2</td>\n",
       "      <td>False</td>\n",
       "      <td>...</td>\n",
       "      <td>8.00</td>\n",
       "      <td>1.00</td>\n",
       "      <td>поселок Новый Свет</td>\n",
       "      <td>NaN</td>\n",
       "      <td>NaN</td>\n",
       "      <td>0</td>\n",
       "      <td>NaN</td>\n",
       "      <td>0</td>\n",
       "      <td>NaN</td>\n",
       "      <td>206.00</td>\n",
       "    </tr>\n",
       "    <tr>\n",
       "      <th>15061</th>\n",
       "      <td>19</td>\n",
       "      <td>5,600,000.00</td>\n",
       "      <td>56.40</td>\n",
       "      <td>2018-05-11</td>\n",
       "      <td>2</td>\n",
       "      <td>14.00</td>\n",
       "      <td>14.00</td>\n",
       "      <td>32.40</td>\n",
       "      <td>5</td>\n",
       "      <td>NaN</td>\n",
       "      <td>...</td>\n",
       "      <td>9.10</td>\n",
       "      <td>2.00</td>\n",
       "      <td>Санкт-Петербург</td>\n",
       "      <td>14.80</td>\n",
       "      <td>13.60</td>\n",
       "      <td>0</td>\n",
       "      <td>NaN</td>\n",
       "      <td>0</td>\n",
       "      <td>NaN</td>\n",
       "      <td>315.00</td>\n",
       "    </tr>\n",
       "    <tr>\n",
       "      <th>15743</th>\n",
       "      <td>14</td>\n",
       "      <td>5,600,000.00</td>\n",
       "      <td>67.00</td>\n",
       "      <td>2016-11-11</td>\n",
       "      <td>3</td>\n",
       "      <td>8.00</td>\n",
       "      <td>16.00</td>\n",
       "      <td>41.00</td>\n",
       "      <td>1</td>\n",
       "      <td>NaN</td>\n",
       "      <td>...</td>\n",
       "      <td>8.00</td>\n",
       "      <td>NaN</td>\n",
       "      <td>Санкт-Петербург</td>\n",
       "      <td>32.70</td>\n",
       "      <td>11.00</td>\n",
       "      <td>1</td>\n",
       "      <td>723.00</td>\n",
       "      <td>0</td>\n",
       "      <td>NaN</td>\n",
       "      <td>474.00</td>\n",
       "    </tr>\n",
       "    <tr>\n",
       "      <th>17442</th>\n",
       "      <td>0</td>\n",
       "      <td>5,350,000.00</td>\n",
       "      <td>54.00</td>\n",
       "      <td>2015-06-16</td>\n",
       "      <td>2</td>\n",
       "      <td>8.00</td>\n",
       "      <td>5.00</td>\n",
       "      <td>29.00</td>\n",
       "      <td>2</td>\n",
       "      <td>NaN</td>\n",
       "      <td>...</td>\n",
       "      <td>NaN</td>\n",
       "      <td>1.00</td>\n",
       "      <td>Красное Село</td>\n",
       "      <td>24.60</td>\n",
       "      <td>28.10</td>\n",
       "      <td>0</td>\n",
       "      <td>NaN</td>\n",
       "      <td>0</td>\n",
       "      <td>NaN</td>\n",
       "      <td>469.00</td>\n",
       "    </tr>\n",
       "    <tr>\n",
       "      <th>17496</th>\n",
       "      <td>15</td>\n",
       "      <td>6,700,000.00</td>\n",
       "      <td>92.90</td>\n",
       "      <td>2019-02-19</td>\n",
       "      <td>3</td>\n",
       "      <td>20.00</td>\n",
       "      <td>17.00</td>\n",
       "      <td>53.20</td>\n",
       "      <td>14</td>\n",
       "      <td>NaN</td>\n",
       "      <td>...</td>\n",
       "      <td>12.00</td>\n",
       "      <td>5.00</td>\n",
       "      <td>Санкт-Петербург</td>\n",
       "      <td>16.30</td>\n",
       "      <td>15.10</td>\n",
       "      <td>1</td>\n",
       "      <td>967.00</td>\n",
       "      <td>0</td>\n",
       "      <td>NaN</td>\n",
       "      <td>NaN</td>\n",
       "    </tr>\n",
       "    <tr>\n",
       "      <th>17857</th>\n",
       "      <td>1</td>\n",
       "      <td>3,900,000.00</td>\n",
       "      <td>56.00</td>\n",
       "      <td>2017-12-22</td>\n",
       "      <td>3</td>\n",
       "      <td>27.00</td>\n",
       "      <td>5.00</td>\n",
       "      <td>33.00</td>\n",
       "      <td>4</td>\n",
       "      <td>False</td>\n",
       "      <td>...</td>\n",
       "      <td>NaN</td>\n",
       "      <td>NaN</td>\n",
       "      <td>Санкт-Петербург</td>\n",
       "      <td>41.00</td>\n",
       "      <td>15.50</td>\n",
       "      <td>0</td>\n",
       "      <td>NaN</td>\n",
       "      <td>0</td>\n",
       "      <td>NaN</td>\n",
       "      <td>73.00</td>\n",
       "    </tr>\n",
       "    <tr>\n",
       "      <th>18545</th>\n",
       "      <td>6</td>\n",
       "      <td>3,750,000.00</td>\n",
       "      <td>43.00</td>\n",
       "      <td>2019-03-18</td>\n",
       "      <td>2</td>\n",
       "      <td>25.00</td>\n",
       "      <td>5.00</td>\n",
       "      <td>29.00</td>\n",
       "      <td>3</td>\n",
       "      <td>False</td>\n",
       "      <td>...</td>\n",
       "      <td>NaN</td>\n",
       "      <td>NaN</td>\n",
       "      <td>Санкт-Петербург</td>\n",
       "      <td>27.10</td>\n",
       "      <td>8.00</td>\n",
       "      <td>1</td>\n",
       "      <td>540.00</td>\n",
       "      <td>0</td>\n",
       "      <td>NaN</td>\n",
       "      <td>12.00</td>\n",
       "    </tr>\n",
       "    <tr>\n",
       "      <th>20478</th>\n",
       "      <td>11</td>\n",
       "      <td>8,000,000.00</td>\n",
       "      <td>45.00</td>\n",
       "      <td>2017-07-18</td>\n",
       "      <td>1</td>\n",
       "      <td>27.00</td>\n",
       "      <td>4.00</td>\n",
       "      <td>22.00</td>\n",
       "      <td>2</td>\n",
       "      <td>NaN</td>\n",
       "      <td>...</td>\n",
       "      <td>10.00</td>\n",
       "      <td>1.00</td>\n",
       "      <td>Санкт-Петербург</td>\n",
       "      <td>19.00</td>\n",
       "      <td>3.20</td>\n",
       "      <td>0</td>\n",
       "      <td>NaN</td>\n",
       "      <td>3</td>\n",
       "      <td>449.00</td>\n",
       "      <td>429.00</td>\n",
       "    </tr>\n",
       "    <tr>\n",
       "      <th>20507</th>\n",
       "      <td>12</td>\n",
       "      <td>5,950,000.00</td>\n",
       "      <td>60.00</td>\n",
       "      <td>2018-02-19</td>\n",
       "      <td>2</td>\n",
       "      <td>22.60</td>\n",
       "      <td>14.00</td>\n",
       "      <td>35.00</td>\n",
       "      <td>11</td>\n",
       "      <td>NaN</td>\n",
       "      <td>...</td>\n",
       "      <td>13.00</td>\n",
       "      <td>1.00</td>\n",
       "      <td>Санкт-Петербург</td>\n",
       "      <td>27.00</td>\n",
       "      <td>12.60</td>\n",
       "      <td>0</td>\n",
       "      <td>NaN</td>\n",
       "      <td>0</td>\n",
       "      <td>NaN</td>\n",
       "      <td>40.00</td>\n",
       "    </tr>\n",
       "    <tr>\n",
       "      <th>21377</th>\n",
       "      <td>19</td>\n",
       "      <td>4,900,000.00</td>\n",
       "      <td>42.00</td>\n",
       "      <td>2017-04-18</td>\n",
       "      <td>1</td>\n",
       "      <td>27.50</td>\n",
       "      <td>24.00</td>\n",
       "      <td>37.70</td>\n",
       "      <td>19</td>\n",
       "      <td>False</td>\n",
       "      <td>...</td>\n",
       "      <td>11.00</td>\n",
       "      <td>2.00</td>\n",
       "      <td>Санкт-Петербург</td>\n",
       "      <td>42.70</td>\n",
       "      <td>9.80</td>\n",
       "      <td>0</td>\n",
       "      <td>NaN</td>\n",
       "      <td>0</td>\n",
       "      <td>NaN</td>\n",
       "      <td>61.00</td>\n",
       "    </tr>\n",
       "    <tr>\n",
       "      <th>21824</th>\n",
       "      <td>20</td>\n",
       "      <td>2,450,000.00</td>\n",
       "      <td>44.00</td>\n",
       "      <td>2019-02-12</td>\n",
       "      <td>2</td>\n",
       "      <td>27.00</td>\n",
       "      <td>2.00</td>\n",
       "      <td>38.00</td>\n",
       "      <td>2</td>\n",
       "      <td>False</td>\n",
       "      <td>...</td>\n",
       "      <td>8.60</td>\n",
       "      <td>2.00</td>\n",
       "      <td>городской поселок Большая Ижора</td>\n",
       "      <td>NaN</td>\n",
       "      <td>NaN</td>\n",
       "      <td>0</td>\n",
       "      <td>NaN</td>\n",
       "      <td>0</td>\n",
       "      <td>NaN</td>\n",
       "      <td>NaN</td>\n",
       "    </tr>\n",
       "    <tr>\n",
       "      <th>22309</th>\n",
       "      <td>20</td>\n",
       "      <td>5,300,000.00</td>\n",
       "      <td>45.00</td>\n",
       "      <td>2017-09-30</td>\n",
       "      <td>1</td>\n",
       "      <td>10.30</td>\n",
       "      <td>16.00</td>\n",
       "      <td>15.50</td>\n",
       "      <td>15</td>\n",
       "      <td>NaN</td>\n",
       "      <td>...</td>\n",
       "      <td>NaN</td>\n",
       "      <td>NaN</td>\n",
       "      <td>Санкт-Петербург</td>\n",
       "      <td>36.40</td>\n",
       "      <td>11.90</td>\n",
       "      <td>2</td>\n",
       "      <td>440.00</td>\n",
       "      <td>2</td>\n",
       "      <td>450.00</td>\n",
       "      <td>136.00</td>\n",
       "    </tr>\n",
       "    <tr>\n",
       "      <th>22336</th>\n",
       "      <td>19</td>\n",
       "      <td>9,999,000.00</td>\n",
       "      <td>92.40</td>\n",
       "      <td>2019-04-05</td>\n",
       "      <td>2</td>\n",
       "      <td>32.00</td>\n",
       "      <td>6.00</td>\n",
       "      <td>55.50</td>\n",
       "      <td>5</td>\n",
       "      <td>False</td>\n",
       "      <td>...</td>\n",
       "      <td>16.50</td>\n",
       "      <td>4.00</td>\n",
       "      <td>Санкт-Петербург</td>\n",
       "      <td>18.80</td>\n",
       "      <td>3.50</td>\n",
       "      <td>0</td>\n",
       "      <td>NaN</td>\n",
       "      <td>3</td>\n",
       "      <td>511.00</td>\n",
       "      <td>NaN</td>\n",
       "    </tr>\n",
       "    <tr>\n",
       "      <th>22869</th>\n",
       "      <td>0</td>\n",
       "      <td>15,000,000.00</td>\n",
       "      <td>25.00</td>\n",
       "      <td>2018-07-25</td>\n",
       "      <td>1</td>\n",
       "      <td>100.00</td>\n",
       "      <td>5.00</td>\n",
       "      <td>14.00</td>\n",
       "      <td>5</td>\n",
       "      <td>True</td>\n",
       "      <td>...</td>\n",
       "      <td>11.00</td>\n",
       "      <td>5.00</td>\n",
       "      <td>Санкт-Петербург</td>\n",
       "      <td>35.00</td>\n",
       "      <td>8.30</td>\n",
       "      <td>1</td>\n",
       "      <td>223.00</td>\n",
       "      <td>3</td>\n",
       "      <td>30.00</td>\n",
       "      <td>19.00</td>\n",
       "    </tr>\n",
       "    <tr>\n",
       "      <th>22938</th>\n",
       "      <td>14</td>\n",
       "      <td>4,000,000.00</td>\n",
       "      <td>98.00</td>\n",
       "      <td>2018-03-15</td>\n",
       "      <td>4</td>\n",
       "      <td>27.00</td>\n",
       "      <td>2.00</td>\n",
       "      <td>73.00</td>\n",
       "      <td>2</td>\n",
       "      <td>True</td>\n",
       "      <td>...</td>\n",
       "      <td>9.00</td>\n",
       "      <td>1.00</td>\n",
       "      <td>деревня Нижняя</td>\n",
       "      <td>NaN</td>\n",
       "      <td>NaN</td>\n",
       "      <td>0</td>\n",
       "      <td>NaN</td>\n",
       "      <td>0</td>\n",
       "      <td>NaN</td>\n",
       "      <td>27.00</td>\n",
       "    </tr>\n",
       "  </tbody>\n",
       "</table>\n",
       "<p>29 rows × 22 columns</p>\n",
       "</div>"
      ],
      "text/plain": [
       "       total_images    last_price  total_area first_day_exposition  rooms  \\\n",
       "355              17  3,600,000.00       55.20           2018-07-12      2   \n",
       "3148             14  2,900,000.00       75.00           2018-11-12      3   \n",
       "3474              3  1,400,000.00       30.00           2018-03-16      1   \n",
       "4643              0  4,300,000.00       45.00           2018-02-01      2   \n",
       "4876              7  3,000,000.00       25.00           2017-09-27      0   \n",
       "5076              0  3,850,000.00       30.50           2018-10-03      1   \n",
       "5246              0  2,500,000.00       54.00           2017-10-13      2   \n",
       "5669              4  4,400,000.00       50.00           2017-08-08      2   \n",
       "5807             17  8,150,000.00       80.00           2019-01-09      2   \n",
       "5863             20  5,650,000.00       45.00           2018-08-15      1   \n",
       "6246              6  3,300,000.00       44.40           2019-03-25      2   \n",
       "9379              5  3,950,000.00       42.00           2017-03-26      3   \n",
       "10773             8  3,800,000.00       58.00           2017-10-13      2   \n",
       "11285             0  1,950,000.00       37.00           2019-03-20      1   \n",
       "14382             9  1,700,000.00       35.00           2015-12-04      1   \n",
       "15061            19  5,600,000.00       56.40           2018-05-11      2   \n",
       "15743            14  5,600,000.00       67.00           2016-11-11      3   \n",
       "17442             0  5,350,000.00       54.00           2015-06-16      2   \n",
       "17496            15  6,700,000.00       92.90           2019-02-19      3   \n",
       "17857             1  3,900,000.00       56.00           2017-12-22      3   \n",
       "18545             6  3,750,000.00       43.00           2019-03-18      2   \n",
       "20478            11  8,000,000.00       45.00           2017-07-18      1   \n",
       "20507            12  5,950,000.00       60.00           2018-02-19      2   \n",
       "21377            19  4,900,000.00       42.00           2017-04-18      1   \n",
       "21824            20  2,450,000.00       44.00           2019-02-12      2   \n",
       "22309            20  5,300,000.00       45.00           2017-09-30      1   \n",
       "22336            19  9,999,000.00       92.40           2019-04-05      2   \n",
       "22869             0 15,000,000.00       25.00           2018-07-25      1   \n",
       "22938            14  4,000,000.00       98.00           2018-03-15      4   \n",
       "\n",
       "       ceiling_height  floors_total  living_area  floor is_apartment  ...  \\\n",
       "355             25.00          5.00        32.00      2        False  ...   \n",
       "3148            32.00          3.00        53.00      2          NaN  ...   \n",
       "3474             8.00          5.00        15.30      2        False  ...   \n",
       "4643            25.00          9.00        30.00      2          NaN  ...   \n",
       "4876            27.00         25.00        17.00     17          NaN  ...   \n",
       "5076            24.00          5.00        19.50      1         True  ...   \n",
       "5246            27.00          5.00        30.00      3          NaN  ...   \n",
       "5669            26.00          9.00        21.30      3          NaN  ...   \n",
       "5807            27.00         36.00        41.00     13          NaN  ...   \n",
       "5863             8.30         16.00        19.30     14          NaN  ...   \n",
       "6246            25.00          5.00        31.30      5          NaN  ...   \n",
       "9379            25.00          5.00        30.00      2          NaN  ...   \n",
       "10773           27.00         10.00        30.10      3        False  ...   \n",
       "11285           25.00          5.00        17.00      4        False  ...   \n",
       "14382           25.00          5.00        20.00      2        False  ...   \n",
       "15061           14.00         14.00        32.40      5          NaN  ...   \n",
       "15743            8.00         16.00        41.00      1          NaN  ...   \n",
       "17442            8.00          5.00        29.00      2          NaN  ...   \n",
       "17496           20.00         17.00        53.20     14          NaN  ...   \n",
       "17857           27.00          5.00        33.00      4        False  ...   \n",
       "18545           25.00          5.00        29.00      3        False  ...   \n",
       "20478           27.00          4.00        22.00      2          NaN  ...   \n",
       "20507           22.60         14.00        35.00     11          NaN  ...   \n",
       "21377           27.50         24.00        37.70     19        False  ...   \n",
       "21824           27.00          2.00        38.00      2        False  ...   \n",
       "22309           10.30         16.00        15.50     15          NaN  ...   \n",
       "22336           32.00          6.00        55.50      5        False  ...   \n",
       "22869          100.00          5.00        14.00      5         True  ...   \n",
       "22938           27.00          2.00        73.00      2         True  ...   \n",
       "\n",
       "       kitchen_area  balcony                    locality_name  \\\n",
       "355             NaN     2.00                          Гатчина   \n",
       "3148           8.00      NaN                           Волхов   \n",
       "3474           7.30      NaN                    деревня Нурма   \n",
       "4643           7.00     1.00                  Санкт-Петербург   \n",
       "4876            NaN     2.00                   посёлок Мурино   \n",
       "5076           5.50      NaN                  Санкт-Петербург   \n",
       "5246           9.00     2.00                     деревня Мины   \n",
       "5669           7.00     2.00                  Санкт-Петербург   \n",
       "5807          12.00     5.00                  Санкт-Петербург   \n",
       "5863           8.30     1.00                  Санкт-Петербург   \n",
       "6246           5.70      NaN                        Кронштадт   \n",
       "9379           5.20      NaN                  Санкт-Петербург   \n",
       "10773          8.10     2.00                   посёлок Мурино   \n",
       "11285          9.00     2.00                             Луга   \n",
       "14382          8.00     1.00               поселок Новый Свет   \n",
       "15061          9.10     2.00                  Санкт-Петербург   \n",
       "15743          8.00      NaN                  Санкт-Петербург   \n",
       "17442           NaN     1.00                     Красное Село   \n",
       "17496         12.00     5.00                  Санкт-Петербург   \n",
       "17857           NaN      NaN                  Санкт-Петербург   \n",
       "18545           NaN      NaN                  Санкт-Петербург   \n",
       "20478         10.00     1.00                  Санкт-Петербург   \n",
       "20507         13.00     1.00                  Санкт-Петербург   \n",
       "21377         11.00     2.00                  Санкт-Петербург   \n",
       "21824          8.60     2.00  городской поселок Большая Ижора   \n",
       "22309           NaN      NaN                  Санкт-Петербург   \n",
       "22336         16.50     4.00                  Санкт-Петербург   \n",
       "22869         11.00     5.00                  Санкт-Петербург   \n",
       "22938          9.00     1.00                   деревня Нижняя   \n",
       "\n",
       "       airports_nearest city_сenters_nearest  parks_around_3000  \\\n",
       "355                 NaN                  NaN                  0   \n",
       "3148                NaN                  NaN                  0   \n",
       "3474                NaN                  NaN                  0   \n",
       "4643              12.00                13.30                  1   \n",
       "4876                NaN                  NaN                  0   \n",
       "5076              29.70                 8.40                  3   \n",
       "5246                NaN                  NaN                  0   \n",
       "5669              29.00                10.90                  1   \n",
       "5807              18.70                20.40                  0   \n",
       "5863              13.10                10.80                  0   \n",
       "6246              68.90                50.60                  1   \n",
       "9379              11.60                13.60                  0   \n",
       "10773               NaN                  NaN                  0   \n",
       "11285               NaN                  NaN                  0   \n",
       "14382               NaN                  NaN                  0   \n",
       "15061             14.80                13.60                  0   \n",
       "15743             32.70                11.00                  1   \n",
       "17442             24.60                28.10                  0   \n",
       "17496             16.30                15.10                  1   \n",
       "17857             41.00                15.50                  0   \n",
       "18545             27.10                 8.00                  1   \n",
       "20478             19.00                 3.20                  0   \n",
       "20507             27.00                12.60                  0   \n",
       "21377             42.70                 9.80                  0   \n",
       "21824               NaN                  NaN                  0   \n",
       "22309             36.40                11.90                  2   \n",
       "22336             18.80                 3.50                  0   \n",
       "22869             35.00                 8.30                  1   \n",
       "22938               NaN                  NaN                  0   \n",
       "\n",
       "       parks_nearest  ponds_around_3000  ponds_nearest  days_exposition  \n",
       "355              NaN                  0            NaN           259.00  \n",
       "3148             NaN                  0            NaN              NaN  \n",
       "3474             NaN                  0            NaN           125.00  \n",
       "4643          658.00                  1         331.00           181.00  \n",
       "4876             NaN                  0            NaN            28.00  \n",
       "5076          397.00                  1         578.00             7.00  \n",
       "5246             NaN                  0            NaN           540.00  \n",
       "5669          305.00                  0            NaN           267.00  \n",
       "5807             NaN                  3          80.00            38.00  \n",
       "5863             NaN                  1         613.00            14.00  \n",
       "6246          417.00                  2          73.00              NaN  \n",
       "9379             NaN                  0            NaN              NaN  \n",
       "10773            NaN                  0            NaN            71.00  \n",
       "11285            NaN                  0            NaN            18.00  \n",
       "14382            NaN                  0            NaN           206.00  \n",
       "15061            NaN                  0            NaN           315.00  \n",
       "15743         723.00                  0            NaN           474.00  \n",
       "17442            NaN                  0            NaN           469.00  \n",
       "17496         967.00                  0            NaN              NaN  \n",
       "17857            NaN                  0            NaN            73.00  \n",
       "18545         540.00                  0            NaN            12.00  \n",
       "20478            NaN                  3         449.00           429.00  \n",
       "20507            NaN                  0            NaN            40.00  \n",
       "21377            NaN                  0            NaN            61.00  \n",
       "21824            NaN                  0            NaN              NaN  \n",
       "22309         440.00                  2         450.00           136.00  \n",
       "22336            NaN                  3         511.00              NaN  \n",
       "22869         223.00                  3          30.00            19.00  \n",
       "22938            NaN                  0            NaN            27.00  \n",
       "\n",
       "[29 rows x 22 columns]"
      ]
     },
     "execution_count": 31,
     "metadata": {},
     "output_type": "execute_result"
    }
   ],
   "source": [
    "df.query('ceiling_height > 7')"
   ]
  },
  {
   "cell_type": "markdown",
   "metadata": {},
   "source": [
    "Похоже, что при заполнении анкеты многие не там ставили запятую и например потолок высотой 2,75м превращался в 27,5м. Разделим значения больше 20 метров на 10, а пропускам и значениям больше 7 метров присвоим медиану."
   ]
  },
  {
   "cell_type": "code",
   "execution_count": 32,
   "metadata": {},
   "outputs": [],
   "source": [
    "df.loc[(df['ceiling_height'] > 20), 'ceiling_height'] = df['ceiling_height']/10\n",
    "df.loc[(df['ceiling_height'] > 7), 'ceiling_height'] = df['ceiling_height'].median()\n",
    "df['ceiling_height'] = df['ceiling_height'].fillna(df['ceiling_height'].median())"
   ]
  },
  {
   "cell_type": "code",
   "execution_count": 33,
   "metadata": {},
   "outputs": [
    {
     "data": {
      "text/plain": [
       "0"
      ]
     },
     "execution_count": 33,
     "metadata": {},
     "output_type": "execute_result"
    }
   ],
   "source": [
    "# Проверим пропуски ceiling_height\n",
    "df['ceiling_height'].isna().sum()"
   ]
  },
  {
   "cell_type": "markdown",
   "metadata": {},
   "source": [
    "**floors_total — всего этажей в доме**\n",
    "\n",
    "В колонке `floors_total` обнаружено 86 пропусков. Мы не можем сказать какое количество этажей в доме, но их точно не меньше, чем тот этаж на котором находится квартира. \n",
    "\n",
    "Если приравняем количество этажей в доме значению `floor`, то получится, что эти квартиры находятся на последнем этаже.\n",
    "\n",
    "Заполним пропуски значением floor и проверим пропуски floors_total"
   ]
  },
  {
   "cell_type": "code",
   "execution_count": 34,
   "metadata": {},
   "outputs": [
    {
     "data": {
      "text/plain": [
       "0"
      ]
     },
     "execution_count": 34,
     "metadata": {},
     "output_type": "execute_result"
    }
   ],
   "source": [
    "df['floors_total'] = df['floors_total'].fillna(df['floor'])\n",
    "df['floors_total'].isna().sum()"
   ]
  },
  {
   "cell_type": "markdown",
   "metadata": {},
   "source": [
    "**living_area — жилая площадь в квадратных метрах (м²)**\n",
    "\n",
    "В колонке `living_area` обнаружено 1903 пропуска. \n",
    "\n",
    "Предположим, что доля жилой площади может зависить как от общей площади, так и от количества комнат в помещении. Для заполнения пропусков разобьем значения на группы по количеству комнат и найдем долю жилой площади в размере общей площади.\n",
    "\n",
    "Содацим таблицу с долей жилой площади в общей площади в зависимости от количества комнат"
   ]
  },
  {
   "cell_type": "code",
   "execution_count": 35,
   "metadata": {},
   "outputs": [
    {
     "data": {
      "text/html": [
       "<div>\n",
       "<style scoped>\n",
       "    .dataframe tbody tr th:only-of-type {\n",
       "        vertical-align: middle;\n",
       "    }\n",
       "\n",
       "    .dataframe tbody tr th {\n",
       "        vertical-align: top;\n",
       "    }\n",
       "\n",
       "    .dataframe thead th {\n",
       "        text-align: right;\n",
       "    }\n",
       "</style>\n",
       "<table border=\"1\" class=\"dataframe\">\n",
       "  <thead>\n",
       "    <tr style=\"text-align: right;\">\n",
       "      <th></th>\n",
       "      <th>living_area_share</th>\n",
       "    </tr>\n",
       "    <tr>\n",
       "      <th>rooms</th>\n",
       "      <th></th>\n",
       "    </tr>\n",
       "  </thead>\n",
       "  <tbody>\n",
       "    <tr>\n",
       "      <th>0</th>\n",
       "      <td>0.69</td>\n",
       "    </tr>\n",
       "    <tr>\n",
       "      <th>1</th>\n",
       "      <td>0.48</td>\n",
       "    </tr>\n",
       "    <tr>\n",
       "      <th>2</th>\n",
       "      <td>0.58</td>\n",
       "    </tr>\n",
       "    <tr>\n",
       "      <th>3</th>\n",
       "      <td>0.62</td>\n",
       "    </tr>\n",
       "    <tr>\n",
       "      <th>4</th>\n",
       "      <td>0.64</td>\n",
       "    </tr>\n",
       "  </tbody>\n",
       "</table>\n",
       "</div>"
      ],
      "text/plain": [
       "       living_area_share\n",
       "rooms                   \n",
       "0                   0.69\n",
       "1                   0.48\n",
       "2                   0.58\n",
       "3                   0.62\n",
       "4                   0.64"
      ]
     },
     "execution_count": 35,
     "metadata": {},
     "output_type": "execute_result"
    }
   ],
   "source": [
    "living_area_share = (pd.DataFrame(df.groupby('rooms')['living_area'].median()\n",
    "                                  /df.groupby('rooms')['total_area'].median()))\n",
    "living_area_share.columns = ['living_area_share']\n",
    "living_area_share.head()"
   ]
  },
  {
   "cell_type": "markdown",
   "metadata": {},
   "source": [
    "Объединим 2 таблицы, заполним пропуски произведением общей площади на долю жилой площади и округлим значения, удалим уже не нужную колонку living_area_share"
   ]
  },
  {
   "cell_type": "code",
   "execution_count": 36,
   "metadata": {},
   "outputs": [
    {
     "data": {
      "text/html": [
       "<div>\n",
       "<style scoped>\n",
       "    .dataframe tbody tr th:only-of-type {\n",
       "        vertical-align: middle;\n",
       "    }\n",
       "\n",
       "    .dataframe tbody tr th {\n",
       "        vertical-align: top;\n",
       "    }\n",
       "\n",
       "    .dataframe thead th {\n",
       "        text-align: right;\n",
       "    }\n",
       "</style>\n",
       "<table border=\"1\" class=\"dataframe\">\n",
       "  <thead>\n",
       "    <tr style=\"text-align: right;\">\n",
       "      <th></th>\n",
       "      <th>total_images</th>\n",
       "      <th>last_price</th>\n",
       "      <th>total_area</th>\n",
       "      <th>first_day_exposition</th>\n",
       "      <th>rooms</th>\n",
       "      <th>ceiling_height</th>\n",
       "      <th>floors_total</th>\n",
       "      <th>living_area</th>\n",
       "      <th>floor</th>\n",
       "      <th>is_apartment</th>\n",
       "      <th>...</th>\n",
       "      <th>kitchen_area</th>\n",
       "      <th>balcony</th>\n",
       "      <th>locality_name</th>\n",
       "      <th>airports_nearest</th>\n",
       "      <th>city_сenters_nearest</th>\n",
       "      <th>parks_around_3000</th>\n",
       "      <th>parks_nearest</th>\n",
       "      <th>ponds_around_3000</th>\n",
       "      <th>ponds_nearest</th>\n",
       "      <th>days_exposition</th>\n",
       "    </tr>\n",
       "  </thead>\n",
       "  <tbody>\n",
       "    <tr>\n",
       "      <th>0</th>\n",
       "      <td>20</td>\n",
       "      <td>13,000,000.00</td>\n",
       "      <td>108.00</td>\n",
       "      <td>2019-03-07</td>\n",
       "      <td>3</td>\n",
       "      <td>2.70</td>\n",
       "      <td>16.00</td>\n",
       "      <td>51.00</td>\n",
       "      <td>8</td>\n",
       "      <td>NaN</td>\n",
       "      <td>...</td>\n",
       "      <td>25.00</td>\n",
       "      <td>NaN</td>\n",
       "      <td>Санкт-Петербург</td>\n",
       "      <td>18.90</td>\n",
       "      <td>16.00</td>\n",
       "      <td>1</td>\n",
       "      <td>482.00</td>\n",
       "      <td>2</td>\n",
       "      <td>755.00</td>\n",
       "      <td>NaN</td>\n",
       "    </tr>\n",
       "    <tr>\n",
       "      <th>1</th>\n",
       "      <td>7</td>\n",
       "      <td>3,350,000.00</td>\n",
       "      <td>40.40</td>\n",
       "      <td>2018-12-04</td>\n",
       "      <td>1</td>\n",
       "      <td>2.65</td>\n",
       "      <td>11.00</td>\n",
       "      <td>18.60</td>\n",
       "      <td>1</td>\n",
       "      <td>NaN</td>\n",
       "      <td>...</td>\n",
       "      <td>11.00</td>\n",
       "      <td>2.00</td>\n",
       "      <td>посёлок Шушары</td>\n",
       "      <td>12.80</td>\n",
       "      <td>18.60</td>\n",
       "      <td>0</td>\n",
       "      <td>NaN</td>\n",
       "      <td>0</td>\n",
       "      <td>NaN</td>\n",
       "      <td>81.00</td>\n",
       "    </tr>\n",
       "    <tr>\n",
       "      <th>2</th>\n",
       "      <td>10</td>\n",
       "      <td>5,196,000.00</td>\n",
       "      <td>56.00</td>\n",
       "      <td>2015-08-20</td>\n",
       "      <td>2</td>\n",
       "      <td>2.65</td>\n",
       "      <td>5.00</td>\n",
       "      <td>34.30</td>\n",
       "      <td>4</td>\n",
       "      <td>NaN</td>\n",
       "      <td>...</td>\n",
       "      <td>8.30</td>\n",
       "      <td>0.00</td>\n",
       "      <td>Санкт-Петербург</td>\n",
       "      <td>21.70</td>\n",
       "      <td>13.90</td>\n",
       "      <td>1</td>\n",
       "      <td>90.00</td>\n",
       "      <td>2</td>\n",
       "      <td>574.00</td>\n",
       "      <td>558.00</td>\n",
       "    </tr>\n",
       "    <tr>\n",
       "      <th>3</th>\n",
       "      <td>0</td>\n",
       "      <td>64,900,000.00</td>\n",
       "      <td>159.00</td>\n",
       "      <td>2015-07-24</td>\n",
       "      <td>3</td>\n",
       "      <td>2.65</td>\n",
       "      <td>14.00</td>\n",
       "      <td>98.00</td>\n",
       "      <td>9</td>\n",
       "      <td>NaN</td>\n",
       "      <td>...</td>\n",
       "      <td>NaN</td>\n",
       "      <td>0.00</td>\n",
       "      <td>Санкт-Петербург</td>\n",
       "      <td>28.10</td>\n",
       "      <td>6.80</td>\n",
       "      <td>2</td>\n",
       "      <td>84.00</td>\n",
       "      <td>3</td>\n",
       "      <td>234.00</td>\n",
       "      <td>424.00</td>\n",
       "    </tr>\n",
       "    <tr>\n",
       "      <th>4</th>\n",
       "      <td>2</td>\n",
       "      <td>10,000,000.00</td>\n",
       "      <td>100.00</td>\n",
       "      <td>2018-06-19</td>\n",
       "      <td>2</td>\n",
       "      <td>3.03</td>\n",
       "      <td>14.00</td>\n",
       "      <td>32.00</td>\n",
       "      <td>13</td>\n",
       "      <td>NaN</td>\n",
       "      <td>...</td>\n",
       "      <td>41.00</td>\n",
       "      <td>NaN</td>\n",
       "      <td>Санкт-Петербург</td>\n",
       "      <td>31.90</td>\n",
       "      <td>8.10</td>\n",
       "      <td>2</td>\n",
       "      <td>112.00</td>\n",
       "      <td>1</td>\n",
       "      <td>48.00</td>\n",
       "      <td>121.00</td>\n",
       "    </tr>\n",
       "  </tbody>\n",
       "</table>\n",
       "<p>5 rows × 22 columns</p>\n",
       "</div>"
      ],
      "text/plain": [
       "   total_images    last_price  total_area first_day_exposition  rooms  \\\n",
       "0            20 13,000,000.00      108.00           2019-03-07      3   \n",
       "1             7  3,350,000.00       40.40           2018-12-04      1   \n",
       "2            10  5,196,000.00       56.00           2015-08-20      2   \n",
       "3             0 64,900,000.00      159.00           2015-07-24      3   \n",
       "4             2 10,000,000.00      100.00           2018-06-19      2   \n",
       "\n",
       "   ceiling_height  floors_total  living_area  floor is_apartment  ...  \\\n",
       "0            2.70         16.00        51.00      8          NaN  ...   \n",
       "1            2.65         11.00        18.60      1          NaN  ...   \n",
       "2            2.65          5.00        34.30      4          NaN  ...   \n",
       "3            2.65         14.00        98.00      9          NaN  ...   \n",
       "4            3.03         14.00        32.00     13          NaN  ...   \n",
       "\n",
       "   kitchen_area  balcony    locality_name  airports_nearest  \\\n",
       "0         25.00      NaN  Санкт-Петербург             18.90   \n",
       "1         11.00     2.00   посёлок Шушары             12.80   \n",
       "2          8.30     0.00  Санкт-Петербург             21.70   \n",
       "3           NaN     0.00  Санкт-Петербург             28.10   \n",
       "4         41.00      NaN  Санкт-Петербург             31.90   \n",
       "\n",
       "  city_сenters_nearest  parks_around_3000  parks_nearest  ponds_around_3000  \\\n",
       "0                16.00                  1         482.00                  2   \n",
       "1                18.60                  0            NaN                  0   \n",
       "2                13.90                  1          90.00                  2   \n",
       "3                 6.80                  2          84.00                  3   \n",
       "4                 8.10                  2         112.00                  1   \n",
       "\n",
       "   ponds_nearest  days_exposition  \n",
       "0         755.00              NaN  \n",
       "1            NaN            81.00  \n",
       "2         574.00           558.00  \n",
       "3         234.00           424.00  \n",
       "4          48.00           121.00  \n",
       "\n",
       "[5 rows x 22 columns]"
      ]
     },
     "execution_count": 36,
     "metadata": {},
     "output_type": "execute_result"
    }
   ],
   "source": [
    "df = df.merge(living_area_share, on='rooms', how='left')\n",
    "\n",
    "df['living_area'] = df['living_area'].fillna(df['total_area']*df['living_area_share'])\n",
    "df['living_area'] = df['living_area'].round(1)\n",
    "\n",
    "df = df.drop(columns = ['living_area_share'],axis = 1)\n",
    "df.head()"
   ]
  },
  {
   "cell_type": "code",
   "execution_count": 37,
   "metadata": {},
   "outputs": [
    {
     "data": {
      "text/plain": [
       "0"
      ]
     },
     "execution_count": 37,
     "metadata": {},
     "output_type": "execute_result"
    }
   ],
   "source": [
    "# Проверим пропуски living_area\n",
    "df['living_area'].isna().sum()"
   ]
  },
  {
   "cell_type": "markdown",
   "metadata": {},
   "source": [
    "**is_apartment — апартаменты**\n",
    "\n",
    "20924 пропусков, это почти 90% данных. Поскольку формат аппартаментов сейчас мало распостранен, пропуск это указание, что помещение не являются аппртментами.\n",
    "\n",
    "Заполним пропуски `is_apartment` значением `False` и проверим пропуски `living_area`"
   ]
  },
  {
   "cell_type": "code",
   "execution_count": 38,
   "metadata": {},
   "outputs": [
    {
     "data": {
      "text/plain": [
       "0"
      ]
     },
     "execution_count": 38,
     "metadata": {},
     "output_type": "execute_result"
    }
   ],
   "source": [
    "df['is_apartment'] = df['is_apartment'].fillna(False)\n",
    "df['living_area'].isna().sum()"
   ]
  },
  {
   "cell_type": "markdown",
   "metadata": {},
   "source": [
    "**kitchen_area — площадь кухни в квадратных метрах (м²)**\n",
    "\n",
    "2278 пропусков. Предположим, что есть зависимость между количеством комнат и площадью кухни. Заполним пропуски медианным значением в группах в зависимости от количества комнат. Проверим пропуски."
   ]
  },
  {
   "cell_type": "code",
   "execution_count": 39,
   "metadata": {},
   "outputs": [
    {
     "data": {
      "text/plain": [
       "197"
      ]
     },
     "execution_count": 39,
     "metadata": {},
     "output_type": "execute_result"
    }
   ],
   "source": [
    "df['kitchen_area'] = df['kitchen_area'].fillna(df.groupby('rooms')['kitchen_area'].transform(func='median'))\n",
    "df['kitchen_area'].isna().sum()"
   ]
  },
  {
   "cell_type": "markdown",
   "metadata": {},
   "source": [
    "Осталось 197 пропусков, посмотрим как зависят пропуски от количества комнат"
   ]
  },
  {
   "cell_type": "code",
   "execution_count": 40,
   "metadata": {},
   "outputs": [
    {
     "data": {
      "text/plain": [
       "rooms\n",
       "0    197\n",
       "Name: total_images, dtype: int64"
      ]
     },
     "execution_count": 40,
     "metadata": {},
     "output_type": "execute_result"
    }
   ],
   "source": [
    "df[df['kitchen_area'].isna()==True].groupby('rooms')['total_images'].count()"
   ]
  },
  {
   "cell_type": "markdown",
   "metadata": {},
   "source": [
    "Все пропуски в квартирах где 0 комнат, обычно это студии, где не выделяют отдельно кухню. Заполним пропуски нулем. Проверим пропуски."
   ]
  },
  {
   "cell_type": "code",
   "execution_count": 41,
   "metadata": {},
   "outputs": [
    {
     "data": {
      "text/plain": [
       "0"
      ]
     },
     "execution_count": 41,
     "metadata": {},
     "output_type": "execute_result"
    }
   ],
   "source": [
    "df['kitchen_area'] = df['kitchen_area'].fillna(0)\n",
    "df['kitchen_area'].isna().sum()"
   ]
  },
  {
   "cell_type": "markdown",
   "metadata": {},
   "source": [
    "**balcony — число балконов**\n",
    "\n",
    "В колонке balcony 11519 пропусков. Часто наличие балкона приветствуется больше чем его отсутствие, поэтому если указать что он есть а его нет, это хуже чем наоборот. Заменим значение на 0. Проверим пропуски. Изменим тип данных на int."
   ]
  },
  {
   "cell_type": "code",
   "execution_count": 42,
   "metadata": {},
   "outputs": [],
   "source": [
    "df['balcony'] = df['balcony'].fillna(0)\n",
    "df['kitchen_area'].isna().sum()\n",
    "df[['last_price','floors_total','balcony']] = df[['last_price','floors_total','balcony']].astype(int)"
   ]
  },
  {
   "cell_type": "markdown",
   "metadata": {},
   "source": [
    "**Вывод**:\n",
    "Все пропуски в описании объекта недвижимости были заменены. \n",
    "\n",
    "- Для расчета жилой площади выводилось медианное значение доли жилой площади в общей, в зависимости от количества комнат в квартире. \n",
    "- Площадь кухни бралась как медиана в зависимости от количества комнат. \n",
    "- В значениях высоты потолков убрали выбросы менее 2 метров и более 7 метров, заменив их медианой. \n",
    "- Пропуски в значениях аппартаментов заменили на False. \n",
    "- Пропуски в количестве балконов заменили на 0.\n",
    "\n",
    "Количество этажей в доме приравняли этажу квартиры.\n",
    "\n",
    "Изменили типы данных у цены, этажей и балконов на целое значение. Что положительно отразится на производительности и на восприятии информации."
   ]
  },
  {
   "cell_type": "markdown",
   "metadata": {},
   "source": [
    "## Расчёты и добавление результатов в таблицу"
   ]
  },
  {
   "cell_type": "markdown",
   "metadata": {},
   "source": [
    "Посчитайте и добавьте в таблицу\n",
    "- цену квадратного метра;\n",
    "- день недели, месяц и год публикации объявления;\n",
    "- этаж квартиры; варианты — первый, последний, другой;\n",
    "- соотношение жилой и общей площади, а также отношение площади кухни к общей."
   ]
  },
  {
   "cell_type": "markdown",
   "metadata": {},
   "source": [
    "Рассчитаем и добавим колонку с ценой квадратного метра"
   ]
  },
  {
   "cell_type": "code",
   "execution_count": 43,
   "metadata": {},
   "outputs": [],
   "source": [
    "df['price_per_meter'] = (df['last_price']/df['total_area'])\n",
    "df['price_per_meter'] = df['price_per_meter'].astype(int)"
   ]
  },
  {
   "cell_type": "markdown",
   "metadata": {},
   "source": [
    "Добавим колонки дня недели, месяца и года публикации объявления"
   ]
  },
  {
   "cell_type": "code",
   "execution_count": 44,
   "metadata": {},
   "outputs": [],
   "source": [
    "df['weekday'] = df['first_day_exposition'].dt.weekday\n",
    "df['month'] = df['first_day_exposition'].dt.month\n",
    "df['year'] = df['first_day_exposition'].dt.year"
   ]
  },
  {
   "cell_type": "markdown",
   "metadata": {},
   "source": [
    "Добавим тип этажа"
   ]
  },
  {
   "cell_type": "code",
   "execution_count": 45,
   "metadata": {},
   "outputs": [],
   "source": [
    "def floor_type(row):\n",
    "    floor = row['floor']\n",
    "    floors_total = row['floors_total']\n",
    "    if floor == 1:\n",
    "        return 'первый'\n",
    "    elif floor == floors_total:\n",
    "        return 'последний'\n",
    "    else:\n",
    "        return 'другой'\n",
    "\n",
    "df['floor_type'] = df.apply(floor_type, axis=1)"
   ]
  },
  {
   "cell_type": "markdown",
   "metadata": {},
   "source": [
    "Добавим колонки:\n",
    "- отношение жилой и общей площади,\n",
    "- отношение площади кухни к общей."
   ]
  },
  {
   "cell_type": "code",
   "execution_count": 46,
   "metadata": {},
   "outputs": [],
   "source": [
    "df['living_total_area'] = (df['living_area']/df['total_area']).round(2)\n",
    "df['kitchen_total_area'] = (df['kitchen_area']/df['total_area']).round(2)"
   ]
  },
  {
   "cell_type": "markdown",
   "metadata": {},
   "source": [
    "## Исследовательский анализ данных"
   ]
  },
  {
   "cell_type": "markdown",
   "metadata": {},
   "source": [
    "Стоимость квартиры складывается из параметров локации и характеристик помещения. Изучим их подробнее."
   ]
  },
  {
   "cell_type": "markdown",
   "metadata": {},
   "source": [
    "Изучим данные `total_area` — площадь квартиры в квадратных метрах (м²)"
   ]
  },
  {
   "cell_type": "code",
   "execution_count": 47,
   "metadata": {},
   "outputs": [
    {
     "data": {
      "text/plain": [
       "count   23,699.00\n",
       "mean        60.35\n",
       "std         35.65\n",
       "min         12.00\n",
       "25%         40.00\n",
       "50%         52.00\n",
       "75%         69.90\n",
       "max        900.00\n",
       "Name: total_area, dtype: float64"
      ]
     },
     "execution_count": 47,
     "metadata": {},
     "output_type": "execute_result"
    }
   ],
   "source": [
    "df['total_area'].describe()"
   ]
  },
  {
   "cell_type": "code",
   "execution_count": 48,
   "metadata": {},
   "outputs": [
    {
     "data": {
      "text/plain": [
       "Text(0.5, 0, 'Площадь м²')"
      ]
     },
     "execution_count": 48,
     "metadata": {},
     "output_type": "execute_result"
    },
    {
     "data": {
      "image/png": "[encoded data removed]",
      "text/plain": [
       "<Figure size 1008x432 with 1 Axes>"
      ]
     },
     "metadata": {
      "needs_background": "light"
     },
     "output_type": "display_data"
    }
   ],
   "source": [
    "# Построим гистограмму\n",
    "df['total_area'].hist(bins=100,legend=True,figsize=(14, 6))\n",
    "plt.title(\"Распределение квартир по площади м²\")\n",
    "plt.ylabel(\"Количество\")\n",
    "plt.xlabel(\"Площадь м²\")"
   ]
  },
  {
   "cell_type": "markdown",
   "metadata": {},
   "source": [
    "В среднем площадь квартир составляет 64м², это не сильно отличается от медианы 55м². По графикам видно, что основная масса квартир приходится на площадь до 200м².\n",
    "\n",
    "Посмотрим какие значения самые распространенные"
   ]
  },
  {
   "cell_type": "code",
   "execution_count": 49,
   "metadata": {},
   "outputs": [
    {
     "data": {
      "text/plain": [
       "45.00    419\n",
       "42.00    383\n",
       "60.00    347\n",
       "31.00    346\n",
       "44.00    345\n",
       "40.00    315\n",
       "43.00    301\n",
       "32.00    289\n",
       "46.00    282\n",
       "36.00    280\n",
       "Name: total_area, dtype: int64"
      ]
     },
     "execution_count": 49,
     "metadata": {},
     "output_type": "execute_result"
    }
   ],
   "source": [
    "df.total_area.value_counts().head(10)"
   ]
  },
  {
   "cell_type": "markdown",
   "metadata": {},
   "source": [
    "В первую десятку объявлений больше всего входит квартир с площадью в диапазоне 42-46 метров."
   ]
  },
  {
   "cell_type": "markdown",
   "metadata": {},
   "source": [
    "**Изучим данные цены last_price**"
   ]
  },
  {
   "cell_type": "code",
   "execution_count": 50,
   "metadata": {},
   "outputs": [
    {
     "data": {
      "text/plain": [
       "count        23,699.00\n",
       "mean      6,542,062.62\n",
       "std      10,886,992.47\n",
       "min         430,000.00\n",
       "25%       3,400,000.00\n",
       "50%       4,650,000.00\n",
       "75%       6,800,000.00\n",
       "max     763,000,000.00\n",
       "Name: last_price, dtype: float64"
      ]
     },
     "execution_count": 50,
     "metadata": {},
     "output_type": "execute_result"
    }
   ],
   "source": [
    "df['last_price'].describe()"
   ]
  },
  {
   "cell_type": "code",
   "execution_count": 51,
   "metadata": {
    "scrolled": false
   },
   "outputs": [
    {
     "data": {
      "text/plain": [
       "Text(0, 0.5, 'Цена 100 млн')"
      ]
     },
     "execution_count": 51,
     "metadata": {},
     "output_type": "execute_result"
    },
    {
     "data": {
      "image/png": "[encoded data removed]",
      "text/plain": [
       "<Figure size 1008x432 with 1 Axes>"
      ]
     },
     "metadata": {
      "needs_background": "light"
     },
     "output_type": "display_data"
    }
   ],
   "source": [
    "df.boxplot(column='last_price',figsize=(14,6))\n",
    "plt.title(\"Распределение по цене\")\n",
    "plt.ylabel(\"Цена 100 млн\")"
   ]
  },
  {
   "cell_type": "markdown",
   "metadata": {},
   "source": [
    "Медиана цены приходится на 4.65 млн, а среднее значение на 6.54 млн. Показатели сильно отличаются, что является результатом выбросов, например максимальная цена 763 млн.\n",
    "\n",
    "График цены квартир малоинформативен. Построим гистограмму с ценами до 10 млн. и проверим значения"
   ]
  },
  {
   "cell_type": "code",
   "execution_count": 52,
   "metadata": {
    "scrolled": false
   },
   "outputs": [
    {
     "data": {
      "text/plain": [
       "Text(0.5, 0, 'Цена 10 млн')"
      ]
     },
     "execution_count": 52,
     "metadata": {},
     "output_type": "execute_result"
    },
    {
     "data": {
      "image/png": "[encoded data removed]",
      "text/plain": [
       "<Figure size 1008x432 with 1 Axes>"
      ]
     },
     "metadata": {
      "needs_background": "light"
     },
     "output_type": "display_data"
    }
   ],
   "source": [
    "df.query('last_price < 10_000_000')['last_price'].hist(figsize=(14, 6))\n",
    "plt.title(\"Распределение цен на квартиры до 10 млн\")\n",
    "plt.ylabel(\"Количество\")\n",
    "plt.xlabel(\"Цена 10 млн\")"
   ]
  },
  {
   "cell_type": "code",
   "execution_count": 53,
   "metadata": {},
   "outputs": [
    {
     "data": {
      "text/plain": [
       "4500000    342\n",
       "3500000    291\n",
       "4300000    260\n",
       "4000000    260\n",
       "4200000    259\n",
       "3600000    257\n",
       "3300000    244\n",
       "3800000    240\n",
       "3200000    238\n",
       "3700000    234\n",
       "Name: last_price, dtype: int64"
      ]
     },
     "execution_count": 53,
     "metadata": {},
     "output_type": "execute_result"
    }
   ],
   "source": [
    "df['last_price'].value_counts().head(10)"
   ]
  },
  {
   "cell_type": "markdown",
   "metadata": {},
   "source": [
    "Чаще всего встречаются цены в диапазоне 3.2 - 4.5 млн за квартиру"
   ]
  },
  {
   "cell_type": "markdown",
   "metadata": {},
   "source": [
    "**Изучим число комнат**"
   ]
  },
  {
   "cell_type": "code",
   "execution_count": 54,
   "metadata": {},
   "outputs": [
    {
     "data": {
      "text/plain": [
       "count   23,699.00\n",
       "mean         2.07\n",
       "std          1.08\n",
       "min          0.00\n",
       "25%          1.00\n",
       "50%          2.00\n",
       "75%          3.00\n",
       "max         19.00\n",
       "Name: rooms, dtype: float64"
      ]
     },
     "execution_count": 54,
     "metadata": {},
     "output_type": "execute_result"
    }
   ],
   "source": [
    "df['rooms'].describe()"
   ]
  },
  {
   "cell_type": "code",
   "execution_count": 55,
   "metadata": {},
   "outputs": [
    {
     "data": {
      "text/plain": [
       "Text(0, 0.5, 'Комнаты')"
      ]
     },
     "execution_count": 55,
     "metadata": {},
     "output_type": "execute_result"
    },
    {
     "data": {
      "image/png": "[encoded data removed]",
      "text/plain": [
       "<Figure size 1008x432 with 1 Axes>"
      ]
     },
     "metadata": {
      "needs_background": "light"
     },
     "output_type": "display_data"
    }
   ],
   "source": [
    "df.boxplot(column='rooms',figsize=(14,6))\n",
    "plt.title(\"Распределение по количеству комнат\")\n",
    "plt.ylabel(\"Комнаты\")"
   ]
  },
  {
   "cell_type": "code",
   "execution_count": 56,
   "metadata": {},
   "outputs": [
    {
     "data": {
      "text/plain": [
       "Text(0, 0.5, 'Количество квартир')"
      ]
     },
     "execution_count": 56,
     "metadata": {},
     "output_type": "execute_result"
    },
    {
     "data": {
      "image/png": "[encoded data removed]",
      "text/plain": [
       "<Figure size 1008x432 with 1 Axes>"
      ]
     },
     "metadata": {
      "needs_background": "light"
     },
     "output_type": "display_data"
    }
   ],
   "source": [
    "df['rooms'].hist(bins=19,figsize=(14,6))\n",
    "plt.title(\"Распределение по количеству комнат\")\n",
    "plt.xlabel(\"Количество комнат\")\n",
    "plt.ylabel(\"Количество квартир\")"
   ]
  },
  {
   "cell_type": "code",
   "execution_count": 57,
   "metadata": {},
   "outputs": [
    {
     "data": {
      "text/plain": [
       "1     8047\n",
       "2     7940\n",
       "3     5814\n",
       "4     1180\n",
       "5      326\n",
       "0      197\n",
       "6      105\n",
       "7       59\n",
       "8       12\n",
       "9        8\n",
       "10       3\n",
       "11       2\n",
       "14       2\n",
       "15       1\n",
       "19       1\n",
       "16       1\n",
       "12       1\n",
       "Name: rooms, dtype: int64"
      ]
     },
     "execution_count": 57,
     "metadata": {},
     "output_type": "execute_result"
    }
   ],
   "source": [
    "df['rooms'].value_counts()"
   ]
  },
  {
   "cell_type": "markdown",
   "metadata": {},
   "source": [
    "Самые популярные однокомнатные квартиры, затем 2 комнаты 3 и тд, более 6 комнат можно отнести к выбросам."
   ]
  },
  {
   "cell_type": "markdown",
   "metadata": {},
   "source": [
    "**Изучим высоту потолков**"
   ]
  },
  {
   "cell_type": "code",
   "execution_count": 58,
   "metadata": {},
   "outputs": [
    {
     "data": {
      "text/plain": [
       "Text(0, 0.5, 'Метры')"
      ]
     },
     "execution_count": 58,
     "metadata": {},
     "output_type": "execute_result"
    },
    {
     "data": {
      "image/png": "[encoded data removed]",
      "text/plain": [
       "<Figure size 1008x432 with 1 Axes>"
      ]
     },
     "metadata": {
      "needs_background": "light"
     },
     "output_type": "display_data"
    }
   ],
   "source": [
    "df.boxplot(column='ceiling_height',figsize=(14,6))\n",
    "plt.title(\"Распределение по высоте потолков\")\n",
    "plt.ylabel(\"Метры\")"
   ]
  },
  {
   "cell_type": "code",
   "execution_count": 59,
   "metadata": {},
   "outputs": [
    {
     "data": {
      "text/plain": [
       "Text(0, 0.5, 'Количество квартир')"
      ]
     },
     "execution_count": 59,
     "metadata": {},
     "output_type": "execute_result"
    },
    {
     "data": {
      "image/png": "[encoded data removed]",
      "text/plain": [
       "<Figure size 1008x432 with 1 Axes>"
      ]
     },
     "metadata": {
      "needs_background": "light"
     },
     "output_type": "display_data"
    }
   ],
   "source": [
    "df['ceiling_height'].hist(bins=7,figsize=(14,6))\n",
    "plt.title(\"Распределение по высоте потолков\")\n",
    "plt.xlabel(\"Комнаты\")\n",
    "plt.ylabel(\"Количество квартир\")"
   ]
  },
  {
   "cell_type": "code",
   "execution_count": 60,
   "metadata": {},
   "outputs": [
    {
     "data": {
      "text/plain": [
       "2.65    9882\n",
       "2.50    3522\n",
       "2.60    1647\n",
       "2.70    1582\n",
       "3.00    1112\n",
       "2.80     993\n",
       "2.55     980\n",
       "2.75     911\n",
       "3.20     279\n",
       "3.10     203\n",
       "Name: ceiling_height, dtype: int64"
      ]
     },
     "execution_count": 60,
     "metadata": {},
     "output_type": "execute_result"
    }
   ],
   "source": [
    "df['ceiling_height'].value_counts().head(10)"
   ]
  },
  {
   "cell_type": "markdown",
   "metadata": {},
   "source": [
    "Самые распространенное значение высоты потолка - 2.65 метра, что соответствует медиане."
   ]
  },
  {
   "cell_type": "markdown",
   "metadata": {},
   "source": [
    "**Время продажи квартиры**"
   ]
  },
  {
   "cell_type": "code",
   "execution_count": 61,
   "metadata": {},
   "outputs": [
    {
     "data": {
      "text/plain": [
       "count   20,518.00\n",
       "mean       180.89\n",
       "std        219.73\n",
       "min          1.00\n",
       "25%         45.00\n",
       "50%         95.00\n",
       "75%        232.00\n",
       "max      1,580.00\n",
       "Name: days_exposition, dtype: float64"
      ]
     },
     "execution_count": 61,
     "metadata": {},
     "output_type": "execute_result"
    }
   ],
   "source": [
    "df['days_exposition'].describe()"
   ]
  },
  {
   "cell_type": "markdown",
   "metadata": {},
   "source": [
    "Среднее значение почти в 2 раза больше медианы, построим boxplot, и посмотрим на выбросы"
   ]
  },
  {
   "cell_type": "code",
   "execution_count": 62,
   "metadata": {},
   "outputs": [
    {
     "data": {
      "text/plain": [
       "Text(0, 0.5, 'Количество дней')"
      ]
     },
     "execution_count": 62,
     "metadata": {},
     "output_type": "execute_result"
    },
    {
     "data": {
      "image/png": "[encoded data removed]",
      "text/plain": [
       "<Figure size 1008x432 with 1 Axes>"
      ]
     },
     "metadata": {
      "needs_background": "light"
     },
     "output_type": "display_data"
    }
   ],
   "source": [
    "df.boxplot(column='days_exposition',figsize=(14,6))\n",
    "plt.title(\"Распределение по времени продажи квартир\")\n",
    "plt.ylabel(\"Количество дней\")"
   ]
  },
  {
   "cell_type": "markdown",
   "metadata": {},
   "source": [
    "По графику видно, что выше 500 дней присутствуют выбросы. Построим гистограмму по значениям меньше 500 дней"
   ]
  },
  {
   "cell_type": "code",
   "execution_count": 63,
   "metadata": {},
   "outputs": [
    {
     "data": {
      "text/plain": [
       "Text(0, 0.5, 'Количество квартир')"
      ]
     },
     "execution_count": 63,
     "metadata": {},
     "output_type": "execute_result"
    },
    {
     "data": {
      "image/png": "[encoded data removed]",
      "text/plain": [
       "<Figure size 1008x432 with 1 Axes>"
      ]
     },
     "metadata": {
      "needs_background": "light"
     },
     "output_type": "display_data"
    }
   ],
   "source": [
    "df.query('days_exposition < 500')['days_exposition'].hist(bins=50,figsize=(14,6))\n",
    "plt.title(\"Распределение продажи квартир менее 500 дней\")\n",
    "plt.xlabel(\"Количество дней\")\n",
    "plt.ylabel(\"Количество квартир\")"
   ]
  },
  {
   "cell_type": "markdown",
   "metadata": {},
   "source": [
    "Пересчитаем описательные значения для количества дней менее 500"
   ]
  },
  {
   "cell_type": "code",
   "execution_count": 64,
   "metadata": {},
   "outputs": [
    {
     "data": {
      "text/plain": [
       "count   18,764.00\n",
       "mean       127.05\n",
       "std        119.12\n",
       "min          1.00\n",
       "25%         41.00\n",
       "50%         84.00\n",
       "75%        181.00\n",
       "max        499.00\n",
       "Name: days_exposition, dtype: float64"
      ]
     },
     "execution_count": 64,
     "metadata": {},
     "output_type": "execute_result"
    }
   ],
   "source": [
    "df.query('days_exposition < 500')['days_exposition'].describe()"
   ]
  },
  {
   "cell_type": "markdown",
   "metadata": {},
   "source": [
    "Хотя медиана без выбросов снизилась с 95 до 84 дней, самая распространенная дата продажи 45 дней. Потому можно сказать, что продажу быстрее 41 дня(25 процентиль) можно назвать быстрой, а срок более 181 дня(75 процентиль) долгой. Выбросы более 500 дней необычно долгой."
   ]
  },
  {
   "cell_type": "markdown",
   "metadata": {},
   "source": [
    "**Зависимость цены от площади квартиры**"
   ]
  },
  {
   "cell_type": "code",
   "execution_count": 65,
   "metadata": {},
   "outputs": [
    {
     "data": {
      "text/plain": [
       "0.6537407142641287"
      ]
     },
     "execution_count": 65,
     "metadata": {},
     "output_type": "execute_result"
    }
   ],
   "source": [
    "df['last_price'].corr(df['total_area'])"
   ]
  },
  {
   "cell_type": "code",
   "execution_count": 66,
   "metadata": {},
   "outputs": [
    {
     "data": {
      "text/plain": [
       "Text(0, 0.5, 'Цена 10 млн.')"
      ]
     },
     "execution_count": 66,
     "metadata": {},
     "output_type": "execute_result"
    },
    {
     "data": {
      "image/png": "[encoded data removed]",
      "text/plain": [
       "<Figure size 1008x432 with 1 Axes>"
      ]
     },
     "metadata": {
      "needs_background": "light"
     },
     "output_type": "display_data"
    }
   ],
   "source": [
    "df.plot(x='total_area', y='last_price', kind='scatter', grid=True, alpha=0.3,figsize=(14,6))\n",
    "plt.title(\"Зависимость цены от площади квартиры\")\n",
    "plt.xlabel(\"Площадь м²\")\n",
    "plt.ylabel(\"Цена 10 млн.\")"
   ]
  },
  {
   "cell_type": "markdown",
   "metadata": {},
   "source": [
    "Коэффициент Пирсона 0.65 говорит о том цена довольно сильно зависит от площади квартиры."
   ]
  },
  {
   "cell_type": "markdown",
   "metadata": {},
   "source": [
    "**Зависимость цены от числа комнат**"
   ]
  },
  {
   "cell_type": "code",
   "execution_count": 67,
   "metadata": {},
   "outputs": [
    {
     "data": {
      "text/plain": [
       "0.3633404525374845"
      ]
     },
     "execution_count": 67,
     "metadata": {},
     "output_type": "execute_result"
    }
   ],
   "source": [
    "df['last_price'].corr(df['rooms'])"
   ]
  },
  {
   "cell_type": "code",
   "execution_count": 68,
   "metadata": {},
   "outputs": [
    {
     "data": {
      "text/plain": [
       "Text(0, 0.5, 'Цена 10 млн.')"
      ]
     },
     "execution_count": 68,
     "metadata": {},
     "output_type": "execute_result"
    },
    {
     "data": {
      "image/png": "[encoded data removed]",
      "text/plain": [
       "<Figure size 1008x432 with 1 Axes>"
      ]
     },
     "metadata": {
      "needs_background": "light"
     },
     "output_type": "display_data"
    }
   ],
   "source": [
    "df.plot(x='rooms', y='last_price', kind='scatter', grid=True, alpha=0.3,figsize=(14,6))\n",
    "plt.title(\"Зависимость цены от числа комнат\")\n",
    "plt.xlabel(\"Число комнат\")\n",
    "plt.ylabel(\"Цена 10 млн.\")"
   ]
  },
  {
   "cell_type": "markdown",
   "metadata": {},
   "source": [
    "Видим небольшую зависимость цены от количества комнат, что связано с предыдущим параметром площади квартиры."
   ]
  },
  {
   "cell_type": "markdown",
   "metadata": {},
   "source": [
    "**Зависимость цены от удалённости от центра**"
   ]
  },
  {
   "cell_type": "code",
   "execution_count": 69,
   "metadata": {},
   "outputs": [
    {
     "data": {
      "text/plain": [
       "-0.2070600005801343"
      ]
     },
     "execution_count": 69,
     "metadata": {},
     "output_type": "execute_result"
    }
   ],
   "source": [
    "df['last_price'].corr(df['city_сenters_nearest'])"
   ]
  },
  {
   "cell_type": "code",
   "execution_count": 70,
   "metadata": {},
   "outputs": [
    {
     "data": {
      "text/plain": [
       "Text(0, 0.5, 'Цена 10 млн')"
      ]
     },
     "execution_count": 70,
     "metadata": {},
     "output_type": "execute_result"
    },
    {
     "data": {
      "image/png": "[encoded data removed]",
      "text/plain": [
       "<Figure size 1008x432 with 1 Axes>"
      ]
     },
     "metadata": {
      "needs_background": "light"
     },
     "output_type": "display_data"
    }
   ],
   "source": [
    "df.plot(x='city_сenters_nearest', y='last_price', kind='scatter', grid=True, alpha=0.3,figsize=(14,6))\n",
    "plt.title(\"Зависимость цены от удалённости от центра\")\n",
    "plt.xlabel(\"Расстояние до центра, км\")\n",
    "plt.ylabel(\"Цена 10 млн\")"
   ]
  },
  {
   "cell_type": "markdown",
   "metadata": {},
   "source": [
    "Тут видим обратную зависимость, чем меньше расстояние от центра, тем больше цена квартиры."
   ]
  },
  {
   "cell_type": "markdown",
   "metadata": {},
   "source": [
    "**Зависимость цены от типа этажа**"
   ]
  },
  {
   "cell_type": "code",
   "execution_count": 71,
   "metadata": {},
   "outputs": [
    {
     "data": {
      "text/plain": [
       "floor_type\n",
       "другой      4,850,000.00\n",
       "первый      3,900,000.00\n",
       "последний   4,350,000.00\n",
       "Name: last_price, dtype: float64"
      ]
     },
     "execution_count": 71,
     "metadata": {},
     "output_type": "execute_result"
    }
   ],
   "source": [
    "df.groupby('floor_type')['last_price'].median()"
   ]
  },
  {
   "cell_type": "markdown",
   "metadata": {},
   "source": [
    "Самая низкая цена на первые этажи, дороже последние и самая дорогая категория между ними."
   ]
  },
  {
   "cell_type": "markdown",
   "metadata": {},
   "source": [
    "**Зависимость цены от дня недели**"
   ]
  },
  {
   "cell_type": "code",
   "execution_count": 72,
   "metadata": {},
   "outputs": [
    {
     "data": {
      "text/plain": [
       "weekday\n",
       "0   4,650,000.00\n",
       "1   4,730,000.00\n",
       "2   4,700,000.00\n",
       "3   4,650,000.00\n",
       "4   4,585,000.00\n",
       "5   4,555,000.00\n",
       "6   4,550,000.00\n",
       "Name: last_price, dtype: float64"
      ]
     },
     "execution_count": 72,
     "metadata": {},
     "output_type": "execute_result"
    }
   ],
   "source": [
    "df.groupby('weekday')['last_price'].median()"
   ]
  },
  {
   "cell_type": "markdown",
   "metadata": {},
   "source": [
    "Цена квартир снижается к концу недели."
   ]
  },
  {
   "cell_type": "markdown",
   "metadata": {},
   "source": [
    "**Зависимость цены от месяца**"
   ]
  },
  {
   "cell_type": "code",
   "execution_count": 73,
   "metadata": {},
   "outputs": [
    {
     "data": {
      "text/plain": [
       "month\n",
       "1    4,600,000.00\n",
       "2    4,650,000.00\n",
       "3    4,650,000.00\n",
       "4    4,800,000.00\n",
       "5    4,515,000.00\n",
       "6    4,400,000.00\n",
       "7    4,650,000.00\n",
       "8    4,570,000.00\n",
       "9    4,700,000.00\n",
       "10   4,570,000.00\n",
       "11   4,700,000.00\n",
       "12   4,700,000.00\n",
       "Name: last_price, dtype: float64"
      ]
     },
     "execution_count": 73,
     "metadata": {},
     "output_type": "execute_result"
    }
   ],
   "source": [
    "df.groupby('month')['last_price'].median()"
   ]
  },
  {
   "cell_type": "markdown",
   "metadata": {},
   "source": [
    "Самая высокая стоимость квартир в апреле, сентябре, ноябре и декабре. Самая низкая в мае."
   ]
  },
  {
   "cell_type": "markdown",
   "metadata": {},
   "source": [
    "**Зависимость цены от года**"
   ]
  },
  {
   "cell_type": "code",
   "execution_count": 74,
   "metadata": {},
   "outputs": [
    {
     "data": {
      "text/plain": [
       "year\n",
       "2014   7,700,000.00\n",
       "2015   5,350,000.00\n",
       "2016   4,550,000.00\n",
       "2017   4,500,000.00\n",
       "2018   4,550,000.00\n",
       "2019   5,050,000.00\n",
       "Name: last_price, dtype: float64"
      ]
     },
     "execution_count": 74,
     "metadata": {},
     "output_type": "execute_result"
    }
   ],
   "source": [
    "df.groupby('year')['last_price'].median()"
   ]
  },
  {
   "cell_type": "markdown",
   "metadata": {},
   "source": [
    "Самые высокие цены были в 2014 году, они снижались до 2017 года и затем опять начали расти."
   ]
  },
  {
   "cell_type": "markdown",
   "metadata": {},
   "source": [
    "Построим тепловую карту зависимости показателей другг отдруга"
   ]
  },
  {
   "cell_type": "code",
   "execution_count": 75,
   "metadata": {},
   "outputs": [
    {
     "data": {
      "text/plain": [
       "<AxesSubplot:>"
      ]
     },
     "execution_count": 75,
     "metadata": {},
     "output_type": "execute_result"
    },
    {
     "data": {
      "image/png": "[encoded data removed]",
      "text/plain": [
       "<Figure size 864x720 with 2 Axes>"
      ]
     },
     "metadata": {
      "needs_background": "light"
     },
     "output_type": "display_data"
    }
   ],
   "source": [
    "df_corr = (df[['last_price','total_area','rooms','ceiling_height','floor','city_сenters_nearest',\n",
    "           'weekday','month','year'\n",
    "           ]])\n",
    "\n",
    "plt.figure(figsize=(12,10))\n",
    "sns.heatmap(df_corr.corr(), xticklabels=df_corr.corr().columns,\\\n",
    "            yticklabels=df_corr.corr().columns, cmap='RdYlGn', center=0, annot=True)"
   ]
  },
  {
   "cell_type": "markdown",
   "metadata": {},
   "source": [
    "**Вывод**\n",
    "\n",
    "Цена квартиры сильно зависит от общей площади, которая в свою очередь зависит от количества комнат. Удаленность от центра имеет обратную зависимость, чем она больше, тем цена меньше. Остальные показатели мало коррелируются с ценой."
   ]
  },
  {
   "cell_type": "markdown",
   "metadata": {},
   "source": [
    "- Выберите 10 населённых пунктов с наибольшим числом объявлений.\n",
    "- Посчитайте среднюю цену квадратного метра в этих населённых пунктах. \n",
    "- Выделите населённые пункты с самой высокой и низкой стоимостью жилья."
   ]
  },
  {
   "cell_type": "code",
   "execution_count": 76,
   "metadata": {},
   "outputs": [
    {
     "data": {
      "text/html": [
       "<div>\n",
       "<style scoped>\n",
       "    .dataframe tbody tr th:only-of-type {\n",
       "        vertical-align: middle;\n",
       "    }\n",
       "\n",
       "    .dataframe tbody tr th {\n",
       "        vertical-align: top;\n",
       "    }\n",
       "\n",
       "    .dataframe thead th {\n",
       "        text-align: right;\n",
       "    }\n",
       "</style>\n",
       "<table border=\"1\" class=\"dataframe\">\n",
       "  <thead>\n",
       "    <tr style=\"text-align: right;\">\n",
       "      <th></th>\n",
       "      <th>count</th>\n",
       "      <th>mean</th>\n",
       "    </tr>\n",
       "    <tr>\n",
       "      <th>locality_name</th>\n",
       "      <th></th>\n",
       "      <th></th>\n",
       "    </tr>\n",
       "  </thead>\n",
       "  <tbody>\n",
       "    <tr>\n",
       "      <th>Санкт-Петербург</th>\n",
       "      <td>15747</td>\n",
       "      <td>114,845.21</td>\n",
       "    </tr>\n",
       "    <tr>\n",
       "      <th>посёлок Мурино</th>\n",
       "      <td>522</td>\n",
       "      <td>85,751.73</td>\n",
       "    </tr>\n",
       "    <tr>\n",
       "      <th>посёлок Шушары</th>\n",
       "      <td>440</td>\n",
       "      <td>78,676.90</td>\n",
       "    </tr>\n",
       "    <tr>\n",
       "      <th>Всеволожск</th>\n",
       "      <td>398</td>\n",
       "      <td>68,654.01</td>\n",
       "    </tr>\n",
       "    <tr>\n",
       "      <th>Пушкин</th>\n",
       "      <td>369</td>\n",
       "      <td>103,125.37</td>\n",
       "    </tr>\n",
       "    <tr>\n",
       "      <th>Колпино</th>\n",
       "      <td>338</td>\n",
       "      <td>75,424.15</td>\n",
       "    </tr>\n",
       "    <tr>\n",
       "      <th>посёлок Парголово</th>\n",
       "      <td>327</td>\n",
       "      <td>90,175.49</td>\n",
       "    </tr>\n",
       "    <tr>\n",
       "      <th>Гатчина</th>\n",
       "      <td>307</td>\n",
       "      <td>68,745.69</td>\n",
       "    </tr>\n",
       "    <tr>\n",
       "      <th>деревня Кудрово</th>\n",
       "      <td>299</td>\n",
       "      <td>92,473.09</td>\n",
       "    </tr>\n",
       "    <tr>\n",
       "      <th>Выборг</th>\n",
       "      <td>237</td>\n",
       "      <td>58,141.49</td>\n",
       "    </tr>\n",
       "  </tbody>\n",
       "</table>\n",
       "</div>"
      ],
      "text/plain": [
       "                   count       mean\n",
       "locality_name                      \n",
       "Санкт-Петербург    15747 114,845.21\n",
       "посёлок Мурино       522  85,751.73\n",
       "посёлок Шушары       440  78,676.90\n",
       "Всеволожск           398  68,654.01\n",
       "Пушкин               369 103,125.37\n",
       "Колпино              338  75,424.15\n",
       "посёлок Парголово    327  90,175.49\n",
       "Гатчина              307  68,745.69\n",
       "деревня Кудрово      299  92,473.09\n",
       "Выборг               237  58,141.49"
      ]
     },
     "execution_count": 76,
     "metadata": {},
     "output_type": "execute_result"
    }
   ],
   "source": [
    "top_10 = df.pivot_table(index = 'locality_name', values = 'price_per_meter', aggfunc=['count', 'mean'])\n",
    "top_10.columns = ['count', 'mean']\n",
    "top_10 = top_10.sort_values('count', ascending = False).head(10)\n",
    "top_10"
   ]
  },
  {
   "cell_type": "code",
   "execution_count": 77,
   "metadata": {},
   "outputs": [
    {
     "data": {
      "text/html": [
       "<div>\n",
       "<style scoped>\n",
       "    .dataframe tbody tr th:only-of-type {\n",
       "        vertical-align: middle;\n",
       "    }\n",
       "\n",
       "    .dataframe tbody tr th {\n",
       "        vertical-align: top;\n",
       "    }\n",
       "\n",
       "    .dataframe thead th {\n",
       "        text-align: right;\n",
       "    }\n",
       "</style>\n",
       "<table border=\"1\" class=\"dataframe\">\n",
       "  <thead>\n",
       "    <tr style=\"text-align: right;\">\n",
       "      <th></th>\n",
       "      <th>count</th>\n",
       "      <th>mean</th>\n",
       "    </tr>\n",
       "    <tr>\n",
       "      <th>locality_name</th>\n",
       "      <th></th>\n",
       "      <th></th>\n",
       "    </tr>\n",
       "  </thead>\n",
       "  <tbody>\n",
       "    <tr>\n",
       "      <th>Санкт-Петербург</th>\n",
       "      <td>15747</td>\n",
       "      <td>114,845.21</td>\n",
       "    </tr>\n",
       "  </tbody>\n",
       "</table>\n",
       "</div>"
      ],
      "text/plain": [
       "                 count       mean\n",
       "locality_name                    \n",
       "Санкт-Петербург  15747 114,845.21"
      ]
     },
     "execution_count": 77,
     "metadata": {},
     "output_type": "execute_result"
    }
   ],
   "source": [
    "#самая высокая стоимость\n",
    "top_10[top_10['mean']==top_10['mean'].max()]"
   ]
  },
  {
   "cell_type": "code",
   "execution_count": 78,
   "metadata": {},
   "outputs": [
    {
     "data": {
      "text/html": [
       "<div>\n",
       "<style scoped>\n",
       "    .dataframe tbody tr th:only-of-type {\n",
       "        vertical-align: middle;\n",
       "    }\n",
       "\n",
       "    .dataframe tbody tr th {\n",
       "        vertical-align: top;\n",
       "    }\n",
       "\n",
       "    .dataframe thead th {\n",
       "        text-align: right;\n",
       "    }\n",
       "</style>\n",
       "<table border=\"1\" class=\"dataframe\">\n",
       "  <thead>\n",
       "    <tr style=\"text-align: right;\">\n",
       "      <th></th>\n",
       "      <th>count</th>\n",
       "      <th>mean</th>\n",
       "    </tr>\n",
       "    <tr>\n",
       "      <th>locality_name</th>\n",
       "      <th></th>\n",
       "      <th></th>\n",
       "    </tr>\n",
       "  </thead>\n",
       "  <tbody>\n",
       "    <tr>\n",
       "      <th>Выборг</th>\n",
       "      <td>237</td>\n",
       "      <td>58,141.49</td>\n",
       "    </tr>\n",
       "  </tbody>\n",
       "</table>\n",
       "</div>"
      ],
      "text/plain": [
       "               count      mean\n",
       "locality_name                 \n",
       "Выборг           237 58,141.49"
      ]
     },
     "execution_count": 78,
     "metadata": {},
     "output_type": "execute_result"
    }
   ],
   "source": [
    "#самая низкая стоимость\n",
    "top_10[top_10['mean']==top_10['mean'].min()]"
   ]
  },
  {
   "cell_type": "markdown",
   "metadata": {},
   "source": [
    "- Изучите предложения квартир: для каждой квартиры есть информация о расстоянии до центра. Выделите квартиры в Санкт-Петербурге (locality_name). Ваша задача — выяснить, какая область входит в центр. Создайте столбец с расстоянием до центра в километрах: округлите до целых значений. После этого посчитайте среднюю цену для каждого километра. Постройте график: он должен показывать, как цена зависит от удалённости от центра. Определите границу, где график сильно меняется, — это и будет центральная зона."
   ]
  },
  {
   "cell_type": "code",
   "execution_count": 79,
   "metadata": {},
   "outputs": [
    {
     "data": {
      "text/html": [
       "<div>\n",
       "<style scoped>\n",
       "    .dataframe tbody tr th:only-of-type {\n",
       "        vertical-align: middle;\n",
       "    }\n",
       "\n",
       "    .dataframe tbody tr th {\n",
       "        vertical-align: top;\n",
       "    }\n",
       "\n",
       "    .dataframe thead th {\n",
       "        text-align: right;\n",
       "    }\n",
       "</style>\n",
       "<table border=\"1\" class=\"dataframe\">\n",
       "  <thead>\n",
       "    <tr style=\"text-align: right;\">\n",
       "      <th></th>\n",
       "      <th>price_per_meter</th>\n",
       "    </tr>\n",
       "    <tr>\n",
       "      <th>city_сenters_nearest</th>\n",
       "      <th></th>\n",
       "    </tr>\n",
       "  </thead>\n",
       "  <tbody>\n",
       "    <tr>\n",
       "      <th>0</th>\n",
       "      <td>188,985.59</td>\n",
       "    </tr>\n",
       "    <tr>\n",
       "      <th>1</th>\n",
       "      <td>166,919.21</td>\n",
       "    </tr>\n",
       "    <tr>\n",
       "      <th>2</th>\n",
       "      <td>147,898.73</td>\n",
       "    </tr>\n",
       "    <tr>\n",
       "      <th>3</th>\n",
       "      <td>125,055.20</td>\n",
       "    </tr>\n",
       "    <tr>\n",
       "      <th>4</th>\n",
       "      <td>139,232.15</td>\n",
       "    </tr>\n",
       "    <tr>\n",
       "      <th>5</th>\n",
       "      <td>142,226.46</td>\n",
       "    </tr>\n",
       "    <tr>\n",
       "      <th>6</th>\n",
       "      <td>158,199.23</td>\n",
       "    </tr>\n",
       "    <tr>\n",
       "      <th>7</th>\n",
       "      <td>141,735.79</td>\n",
       "    </tr>\n",
       "    <tr>\n",
       "      <th>8</th>\n",
       "      <td>121,914.77</td>\n",
       "    </tr>\n",
       "    <tr>\n",
       "      <th>9</th>\n",
       "      <td>110,388.31</td>\n",
       "    </tr>\n",
       "    <tr>\n",
       "      <th>10</th>\n",
       "      <td>111,901.03</td>\n",
       "    </tr>\n",
       "    <tr>\n",
       "      <th>11</th>\n",
       "      <td>106,272.03</td>\n",
       "    </tr>\n",
       "    <tr>\n",
       "      <th>12</th>\n",
       "      <td>110,510.56</td>\n",
       "    </tr>\n",
       "    <tr>\n",
       "      <th>13</th>\n",
       "      <td>107,105.22</td>\n",
       "    </tr>\n",
       "    <tr>\n",
       "      <th>14</th>\n",
       "      <td>105,226.75</td>\n",
       "    </tr>\n",
       "    <tr>\n",
       "      <th>15</th>\n",
       "      <td>101,994.14</td>\n",
       "    </tr>\n",
       "    <tr>\n",
       "      <th>16</th>\n",
       "      <td>99,955.68</td>\n",
       "    </tr>\n",
       "    <tr>\n",
       "      <th>17</th>\n",
       "      <td>94,598.73</td>\n",
       "    </tr>\n",
       "    <tr>\n",
       "      <th>18</th>\n",
       "      <td>95,279.02</td>\n",
       "    </tr>\n",
       "    <tr>\n",
       "      <th>19</th>\n",
       "      <td>95,280.48</td>\n",
       "    </tr>\n",
       "    <tr>\n",
       "      <th>20</th>\n",
       "      <td>107,045.77</td>\n",
       "    </tr>\n",
       "    <tr>\n",
       "      <th>21</th>\n",
       "      <td>92,127.23</td>\n",
       "    </tr>\n",
       "    <tr>\n",
       "      <th>22</th>\n",
       "      <td>88,242.60</td>\n",
       "    </tr>\n",
       "    <tr>\n",
       "      <th>23</th>\n",
       "      <td>92,720.23</td>\n",
       "    </tr>\n",
       "    <tr>\n",
       "      <th>24</th>\n",
       "      <td>83,925.14</td>\n",
       "    </tr>\n",
       "    <tr>\n",
       "      <th>25</th>\n",
       "      <td>90,610.79</td>\n",
       "    </tr>\n",
       "    <tr>\n",
       "      <th>26</th>\n",
       "      <td>75,171.33</td>\n",
       "    </tr>\n",
       "    <tr>\n",
       "      <th>27</th>\n",
       "      <td>132,115.00</td>\n",
       "    </tr>\n",
       "    <tr>\n",
       "      <th>28</th>\n",
       "      <td>81,840.20</td>\n",
       "    </tr>\n",
       "    <tr>\n",
       "      <th>29</th>\n",
       "      <td>62,481.67</td>\n",
       "    </tr>\n",
       "  </tbody>\n",
       "</table>\n",
       "</div>"
      ],
      "text/plain": [
       "                      price_per_meter\n",
       "city_сenters_nearest                 \n",
       "0                          188,985.59\n",
       "1                          166,919.21\n",
       "2                          147,898.73\n",
       "3                          125,055.20\n",
       "4                          139,232.15\n",
       "5                          142,226.46\n",
       "6                          158,199.23\n",
       "7                          141,735.79\n",
       "8                          121,914.77\n",
       "9                          110,388.31\n",
       "10                         111,901.03\n",
       "11                         106,272.03\n",
       "12                         110,510.56\n",
       "13                         107,105.22\n",
       "14                         105,226.75\n",
       "15                         101,994.14\n",
       "16                          99,955.68\n",
       "17                          94,598.73\n",
       "18                          95,279.02\n",
       "19                          95,280.48\n",
       "20                         107,045.77\n",
       "21                          92,127.23\n",
       "22                          88,242.60\n",
       "23                          92,720.23\n",
       "24                          83,925.14\n",
       "25                          90,610.79\n",
       "26                          75,171.33\n",
       "27                         132,115.00\n",
       "28                          81,840.20\n",
       "29                          62,481.67"
      ]
     },
     "execution_count": 79,
     "metadata": {},
     "output_type": "execute_result"
    },
    {
     "data": {
      "image/png": "[encoded data removed]",
      "text/plain": [
       "<Figure size 1008x432 with 1 Axes>"
      ]
     },
     "metadata": {
      "needs_background": "light"
     },
     "output_type": "display_data"
    }
   ],
   "source": [
    "df_spb = df.query('locality_name == \"Санкт-Петербург\"').copy()\n",
    "df_spb['city_сenters_nearest'] = df_spb['city_сenters_nearest'].astype(int)\n",
    "\n",
    "city_center = df_spb.pivot_table(index = 'city_сenters_nearest', values = 'price_per_meter', aggfunc = 'mean')\n",
    "city_center.plot(figsize=(14,6))\n",
    "city_center"
   ]
  },
  {
   "cell_type": "markdown",
   "metadata": {},
   "source": [
    "**Вывод**\n",
    "График резко меняется после 7 км, определим его как центр."
   ]
  },
  {
   "cell_type": "markdown",
   "metadata": {},
   "source": [
    "- Выделите сегмент квартир в центре. Проанализируйте эту территорию и изучите следующие параметры: площадь, цена, число комнат, высота потолков. Также выделите факторы, которые влияют на стоимость квартиры (число комнат, этаж, удалённость от центра, дата размещения объявления). Сделайте выводы. Отличаются ли они от общих выводов по всему городу?"
   ]
  },
  {
   "cell_type": "code",
   "execution_count": 80,
   "metadata": {},
   "outputs": [],
   "source": [
    "df_spb_center = df_spb.query('city_сenters_nearest <= 7')"
   ]
  },
  {
   "cell_type": "code",
   "execution_count": 81,
   "metadata": {},
   "outputs": [
    {
     "data": {
      "text/plain": [
       "Text(0.5, 0, 'Площадь м²')"
      ]
     },
     "execution_count": 81,
     "metadata": {},
     "output_type": "execute_result"
    },
    {
     "data": {
      "image/png": "[encoded data removed]",
      "text/plain": [
       "<Figure size 1008x432 with 1 Axes>"
      ]
     },
     "metadata": {
      "needs_background": "light"
     },
     "output_type": "display_data"
    }
   ],
   "source": [
    "df_spb_center['total_area'].hist(bins=100,figsize=(14, 6))\n",
    "plt.title(\"Распределение квартир по площади м² в центре\")\n",
    "plt.ylabel(\"Количество\")\n",
    "plt.xlabel(\"Площадь м²\")"
   ]
  },
  {
   "cell_type": "code",
   "execution_count": 82,
   "metadata": {},
   "outputs": [
    {
     "data": {
      "text/plain": [
       "(0.0, 200.0)"
      ]
     },
     "execution_count": 82,
     "metadata": {},
     "output_type": "execute_result"
    },
    {
     "data": {
      "image/png": "[encoded data removed]",
      "text/plain": [
       "<Figure size 1008x432 with 1 Axes>"
      ]
     },
     "metadata": {
      "needs_background": "light"
     },
     "output_type": "display_data"
    }
   ],
   "source": [
    "df_spb_center['total_area'].hist(bins=100,figsize=(14,6))\n",
    "\n",
    "\n",
    "df['total_area'].hist(bins=100,alpha=0.3,figsize=(14, 6))\n",
    "plt.title(\"Распределение всех квартир по площади м² и квартир в центре\")\n",
    "plt.ylabel(\"Количество\")\n",
    "plt.xlabel(\"Площадь м²\")\n",
    "plt.xlim(0,200)"
   ]
  },
  {
   "cell_type": "code",
   "execution_count": 83,
   "metadata": {
    "scrolled": false
   },
   "outputs": [
    {
     "data": {
      "text/plain": [
       "count   3,693.00\n",
       "mean       92.42\n",
       "std        60.44\n",
       "min        12.00\n",
       "25%        56.00\n",
       "50%        77.90\n",
       "75%       109.00\n",
       "max       900.00\n",
       "Name: total_area, dtype: float64"
      ]
     },
     "execution_count": 83,
     "metadata": {},
     "output_type": "execute_result"
    }
   ],
   "source": [
    "df_spb_center['total_area'].describe()"
   ]
  },
  {
   "cell_type": "markdown",
   "metadata": {},
   "source": [
    "Медианное значение общей площади для центра увеличилось с 52 до 85 метров"
   ]
  },
  {
   "cell_type": "code",
   "execution_count": 84,
   "metadata": {
    "scrolled": false
   },
   "outputs": [
    {
     "data": {
      "text/plain": [
       "Text(0.5, 0, 'Цена 50 млн')"
      ]
     },
     "execution_count": 84,
     "metadata": {},
     "output_type": "execute_result"
    },
    {
     "data": {
      "image/png": "[encoded data removed]",
      "text/plain": [
       "<Figure size 1008x432 with 1 Axes>"
      ]
     },
     "metadata": {
      "needs_background": "light"
     },
     "output_type": "display_data"
    }
   ],
   "source": [
    "df.query('last_price < 50_000_000')['last_price'].hist(bins=100,figsize=(14, 6))\n",
    "\n",
    "\n",
    "df_spb_center.query('last_price < 50_000_000')['last_price'].hist(bins=100,figsize=(14, 6))\n",
    "plt.title(\"Распределение цен на квартиры до 10 млн\")\n",
    "plt.ylabel(\"Количество\")\n",
    "plt.xlabel(\"Цена 50 млн\")"
   ]
  },
  {
   "cell_type": "code",
   "execution_count": 85,
   "metadata": {
    "scrolled": true
   },
   "outputs": [
    {
     "data": {
      "text/plain": [
       "count         3,693.00\n",
       "mean     14,748,679.57\n",
       "std      24,762,936.39\n",
       "min       1,600,000.00\n",
       "25%       6,590,000.00\n",
       "50%       9,000,000.00\n",
       "75%      14,100,000.00\n",
       "max     763,000,000.00\n",
       "Name: last_price, dtype: float64"
      ]
     },
     "execution_count": 85,
     "metadata": {},
     "output_type": "execute_result"
    }
   ],
   "source": [
    "df_spb_center['last_price'].describe()"
   ]
  },
  {
   "cell_type": "code",
   "execution_count": 86,
   "metadata": {},
   "outputs": [
    {
     "data": {
      "text/plain": [
       "count        23,699.00\n",
       "mean      6,542,062.62\n",
       "std      10,886,992.47\n",
       "min         430,000.00\n",
       "25%       3,400,000.00\n",
       "50%       4,650,000.00\n",
       "75%       6,800,000.00\n",
       "max     763,000,000.00\n",
       "Name: last_price, dtype: float64"
      ]
     },
     "execution_count": 86,
     "metadata": {},
     "output_type": "execute_result"
    }
   ],
   "source": [
    "df['last_price'].describe()"
   ]
  },
  {
   "cell_type": "markdown",
   "metadata": {},
   "source": [
    "Цены на квартиры в центре больше чем в других районах. Так медианное значение цены квартиры всего составляет 4.65 млн, в центре - 9.5 млн, что более чем в 2 раза больше."
   ]
  },
  {
   "cell_type": "markdown",
   "metadata": {},
   "source": [
    "**Изучим число комнат в центре**"
   ]
  },
  {
   "cell_type": "code",
   "execution_count": 87,
   "metadata": {
    "scrolled": true
   },
   "outputs": [
    {
     "data": {
      "text/plain": [
       "count   3,693.00\n",
       "mean        2.82\n",
       "std         1.44\n",
       "min         0.00\n",
       "25%         2.00\n",
       "50%         3.00\n",
       "75%         3.00\n",
       "max        19.00\n",
       "Name: rooms, dtype: float64"
      ]
     },
     "execution_count": 87,
     "metadata": {},
     "output_type": "execute_result"
    }
   ],
   "source": [
    "df_spb_center['rooms'].describe()"
   ]
  },
  {
   "cell_type": "code",
   "execution_count": 88,
   "metadata": {},
   "outputs": [
    {
     "data": {
      "text/plain": [
       "3     1148\n",
       "2     1095\n",
       "1      550\n",
       "4      503\n",
       "5      218\n",
       "6       84\n",
       "7       54\n",
       "0       18\n",
       "8       11\n",
       "9        3\n",
       "11       2\n",
       "10       2\n",
       "15       1\n",
       "19       1\n",
       "16       1\n",
       "12       1\n",
       "14       1\n",
       "Name: rooms, dtype: int64"
      ]
     },
     "execution_count": 88,
     "metadata": {},
     "output_type": "execute_result"
    }
   ],
   "source": [
    "df_spb_center['rooms'].value_counts()"
   ]
  },
  {
   "cell_type": "markdown",
   "metadata": {},
   "source": [
    "Колиество комнат в квартирах в центре больше чем в других районах. В центре на первом месте квартиры 3 комнатами в отличие от остальных районов где на первом месте однокомнатные квартиры."
   ]
  },
  {
   "cell_type": "markdown",
   "metadata": {},
   "source": [
    "**Изучим высоту потолков в центре**"
   ]
  },
  {
   "cell_type": "code",
   "execution_count": 89,
   "metadata": {},
   "outputs": [
    {
     "data": {
      "text/plain": [
       "Text(0, 0.5, 'Количество квартир')"
      ]
     },
     "execution_count": 89,
     "metadata": {},
     "output_type": "execute_result"
    },
    {
     "data": {
      "image/png": "[encoded data removed]",
      "text/plain": [
       "<Figure size 1008x432 with 1 Axes>"
      ]
     },
     "metadata": {
      "needs_background": "light"
     },
     "output_type": "display_data"
    }
   ],
   "source": [
    "df_spb_center['ceiling_height'].hist(bins=7,figsize=(14,6))\n",
    "\n",
    "df['ceiling_height'].hist(bins=7,figsize=(14,6),alpha=0.5)\n",
    "plt.title(\"Распределение по высоте потолков\")\n",
    "plt.xlabel(\"Комнаты\")\n",
    "plt.ylabel(\"Количество квартир\")\n"
   ]
  },
  {
   "cell_type": "code",
   "execution_count": 90,
   "metadata": {
    "scrolled": true
   },
   "outputs": [
    {
     "data": {
      "text/plain": [
       "2.65   35.88\n",
       "3.00   12.84\n",
       "3.20    5.06\n",
       "2.70    3.49\n",
       "2.80    3.38\n",
       "2.50    3.28\n",
       "3.10    3.11\n",
       "3.50    2.92\n",
       "3.30    2.52\n",
       "3.40    2.22\n",
       "Name: ceiling_height, dtype: float64"
      ]
     },
     "execution_count": 90,
     "metadata": {},
     "output_type": "execute_result"
    }
   ],
   "source": [
    "df_spb_center['ceiling_height'].value_counts(normalize=True).mul(100).head(10)"
   ]
  },
  {
   "cell_type": "code",
   "execution_count": 91,
   "metadata": {},
   "outputs": [
    {
     "data": {
      "text/plain": [
       "2.65   41.70\n",
       "2.50   14.86\n",
       "2.60    6.95\n",
       "2.70    6.68\n",
       "3.00    4.69\n",
       "2.80    4.19\n",
       "2.55    4.14\n",
       "2.75    3.84\n",
       "3.20    1.18\n",
       "3.10    0.86\n",
       "Name: ceiling_height, dtype: float64"
      ]
     },
     "execution_count": 91,
     "metadata": {},
     "output_type": "execute_result"
    }
   ],
   "source": [
    "df['ceiling_height'].value_counts(normalize=True).mul(100).head(10)"
   ]
  },
  {
   "cell_type": "markdown",
   "metadata": {},
   "source": [
    "Хотя в центре первом месте так же стоят квартиры с высотой потолка 2.65 метра, но на них и ниже приходится около 36% квартир другие значения выше. В остальных района около 70% приходится на квартиры 2.65 метра и ниже."
   ]
  },
  {
   "cell_type": "code",
   "execution_count": 92,
   "metadata": {},
   "outputs": [
    {
     "data": {
      "text/plain": [
       "<AxesSubplot:>"
      ]
     },
     "execution_count": 92,
     "metadata": {},
     "output_type": "execute_result"
    },
    {
     "data": {
      "image/png": "[encoded data removed]",
      "text/plain": [
       "<Figure size 864x720 with 2 Axes>"
      ]
     },
     "metadata": {
      "needs_background": "light"
     },
     "output_type": "display_data"
    }
   ],
   "source": [
    "df_corr = (df_spb_center[['last_price','total_area','rooms','ceiling_height','floor','city_сenters_nearest',\n",
    "           'weekday','month','year'\n",
    "           ]])\n",
    "plt.figure(figsize=(12,10))\n",
    "sns.heatmap(df_corr.corr(), xticklabels=df_corr.corr().columns,\\\n",
    "            yticklabels=df_corr.corr().columns, cmap='RdYlGn', center=0, annot=True)"
   ]
  },
  {
   "cell_type": "markdown",
   "metadata": {},
   "source": [
    "В целом можно сказать, чтоквартиры в центре дороже, больше площадью, больше комнат и выше потолки."
   ]
  },
  {
   "cell_type": "markdown",
   "metadata": {},
   "source": [
    "## Общий вывод"
   ]
  },
  {
   "cell_type": "markdown",
   "metadata": {},
   "source": [
    "В процессе выполнения проекта изучили данные о продаже квартир в Санкт-Петербурге и соседних населённых пунктах. В таблице представлено 364 населенных пункта, часть относятся к районам Санкт-Петербурга часть к Ленинградской области. На Санкт-Петербург приходится 15747(66,4%) строк таблицы.\n",
    "\n",
    "Значительные пропуски в данных относятся к описательной части объекта недвижимости:\n",
    "- квартира или апартаменты - 88%, \n",
    "- наличие балкона - 48%, \n",
    "- высота потолка - 39%, значения меньше 2 м на медиану\n",
    "Так же значительная часть пропусков обнаружилась в значениях локации квартир: удаленность от центра , аэропорта или наличия рядом парков и водоёмов.\n",
    "По возможности пропуски были заменены на медианные значения. Значительная часть пропусков осталась не заполнена, но эти пропуски в основном относятся к объектам недвижимости Ленинградской области, где расстояние до центра и до аэропорта видимо не столь актуально.\n",
    "\n",
    "Пропуски в колонке `living_area` были заменены пропорционально количеству комнат и долю жилой площади в размере общей площади.\n",
    "\n",
    "Также частично были изменены типы данных, метры заменены на километры с округлением до десятых долей. Это поможет сэкономить расчетные ресурсы и более понятно для восприятия информации.\n",
    "\n",
    "Сильно на разброс данных повлияли выбросы. При рассмотрении значения цены были обнаружены неординарные значения минимальной и максимальной цены. \n",
    "Значение минимальной цены было исправлено как ошибка заполнения, максимальные цены видимо реальны. Медиана цены приходится на 4.65 млн, а среднее значение на 6.54 млн. Показатели сильно отличаются, что является результатом выбросов, например максимальная цена 763 млн.\n",
    "Например, выявлено 6 квартир с ценой более 250 млн. и максимальная цена составляет 763 млн.\n",
    "\n",
    "Важными параметрами, из которых складывается стоимость квартиры это площадь и месторасположение. Чем больше площадь и ближе к центру локация, тем дороже объект недвижимости.\n",
    "\n",
    "При продаже квартиры стоит ориентироваться на точность заполнения данных и время подачи объявления, так как явно прослеживается сезонная активность покупателей. В среднем при адекватной оценке стоимости квартиры срок продаж должен уложиться в 2-3 месяца. Квартиры в центре города стоят дороже. Это обусловлено большей средней площадью, большим количеством комнат, большей стоимости квадратного метра. В свою очередь квартиры в городе дороже чем квартиры в области.\n"
   ]
  }
 ],
 "metadata": {
  "ExecuteTimeLog": [
   {
    "duration": 100,
    "start_time": "2022-02-15T03:52:03.469Z"
   },
   {
    "duration": 290,
    "start_time": "2022-02-15T03:52:24.188Z"
   },
   {
    "duration": 1143,
    "start_time": "2022-02-15T03:52:53.209Z"
   },
   {
    "duration": 89,
    "start_time": "2022-02-15T03:53:00.209Z"
   },
   {
    "duration": 33,
    "start_time": "2022-02-15T03:53:04.948Z"
   },
   {
    "duration": 12,
    "start_time": "2022-02-15T03:53:08.548Z"
   },
   {
    "duration": 4,
    "start_time": "2022-02-15T03:54:42.408Z"
   },
   {
    "duration": 6,
    "start_time": "2022-02-15T03:55:48.828Z"
   },
   {
    "duration": 30,
    "start_time": "2022-02-15T03:56:42.048Z"
   },
   {
    "duration": 97,
    "start_time": "2022-02-15T03:56:45.868Z"
   },
   {
    "duration": 9,
    "start_time": "2022-02-15T03:57:43.688Z"
   },
   {
    "duration": 8,
    "start_time": "2022-02-15T03:59:48.808Z"
   },
   {
    "duration": 95,
    "start_time": "2022-02-15T04:00:38.414Z"
   },
   {
    "duration": 87,
    "start_time": "2022-02-15T04:02:19.088Z"
   },
   {
    "duration": 9,
    "start_time": "2022-02-15T04:03:09.151Z"
   },
   {
    "duration": 108,
    "start_time": "2022-02-15T04:03:12.727Z"
   },
   {
    "duration": 10,
    "start_time": "2022-02-15T04:03:19.156Z"
   },
   {
    "duration": 25,
    "start_time": "2022-02-15T04:03:51.787Z"
   },
   {
    "duration": 5,
    "start_time": "2022-02-15T04:04:28.967Z"
   },
   {
    "duration": 29,
    "start_time": "2022-02-15T04:05:36.408Z"
   },
   {
    "duration": 88,
    "start_time": "2022-02-15T04:07:27.449Z"
   },
   {
    "duration": 5,
    "start_time": "2022-02-15T04:09:16.869Z"
   },
   {
    "duration": 9,
    "start_time": "2022-02-15T04:09:41.315Z"
   },
   {
    "duration": 13,
    "start_time": "2022-02-15T04:11:31.016Z"
   },
   {
    "duration": 13,
    "start_time": "2022-02-15T04:12:31.468Z"
   },
   {
    "duration": 9,
    "start_time": "2022-02-15T04:14:09.967Z"
   },
   {
    "duration": 19,
    "start_time": "2022-02-15T04:16:48.146Z"
   },
   {
    "duration": 7,
    "start_time": "2022-02-15T04:17:18.468Z"
   },
   {
    "duration": 147,
    "start_time": "2022-02-15T04:17:37.016Z"
   },
   {
    "duration": 11,
    "start_time": "2022-02-15T04:19:54.567Z"
   },
   {
    "duration": 11,
    "start_time": "2022-02-15T04:19:56.435Z"
   },
   {
    "duration": 8,
    "start_time": "2022-02-15T04:20:37.368Z"
   },
   {
    "duration": 8,
    "start_time": "2022-02-15T04:20:38.907Z"
   },
   {
    "duration": 8,
    "start_time": "2022-02-15T04:21:50.788Z"
   },
   {
    "duration": 10,
    "start_time": "2022-02-15T04:24:32.353Z"
   },
   {
    "duration": 27,
    "start_time": "2022-02-15T04:25:17.426Z"
   },
   {
    "duration": 10,
    "start_time": "2022-02-15T04:29:12.623Z"
   },
   {
    "duration": 8,
    "start_time": "2022-02-15T04:30:15.607Z"
   },
   {
    "duration": 38,
    "start_time": "2022-02-15T04:31:37.108Z"
   },
   {
    "duration": 6,
    "start_time": "2022-02-15T04:32:32.754Z"
   },
   {
    "duration": 6,
    "start_time": "2022-02-15T04:32:34.129Z"
   },
   {
    "duration": 12,
    "start_time": "2022-02-15T04:32:56.327Z"
   },
   {
    "duration": 5,
    "start_time": "2022-02-15T04:33:05.328Z"
   },
   {
    "duration": 127,
    "start_time": "2022-02-15T04:33:24.275Z"
   },
   {
    "duration": 16,
    "start_time": "2022-02-15T04:35:16.569Z"
   },
   {
    "duration": 1524,
    "start_time": "2022-02-15T04:35:40.348Z"
   },
   {
    "duration": 12,
    "start_time": "2022-02-15T04:36:28.775Z"
   },
   {
    "duration": 49,
    "start_time": "2022-02-15T04:37:55.755Z"
   },
   {
    "duration": 5,
    "start_time": "2022-02-15T04:38:11.307Z"
   },
   {
    "duration": 98,
    "start_time": "2022-02-15T04:38:31.128Z"
   },
   {
    "duration": 8,
    "start_time": "2022-02-15T04:39:59.968Z"
   },
   {
    "duration": 316,
    "start_time": "2022-02-15T04:40:16.467Z"
   },
   {
    "duration": 10,
    "start_time": "2022-02-15T04:41:23.908Z"
   },
   {
    "duration": 8,
    "start_time": "2022-02-15T04:41:47.909Z"
   },
   {
    "duration": 86,
    "start_time": "2022-02-15T04:41:58.715Z"
   },
   {
    "duration": 6,
    "start_time": "2022-02-15T04:42:38.528Z"
   },
   {
    "duration": 6,
    "start_time": "2022-02-15T04:43:39.073Z"
   },
   {
    "duration": 9,
    "start_time": "2022-02-15T04:44:08.729Z"
   },
   {
    "duration": 5,
    "start_time": "2022-02-15T04:46:10.528Z"
   },
   {
    "duration": 14,
    "start_time": "2022-02-15T04:47:25.987Z"
   },
   {
    "duration": 497,
    "start_time": "2022-02-15T04:48:24.047Z"
   },
   {
    "duration": 102,
    "start_time": "2022-02-15T04:48:34.588Z"
   },
   {
    "duration": 6,
    "start_time": "2022-02-15T04:48:54.208Z"
   },
   {
    "duration": 98,
    "start_time": "2022-02-15T04:50:20.569Z"
   },
   {
    "duration": 360,
    "start_time": "2022-02-15T04:50:47.648Z"
   },
   {
    "duration": 7,
    "start_time": "2022-02-15T04:51:36.928Z"
   },
   {
    "duration": 9,
    "start_time": "2022-02-15T04:52:21.868Z"
   },
   {
    "duration": 85,
    "start_time": "2022-02-15T04:52:44.036Z"
   },
   {
    "duration": 207,
    "start_time": "2022-02-15T04:53:05.507Z"
   },
   {
    "duration": 7,
    "start_time": "2022-02-15T04:53:27.888Z"
   },
   {
    "duration": 9,
    "start_time": "2022-02-15T04:54:26.548Z"
   },
   {
    "duration": 216,
    "start_time": "2022-02-15T04:54:34.948Z"
   },
   {
    "duration": 6,
    "start_time": "2022-02-15T04:54:57.908Z"
   },
   {
    "duration": 218,
    "start_time": "2022-02-15T04:55:32.480Z"
   },
   {
    "duration": 228,
    "start_time": "2022-02-15T04:56:14.267Z"
   },
   {
    "duration": 7,
    "start_time": "2022-02-15T04:56:25.008Z"
   },
   {
    "duration": 81,
    "start_time": "2022-02-15T04:57:10.189Z"
   },
   {
    "duration": 10,
    "start_time": "2022-02-15T04:57:32.972Z"
   },
   {
    "duration": 167,
    "start_time": "2022-02-15T04:58:06.427Z"
   },
   {
    "duration": 367,
    "start_time": "2022-02-15T04:58:27.788Z"
   },
   {
    "duration": 201,
    "start_time": "2022-02-15T04:58:41.948Z"
   },
   {
    "duration": 6,
    "start_time": "2022-02-15T04:58:55.168Z"
   },
   {
    "duration": 13,
    "start_time": "2022-02-15T04:59:35.777Z"
   },
   {
    "duration": 149,
    "start_time": "2022-02-15T04:59:50.777Z"
   },
   {
    "duration": 6,
    "start_time": "2022-02-15T05:00:57.707Z"
   },
   {
    "duration": 554,
    "start_time": "2022-02-15T05:01:05.907Z"
   },
   {
    "duration": 5,
    "start_time": "2022-02-15T05:02:07.749Z"
   },
   {
    "duration": 566,
    "start_time": "2022-02-15T05:02:08.407Z"
   },
   {
    "duration": 88,
    "start_time": "2022-02-15T05:02:41.288Z"
   },
   {
    "duration": 6,
    "start_time": "2022-02-15T05:03:10.208Z"
   },
   {
    "duration": 536,
    "start_time": "2022-02-15T05:03:10.608Z"
   },
   {
    "duration": 8,
    "start_time": "2022-02-15T05:03:54.548Z"
   },
   {
    "duration": 80,
    "start_time": "2022-02-15T05:03:56.087Z"
   },
   {
    "duration": 104,
    "start_time": "2022-02-15T05:05:13.102Z"
   },
   {
    "duration": 7,
    "start_time": "2022-02-15T05:05:18.349Z"
   },
   {
    "duration": 87,
    "start_time": "2022-02-15T05:06:05.968Z"
   },
   {
    "duration": 11,
    "start_time": "2022-02-15T05:06:11.767Z"
   },
   {
    "duration": 686,
    "start_time": "2022-02-15T05:08:45.816Z"
   },
   {
    "duration": 25,
    "start_time": "2022-02-15T05:13:42.088Z"
   },
   {
    "duration": 8,
    "start_time": "2022-02-15T05:13:58.677Z"
   },
   {
    "duration": 8,
    "start_time": "2022-02-15T05:14:07.056Z"
   },
   {
    "duration": 14,
    "start_time": "2022-02-15T05:14:46.236Z"
   },
   {
    "duration": 309,
    "start_time": "2022-02-15T05:15:07.577Z"
   },
   {
    "duration": 7,
    "start_time": "2022-02-15T05:16:46.988Z"
   },
   {
    "duration": 681,
    "start_time": "2022-02-15T05:17:13.648Z"
   },
   {
    "duration": 6,
    "start_time": "2022-02-15T05:19:08.688Z"
   },
   {
    "duration": 200,
    "start_time": "2022-02-15T05:19:24.188Z"
   },
   {
    "duration": 223,
    "start_time": "2022-02-15T05:19:52.389Z"
   },
   {
    "duration": 381,
    "start_time": "2022-02-15T05:20:08.548Z"
   },
   {
    "duration": 221,
    "start_time": "2022-02-15T05:20:20.065Z"
   },
   {
    "duration": 7,
    "start_time": "2022-02-15T05:25:39.869Z"
   },
   {
    "duration": 9,
    "start_time": "2022-02-15T05:26:04.928Z"
   },
   {
    "duration": 9,
    "start_time": "2022-02-15T05:30:58.588Z"
   },
   {
    "duration": 7,
    "start_time": "2022-02-15T05:31:34.256Z"
   },
   {
    "duration": 7,
    "start_time": "2022-02-15T05:32:02.383Z"
   },
   {
    "duration": 7,
    "start_time": "2022-02-15T05:32:23.588Z"
   },
   {
    "duration": 8,
    "start_time": "2022-02-15T05:32:38.924Z"
   },
   {
    "duration": 9,
    "start_time": "2022-02-15T05:35:24.828Z"
   },
   {
    "duration": 6,
    "start_time": "2022-02-15T05:35:27.569Z"
   },
   {
    "duration": 84,
    "start_time": "2022-02-15T05:35:57.428Z"
   },
   {
    "duration": 8,
    "start_time": "2022-02-15T05:36:23.384Z"
   },
   {
    "duration": 6,
    "start_time": "2022-02-15T05:36:27.668Z"
   },
   {
    "duration": 93,
    "start_time": "2022-02-15T05:38:16.308Z"
   },
   {
    "duration": 229,
    "start_time": "2022-02-15T05:38:34.576Z"
   },
   {
    "duration": 6,
    "start_time": "2022-02-15T05:38:44.588Z"
   },
   {
    "duration": 205,
    "start_time": "2022-02-15T05:39:00.870Z"
   },
   {
    "duration": 6,
    "start_time": "2022-02-15T05:39:03.569Z"
   },
   {
    "duration": 2056,
    "start_time": "2022-02-22T11:23:43.394Z"
   },
   {
    "duration": 174,
    "start_time": "2022-02-22T11:23:45.452Z"
   },
   {
    "duration": 80,
    "start_time": "2022-02-22T11:23:45.629Z"
   },
   {
    "duration": 13,
    "start_time": "2022-02-22T11:23:45.712Z"
   },
   {
    "duration": 6,
    "start_time": "2022-02-22T11:23:45.727Z"
   },
   {
    "duration": 73,
    "start_time": "2022-02-22T11:23:45.735Z"
   },
   {
    "duration": 99,
    "start_time": "2022-02-22T11:23:45.810Z"
   },
   {
    "duration": 15,
    "start_time": "2022-02-22T11:23:45.913Z"
   },
   {
    "duration": 79,
    "start_time": "2022-02-22T11:23:45.931Z"
   },
   {
    "duration": 11,
    "start_time": "2022-02-22T11:23:46.013Z"
   },
   {
    "duration": 100,
    "start_time": "2022-02-22T11:23:46.027Z"
   },
   {
    "duration": 6,
    "start_time": "2022-02-22T11:23:46.129Z"
   },
   {
    "duration": 84,
    "start_time": "2022-02-22T11:23:46.137Z"
   },
   {
    "duration": 6,
    "start_time": "2022-02-22T11:23:46.223Z"
   },
   {
    "duration": 15,
    "start_time": "2022-02-22T11:23:46.231Z"
   },
   {
    "duration": 20,
    "start_time": "2022-02-22T11:23:46.308Z"
   },
   {
    "duration": 78,
    "start_time": "2022-02-22T11:23:46.331Z"
   },
   {
    "duration": 13,
    "start_time": "2022-02-22T11:23:46.411Z"
   },
   {
    "duration": 87,
    "start_time": "2022-02-22T11:23:46.426Z"
   },
   {
    "duration": 10,
    "start_time": "2022-02-22T11:23:46.515Z"
   },
   {
    "duration": 16,
    "start_time": "2022-02-22T11:23:46.528Z"
   },
   {
    "duration": 72,
    "start_time": "2022-02-22T11:23:46.546Z"
   },
   {
    "duration": 9,
    "start_time": "2022-02-22T11:23:46.623Z"
   },
   {
    "duration": 11,
    "start_time": "2022-02-22T11:23:46.635Z"
   },
   {
    "duration": 67,
    "start_time": "2022-02-22T11:23:46.649Z"
   },
   {
    "duration": 18,
    "start_time": "2022-02-22T11:23:46.719Z"
   },
   {
    "duration": 92,
    "start_time": "2022-02-22T11:23:46.740Z"
   },
   {
    "duration": 13,
    "start_time": "2022-02-22T11:23:46.834Z"
   },
   {
    "duration": 64,
    "start_time": "2022-02-22T11:23:46.848Z"
   },
   {
    "duration": 100,
    "start_time": "2022-02-22T11:23:46.914Z"
   },
   {
    "duration": 18,
    "start_time": "2022-02-22T11:23:47.016Z"
   },
   {
    "duration": 5,
    "start_time": "2022-02-22T11:23:47.037Z"
   },
   {
    "duration": 8,
    "start_time": "2022-02-22T11:23:47.108Z"
   },
   {
    "duration": 18,
    "start_time": "2022-02-22T11:23:47.118Z"
   },
   {
    "duration": 112,
    "start_time": "2022-02-22T11:23:47.138Z"
   },
   {
    "duration": 6,
    "start_time": "2022-02-22T11:23:47.307Z"
   },
   {
    "duration": 15,
    "start_time": "2022-02-22T11:23:47.316Z"
   },
   {
    "duration": 14,
    "start_time": "2022-02-22T11:23:47.333Z"
   },
   {
    "duration": 10,
    "start_time": "2022-02-22T11:23:47.409Z"
   },
   {
    "duration": 14,
    "start_time": "2022-02-22T11:23:47.421Z"
   },
   {
    "duration": 73,
    "start_time": "2022-02-22T11:23:47.438Z"
   },
   {
    "duration": 8,
    "start_time": "2022-02-22T11:23:47.513Z"
   },
   {
    "duration": 19,
    "start_time": "2022-02-22T11:23:47.524Z"
   },
   {
    "duration": 634,
    "start_time": "2022-02-22T11:23:47.545Z"
   },
   {
    "duration": 7,
    "start_time": "2022-02-22T11:23:48.181Z"
   },
   {
    "duration": 26,
    "start_time": "2022-02-22T11:23:48.191Z"
   },
   {
    "duration": 369,
    "start_time": "2022-02-22T11:23:48.219Z"
   },
   {
    "duration": 20,
    "start_time": "2022-02-22T11:23:48.590Z"
   },
   {
    "duration": 9,
    "start_time": "2022-02-22T11:23:48.612Z"
   },
   {
    "duration": 187,
    "start_time": "2022-02-22T11:23:48.623Z"
   },
   {
    "duration": 272,
    "start_time": "2022-02-22T11:23:48.812Z"
   },
   {
    "duration": 6,
    "start_time": "2022-02-22T11:23:49.087Z"
   },
   {
    "duration": 20,
    "start_time": "2022-02-22T11:23:49.096Z"
   },
   {
    "duration": 193,
    "start_time": "2022-02-22T11:23:49.118Z"
   },
   {
    "duration": 237,
    "start_time": "2022-02-22T11:23:49.314Z"
   },
   {
    "duration": 6,
    "start_time": "2022-02-22T11:23:49.553Z"
   },
   {
    "duration": 246,
    "start_time": "2022-02-22T11:23:49.561Z"
   },
   {
    "duration": 6,
    "start_time": "2022-02-22T11:23:49.810Z"
   },
   {
    "duration": 9,
    "start_time": "2022-02-22T11:23:49.818Z"
   },
   {
    "duration": 196,
    "start_time": "2022-02-22T11:23:49.829Z"
   },
   {
    "duration": 209,
    "start_time": "2022-02-22T11:23:50.027Z"
   },
   {
    "duration": 92,
    "start_time": "2022-02-22T11:23:50.238Z"
   },
   {
    "duration": -487,
    "start_time": "2022-02-22T11:23:50.820Z"
   },
   {
    "duration": -491,
    "start_time": "2022-02-22T11:23:50.825Z"
   },
   {
    "duration": -496,
    "start_time": "2022-02-22T11:23:50.831Z"
   },
   {
    "duration": -499,
    "start_time": "2022-02-22T11:23:50.835Z"
   },
   {
    "duration": -504,
    "start_time": "2022-02-22T11:23:50.841Z"
   },
   {
    "duration": -512,
    "start_time": "2022-02-22T11:23:50.850Z"
   },
   {
    "duration": -517,
    "start_time": "2022-02-22T11:23:50.855Z"
   },
   {
    "duration": -525,
    "start_time": "2022-02-22T11:23:50.864Z"
   },
   {
    "duration": -528,
    "start_time": "2022-02-22T11:23:50.868Z"
   },
   {
    "duration": -532,
    "start_time": "2022-02-22T11:23:50.872Z"
   },
   {
    "duration": -540,
    "start_time": "2022-02-22T11:23:50.881Z"
   },
   {
    "duration": -544,
    "start_time": "2022-02-22T11:23:50.886Z"
   },
   {
    "duration": -550,
    "start_time": "2022-02-22T11:23:50.892Z"
   },
   {
    "duration": -554,
    "start_time": "2022-02-22T11:23:50.897Z"
   },
   {
    "duration": -557,
    "start_time": "2022-02-22T11:23:50.901Z"
   },
   {
    "duration": -560,
    "start_time": "2022-02-22T11:23:50.904Z"
   },
   {
    "duration": -565,
    "start_time": "2022-02-22T11:23:50.910Z"
   },
   {
    "duration": -567,
    "start_time": "2022-02-22T11:23:50.913Z"
   },
   {
    "duration": -570,
    "start_time": "2022-02-22T11:23:50.916Z"
   },
   {
    "duration": -572,
    "start_time": "2022-02-22T11:23:50.919Z"
   },
   {
    "duration": -573,
    "start_time": "2022-02-22T11:23:50.921Z"
   },
   {
    "duration": -579,
    "start_time": "2022-02-22T11:23:50.927Z"
   },
   {
    "duration": -582,
    "start_time": "2022-02-22T11:23:50.931Z"
   },
   {
    "duration": -584,
    "start_time": "2022-02-22T11:23:50.934Z"
   },
   {
    "duration": -586,
    "start_time": "2022-02-22T11:23:50.937Z"
   },
   {
    "duration": -590,
    "start_time": "2022-02-22T11:23:50.943Z"
   },
   {
    "duration": -592,
    "start_time": "2022-02-22T11:23:50.946Z"
   },
   {
    "duration": -594,
    "start_time": "2022-02-22T11:23:50.949Z"
   },
   {
    "duration": -596,
    "start_time": "2022-02-22T11:23:50.952Z"
   },
   {
    "duration": 14,
    "start_time": "2022-02-22T12:09:04.513Z"
   },
   {
    "duration": 7,
    "start_time": "2022-02-22T12:09:06.347Z"
   },
   {
    "duration": 844,
    "start_time": "2022-02-22T12:09:06.648Z"
   },
   {
    "duration": 7,
    "start_time": "2022-02-22T12:09:08.752Z"
   },
   {
    "duration": 583,
    "start_time": "2022-02-22T12:09:09.056Z"
   },
   {
    "duration": 7,
    "start_time": "2022-02-22T12:09:11.736Z"
   },
   {
    "duration": 794,
    "start_time": "2022-02-22T12:09:12.088Z"
   },
   {
    "duration": 791,
    "start_time": "2022-02-22T12:09:13.305Z"
   },
   {
    "duration": 11,
    "start_time": "2022-02-22T12:09:15.413Z"
   },
   {
    "duration": 9,
    "start_time": "2022-02-22T12:09:16.937Z"
   },
   {
    "duration": 10,
    "start_time": "2022-02-22T12:09:18.500Z"
   },
   {
    "duration": 8,
    "start_time": "2022-02-22T12:09:20.198Z"
   },
   {
    "duration": 1011,
    "start_time": "2022-02-22T12:09:21.621Z"
   },
   {
    "duration": 233,
    "start_time": "2022-02-22T12:09:23.481Z"
   },
   {
    "duration": 29,
    "start_time": "2022-02-22T12:09:24.913Z"
   },
   {
    "duration": 8,
    "start_time": "2022-02-22T12:09:25.299Z"
   },
   {
    "duration": 12,
    "start_time": "2022-02-22T12:09:25.868Z"
   },
   {
    "duration": 8,
    "start_time": "2022-02-22T12:09:30.459Z"
   },
   {
    "duration": 213,
    "start_time": "2022-02-22T12:09:30.814Z"
   },
   {
    "duration": 10,
    "start_time": "2022-02-22T12:09:31.104Z"
   },
   {
    "duration": 76,
    "start_time": "2022-02-22T12:09:31.417Z"
   },
   {
    "duration": 214,
    "start_time": "2022-02-22T12:09:31.753Z"
   },
   {
    "duration": 10,
    "start_time": "2022-02-22T12:09:32.130Z"
   },
   {
    "duration": 9,
    "start_time": "2022-02-22T12:09:39.328Z"
   },
   {
    "duration": 7,
    "start_time": "2022-02-22T12:09:39.679Z"
   },
   {
    "duration": 195,
    "start_time": "2022-02-22T12:09:41.936Z"
   },
   {
    "duration": 8,
    "start_time": "2022-02-22T12:09:42.268Z"
   },
   {
    "duration": 87,
    "start_time": "2022-02-22T12:09:42.708Z"
   },
   {
    "duration": 674,
    "start_time": "2022-02-22T12:09:47.856Z"
   },
   {
    "duration": 98,
    "start_time": "2022-02-22T12:09:48.532Z"
   }
  ],
  "kernelspec": {
   "display_name": "Python 3",
   "language": "python",
   "name": "python3"
  },
  "language_info": {
   "codemirror_mode": {
    "name": "ipython",
    "version": 3
   },
   "file_extension": ".py",
   "mimetype": "text/x-python",
   "name": "python",
   "nbconvert_exporter": "python",
   "pygments_lexer": "ipython3",
   "version": "3.8.8"
  },
  "toc": {
   "base_numbering": 1,
   "nav_menu": {},
   "number_sections": true,
   "sideBar": true,
   "skip_h1_title": true,
   "title_cell": "Содержание",
   "title_sidebar": "Contents",
   "toc_cell": true,
   "toc_position": {},
   "toc_section_display": true,
   "toc_window_display": false
  }
 },
 "nbformat": 4,
 "nbformat_minor": 2
}
