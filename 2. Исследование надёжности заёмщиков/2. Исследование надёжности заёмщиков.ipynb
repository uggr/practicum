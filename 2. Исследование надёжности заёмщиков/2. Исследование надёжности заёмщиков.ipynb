{
 "cells": [
  {
   "cell_type": "markdown",
   "metadata": {},
   "source": [
    "# Исследование надёжности заёмщиков\n",
    "\n",
    "Заказчик — кредитный отдел банка. Нужно разобраться, влияет ли семейное положение и количество детей клиента на факт погашения кредита в срок. Входные данные от банка — статистика о платёжеспособности клиентов.\n",
    "\n",
    "Результаты исследования будут учтены при построении модели **кредитного скоринга** — специальной системы, которая оценивает способность потенциального заёмщика вернуть кредит банку.\n",
    "\n",
    "**Цель исследования** — проверка гипотезы:\n",
    "\n",
    "Семейное положение и количество детей клиента влияет на факт погашения кредита в срок.\n",
    "\n",
    "**Ход исследования**\n",
    "\n",
    "Статистика о платёжеспособности клиентов представлена банком в файле `data.csv`.\n",
    "О качестве данных ничего не известно. Поэтому перед проверкой гипотезs понадобится обзор данных.\n",
    "\n",
    "Проверим данные на ошибки и оценим их влияние на исследование. Затем, на этапе предобработки по возможности исправим самые критичные ошибки данных.\n",
    " \n",
    "Исследование пройдёт в три этапа:\n",
    " 1. Обзор данных.\n",
    " 2. Предобработка данных.\n",
    " 3. Проверка гипотезы."
   ]
  },
  {
   "cell_type": "markdown",
   "metadata": {},
   "source": [
    "## Шаг 1. Откройте файл с данными и изучите общую информацию"
   ]
  },
  {
   "cell_type": "code",
   "execution_count": 1,
   "metadata": {},
   "outputs": [],
   "source": [
    "# импорт библиотеки pandas\n",
    "import pandas as pd"
   ]
  },
  {
   "cell_type": "code",
   "execution_count": 2,
   "metadata": {},
   "outputs": [],
   "source": [
    "# чтение файла с данными и сохранение в df\n",
    "df = pd.read_csv('/datasets/data.csv')"
   ]
  },
  {
   "cell_type": "code",
   "execution_count": 3,
   "metadata": {},
   "outputs": [
    {
     "data": {
      "text/html": [
       "<div>\n",
       "<style scoped>\n",
       "    .dataframe tbody tr th:only-of-type {\n",
       "        vertical-align: middle;\n",
       "    }\n",
       "\n",
       "    .dataframe tbody tr th {\n",
       "        vertical-align: top;\n",
       "    }\n",
       "\n",
       "    .dataframe thead th {\n",
       "        text-align: right;\n",
       "    }\n",
       "</style>\n",
       "<table border=\"1\" class=\"dataframe\">\n",
       "  <thead>\n",
       "    <tr style=\"text-align: right;\">\n",
       "      <th></th>\n",
       "      <th>children</th>\n",
       "      <th>days_employed</th>\n",
       "      <th>dob_years</th>\n",
       "      <th>education</th>\n",
       "      <th>education_id</th>\n",
       "      <th>family_status</th>\n",
       "      <th>family_status_id</th>\n",
       "      <th>gender</th>\n",
       "      <th>income_type</th>\n",
       "      <th>debt</th>\n",
       "      <th>total_income</th>\n",
       "      <th>purpose</th>\n",
       "    </tr>\n",
       "  </thead>\n",
       "  <tbody>\n",
       "    <tr>\n",
       "      <td>0</td>\n",
       "      <td>1</td>\n",
       "      <td>-8437.673028</td>\n",
       "      <td>42</td>\n",
       "      <td>высшее</td>\n",
       "      <td>0</td>\n",
       "      <td>женат / замужем</td>\n",
       "      <td>0</td>\n",
       "      <td>F</td>\n",
       "      <td>сотрудник</td>\n",
       "      <td>0</td>\n",
       "      <td>253875.639453</td>\n",
       "      <td>покупка жилья</td>\n",
       "    </tr>\n",
       "    <tr>\n",
       "      <td>1</td>\n",
       "      <td>1</td>\n",
       "      <td>-4024.803754</td>\n",
       "      <td>36</td>\n",
       "      <td>среднее</td>\n",
       "      <td>1</td>\n",
       "      <td>женат / замужем</td>\n",
       "      <td>0</td>\n",
       "      <td>F</td>\n",
       "      <td>сотрудник</td>\n",
       "      <td>0</td>\n",
       "      <td>112080.014102</td>\n",
       "      <td>приобретение автомобиля</td>\n",
       "    </tr>\n",
       "    <tr>\n",
       "      <td>2</td>\n",
       "      <td>0</td>\n",
       "      <td>-5623.422610</td>\n",
       "      <td>33</td>\n",
       "      <td>Среднее</td>\n",
       "      <td>1</td>\n",
       "      <td>женат / замужем</td>\n",
       "      <td>0</td>\n",
       "      <td>M</td>\n",
       "      <td>сотрудник</td>\n",
       "      <td>0</td>\n",
       "      <td>145885.952297</td>\n",
       "      <td>покупка жилья</td>\n",
       "    </tr>\n",
       "    <tr>\n",
       "      <td>3</td>\n",
       "      <td>3</td>\n",
       "      <td>-4124.747207</td>\n",
       "      <td>32</td>\n",
       "      <td>среднее</td>\n",
       "      <td>1</td>\n",
       "      <td>женат / замужем</td>\n",
       "      <td>0</td>\n",
       "      <td>M</td>\n",
       "      <td>сотрудник</td>\n",
       "      <td>0</td>\n",
       "      <td>267628.550329</td>\n",
       "      <td>дополнительное образование</td>\n",
       "    </tr>\n",
       "    <tr>\n",
       "      <td>4</td>\n",
       "      <td>0</td>\n",
       "      <td>340266.072047</td>\n",
       "      <td>53</td>\n",
       "      <td>среднее</td>\n",
       "      <td>1</td>\n",
       "      <td>гражданский брак</td>\n",
       "      <td>1</td>\n",
       "      <td>F</td>\n",
       "      <td>пенсионер</td>\n",
       "      <td>0</td>\n",
       "      <td>158616.077870</td>\n",
       "      <td>сыграть свадьбу</td>\n",
       "    </tr>\n",
       "    <tr>\n",
       "      <td>5</td>\n",
       "      <td>0</td>\n",
       "      <td>-926.185831</td>\n",
       "      <td>27</td>\n",
       "      <td>высшее</td>\n",
       "      <td>0</td>\n",
       "      <td>гражданский брак</td>\n",
       "      <td>1</td>\n",
       "      <td>M</td>\n",
       "      <td>компаньон</td>\n",
       "      <td>0</td>\n",
       "      <td>255763.565419</td>\n",
       "      <td>покупка жилья</td>\n",
       "    </tr>\n",
       "    <tr>\n",
       "      <td>6</td>\n",
       "      <td>0</td>\n",
       "      <td>-2879.202052</td>\n",
       "      <td>43</td>\n",
       "      <td>высшее</td>\n",
       "      <td>0</td>\n",
       "      <td>женат / замужем</td>\n",
       "      <td>0</td>\n",
       "      <td>F</td>\n",
       "      <td>компаньон</td>\n",
       "      <td>0</td>\n",
       "      <td>240525.971920</td>\n",
       "      <td>операции с жильем</td>\n",
       "    </tr>\n",
       "    <tr>\n",
       "      <td>7</td>\n",
       "      <td>0</td>\n",
       "      <td>-152.779569</td>\n",
       "      <td>50</td>\n",
       "      <td>СРЕДНЕЕ</td>\n",
       "      <td>1</td>\n",
       "      <td>женат / замужем</td>\n",
       "      <td>0</td>\n",
       "      <td>M</td>\n",
       "      <td>сотрудник</td>\n",
       "      <td>0</td>\n",
       "      <td>135823.934197</td>\n",
       "      <td>образование</td>\n",
       "    </tr>\n",
       "    <tr>\n",
       "      <td>8</td>\n",
       "      <td>2</td>\n",
       "      <td>-6929.865299</td>\n",
       "      <td>35</td>\n",
       "      <td>ВЫСШЕЕ</td>\n",
       "      <td>0</td>\n",
       "      <td>гражданский брак</td>\n",
       "      <td>1</td>\n",
       "      <td>F</td>\n",
       "      <td>сотрудник</td>\n",
       "      <td>0</td>\n",
       "      <td>95856.832424</td>\n",
       "      <td>на проведение свадьбы</td>\n",
       "    </tr>\n",
       "    <tr>\n",
       "      <td>9</td>\n",
       "      <td>0</td>\n",
       "      <td>-2188.756445</td>\n",
       "      <td>41</td>\n",
       "      <td>среднее</td>\n",
       "      <td>1</td>\n",
       "      <td>женат / замужем</td>\n",
       "      <td>0</td>\n",
       "      <td>M</td>\n",
       "      <td>сотрудник</td>\n",
       "      <td>0</td>\n",
       "      <td>144425.938277</td>\n",
       "      <td>покупка жилья для семьи</td>\n",
       "    </tr>\n",
       "  </tbody>\n",
       "</table>\n",
       "</div>"
      ],
      "text/plain": [
       "   children  days_employed  dob_years education  education_id  \\\n",
       "0         1   -8437.673028         42    высшее             0   \n",
       "1         1   -4024.803754         36   среднее             1   \n",
       "2         0   -5623.422610         33   Среднее             1   \n",
       "3         3   -4124.747207         32   среднее             1   \n",
       "4         0  340266.072047         53   среднее             1   \n",
       "5         0    -926.185831         27    высшее             0   \n",
       "6         0   -2879.202052         43    высшее             0   \n",
       "7         0    -152.779569         50   СРЕДНЕЕ             1   \n",
       "8         2   -6929.865299         35    ВЫСШЕЕ             0   \n",
       "9         0   -2188.756445         41   среднее             1   \n",
       "\n",
       "      family_status  family_status_id gender income_type  debt   total_income  \\\n",
       "0   женат / замужем                 0      F   сотрудник     0  253875.639453   \n",
       "1   женат / замужем                 0      F   сотрудник     0  112080.014102   \n",
       "2   женат / замужем                 0      M   сотрудник     0  145885.952297   \n",
       "3   женат / замужем                 0      M   сотрудник     0  267628.550329   \n",
       "4  гражданский брак                 1      F   пенсионер     0  158616.077870   \n",
       "5  гражданский брак                 1      M   компаньон     0  255763.565419   \n",
       "6   женат / замужем                 0      F   компаньон     0  240525.971920   \n",
       "7   женат / замужем                 0      M   сотрудник     0  135823.934197   \n",
       "8  гражданский брак                 1      F   сотрудник     0   95856.832424   \n",
       "9   женат / замужем                 0      M   сотрудник     0  144425.938277   \n",
       "\n",
       "                      purpose  \n",
       "0               покупка жилья  \n",
       "1     приобретение автомобиля  \n",
       "2               покупка жилья  \n",
       "3  дополнительное образование  \n",
       "4             сыграть свадьбу  \n",
       "5               покупка жилья  \n",
       "6           операции с жильем  \n",
       "7                 образование  \n",
       "8       на проведение свадьбы  \n",
       "9     покупка жилья для семьи  "
      ]
     },
     "execution_count": 3,
     "metadata": {},
     "output_type": "execute_result"
    }
   ],
   "source": [
    "# получение первых 10 строк таблицы df\n",
    "df.head(10)"
   ]
  },
  {
   "cell_type": "code",
   "execution_count": 4,
   "metadata": {
    "scrolled": true
   },
   "outputs": [
    {
     "data": {
      "text/plain": [
       "(21525, 12)"
      ]
     },
     "metadata": {},
     "output_type": "display_data"
    },
    {
     "name": "stdout",
     "output_type": "stream",
     "text": [
      "<class 'pandas.core.frame.DataFrame'>\n",
      "RangeIndex: 21525 entries, 0 to 21524\n",
      "Data columns (total 12 columns):\n",
      "children            21525 non-null int64\n",
      "days_employed       19351 non-null float64\n",
      "dob_years           21525 non-null int64\n",
      "education           21525 non-null object\n",
      "education_id        21525 non-null int64\n",
      "family_status       21525 non-null object\n",
      "family_status_id    21525 non-null int64\n",
      "gender              21525 non-null object\n",
      "income_type         21525 non-null object\n",
      "debt                21525 non-null int64\n",
      "total_income        19351 non-null float64\n",
      "purpose             21525 non-null object\n",
      "dtypes: float64(2), int64(5), object(5)\n",
      "memory usage: 2.0+ MB\n"
     ]
    }
   ],
   "source": [
    "# получение общей информации о данных в таблице df\n",
    "display(df.shape)\n",
    "df.info()"
   ]
  },
  {
   "cell_type": "code",
   "execution_count": 5,
   "metadata": {},
   "outputs": [
    {
     "data": {
      "text/html": [
       "<div>\n",
       "<style scoped>\n",
       "    .dataframe tbody tr th:only-of-type {\n",
       "        vertical-align: middle;\n",
       "    }\n",
       "\n",
       "    .dataframe tbody tr th {\n",
       "        vertical-align: top;\n",
       "    }\n",
       "\n",
       "    .dataframe thead th {\n",
       "        text-align: right;\n",
       "    }\n",
       "</style>\n",
       "<table border=\"1\" class=\"dataframe\">\n",
       "  <thead>\n",
       "    <tr style=\"text-align: right;\">\n",
       "      <th></th>\n",
       "      <th>children</th>\n",
       "      <th>days_employed</th>\n",
       "      <th>dob_years</th>\n",
       "      <th>education_id</th>\n",
       "      <th>family_status_id</th>\n",
       "      <th>debt</th>\n",
       "      <th>total_income</th>\n",
       "    </tr>\n",
       "  </thead>\n",
       "  <tbody>\n",
       "    <tr>\n",
       "      <td>count</td>\n",
       "      <td>21525.000000</td>\n",
       "      <td>19351.000000</td>\n",
       "      <td>21525.000000</td>\n",
       "      <td>21525.000000</td>\n",
       "      <td>21525.000000</td>\n",
       "      <td>21525.000000</td>\n",
       "      <td>1.935100e+04</td>\n",
       "    </tr>\n",
       "    <tr>\n",
       "      <td>mean</td>\n",
       "      <td>0.538908</td>\n",
       "      <td>63046.497661</td>\n",
       "      <td>43.293380</td>\n",
       "      <td>0.817236</td>\n",
       "      <td>0.972544</td>\n",
       "      <td>0.080883</td>\n",
       "      <td>1.674223e+05</td>\n",
       "    </tr>\n",
       "    <tr>\n",
       "      <td>std</td>\n",
       "      <td>1.381587</td>\n",
       "      <td>140827.311974</td>\n",
       "      <td>12.574584</td>\n",
       "      <td>0.548138</td>\n",
       "      <td>1.420324</td>\n",
       "      <td>0.272661</td>\n",
       "      <td>1.029716e+05</td>\n",
       "    </tr>\n",
       "    <tr>\n",
       "      <td>min</td>\n",
       "      <td>-1.000000</td>\n",
       "      <td>-18388.949901</td>\n",
       "      <td>0.000000</td>\n",
       "      <td>0.000000</td>\n",
       "      <td>0.000000</td>\n",
       "      <td>0.000000</td>\n",
       "      <td>2.066726e+04</td>\n",
       "    </tr>\n",
       "    <tr>\n",
       "      <td>25%</td>\n",
       "      <td>0.000000</td>\n",
       "      <td>-2747.423625</td>\n",
       "      <td>33.000000</td>\n",
       "      <td>1.000000</td>\n",
       "      <td>0.000000</td>\n",
       "      <td>0.000000</td>\n",
       "      <td>1.030532e+05</td>\n",
       "    </tr>\n",
       "    <tr>\n",
       "      <td>50%</td>\n",
       "      <td>0.000000</td>\n",
       "      <td>-1203.369529</td>\n",
       "      <td>42.000000</td>\n",
       "      <td>1.000000</td>\n",
       "      <td>0.000000</td>\n",
       "      <td>0.000000</td>\n",
       "      <td>1.450179e+05</td>\n",
       "    </tr>\n",
       "    <tr>\n",
       "      <td>75%</td>\n",
       "      <td>1.000000</td>\n",
       "      <td>-291.095954</td>\n",
       "      <td>53.000000</td>\n",
       "      <td>1.000000</td>\n",
       "      <td>1.000000</td>\n",
       "      <td>0.000000</td>\n",
       "      <td>2.034351e+05</td>\n",
       "    </tr>\n",
       "    <tr>\n",
       "      <td>max</td>\n",
       "      <td>20.000000</td>\n",
       "      <td>401755.400475</td>\n",
       "      <td>75.000000</td>\n",
       "      <td>4.000000</td>\n",
       "      <td>4.000000</td>\n",
       "      <td>1.000000</td>\n",
       "      <td>2.265604e+06</td>\n",
       "    </tr>\n",
       "  </tbody>\n",
       "</table>\n",
       "</div>"
      ],
      "text/plain": [
       "           children  days_employed     dob_years  education_id  \\\n",
       "count  21525.000000   19351.000000  21525.000000  21525.000000   \n",
       "mean       0.538908   63046.497661     43.293380      0.817236   \n",
       "std        1.381587  140827.311974     12.574584      0.548138   \n",
       "min       -1.000000  -18388.949901      0.000000      0.000000   \n",
       "25%        0.000000   -2747.423625     33.000000      1.000000   \n",
       "50%        0.000000   -1203.369529     42.000000      1.000000   \n",
       "75%        1.000000    -291.095954     53.000000      1.000000   \n",
       "max       20.000000  401755.400475     75.000000      4.000000   \n",
       "\n",
       "       family_status_id          debt  total_income  \n",
       "count      21525.000000  21525.000000  1.935100e+04  \n",
       "mean           0.972544      0.080883  1.674223e+05  \n",
       "std            1.420324      0.272661  1.029716e+05  \n",
       "min            0.000000      0.000000  2.066726e+04  \n",
       "25%            0.000000      0.000000  1.030532e+05  \n",
       "50%            0.000000      0.000000  1.450179e+05  \n",
       "75%            1.000000      0.000000  2.034351e+05  \n",
       "max            4.000000      1.000000  2.265604e+06  "
      ]
     },
     "execution_count": 5,
     "metadata": {},
     "output_type": "execute_result"
    }
   ],
   "source": [
    "# Описательная статистика по числовым данным\n",
    "df.describe()"
   ]
  },
  {
   "cell_type": "markdown",
   "metadata": {},
   "source": [
    "**Вывод**"
   ]
  },
  {
   "cell_type": "markdown",
   "metadata": {},
   "source": [
    "В таблице 12 колонок и 21525 строк.\n",
    "\n",
    "Тип данных: 7 колонок - `int64`, `float64`;  5 колонок - `object`.\n",
    "\n",
    "Согласно документации к данным:\n",
    "* `children` — количество детей в семье\n",
    "* `days_employed` — общий трудовой стаж в днях;\n",
    "* `dob_years` — возраст клиента в годах;\n",
    "* `education` — уровень образования клиента;\n",
    "* `education_id` — идентификатор уровня образования;\n",
    "* `family_status` — семейное положение;\n",
    "* `family_status_id` — идентификатор семейного положения;\n",
    "* `gender` — пол клиента;\n",
    "* `income_type` — тип занятости;\n",
    "* `debt` — имел ли задолженность по возврату кредитов;\n",
    "* `total_income` — ежемесячный доход;\n",
    "* `purpose` — цель получения кредита.\n",
    "\n",
    "Количество значений в колонках различается, значит, в данных есть пропущенные значения.\n",
    "\n",
    "**В колоноках выявлены следующие нарушения:**\n",
    "\n",
    "1. Отрицательные значения в количество детей в семье.\n",
    "2. Минимальное значение возраста = 0.\n",
    "3. Минимальное(отрицательное) и максимальное(более 1000 лет) значение трудового стажа в днях.\n",
    "4. Строчные буквы сочетаются с прописными в значениях уровня образования.\n",
    "5. Цели кредита не приведены к однородным значениям.\n",
    "\n",
    "В каждой строке таблицы представлены данные о заемщиках. Одна часть колонок описывает семейное положение, наличие детей, другая часть колонок - образование, стаж, тип занятости и третья - кредитную историю в банке.\n",
    "\n",
    "Предварительно можно утверждать, что данных достаточно для проверки гипотезы. Но встречаются некорректные значения и пропуски в данных.\n",
    "\n",
    "Требуется, по необходимости, устранить проблемы в данных."
   ]
  },
  {
   "cell_type": "markdown",
   "metadata": {},
   "source": [
    "## Шаг 2. Предобработка данных"
   ]
  },
  {
   "cell_type": "markdown",
   "metadata": {},
   "source": [
    "### Обработка пропусков"
   ]
  },
  {
   "cell_type": "code",
   "execution_count": 6,
   "metadata": {},
   "outputs": [
    {
     "data": {
      "text/plain": [
       "children               0\n",
       "days_employed       2174\n",
       "dob_years              0\n",
       "education              0\n",
       "education_id           0\n",
       "family_status          0\n",
       "family_status_id       0\n",
       "gender                 0\n",
       "income_type            0\n",
       "debt                   0\n",
       "total_income        2174\n",
       "purpose                0\n",
       "dtype: int64"
      ]
     },
     "execution_count": 6,
     "metadata": {},
     "output_type": "execute_result"
    }
   ],
   "source": [
    "# подсчёт пропусков\n",
    "df.isna().sum()"
   ]
  },
  {
   "cell_type": "markdown",
   "metadata": {},
   "source": [
    "Количество пропусков `days_employed` равно количеству пропусков `total_income`. Есть предположение, что это одни и теже строки. Проверим совпадение значений между собой по строкам."
   ]
  },
  {
   "cell_type": "code",
   "execution_count": 7,
   "metadata": {},
   "outputs": [
    {
     "data": {
      "text/plain": [
       "array([nan])"
      ]
     },
     "execution_count": 7,
     "metadata": {},
     "output_type": "execute_result"
    }
   ],
   "source": [
    "# Какие будут уникальные значения в колонке total_income если выбрать пропуски в days_employed\n",
    "df.query('days_employed != days_employed').total_income.unique()"
   ]
  },
  {
   "cell_type": "markdown",
   "metadata": {},
   "source": [
    "**Вывод**\n",
    "\n",
    "Пропуски совпадают полностью. Поскольку обе колонки это расчетные показатели, значит нужно делать запрос разработчикам.\n",
    "\n",
    "Пропуски `total_income` заменим средним значением, в зависимости от типа занятости."
   ]
  },
  {
   "cell_type": "code",
   "execution_count": 8,
   "metadata": {},
   "outputs": [
    {
     "data": {
      "text/html": [
       "<div>\n",
       "<style scoped>\n",
       "    .dataframe tbody tr th:only-of-type {\n",
       "        vertical-align: middle;\n",
       "    }\n",
       "\n",
       "    .dataframe tbody tr th {\n",
       "        vertical-align: top;\n",
       "    }\n",
       "\n",
       "    .dataframe thead th {\n",
       "        text-align: right;\n",
       "    }\n",
       "</style>\n",
       "<table border=\"1\" class=\"dataframe\">\n",
       "  <thead>\n",
       "    <tr style=\"text-align: right;\">\n",
       "      <th></th>\n",
       "      <th>income_type</th>\n",
       "      <th>median</th>\n",
       "    </tr>\n",
       "  </thead>\n",
       "  <tbody>\n",
       "    <tr>\n",
       "      <td>0</td>\n",
       "      <td>безработный</td>\n",
       "      <td>131339.751676</td>\n",
       "    </tr>\n",
       "    <tr>\n",
       "      <td>1</td>\n",
       "      <td>в декрете</td>\n",
       "      <td>53829.130729</td>\n",
       "    </tr>\n",
       "    <tr>\n",
       "      <td>2</td>\n",
       "      <td>госслужащий</td>\n",
       "      <td>150447.935283</td>\n",
       "    </tr>\n",
       "    <tr>\n",
       "      <td>3</td>\n",
       "      <td>компаньон</td>\n",
       "      <td>172357.950966</td>\n",
       "    </tr>\n",
       "    <tr>\n",
       "      <td>4</td>\n",
       "      <td>пенсионер</td>\n",
       "      <td>118514.486412</td>\n",
       "    </tr>\n",
       "    <tr>\n",
       "      <td>5</td>\n",
       "      <td>предприниматель</td>\n",
       "      <td>499163.144947</td>\n",
       "    </tr>\n",
       "    <tr>\n",
       "      <td>6</td>\n",
       "      <td>сотрудник</td>\n",
       "      <td>142594.396847</td>\n",
       "    </tr>\n",
       "    <tr>\n",
       "      <td>7</td>\n",
       "      <td>студент</td>\n",
       "      <td>98201.625314</td>\n",
       "    </tr>\n",
       "  </tbody>\n",
       "</table>\n",
       "</div>"
      ],
      "text/plain": [
       "       income_type         median\n",
       "0      безработный  131339.751676\n",
       "1        в декрете   53829.130729\n",
       "2      госслужащий  150447.935283\n",
       "3        компаньон  172357.950966\n",
       "4        пенсионер  118514.486412\n",
       "5  предприниматель  499163.144947\n",
       "6        сотрудник  142594.396847\n",
       "7          студент   98201.625314"
      ]
     },
     "execution_count": 8,
     "metadata": {},
     "output_type": "execute_result"
    }
   ],
   "source": [
    "# Получим медиану среднего дохода(total_income) в зависимости от типа занятости(income_type)\n",
    "total_income_median = df.groupby('income_type', as_index=False)\\\n",
    "                        .agg({'total_income':'median', })\\\n",
    "                        .rename(columns={'total_income':'median'})\n",
    "total_income_median"
   ]
  },
  {
   "cell_type": "code",
   "execution_count": 9,
   "metadata": {},
   "outputs": [
    {
     "data": {
      "text/html": [
       "<div>\n",
       "<style scoped>\n",
       "    .dataframe tbody tr th:only-of-type {\n",
       "        vertical-align: middle;\n",
       "    }\n",
       "\n",
       "    .dataframe tbody tr th {\n",
       "        vertical-align: top;\n",
       "    }\n",
       "\n",
       "    .dataframe thead th {\n",
       "        text-align: right;\n",
       "    }\n",
       "</style>\n",
       "<table border=\"1\" class=\"dataframe\">\n",
       "  <thead>\n",
       "    <tr style=\"text-align: right;\">\n",
       "      <th></th>\n",
       "      <th>children</th>\n",
       "      <th>days_employed</th>\n",
       "      <th>dob_years</th>\n",
       "      <th>education</th>\n",
       "      <th>education_id</th>\n",
       "      <th>family_status</th>\n",
       "      <th>family_status_id</th>\n",
       "      <th>gender</th>\n",
       "      <th>income_type</th>\n",
       "      <th>debt</th>\n",
       "      <th>total_income</th>\n",
       "      <th>purpose</th>\n",
       "      <th>median</th>\n",
       "    </tr>\n",
       "  </thead>\n",
       "  <tbody>\n",
       "    <tr>\n",
       "      <td>0</td>\n",
       "      <td>1</td>\n",
       "      <td>-8437.673028</td>\n",
       "      <td>42</td>\n",
       "      <td>высшее</td>\n",
       "      <td>0</td>\n",
       "      <td>женат / замужем</td>\n",
       "      <td>0</td>\n",
       "      <td>F</td>\n",
       "      <td>сотрудник</td>\n",
       "      <td>0</td>\n",
       "      <td>253875.639453</td>\n",
       "      <td>покупка жилья</td>\n",
       "      <td>142594.396847</td>\n",
       "    </tr>\n",
       "    <tr>\n",
       "      <td>1</td>\n",
       "      <td>1</td>\n",
       "      <td>-4024.803754</td>\n",
       "      <td>36</td>\n",
       "      <td>среднее</td>\n",
       "      <td>1</td>\n",
       "      <td>женат / замужем</td>\n",
       "      <td>0</td>\n",
       "      <td>F</td>\n",
       "      <td>сотрудник</td>\n",
       "      <td>0</td>\n",
       "      <td>112080.014102</td>\n",
       "      <td>приобретение автомобиля</td>\n",
       "      <td>142594.396847</td>\n",
       "    </tr>\n",
       "    <tr>\n",
       "      <td>2</td>\n",
       "      <td>0</td>\n",
       "      <td>-5623.422610</td>\n",
       "      <td>33</td>\n",
       "      <td>Среднее</td>\n",
       "      <td>1</td>\n",
       "      <td>женат / замужем</td>\n",
       "      <td>0</td>\n",
       "      <td>M</td>\n",
       "      <td>сотрудник</td>\n",
       "      <td>0</td>\n",
       "      <td>145885.952297</td>\n",
       "      <td>покупка жилья</td>\n",
       "      <td>142594.396847</td>\n",
       "    </tr>\n",
       "    <tr>\n",
       "      <td>3</td>\n",
       "      <td>3</td>\n",
       "      <td>-4124.747207</td>\n",
       "      <td>32</td>\n",
       "      <td>среднее</td>\n",
       "      <td>1</td>\n",
       "      <td>женат / замужем</td>\n",
       "      <td>0</td>\n",
       "      <td>M</td>\n",
       "      <td>сотрудник</td>\n",
       "      <td>0</td>\n",
       "      <td>267628.550329</td>\n",
       "      <td>дополнительное образование</td>\n",
       "      <td>142594.396847</td>\n",
       "    </tr>\n",
       "    <tr>\n",
       "      <td>4</td>\n",
       "      <td>0</td>\n",
       "      <td>-152.779569</td>\n",
       "      <td>50</td>\n",
       "      <td>СРЕДНЕЕ</td>\n",
       "      <td>1</td>\n",
       "      <td>женат / замужем</td>\n",
       "      <td>0</td>\n",
       "      <td>M</td>\n",
       "      <td>сотрудник</td>\n",
       "      <td>0</td>\n",
       "      <td>135823.934197</td>\n",
       "      <td>образование</td>\n",
       "      <td>142594.396847</td>\n",
       "    </tr>\n",
       "  </tbody>\n",
       "</table>\n",
       "</div>"
      ],
      "text/plain": [
       "   children  days_employed  dob_years education  education_id  \\\n",
       "0         1   -8437.673028         42    высшее             0   \n",
       "1         1   -4024.803754         36   среднее             1   \n",
       "2         0   -5623.422610         33   Среднее             1   \n",
       "3         3   -4124.747207         32   среднее             1   \n",
       "4         0    -152.779569         50   СРЕДНЕЕ             1   \n",
       "\n",
       "     family_status  family_status_id gender income_type  debt   total_income  \\\n",
       "0  женат / замужем                 0      F   сотрудник     0  253875.639453   \n",
       "1  женат / замужем                 0      F   сотрудник     0  112080.014102   \n",
       "2  женат / замужем                 0      M   сотрудник     0  145885.952297   \n",
       "3  женат / замужем                 0      M   сотрудник     0  267628.550329   \n",
       "4  женат / замужем                 0      M   сотрудник     0  135823.934197   \n",
       "\n",
       "                      purpose         median  \n",
       "0               покупка жилья  142594.396847  \n",
       "1     приобретение автомобиля  142594.396847  \n",
       "2               покупка жилья  142594.396847  \n",
       "3  дополнительное образование  142594.396847  \n",
       "4                 образование  142594.396847  "
      ]
     },
     "execution_count": 9,
     "metadata": {},
     "output_type": "execute_result"
    }
   ],
   "source": [
    "# объединим основную таблицу df с медианными значениями total_income_median\n",
    "df = df.merge(total_income_median, on='income_type')\n",
    "df.head()"
   ]
  },
  {
   "cell_type": "code",
   "execution_count": 10,
   "metadata": {},
   "outputs": [],
   "source": [
    "# заполним пропуски из новой колонки с медианными значениями\n",
    "df['total_income'] = df['total_income'].fillna(df['median'])"
   ]
  },
  {
   "cell_type": "code",
   "execution_count": 11,
   "metadata": {},
   "outputs": [
    {
     "data": {
      "text/html": [
       "<div>\n",
       "<style scoped>\n",
       "    .dataframe tbody tr th:only-of-type {\n",
       "        vertical-align: middle;\n",
       "    }\n",
       "\n",
       "    .dataframe tbody tr th {\n",
       "        vertical-align: top;\n",
       "    }\n",
       "\n",
       "    .dataframe thead th {\n",
       "        text-align: right;\n",
       "    }\n",
       "</style>\n",
       "<table border=\"1\" class=\"dataframe\">\n",
       "  <thead>\n",
       "    <tr style=\"text-align: right;\">\n",
       "      <th></th>\n",
       "      <th>children</th>\n",
       "      <th>days_employed</th>\n",
       "      <th>dob_years</th>\n",
       "      <th>education</th>\n",
       "      <th>education_id</th>\n",
       "      <th>family_status</th>\n",
       "      <th>family_status_id</th>\n",
       "      <th>gender</th>\n",
       "      <th>income_type</th>\n",
       "      <th>debt</th>\n",
       "      <th>total_income</th>\n",
       "      <th>purpose</th>\n",
       "    </tr>\n",
       "  </thead>\n",
       "  <tbody>\n",
       "    <tr>\n",
       "      <td>0</td>\n",
       "      <td>1</td>\n",
       "      <td>-8437.673028</td>\n",
       "      <td>42</td>\n",
       "      <td>высшее</td>\n",
       "      <td>0</td>\n",
       "      <td>женат / замужем</td>\n",
       "      <td>0</td>\n",
       "      <td>F</td>\n",
       "      <td>сотрудник</td>\n",
       "      <td>0</td>\n",
       "      <td>253875.639453</td>\n",
       "      <td>покупка жилья</td>\n",
       "    </tr>\n",
       "    <tr>\n",
       "      <td>1</td>\n",
       "      <td>1</td>\n",
       "      <td>-4024.803754</td>\n",
       "      <td>36</td>\n",
       "      <td>среднее</td>\n",
       "      <td>1</td>\n",
       "      <td>женат / замужем</td>\n",
       "      <td>0</td>\n",
       "      <td>F</td>\n",
       "      <td>сотрудник</td>\n",
       "      <td>0</td>\n",
       "      <td>112080.014102</td>\n",
       "      <td>приобретение автомобиля</td>\n",
       "    </tr>\n",
       "    <tr>\n",
       "      <td>2</td>\n",
       "      <td>0</td>\n",
       "      <td>-5623.422610</td>\n",
       "      <td>33</td>\n",
       "      <td>Среднее</td>\n",
       "      <td>1</td>\n",
       "      <td>женат / замужем</td>\n",
       "      <td>0</td>\n",
       "      <td>M</td>\n",
       "      <td>сотрудник</td>\n",
       "      <td>0</td>\n",
       "      <td>145885.952297</td>\n",
       "      <td>покупка жилья</td>\n",
       "    </tr>\n",
       "    <tr>\n",
       "      <td>3</td>\n",
       "      <td>3</td>\n",
       "      <td>-4124.747207</td>\n",
       "      <td>32</td>\n",
       "      <td>среднее</td>\n",
       "      <td>1</td>\n",
       "      <td>женат / замужем</td>\n",
       "      <td>0</td>\n",
       "      <td>M</td>\n",
       "      <td>сотрудник</td>\n",
       "      <td>0</td>\n",
       "      <td>267628.550329</td>\n",
       "      <td>дополнительное образование</td>\n",
       "    </tr>\n",
       "    <tr>\n",
       "      <td>4</td>\n",
       "      <td>0</td>\n",
       "      <td>-152.779569</td>\n",
       "      <td>50</td>\n",
       "      <td>СРЕДНЕЕ</td>\n",
       "      <td>1</td>\n",
       "      <td>женат / замужем</td>\n",
       "      <td>0</td>\n",
       "      <td>M</td>\n",
       "      <td>сотрудник</td>\n",
       "      <td>0</td>\n",
       "      <td>135823.934197</td>\n",
       "      <td>образование</td>\n",
       "    </tr>\n",
       "  </tbody>\n",
       "</table>\n",
       "</div>"
      ],
      "text/plain": [
       "   children  days_employed  dob_years education  education_id  \\\n",
       "0         1   -8437.673028         42    высшее             0   \n",
       "1         1   -4024.803754         36   среднее             1   \n",
       "2         0   -5623.422610         33   Среднее             1   \n",
       "3         3   -4124.747207         32   среднее             1   \n",
       "4         0    -152.779569         50   СРЕДНЕЕ             1   \n",
       "\n",
       "     family_status  family_status_id gender income_type  debt   total_income  \\\n",
       "0  женат / замужем                 0      F   сотрудник     0  253875.639453   \n",
       "1  женат / замужем                 0      F   сотрудник     0  112080.014102   \n",
       "2  женат / замужем                 0      M   сотрудник     0  145885.952297   \n",
       "3  женат / замужем                 0      M   сотрудник     0  267628.550329   \n",
       "4  женат / замужем                 0      M   сотрудник     0  135823.934197   \n",
       "\n",
       "                      purpose  \n",
       "0               покупка жилья  \n",
       "1     приобретение автомобиля  \n",
       "2               покупка жилья  \n",
       "3  дополнительное образование  \n",
       "4                 образование  "
      ]
     },
     "execution_count": 11,
     "metadata": {},
     "output_type": "execute_result"
    }
   ],
   "source": [
    "# удалим колонку с медианными значениями \n",
    "df = df.drop(columns = ['median'],axis = 1)\n",
    "df.head()"
   ]
  },
  {
   "cell_type": "code",
   "execution_count": 12,
   "metadata": {},
   "outputs": [
    {
     "data": {
      "text/plain": [
       "0"
      ]
     },
     "execution_count": 12,
     "metadata": {},
     "output_type": "execute_result"
    }
   ],
   "source": [
    "# поверим пропуски в total_income\n",
    "df['total_income'].isna().sum()"
   ]
  },
  {
   "cell_type": "markdown",
   "metadata": {},
   "source": [
    "**Разберемся с колонкой `days_employed`**"
   ]
  },
  {
   "cell_type": "code",
   "execution_count": 14,
   "metadata": {},
   "outputs": [
    {
     "data": {
      "text/plain": [
       "сотрудник          10014\n",
       "компаньон           4577\n",
       "госслужащий         1312\n",
       "студент                1\n",
       "в декрете              1\n",
       "предприниматель        1\n",
       "Name: income_type, dtype: int64"
      ]
     },
     "execution_count": 14,
     "metadata": {},
     "output_type": "execute_result"
    }
   ],
   "source": [
    "# сгруппирум данные по отрицательным значениям стажа\n",
    "df.query('days_employed < 0')['income_type'].value_counts()"
   ]
  },
  {
   "cell_type": "code",
   "execution_count": 15,
   "metadata": {},
   "outputs": [
    {
     "data": {
      "text/plain": [
       "пенсионер      3443\n",
       "безработный       2\n",
       "Name: income_type, dtype: int64"
      ]
     },
     "execution_count": 15,
     "metadata": {},
     "output_type": "execute_result"
    }
   ],
   "source": [
    "# сгруппирум данные по положительным значениям стажа\n",
    "df.query('days_employed >= 0')['income_type'].value_counts()"
   ]
  },
  {
   "cell_type": "markdown",
   "metadata": {},
   "source": [
    "Вывод: положительный стаж указан у групп `пенсионер` и `безработный`, где стаж не меняется. И отрицательный у остальных групп где клиенты работают и стаж увеличивается."
   ]
  },
  {
   "cell_type": "code",
   "execution_count": 16,
   "metadata": {},
   "outputs": [
    {
     "data": {
      "text/plain": [
       "income_type\n",
       "безработный    1003.873021\n",
       "пенсионер      1000.009565\n",
       "Name: days_employed, dtype: float64"
      ]
     },
     "execution_count": 16,
     "metadata": {},
     "output_type": "execute_result"
    }
   ],
   "source": [
    "# сгруппирум данные по стажу > 0 и переведем в годовой стаж\n",
    "df.query('days_employed > 0').groupby('income_type')['days_employed'].mean()/365"
   ]
  },
  {
   "cell_type": "markdown",
   "metadata": {},
   "source": [
    "Возможно размерность стажа для пенсионеров и безработных указана не в днях а в часах, проверим."
   ]
  },
  {
   "cell_type": "code",
   "execution_count": 17,
   "metadata": {},
   "outputs": [
    {
     "data": {
      "text/plain": [
       "income_type\n",
       "безработный    41.828043\n",
       "пенсионер      41.667065\n",
       "Name: days_employed, dtype: float64"
      ]
     },
     "execution_count": 17,
     "metadata": {},
     "output_type": "execute_result"
    }
   ],
   "source": [
    "# сгруппирум данные по стажу > 0 и переведем в годовой стаж\n",
    "df.query('days_employed > 0').groupby('income_type')['days_employed'].mean()/365/24"
   ]
  },
  {
   "cell_type": "markdown",
   "metadata": {},
   "source": [
    "Стаж 41 год для пенсионера выглядит более реально.\n",
    "Заменим в таблице эти значения на дни."
   ]
  },
  {
   "cell_type": "code",
   "execution_count": 18,
   "metadata": {},
   "outputs": [],
   "source": [
    "# разделим значения с аномальным стажем на 24\n",
    "def hours_to_days(row):\n",
    "    if row > 0:\n",
    "        return row/24\n",
    "    else:\n",
    "        return row"
   ]
  },
  {
   "cell_type": "code",
   "execution_count": 19,
   "metadata": {},
   "outputs": [],
   "source": [
    "# Применим функцию к колонке days_employed\n",
    "df['days_employed'] = df['days_employed'].apply(hours_to_days)"
   ]
  },
  {
   "cell_type": "markdown",
   "metadata": {},
   "source": [
    "Поскольку далее в исследовании данные по стажу не понадобятся, заменим минус на плюс и заполним пропуски медианным значением"
   ]
  },
  {
   "cell_type": "code",
   "execution_count": 20,
   "metadata": {},
   "outputs": [],
   "source": [
    "# данные с отрицательным стажем переведем в положительный и заменим пропуски на медиану\n",
    "df['days_employed'] = df['days_employed'].abs()\n",
    "df['days_employed'] = df['days_employed'].fillna(df['days_employed'].median())"
   ]
  },
  {
   "cell_type": "code",
   "execution_count": 21,
   "metadata": {},
   "outputs": [
    {
     "data": {
      "text/plain": [
       "children            0\n",
       "days_employed       0\n",
       "dob_years           0\n",
       "education           0\n",
       "education_id        0\n",
       "family_status       0\n",
       "family_status_id    0\n",
       "gender              0\n",
       "income_type         0\n",
       "debt                0\n",
       "total_income        0\n",
       "purpose             0\n",
       "dtype: int64"
      ]
     },
     "execution_count": 21,
     "metadata": {},
     "output_type": "execute_result"
    }
   ],
   "source": [
    "# Проверим пропуски\n",
    "df.isna().sum()"
   ]
  },
  {
   "cell_type": "markdown",
   "metadata": {},
   "source": [
    "**Вывод**"
   ]
  },
  {
   "cell_type": "markdown",
   "metadata": {},
   "source": [
    "Пропуски значений обнаружены в числовых колонках `days_employed` и `total_income` и совпадают полностью. Поскольку обе колонки это расчетные показатели, значит нужно делать запрос разработчикам.\n",
    "\n",
    "Пропуски `total_income` заменили медианным значением, в зависимости от типа занятости.\n",
    "Из значений `days_employed` убрали экстремально большие показатели трудового стажа, поменяли знак - на + и запонили пропуски медианным значением."
   ]
  },
  {
   "cell_type": "markdown",
   "metadata": {},
   "source": [
    "### Замена типа данных"
   ]
  },
  {
   "cell_type": "code",
   "execution_count": 22,
   "metadata": {},
   "outputs": [
    {
     "data": {
      "text/html": [
       "<div>\n",
       "<style scoped>\n",
       "    .dataframe tbody tr th:only-of-type {\n",
       "        vertical-align: middle;\n",
       "    }\n",
       "\n",
       "    .dataframe tbody tr th {\n",
       "        vertical-align: top;\n",
       "    }\n",
       "\n",
       "    .dataframe thead th {\n",
       "        text-align: right;\n",
       "    }\n",
       "</style>\n",
       "<table border=\"1\" class=\"dataframe\">\n",
       "  <thead>\n",
       "    <tr style=\"text-align: right;\">\n",
       "      <th></th>\n",
       "      <th>children</th>\n",
       "      <th>days_employed</th>\n",
       "      <th>dob_years</th>\n",
       "      <th>education</th>\n",
       "      <th>education_id</th>\n",
       "      <th>family_status</th>\n",
       "      <th>family_status_id</th>\n",
       "      <th>gender</th>\n",
       "      <th>income_type</th>\n",
       "      <th>debt</th>\n",
       "      <th>total_income</th>\n",
       "      <th>purpose</th>\n",
       "    </tr>\n",
       "  </thead>\n",
       "  <tbody>\n",
       "    <tr>\n",
       "      <td>0</td>\n",
       "      <td>1</td>\n",
       "      <td>8437</td>\n",
       "      <td>42</td>\n",
       "      <td>высшее</td>\n",
       "      <td>0</td>\n",
       "      <td>женат / замужем</td>\n",
       "      <td>0</td>\n",
       "      <td>F</td>\n",
       "      <td>сотрудник</td>\n",
       "      <td>0</td>\n",
       "      <td>253875</td>\n",
       "      <td>покупка жилья</td>\n",
       "    </tr>\n",
       "    <tr>\n",
       "      <td>1</td>\n",
       "      <td>1</td>\n",
       "      <td>4024</td>\n",
       "      <td>36</td>\n",
       "      <td>среднее</td>\n",
       "      <td>1</td>\n",
       "      <td>женат / замужем</td>\n",
       "      <td>0</td>\n",
       "      <td>F</td>\n",
       "      <td>сотрудник</td>\n",
       "      <td>0</td>\n",
       "      <td>112080</td>\n",
       "      <td>приобретение автомобиля</td>\n",
       "    </tr>\n",
       "    <tr>\n",
       "      <td>2</td>\n",
       "      <td>0</td>\n",
       "      <td>5623</td>\n",
       "      <td>33</td>\n",
       "      <td>Среднее</td>\n",
       "      <td>1</td>\n",
       "      <td>женат / замужем</td>\n",
       "      <td>0</td>\n",
       "      <td>M</td>\n",
       "      <td>сотрудник</td>\n",
       "      <td>0</td>\n",
       "      <td>145885</td>\n",
       "      <td>покупка жилья</td>\n",
       "    </tr>\n",
       "    <tr>\n",
       "      <td>3</td>\n",
       "      <td>3</td>\n",
       "      <td>4124</td>\n",
       "      <td>32</td>\n",
       "      <td>среднее</td>\n",
       "      <td>1</td>\n",
       "      <td>женат / замужем</td>\n",
       "      <td>0</td>\n",
       "      <td>M</td>\n",
       "      <td>сотрудник</td>\n",
       "      <td>0</td>\n",
       "      <td>267628</td>\n",
       "      <td>дополнительное образование</td>\n",
       "    </tr>\n",
       "    <tr>\n",
       "      <td>4</td>\n",
       "      <td>0</td>\n",
       "      <td>152</td>\n",
       "      <td>50</td>\n",
       "      <td>СРЕДНЕЕ</td>\n",
       "      <td>1</td>\n",
       "      <td>женат / замужем</td>\n",
       "      <td>0</td>\n",
       "      <td>M</td>\n",
       "      <td>сотрудник</td>\n",
       "      <td>0</td>\n",
       "      <td>135823</td>\n",
       "      <td>образование</td>\n",
       "    </tr>\n",
       "  </tbody>\n",
       "</table>\n",
       "</div>"
      ],
      "text/plain": [
       "   children  days_employed  dob_years education  education_id  \\\n",
       "0         1           8437         42    высшее             0   \n",
       "1         1           4024         36   среднее             1   \n",
       "2         0           5623         33   Среднее             1   \n",
       "3         3           4124         32   среднее             1   \n",
       "4         0            152         50   СРЕДНЕЕ             1   \n",
       "\n",
       "     family_status  family_status_id gender income_type  debt  total_income  \\\n",
       "0  женат / замужем                 0      F   сотрудник     0        253875   \n",
       "1  женат / замужем                 0      F   сотрудник     0        112080   \n",
       "2  женат / замужем                 0      M   сотрудник     0        145885   \n",
       "3  женат / замужем                 0      M   сотрудник     0        267628   \n",
       "4  женат / замужем                 0      M   сотрудник     0        135823   \n",
       "\n",
       "                      purpose  \n",
       "0               покупка жилья  \n",
       "1     приобретение автомобиля  \n",
       "2               покупка жилья  \n",
       "3  дополнительное образование  \n",
       "4                 образование  "
      ]
     },
     "execution_count": 22,
     "metadata": {},
     "output_type": "execute_result"
    }
   ],
   "source": [
    "# Замена типа float на int в колонке `total_income`\n",
    "df['total_income'] = df['total_income'].astype('int')\n",
    "df['days_employed'] = df['days_employed'].astype('int')\n",
    "df.head()"
   ]
  },
  {
   "cell_type": "markdown",
   "metadata": {},
   "source": [
    "**Вывод**"
   ]
  },
  {
   "cell_type": "markdown",
   "metadata": {},
   "source": [
    "В df представлены 2 колонки `days_employed` и `total_income` в которых можно заменить тип `float` на `int`.\n",
    "\n",
    "Замена тип `float` на `int` сделает значения более читаемыми и сэкономит ресурсы."
   ]
  },
  {
   "cell_type": "markdown",
   "metadata": {},
   "source": [
    "### Обработка дубликатов"
   ]
  },
  {
   "cell_type": "code",
   "execution_count": 23,
   "metadata": {},
   "outputs": [
    {
     "data": {
      "text/plain": [
       "54"
      ]
     },
     "execution_count": 23,
     "metadata": {},
     "output_type": "execute_result"
    }
   ],
   "source": [
    "# подсчёт явных дубликатов\n",
    "df.duplicated().sum()"
   ]
  },
  {
   "cell_type": "code",
   "execution_count": 24,
   "metadata": {},
   "outputs": [],
   "source": [
    "# удаление явных дубликатов (с удалением старых индексов и формированием новых)\n",
    "df = df.drop_duplicates().reset_index(drop=True)"
   ]
  },
  {
   "cell_type": "code",
   "execution_count": 25,
   "metadata": {},
   "outputs": [
    {
     "data": {
      "text/plain": [
       "0"
      ]
     },
     "execution_count": 25,
     "metadata": {},
     "output_type": "execute_result"
    }
   ],
   "source": [
    "# проверка явных дубликатов\n",
    "df.duplicated().sum()"
   ]
  },
  {
   "cell_type": "code",
   "execution_count": 26,
   "metadata": {},
   "outputs": [
    {
     "data": {
      "text/plain": [
       "array(['высшее', 'среднее', 'Среднее', 'СРЕДНЕЕ', 'ВЫСШЕЕ',\n",
       "       'неоконченное высшее', 'начальное', 'НЕОКОНЧЕННОЕ ВЫСШЕЕ',\n",
       "       'Неоконченное высшее', 'Высшее', 'Начальное', 'УЧЕНАЯ СТЕПЕНЬ',\n",
       "       'НАЧАЛЬНОЕ', 'ученая степень', 'Ученая степень'], dtype=object)"
      ]
     },
     "execution_count": 26,
     "metadata": {},
     "output_type": "execute_result"
    }
   ],
   "source": [
    "# Поиск неявных дубликатов в колонке 'education'\n",
    "df['education'].unique()"
   ]
  },
  {
   "cell_type": "code",
   "execution_count": 27,
   "metadata": {},
   "outputs": [],
   "source": [
    "# приведем значения 'education' к нижнему регистру\n",
    "df['education'] = df['education'].str.lower()"
   ]
  },
  {
   "cell_type": "code",
   "execution_count": 28,
   "metadata": {},
   "outputs": [
    {
     "data": {
      "text/plain": [
       "array(['высшее', 'среднее', 'неоконченное высшее', 'начальное',\n",
       "       'ученая степень'], dtype=object)"
      ]
     },
     "execution_count": 28,
     "metadata": {},
     "output_type": "execute_result"
    }
   ],
   "source": [
    "# Проверка неявных дубликатов 'education'\n",
    "df['education'].unique()"
   ]
  },
  {
   "cell_type": "markdown",
   "metadata": {},
   "source": [
    "**Вывод**"
   ]
  },
  {
   "cell_type": "markdown",
   "metadata": {},
   "source": [
    "В таблице было найдено 54 явных дубликата, строк полностью повторяющих друг друга. Дубликаты были удалены из таблицы и обновлены индексы. Возникновение их нужно адресовать разработчикам.\n",
    "\n",
    "Так же было выявлено написание одних и тех же значений в разном регистре в колонке `education`. Все значения были приведены к однообразию - строковым буквам. "
   ]
  },
  {
   "cell_type": "markdown",
   "metadata": {},
   "source": [
    "**Проверим остальные колонки на соответствие данным**"
   ]
  },
  {
   "cell_type": "code",
   "execution_count": 29,
   "metadata": {
    "scrolled": true
   },
   "outputs": [
    {
     "data": {
      "text/html": [
       "<div>\n",
       "<style scoped>\n",
       "    .dataframe tbody tr th:only-of-type {\n",
       "        vertical-align: middle;\n",
       "    }\n",
       "\n",
       "    .dataframe tbody tr th {\n",
       "        vertical-align: top;\n",
       "    }\n",
       "\n",
       "    .dataframe thead th {\n",
       "        text-align: right;\n",
       "    }\n",
       "</style>\n",
       "<table border=\"1\" class=\"dataframe\">\n",
       "  <thead>\n",
       "    <tr style=\"text-align: right;\">\n",
       "      <th></th>\n",
       "      <th>children</th>\n",
       "    </tr>\n",
       "    <tr>\n",
       "      <th>children</th>\n",
       "      <th></th>\n",
       "    </tr>\n",
       "  </thead>\n",
       "  <tbody>\n",
       "    <tr>\n",
       "      <td>-1</td>\n",
       "      <td>47</td>\n",
       "    </tr>\n",
       "    <tr>\n",
       "      <td>0</td>\n",
       "      <td>14107</td>\n",
       "    </tr>\n",
       "    <tr>\n",
       "      <td>1</td>\n",
       "      <td>4809</td>\n",
       "    </tr>\n",
       "    <tr>\n",
       "      <td>2</td>\n",
       "      <td>2052</td>\n",
       "    </tr>\n",
       "    <tr>\n",
       "      <td>3</td>\n",
       "      <td>330</td>\n",
       "    </tr>\n",
       "    <tr>\n",
       "      <td>4</td>\n",
       "      <td>41</td>\n",
       "    </tr>\n",
       "    <tr>\n",
       "      <td>5</td>\n",
       "      <td>9</td>\n",
       "    </tr>\n",
       "    <tr>\n",
       "      <td>20</td>\n",
       "      <td>76</td>\n",
       "    </tr>\n",
       "  </tbody>\n",
       "</table>\n",
       "</div>"
      ],
      "text/plain": [
       "          children\n",
       "children          \n",
       "-1              47\n",
       " 0           14107\n",
       " 1            4809\n",
       " 2            2052\n",
       " 3             330\n",
       " 4              41\n",
       " 5               9\n",
       " 20             76"
      ]
     },
     "execution_count": 29,
     "metadata": {},
     "output_type": "execute_result"
    }
   ],
   "source": [
    "# значения колонки children\n",
    "df.groupby('children').agg({'children':'count'})"
   ]
  },
  {
   "cell_type": "code",
   "execution_count": 30,
   "metadata": {},
   "outputs": [
    {
     "data": {
      "text/html": [
       "<div>\n",
       "<style scoped>\n",
       "    .dataframe tbody tr th:only-of-type {\n",
       "        vertical-align: middle;\n",
       "    }\n",
       "\n",
       "    .dataframe tbody tr th {\n",
       "        vertical-align: top;\n",
       "    }\n",
       "\n",
       "    .dataframe thead th {\n",
       "        text-align: right;\n",
       "    }\n",
       "</style>\n",
       "<table border=\"1\" class=\"dataframe\">\n",
       "  <thead>\n",
       "    <tr style=\"text-align: right;\">\n",
       "      <th></th>\n",
       "      <th>children</th>\n",
       "    </tr>\n",
       "    <tr>\n",
       "      <th>children</th>\n",
       "      <th></th>\n",
       "    </tr>\n",
       "  </thead>\n",
       "  <tbody>\n",
       "    <tr>\n",
       "      <td>0</td>\n",
       "      <td>14107</td>\n",
       "    </tr>\n",
       "    <tr>\n",
       "      <td>1</td>\n",
       "      <td>4856</td>\n",
       "    </tr>\n",
       "    <tr>\n",
       "      <td>2</td>\n",
       "      <td>2128</td>\n",
       "    </tr>\n",
       "    <tr>\n",
       "      <td>3</td>\n",
       "      <td>330</td>\n",
       "    </tr>\n",
       "    <tr>\n",
       "      <td>4</td>\n",
       "      <td>41</td>\n",
       "    </tr>\n",
       "    <tr>\n",
       "      <td>5</td>\n",
       "      <td>9</td>\n",
       "    </tr>\n",
       "  </tbody>\n",
       "</table>\n",
       "</div>"
      ],
      "text/plain": [
       "          children\n",
       "children          \n",
       "0            14107\n",
       "1             4856\n",
       "2             2128\n",
       "3              330\n",
       "4               41\n",
       "5                9"
      ]
     },
     "execution_count": 30,
     "metadata": {},
     "output_type": "execute_result"
    }
   ],
   "source": [
    "# значения -1 и 20 выбиваются из общего набора данных, в целом их количество не превышает 1%\n",
    "# заменим -1 на 1, 20 на 2\n",
    "# проверим результат\n",
    "df.loc[df['children']==-1, 'children'] = 1\n",
    "df.loc[df['children']==20, 'children'] = 2\n",
    "df.groupby('children').agg({'children':'count'})"
   ]
  },
  {
   "cell_type": "code",
   "execution_count": 31,
   "metadata": {
    "scrolled": true
   },
   "outputs": [
    {
     "data": {
      "text/html": [
       "<div>\n",
       "<style scoped>\n",
       "    .dataframe tbody tr th:only-of-type {\n",
       "        vertical-align: middle;\n",
       "    }\n",
       "\n",
       "    .dataframe tbody tr th {\n",
       "        vertical-align: top;\n",
       "    }\n",
       "\n",
       "    .dataframe thead th {\n",
       "        text-align: right;\n",
       "    }\n",
       "</style>\n",
       "<table border=\"1\" class=\"dataframe\">\n",
       "  <thead>\n",
       "    <tr style=\"text-align: right;\">\n",
       "      <th></th>\n",
       "      <th>gender</th>\n",
       "    </tr>\n",
       "    <tr>\n",
       "      <th>gender</th>\n",
       "      <th></th>\n",
       "    </tr>\n",
       "  </thead>\n",
       "  <tbody>\n",
       "    <tr>\n",
       "      <td>F</td>\n",
       "      <td>14189</td>\n",
       "    </tr>\n",
       "    <tr>\n",
       "      <td>M</td>\n",
       "      <td>7281</td>\n",
       "    </tr>\n",
       "    <tr>\n",
       "      <td>XNA</td>\n",
       "      <td>1</td>\n",
       "    </tr>\n",
       "  </tbody>\n",
       "</table>\n",
       "</div>"
      ],
      "text/plain": [
       "        gender\n",
       "gender        \n",
       "F        14189\n",
       "M         7281\n",
       "XNA          1"
      ]
     },
     "execution_count": 31,
     "metadata": {},
     "output_type": "execute_result"
    }
   ],
   "source": [
    "# значения колонки gender\n",
    "df.groupby('gender').agg({'gender':'count'})"
   ]
  },
  {
   "cell_type": "code",
   "execution_count": 32,
   "metadata": {},
   "outputs": [
    {
     "data": {
      "text/plain": [
       "array(['F', 'M'], dtype=object)"
      ]
     },
     "execution_count": 32,
     "metadata": {},
     "output_type": "execute_result"
    }
   ],
   "source": [
    "# непонятный пол XNA на одной строке, удалим ее с обновлением индексов и проверим результат\n",
    "df = df.loc[df['gender'] != 'XNA'].reset_index(drop=True)\n",
    "df['gender'].unique()"
   ]
  },
  {
   "cell_type": "code",
   "execution_count": 33,
   "metadata": {
    "scrolled": true
   },
   "outputs": [
    {
     "data": {
      "text/html": [
       "<div>\n",
       "<style scoped>\n",
       "    .dataframe tbody tr th:only-of-type {\n",
       "        vertical-align: middle;\n",
       "    }\n",
       "\n",
       "    .dataframe tbody tr th {\n",
       "        vertical-align: top;\n",
       "    }\n",
       "\n",
       "    .dataframe thead th {\n",
       "        text-align: right;\n",
       "    }\n",
       "</style>\n",
       "<table border=\"1\" class=\"dataframe\">\n",
       "  <thead>\n",
       "    <tr style=\"text-align: right;\">\n",
       "      <th></th>\n",
       "      <th>family_status</th>\n",
       "    </tr>\n",
       "    <tr>\n",
       "      <th>family_status</th>\n",
       "      <th></th>\n",
       "    </tr>\n",
       "  </thead>\n",
       "  <tbody>\n",
       "    <tr>\n",
       "      <td>Не женат / не замужем</td>\n",
       "      <td>2810</td>\n",
       "    </tr>\n",
       "    <tr>\n",
       "      <td>в разводе</td>\n",
       "      <td>1195</td>\n",
       "    </tr>\n",
       "    <tr>\n",
       "      <td>вдовец / вдова</td>\n",
       "      <td>959</td>\n",
       "    </tr>\n",
       "    <tr>\n",
       "      <td>гражданский брак</td>\n",
       "      <td>4162</td>\n",
       "    </tr>\n",
       "    <tr>\n",
       "      <td>женат / замужем</td>\n",
       "      <td>12344</td>\n",
       "    </tr>\n",
       "  </tbody>\n",
       "</table>\n",
       "</div>"
      ],
      "text/plain": [
       "                       family_status\n",
       "family_status                       \n",
       "Не женат / не замужем           2810\n",
       "в разводе                       1195\n",
       "вдовец / вдова                   959\n",
       "гражданский брак                4162\n",
       "женат / замужем                12344"
      ]
     },
     "execution_count": 33,
     "metadata": {},
     "output_type": "execute_result"
    }
   ],
   "source": [
    "# значения колонки family_status\n",
    "df.groupby('family_status').agg({'family_status':'count'})"
   ]
  },
  {
   "cell_type": "code",
   "execution_count": 34,
   "metadata": {},
   "outputs": [
    {
     "data": {
      "text/plain": [
       "array(['женат / замужем', 'гражданский брак', 'в разводе',\n",
       "       'не женат / не замужем', 'вдовец / вдова'], dtype=object)"
      ]
     },
     "execution_count": 34,
     "metadata": {},
     "output_type": "execute_result"
    }
   ],
   "source": [
    "# приведем к нижнему регистру\n",
    "df['family_status'] = df['family_status'].str.lower()\n",
    "df['family_status'].unique()"
   ]
  },
  {
   "cell_type": "code",
   "execution_count": 35,
   "metadata": {
    "scrolled": true
   },
   "outputs": [
    {
     "data": {
      "text/html": [
       "<div>\n",
       "<style scoped>\n",
       "    .dataframe tbody tr th:only-of-type {\n",
       "        vertical-align: middle;\n",
       "    }\n",
       "\n",
       "    .dataframe tbody tr th {\n",
       "        vertical-align: top;\n",
       "    }\n",
       "\n",
       "    .dataframe thead th {\n",
       "        text-align: right;\n",
       "    }\n",
       "</style>\n",
       "<table border=\"1\" class=\"dataframe\">\n",
       "  <thead>\n",
       "    <tr style=\"text-align: right;\">\n",
       "      <th></th>\n",
       "      <th>income_type</th>\n",
       "    </tr>\n",
       "    <tr>\n",
       "      <th>income_type</th>\n",
       "      <th></th>\n",
       "    </tr>\n",
       "  </thead>\n",
       "  <tbody>\n",
       "    <tr>\n",
       "      <td>безработный</td>\n",
       "      <td>2</td>\n",
       "    </tr>\n",
       "    <tr>\n",
       "      <td>в декрете</td>\n",
       "      <td>1</td>\n",
       "    </tr>\n",
       "    <tr>\n",
       "      <td>госслужащий</td>\n",
       "      <td>1457</td>\n",
       "    </tr>\n",
       "    <tr>\n",
       "      <td>компаньон</td>\n",
       "      <td>5079</td>\n",
       "    </tr>\n",
       "    <tr>\n",
       "      <td>пенсионер</td>\n",
       "      <td>3837</td>\n",
       "    </tr>\n",
       "    <tr>\n",
       "      <td>предприниматель</td>\n",
       "      <td>2</td>\n",
       "    </tr>\n",
       "    <tr>\n",
       "      <td>сотрудник</td>\n",
       "      <td>11091</td>\n",
       "    </tr>\n",
       "    <tr>\n",
       "      <td>студент</td>\n",
       "      <td>1</td>\n",
       "    </tr>\n",
       "  </tbody>\n",
       "</table>\n",
       "</div>"
      ],
      "text/plain": [
       "                 income_type\n",
       "income_type                 \n",
       "безработный                2\n",
       "в декрете                  1\n",
       "госслужащий             1457\n",
       "компаньон               5079\n",
       "пенсионер               3837\n",
       "предприниматель            2\n",
       "сотрудник              11091\n",
       "студент                    1"
      ]
     },
     "execution_count": 35,
     "metadata": {},
     "output_type": "execute_result"
    }
   ],
   "source": [
    "# значения колонки income_type\n",
    "df.groupby('income_type').agg({'income_type':'count'})"
   ]
  },
  {
   "cell_type": "markdown",
   "metadata": {},
   "source": [
    "Замечаний нет"
   ]
  },
  {
   "cell_type": "code",
   "execution_count": 36,
   "metadata": {},
   "outputs": [
    {
     "data": {
      "text/plain": [
       "dob_years    101\n",
       "dtype: int64"
      ]
     },
     "execution_count": 36,
     "metadata": {},
     "output_type": "execute_result"
    }
   ],
   "source": [
    "# проверим нулевое значение в колонке возраст dob_years\n",
    "df.query('dob_years == 0').agg({'dob_years':'count'})"
   ]
  },
  {
   "cell_type": "markdown",
   "metadata": {},
   "source": [
    "Возраст для проверки гипотезы не нужен, менять ничего не будем"
   ]
  },
  {
   "cell_type": "code",
   "execution_count": 37,
   "metadata": {},
   "outputs": [
    {
     "data": {
      "text/html": [
       "<div>\n",
       "<style scoped>\n",
       "    .dataframe tbody tr th:only-of-type {\n",
       "        vertical-align: middle;\n",
       "    }\n",
       "\n",
       "    .dataframe tbody tr th {\n",
       "        vertical-align: top;\n",
       "    }\n",
       "\n",
       "    .dataframe thead th {\n",
       "        text-align: right;\n",
       "    }\n",
       "</style>\n",
       "<table border=\"1\" class=\"dataframe\">\n",
       "  <thead>\n",
       "    <tr style=\"text-align: right;\">\n",
       "      <th></th>\n",
       "      <th>purpose</th>\n",
       "    </tr>\n",
       "    <tr>\n",
       "      <th>purpose</th>\n",
       "      <th></th>\n",
       "    </tr>\n",
       "  </thead>\n",
       "  <tbody>\n",
       "    <tr>\n",
       "      <td>автомобили</td>\n",
       "      <td>478</td>\n",
       "    </tr>\n",
       "    <tr>\n",
       "      <td>автомобиль</td>\n",
       "      <td>494</td>\n",
       "    </tr>\n",
       "    <tr>\n",
       "      <td>высшее образование</td>\n",
       "      <td>452</td>\n",
       "    </tr>\n",
       "    <tr>\n",
       "      <td>дополнительное образование</td>\n",
       "      <td>460</td>\n",
       "    </tr>\n",
       "    <tr>\n",
       "      <td>жилье</td>\n",
       "      <td>646</td>\n",
       "    </tr>\n",
       "    <tr>\n",
       "      <td>заняться высшим образованием</td>\n",
       "      <td>496</td>\n",
       "    </tr>\n",
       "    <tr>\n",
       "      <td>заняться образованием</td>\n",
       "      <td>408</td>\n",
       "    </tr>\n",
       "    <tr>\n",
       "      <td>на покупку автомобиля</td>\n",
       "      <td>472</td>\n",
       "    </tr>\n",
       "    <tr>\n",
       "      <td>на покупку подержанного автомобиля</td>\n",
       "      <td>478</td>\n",
       "    </tr>\n",
       "    <tr>\n",
       "      <td>на покупку своего автомобиля</td>\n",
       "      <td>505</td>\n",
       "    </tr>\n",
       "    <tr>\n",
       "      <td>на проведение свадьбы</td>\n",
       "      <td>773</td>\n",
       "    </tr>\n",
       "    <tr>\n",
       "      <td>недвижимость</td>\n",
       "      <td>633</td>\n",
       "    </tr>\n",
       "    <tr>\n",
       "      <td>образование</td>\n",
       "      <td>447</td>\n",
       "    </tr>\n",
       "    <tr>\n",
       "      <td>операции с жильем</td>\n",
       "      <td>652</td>\n",
       "    </tr>\n",
       "    <tr>\n",
       "      <td>операции с коммерческой недвижимостью</td>\n",
       "      <td>650</td>\n",
       "    </tr>\n",
       "    <tr>\n",
       "      <td>операции с недвижимостью</td>\n",
       "      <td>675</td>\n",
       "    </tr>\n",
       "    <tr>\n",
       "      <td>операции со своей недвижимостью</td>\n",
       "      <td>627</td>\n",
       "    </tr>\n",
       "    <tr>\n",
       "      <td>покупка жилой недвижимости</td>\n",
       "      <td>606</td>\n",
       "    </tr>\n",
       "    <tr>\n",
       "      <td>покупка жилья</td>\n",
       "      <td>646</td>\n",
       "    </tr>\n",
       "    <tr>\n",
       "      <td>покупка жилья для сдачи</td>\n",
       "      <td>652</td>\n",
       "    </tr>\n",
       "    <tr>\n",
       "      <td>покупка жилья для семьи</td>\n",
       "      <td>638</td>\n",
       "    </tr>\n",
       "    <tr>\n",
       "      <td>покупка коммерческой недвижимости</td>\n",
       "      <td>662</td>\n",
       "    </tr>\n",
       "    <tr>\n",
       "      <td>покупка недвижимости</td>\n",
       "      <td>620</td>\n",
       "    </tr>\n",
       "    <tr>\n",
       "      <td>покупка своего жилья</td>\n",
       "      <td>620</td>\n",
       "    </tr>\n",
       "    <tr>\n",
       "      <td>получение высшего образования</td>\n",
       "      <td>426</td>\n",
       "    </tr>\n",
       "    <tr>\n",
       "      <td>получение дополнительного образования</td>\n",
       "      <td>447</td>\n",
       "    </tr>\n",
       "    <tr>\n",
       "      <td>получение образования</td>\n",
       "      <td>442</td>\n",
       "    </tr>\n",
       "    <tr>\n",
       "      <td>приобретение автомобиля</td>\n",
       "      <td>461</td>\n",
       "    </tr>\n",
       "    <tr>\n",
       "      <td>профильное образование</td>\n",
       "      <td>436</td>\n",
       "    </tr>\n",
       "    <tr>\n",
       "      <td>ремонт жилью</td>\n",
       "      <td>607</td>\n",
       "    </tr>\n",
       "    <tr>\n",
       "      <td>свадьба</td>\n",
       "      <td>793</td>\n",
       "    </tr>\n",
       "    <tr>\n",
       "      <td>свой автомобиль</td>\n",
       "      <td>479</td>\n",
       "    </tr>\n",
       "    <tr>\n",
       "      <td>сделка с автомобилем</td>\n",
       "      <td>455</td>\n",
       "    </tr>\n",
       "    <tr>\n",
       "      <td>сделка с подержанным автомобилем</td>\n",
       "      <td>486</td>\n",
       "    </tr>\n",
       "    <tr>\n",
       "      <td>строительство жилой недвижимости</td>\n",
       "      <td>625</td>\n",
       "    </tr>\n",
       "    <tr>\n",
       "      <td>строительство недвижимости</td>\n",
       "      <td>619</td>\n",
       "    </tr>\n",
       "    <tr>\n",
       "      <td>строительство собственной недвижимости</td>\n",
       "      <td>635</td>\n",
       "    </tr>\n",
       "    <tr>\n",
       "      <td>сыграть свадьбу</td>\n",
       "      <td>769</td>\n",
       "    </tr>\n",
       "  </tbody>\n",
       "</table>\n",
       "</div>"
      ],
      "text/plain": [
       "                                        purpose\n",
       "purpose                                        \n",
       "автомобили                                  478\n",
       "автомобиль                                  494\n",
       "высшее образование                          452\n",
       "дополнительное образование                  460\n",
       "жилье                                       646\n",
       "заняться высшим образованием                496\n",
       "заняться образованием                       408\n",
       "на покупку автомобиля                       472\n",
       "на покупку подержанного автомобиля          478\n",
       "на покупку своего автомобиля                505\n",
       "на проведение свадьбы                       773\n",
       "недвижимость                                633\n",
       "образование                                 447\n",
       "операции с жильем                           652\n",
       "операции с коммерческой недвижимостью       650\n",
       "операции с недвижимостью                    675\n",
       "операции со своей недвижимостью             627\n",
       "покупка жилой недвижимости                  606\n",
       "покупка жилья                               646\n",
       "покупка жилья для сдачи                     652\n",
       "покупка жилья для семьи                     638\n",
       "покупка коммерческой недвижимости           662\n",
       "покупка недвижимости                        620\n",
       "покупка своего жилья                        620\n",
       "получение высшего образования               426\n",
       "получение дополнительного образования       447\n",
       "получение образования                       442\n",
       "приобретение автомобиля                     461\n",
       "профильное образование                      436\n",
       "ремонт жилью                                607\n",
       "свадьба                                     793\n",
       "свой автомобиль                             479\n",
       "сделка с автомобилем                        455\n",
       "сделка с подержанным автомобилем            486\n",
       "строительство жилой недвижимости            625\n",
       "строительство недвижимости                  619\n",
       "строительство собственной недвижимости      635\n",
       "сыграть свадьбу                             769"
      ]
     },
     "execution_count": 37,
     "metadata": {},
     "output_type": "execute_result"
    }
   ],
   "source": [
    "# значения колонки purpose\n",
    "df.groupby('purpose').agg({'purpose':'count'})"
   ]
  },
  {
   "cell_type": "markdown",
   "metadata": {},
   "source": [
    "В колонке `purpose` требуется переименовать цели кредита по похожим значениям, поможет лемматизация."
   ]
  },
  {
   "cell_type": "markdown",
   "metadata": {},
   "source": [
    "### Лемматизация"
   ]
  },
  {
   "cell_type": "code",
   "execution_count": 38,
   "metadata": {},
   "outputs": [],
   "source": [
    "# загрузка библиотеки pymystem3\n",
    "from pymystem3 import Mystem\n",
    "m = Mystem()"
   ]
  },
  {
   "cell_type": "code",
   "execution_count": 39,
   "metadata": {},
   "outputs": [
    {
     "data": {
      "text/plain": [
       "38"
      ]
     },
     "metadata": {},
     "output_type": "display_data"
    },
    {
     "data": {
      "text/plain": [
       "[['покупка', ' ', 'жилье', '\\n'],\n",
       " ['приобретение', ' ', 'автомобиль', '\\n'],\n",
       " ['дополнительный', ' ', 'образование', '\\n'],\n",
       " ['образование', '\\n'],\n",
       " ['на', ' ', 'проведение', ' ', 'свадьба', '\\n'],\n",
       " ['покупка', ' ', 'жилье', ' ', 'для', ' ', 'семья', '\\n'],\n",
       " ['покупка', ' ', 'коммерческий', ' ', 'недвижимость', '\\n'],\n",
       " ['строительство', ' ', 'собственный', ' ', 'недвижимость', '\\n'],\n",
       " ['недвижимость', '\\n'],\n",
       " ['строительство', ' ', 'недвижимость', '\\n'],\n",
       " ['на', ' ', 'покупка', ' ', 'свой', ' ', 'автомобиль', '\\n'],\n",
       " ['на', ' ', 'покупка', ' ', 'подержать', ' ', 'автомобиль', '\\n'],\n",
       " ['сыграть', ' ', 'свадьба', '\\n'],\n",
       " ['жилье', '\\n'],\n",
       " ['операция', ' ', 'со', ' ', 'свой', ' ', 'недвижимость', '\\n'],\n",
       " ['автомобиль', '\\n'],\n",
       " ['получение', ' ', 'образование', '\\n'],\n",
       " ['заниматься', ' ', 'образование', '\\n'],\n",
       " ['автомобиль', '\\n'],\n",
       " ['свадьба', '\\n'],\n",
       " ['получение', ' ', 'дополнительный', ' ', 'образование', '\\n'],\n",
       " ['покупка', ' ', 'недвижимость', '\\n'],\n",
       " ['операция', ' ', 'с', ' ', 'жилье', '\\n'],\n",
       " ['сделка', ' ', 'с', ' ', 'подержанный', ' ', 'автомобиль', '\\n'],\n",
       " ['покупка', ' ', 'свой', ' ', 'жилье', '\\n'],\n",
       " ['операция', ' ', 'с', ' ', 'недвижимость', '\\n'],\n",
       " ['свой', ' ', 'автомобиль', '\\n'],\n",
       " ['профильный', ' ', 'образование', '\\n'],\n",
       " ['высокий', ' ', 'образование', '\\n'],\n",
       " ['сделка', ' ', 'с', ' ', 'автомобиль', '\\n'],\n",
       " ['покупка', ' ', 'жилой', ' ', 'недвижимость', '\\n'],\n",
       " ['на', ' ', 'покупка', ' ', 'автомобиль', '\\n'],\n",
       " ['покупка', ' ', 'жилье', ' ', 'для', ' ', 'сдача', '\\n'],\n",
       " ['операция', ' ', 'с', ' ', 'коммерческий', ' ', 'недвижимость', '\\n'],\n",
       " ['строительство', ' ', 'жилой', ' ', 'недвижимость', '\\n'],\n",
       " ['ремонт', ' ', 'жилье', '\\n'],\n",
       " ['получение', ' ', 'высокий', ' ', 'образование', '\\n'],\n",
       " ['заниматься', ' ', 'высокий', ' ', 'образование', '\\n']]"
      ]
     },
     "execution_count": 39,
     "metadata": {},
     "output_type": "execute_result"
    }
   ],
   "source": [
    "# лемматизируем колонку 'purpose'\n",
    "purposes = df['purpose'].unique()\n",
    "display(len(purposes))\n",
    "[m.lemmatize(purpose) for purpose in purposes]"
   ]
  },
  {
   "cell_type": "markdown",
   "metadata": {},
   "source": [
    "**Вывод**"
   ]
  },
  {
   "cell_type": "markdown",
   "metadata": {},
   "source": [
    "В колонке `purpose` выявлено 38 различных целей кредита, смысл многих повторяется. Для дальнейшей работы сократим количество этих целей объеденив их в категории по смыслу."
   ]
  },
  {
   "cell_type": "markdown",
   "metadata": {},
   "source": [
    "### Категоризация данных"
   ]
  },
  {
   "cell_type": "code",
   "execution_count": 40,
   "metadata": {},
   "outputs": [],
   "source": [
    "# разбиваем на категории по леммам\n",
    "def purpose_rename(purpose):\n",
    "    lemmas = m.lemmatize(purpose)\n",
    "    for row in lemmas:\n",
    "        if 'ремонт' in row:\n",
    "            return 'ремонт жилья'\n",
    "        if 'жилье' in row or 'недвижимость' in row:\n",
    "            return 'покупка недвижимости'\n",
    "        if 'строительство' in row:\n",
    "            return 'строительство недвижимости'\n",
    "        if 'образование' in row:\n",
    "            return 'получение образования'\n",
    "        if 'автомобиль' in row:\n",
    "            return 'покупка автомобиля'\n",
    "        if 'свадьба' in row:\n",
    "            return 'организация свадьбы'"
   ]
  },
  {
   "cell_type": "code",
   "execution_count": 41,
   "metadata": {
    "scrolled": false
   },
   "outputs": [
    {
     "data": {
      "text/html": [
       "<div>\n",
       "<style scoped>\n",
       "    .dataframe tbody tr th:only-of-type {\n",
       "        vertical-align: middle;\n",
       "    }\n",
       "\n",
       "    .dataframe tbody tr th {\n",
       "        vertical-align: top;\n",
       "    }\n",
       "\n",
       "    .dataframe thead th {\n",
       "        text-align: right;\n",
       "    }\n",
       "</style>\n",
       "<table border=\"1\" class=\"dataframe\">\n",
       "  <thead>\n",
       "    <tr style=\"text-align: right;\">\n",
       "      <th></th>\n",
       "      <th>children</th>\n",
       "      <th>days_employed</th>\n",
       "      <th>dob_years</th>\n",
       "      <th>education</th>\n",
       "      <th>education_id</th>\n",
       "      <th>family_status</th>\n",
       "      <th>family_status_id</th>\n",
       "      <th>gender</th>\n",
       "      <th>income_type</th>\n",
       "      <th>debt</th>\n",
       "      <th>total_income</th>\n",
       "      <th>purpose</th>\n",
       "      <th>purpose_rename</th>\n",
       "    </tr>\n",
       "  </thead>\n",
       "  <tbody>\n",
       "    <tr>\n",
       "      <td>0</td>\n",
       "      <td>1</td>\n",
       "      <td>8437</td>\n",
       "      <td>42</td>\n",
       "      <td>высшее</td>\n",
       "      <td>0</td>\n",
       "      <td>женат / замужем</td>\n",
       "      <td>0</td>\n",
       "      <td>F</td>\n",
       "      <td>сотрудник</td>\n",
       "      <td>0</td>\n",
       "      <td>253875</td>\n",
       "      <td>покупка жилья</td>\n",
       "      <td>покупка недвижимости</td>\n",
       "    </tr>\n",
       "    <tr>\n",
       "      <td>1</td>\n",
       "      <td>1</td>\n",
       "      <td>4024</td>\n",
       "      <td>36</td>\n",
       "      <td>среднее</td>\n",
       "      <td>1</td>\n",
       "      <td>женат / замужем</td>\n",
       "      <td>0</td>\n",
       "      <td>F</td>\n",
       "      <td>сотрудник</td>\n",
       "      <td>0</td>\n",
       "      <td>112080</td>\n",
       "      <td>приобретение автомобиля</td>\n",
       "      <td>покупка автомобиля</td>\n",
       "    </tr>\n",
       "    <tr>\n",
       "      <td>2</td>\n",
       "      <td>0</td>\n",
       "      <td>5623</td>\n",
       "      <td>33</td>\n",
       "      <td>среднее</td>\n",
       "      <td>1</td>\n",
       "      <td>женат / замужем</td>\n",
       "      <td>0</td>\n",
       "      <td>M</td>\n",
       "      <td>сотрудник</td>\n",
       "      <td>0</td>\n",
       "      <td>145885</td>\n",
       "      <td>покупка жилья</td>\n",
       "      <td>покупка недвижимости</td>\n",
       "    </tr>\n",
       "    <tr>\n",
       "      <td>3</td>\n",
       "      <td>3</td>\n",
       "      <td>4124</td>\n",
       "      <td>32</td>\n",
       "      <td>среднее</td>\n",
       "      <td>1</td>\n",
       "      <td>женат / замужем</td>\n",
       "      <td>0</td>\n",
       "      <td>M</td>\n",
       "      <td>сотрудник</td>\n",
       "      <td>0</td>\n",
       "      <td>267628</td>\n",
       "      <td>дополнительное образование</td>\n",
       "      <td>получение образования</td>\n",
       "    </tr>\n",
       "    <tr>\n",
       "      <td>4</td>\n",
       "      <td>0</td>\n",
       "      <td>152</td>\n",
       "      <td>50</td>\n",
       "      <td>среднее</td>\n",
       "      <td>1</td>\n",
       "      <td>женат / замужем</td>\n",
       "      <td>0</td>\n",
       "      <td>M</td>\n",
       "      <td>сотрудник</td>\n",
       "      <td>0</td>\n",
       "      <td>135823</td>\n",
       "      <td>образование</td>\n",
       "      <td>получение образования</td>\n",
       "    </tr>\n",
       "  </tbody>\n",
       "</table>\n",
       "</div>"
      ],
      "text/plain": [
       "   children  days_employed  dob_years education  education_id  \\\n",
       "0         1           8437         42    высшее             0   \n",
       "1         1           4024         36   среднее             1   \n",
       "2         0           5623         33   среднее             1   \n",
       "3         3           4124         32   среднее             1   \n",
       "4         0            152         50   среднее             1   \n",
       "\n",
       "     family_status  family_status_id gender income_type  debt  total_income  \\\n",
       "0  женат / замужем                 0      F   сотрудник     0        253875   \n",
       "1  женат / замужем                 0      F   сотрудник     0        112080   \n",
       "2  женат / замужем                 0      M   сотрудник     0        145885   \n",
       "3  женат / замужем                 0      M   сотрудник     0        267628   \n",
       "4  женат / замужем                 0      M   сотрудник     0        135823   \n",
       "\n",
       "                      purpose         purpose_rename  \n",
       "0               покупка жилья   покупка недвижимости  \n",
       "1     приобретение автомобиля     покупка автомобиля  \n",
       "2               покупка жилья   покупка недвижимости  \n",
       "3  дополнительное образование  получение образования  \n",
       "4                 образование  получение образования  "
      ]
     },
     "execution_count": 41,
     "metadata": {},
     "output_type": "execute_result"
    }
   ],
   "source": [
    "# добавим колонку'purpose_rename' с категориями\n",
    "df['purpose_rename']= df['purpose'].apply(purpose_rename)\n",
    "df.head()"
   ]
  },
  {
   "cell_type": "code",
   "execution_count": 42,
   "metadata": {},
   "outputs": [
    {
     "data": {
      "text/html": [
       "<div>\n",
       "<style scoped>\n",
       "    .dataframe tbody tr th:only-of-type {\n",
       "        vertical-align: middle;\n",
       "    }\n",
       "\n",
       "    .dataframe tbody tr th {\n",
       "        vertical-align: top;\n",
       "    }\n",
       "\n",
       "    .dataframe thead th {\n",
       "        text-align: right;\n",
       "    }\n",
       "</style>\n",
       "<table border=\"1\" class=\"dataframe\">\n",
       "  <thead>\n",
       "    <tr style=\"text-align: right;\">\n",
       "      <th></th>\n",
       "      <th>purpose_rename</th>\n",
       "    </tr>\n",
       "    <tr>\n",
       "      <th>purpose_rename</th>\n",
       "      <th></th>\n",
       "    </tr>\n",
       "  </thead>\n",
       "  <tbody>\n",
       "    <tr>\n",
       "      <td>организация свадьбы</td>\n",
       "      <td>2335</td>\n",
       "    </tr>\n",
       "    <tr>\n",
       "      <td>покупка автомобиля</td>\n",
       "      <td>4308</td>\n",
       "    </tr>\n",
       "    <tr>\n",
       "      <td>покупка недвижимости</td>\n",
       "      <td>8327</td>\n",
       "    </tr>\n",
       "    <tr>\n",
       "      <td>получение образования</td>\n",
       "      <td>4014</td>\n",
       "    </tr>\n",
       "    <tr>\n",
       "      <td>ремонт жилья</td>\n",
       "      <td>607</td>\n",
       "    </tr>\n",
       "    <tr>\n",
       "      <td>строительство недвижимости</td>\n",
       "      <td>1879</td>\n",
       "    </tr>\n",
       "  </tbody>\n",
       "</table>\n",
       "</div>"
      ],
      "text/plain": [
       "                            purpose_rename\n",
       "purpose_rename                            \n",
       "организация свадьбы                   2335\n",
       "покупка автомобиля                    4308\n",
       "покупка недвижимости                  8327\n",
       "получение образования                 4014\n",
       "ремонт жилья                           607\n",
       "строительство недвижимости            1879"
      ]
     },
     "execution_count": 42,
     "metadata": {},
     "output_type": "execute_result"
    }
   ],
   "source": [
    "# проверим результат\n",
    "df.groupby('purpose_rename').agg({'purpose_rename':'count'})"
   ]
  },
  {
   "cell_type": "markdown",
   "metadata": {},
   "source": [
    "**Вывод**"
   ]
  },
  {
   "cell_type": "markdown",
   "metadata": {},
   "source": [
    "В результате категоризации были выделены 6 основных целей кредита:\n",
    " - ремонт жилья\n",
    " - покупка недвижимости\n",
    " - строительство недвижимости\n",
    " - получение образования\n",
    " - покупка автомобиля\n",
    " - организация свадьбы\n",
    " \n",
    "Их в свою очередь можно разделить на 3 категорий:\n",
    " - долгосрочные - покупка недвижимости,\n",
    " - среднесрочные - получение образования, покупка автомобиля,\n",
    " - краткосрочные - ремонт жилья, строительство недвижимости, организация свадьбы."
   ]
  },
  {
   "cell_type": "markdown",
   "metadata": {},
   "source": [
    "## Шаг 3. Ответьте на вопросы"
   ]
  },
  {
   "cell_type": "markdown",
   "metadata": {},
   "source": [
    "- Есть ли зависимость между наличием детей и возвратом кредита в срок?"
   ]
  },
  {
   "cell_type": "code",
   "execution_count": 43,
   "metadata": {},
   "outputs": [
    {
     "data": {
      "text/plain": [
       "8.11"
      ]
     },
     "execution_count": 43,
     "metadata": {},
     "output_type": "execute_result"
    }
   ],
   "source": [
    "# сначала посмотрим общие показатели по задолженности\n",
    "df_debt_share = df['debt'].sum()/df['debt'].count()*100\n",
    "df_debt_share.round(2)"
   ]
  },
  {
   "cell_type": "markdown",
   "metadata": {},
   "source": [
    "**Средняя задолженность по всей таблице составляет 8,11%**\n",
    "\n",
    "Сравнивать будем с этим показателем."
   ]
  },
  {
   "cell_type": "code",
   "execution_count": 44,
   "metadata": {
    "scrolled": true
   },
   "outputs": [
    {
     "data": {
      "text/html": [
       "<div>\n",
       "<style scoped>\n",
       "    .dataframe tbody tr th:only-of-type {\n",
       "        vertical-align: middle;\n",
       "    }\n",
       "\n",
       "    .dataframe tbody tr th {\n",
       "        vertical-align: top;\n",
       "    }\n",
       "\n",
       "    .dataframe thead tr th {\n",
       "        text-align: left;\n",
       "    }\n",
       "\n",
       "    .dataframe thead tr:last-of-type th {\n",
       "        text-align: right;\n",
       "    }\n",
       "</style>\n",
       "<table border=\"1\" class=\"dataframe\">\n",
       "  <thead>\n",
       "    <tr>\n",
       "      <th></th>\n",
       "      <th colspan=\"2\" halign=\"left\">debt</th>\n",
       "      <th>debt_share</th>\n",
       "    </tr>\n",
       "    <tr>\n",
       "      <th></th>\n",
       "      <th>count</th>\n",
       "      <th>sum</th>\n",
       "      <th></th>\n",
       "    </tr>\n",
       "    <tr>\n",
       "      <th>children</th>\n",
       "      <th></th>\n",
       "      <th></th>\n",
       "      <th></th>\n",
       "    </tr>\n",
       "  </thead>\n",
       "  <tbody>\n",
       "    <tr>\n",
       "      <td>0</td>\n",
       "      <td>14106</td>\n",
       "      <td>1063</td>\n",
       "      <td>7.54</td>\n",
       "    </tr>\n",
       "    <tr>\n",
       "      <td>1</td>\n",
       "      <td>4856</td>\n",
       "      <td>445</td>\n",
       "      <td>9.16</td>\n",
       "    </tr>\n",
       "    <tr>\n",
       "      <td>2</td>\n",
       "      <td>2128</td>\n",
       "      <td>202</td>\n",
       "      <td>9.49</td>\n",
       "    </tr>\n",
       "    <tr>\n",
       "      <td>3</td>\n",
       "      <td>330</td>\n",
       "      <td>27</td>\n",
       "      <td>8.18</td>\n",
       "    </tr>\n",
       "    <tr>\n",
       "      <td>4</td>\n",
       "      <td>41</td>\n",
       "      <td>4</td>\n",
       "      <td>9.76</td>\n",
       "    </tr>\n",
       "    <tr>\n",
       "      <td>5</td>\n",
       "      <td>9</td>\n",
       "      <td>0</td>\n",
       "      <td>0.00</td>\n",
       "    </tr>\n",
       "  </tbody>\n",
       "</table>\n",
       "</div>"
      ],
      "text/plain": [
       "           debt       debt_share\n",
       "          count   sum           \n",
       "children                        \n",
       "0         14106  1063       7.54\n",
       "1          4856   445       9.16\n",
       "2          2128   202       9.49\n",
       "3           330    27       8.18\n",
       "4            41     4       9.76\n",
       "5             9     0       0.00"
      ]
     },
     "execution_count": 44,
     "metadata": {},
     "output_type": "execute_result"
    }
   ],
   "source": [
    "# сгруппируем клиентов по наличию детей и задолженности по возврату кредитов 'debt'\n",
    "# и посчитаем долю задолженности по каждой группе \n",
    "children_grouped = df.groupby('children').agg({'debt':['count', 'sum']})\n",
    "children_grouped['debt_share'] = children_grouped['debt']['sum']/children_grouped['debt']['count']*100\n",
    "children_grouped.round(2)"
   ]
  },
  {
   "cell_type": "markdown",
   "metadata": {},
   "source": [
    "**Вывод**"
   ]
  },
  {
   "cell_type": "markdown",
   "metadata": {},
   "source": [
    "Семьи без детей имеют задолженность по возврату кредитов 7,54%.\n",
    "В семьях где 1 ребенок задолженность уже больше - 9.16%, 2 ребенка - 9,49%. \n",
    "Дальше, где 3 и более ребенка процент задолженности снижается, но количество таких значений мало и не значительно влияет на общую картину.\n",
    "\n",
    "Значит можно сделать вывод, что наличие детей и их количество влияет на выплату кредита."
   ]
  },
  {
   "cell_type": "markdown",
   "metadata": {},
   "source": [
    "- Есть ли зависимость между семейным положением и возвратом кредита в срок?"
   ]
  },
  {
   "cell_type": "code",
   "execution_count": 45,
   "metadata": {},
   "outputs": [
    {
     "data": {
      "text/html": [
       "<div>\n",
       "<style scoped>\n",
       "    .dataframe tbody tr th:only-of-type {\n",
       "        vertical-align: middle;\n",
       "    }\n",
       "\n",
       "    .dataframe tbody tr th {\n",
       "        vertical-align: top;\n",
       "    }\n",
       "\n",
       "    .dataframe thead tr th {\n",
       "        text-align: left;\n",
       "    }\n",
       "\n",
       "    .dataframe thead tr:last-of-type th {\n",
       "        text-align: right;\n",
       "    }\n",
       "</style>\n",
       "<table border=\"1\" class=\"dataframe\">\n",
       "  <thead>\n",
       "    <tr>\n",
       "      <th></th>\n",
       "      <th colspan=\"2\" halign=\"left\">debt</th>\n",
       "      <th>debt_share</th>\n",
       "    </tr>\n",
       "    <tr>\n",
       "      <th></th>\n",
       "      <th>count</th>\n",
       "      <th>sum</th>\n",
       "      <th></th>\n",
       "    </tr>\n",
       "    <tr>\n",
       "      <th>family_status</th>\n",
       "      <th></th>\n",
       "      <th></th>\n",
       "      <th></th>\n",
       "    </tr>\n",
       "  </thead>\n",
       "  <tbody>\n",
       "    <tr>\n",
       "      <td>в разводе</td>\n",
       "      <td>1195</td>\n",
       "      <td>85</td>\n",
       "      <td>7.11</td>\n",
       "    </tr>\n",
       "    <tr>\n",
       "      <td>вдовец / вдова</td>\n",
       "      <td>959</td>\n",
       "      <td>63</td>\n",
       "      <td>6.57</td>\n",
       "    </tr>\n",
       "    <tr>\n",
       "      <td>гражданский брак</td>\n",
       "      <td>4162</td>\n",
       "      <td>388</td>\n",
       "      <td>9.32</td>\n",
       "    </tr>\n",
       "    <tr>\n",
       "      <td>женат / замужем</td>\n",
       "      <td>12344</td>\n",
       "      <td>931</td>\n",
       "      <td>7.54</td>\n",
       "    </tr>\n",
       "    <tr>\n",
       "      <td>не женат / не замужем</td>\n",
       "      <td>2810</td>\n",
       "      <td>274</td>\n",
       "      <td>9.75</td>\n",
       "    </tr>\n",
       "  </tbody>\n",
       "</table>\n",
       "</div>"
      ],
      "text/plain": [
       "                        debt      debt_share\n",
       "                       count  sum           \n",
       "family_status                               \n",
       "в разводе               1195   85       7.11\n",
       "вдовец / вдова           959   63       6.57\n",
       "гражданский брак        4162  388       9.32\n",
       "женат / замужем        12344  931       7.54\n",
       "не женат / не замужем   2810  274       9.75"
      ]
     },
     "execution_count": 45,
     "metadata": {},
     "output_type": "execute_result"
    }
   ],
   "source": [
    "# сгруппируем клиентов по семейному положению и посчитаем задолженность по каждой группе\n",
    "family_status_grouped = df.groupby('family_status').agg({'debt':['count', 'sum']})\n",
    "family_status_grouped['debt_share'] = family_status_grouped['debt']['sum']/family_status_grouped['debt']['count']*100\n",
    "family_status_grouped.round(2)"
   ]
  },
  {
   "cell_type": "markdown",
   "metadata": {},
   "source": [
    "**Вывод**"
   ]
  },
  {
   "cell_type": "markdown",
   "metadata": {},
   "source": [
    "Клиенты котрые были или находятся в официальном браке являются более ответственными плательщиками: \n",
    "- женат/замужем, \n",
    "- в разводе, \n",
    "- вдовец / вдова,\n",
    "\n",
    "По сравнению с клиентами не оформлявшими официальнй брак:\n",
    "- Не женат / не замужем, \n",
    "- гражданский брак."
   ]
  },
  {
   "cell_type": "markdown",
   "metadata": {},
   "source": [
    "- Есть ли зависимость между уровнем дохода и возвратом кредита в срок?"
   ]
  },
  {
   "cell_type": "code",
   "execution_count": 46,
   "metadata": {
    "scrolled": true
   },
   "outputs": [
    {
     "data": {
      "text/plain": [
       "count    2.147000e+04\n",
       "mean     1.652936e+05\n",
       "std      9.815539e+04\n",
       "min      2.066700e+04\n",
       "25%      1.076522e+05\n",
       "50%      1.425940e+05\n",
       "75%      1.957518e+05\n",
       "max      2.265604e+06\n",
       "Name: total_income, dtype: float64"
      ]
     },
     "execution_count": 46,
     "metadata": {},
     "output_type": "execute_result"
    }
   ],
   "source": [
    "# посмотрим описательную статистику по среднемесячному доходу \n",
    "df.total_income.describe()"
   ]
  },
  {
   "cell_type": "code",
   "execution_count": 47,
   "metadata": {},
   "outputs": [],
   "source": [
    "# среднее значение дохода составляет около 151 тыс, медианное значение около 136 тысяч\n",
    "# разобъем значения дохода на несколько групп\n",
    "def income_rate(total_income):\n",
    "    if total_income < 100000:\n",
    "        return 'до 100 тыс'\n",
    "    if total_income < 200000:\n",
    "        return 'от 100 до 200 тыс'\n",
    "    if total_income < 500000:\n",
    "        return 'от 200 до 500 тыс'\n",
    "    return 'от 500 тыс'"
   ]
  },
  {
   "cell_type": "code",
   "execution_count": 48,
   "metadata": {},
   "outputs": [
    {
     "data": {
      "text/html": [
       "<div>\n",
       "<style scoped>\n",
       "    .dataframe tbody tr th:only-of-type {\n",
       "        vertical-align: middle;\n",
       "    }\n",
       "\n",
       "    .dataframe tbody tr th {\n",
       "        vertical-align: top;\n",
       "    }\n",
       "\n",
       "    .dataframe thead th {\n",
       "        text-align: right;\n",
       "    }\n",
       "</style>\n",
       "<table border=\"1\" class=\"dataframe\">\n",
       "  <thead>\n",
       "    <tr style=\"text-align: right;\">\n",
       "      <th></th>\n",
       "      <th>children</th>\n",
       "      <th>days_employed</th>\n",
       "      <th>dob_years</th>\n",
       "      <th>education</th>\n",
       "      <th>education_id</th>\n",
       "      <th>family_status</th>\n",
       "      <th>family_status_id</th>\n",
       "      <th>gender</th>\n",
       "      <th>income_type</th>\n",
       "      <th>debt</th>\n",
       "      <th>total_income</th>\n",
       "      <th>purpose</th>\n",
       "      <th>purpose_rename</th>\n",
       "      <th>income_rate</th>\n",
       "    </tr>\n",
       "  </thead>\n",
       "  <tbody>\n",
       "    <tr>\n",
       "      <td>0</td>\n",
       "      <td>1</td>\n",
       "      <td>8437</td>\n",
       "      <td>42</td>\n",
       "      <td>высшее</td>\n",
       "      <td>0</td>\n",
       "      <td>женат / замужем</td>\n",
       "      <td>0</td>\n",
       "      <td>F</td>\n",
       "      <td>сотрудник</td>\n",
       "      <td>0</td>\n",
       "      <td>253875</td>\n",
       "      <td>покупка жилья</td>\n",
       "      <td>покупка недвижимости</td>\n",
       "      <td>от 200 до 500 тыс</td>\n",
       "    </tr>\n",
       "    <tr>\n",
       "      <td>1</td>\n",
       "      <td>1</td>\n",
       "      <td>4024</td>\n",
       "      <td>36</td>\n",
       "      <td>среднее</td>\n",
       "      <td>1</td>\n",
       "      <td>женат / замужем</td>\n",
       "      <td>0</td>\n",
       "      <td>F</td>\n",
       "      <td>сотрудник</td>\n",
       "      <td>0</td>\n",
       "      <td>112080</td>\n",
       "      <td>приобретение автомобиля</td>\n",
       "      <td>покупка автомобиля</td>\n",
       "      <td>от 100 до 200 тыс</td>\n",
       "    </tr>\n",
       "    <tr>\n",
       "      <td>2</td>\n",
       "      <td>0</td>\n",
       "      <td>5623</td>\n",
       "      <td>33</td>\n",
       "      <td>среднее</td>\n",
       "      <td>1</td>\n",
       "      <td>женат / замужем</td>\n",
       "      <td>0</td>\n",
       "      <td>M</td>\n",
       "      <td>сотрудник</td>\n",
       "      <td>0</td>\n",
       "      <td>145885</td>\n",
       "      <td>покупка жилья</td>\n",
       "      <td>покупка недвижимости</td>\n",
       "      <td>от 100 до 200 тыс</td>\n",
       "    </tr>\n",
       "    <tr>\n",
       "      <td>3</td>\n",
       "      <td>3</td>\n",
       "      <td>4124</td>\n",
       "      <td>32</td>\n",
       "      <td>среднее</td>\n",
       "      <td>1</td>\n",
       "      <td>женат / замужем</td>\n",
       "      <td>0</td>\n",
       "      <td>M</td>\n",
       "      <td>сотрудник</td>\n",
       "      <td>0</td>\n",
       "      <td>267628</td>\n",
       "      <td>дополнительное образование</td>\n",
       "      <td>получение образования</td>\n",
       "      <td>от 200 до 500 тыс</td>\n",
       "    </tr>\n",
       "    <tr>\n",
       "      <td>4</td>\n",
       "      <td>0</td>\n",
       "      <td>152</td>\n",
       "      <td>50</td>\n",
       "      <td>среднее</td>\n",
       "      <td>1</td>\n",
       "      <td>женат / замужем</td>\n",
       "      <td>0</td>\n",
       "      <td>M</td>\n",
       "      <td>сотрудник</td>\n",
       "      <td>0</td>\n",
       "      <td>135823</td>\n",
       "      <td>образование</td>\n",
       "      <td>получение образования</td>\n",
       "      <td>от 100 до 200 тыс</td>\n",
       "    </tr>\n",
       "  </tbody>\n",
       "</table>\n",
       "</div>"
      ],
      "text/plain": [
       "   children  days_employed  dob_years education  education_id  \\\n",
       "0         1           8437         42    высшее             0   \n",
       "1         1           4024         36   среднее             1   \n",
       "2         0           5623         33   среднее             1   \n",
       "3         3           4124         32   среднее             1   \n",
       "4         0            152         50   среднее             1   \n",
       "\n",
       "     family_status  family_status_id gender income_type  debt  total_income  \\\n",
       "0  женат / замужем                 0      F   сотрудник     0        253875   \n",
       "1  женат / замужем                 0      F   сотрудник     0        112080   \n",
       "2  женат / замужем                 0      M   сотрудник     0        145885   \n",
       "3  женат / замужем                 0      M   сотрудник     0        267628   \n",
       "4  женат / замужем                 0      M   сотрудник     0        135823   \n",
       "\n",
       "                      purpose         purpose_rename        income_rate  \n",
       "0               покупка жилья   покупка недвижимости  от 200 до 500 тыс  \n",
       "1     приобретение автомобиля     покупка автомобиля  от 100 до 200 тыс  \n",
       "2               покупка жилья   покупка недвижимости  от 100 до 200 тыс  \n",
       "3  дополнительное образование  получение образования  от 200 до 500 тыс  \n",
       "4                 образование  получение образования  от 100 до 200 тыс  "
      ]
     },
     "execution_count": 48,
     "metadata": {},
     "output_type": "execute_result"
    }
   ],
   "source": [
    "# добавим колонку с рейтингом по доходу\n",
    "df['income_rate']= df['total_income'].apply(income_rate)\n",
    "df.head()"
   ]
  },
  {
   "cell_type": "code",
   "execution_count": 49,
   "metadata": {},
   "outputs": [
    {
     "data": {
      "text/html": [
       "<div>\n",
       "<style scoped>\n",
       "    .dataframe tbody tr th:only-of-type {\n",
       "        vertical-align: middle;\n",
       "    }\n",
       "\n",
       "    .dataframe tbody tr th {\n",
       "        vertical-align: top;\n",
       "    }\n",
       "\n",
       "    .dataframe thead tr th {\n",
       "        text-align: left;\n",
       "    }\n",
       "\n",
       "    .dataframe thead tr:last-of-type th {\n",
       "        text-align: right;\n",
       "    }\n",
       "</style>\n",
       "<table border=\"1\" class=\"dataframe\">\n",
       "  <thead>\n",
       "    <tr>\n",
       "      <th></th>\n",
       "      <th colspan=\"2\" halign=\"left\">debt</th>\n",
       "      <th>debt_share</th>\n",
       "    </tr>\n",
       "    <tr>\n",
       "      <th></th>\n",
       "      <th>count</th>\n",
       "      <th>sum</th>\n",
       "      <th></th>\n",
       "    </tr>\n",
       "    <tr>\n",
       "      <th>income_rate</th>\n",
       "      <th></th>\n",
       "      <th></th>\n",
       "      <th></th>\n",
       "    </tr>\n",
       "  </thead>\n",
       "  <tbody>\n",
       "    <tr>\n",
       "      <td>до 100 тыс</td>\n",
       "      <td>4463</td>\n",
       "      <td>354</td>\n",
       "      <td>7.93</td>\n",
       "    </tr>\n",
       "    <tr>\n",
       "      <td>от 100 до 200 тыс</td>\n",
       "      <td>11941</td>\n",
       "      <td>1029</td>\n",
       "      <td>8.62</td>\n",
       "    </tr>\n",
       "    <tr>\n",
       "      <td>от 200 до 500 тыс</td>\n",
       "      <td>4844</td>\n",
       "      <td>344</td>\n",
       "      <td>7.10</td>\n",
       "    </tr>\n",
       "    <tr>\n",
       "      <td>от 500 тыс</td>\n",
       "      <td>222</td>\n",
       "      <td>14</td>\n",
       "      <td>6.31</td>\n",
       "    </tr>\n",
       "  </tbody>\n",
       "</table>\n",
       "</div>"
      ],
      "text/plain": [
       "                    debt       debt_share\n",
       "                   count   sum           \n",
       "income_rate                              \n",
       "до 100 тыс          4463   354       7.93\n",
       "от 100 до 200 тыс  11941  1029       8.62\n",
       "от 200 до 500 тыс   4844   344       7.10\n",
       "от 500 тыс           222    14       6.31"
      ]
     },
     "execution_count": 49,
     "metadata": {},
     "output_type": "execute_result"
    }
   ],
   "source": [
    "# сгруппируем клиентов по рейтингу дохода и посчитаем задолженность по каждой группе\n",
    "income_grouped = df.groupby('income_rate').agg({'debt':['count','sum']})\n",
    "income_grouped['debt_share'] = income_grouped['debt']['sum']/income_grouped['debt']['count']*100\n",
    "income_grouped.round(2)"
   ]
  },
  {
   "cell_type": "markdown",
   "metadata": {},
   "source": [
    "**Вывод**"
   ]
  },
  {
   "cell_type": "markdown",
   "metadata": {},
   "source": [
    "Самые недобросовестные плательщики находятся в группе с доходом от 100 до 200 тыс в месяц, те приближенные к среднему и медианному значению. При увеличении дохода доля задолженности падает. Так же лучше платят клиенты с доходом менее 100 тыс."
   ]
  },
  {
   "cell_type": "markdown",
   "metadata": {},
   "source": [
    "- Как разные цели кредита влияют на его возврат в срок?"
   ]
  },
  {
   "cell_type": "code",
   "execution_count": 50,
   "metadata": {},
   "outputs": [
    {
     "data": {
      "text/html": [
       "<div>\n",
       "<style scoped>\n",
       "    .dataframe tbody tr th:only-of-type {\n",
       "        vertical-align: middle;\n",
       "    }\n",
       "\n",
       "    .dataframe tbody tr th {\n",
       "        vertical-align: top;\n",
       "    }\n",
       "\n",
       "    .dataframe thead tr th {\n",
       "        text-align: left;\n",
       "    }\n",
       "\n",
       "    .dataframe thead tr:last-of-type th {\n",
       "        text-align: right;\n",
       "    }\n",
       "</style>\n",
       "<table border=\"1\" class=\"dataframe\">\n",
       "  <thead>\n",
       "    <tr>\n",
       "      <th></th>\n",
       "      <th colspan=\"2\" halign=\"left\">debt</th>\n",
       "      <th>debt_share</th>\n",
       "    </tr>\n",
       "    <tr>\n",
       "      <th></th>\n",
       "      <th>count</th>\n",
       "      <th>sum</th>\n",
       "      <th></th>\n",
       "    </tr>\n",
       "    <tr>\n",
       "      <th>purpose_rename</th>\n",
       "      <th></th>\n",
       "      <th></th>\n",
       "      <th></th>\n",
       "    </tr>\n",
       "  </thead>\n",
       "  <tbody>\n",
       "    <tr>\n",
       "      <td>организация свадьбы</td>\n",
       "      <td>2335</td>\n",
       "      <td>186</td>\n",
       "      <td>7.97</td>\n",
       "    </tr>\n",
       "    <tr>\n",
       "      <td>покупка автомобиля</td>\n",
       "      <td>4308</td>\n",
       "      <td>403</td>\n",
       "      <td>9.35</td>\n",
       "    </tr>\n",
       "    <tr>\n",
       "      <td>покупка недвижимости</td>\n",
       "      <td>8327</td>\n",
       "      <td>603</td>\n",
       "      <td>7.24</td>\n",
       "    </tr>\n",
       "    <tr>\n",
       "      <td>получение образования</td>\n",
       "      <td>4014</td>\n",
       "      <td>370</td>\n",
       "      <td>9.22</td>\n",
       "    </tr>\n",
       "    <tr>\n",
       "      <td>ремонт жилья</td>\n",
       "      <td>607</td>\n",
       "      <td>35</td>\n",
       "      <td>5.77</td>\n",
       "    </tr>\n",
       "    <tr>\n",
       "      <td>строительство недвижимости</td>\n",
       "      <td>1879</td>\n",
       "      <td>144</td>\n",
       "      <td>7.66</td>\n",
       "    </tr>\n",
       "  </tbody>\n",
       "</table>\n",
       "</div>"
      ],
      "text/plain": [
       "                            debt      debt_share\n",
       "                           count  sum           \n",
       "purpose_rename                                  \n",
       "организация свадьбы         2335  186       7.97\n",
       "покупка автомобиля          4308  403       9.35\n",
       "покупка недвижимости        8327  603       7.24\n",
       "получение образования       4014  370       9.22\n",
       "ремонт жилья                 607   35       5.77\n",
       "строительство недвижимости  1879  144       7.66"
      ]
     },
     "execution_count": 50,
     "metadata": {},
     "output_type": "execute_result"
    }
   ],
   "source": [
    "# сгруппируем клиентов по цели кредита и задолженности по возврату кредита\n",
    "# и посчитаем долю задолженности по каждой группе клиентов\n",
    "purpose_grouped = df.groupby('purpose_rename').agg({'debt':['count', 'sum']})\n",
    "purpose_grouped['debt_share'] = purpose_grouped['debt']['sum']/purpose_grouped['debt']['count']*100\n",
    "purpose_grouped.round(2)"
   ]
  },
  {
   "cell_type": "markdown",
   "metadata": {},
   "source": [
    "**Вывод**"
   ]
  },
  {
   "cell_type": "markdown",
   "metadata": {},
   "source": [
    "Хуже всего платят клиенты приобретающие автомобиль и получающие образование. Предположительно, что эти кредиты относятся к среднесрочным 3-5 лет. Лучше платят по кредитам которые можно отнести к краткосрочным кредитам: ремонт, строительство, свадьба. И лучше платят долгосрочные кредиты покупка недвижимости(ипотека)."
   ]
  },
  {
   "cell_type": "markdown",
   "metadata": {},
   "source": [
    "## Шаг 4. Общий вывод"
   ]
  },
  {
   "cell_type": "markdown",
   "metadata": {},
   "source": [
    "Лучшего заемщика можно описать следующими показателями:\n",
    "\n",
    "Клиент состоит или состоял в официальном браке, не имеет детей, с доходом до 100 тыс или более 200 тыс, берущий краткосрочный кредит или покупающий недвижимость.\n",
    "\n",
    "Менее добросовестного клиента можно описать так:\n",
    "\n",
    "Не состоит в официальном браке, имеет детей, доход 100-200 тыс, планирует приобретать автомобиль или получить образование."
   ]
  }
 ],
 "metadata": {
  "ExecuteTimeLog": [
   {
    "duration": 748,
    "start_time": "2022-01-23T21:56:27.743Z"
   },
   {
    "duration": 66,
    "start_time": "2022-01-23T21:57:36.295Z"
   },
   {
    "duration": 29,
    "start_time": "2022-01-23T21:57:42.176Z"
   },
   {
    "duration": 19,
    "start_time": "2022-01-23T22:00:20.716Z"
   },
   {
    "duration": 46,
    "start_time": "2022-01-23T22:00:42.191Z"
   },
   {
    "duration": 13,
    "start_time": "2022-01-23T22:05:23.544Z"
   },
   {
    "duration": 14,
    "start_time": "2022-01-23T22:06:50.218Z"
   },
   {
    "duration": 5,
    "start_time": "2022-01-23T22:08:16.984Z"
   },
   {
    "duration": 5,
    "start_time": "2022-01-23T22:08:30.097Z"
   },
   {
    "duration": 24,
    "start_time": "2022-01-23T22:12:18.524Z"
   },
   {
    "duration": 28,
    "start_time": "2022-01-23T22:12:20.480Z"
   },
   {
    "duration": 7,
    "start_time": "2022-01-23T22:12:31.340Z"
   },
   {
    "duration": 16,
    "start_time": "2022-01-23T22:12:44.261Z"
   },
   {
    "duration": 11,
    "start_time": "2022-01-23T22:14:09.712Z"
   },
   {
    "duration": 953,
    "start_time": "2022-01-23T22:14:24.670Z"
   },
   {
    "duration": 6,
    "start_time": "2022-01-23T22:15:53.798Z"
   },
   {
    "duration": 3977,
    "start_time": "2022-01-23T22:19:47.400Z"
   },
   {
    "duration": 24,
    "start_time": "2022-01-23T22:21:18.552Z"
   },
   {
    "duration": 988,
    "start_time": "2022-01-24T11:36:30.582Z"
   },
   {
    "duration": 692,
    "start_time": "2022-01-24T11:36:40.744Z"
   },
   {
    "duration": 47,
    "start_time": "2022-01-24T11:36:41.438Z"
   },
   {
    "duration": 18,
    "start_time": "2022-01-24T11:36:41.487Z"
   },
   {
    "duration": 12,
    "start_time": "2022-01-24T11:36:41.507Z"
   },
   {
    "duration": 28,
    "start_time": "2022-01-24T11:36:41.521Z"
   },
   {
    "duration": 28,
    "start_time": "2022-01-24T11:36:41.551Z"
   },
   {
    "duration": 10,
    "start_time": "2022-01-24T11:36:41.581Z"
   },
   {
    "duration": 4,
    "start_time": "2022-01-24T11:36:41.594Z"
   },
   {
    "duration": 16,
    "start_time": "2022-01-24T11:36:41.599Z"
   },
   {
    "duration": 17,
    "start_time": "2022-01-24T11:36:41.616Z"
   },
   {
    "duration": 38,
    "start_time": "2022-01-24T11:36:41.634Z"
   },
   {
    "duration": 11,
    "start_time": "2022-01-24T11:36:41.674Z"
   },
   {
    "duration": 29,
    "start_time": "2022-01-24T11:36:41.687Z"
   },
   {
    "duration": 17,
    "start_time": "2022-01-24T11:36:41.717Z"
   },
   {
    "duration": 622,
    "start_time": "2022-01-24T11:36:41.736Z"
   },
   {
    "duration": 12,
    "start_time": "2022-01-24T11:36:42.360Z"
   },
   {
    "duration": 2953,
    "start_time": "2022-01-24T11:36:42.373Z"
   },
   {
    "duration": 25,
    "start_time": "2022-01-24T12:27:01.240Z"
   },
   {
    "duration": 13,
    "start_time": "2022-01-24T12:28:43.359Z"
   },
   {
    "duration": 321,
    "start_time": "2022-01-24T12:28:53.585Z"
   },
   {
    "duration": 16,
    "start_time": "2022-01-24T12:29:03.044Z"
   },
   {
    "duration": 10,
    "start_time": "2022-01-24T12:48:18.995Z"
   },
   {
    "duration": 14,
    "start_time": "2022-01-24T12:48:24.008Z"
   },
   {
    "duration": 3,
    "start_time": "2022-01-24T14:35:19.189Z"
   },
   {
    "duration": 16,
    "start_time": "2022-01-24T14:35:42.425Z"
   },
   {
    "duration": 20,
    "start_time": "2022-01-24T14:35:58.269Z"
   },
   {
    "duration": 14,
    "start_time": "2022-01-24T14:36:11.504Z"
   },
   {
    "duration": 18,
    "start_time": "2022-01-24T14:55:57.805Z"
   },
   {
    "duration": 413,
    "start_time": "2022-01-25T21:35:29.086Z"
   },
   {
    "duration": 258,
    "start_time": "2022-01-25T21:35:38.051Z"
   },
   {
    "duration": 1042,
    "start_time": "2022-01-25T21:35:49.307Z"
   },
   {
    "duration": 94,
    "start_time": "2022-01-25T21:35:50.353Z"
   },
   {
    "duration": 47,
    "start_time": "2022-01-25T21:35:50.452Z"
   },
   {
    "duration": 48,
    "start_time": "2022-01-25T21:35:50.503Z"
   },
   {
    "duration": 49,
    "start_time": "2022-01-25T21:35:50.554Z"
   },
   {
    "duration": 37,
    "start_time": "2022-01-25T21:35:50.606Z"
   },
   {
    "duration": 15,
    "start_time": "2022-01-25T21:35:50.646Z"
   },
   {
    "duration": 6,
    "start_time": "2022-01-25T21:35:50.664Z"
   },
   {
    "duration": 61,
    "start_time": "2022-01-25T21:35:50.673Z"
   },
   {
    "duration": 30,
    "start_time": "2022-01-25T21:35:50.737Z"
   },
   {
    "duration": 8,
    "start_time": "2022-01-25T21:35:50.770Z"
   },
   {
    "duration": 20,
    "start_time": "2022-01-25T21:35:50.780Z"
   },
   {
    "duration": 12,
    "start_time": "2022-01-25T21:35:52.658Z"
   },
   {
    "duration": 13,
    "start_time": "2022-01-25T21:36:16.401Z"
   },
   {
    "duration": 8,
    "start_time": "2022-01-25T21:37:02.063Z"
   },
   {
    "duration": 23,
    "start_time": "2022-01-25T21:37:29.387Z"
   },
   {
    "duration": 25,
    "start_time": "2022-01-25T21:37:35.966Z"
   },
   {
    "duration": 26,
    "start_time": "2022-01-25T21:37:39.260Z"
   },
   {
    "duration": 25,
    "start_time": "2022-01-25T21:37:40.486Z"
   },
   {
    "duration": 11,
    "start_time": "2022-01-25T21:38:08.935Z"
   },
   {
    "duration": 19,
    "start_time": "2022-01-25T21:41:02.687Z"
   },
   {
    "duration": 20,
    "start_time": "2022-01-25T21:46:21.032Z"
   },
   {
    "duration": 21,
    "start_time": "2022-01-25T21:46:45.782Z"
   },
   {
    "duration": 16,
    "start_time": "2022-01-25T21:49:04.669Z"
   },
   {
    "duration": 26,
    "start_time": "2022-01-25T21:50:41.445Z"
   },
   {
    "duration": 16,
    "start_time": "2022-01-25T21:52:26.922Z"
   },
   {
    "duration": 20,
    "start_time": "2022-01-25T21:54:33.868Z"
   },
   {
    "duration": 452,
    "start_time": "2022-01-25T21:56:41.324Z"
   },
   {
    "duration": 3,
    "start_time": "2022-01-25T21:56:48.801Z"
   },
   {
    "duration": 79,
    "start_time": "2022-01-25T21:56:48.808Z"
   },
   {
    "duration": 19,
    "start_time": "2022-01-25T21:56:48.890Z"
   },
   {
    "duration": 47,
    "start_time": "2022-01-25T21:56:48.912Z"
   },
   {
    "duration": 47,
    "start_time": "2022-01-25T21:56:48.962Z"
   },
   {
    "duration": 33,
    "start_time": "2022-01-25T21:56:49.011Z"
   },
   {
    "duration": 16,
    "start_time": "2022-01-25T21:56:49.048Z"
   },
   {
    "duration": 5,
    "start_time": "2022-01-25T21:56:49.067Z"
   },
   {
    "duration": 29,
    "start_time": "2022-01-25T21:56:49.074Z"
   },
   {
    "duration": 34,
    "start_time": "2022-01-25T21:56:49.138Z"
   },
   {
    "duration": 22,
    "start_time": "2022-01-25T21:56:49.175Z"
   },
   {
    "duration": 6,
    "start_time": "2022-01-25T21:56:49.200Z"
   },
   {
    "duration": 20,
    "start_time": "2022-01-25T21:56:49.237Z"
   },
   {
    "duration": 20,
    "start_time": "2022-01-25T21:56:49.260Z"
   },
   {
    "duration": 13,
    "start_time": "2022-01-25T21:56:49.283Z"
   },
   {
    "duration": 52,
    "start_time": "2022-01-25T21:56:49.298Z"
   },
   {
    "duration": 12,
    "start_time": "2022-01-25T21:56:49.352Z"
   },
   {
    "duration": 16,
    "start_time": "2022-01-25T21:56:49.366Z"
   },
   {
    "duration": 61,
    "start_time": "2022-01-25T21:56:49.388Z"
   },
   {
    "duration": 24,
    "start_time": "2022-01-25T21:56:49.453Z"
   },
   {
    "duration": 14,
    "start_time": "2022-01-25T21:56:49.480Z"
   },
   {
    "duration": 53,
    "start_time": "2022-01-25T21:56:49.496Z"
   },
   {
    "duration": 5,
    "start_time": "2022-01-25T21:56:49.553Z"
   },
   {
    "duration": 18,
    "start_time": "2022-01-25T21:56:49.562Z"
   },
   {
    "duration": 1009,
    "start_time": "2022-01-25T21:56:49.583Z"
   },
   {
    "duration": 7,
    "start_time": "2022-01-25T21:56:50.595Z"
   },
   {
    "duration": 4440,
    "start_time": "2022-01-25T21:56:50.604Z"
   },
   {
    "duration": 28,
    "start_time": "2022-01-25T21:57:07.094Z"
   },
   {
    "duration": 7,
    "start_time": "2022-01-25T21:57:18.012Z"
   },
   {
    "duration": 4408,
    "start_time": "2022-01-25T21:57:19.506Z"
   },
   {
    "duration": 17,
    "start_time": "2022-01-25T21:57:26.689Z"
   },
   {
    "duration": 6,
    "start_time": "2022-01-25T21:57:36.216Z"
   },
   {
    "duration": 4215,
    "start_time": "2022-01-25T21:57:37.819Z"
   },
   {
    "duration": 15,
    "start_time": "2022-01-25T21:58:11.856Z"
   },
   {
    "duration": 18,
    "start_time": "2022-01-25T22:04:28.580Z"
   },
   {
    "duration": 3,
    "start_time": "2022-01-25T22:06:29.117Z"
   },
   {
    "duration": 35,
    "start_time": "2022-01-25T22:12:26.103Z"
   },
   {
    "duration": 11,
    "start_time": "2022-01-25T22:36:49.215Z"
   },
   {
    "duration": 246,
    "start_time": "2022-01-25T22:39:08.243Z"
   },
   {
    "duration": 5,
    "start_time": "2022-01-25T22:39:17.080Z"
   },
   {
    "duration": 27,
    "start_time": "2022-01-25T22:39:18.958Z"
   },
   {
    "duration": 31,
    "start_time": "2022-01-25T22:41:39.426Z"
   },
   {
    "duration": 29,
    "start_time": "2022-01-25T22:48:54.578Z"
   },
   {
    "duration": 10,
    "start_time": "2022-01-25T22:58:11.589Z"
   },
   {
    "duration": 6,
    "start_time": "2022-01-25T22:59:01.235Z"
   },
   {
    "duration": 6,
    "start_time": "2022-01-25T22:59:18.090Z"
   },
   {
    "duration": 7,
    "start_time": "2022-01-25T23:00:06.585Z"
   },
   {
    "duration": 4,
    "start_time": "2022-01-25T23:12:33.346Z"
   },
   {
    "duration": 69,
    "start_time": "2022-01-25T23:12:33.352Z"
   },
   {
    "duration": 25,
    "start_time": "2022-01-25T23:12:33.424Z"
   },
   {
    "duration": 19,
    "start_time": "2022-01-25T23:12:33.453Z"
   },
   {
    "duration": 80,
    "start_time": "2022-01-25T23:12:33.474Z"
   },
   {
    "duration": 12,
    "start_time": "2022-01-25T23:12:33.558Z"
   },
   {
    "duration": 17,
    "start_time": "2022-01-25T23:12:33.572Z"
   },
   {
    "duration": 39,
    "start_time": "2022-01-25T23:12:33.593Z"
   },
   {
    "duration": 25,
    "start_time": "2022-01-25T23:12:33.635Z"
   },
   {
    "duration": 24,
    "start_time": "2022-01-25T23:12:33.662Z"
   },
   {
    "duration": 49,
    "start_time": "2022-01-25T23:12:33.689Z"
   },
   {
    "duration": 6,
    "start_time": "2022-01-25T23:12:33.740Z"
   },
   {
    "duration": 15,
    "start_time": "2022-01-25T23:12:33.748Z"
   },
   {
    "duration": 8,
    "start_time": "2022-01-25T23:12:33.766Z"
   },
   {
    "duration": 11,
    "start_time": "2022-01-25T23:12:33.776Z"
   },
   {
    "duration": 55,
    "start_time": "2022-01-25T23:12:33.790Z"
   },
   {
    "duration": 11,
    "start_time": "2022-01-25T23:12:33.848Z"
   },
   {
    "duration": 15,
    "start_time": "2022-01-25T23:12:33.861Z"
   },
   {
    "duration": 13,
    "start_time": "2022-01-25T23:12:33.879Z"
   },
   {
    "duration": 59,
    "start_time": "2022-01-25T23:12:33.894Z"
   },
   {
    "duration": 14,
    "start_time": "2022-01-25T23:12:33.955Z"
   },
   {
    "duration": 11,
    "start_time": "2022-01-25T23:12:33.971Z"
   },
   {
    "duration": 3,
    "start_time": "2022-01-25T23:12:33.989Z"
   },
   {
    "duration": 18,
    "start_time": "2022-01-25T23:12:34.034Z"
   },
   {
    "duration": 4,
    "start_time": "2022-01-25T23:12:34.054Z"
   },
   {
    "duration": 34,
    "start_time": "2022-01-25T23:12:34.061Z"
   },
   {
    "duration": 972,
    "start_time": "2022-01-25T23:12:34.098Z"
   },
   {
    "duration": 6,
    "start_time": "2022-01-25T23:12:35.074Z"
   },
   {
    "duration": 3830,
    "start_time": "2022-01-25T23:12:35.083Z"
   },
   {
    "duration": 34,
    "start_time": "2022-01-25T23:12:38.916Z"
   },
   {
    "duration": 7,
    "start_time": "2022-01-25T23:12:38.953Z"
   },
   {
    "duration": 27,
    "start_time": "2022-01-25T23:12:38.962Z"
   },
   {
    "duration": 61,
    "start_time": "2022-01-25T23:12:38.991Z"
   },
   {
    "duration": 11,
    "start_time": "2022-01-25T23:12:39.054Z"
   },
   {
    "duration": 5,
    "start_time": "2022-01-25T23:12:39.067Z"
   },
   {
    "duration": 29,
    "start_time": "2022-01-25T23:12:39.074Z"
   },
   {
    "duration": 57,
    "start_time": "2022-01-25T23:12:39.105Z"
   },
   {
    "duration": 28,
    "start_time": "2022-01-25T23:12:39.164Z"
   },
   {
    "duration": 4,
    "start_time": "2022-01-25T23:27:26.796Z"
   },
   {
    "duration": 752,
    "start_time": "2022-02-03T10:43:07.121Z"
   },
   {
    "duration": 60,
    "start_time": "2022-02-03T10:43:07.877Z"
   },
   {
    "duration": 31,
    "start_time": "2022-02-03T10:43:07.940Z"
   },
   {
    "duration": 35,
    "start_time": "2022-02-03T10:43:07.974Z"
   },
   {
    "duration": 50,
    "start_time": "2022-02-03T10:43:08.024Z"
   },
   {
    "duration": 11,
    "start_time": "2022-02-03T10:43:08.076Z"
   },
   {
    "duration": 38,
    "start_time": "2022-02-03T10:43:08.090Z"
   },
   {
    "duration": 4,
    "start_time": "2022-02-03T10:43:08.131Z"
   },
   {
    "duration": 25,
    "start_time": "2022-02-03T10:43:08.139Z"
   },
   {
    "duration": 25,
    "start_time": "2022-02-03T10:43:08.167Z"
   },
   {
    "duration": 24,
    "start_time": "2022-02-03T10:43:08.224Z"
   },
   {
    "duration": 5,
    "start_time": "2022-02-03T10:43:08.250Z"
   },
   {
    "duration": 19,
    "start_time": "2022-02-03T10:43:08.258Z"
   },
   {
    "duration": 10,
    "start_time": "2022-02-03T10:43:08.279Z"
   },
   {
    "duration": 41,
    "start_time": "2022-02-03T10:43:08.291Z"
   },
   {
    "duration": 18,
    "start_time": "2022-02-03T10:43:08.334Z"
   },
   {
    "duration": 12,
    "start_time": "2022-02-03T10:43:08.354Z"
   },
   {
    "duration": 13,
    "start_time": "2022-02-03T10:43:08.368Z"
   },
   {
    "duration": 49,
    "start_time": "2022-02-03T10:43:08.383Z"
   },
   {
    "duration": 23,
    "start_time": "2022-02-03T10:43:08.435Z"
   },
   {
    "duration": 14,
    "start_time": "2022-02-03T10:43:08.460Z"
   },
   {
    "duration": 4,
    "start_time": "2022-02-03T10:43:08.476Z"
   },
   {
    "duration": 17,
    "start_time": "2022-02-03T10:43:08.523Z"
   },
   {
    "duration": 3,
    "start_time": "2022-02-03T10:43:08.542Z"
   },
   {
    "duration": 19,
    "start_time": "2022-02-03T10:43:08.547Z"
   },
   {
    "duration": 3,
    "start_time": "2022-02-03T10:43:08.568Z"
   },
   {
    "duration": 8,
    "start_time": "2022-02-03T10:43:08.575Z"
   },
   {
    "duration": 922,
    "start_time": "2022-02-03T10:43:08.586Z"
   },
   {
    "duration": 13,
    "start_time": "2022-02-03T10:43:09.510Z"
   },
   {
    "duration": 3909,
    "start_time": "2022-02-03T10:43:09.526Z"
   },
   {
    "duration": 20,
    "start_time": "2022-02-03T10:43:13.437Z"
   },
   {
    "duration": 7,
    "start_time": "2022-02-03T10:43:13.460Z"
   },
   {
    "duration": 63,
    "start_time": "2022-02-03T10:43:13.469Z"
   },
   {
    "duration": 28,
    "start_time": "2022-02-03T10:43:13.534Z"
   },
   {
    "duration": 10,
    "start_time": "2022-02-03T10:43:13.564Z"
   },
   {
    "duration": 4,
    "start_time": "2022-02-03T10:43:13.576Z"
   },
   {
    "duration": 65,
    "start_time": "2022-02-03T10:43:13.582Z"
   },
   {
    "duration": 34,
    "start_time": "2022-02-03T10:43:13.649Z"
   },
   {
    "duration": 51,
    "start_time": "2022-02-03T10:43:13.685Z"
   },
   {
    "duration": 632,
    "start_time": "2022-02-04T02:33:49.696Z"
   },
   {
    "duration": 57,
    "start_time": "2022-02-04T02:33:50.330Z"
   },
   {
    "duration": 22,
    "start_time": "2022-02-04T02:33:50.389Z"
   },
   {
    "duration": 13,
    "start_time": "2022-02-04T02:33:50.413Z"
   },
   {
    "duration": 33,
    "start_time": "2022-02-04T02:33:50.428Z"
   },
   {
    "duration": 10,
    "start_time": "2022-02-04T02:33:50.463Z"
   },
   {
    "duration": 39,
    "start_time": "2022-02-04T02:33:50.475Z"
   },
   {
    "duration": 13,
    "start_time": "2022-02-04T02:33:53.607Z"
   },
   {
    "duration": 26,
    "start_time": "2022-02-04T02:34:15.102Z"
   },
   {
    "duration": 5,
    "start_time": "2022-02-04T02:35:08.759Z"
   },
   {
    "duration": 21,
    "start_time": "2022-02-04T02:35:09.927Z"
   },
   {
    "duration": 5,
    "start_time": "2022-02-04T02:35:24.144Z"
   },
   {
    "duration": 11,
    "start_time": "2022-02-04T02:41:21.138Z"
   },
   {
    "duration": 9,
    "start_time": "2022-02-04T02:41:33.908Z"
   },
   {
    "duration": 11,
    "start_time": "2022-02-04T02:43:55.990Z"
   },
   {
    "duration": 10,
    "start_time": "2022-02-04T02:46:07.965Z"
   },
   {
    "duration": 3,
    "start_time": "2022-02-04T02:49:27.591Z"
   },
   {
    "duration": 9,
    "start_time": "2022-02-04T02:49:28.470Z"
   },
   {
    "duration": 12,
    "start_time": "2022-02-04T02:50:24.542Z"
   },
   {
    "duration": 4,
    "start_time": "2022-02-04T02:53:16.728Z"
   },
   {
    "duration": 13,
    "start_time": "2022-02-04T02:53:39.880Z"
   },
   {
    "duration": 23,
    "start_time": "2022-02-04T02:53:50.857Z"
   },
   {
    "duration": 315,
    "start_time": "2022-02-04T02:54:40.801Z"
   },
   {
    "duration": 6,
    "start_time": "2022-02-04T02:56:10.633Z"
   },
   {
    "duration": 6,
    "start_time": "2022-02-04T02:56:35.091Z"
   },
   {
    "duration": 11,
    "start_time": "2022-02-04T02:56:40.905Z"
   },
   {
    "duration": 5,
    "start_time": "2022-02-04T03:02:34.948Z"
   },
   {
    "duration": 14,
    "start_time": "2022-02-04T03:04:04.853Z"
   },
   {
    "duration": 17,
    "start_time": "2022-02-04T03:04:17.539Z"
   },
   {
    "duration": 20,
    "start_time": "2022-02-04T03:04:18.883Z"
   },
   {
    "duration": 18,
    "start_time": "2022-02-04T03:04:20.060Z"
   },
   {
    "duration": 5,
    "start_time": "2022-02-04T03:04:22.548Z"
   },
   {
    "duration": 13,
    "start_time": "2022-02-04T03:04:24.411Z"
   },
   {
    "duration": 7,
    "start_time": "2022-02-04T03:04:25.188Z"
   },
   {
    "duration": 10,
    "start_time": "2022-02-04T03:04:34.437Z"
   },
   {
    "duration": 20,
    "start_time": "2022-02-04T03:04:38.076Z"
   },
   {
    "duration": 15,
    "start_time": "2022-02-04T03:04:45.396Z"
   },
   {
    "duration": 11,
    "start_time": "2022-02-04T03:04:48.564Z"
   },
   {
    "duration": 12,
    "start_time": "2022-02-04T03:04:51.252Z"
   },
   {
    "duration": 10,
    "start_time": "2022-02-04T03:04:53.708Z"
   },
   {
    "duration": 18,
    "start_time": "2022-02-04T03:04:57.708Z"
   },
   {
    "duration": 11,
    "start_time": "2022-02-04T03:05:03.276Z"
   },
   {
    "duration": 10,
    "start_time": "2022-02-04T03:05:11.756Z"
   },
   {
    "duration": 14,
    "start_time": "2022-02-04T03:05:18.317Z"
   },
   {
    "duration": 8,
    "start_time": "2022-02-04T03:06:00.829Z"
   },
   {
    "duration": 722,
    "start_time": "2022-02-04T03:06:02.372Z"
   },
   {
    "duration": 6,
    "start_time": "2022-02-04T03:06:07.092Z"
   },
   {
    "duration": 3227,
    "start_time": "2022-02-04T03:06:08.404Z"
   },
   {
    "duration": 17,
    "start_time": "2022-02-04T03:06:17.316Z"
   },
   {
    "duration": 6,
    "start_time": "2022-02-04T03:06:33.461Z"
   },
   {
    "duration": 19,
    "start_time": "2022-02-04T03:06:35.756Z"
   },
   {
    "duration": 21,
    "start_time": "2022-02-04T03:07:11.157Z"
   },
   {
    "duration": 10,
    "start_time": "2022-02-04T03:07:22.741Z"
   },
   {
    "duration": 4,
    "start_time": "2022-02-04T03:07:25.805Z"
   },
   {
    "duration": 20,
    "start_time": "2022-02-04T03:07:29.133Z"
   },
   {
    "duration": 24,
    "start_time": "2022-02-04T03:07:32.790Z"
   },
   {
    "duration": 21,
    "start_time": "2022-02-04T03:07:35.837Z"
   },
   {
    "duration": 642,
    "start_time": "2022-02-04T03:17:26.414Z"
   },
   {
    "duration": 58,
    "start_time": "2022-02-04T03:17:27.058Z"
   },
   {
    "duration": 20,
    "start_time": "2022-02-04T03:17:27.119Z"
   },
   {
    "duration": 27,
    "start_time": "2022-02-04T03:17:27.141Z"
   },
   {
    "duration": 38,
    "start_time": "2022-02-04T03:17:27.170Z"
   },
   {
    "duration": 11,
    "start_time": "2022-02-04T03:17:27.210Z"
   },
   {
    "duration": 11,
    "start_time": "2022-02-04T03:17:27.223Z"
   },
   {
    "duration": 16,
    "start_time": "2022-02-04T03:17:27.236Z"
   },
   {
    "duration": 55,
    "start_time": "2022-02-04T03:17:27.254Z"
   },
   {
    "duration": 4,
    "start_time": "2022-02-04T03:17:27.311Z"
   },
   {
    "duration": 28,
    "start_time": "2022-02-04T03:17:27.317Z"
   },
   {
    "duration": 8,
    "start_time": "2022-02-04T03:17:27.347Z"
   },
   {
    "duration": 34,
    "start_time": "2022-02-04T03:17:27.357Z"
   },
   {
    "duration": 11,
    "start_time": "2022-02-04T03:17:27.393Z"
   },
   {
    "duration": 13,
    "start_time": "2022-02-04T03:17:27.407Z"
   },
   {
    "duration": 22,
    "start_time": "2022-02-04T03:17:27.422Z"
   },
   {
    "duration": 14,
    "start_time": "2022-02-04T03:17:27.446Z"
   },
   {
    "duration": 21,
    "start_time": "2022-02-04T03:17:27.462Z"
   },
   {
    "duration": 16,
    "start_time": "2022-02-04T03:17:27.485Z"
   },
   {
    "duration": 17,
    "start_time": "2022-02-04T03:17:27.503Z"
   },
   {
    "duration": 22,
    "start_time": "2022-02-04T03:17:27.522Z"
   },
   {
    "duration": 17,
    "start_time": "2022-02-04T03:17:27.546Z"
   },
   {
    "duration": 19,
    "start_time": "2022-02-04T03:17:27.567Z"
   },
   {
    "duration": 29,
    "start_time": "2022-02-04T03:17:27.589Z"
   },
   {
    "duration": 8,
    "start_time": "2022-02-04T03:17:27.620Z"
   },
   {
    "duration": 18,
    "start_time": "2022-02-04T03:17:27.630Z"
   },
   {
    "duration": 18,
    "start_time": "2022-02-04T03:17:27.650Z"
   },
   {
    "duration": 11,
    "start_time": "2022-02-04T03:17:27.671Z"
   },
   {
    "duration": 33,
    "start_time": "2022-02-04T03:17:27.684Z"
   },
   {
    "duration": 10,
    "start_time": "2022-02-04T03:17:27.719Z"
   },
   {
    "duration": 11,
    "start_time": "2022-02-04T03:17:27.731Z"
   },
   {
    "duration": 11,
    "start_time": "2022-02-04T03:17:27.744Z"
   },
   {
    "duration": 51,
    "start_time": "2022-02-04T03:17:27.757Z"
   },
   {
    "duration": 12,
    "start_time": "2022-02-04T03:17:27.810Z"
   },
   {
    "duration": 3,
    "start_time": "2022-02-04T03:17:27.823Z"
   },
   {
    "duration": 18,
    "start_time": "2022-02-04T03:17:27.827Z"
   },
   {
    "duration": 18,
    "start_time": "2022-02-04T03:17:27.847Z"
   },
   {
    "duration": 33,
    "start_time": "2022-02-04T03:17:27.867Z"
   },
   {
    "duration": 8,
    "start_time": "2022-02-04T03:17:27.902Z"
   },
   {
    "duration": 695,
    "start_time": "2022-02-04T03:17:27.912Z"
   },
   {
    "duration": 5,
    "start_time": "2022-02-04T03:17:28.609Z"
   },
   {
    "duration": 2942,
    "start_time": "2022-02-04T03:17:28.615Z"
   },
   {
    "duration": 18,
    "start_time": "2022-02-04T03:17:31.559Z"
   },
   {
    "duration": 5,
    "start_time": "2022-02-04T03:17:31.579Z"
   },
   {
    "duration": 43,
    "start_time": "2022-02-04T03:17:31.586Z"
   },
   {
    "duration": 22,
    "start_time": "2022-02-04T03:17:31.631Z"
   },
   {
    "duration": 9,
    "start_time": "2022-02-04T03:17:31.655Z"
   },
   {
    "duration": 3,
    "start_time": "2022-02-04T03:17:31.666Z"
   },
   {
    "duration": 52,
    "start_time": "2022-02-04T03:17:31.671Z"
   },
   {
    "duration": 42,
    "start_time": "2022-02-04T03:17:31.725Z"
   },
   {
    "duration": 20,
    "start_time": "2022-02-04T03:17:31.769Z"
   },
   {
    "duration": 750,
    "start_time": "2022-02-04T15:33:23.156Z"
   },
   {
    "duration": 65,
    "start_time": "2022-02-04T15:33:23.908Z"
   },
   {
    "duration": 32,
    "start_time": "2022-02-04T15:33:23.977Z"
   },
   {
    "duration": 34,
    "start_time": "2022-02-04T15:33:24.012Z"
   },
   {
    "duration": 46,
    "start_time": "2022-02-04T15:33:24.048Z"
   },
   {
    "duration": 37,
    "start_time": "2022-02-04T15:33:24.096Z"
   },
   {
    "duration": 13,
    "start_time": "2022-02-04T15:33:24.135Z"
   },
   {
    "duration": 17,
    "start_time": "2022-02-04T15:33:24.152Z"
   },
   {
    "duration": 74,
    "start_time": "2022-02-04T15:33:24.172Z"
   },
   {
    "duration": 6,
    "start_time": "2022-02-04T15:33:24.249Z"
   },
   {
    "duration": 34,
    "start_time": "2022-02-04T15:33:24.258Z"
   },
   {
    "duration": 6,
    "start_time": "2022-02-04T15:33:24.294Z"
   },
   {
    "duration": 43,
    "start_time": "2022-02-04T15:33:24.303Z"
   },
   {
    "duration": 14,
    "start_time": "2022-02-04T15:33:24.348Z"
   },
   {
    "duration": 10,
    "start_time": "2022-02-04T15:33:24.365Z"
   },
   {
    "duration": 15,
    "start_time": "2022-02-04T15:33:24.377Z"
   },
   {
    "duration": 12,
    "start_time": "2022-02-04T15:33:24.433Z"
   },
   {
    "duration": 4,
    "start_time": "2022-02-04T15:33:24.448Z"
   },
   {
    "duration": 16,
    "start_time": "2022-02-04T15:33:24.455Z"
   },
   {
    "duration": 9,
    "start_time": "2022-02-04T15:33:24.473Z"
   },
   {
    "duration": 48,
    "start_time": "2022-02-04T15:33:24.485Z"
   },
   {
    "duration": 19,
    "start_time": "2022-02-04T15:33:24.536Z"
   },
   {
    "duration": 21,
    "start_time": "2022-02-04T15:33:24.560Z"
   },
   {
    "duration": 62,
    "start_time": "2022-02-04T15:33:24.584Z"
   },
   {
    "duration": 21,
    "start_time": "2022-02-04T15:33:24.649Z"
   },
   {
    "duration": 6,
    "start_time": "2022-02-04T15:33:24.673Z"
   },
   {
    "duration": 22,
    "start_time": "2022-02-04T15:33:24.682Z"
   },
   {
    "duration": 29,
    "start_time": "2022-02-04T15:33:24.707Z"
   },
   {
    "duration": 15,
    "start_time": "2022-02-04T15:33:24.739Z"
   },
   {
    "duration": 26,
    "start_time": "2022-02-04T15:33:24.757Z"
   },
   {
    "duration": 13,
    "start_time": "2022-02-04T15:33:24.785Z"
   },
   {
    "duration": 44,
    "start_time": "2022-02-04T15:33:24.800Z"
   },
   {
    "duration": 13,
    "start_time": "2022-02-04T15:33:24.847Z"
   },
   {
    "duration": 23,
    "start_time": "2022-02-04T15:33:24.863Z"
   },
   {
    "duration": 46,
    "start_time": "2022-02-04T15:33:24.889Z"
   },
   {
    "duration": 11,
    "start_time": "2022-02-04T15:33:24.938Z"
   },
   {
    "duration": 17,
    "start_time": "2022-02-04T15:33:24.952Z"
   },
   {
    "duration": 5,
    "start_time": "2022-02-04T15:33:24.971Z"
   },
   {
    "duration": 1086,
    "start_time": "2022-02-04T15:33:24.979Z"
   },
   {
    "duration": 5,
    "start_time": "2022-02-04T15:33:26.068Z"
   },
   {
    "duration": 4005,
    "start_time": "2022-02-04T15:33:26.076Z"
   },
   {
    "duration": 22,
    "start_time": "2022-02-04T15:33:30.083Z"
   },
   {
    "duration": 28,
    "start_time": "2022-02-04T15:33:30.107Z"
   },
   {
    "duration": 33,
    "start_time": "2022-02-04T15:33:30.138Z"
   },
   {
    "duration": 33,
    "start_time": "2022-02-04T15:33:30.174Z"
   },
   {
    "duration": 35,
    "start_time": "2022-02-04T15:33:30.209Z"
   },
   {
    "duration": 7,
    "start_time": "2022-02-04T15:33:30.246Z"
   },
   {
    "duration": 38,
    "start_time": "2022-02-04T15:33:30.256Z"
   },
   {
    "duration": 65,
    "start_time": "2022-02-04T15:33:30.296Z"
   },
   {
    "duration": 29,
    "start_time": "2022-02-04T15:33:30.364Z"
   }
  ],
  "kernelspec": {
   "display_name": "Python 3",
   "language": "python",
   "name": "python3"
  },
  "language_info": {
   "codemirror_mode": {
    "name": "ipython",
    "version": 3
   },
   "file_extension": ".py",
   "mimetype": "text/x-python",
   "name": "python",
   "nbconvert_exporter": "python",
   "pygments_lexer": "ipython3",
   "version": "3.8.8"
  },
  "toc": {
   "base_numbering": 1,
   "nav_menu": {},
   "number_sections": true,
   "sideBar": true,
   "skip_h1_title": true,
   "title_cell": "Table of Contents",
   "title_sidebar": "Contents",
   "toc_cell": false,
   "toc_position": {},
   "toc_section_display": true,
   "toc_window_display": false
  }
 },
 "nbformat": 4,
 "nbformat_minor": 2
}
