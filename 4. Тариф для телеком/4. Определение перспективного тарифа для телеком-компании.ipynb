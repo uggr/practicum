{
 "cells": [
  {
   "cell_type": "markdown",
   "id": "c5541699",
   "metadata": {},
   "source": [
    "# Определение перспективного тарифа для телеком-компании"
   ]
  },
  {
   "cell_type": "markdown",
   "id": "ba6dccc2",
   "metadata": {},
   "source": [
    "## Описание проекта\n",
    "\n",
    "Вы аналитик компании «Мегалайн» — федерального оператора сотовой связи. Клиентам предлагают два тарифных плана: «Смарт» и «Ультра». Чтобы скорректировать рекламный бюджет, коммерческий департамент хочет понять, какой тариф приносит больше денег.\n",
    "\n",
    "Вам предстоит сделать предварительный анализ тарифов на небольшой выборке клиентов. В вашем распоряжении данные 500 пользователей «Мегалайна»: кто они, откуда, каким тарифом пользуются, сколько звонков и сообщений каждый отправил за 2018 год. Нужно проанализировать поведение клиентов и сделать вывод — какой тариф лучше.\n",
    "\n",
    "## Описание тарифов\n",
    "\n",
    "### Тариф «Смарт»\n",
    "\n",
    "1. Ежемесячная плата: 550 рублей\n",
    "2. Включено 500 минут разговора, 50 сообщений и 15 Гб интернет-трафика\n",
    "3. Стоимость услуг сверх тарифного пакета:\n",
    "- минута разговора: 3 рубля\n",
    "- сообщение: 3 рубля\n",
    "- 1 Гб интернет-трафика: 200 рублей\n",
    "\n",
    "### Тариф «Ультра»\n",
    "1. Ежемесячная плата: 1950 рублей\n",
    "2. Включено 3000 минут разговора, 1000 сообщений и 30 Гб интернет-трафика\n",
    "3. Стоимость услуг сверх тарифного пакета:\n",
    "- минута разговора: 1 рубль\n",
    "- сообщение: 1 рубль\n",
    "- 1 Гб интернет-трафика: 150 рублей\n",
    "\n",
    "**Примечание:**\n",
    "\n",
    "«Мегалайн» всегда округляет секунды до минут, а мегабайты — до гигабайт. Каждый звонок округляется отдельно: даже если он длился всего 1 секунду, будет засчитан как 1 минута.\n",
    "\n",
    "Для веб-трафика отдельные сессии не считаются. Вместо этого общая сумма за месяц округляется в бо́льшую сторону. Если абонент использует 1025 мегабайт в этом месяце, с него возьмут плату за 2 гигабайта.\n",
    "\n",
    "**Задача**\n",
    "\n",
    "Скачать данные, подготовить их. Объединить в единый датасет. Проанализировать полученую таблицу. Сделать выводы."
   ]
  },
  {
   "cell_type": "markdown",
   "id": "a38e6d35",
   "metadata": {},
   "source": [
    "### Шаг 1. Откройте файлы с данными "
   ]
  },
  {
   "cell_type": "markdown",
   "id": "575e1780",
   "metadata": {},
   "source": [
    "### Загрузка библиотек"
   ]
  },
  {
   "cell_type": "code",
   "execution_count": 1,
   "id": "f3e957a1",
   "metadata": {},
   "outputs": [],
   "source": [
    "import pandas as pd\n",
    "import numpy as np\n",
    "from scipy import stats as st\n",
    "import matplotlib.pyplot as plt"
   ]
  },
  {
   "cell_type": "markdown",
   "id": "3cffc014",
   "metadata": {},
   "source": [
    "### Чтение файлов"
   ]
  },
  {
   "cell_type": "code",
   "execution_count": 2,
   "id": "3ece016a",
   "metadata": {},
   "outputs": [],
   "source": [
    "calls = pd.read_csv('/datasets/calls.csv')\n",
    "internet = pd.read_csv('/datasets/internet.csv')\n",
    "messages = pd.read_csv('/datasets/messages.csv')\n",
    "tariffs = pd.read_csv('/datasets/tariffs.csv')\n",
    "users = pd.read_csv('/datasets/users.csv')"
   ]
  },
  {
   "cell_type": "markdown",
   "id": "699da969",
   "metadata": {},
   "source": [
    "### Шаг 2. Подготовьте данные\n",
    "- Приведите данные к нужным типам;\n",
    "- Найдите и исправьте ошибки в данных, если они есть.\n",
    "\n",
    "Поясните, какие ошибки вы нашли и как их исправили. В данных вы найдёте звонки с нулевой продолжительностью. Это не ошибка: нулями обозначены пропущенные звонки, поэтому их не нужно удалять.\n",
    "\n",
    "Посчитайте для каждого пользователя:\n",
    "- количество сделанных звонков и израсходованных минут разговора по месяцам;\n",
    "- количество отправленных сообщений по месяцам;\n",
    "- объем израсходованного интернет-трафика по месяцам;\n",
    "- помесячную выручку с каждого пользователя (вычтите бесплатный лимит из суммарного количества звонков, сообщений и интернет-трафика; остаток умножьте на значение из тарифного плана; прибавьте абонентскую плату, соответствующую тарифному плану)."
   ]
  },
  {
   "cell_type": "markdown",
   "id": "e540d474",
   "metadata": {},
   "source": [
    "### Изучение первичных данных\n",
    "Создадим функцию для изученя основных характеристик таблиц"
   ]
  },
  {
   "cell_type": "code",
   "execution_count": 3,
   "id": "3048f798",
   "metadata": {},
   "outputs": [],
   "source": [
    "def research(data_file):\n",
    "    display(data_file.info())\n",
    "    print('Пропуски')\n",
    "    display(data_file.isna().sum())\n",
    "    print('Количество дубликатов', data_file.duplicated().sum())"
   ]
  },
  {
   "cell_type": "markdown",
   "id": "56bb696a",
   "metadata": {},
   "source": [
    "### Таблица users (информация о пользователях)"
   ]
  },
  {
   "cell_type": "code",
   "execution_count": 4,
   "id": "fa92e1fc",
   "metadata": {},
   "outputs": [
    {
     "data": {
      "text/html": [
       "<div>\n",
       "<style scoped>\n",
       "    .dataframe tbody tr th:only-of-type {\n",
       "        vertical-align: middle;\n",
       "    }\n",
       "\n",
       "    .dataframe tbody tr th {\n",
       "        vertical-align: top;\n",
       "    }\n",
       "\n",
       "    .dataframe thead th {\n",
       "        text-align: right;\n",
       "    }\n",
       "</style>\n",
       "<table border=\"1\" class=\"dataframe\">\n",
       "  <thead>\n",
       "    <tr style=\"text-align: right;\">\n",
       "      <th></th>\n",
       "      <th>user_id</th>\n",
       "      <th>age</th>\n",
       "      <th>churn_date</th>\n",
       "      <th>city</th>\n",
       "      <th>first_name</th>\n",
       "      <th>last_name</th>\n",
       "      <th>reg_date</th>\n",
       "      <th>tariff</th>\n",
       "    </tr>\n",
       "  </thead>\n",
       "  <tbody>\n",
       "    <tr>\n",
       "      <td>0</td>\n",
       "      <td>1000</td>\n",
       "      <td>52</td>\n",
       "      <td>NaN</td>\n",
       "      <td>Краснодар</td>\n",
       "      <td>Рафаил</td>\n",
       "      <td>Верещагин</td>\n",
       "      <td>2018-05-25</td>\n",
       "      <td>ultra</td>\n",
       "    </tr>\n",
       "    <tr>\n",
       "      <td>1</td>\n",
       "      <td>1001</td>\n",
       "      <td>41</td>\n",
       "      <td>NaN</td>\n",
       "      <td>Москва</td>\n",
       "      <td>Иван</td>\n",
       "      <td>Ежов</td>\n",
       "      <td>2018-11-01</td>\n",
       "      <td>smart</td>\n",
       "    </tr>\n",
       "    <tr>\n",
       "      <td>2</td>\n",
       "      <td>1002</td>\n",
       "      <td>59</td>\n",
       "      <td>NaN</td>\n",
       "      <td>Стерлитамак</td>\n",
       "      <td>Евгений</td>\n",
       "      <td>Абрамович</td>\n",
       "      <td>2018-06-17</td>\n",
       "      <td>smart</td>\n",
       "    </tr>\n",
       "    <tr>\n",
       "      <td>3</td>\n",
       "      <td>1003</td>\n",
       "      <td>23</td>\n",
       "      <td>NaN</td>\n",
       "      <td>Москва</td>\n",
       "      <td>Белла</td>\n",
       "      <td>Белякова</td>\n",
       "      <td>2018-08-17</td>\n",
       "      <td>ultra</td>\n",
       "    </tr>\n",
       "    <tr>\n",
       "      <td>4</td>\n",
       "      <td>1004</td>\n",
       "      <td>68</td>\n",
       "      <td>NaN</td>\n",
       "      <td>Новокузнецк</td>\n",
       "      <td>Татьяна</td>\n",
       "      <td>Авдеенко</td>\n",
       "      <td>2018-05-14</td>\n",
       "      <td>ultra</td>\n",
       "    </tr>\n",
       "  </tbody>\n",
       "</table>\n",
       "</div>"
      ],
      "text/plain": [
       "   user_id  age churn_date         city first_name  last_name    reg_date  \\\n",
       "0     1000   52        NaN    Краснодар     Рафаил  Верещагин  2018-05-25   \n",
       "1     1001   41        NaN       Москва       Иван       Ежов  2018-11-01   \n",
       "2     1002   59        NaN  Стерлитамак    Евгений  Абрамович  2018-06-17   \n",
       "3     1003   23        NaN       Москва      Белла   Белякова  2018-08-17   \n",
       "4     1004   68        NaN  Новокузнецк    Татьяна   Авдеенко  2018-05-14   \n",
       "\n",
       "  tariff  \n",
       "0  ultra  \n",
       "1  smart  \n",
       "2  smart  \n",
       "3  ultra  \n",
       "4  ultra  "
      ]
     },
     "execution_count": 4,
     "metadata": {},
     "output_type": "execute_result"
    }
   ],
   "source": [
    "users.head()"
   ]
  },
  {
   "cell_type": "code",
   "execution_count": 5,
   "id": "4395ab5f",
   "metadata": {},
   "outputs": [
    {
     "name": "stdout",
     "output_type": "stream",
     "text": [
      "<class 'pandas.core.frame.DataFrame'>\n",
      "RangeIndex: 500 entries, 0 to 499\n",
      "Data columns (total 8 columns):\n",
      "user_id       500 non-null int64\n",
      "age           500 non-null int64\n",
      "churn_date    38 non-null object\n",
      "city          500 non-null object\n",
      "first_name    500 non-null object\n",
      "last_name     500 non-null object\n",
      "reg_date      500 non-null object\n",
      "tariff        500 non-null object\n",
      "dtypes: int64(2), object(6)\n",
      "memory usage: 31.4+ KB\n"
     ]
    },
    {
     "data": {
      "text/plain": [
       "None"
      ]
     },
     "metadata": {},
     "output_type": "display_data"
    },
    {
     "name": "stdout",
     "output_type": "stream",
     "text": [
      "Пропуски\n"
     ]
    },
    {
     "data": {
      "text/plain": [
       "user_id         0\n",
       "age             0\n",
       "churn_date    462\n",
       "city            0\n",
       "first_name      0\n",
       "last_name       0\n",
       "reg_date        0\n",
       "tariff          0\n",
       "dtype: int64"
      ]
     },
     "metadata": {},
     "output_type": "display_data"
    },
    {
     "name": "stdout",
     "output_type": "stream",
     "text": [
      "Количество дубликатов 0\n"
     ]
    }
   ],
   "source": [
    "research(users)"
   ]
  },
  {
   "cell_type": "markdown",
   "id": "5d469a19",
   "metadata": {},
   "source": [
    "Таблица users (информация о пользователях):\n",
    "- `user_id` — уникальный идентификатор пользователя\n",
    "- `first_name` — имя пользователя\n",
    "- `last_name` — фамилия пользователя\n",
    "- `age` — возраст пользователя (годы)\n",
    "- `reg_date` — дата подключения тарифа (день, месяц, год)\n",
    "- `churn_date` — дата прекращения пользования тарифом (если значение пропущено, то тариф ещё действовал на момент выгрузки данных)\n",
    "- `city` — город проживания пользователя\n",
    "- `tarif` — название тарифного плана\n",
    "\n",
    "В таблице представлены данные о 500 уникальных пользователях. Обнаружено 462 пропуска в колонке даты прекращения пользования тарифом. С ними ничего делать не будем.\n",
    "В `churn_date` и `reg_date` поменяем тип данных на `datetime64`"
   ]
  },
  {
   "cell_type": "code",
   "execution_count": 6,
   "id": "3fdc736a",
   "metadata": {},
   "outputs": [],
   "source": [
    "# перевод `churn_date` и `reg_date` в datetime64\n",
    "users['churn_date'] = pd.to_datetime(users['churn_date'], format='%Y-%m-%d')\n",
    "users['reg_date'] = pd.to_datetime(users['reg_date'], format='%Y-%m-%d')"
   ]
  },
  {
   "cell_type": "markdown",
   "id": "00b72528",
   "metadata": {},
   "source": [
    "Сохраним необходимые данные в отдельную таблицу"
   ]
  },
  {
   "cell_type": "code",
   "execution_count": 7,
   "id": "f64e9c27",
   "metadata": {},
   "outputs": [],
   "source": [
    "users_info = users[['user_id','city','tariff']]"
   ]
  },
  {
   "cell_type": "code",
   "execution_count": 8,
   "id": "a3e493b6",
   "metadata": {},
   "outputs": [
    {
     "data": {
      "text/html": [
       "<div>\n",
       "<style scoped>\n",
       "    .dataframe tbody tr th:only-of-type {\n",
       "        vertical-align: middle;\n",
       "    }\n",
       "\n",
       "    .dataframe tbody tr th {\n",
       "        vertical-align: top;\n",
       "    }\n",
       "\n",
       "    .dataframe thead th {\n",
       "        text-align: right;\n",
       "    }\n",
       "</style>\n",
       "<table border=\"1\" class=\"dataframe\">\n",
       "  <thead>\n",
       "    <tr style=\"text-align: right;\">\n",
       "      <th></th>\n",
       "      <th>user_id</th>\n",
       "      <th>city</th>\n",
       "      <th>tariff</th>\n",
       "    </tr>\n",
       "  </thead>\n",
       "  <tbody>\n",
       "    <tr>\n",
       "      <td>0</td>\n",
       "      <td>1000</td>\n",
       "      <td>Краснодар</td>\n",
       "      <td>ultra</td>\n",
       "    </tr>\n",
       "    <tr>\n",
       "      <td>1</td>\n",
       "      <td>1001</td>\n",
       "      <td>Москва</td>\n",
       "      <td>smart</td>\n",
       "    </tr>\n",
       "    <tr>\n",
       "      <td>2</td>\n",
       "      <td>1002</td>\n",
       "      <td>Стерлитамак</td>\n",
       "      <td>smart</td>\n",
       "    </tr>\n",
       "    <tr>\n",
       "      <td>3</td>\n",
       "      <td>1003</td>\n",
       "      <td>Москва</td>\n",
       "      <td>ultra</td>\n",
       "    </tr>\n",
       "    <tr>\n",
       "      <td>4</td>\n",
       "      <td>1004</td>\n",
       "      <td>Новокузнецк</td>\n",
       "      <td>ultra</td>\n",
       "    </tr>\n",
       "  </tbody>\n",
       "</table>\n",
       "</div>"
      ],
      "text/plain": [
       "   user_id         city tariff\n",
       "0     1000    Краснодар  ultra\n",
       "1     1001       Москва  smart\n",
       "2     1002  Стерлитамак  smart\n",
       "3     1003       Москва  ultra\n",
       "4     1004  Новокузнецк  ultra"
      ]
     },
     "execution_count": 8,
     "metadata": {},
     "output_type": "execute_result"
    }
   ],
   "source": [
    "users_info.head()"
   ]
  },
  {
   "cell_type": "markdown",
   "id": "7a27d6fb",
   "metadata": {},
   "source": [
    "### Таблица `tariffs` (информация о тарифах)"
   ]
  },
  {
   "cell_type": "code",
   "execution_count": 9,
   "id": "64a5f83f",
   "metadata": {},
   "outputs": [
    {
     "data": {
      "text/html": [
       "<div>\n",
       "<style scoped>\n",
       "    .dataframe tbody tr th:only-of-type {\n",
       "        vertical-align: middle;\n",
       "    }\n",
       "\n",
       "    .dataframe tbody tr th {\n",
       "        vertical-align: top;\n",
       "    }\n",
       "\n",
       "    .dataframe thead th {\n",
       "        text-align: right;\n",
       "    }\n",
       "</style>\n",
       "<table border=\"1\" class=\"dataframe\">\n",
       "  <thead>\n",
       "    <tr style=\"text-align: right;\">\n",
       "      <th></th>\n",
       "      <th>messages_included</th>\n",
       "      <th>mb_per_month_included</th>\n",
       "      <th>minutes_included</th>\n",
       "      <th>rub_monthly_fee</th>\n",
       "      <th>rub_per_gb</th>\n",
       "      <th>rub_per_message</th>\n",
       "      <th>rub_per_minute</th>\n",
       "      <th>tariff_name</th>\n",
       "    </tr>\n",
       "  </thead>\n",
       "  <tbody>\n",
       "    <tr>\n",
       "      <td>0</td>\n",
       "      <td>50</td>\n",
       "      <td>15360</td>\n",
       "      <td>500</td>\n",
       "      <td>550</td>\n",
       "      <td>200</td>\n",
       "      <td>3</td>\n",
       "      <td>3</td>\n",
       "      <td>smart</td>\n",
       "    </tr>\n",
       "    <tr>\n",
       "      <td>1</td>\n",
       "      <td>1000</td>\n",
       "      <td>30720</td>\n",
       "      <td>3000</td>\n",
       "      <td>1950</td>\n",
       "      <td>150</td>\n",
       "      <td>1</td>\n",
       "      <td>1</td>\n",
       "      <td>ultra</td>\n",
       "    </tr>\n",
       "  </tbody>\n",
       "</table>\n",
       "</div>"
      ],
      "text/plain": [
       "   messages_included  mb_per_month_included  minutes_included  \\\n",
       "0                 50                  15360               500   \n",
       "1               1000                  30720              3000   \n",
       "\n",
       "   rub_monthly_fee  rub_per_gb  rub_per_message  rub_per_minute tariff_name  \n",
       "0              550         200                3               3       smart  \n",
       "1             1950         150                1               1       ultra  "
      ]
     },
     "execution_count": 9,
     "metadata": {},
     "output_type": "execute_result"
    }
   ],
   "source": [
    "tariffs"
   ]
  },
  {
   "cell_type": "markdown",
   "id": "b0f46c05",
   "metadata": {},
   "source": [
    "Таблица **tariffs** (информация о тарифах):\n",
    "- `tariff_name` — название тарифа\n",
    "- `rub_monthly_fee` — ежемесячная абонентская плата в рублях\n",
    "- `minutes_included` — количество минут разговора в месяц, включённых в абонентскую плату\n",
    "- `messages_included` — количество сообщений в месяц, включённых в абонентскую плату\n",
    "- `mb_per_month_included` — объём интернет-трафика, включённого в абонентскую плату (в мегабайтах)\n",
    "- `rub_per_minute` — стоимость минуты разговора сверх тарифного пакета (например, если в тарифе 100 минут разговора в месяц, то со 101 минуты будет взиматься плата)\n",
    "- `rub_per_message` — стоимость отправки сообщения сверх тарифного пакета\n",
    "- `rub_per_gb` — стоимость дополнительного гигабайта интернет-трафика сверх тарифного пакета (1 гигабайт = 1024 мегабайта)\n",
    "\n",
    "В таблице предсталены характеристики двух тарифов smart и ultra.\n",
    "Переведем объём мегабайт интернет-трафика, включённого в абонентскую плату в гигабайты"
   ]
  },
  {
   "cell_type": "code",
   "execution_count": 10,
   "id": "ca1be704",
   "metadata": {},
   "outputs": [],
   "source": [
    "tariffs['gb_per_month_included'] = tariffs['mb_per_month_included']/1024"
   ]
  },
  {
   "cell_type": "markdown",
   "id": "f05aa598",
   "metadata": {},
   "source": [
    "### Таблица `calls` (информация о звонках)"
   ]
  },
  {
   "cell_type": "code",
   "execution_count": 11,
   "id": "225f8f06",
   "metadata": {},
   "outputs": [
    {
     "data": {
      "text/html": [
       "<div>\n",
       "<style scoped>\n",
       "    .dataframe tbody tr th:only-of-type {\n",
       "        vertical-align: middle;\n",
       "    }\n",
       "\n",
       "    .dataframe tbody tr th {\n",
       "        vertical-align: top;\n",
       "    }\n",
       "\n",
       "    .dataframe thead th {\n",
       "        text-align: right;\n",
       "    }\n",
       "</style>\n",
       "<table border=\"1\" class=\"dataframe\">\n",
       "  <thead>\n",
       "    <tr style=\"text-align: right;\">\n",
       "      <th></th>\n",
       "      <th>id</th>\n",
       "      <th>call_date</th>\n",
       "      <th>duration</th>\n",
       "      <th>user_id</th>\n",
       "    </tr>\n",
       "  </thead>\n",
       "  <tbody>\n",
       "    <tr>\n",
       "      <td>0</td>\n",
       "      <td>1000_0</td>\n",
       "      <td>2018-07-25</td>\n",
       "      <td>0.00</td>\n",
       "      <td>1000</td>\n",
       "    </tr>\n",
       "    <tr>\n",
       "      <td>1</td>\n",
       "      <td>1000_1</td>\n",
       "      <td>2018-08-17</td>\n",
       "      <td>0.00</td>\n",
       "      <td>1000</td>\n",
       "    </tr>\n",
       "    <tr>\n",
       "      <td>2</td>\n",
       "      <td>1000_2</td>\n",
       "      <td>2018-06-11</td>\n",
       "      <td>2.85</td>\n",
       "      <td>1000</td>\n",
       "    </tr>\n",
       "    <tr>\n",
       "      <td>3</td>\n",
       "      <td>1000_3</td>\n",
       "      <td>2018-09-21</td>\n",
       "      <td>13.80</td>\n",
       "      <td>1000</td>\n",
       "    </tr>\n",
       "    <tr>\n",
       "      <td>4</td>\n",
       "      <td>1000_4</td>\n",
       "      <td>2018-12-15</td>\n",
       "      <td>5.18</td>\n",
       "      <td>1000</td>\n",
       "    </tr>\n",
       "  </tbody>\n",
       "</table>\n",
       "</div>"
      ],
      "text/plain": [
       "       id   call_date  duration  user_id\n",
       "0  1000_0  2018-07-25      0.00     1000\n",
       "1  1000_1  2018-08-17      0.00     1000\n",
       "2  1000_2  2018-06-11      2.85     1000\n",
       "3  1000_3  2018-09-21     13.80     1000\n",
       "4  1000_4  2018-12-15      5.18     1000"
      ]
     },
     "execution_count": 11,
     "metadata": {},
     "output_type": "execute_result"
    }
   ],
   "source": [
    "calls.head()"
   ]
  },
  {
   "cell_type": "code",
   "execution_count": 12,
   "id": "64b9216e",
   "metadata": {
    "scrolled": false
   },
   "outputs": [
    {
     "name": "stdout",
     "output_type": "stream",
     "text": [
      "<class 'pandas.core.frame.DataFrame'>\n",
      "RangeIndex: 202607 entries, 0 to 202606\n",
      "Data columns (total 4 columns):\n",
      "id           202607 non-null object\n",
      "call_date    202607 non-null object\n",
      "duration     202607 non-null float64\n",
      "user_id      202607 non-null int64\n",
      "dtypes: float64(1), int64(1), object(2)\n",
      "memory usage: 6.2+ MB\n"
     ]
    },
    {
     "data": {
      "text/plain": [
       "None"
      ]
     },
     "metadata": {},
     "output_type": "display_data"
    },
    {
     "name": "stdout",
     "output_type": "stream",
     "text": [
      "Пропуски\n"
     ]
    },
    {
     "data": {
      "text/plain": [
       "id           0\n",
       "call_date    0\n",
       "duration     0\n",
       "user_id      0\n",
       "dtype: int64"
      ]
     },
     "metadata": {},
     "output_type": "display_data"
    },
    {
     "name": "stdout",
     "output_type": "stream",
     "text": [
      "Количество дубликатов 0\n"
     ]
    }
   ],
   "source": [
    "research(calls)"
   ]
  },
  {
   "cell_type": "markdown",
   "id": "e615fec8",
   "metadata": {},
   "source": [
    "Таблица **calls** (информация о звонках):\n",
    "- `id` — уникальный номер звонка\n",
    "- `call_date` — дата звонка\n",
    "- `duration` — длительность звонка в минутах\n",
    "- `user_id` — идентификатор пользователя, сделавшего звонок\n",
    "\n",
    "202607 строк и 4 колонки. Пропусков и дубликатов не обнаружено.\n",
    "\n",
    "В `call_date` потребуется поменять тип данных на `datetime64`\n",
    "\n",
    "Так как по условию «Мегалайн» всегда округляет секунды до минут, то потребуется округлить значения `duration` в большую сторону и поменять тип данных на `int`. Для сводной таблицы добавим колонку месяц"
   ]
  },
  {
   "cell_type": "code",
   "execution_count": 13,
   "id": "a00d7864",
   "metadata": {},
   "outputs": [],
   "source": [
    "# перевод даты звонка в datetime64\n",
    "calls['call_date'] = pd.to_datetime(calls['call_date'], format='%Y-%m-%d')\n",
    "# округление длительности звонка в минутах в большую сторону и перевод в int\n",
    "# calls['duration'] = calls['duration'].apply(np.ceil).astype(int)\n",
    "calls['duration'] = np.ceil(calls['duration']).astype(int)\n",
    "# добавление колонки месяца\n",
    "calls['month'] = calls['call_date'].dt.month "
   ]
  },
  {
   "cell_type": "code",
   "execution_count": 14,
   "id": "317cde2f",
   "metadata": {
    "scrolled": true
   },
   "outputs": [
    {
     "data": {
      "text/html": [
       "<div>\n",
       "<style scoped>\n",
       "    .dataframe tbody tr th:only-of-type {\n",
       "        vertical-align: middle;\n",
       "    }\n",
       "\n",
       "    .dataframe tbody tr th {\n",
       "        vertical-align: top;\n",
       "    }\n",
       "\n",
       "    .dataframe thead th {\n",
       "        text-align: right;\n",
       "    }\n",
       "</style>\n",
       "<table border=\"1\" class=\"dataframe\">\n",
       "  <thead>\n",
       "    <tr style=\"text-align: right;\">\n",
       "      <th></th>\n",
       "      <th>id</th>\n",
       "      <th>call_date</th>\n",
       "      <th>duration</th>\n",
       "      <th>user_id</th>\n",
       "      <th>month</th>\n",
       "    </tr>\n",
       "  </thead>\n",
       "  <tbody>\n",
       "    <tr>\n",
       "      <td>0</td>\n",
       "      <td>1000_0</td>\n",
       "      <td>2018-07-25</td>\n",
       "      <td>0</td>\n",
       "      <td>1000</td>\n",
       "      <td>7</td>\n",
       "    </tr>\n",
       "    <tr>\n",
       "      <td>1</td>\n",
       "      <td>1000_1</td>\n",
       "      <td>2018-08-17</td>\n",
       "      <td>0</td>\n",
       "      <td>1000</td>\n",
       "      <td>8</td>\n",
       "    </tr>\n",
       "    <tr>\n",
       "      <td>2</td>\n",
       "      <td>1000_2</td>\n",
       "      <td>2018-06-11</td>\n",
       "      <td>3</td>\n",
       "      <td>1000</td>\n",
       "      <td>6</td>\n",
       "    </tr>\n",
       "    <tr>\n",
       "      <td>3</td>\n",
       "      <td>1000_3</td>\n",
       "      <td>2018-09-21</td>\n",
       "      <td>14</td>\n",
       "      <td>1000</td>\n",
       "      <td>9</td>\n",
       "    </tr>\n",
       "    <tr>\n",
       "      <td>4</td>\n",
       "      <td>1000_4</td>\n",
       "      <td>2018-12-15</td>\n",
       "      <td>6</td>\n",
       "      <td>1000</td>\n",
       "      <td>12</td>\n",
       "    </tr>\n",
       "  </tbody>\n",
       "</table>\n",
       "</div>"
      ],
      "text/plain": [
       "       id  call_date  duration  user_id  month\n",
       "0  1000_0 2018-07-25         0     1000      7\n",
       "1  1000_1 2018-08-17         0     1000      8\n",
       "2  1000_2 2018-06-11         3     1000      6\n",
       "3  1000_3 2018-09-21        14     1000      9\n",
       "4  1000_4 2018-12-15         6     1000     12"
      ]
     },
     "execution_count": 14,
     "metadata": {},
     "output_type": "execute_result"
    }
   ],
   "source": [
    "calls.head()"
   ]
  },
  {
   "cell_type": "markdown",
   "id": "cc9fabbf",
   "metadata": {},
   "source": [
    "**Посчитайте для каждого пользователя**:\n",
    "- количество сделанных звонков и израсходованных минут разговора по месяцам;\n",
    "\n",
    "Суммируем данные о длительности звонков пользователей помесячно. Изменим названия колонок."
   ]
  },
  {
   "cell_type": "code",
   "execution_count": 15,
   "id": "adc7a018",
   "metadata": {},
   "outputs": [],
   "source": [
    "user_calls = calls.groupby(['user_id','month'],as_index=False).agg({'duration': ['count','sum']})\n",
    "user_calls.columns= ['user_id', 'month', 'calls', 'minutes']"
   ]
  },
  {
   "cell_type": "code",
   "execution_count": 16,
   "id": "4165b9e9",
   "metadata": {},
   "outputs": [
    {
     "data": {
      "text/html": [
       "<div>\n",
       "<style scoped>\n",
       "    .dataframe tbody tr th:only-of-type {\n",
       "        vertical-align: middle;\n",
       "    }\n",
       "\n",
       "    .dataframe tbody tr th {\n",
       "        vertical-align: top;\n",
       "    }\n",
       "\n",
       "    .dataframe thead th {\n",
       "        text-align: right;\n",
       "    }\n",
       "</style>\n",
       "<table border=\"1\" class=\"dataframe\">\n",
       "  <thead>\n",
       "    <tr style=\"text-align: right;\">\n",
       "      <th></th>\n",
       "      <th>user_id</th>\n",
       "      <th>month</th>\n",
       "      <th>calls</th>\n",
       "      <th>minutes</th>\n",
       "    </tr>\n",
       "  </thead>\n",
       "  <tbody>\n",
       "    <tr>\n",
       "      <td>0</td>\n",
       "      <td>1000</td>\n",
       "      <td>5</td>\n",
       "      <td>22</td>\n",
       "      <td>159</td>\n",
       "    </tr>\n",
       "    <tr>\n",
       "      <td>1</td>\n",
       "      <td>1000</td>\n",
       "      <td>6</td>\n",
       "      <td>43</td>\n",
       "      <td>172</td>\n",
       "    </tr>\n",
       "    <tr>\n",
       "      <td>2</td>\n",
       "      <td>1000</td>\n",
       "      <td>7</td>\n",
       "      <td>47</td>\n",
       "      <td>340</td>\n",
       "    </tr>\n",
       "    <tr>\n",
       "      <td>3</td>\n",
       "      <td>1000</td>\n",
       "      <td>8</td>\n",
       "      <td>52</td>\n",
       "      <td>408</td>\n",
       "    </tr>\n",
       "    <tr>\n",
       "      <td>4</td>\n",
       "      <td>1000</td>\n",
       "      <td>9</td>\n",
       "      <td>58</td>\n",
       "      <td>466</td>\n",
       "    </tr>\n",
       "  </tbody>\n",
       "</table>\n",
       "</div>"
      ],
      "text/plain": [
       "   user_id  month  calls  minutes\n",
       "0     1000      5     22      159\n",
       "1     1000      6     43      172\n",
       "2     1000      7     47      340\n",
       "3     1000      8     52      408\n",
       "4     1000      9     58      466"
      ]
     },
     "execution_count": 16,
     "metadata": {},
     "output_type": "execute_result"
    }
   ],
   "source": [
    "user_calls.head()"
   ]
  },
  {
   "cell_type": "markdown",
   "id": "322a7232",
   "metadata": {},
   "source": [
    "### Таблица `internet` (информация об интернет-сессиях)"
   ]
  },
  {
   "cell_type": "code",
   "execution_count": 17,
   "id": "f909dd08",
   "metadata": {
    "scrolled": true
   },
   "outputs": [
    {
     "data": {
      "text/html": [
       "<div>\n",
       "<style scoped>\n",
       "    .dataframe tbody tr th:only-of-type {\n",
       "        vertical-align: middle;\n",
       "    }\n",
       "\n",
       "    .dataframe tbody tr th {\n",
       "        vertical-align: top;\n",
       "    }\n",
       "\n",
       "    .dataframe thead th {\n",
       "        text-align: right;\n",
       "    }\n",
       "</style>\n",
       "<table border=\"1\" class=\"dataframe\">\n",
       "  <thead>\n",
       "    <tr style=\"text-align: right;\">\n",
       "      <th></th>\n",
       "      <th>Unnamed: 0</th>\n",
       "      <th>id</th>\n",
       "      <th>mb_used</th>\n",
       "      <th>session_date</th>\n",
       "      <th>user_id</th>\n",
       "    </tr>\n",
       "  </thead>\n",
       "  <tbody>\n",
       "    <tr>\n",
       "      <td>0</td>\n",
       "      <td>0</td>\n",
       "      <td>1000_0</td>\n",
       "      <td>112.95</td>\n",
       "      <td>2018-11-25</td>\n",
       "      <td>1000</td>\n",
       "    </tr>\n",
       "    <tr>\n",
       "      <td>1</td>\n",
       "      <td>1</td>\n",
       "      <td>1000_1</td>\n",
       "      <td>1052.81</td>\n",
       "      <td>2018-09-07</td>\n",
       "      <td>1000</td>\n",
       "    </tr>\n",
       "    <tr>\n",
       "      <td>2</td>\n",
       "      <td>2</td>\n",
       "      <td>1000_2</td>\n",
       "      <td>1197.26</td>\n",
       "      <td>2018-06-25</td>\n",
       "      <td>1000</td>\n",
       "    </tr>\n",
       "    <tr>\n",
       "      <td>3</td>\n",
       "      <td>3</td>\n",
       "      <td>1000_3</td>\n",
       "      <td>550.27</td>\n",
       "      <td>2018-08-22</td>\n",
       "      <td>1000</td>\n",
       "    </tr>\n",
       "    <tr>\n",
       "      <td>4</td>\n",
       "      <td>4</td>\n",
       "      <td>1000_4</td>\n",
       "      <td>302.56</td>\n",
       "      <td>2018-09-24</td>\n",
       "      <td>1000</td>\n",
       "    </tr>\n",
       "  </tbody>\n",
       "</table>\n",
       "</div>"
      ],
      "text/plain": [
       "   Unnamed: 0      id  mb_used session_date  user_id\n",
       "0           0  1000_0   112.95   2018-11-25     1000\n",
       "1           1  1000_1  1052.81   2018-09-07     1000\n",
       "2           2  1000_2  1197.26   2018-06-25     1000\n",
       "3           3  1000_3   550.27   2018-08-22     1000\n",
       "4           4  1000_4   302.56   2018-09-24     1000"
      ]
     },
     "execution_count": 17,
     "metadata": {},
     "output_type": "execute_result"
    }
   ],
   "source": [
    "internet.head()"
   ]
  },
  {
   "cell_type": "code",
   "execution_count": 18,
   "id": "6118bcb8",
   "metadata": {},
   "outputs": [],
   "source": [
    "# Удалим колонку `Unnamed: 0`\n",
    "internet.drop(columns=['Unnamed: 0'], inplace=True)"
   ]
  },
  {
   "cell_type": "code",
   "execution_count": 19,
   "id": "d4130107",
   "metadata": {
    "scrolled": false
   },
   "outputs": [
    {
     "name": "stdout",
     "output_type": "stream",
     "text": [
      "<class 'pandas.core.frame.DataFrame'>\n",
      "RangeIndex: 149396 entries, 0 to 149395\n",
      "Data columns (total 4 columns):\n",
      "id              149396 non-null object\n",
      "mb_used         149396 non-null float64\n",
      "session_date    149396 non-null object\n",
      "user_id         149396 non-null int64\n",
      "dtypes: float64(1), int64(1), object(2)\n",
      "memory usage: 4.6+ MB\n"
     ]
    },
    {
     "data": {
      "text/plain": [
       "None"
      ]
     },
     "metadata": {},
     "output_type": "display_data"
    },
    {
     "name": "stdout",
     "output_type": "stream",
     "text": [
      "Пропуски\n"
     ]
    },
    {
     "data": {
      "text/plain": [
       "id              0\n",
       "mb_used         0\n",
       "session_date    0\n",
       "user_id         0\n",
       "dtype: int64"
      ]
     },
     "metadata": {},
     "output_type": "display_data"
    },
    {
     "name": "stdout",
     "output_type": "stream",
     "text": [
      "Количество дубликатов 0\n"
     ]
    }
   ],
   "source": [
    "research(internet)"
   ]
  },
  {
   "cell_type": "markdown",
   "id": "3f44437f",
   "metadata": {},
   "source": [
    "Таблица **internet** (информация об интернет-сессиях):\n",
    "- `id` — уникальный номер сессии\n",
    "- `mb_used` — объём потраченного за сессию интернет-трафика (в мегабайтах)\n",
    "- `session_date` — дата интернет-сессии\n",
    "- `user_id` — идентификатор пользователя\n",
    "\n",
    "149396 строк и 5 колонок. Пропусков и дубликатов не обнаружено.\n",
    "\n",
    "В колонке `session_date` потребуется поменять тип данных на `datetime64`\n",
    "\n",
    "Так как по условию «Мегалайн» всегда округляет мегабайты — до гигабайт, потребуется суммировать значения `mb_used` помесячно и перевести в гигабайты."
   ]
  },
  {
   "cell_type": "code",
   "execution_count": 20,
   "id": "010b65a2",
   "metadata": {},
   "outputs": [],
   "source": [
    "# перевод даты интернет-сессии в datetime64\n",
    "internet['session_date'] = pd.to_datetime(internet['session_date'], format='%Y-%m-%d')\n",
    "# добавление колонки месяца\n",
    "internet['month'] = internet['session_date'].dt.month "
   ]
  },
  {
   "cell_type": "code",
   "execution_count": 21,
   "id": "eb573204",
   "metadata": {},
   "outputs": [
    {
     "data": {
      "text/html": [
       "<div>\n",
       "<style scoped>\n",
       "    .dataframe tbody tr th:only-of-type {\n",
       "        vertical-align: middle;\n",
       "    }\n",
       "\n",
       "    .dataframe tbody tr th {\n",
       "        vertical-align: top;\n",
       "    }\n",
       "\n",
       "    .dataframe thead th {\n",
       "        text-align: right;\n",
       "    }\n",
       "</style>\n",
       "<table border=\"1\" class=\"dataframe\">\n",
       "  <thead>\n",
       "    <tr style=\"text-align: right;\">\n",
       "      <th></th>\n",
       "      <th>id</th>\n",
       "      <th>mb_used</th>\n",
       "      <th>session_date</th>\n",
       "      <th>user_id</th>\n",
       "      <th>month</th>\n",
       "    </tr>\n",
       "  </thead>\n",
       "  <tbody>\n",
       "    <tr>\n",
       "      <td>0</td>\n",
       "      <td>1000_0</td>\n",
       "      <td>112.95</td>\n",
       "      <td>2018-11-25</td>\n",
       "      <td>1000</td>\n",
       "      <td>11</td>\n",
       "    </tr>\n",
       "    <tr>\n",
       "      <td>1</td>\n",
       "      <td>1000_1</td>\n",
       "      <td>1052.81</td>\n",
       "      <td>2018-09-07</td>\n",
       "      <td>1000</td>\n",
       "      <td>9</td>\n",
       "    </tr>\n",
       "    <tr>\n",
       "      <td>2</td>\n",
       "      <td>1000_2</td>\n",
       "      <td>1197.26</td>\n",
       "      <td>2018-06-25</td>\n",
       "      <td>1000</td>\n",
       "      <td>6</td>\n",
       "    </tr>\n",
       "    <tr>\n",
       "      <td>3</td>\n",
       "      <td>1000_3</td>\n",
       "      <td>550.27</td>\n",
       "      <td>2018-08-22</td>\n",
       "      <td>1000</td>\n",
       "      <td>8</td>\n",
       "    </tr>\n",
       "    <tr>\n",
       "      <td>4</td>\n",
       "      <td>1000_4</td>\n",
       "      <td>302.56</td>\n",
       "      <td>2018-09-24</td>\n",
       "      <td>1000</td>\n",
       "      <td>9</td>\n",
       "    </tr>\n",
       "  </tbody>\n",
       "</table>\n",
       "</div>"
      ],
      "text/plain": [
       "       id  mb_used session_date  user_id  month\n",
       "0  1000_0   112.95   2018-11-25     1000     11\n",
       "1  1000_1  1052.81   2018-09-07     1000      9\n",
       "2  1000_2  1197.26   2018-06-25     1000      6\n",
       "3  1000_3   550.27   2018-08-22     1000      8\n",
       "4  1000_4   302.56   2018-09-24     1000      9"
      ]
     },
     "execution_count": 21,
     "metadata": {},
     "output_type": "execute_result"
    }
   ],
   "source": [
    "internet.head()"
   ]
  },
  {
   "cell_type": "markdown",
   "id": "b0907807",
   "metadata": {},
   "source": [
    "**Посчитайте для каждого пользователя**:\n",
    "- объем израсходованного интернет-трафика по месяцам;\n",
    "\n",
    "Суммируем информацию об интернет сессиях пользователей помесячно"
   ]
  },
  {
   "cell_type": "code",
   "execution_count": 22,
   "id": "578121a6",
   "metadata": {},
   "outputs": [],
   "source": [
    "user_internet = internet.groupby(['user_id','month'], as_index = False).agg({'mb_used': ['sum']})\n",
    "user_internet.columns = ['user_id', 'month', 'mb_used']"
   ]
  },
  {
   "cell_type": "code",
   "execution_count": 23,
   "id": "3b1e4a1b",
   "metadata": {},
   "outputs": [
    {
     "data": {
      "text/html": [
       "<div>\n",
       "<style scoped>\n",
       "    .dataframe tbody tr th:only-of-type {\n",
       "        vertical-align: middle;\n",
       "    }\n",
       "\n",
       "    .dataframe tbody tr th {\n",
       "        vertical-align: top;\n",
       "    }\n",
       "\n",
       "    .dataframe thead th {\n",
       "        text-align: right;\n",
       "    }\n",
       "</style>\n",
       "<table border=\"1\" class=\"dataframe\">\n",
       "  <thead>\n",
       "    <tr style=\"text-align: right;\">\n",
       "      <th></th>\n",
       "      <th>user_id</th>\n",
       "      <th>month</th>\n",
       "      <th>mb_used</th>\n",
       "    </tr>\n",
       "  </thead>\n",
       "  <tbody>\n",
       "    <tr>\n",
       "      <td>0</td>\n",
       "      <td>1000</td>\n",
       "      <td>5</td>\n",
       "      <td>2253.49</td>\n",
       "    </tr>\n",
       "    <tr>\n",
       "      <td>1</td>\n",
       "      <td>1000</td>\n",
       "      <td>6</td>\n",
       "      <td>23233.77</td>\n",
       "    </tr>\n",
       "    <tr>\n",
       "      <td>2</td>\n",
       "      <td>1000</td>\n",
       "      <td>7</td>\n",
       "      <td>14003.64</td>\n",
       "    </tr>\n",
       "    <tr>\n",
       "      <td>3</td>\n",
       "      <td>1000</td>\n",
       "      <td>8</td>\n",
       "      <td>14055.93</td>\n",
       "    </tr>\n",
       "    <tr>\n",
       "      <td>4</td>\n",
       "      <td>1000</td>\n",
       "      <td>9</td>\n",
       "      <td>14568.91</td>\n",
       "    </tr>\n",
       "  </tbody>\n",
       "</table>\n",
       "</div>"
      ],
      "text/plain": [
       "   user_id  month   mb_used\n",
       "0     1000      5   2253.49\n",
       "1     1000      6  23233.77\n",
       "2     1000      7  14003.64\n",
       "3     1000      8  14055.93\n",
       "4     1000      9  14568.91"
      ]
     },
     "execution_count": 23,
     "metadata": {},
     "output_type": "execute_result"
    }
   ],
   "source": [
    "user_internet.head()"
   ]
  },
  {
   "cell_type": "markdown",
   "id": "a29dd1bb",
   "metadata": {},
   "source": [
    "Посчитаем количество потраченного интернет траффика в гигабайтах, переведем значения в `int`"
   ]
  },
  {
   "cell_type": "code",
   "execution_count": 24,
   "id": "8be4da57",
   "metadata": {},
   "outputs": [],
   "source": [
    "#user_internet['gb_used'] = user_internet['mb_used'].apply(lambda x: x//1024 + 1 if x%1024 > 0 else x//1024).astype(int)\n",
    "user_internet['gb_used'] = np.ceil(user_internet['mb_used'] / 1024).astype(int)"
   ]
  },
  {
   "cell_type": "code",
   "execution_count": 25,
   "id": "57875ca4",
   "metadata": {},
   "outputs": [],
   "source": [
    "#user_internet.drop(columns=['mb_used'], inplace=True)"
   ]
  },
  {
   "cell_type": "code",
   "execution_count": 26,
   "id": "e96a78f8",
   "metadata": {},
   "outputs": [
    {
     "data": {
      "text/html": [
       "<div>\n",
       "<style scoped>\n",
       "    .dataframe tbody tr th:only-of-type {\n",
       "        vertical-align: middle;\n",
       "    }\n",
       "\n",
       "    .dataframe tbody tr th {\n",
       "        vertical-align: top;\n",
       "    }\n",
       "\n",
       "    .dataframe thead th {\n",
       "        text-align: right;\n",
       "    }\n",
       "</style>\n",
       "<table border=\"1\" class=\"dataframe\">\n",
       "  <thead>\n",
       "    <tr style=\"text-align: right;\">\n",
       "      <th></th>\n",
       "      <th>user_id</th>\n",
       "      <th>month</th>\n",
       "      <th>mb_used</th>\n",
       "      <th>gb_used</th>\n",
       "    </tr>\n",
       "  </thead>\n",
       "  <tbody>\n",
       "    <tr>\n",
       "      <td>0</td>\n",
       "      <td>1000</td>\n",
       "      <td>5</td>\n",
       "      <td>2253.49</td>\n",
       "      <td>3</td>\n",
       "    </tr>\n",
       "    <tr>\n",
       "      <td>1</td>\n",
       "      <td>1000</td>\n",
       "      <td>6</td>\n",
       "      <td>23233.77</td>\n",
       "      <td>23</td>\n",
       "    </tr>\n",
       "    <tr>\n",
       "      <td>2</td>\n",
       "      <td>1000</td>\n",
       "      <td>7</td>\n",
       "      <td>14003.64</td>\n",
       "      <td>14</td>\n",
       "    </tr>\n",
       "    <tr>\n",
       "      <td>3</td>\n",
       "      <td>1000</td>\n",
       "      <td>8</td>\n",
       "      <td>14055.93</td>\n",
       "      <td>14</td>\n",
       "    </tr>\n",
       "    <tr>\n",
       "      <td>4</td>\n",
       "      <td>1000</td>\n",
       "      <td>9</td>\n",
       "      <td>14568.91</td>\n",
       "      <td>15</td>\n",
       "    </tr>\n",
       "  </tbody>\n",
       "</table>\n",
       "</div>"
      ],
      "text/plain": [
       "   user_id  month   mb_used  gb_used\n",
       "0     1000      5   2253.49        3\n",
       "1     1000      6  23233.77       23\n",
       "2     1000      7  14003.64       14\n",
       "3     1000      8  14055.93       14\n",
       "4     1000      9  14568.91       15"
      ]
     },
     "execution_count": 26,
     "metadata": {},
     "output_type": "execute_result"
    }
   ],
   "source": [
    "user_internet.head()"
   ]
  },
  {
   "cell_type": "code",
   "execution_count": 27,
   "id": "3f8462f1",
   "metadata": {},
   "outputs": [
    {
     "data": {
      "text/plain": [
       "Text(0.5, 0, 'Количество Гб')"
      ]
     },
     "execution_count": 27,
     "metadata": {},
     "output_type": "execute_result"
    },
    {
     "data": {
      "image/png": "[encoded data removed]",
      "text/plain": [
       "<Figure size 1008x432 with 1 Axes>"
      ]
     },
     "metadata": {
      "needs_background": "light"
     },
     "output_type": "display_data"
    }
   ],
   "source": [
    "user_internet.gb_used.hist(bins=50,figsize=(14, 6))\n",
    "\n",
    "plt.title('Ообъем израсходованного интернет-трафика')\n",
    "plt.ylabel('Количество значений')\n",
    "plt.xlabel('Количество Гб')"
   ]
  },
  {
   "cell_type": "code",
   "execution_count": 69,
   "id": "07896fe7",
   "metadata": {},
   "outputs": [
    {
     "data": {
      "text/plain": [
       "Text(0.5, 0, 'Количество Мб')"
      ]
     },
     "execution_count": 69,
     "metadata": {},
     "output_type": "execute_result"
    },
    {
     "data": {
      "image/png": "[encoded data removed]",
      "text/plain": [
       "<Figure size 1008x432 with 1 Axes>"
      ]
     },
     "metadata": {
      "needs_background": "light"
     },
     "output_type": "display_data"
    }
   ],
   "source": [
    "# Комментарий 2\n",
    "internet.mb_used.hist(bins=50,figsize=(14, 6))\n",
    "\n",
    "plt.title('Ообъем израсходованного интернет-трафика')\n",
    "plt.ylabel('Количество значений')\n",
    "plt.xlabel('Количество Мб')"
   ]
  },
  {
   "cell_type": "markdown",
   "id": "2c0ee8a6",
   "metadata": {},
   "source": [
    "### Таблица `messages` (информация о сообщениях)"
   ]
  },
  {
   "cell_type": "code",
   "execution_count": 29,
   "id": "f47606e3",
   "metadata": {},
   "outputs": [
    {
     "data": {
      "text/html": [
       "<div>\n",
       "<style scoped>\n",
       "    .dataframe tbody tr th:only-of-type {\n",
       "        vertical-align: middle;\n",
       "    }\n",
       "\n",
       "    .dataframe tbody tr th {\n",
       "        vertical-align: top;\n",
       "    }\n",
       "\n",
       "    .dataframe thead th {\n",
       "        text-align: right;\n",
       "    }\n",
       "</style>\n",
       "<table border=\"1\" class=\"dataframe\">\n",
       "  <thead>\n",
       "    <tr style=\"text-align: right;\">\n",
       "      <th></th>\n",
       "      <th>id</th>\n",
       "      <th>message_date</th>\n",
       "      <th>user_id</th>\n",
       "    </tr>\n",
       "  </thead>\n",
       "  <tbody>\n",
       "    <tr>\n",
       "      <td>0</td>\n",
       "      <td>1000_0</td>\n",
       "      <td>2018-06-27</td>\n",
       "      <td>1000</td>\n",
       "    </tr>\n",
       "    <tr>\n",
       "      <td>1</td>\n",
       "      <td>1000_1</td>\n",
       "      <td>2018-10-08</td>\n",
       "      <td>1000</td>\n",
       "    </tr>\n",
       "    <tr>\n",
       "      <td>2</td>\n",
       "      <td>1000_2</td>\n",
       "      <td>2018-08-04</td>\n",
       "      <td>1000</td>\n",
       "    </tr>\n",
       "    <tr>\n",
       "      <td>3</td>\n",
       "      <td>1000_3</td>\n",
       "      <td>2018-06-16</td>\n",
       "      <td>1000</td>\n",
       "    </tr>\n",
       "    <tr>\n",
       "      <td>4</td>\n",
       "      <td>1000_4</td>\n",
       "      <td>2018-12-05</td>\n",
       "      <td>1000</td>\n",
       "    </tr>\n",
       "  </tbody>\n",
       "</table>\n",
       "</div>"
      ],
      "text/plain": [
       "       id message_date  user_id\n",
       "0  1000_0   2018-06-27     1000\n",
       "1  1000_1   2018-10-08     1000\n",
       "2  1000_2   2018-08-04     1000\n",
       "3  1000_3   2018-06-16     1000\n",
       "4  1000_4   2018-12-05     1000"
      ]
     },
     "execution_count": 29,
     "metadata": {},
     "output_type": "execute_result"
    }
   ],
   "source": [
    "messages.head()"
   ]
  },
  {
   "cell_type": "code",
   "execution_count": 30,
   "id": "f6d9823b",
   "metadata": {},
   "outputs": [
    {
     "name": "stdout",
     "output_type": "stream",
     "text": [
      "<class 'pandas.core.frame.DataFrame'>\n",
      "RangeIndex: 123036 entries, 0 to 123035\n",
      "Data columns (total 3 columns):\n",
      "id              123036 non-null object\n",
      "message_date    123036 non-null object\n",
      "user_id         123036 non-null int64\n",
      "dtypes: int64(1), object(2)\n",
      "memory usage: 2.8+ MB\n"
     ]
    },
    {
     "data": {
      "text/plain": [
       "None"
      ]
     },
     "metadata": {},
     "output_type": "display_data"
    },
    {
     "name": "stdout",
     "output_type": "stream",
     "text": [
      "Пропуски\n"
     ]
    },
    {
     "data": {
      "text/plain": [
       "id              0\n",
       "message_date    0\n",
       "user_id         0\n",
       "dtype: int64"
      ]
     },
     "metadata": {},
     "output_type": "display_data"
    },
    {
     "name": "stdout",
     "output_type": "stream",
     "text": [
      "Количество дубликатов 0\n"
     ]
    }
   ],
   "source": [
    "research(messages)"
   ]
  },
  {
   "cell_type": "markdown",
   "id": "ed3c5b22",
   "metadata": {},
   "source": [
    "Таблица **messages** (информация о сообщениях):\n",
    "- `id` — уникальный номер сообщения\n",
    "- `message_date` — дата сообщения\n",
    "- `user_id` — идентификатор пользователя, отправившего сообщение\n",
    "\n",
    "123036 строк и 3 колонкb. Пропусков и дубликатов не обнаружено.\n",
    "\n",
    "В колонке `message_date` потребуется поменять тип данных на `datetime64`"
   ]
  },
  {
   "cell_type": "code",
   "execution_count": 31,
   "id": "812db7a8",
   "metadata": {},
   "outputs": [],
   "source": [
    "# перевод даты сообщения в datetime64\n",
    "messages['message_date'] = pd.to_datetime(messages['message_date'], format='%Y-%m-%d')\n",
    "# добавление колонки месяца\n",
    "messages['month'] = messages['message_date'].dt.month "
   ]
  },
  {
   "cell_type": "code",
   "execution_count": 32,
   "id": "78c0c16d",
   "metadata": {},
   "outputs": [
    {
     "data": {
      "text/html": [
       "<div>\n",
       "<style scoped>\n",
       "    .dataframe tbody tr th:only-of-type {\n",
       "        vertical-align: middle;\n",
       "    }\n",
       "\n",
       "    .dataframe tbody tr th {\n",
       "        vertical-align: top;\n",
       "    }\n",
       "\n",
       "    .dataframe thead th {\n",
       "        text-align: right;\n",
       "    }\n",
       "</style>\n",
       "<table border=\"1\" class=\"dataframe\">\n",
       "  <thead>\n",
       "    <tr style=\"text-align: right;\">\n",
       "      <th></th>\n",
       "      <th>id</th>\n",
       "      <th>message_date</th>\n",
       "      <th>user_id</th>\n",
       "      <th>month</th>\n",
       "    </tr>\n",
       "  </thead>\n",
       "  <tbody>\n",
       "    <tr>\n",
       "      <td>0</td>\n",
       "      <td>1000_0</td>\n",
       "      <td>2018-06-27</td>\n",
       "      <td>1000</td>\n",
       "      <td>6</td>\n",
       "    </tr>\n",
       "    <tr>\n",
       "      <td>1</td>\n",
       "      <td>1000_1</td>\n",
       "      <td>2018-10-08</td>\n",
       "      <td>1000</td>\n",
       "      <td>10</td>\n",
       "    </tr>\n",
       "    <tr>\n",
       "      <td>2</td>\n",
       "      <td>1000_2</td>\n",
       "      <td>2018-08-04</td>\n",
       "      <td>1000</td>\n",
       "      <td>8</td>\n",
       "    </tr>\n",
       "    <tr>\n",
       "      <td>3</td>\n",
       "      <td>1000_3</td>\n",
       "      <td>2018-06-16</td>\n",
       "      <td>1000</td>\n",
       "      <td>6</td>\n",
       "    </tr>\n",
       "    <tr>\n",
       "      <td>4</td>\n",
       "      <td>1000_4</td>\n",
       "      <td>2018-12-05</td>\n",
       "      <td>1000</td>\n",
       "      <td>12</td>\n",
       "    </tr>\n",
       "  </tbody>\n",
       "</table>\n",
       "</div>"
      ],
      "text/plain": [
       "       id message_date  user_id  month\n",
       "0  1000_0   2018-06-27     1000      6\n",
       "1  1000_1   2018-10-08     1000     10\n",
       "2  1000_2   2018-08-04     1000      8\n",
       "3  1000_3   2018-06-16     1000      6\n",
       "4  1000_4   2018-12-05     1000     12"
      ]
     },
     "execution_count": 32,
     "metadata": {},
     "output_type": "execute_result"
    }
   ],
   "source": [
    "messages.head()"
   ]
  },
  {
   "cell_type": "markdown",
   "id": "3966ee02",
   "metadata": {},
   "source": [
    "**Посчитайте для каждого пользователя**:\n",
    "- количество отправленных сообщений по месяцам;\n",
    "\n",
    "Сгруппируем информацию о сообщениях по пользователю и месяцу"
   ]
  },
  {
   "cell_type": "code",
   "execution_count": 33,
   "id": "34e101d4",
   "metadata": {},
   "outputs": [],
   "source": [
    "user_messages = messages.groupby(['user_id','month'],as_index=False).agg({'id':'count'})"
   ]
  },
  {
   "cell_type": "code",
   "execution_count": 34,
   "id": "ab6edf05",
   "metadata": {},
   "outputs": [],
   "source": [
    "user_messages.columns = ['user_id', 'month', 'messages']"
   ]
  },
  {
   "cell_type": "code",
   "execution_count": 35,
   "id": "79b26f4f",
   "metadata": {},
   "outputs": [
    {
     "data": {
      "text/html": [
       "<div>\n",
       "<style scoped>\n",
       "    .dataframe tbody tr th:only-of-type {\n",
       "        vertical-align: middle;\n",
       "    }\n",
       "\n",
       "    .dataframe tbody tr th {\n",
       "        vertical-align: top;\n",
       "    }\n",
       "\n",
       "    .dataframe thead th {\n",
       "        text-align: right;\n",
       "    }\n",
       "</style>\n",
       "<table border=\"1\" class=\"dataframe\">\n",
       "  <thead>\n",
       "    <tr style=\"text-align: right;\">\n",
       "      <th></th>\n",
       "      <th>user_id</th>\n",
       "      <th>month</th>\n",
       "      <th>messages</th>\n",
       "    </tr>\n",
       "  </thead>\n",
       "  <tbody>\n",
       "    <tr>\n",
       "      <td>0</td>\n",
       "      <td>1000</td>\n",
       "      <td>5</td>\n",
       "      <td>22</td>\n",
       "    </tr>\n",
       "    <tr>\n",
       "      <td>1</td>\n",
       "      <td>1000</td>\n",
       "      <td>6</td>\n",
       "      <td>60</td>\n",
       "    </tr>\n",
       "    <tr>\n",
       "      <td>2</td>\n",
       "      <td>1000</td>\n",
       "      <td>7</td>\n",
       "      <td>75</td>\n",
       "    </tr>\n",
       "    <tr>\n",
       "      <td>3</td>\n",
       "      <td>1000</td>\n",
       "      <td>8</td>\n",
       "      <td>81</td>\n",
       "    </tr>\n",
       "    <tr>\n",
       "      <td>4</td>\n",
       "      <td>1000</td>\n",
       "      <td>9</td>\n",
       "      <td>57</td>\n",
       "    </tr>\n",
       "  </tbody>\n",
       "</table>\n",
       "</div>"
      ],
      "text/plain": [
       "   user_id  month  messages\n",
       "0     1000      5        22\n",
       "1     1000      6        60\n",
       "2     1000      7        75\n",
       "3     1000      8        81\n",
       "4     1000      9        57"
      ]
     },
     "execution_count": 35,
     "metadata": {},
     "output_type": "execute_result"
    }
   ],
   "source": [
    "user_messages.head()"
   ]
  },
  {
   "cell_type": "markdown",
   "id": "4132060e",
   "metadata": {},
   "source": [
    "### Создание единой сводной таблицы\n",
    "\n",
    "Объединим 3 сводные таблицы с месячными расходами пользователей"
   ]
  },
  {
   "cell_type": "code",
   "execution_count": 36,
   "id": "f4b22ef0",
   "metadata": {},
   "outputs": [],
   "source": [
    "user_spend = user_calls.merge(user_internet, on=['user_id','month'],how='outer')\n",
    "user_spend = user_spend.merge(user_messages, on=['user_id','month'],how='outer')"
   ]
  },
  {
   "cell_type": "markdown",
   "id": "8ff5ab41",
   "metadata": {},
   "source": [
    "Проверим объединенную таблицу `user_spend` на пропуски"
   ]
  },
  {
   "cell_type": "code",
   "execution_count": 37,
   "id": "10681063",
   "metadata": {},
   "outputs": [
    {
     "data": {
      "text/plain": [
       "user_id       0\n",
       "month         0\n",
       "calls        40\n",
       "minutes      40\n",
       "mb_used      11\n",
       "gb_used      11\n",
       "messages    497\n",
       "dtype: int64"
      ]
     },
     "execution_count": 37,
     "metadata": {},
     "output_type": "execute_result"
    }
   ],
   "source": [
    "user_spend.isna().sum()"
   ]
  },
  {
   "cell_type": "markdown",
   "id": "e3742e3f",
   "metadata": {},
   "source": [
    "Пропуски возникли по причине отсутствия активности пользователей  в определенных видах услуг. Например кто-то не пользуется интернетом, но активно использует телефон и наоборот. Заменим пропуски на 0"
   ]
  },
  {
   "cell_type": "code",
   "execution_count": 38,
   "id": "3a829d10",
   "metadata": {
    "scrolled": true
   },
   "outputs": [],
   "source": [
    "user_spend = user_spend.fillna(0)"
   ]
  },
  {
   "cell_type": "code",
   "execution_count": 39,
   "id": "f3fe648a",
   "metadata": {},
   "outputs": [],
   "source": [
    "user_spend = user_spend.merge(users_info, on='user_id',how='outer')"
   ]
  },
  {
   "cell_type": "code",
   "execution_count": 40,
   "id": "4f9c01d3",
   "metadata": {},
   "outputs": [
    {
     "data": {
      "text/plain": [
       "user_id     0\n",
       "month       2\n",
       "calls       2\n",
       "minutes     2\n",
       "mb_used     2\n",
       "gb_used     2\n",
       "messages    2\n",
       "city        0\n",
       "tariff      0\n",
       "dtype: int64"
      ]
     },
     "execution_count": 40,
     "metadata": {},
     "output_type": "execute_result"
    }
   ],
   "source": [
    "user_spend.isna().sum()"
   ]
  },
  {
   "cell_type": "code",
   "execution_count": 41,
   "id": "92712c8e",
   "metadata": {},
   "outputs": [
    {
     "data": {
      "text/html": [
       "<div>\n",
       "<style scoped>\n",
       "    .dataframe tbody tr th:only-of-type {\n",
       "        vertical-align: middle;\n",
       "    }\n",
       "\n",
       "    .dataframe tbody tr th {\n",
       "        vertical-align: top;\n",
       "    }\n",
       "\n",
       "    .dataframe thead th {\n",
       "        text-align: right;\n",
       "    }\n",
       "</style>\n",
       "<table border=\"1\" class=\"dataframe\">\n",
       "  <thead>\n",
       "    <tr style=\"text-align: right;\">\n",
       "      <th></th>\n",
       "      <th>user_id</th>\n",
       "      <th>month</th>\n",
       "      <th>calls</th>\n",
       "      <th>minutes</th>\n",
       "      <th>mb_used</th>\n",
       "      <th>gb_used</th>\n",
       "      <th>messages</th>\n",
       "      <th>city</th>\n",
       "      <th>tariff</th>\n",
       "    </tr>\n",
       "  </thead>\n",
       "  <tbody>\n",
       "    <tr>\n",
       "      <td>3214</td>\n",
       "      <td>1128</td>\n",
       "      <td>NaN</td>\n",
       "      <td>NaN</td>\n",
       "      <td>NaN</td>\n",
       "      <td>NaN</td>\n",
       "      <td>NaN</td>\n",
       "      <td>NaN</td>\n",
       "      <td>Волжский</td>\n",
       "      <td>ultra</td>\n",
       "    </tr>\n",
       "    <tr>\n",
       "      <td>3215</td>\n",
       "      <td>1371</td>\n",
       "      <td>NaN</td>\n",
       "      <td>NaN</td>\n",
       "      <td>NaN</td>\n",
       "      <td>NaN</td>\n",
       "      <td>NaN</td>\n",
       "      <td>NaN</td>\n",
       "      <td>Омск</td>\n",
       "      <td>smart</td>\n",
       "    </tr>\n",
       "  </tbody>\n",
       "</table>\n",
       "</div>"
      ],
      "text/plain": [
       "      user_id  month  calls  minutes  mb_used  gb_used  messages      city  \\\n",
       "3214     1128    NaN    NaN      NaN      NaN      NaN       NaN  Волжский   \n",
       "3215     1371    NaN    NaN      NaN      NaN      NaN       NaN      Омск   \n",
       "\n",
       "     tariff  \n",
       "3214  ultra  \n",
       "3215  smart  "
      ]
     },
     "execution_count": 41,
     "metadata": {},
     "output_type": "execute_result"
    }
   ],
   "source": [
    "user_spend[user_spend['month'].isna() == True]"
   ]
  },
  {
   "cell_type": "code",
   "execution_count": 42,
   "id": "32c4b8fd",
   "metadata": {},
   "outputs": [
    {
     "data": {
      "text/html": [
       "<div>\n",
       "<style scoped>\n",
       "    .dataframe tbody tr th:only-of-type {\n",
       "        vertical-align: middle;\n",
       "    }\n",
       "\n",
       "    .dataframe tbody tr th {\n",
       "        vertical-align: top;\n",
       "    }\n",
       "\n",
       "    .dataframe thead th {\n",
       "        text-align: right;\n",
       "    }\n",
       "</style>\n",
       "<table border=\"1\" class=\"dataframe\">\n",
       "  <thead>\n",
       "    <tr style=\"text-align: right;\">\n",
       "      <th></th>\n",
       "      <th>user_id</th>\n",
       "      <th>age</th>\n",
       "      <th>churn_date</th>\n",
       "      <th>city</th>\n",
       "      <th>first_name</th>\n",
       "      <th>last_name</th>\n",
       "      <th>reg_date</th>\n",
       "      <th>tariff</th>\n",
       "    </tr>\n",
       "  </thead>\n",
       "  <tbody>\n",
       "    <tr>\n",
       "      <td>371</td>\n",
       "      <td>1371</td>\n",
       "      <td>50</td>\n",
       "      <td>2018-12-30</td>\n",
       "      <td>Омск</td>\n",
       "      <td>Ириней</td>\n",
       "      <td>Трофимов</td>\n",
       "      <td>2018-12-25</td>\n",
       "      <td>smart</td>\n",
       "    </tr>\n",
       "  </tbody>\n",
       "</table>\n",
       "</div>"
      ],
      "text/plain": [
       "     user_id  age churn_date  city first_name last_name   reg_date tariff\n",
       "371     1371   50 2018-12-30  Омск     Ириней  Трофимов 2018-12-25  smart"
      ]
     },
     "execution_count": 42,
     "metadata": {},
     "output_type": "execute_result"
    }
   ],
   "source": [
    "users[users['user_id'] == 1371]"
   ]
  },
  {
   "cell_type": "markdown",
   "id": "d747082e",
   "metadata": {},
   "source": [
    "Оба пропуска касаются абонентов заключивших договор и расторгнувших его в один месяц. Удалим пропуски. Заменим типы данных month, duration, gb_used, messages на int"
   ]
  },
  {
   "cell_type": "code",
   "execution_count": 43,
   "id": "e2b52a5f",
   "metadata": {},
   "outputs": [],
   "source": [
    "user_spend = user_spend.dropna()"
   ]
  },
  {
   "cell_type": "code",
   "execution_count": 44,
   "id": "68fd744c",
   "metadata": {},
   "outputs": [],
   "source": [
    "user_spend[['month', 'minutes', 'gb_used', 'messages']] = user_spend[['month', 'minutes', 'gb_used', 'messages']].astype(int)"
   ]
  },
  {
   "cell_type": "code",
   "execution_count": 45,
   "id": "de14c561",
   "metadata": {},
   "outputs": [
    {
     "data": {
      "text/html": [
       "<div>\n",
       "<style scoped>\n",
       "    .dataframe tbody tr th:only-of-type {\n",
       "        vertical-align: middle;\n",
       "    }\n",
       "\n",
       "    .dataframe tbody tr th {\n",
       "        vertical-align: top;\n",
       "    }\n",
       "\n",
       "    .dataframe thead th {\n",
       "        text-align: right;\n",
       "    }\n",
       "</style>\n",
       "<table border=\"1\" class=\"dataframe\">\n",
       "  <thead>\n",
       "    <tr style=\"text-align: right;\">\n",
       "      <th></th>\n",
       "      <th>user_id</th>\n",
       "      <th>month</th>\n",
       "      <th>calls</th>\n",
       "      <th>minutes</th>\n",
       "      <th>mb_used</th>\n",
       "      <th>gb_used</th>\n",
       "      <th>messages</th>\n",
       "      <th>city</th>\n",
       "      <th>tariff</th>\n",
       "    </tr>\n",
       "  </thead>\n",
       "  <tbody>\n",
       "    <tr>\n",
       "      <td>0</td>\n",
       "      <td>1000</td>\n",
       "      <td>5</td>\n",
       "      <td>22.0</td>\n",
       "      <td>159</td>\n",
       "      <td>2253.49</td>\n",
       "      <td>3</td>\n",
       "      <td>22</td>\n",
       "      <td>Краснодар</td>\n",
       "      <td>ultra</td>\n",
       "    </tr>\n",
       "    <tr>\n",
       "      <td>1</td>\n",
       "      <td>1000</td>\n",
       "      <td>6</td>\n",
       "      <td>43.0</td>\n",
       "      <td>172</td>\n",
       "      <td>23233.77</td>\n",
       "      <td>23</td>\n",
       "      <td>60</td>\n",
       "      <td>Краснодар</td>\n",
       "      <td>ultra</td>\n",
       "    </tr>\n",
       "    <tr>\n",
       "      <td>2</td>\n",
       "      <td>1000</td>\n",
       "      <td>7</td>\n",
       "      <td>47.0</td>\n",
       "      <td>340</td>\n",
       "      <td>14003.64</td>\n",
       "      <td>14</td>\n",
       "      <td>75</td>\n",
       "      <td>Краснодар</td>\n",
       "      <td>ultra</td>\n",
       "    </tr>\n",
       "    <tr>\n",
       "      <td>3</td>\n",
       "      <td>1000</td>\n",
       "      <td>8</td>\n",
       "      <td>52.0</td>\n",
       "      <td>408</td>\n",
       "      <td>14055.93</td>\n",
       "      <td>14</td>\n",
       "      <td>81</td>\n",
       "      <td>Краснодар</td>\n",
       "      <td>ultra</td>\n",
       "    </tr>\n",
       "    <tr>\n",
       "      <td>4</td>\n",
       "      <td>1000</td>\n",
       "      <td>9</td>\n",
       "      <td>58.0</td>\n",
       "      <td>466</td>\n",
       "      <td>14568.91</td>\n",
       "      <td>15</td>\n",
       "      <td>57</td>\n",
       "      <td>Краснодар</td>\n",
       "      <td>ultra</td>\n",
       "    </tr>\n",
       "  </tbody>\n",
       "</table>\n",
       "</div>"
      ],
      "text/plain": [
       "   user_id  month  calls  minutes   mb_used  gb_used  messages       city  \\\n",
       "0     1000      5   22.0      159   2253.49        3        22  Краснодар   \n",
       "1     1000      6   43.0      172  23233.77       23        60  Краснодар   \n",
       "2     1000      7   47.0      340  14003.64       14        75  Краснодар   \n",
       "3     1000      8   52.0      408  14055.93       14        81  Краснодар   \n",
       "4     1000      9   58.0      466  14568.91       15        57  Краснодар   \n",
       "\n",
       "  tariff  \n",
       "0  ultra  \n",
       "1  ultra  \n",
       "2  ultra  \n",
       "3  ultra  \n",
       "4  ultra  "
      ]
     },
     "execution_count": 45,
     "metadata": {},
     "output_type": "execute_result"
    }
   ],
   "source": [
    "user_spend.head()"
   ]
  },
  {
   "cell_type": "markdown",
   "id": "ecf01d11",
   "metadata": {},
   "source": [
    "Объединим таблицу расходов с таблицей тарифов"
   ]
  },
  {
   "cell_type": "code",
   "execution_count": 46,
   "id": "e811e21a",
   "metadata": {
    "scrolled": true
   },
   "outputs": [
    {
     "data": {
      "text/html": [
       "<div>\n",
       "<style scoped>\n",
       "    .dataframe tbody tr th:only-of-type {\n",
       "        vertical-align: middle;\n",
       "    }\n",
       "\n",
       "    .dataframe tbody tr th {\n",
       "        vertical-align: top;\n",
       "    }\n",
       "\n",
       "    .dataframe thead th {\n",
       "        text-align: right;\n",
       "    }\n",
       "</style>\n",
       "<table border=\"1\" class=\"dataframe\">\n",
       "  <thead>\n",
       "    <tr style=\"text-align: right;\">\n",
       "      <th></th>\n",
       "      <th>user_id</th>\n",
       "      <th>month</th>\n",
       "      <th>calls</th>\n",
       "      <th>minutes</th>\n",
       "      <th>mb_used</th>\n",
       "      <th>gb_used</th>\n",
       "      <th>messages</th>\n",
       "      <th>city</th>\n",
       "      <th>tariff</th>\n",
       "      <th>messages_included</th>\n",
       "      <th>mb_per_month_included</th>\n",
       "      <th>minutes_included</th>\n",
       "      <th>rub_monthly_fee</th>\n",
       "      <th>rub_per_gb</th>\n",
       "      <th>rub_per_message</th>\n",
       "      <th>rub_per_minute</th>\n",
       "      <th>tariff_name</th>\n",
       "      <th>gb_per_month_included</th>\n",
       "    </tr>\n",
       "  </thead>\n",
       "  <tbody>\n",
       "    <tr>\n",
       "      <td>0</td>\n",
       "      <td>1000</td>\n",
       "      <td>5</td>\n",
       "      <td>22.0</td>\n",
       "      <td>159</td>\n",
       "      <td>2253.49</td>\n",
       "      <td>3</td>\n",
       "      <td>22</td>\n",
       "      <td>Краснодар</td>\n",
       "      <td>ultra</td>\n",
       "      <td>1000</td>\n",
       "      <td>30720</td>\n",
       "      <td>3000</td>\n",
       "      <td>1950</td>\n",
       "      <td>150</td>\n",
       "      <td>1</td>\n",
       "      <td>1</td>\n",
       "      <td>ultra</td>\n",
       "      <td>30.0</td>\n",
       "    </tr>\n",
       "    <tr>\n",
       "      <td>1</td>\n",
       "      <td>1000</td>\n",
       "      <td>6</td>\n",
       "      <td>43.0</td>\n",
       "      <td>172</td>\n",
       "      <td>23233.77</td>\n",
       "      <td>23</td>\n",
       "      <td>60</td>\n",
       "      <td>Краснодар</td>\n",
       "      <td>ultra</td>\n",
       "      <td>1000</td>\n",
       "      <td>30720</td>\n",
       "      <td>3000</td>\n",
       "      <td>1950</td>\n",
       "      <td>150</td>\n",
       "      <td>1</td>\n",
       "      <td>1</td>\n",
       "      <td>ultra</td>\n",
       "      <td>30.0</td>\n",
       "    </tr>\n",
       "    <tr>\n",
       "      <td>2</td>\n",
       "      <td>1000</td>\n",
       "      <td>7</td>\n",
       "      <td>47.0</td>\n",
       "      <td>340</td>\n",
       "      <td>14003.64</td>\n",
       "      <td>14</td>\n",
       "      <td>75</td>\n",
       "      <td>Краснодар</td>\n",
       "      <td>ultra</td>\n",
       "      <td>1000</td>\n",
       "      <td>30720</td>\n",
       "      <td>3000</td>\n",
       "      <td>1950</td>\n",
       "      <td>150</td>\n",
       "      <td>1</td>\n",
       "      <td>1</td>\n",
       "      <td>ultra</td>\n",
       "      <td>30.0</td>\n",
       "    </tr>\n",
       "    <tr>\n",
       "      <td>3</td>\n",
       "      <td>1000</td>\n",
       "      <td>8</td>\n",
       "      <td>52.0</td>\n",
       "      <td>408</td>\n",
       "      <td>14055.93</td>\n",
       "      <td>14</td>\n",
       "      <td>81</td>\n",
       "      <td>Краснодар</td>\n",
       "      <td>ultra</td>\n",
       "      <td>1000</td>\n",
       "      <td>30720</td>\n",
       "      <td>3000</td>\n",
       "      <td>1950</td>\n",
       "      <td>150</td>\n",
       "      <td>1</td>\n",
       "      <td>1</td>\n",
       "      <td>ultra</td>\n",
       "      <td>30.0</td>\n",
       "    </tr>\n",
       "    <tr>\n",
       "      <td>4</td>\n",
       "      <td>1000</td>\n",
       "      <td>9</td>\n",
       "      <td>58.0</td>\n",
       "      <td>466</td>\n",
       "      <td>14568.91</td>\n",
       "      <td>15</td>\n",
       "      <td>57</td>\n",
       "      <td>Краснодар</td>\n",
       "      <td>ultra</td>\n",
       "      <td>1000</td>\n",
       "      <td>30720</td>\n",
       "      <td>3000</td>\n",
       "      <td>1950</td>\n",
       "      <td>150</td>\n",
       "      <td>1</td>\n",
       "      <td>1</td>\n",
       "      <td>ultra</td>\n",
       "      <td>30.0</td>\n",
       "    </tr>\n",
       "  </tbody>\n",
       "</table>\n",
       "</div>"
      ],
      "text/plain": [
       "   user_id  month  calls  minutes   mb_used  gb_used  messages       city  \\\n",
       "0     1000      5   22.0      159   2253.49        3        22  Краснодар   \n",
       "1     1000      6   43.0      172  23233.77       23        60  Краснодар   \n",
       "2     1000      7   47.0      340  14003.64       14        75  Краснодар   \n",
       "3     1000      8   52.0      408  14055.93       14        81  Краснодар   \n",
       "4     1000      9   58.0      466  14568.91       15        57  Краснодар   \n",
       "\n",
       "  tariff  messages_included  mb_per_month_included  minutes_included  \\\n",
       "0  ultra               1000                  30720              3000   \n",
       "1  ultra               1000                  30720              3000   \n",
       "2  ultra               1000                  30720              3000   \n",
       "3  ultra               1000                  30720              3000   \n",
       "4  ultra               1000                  30720              3000   \n",
       "\n",
       "   rub_monthly_fee  rub_per_gb  rub_per_message  rub_per_minute tariff_name  \\\n",
       "0             1950         150                1               1       ultra   \n",
       "1             1950         150                1               1       ultra   \n",
       "2             1950         150                1               1       ultra   \n",
       "3             1950         150                1               1       ultra   \n",
       "4             1950         150                1               1       ultra   \n",
       "\n",
       "   gb_per_month_included  \n",
       "0                   30.0  \n",
       "1                   30.0  \n",
       "2                   30.0  \n",
       "3                   30.0  \n",
       "4                   30.0  "
      ]
     },
     "execution_count": 46,
     "metadata": {},
     "output_type": "execute_result"
    }
   ],
   "source": [
    "user_spend = user_spend.merge(tariffs, left_on='tariff', right_on='tariff_name',how='outer')\n",
    "user_spend.head()"
   ]
  },
  {
   "cell_type": "markdown",
   "id": "66a8a9d9",
   "metadata": {},
   "source": [
    "**Посчитайте для каждого пользователя**:\n",
    "\n",
    "- помесячную выручку с каждого пользователя (вычтите бесплатный лимит из суммарного количества звонков, сообщений и интернет-трафика; остаток умножьте на значение из тарифного плана; прибавьте абонентскую плату, соответствующую тарифному плану).\n",
    "\n",
    "Создадим функцию рассчитывающую помесячную выручку с каждого пользователя"
   ]
  },
  {
   "cell_type": "code",
   "execution_count": 48,
   "id": "6c4b7c12",
   "metadata": {},
   "outputs": [],
   "source": [
    "def payd_over(row):\n",
    "    minutes_used = row['minutes']\n",
    "    messages_used = row['messages']\n",
    "    gb_used = row['gb_used']\n",
    "    \n",
    "    minutes_included = row['minutes_included']\n",
    "    messages_included = row['minutes_included']\n",
    "    gb_included = row['gb_per_month_included']\n",
    "    \n",
    "    rub_monthly_fee = row['rub_monthly_fee']\n",
    "    \n",
    "    rub_per_minute = row['rub_per_minute']\n",
    "    rub_per_message = row['rub_per_message']\n",
    "    rub_per_gb = row['rub_per_gb']\n",
    "    \n",
    "    if minutes_used > minutes_included:\n",
    "        extra_minutes_payment = (minutes_used-minutes_included)*rub_per_minute\n",
    "    else:\n",
    "        extra_minutes_payment = 0\n",
    "        \n",
    "    if messages_used > messages_included:\n",
    "        extra_messages_payment = (messages_used-messages_included)*rub_per_message\n",
    "    else:\n",
    "        extra_messages_payment = 0\n",
    "        \n",
    "    if gb_used > gb_included:\n",
    "        extra_gb_payment = (gb_used-gb_included)*rub_per_gb\n",
    "    else:\n",
    "        extra_gb_payment = 0\n",
    "       \n",
    "    payment = rub_monthly_fee+extra_minutes_payment+extra_messages_payment+extra_gb_payment\n",
    "    \n",
    "    return payment"
   ]
  },
  {
   "cell_type": "markdown",
   "id": "a0fbe27b",
   "metadata": {},
   "source": [
    "Применим функцию к сводной таблице и сохраним результат в новом датафрейме"
   ]
  },
  {
   "cell_type": "code",
   "execution_count": 49,
   "id": "848f50cd",
   "metadata": {},
   "outputs": [
    {
     "data": {
      "text/html": [
       "<div>\n",
       "<style scoped>\n",
       "    .dataframe tbody tr th:only-of-type {\n",
       "        vertical-align: middle;\n",
       "    }\n",
       "\n",
       "    .dataframe tbody tr th {\n",
       "        vertical-align: top;\n",
       "    }\n",
       "\n",
       "    .dataframe thead th {\n",
       "        text-align: right;\n",
       "    }\n",
       "</style>\n",
       "<table border=\"1\" class=\"dataframe\">\n",
       "  <thead>\n",
       "    <tr style=\"text-align: right;\">\n",
       "      <th></th>\n",
       "      <th>user_id</th>\n",
       "      <th>month</th>\n",
       "      <th>calls</th>\n",
       "      <th>minutes</th>\n",
       "      <th>mb_used</th>\n",
       "      <th>gb_used</th>\n",
       "      <th>messages</th>\n",
       "      <th>city</th>\n",
       "      <th>tariff</th>\n",
       "      <th>messages_included</th>\n",
       "      <th>mb_per_month_included</th>\n",
       "      <th>minutes_included</th>\n",
       "      <th>rub_monthly_fee</th>\n",
       "      <th>rub_per_gb</th>\n",
       "      <th>rub_per_message</th>\n",
       "      <th>rub_per_minute</th>\n",
       "      <th>tariff_name</th>\n",
       "      <th>gb_per_month_included</th>\n",
       "      <th>payment</th>\n",
       "    </tr>\n",
       "  </thead>\n",
       "  <tbody>\n",
       "    <tr>\n",
       "      <td>0</td>\n",
       "      <td>1000</td>\n",
       "      <td>5</td>\n",
       "      <td>22.0</td>\n",
       "      <td>159</td>\n",
       "      <td>2253.49</td>\n",
       "      <td>3</td>\n",
       "      <td>22</td>\n",
       "      <td>Краснодар</td>\n",
       "      <td>ultra</td>\n",
       "      <td>1000</td>\n",
       "      <td>30720</td>\n",
       "      <td>3000</td>\n",
       "      <td>1950</td>\n",
       "      <td>150</td>\n",
       "      <td>1</td>\n",
       "      <td>1</td>\n",
       "      <td>ultra</td>\n",
       "      <td>30.0</td>\n",
       "      <td>1950</td>\n",
       "    </tr>\n",
       "    <tr>\n",
       "      <td>1</td>\n",
       "      <td>1000</td>\n",
       "      <td>6</td>\n",
       "      <td>43.0</td>\n",
       "      <td>172</td>\n",
       "      <td>23233.77</td>\n",
       "      <td>23</td>\n",
       "      <td>60</td>\n",
       "      <td>Краснодар</td>\n",
       "      <td>ultra</td>\n",
       "      <td>1000</td>\n",
       "      <td>30720</td>\n",
       "      <td>3000</td>\n",
       "      <td>1950</td>\n",
       "      <td>150</td>\n",
       "      <td>1</td>\n",
       "      <td>1</td>\n",
       "      <td>ultra</td>\n",
       "      <td>30.0</td>\n",
       "      <td>1950</td>\n",
       "    </tr>\n",
       "    <tr>\n",
       "      <td>2</td>\n",
       "      <td>1000</td>\n",
       "      <td>7</td>\n",
       "      <td>47.0</td>\n",
       "      <td>340</td>\n",
       "      <td>14003.64</td>\n",
       "      <td>14</td>\n",
       "      <td>75</td>\n",
       "      <td>Краснодар</td>\n",
       "      <td>ultra</td>\n",
       "      <td>1000</td>\n",
       "      <td>30720</td>\n",
       "      <td>3000</td>\n",
       "      <td>1950</td>\n",
       "      <td>150</td>\n",
       "      <td>1</td>\n",
       "      <td>1</td>\n",
       "      <td>ultra</td>\n",
       "      <td>30.0</td>\n",
       "      <td>1950</td>\n",
       "    </tr>\n",
       "    <tr>\n",
       "      <td>3</td>\n",
       "      <td>1000</td>\n",
       "      <td>8</td>\n",
       "      <td>52.0</td>\n",
       "      <td>408</td>\n",
       "      <td>14055.93</td>\n",
       "      <td>14</td>\n",
       "      <td>81</td>\n",
       "      <td>Краснодар</td>\n",
       "      <td>ultra</td>\n",
       "      <td>1000</td>\n",
       "      <td>30720</td>\n",
       "      <td>3000</td>\n",
       "      <td>1950</td>\n",
       "      <td>150</td>\n",
       "      <td>1</td>\n",
       "      <td>1</td>\n",
       "      <td>ultra</td>\n",
       "      <td>30.0</td>\n",
       "      <td>1950</td>\n",
       "    </tr>\n",
       "    <tr>\n",
       "      <td>4</td>\n",
       "      <td>1000</td>\n",
       "      <td>9</td>\n",
       "      <td>58.0</td>\n",
       "      <td>466</td>\n",
       "      <td>14568.91</td>\n",
       "      <td>15</td>\n",
       "      <td>57</td>\n",
       "      <td>Краснодар</td>\n",
       "      <td>ultra</td>\n",
       "      <td>1000</td>\n",
       "      <td>30720</td>\n",
       "      <td>3000</td>\n",
       "      <td>1950</td>\n",
       "      <td>150</td>\n",
       "      <td>1</td>\n",
       "      <td>1</td>\n",
       "      <td>ultra</td>\n",
       "      <td>30.0</td>\n",
       "      <td>1950</td>\n",
       "    </tr>\n",
       "  </tbody>\n",
       "</table>\n",
       "</div>"
      ],
      "text/plain": [
       "   user_id  month  calls  minutes   mb_used  gb_used  messages       city  \\\n",
       "0     1000      5   22.0      159   2253.49        3        22  Краснодар   \n",
       "1     1000      6   43.0      172  23233.77       23        60  Краснодар   \n",
       "2     1000      7   47.0      340  14003.64       14        75  Краснодар   \n",
       "3     1000      8   52.0      408  14055.93       14        81  Краснодар   \n",
       "4     1000      9   58.0      466  14568.91       15        57  Краснодар   \n",
       "\n",
       "  tariff  messages_included  mb_per_month_included  minutes_included  \\\n",
       "0  ultra               1000                  30720              3000   \n",
       "1  ultra               1000                  30720              3000   \n",
       "2  ultra               1000                  30720              3000   \n",
       "3  ultra               1000                  30720              3000   \n",
       "4  ultra               1000                  30720              3000   \n",
       "\n",
       "   rub_monthly_fee  rub_per_gb  rub_per_message  rub_per_minute tariff_name  \\\n",
       "0             1950         150                1               1       ultra   \n",
       "1             1950         150                1               1       ultra   \n",
       "2             1950         150                1               1       ultra   \n",
       "3             1950         150                1               1       ultra   \n",
       "4             1950         150                1               1       ultra   \n",
       "\n",
       "   gb_per_month_included  payment  \n",
       "0                   30.0     1950  \n",
       "1                   30.0     1950  \n",
       "2                   30.0     1950  \n",
       "3                   30.0     1950  \n",
       "4                   30.0     1950  "
      ]
     },
     "execution_count": 49,
     "metadata": {},
     "output_type": "execute_result"
    }
   ],
   "source": [
    "user_spend['payment'] = user_spend.apply(payd_over, axis=1).astype(int)\n",
    "user_spend.head()"
   ]
  },
  {
   "cell_type": "code",
   "execution_count": 50,
   "id": "d1ece091",
   "metadata": {},
   "outputs": [
    {
     "data": {
      "text/html": [
       "<div>\n",
       "<style scoped>\n",
       "    .dataframe tbody tr th:only-of-type {\n",
       "        vertical-align: middle;\n",
       "    }\n",
       "\n",
       "    .dataframe tbody tr th {\n",
       "        vertical-align: top;\n",
       "    }\n",
       "\n",
       "    .dataframe thead th {\n",
       "        text-align: right;\n",
       "    }\n",
       "</style>\n",
       "<table border=\"1\" class=\"dataframe\">\n",
       "  <thead>\n",
       "    <tr style=\"text-align: right;\">\n",
       "      <th></th>\n",
       "      <th>user_id</th>\n",
       "      <th>month</th>\n",
       "      <th>minutes</th>\n",
       "      <th>gb_used</th>\n",
       "      <th>messages</th>\n",
       "      <th>city</th>\n",
       "      <th>tariff</th>\n",
       "      <th>payment</th>\n",
       "    </tr>\n",
       "  </thead>\n",
       "  <tbody>\n",
       "    <tr>\n",
       "      <td>0</td>\n",
       "      <td>1000</td>\n",
       "      <td>5</td>\n",
       "      <td>159</td>\n",
       "      <td>3</td>\n",
       "      <td>22</td>\n",
       "      <td>Краснодар</td>\n",
       "      <td>ultra</td>\n",
       "      <td>1950</td>\n",
       "    </tr>\n",
       "    <tr>\n",
       "      <td>1</td>\n",
       "      <td>1000</td>\n",
       "      <td>6</td>\n",
       "      <td>172</td>\n",
       "      <td>23</td>\n",
       "      <td>60</td>\n",
       "      <td>Краснодар</td>\n",
       "      <td>ultra</td>\n",
       "      <td>1950</td>\n",
       "    </tr>\n",
       "    <tr>\n",
       "      <td>2</td>\n",
       "      <td>1000</td>\n",
       "      <td>7</td>\n",
       "      <td>340</td>\n",
       "      <td>14</td>\n",
       "      <td>75</td>\n",
       "      <td>Краснодар</td>\n",
       "      <td>ultra</td>\n",
       "      <td>1950</td>\n",
       "    </tr>\n",
       "    <tr>\n",
       "      <td>3</td>\n",
       "      <td>1000</td>\n",
       "      <td>8</td>\n",
       "      <td>408</td>\n",
       "      <td>14</td>\n",
       "      <td>81</td>\n",
       "      <td>Краснодар</td>\n",
       "      <td>ultra</td>\n",
       "      <td>1950</td>\n",
       "    </tr>\n",
       "    <tr>\n",
       "      <td>4</td>\n",
       "      <td>1000</td>\n",
       "      <td>9</td>\n",
       "      <td>466</td>\n",
       "      <td>15</td>\n",
       "      <td>57</td>\n",
       "      <td>Краснодар</td>\n",
       "      <td>ultra</td>\n",
       "      <td>1950</td>\n",
       "    </tr>\n",
       "  </tbody>\n",
       "</table>\n",
       "</div>"
      ],
      "text/plain": [
       "   user_id  month  minutes  gb_used  messages       city tariff  payment\n",
       "0     1000      5      159        3        22  Краснодар  ultra     1950\n",
       "1     1000      6      172       23        60  Краснодар  ultra     1950\n",
       "2     1000      7      340       14        75  Краснодар  ultra     1950\n",
       "3     1000      8      408       14        81  Краснодар  ultra     1950\n",
       "4     1000      9      466       15        57  Краснодар  ultra     1950"
      ]
     },
     "execution_count": 50,
     "metadata": {},
     "output_type": "execute_result"
    }
   ],
   "source": [
    "df = user_spend[['user_id','month','minutes','gb_used','messages','city','tariff','payment']]\n",
    "df.head()"
   ]
  },
  {
   "cell_type": "markdown",
   "id": "ca5ac23e",
   "metadata": {},
   "source": [
    "### Вывод\n",
    "\n",
    "Нам представлена выборка данных о расходах 500 абонентов компании «Мегалайн» за 2018 год.\n",
    "\n",
    "В процессе исследования:\n",
    "- В таблицах users, tariffs, calls, internet данные колонок содержащих дату были заменены на тип datetime64.\n",
    "- Пропуски в таблице users в значениях churn_date менять не стали, тк по условию если значение пропущено, то тариф ещё действовал на момент выгрузки данных.\n",
    "- В tariffs объём интернет-трафика, включённого в абонентскую плату (в мегабайтах) пересчитали в гигабайты.\n",
    "- В calls длительность звонка округлили до минут и перевели  в формат int.\n",
    "- В internet удалена колонка Unnamed: 0 дублирующая значение индексов. Объём потраченных мегабайт суммированы за месяц, пересчитаны в гигабайты и переведены в int.\n",
    "\n",
    "Каждую таблицу (кроме tariffs) сгруппировали по идентификатору пользователя и месяцу.\n",
    "Получившиеся сводные таблицы объединили в единую таблицу user_spend. Пропуски возникающие в процессе объединения были заменены на 0.\n",
    "Тк не все клиенты использовали предоставленные им минуты или интеренет траффик.\n",
    "Из user_spend были удалены 2 строки пропусков: абоненты которые заключили договор и расторгли его в течение 1 месяца не воспользовавшись услугами оператора.\n",
    "\n",
    "Объединив информацию о расходах с информацией о тарифах мы получили новый датафрейм с данными о затратах каждого пользователя."
   ]
  },
  {
   "cell_type": "markdown",
   "id": "3104800b",
   "metadata": {},
   "source": [
    "### Шаг 3. Проанализируйте данные\n",
    "\n",
    "Опишите поведение клиентов оператора, исходя из выборки. Сколько минут разговора, сколько сообщений и какой объём интернет-трафика требуется пользователям каждого тарифа в месяц? Посчитайте среднее количество, дисперсию и стандартное отклонение. Постройте гистограммы. Опишите распределения."
   ]
  },
  {
   "cell_type": "markdown",
   "id": "620d7e39",
   "metadata": {},
   "source": [
    "Колисество пользователей каждого тарифа"
   ]
  },
  {
   "cell_type": "code",
   "execution_count": 51,
   "id": "48c9b315",
   "metadata": {
    "scrolled": false
   },
   "outputs": [
    {
     "data": {
      "text/plain": [
       "tariff\n",
       "smart    350\n",
       "ultra    148\n",
       "Name: user_id, dtype: int64"
      ]
     },
     "execution_count": 51,
     "metadata": {},
     "output_type": "execute_result"
    }
   ],
   "source": [
    "df.groupby('tariff')['user_id'].nunique()"
   ]
  },
  {
   "cell_type": "markdown",
   "id": "1a739299",
   "metadata": {},
   "source": [
    "### Описательная статистика по каждому тарифу"
   ]
  },
  {
   "cell_type": "code",
   "execution_count": 52,
   "id": "399d74c1",
   "metadata": {
    "scrolled": false
   },
   "outputs": [
    {
     "data": {
      "text/html": [
       "<div>\n",
       "<style scoped>\n",
       "    .dataframe tbody tr th:only-of-type {\n",
       "        vertical-align: middle;\n",
       "    }\n",
       "\n",
       "    .dataframe tbody tr th {\n",
       "        vertical-align: top;\n",
       "    }\n",
       "\n",
       "    .dataframe thead th {\n",
       "        text-align: right;\n",
       "    }\n",
       "</style>\n",
       "<table border=\"1\" class=\"dataframe\">\n",
       "  <thead>\n",
       "    <tr style=\"text-align: right;\">\n",
       "      <th></th>\n",
       "      <th>user_id</th>\n",
       "      <th>month</th>\n",
       "      <th>minutes</th>\n",
       "      <th>gb_used</th>\n",
       "      <th>messages</th>\n",
       "      <th>payment</th>\n",
       "    </tr>\n",
       "  </thead>\n",
       "  <tbody>\n",
       "    <tr>\n",
       "      <td>count</td>\n",
       "      <td>985.00</td>\n",
       "      <td>985.00</td>\n",
       "      <td>985.00</td>\n",
       "      <td>985.00</td>\n",
       "      <td>985.00</td>\n",
       "      <td>985.00</td>\n",
       "    </tr>\n",
       "    <tr>\n",
       "      <td>mean</td>\n",
       "      <td>1263.09</td>\n",
       "      <td>8.25</td>\n",
       "      <td>526.62</td>\n",
       "      <td>19.49</td>\n",
       "      <td>49.36</td>\n",
       "      <td>2070.15</td>\n",
       "    </tr>\n",
       "    <tr>\n",
       "      <td>std</td>\n",
       "      <td>140.69</td>\n",
       "      <td>2.87</td>\n",
       "      <td>317.61</td>\n",
       "      <td>9.85</td>\n",
       "      <td>47.80</td>\n",
       "      <td>376.19</td>\n",
       "    </tr>\n",
       "    <tr>\n",
       "      <td>min</td>\n",
       "      <td>1000.00</td>\n",
       "      <td>1.00</td>\n",
       "      <td>0.00</td>\n",
       "      <td>0.00</td>\n",
       "      <td>0.00</td>\n",
       "      <td>1950.00</td>\n",
       "    </tr>\n",
       "    <tr>\n",
       "      <td>25%</td>\n",
       "      <td>1143.00</td>\n",
       "      <td>6.00</td>\n",
       "      <td>284.00</td>\n",
       "      <td>12.00</td>\n",
       "      <td>6.00</td>\n",
       "      <td>1950.00</td>\n",
       "    </tr>\n",
       "    <tr>\n",
       "      <td>50%</td>\n",
       "      <td>1277.00</td>\n",
       "      <td>9.00</td>\n",
       "      <td>518.00</td>\n",
       "      <td>19.00</td>\n",
       "      <td>38.00</td>\n",
       "      <td>1950.00</td>\n",
       "    </tr>\n",
       "    <tr>\n",
       "      <td>75%</td>\n",
       "      <td>1381.00</td>\n",
       "      <td>11.00</td>\n",
       "      <td>752.00</td>\n",
       "      <td>27.00</td>\n",
       "      <td>79.00</td>\n",
       "      <td>1950.00</td>\n",
       "    </tr>\n",
       "    <tr>\n",
       "      <td>max</td>\n",
       "      <td>1495.00</td>\n",
       "      <td>12.00</td>\n",
       "      <td>1673.00</td>\n",
       "      <td>49.00</td>\n",
       "      <td>224.00</td>\n",
       "      <td>4800.00</td>\n",
       "    </tr>\n",
       "  </tbody>\n",
       "</table>\n",
       "</div>"
      ],
      "text/plain": [
       "       user_id   month  minutes  gb_used  messages  payment\n",
       "count   985.00  985.00   985.00   985.00    985.00   985.00\n",
       "mean   1263.09    8.25   526.62    19.49     49.36  2070.15\n",
       "std     140.69    2.87   317.61     9.85     47.80   376.19\n",
       "min    1000.00    1.00     0.00     0.00      0.00  1950.00\n",
       "25%    1143.00    6.00   284.00    12.00      6.00  1950.00\n",
       "50%    1277.00    9.00   518.00    19.00     38.00  1950.00\n",
       "75%    1381.00   11.00   752.00    27.00     79.00  1950.00\n",
       "max    1495.00   12.00  1673.00    49.00    224.00  4800.00"
      ]
     },
     "metadata": {},
     "output_type": "display_data"
    },
    {
     "data": {
      "text/html": [
       "<div>\n",
       "<style scoped>\n",
       "    .dataframe tbody tr th:only-of-type {\n",
       "        vertical-align: middle;\n",
       "    }\n",
       "\n",
       "    .dataframe tbody tr th {\n",
       "        vertical-align: top;\n",
       "    }\n",
       "\n",
       "    .dataframe thead th {\n",
       "        text-align: right;\n",
       "    }\n",
       "</style>\n",
       "<table border=\"1\" class=\"dataframe\">\n",
       "  <thead>\n",
       "    <tr style=\"text-align: right;\">\n",
       "      <th></th>\n",
       "      <th>user_id</th>\n",
       "      <th>month</th>\n",
       "      <th>minutes</th>\n",
       "      <th>gb_used</th>\n",
       "      <th>messages</th>\n",
       "      <th>payment</th>\n",
       "    </tr>\n",
       "  </thead>\n",
       "  <tbody>\n",
       "    <tr>\n",
       "      <td>count</td>\n",
       "      <td>2229.00</td>\n",
       "      <td>2229.00</td>\n",
       "      <td>2229.00</td>\n",
       "      <td>2229.00</td>\n",
       "      <td>2229.00</td>\n",
       "      <td>2229.00</td>\n",
       "    </tr>\n",
       "    <tr>\n",
       "      <td>mean</td>\n",
       "      <td>1246.51</td>\n",
       "      <td>8.35</td>\n",
       "      <td>417.93</td>\n",
       "      <td>16.33</td>\n",
       "      <td>33.38</td>\n",
       "      <td>1272.57</td>\n",
       "    </tr>\n",
       "    <tr>\n",
       "      <td>std</td>\n",
       "      <td>146.12</td>\n",
       "      <td>2.92</td>\n",
       "      <td>190.31</td>\n",
       "      <td>5.75</td>\n",
       "      <td>28.23</td>\n",
       "      <td>813.58</td>\n",
       "    </tr>\n",
       "    <tr>\n",
       "      <td>min</td>\n",
       "      <td>1001.00</td>\n",
       "      <td>1.00</td>\n",
       "      <td>0.00</td>\n",
       "      <td>0.00</td>\n",
       "      <td>0.00</td>\n",
       "      <td>550.00</td>\n",
       "    </tr>\n",
       "    <tr>\n",
       "      <td>25%</td>\n",
       "      <td>1121.00</td>\n",
       "      <td>6.00</td>\n",
       "      <td>282.00</td>\n",
       "      <td>13.00</td>\n",
       "      <td>10.00</td>\n",
       "      <td>550.00</td>\n",
       "    </tr>\n",
       "    <tr>\n",
       "      <td>50%</td>\n",
       "      <td>1239.00</td>\n",
       "      <td>9.00</td>\n",
       "      <td>422.00</td>\n",
       "      <td>17.00</td>\n",
       "      <td>28.00</td>\n",
       "      <td>994.00</td>\n",
       "    </tr>\n",
       "    <tr>\n",
       "      <td>75%</td>\n",
       "      <td>1376.00</td>\n",
       "      <td>11.00</td>\n",
       "      <td>545.00</td>\n",
       "      <td>20.00</td>\n",
       "      <td>51.00</td>\n",
       "      <td>1750.00</td>\n",
       "    </tr>\n",
       "    <tr>\n",
       "      <td>max</td>\n",
       "      <td>1499.00</td>\n",
       "      <td>12.00</td>\n",
       "      <td>1435.00</td>\n",
       "      <td>38.00</td>\n",
       "      <td>143.00</td>\n",
       "      <td>6671.00</td>\n",
       "    </tr>\n",
       "  </tbody>\n",
       "</table>\n",
       "</div>"
      ],
      "text/plain": [
       "       user_id    month  minutes  gb_used  messages  payment\n",
       "count  2229.00  2229.00  2229.00  2229.00   2229.00  2229.00\n",
       "mean   1246.51     8.35   417.93    16.33     33.38  1272.57\n",
       "std     146.12     2.92   190.31     5.75     28.23   813.58\n",
       "min    1001.00     1.00     0.00     0.00      0.00   550.00\n",
       "25%    1121.00     6.00   282.00    13.00     10.00   550.00\n",
       "50%    1239.00     9.00   422.00    17.00     28.00   994.00\n",
       "75%    1376.00    11.00   545.00    20.00     51.00  1750.00\n",
       "max    1499.00    12.00  1435.00    38.00    143.00  6671.00"
      ]
     },
     "execution_count": 52,
     "metadata": {},
     "output_type": "execute_result"
    }
   ],
   "source": [
    "display(df.query('tariff == \"ultra\"').describe().round(2))\n",
    "df.query('tariff == \"smart\"').describe().round(2)"
   ]
  },
  {
   "cell_type": "markdown",
   "id": "999f9377",
   "metadata": {},
   "source": [
    "### Среднее колчество минут разговора в месяц"
   ]
  },
  {
   "cell_type": "code",
   "execution_count": 53,
   "id": "fa18b94e",
   "metadata": {
    "scrolled": false
   },
   "outputs": [
    {
     "data": {
      "text/plain": [
       "Text(0.5, 0, 'Длительность разговора мин')"
      ]
     },
     "execution_count": 53,
     "metadata": {},
     "output_type": "execute_result"
    },
    {
     "data": {
      "image/png": "[encoded data removed]",
      "text/plain": [
       "<Figure size 1008x432 with 1 Axes>"
      ]
     },
     "metadata": {
      "needs_background": "light"
     },
     "output_type": "display_data"
    }
   ],
   "source": [
    "df.query('tariff == \"ultra\"')['minutes'].hist(bins=50,alpha=0.3,figsize=(14, 6))\n",
    "df.query('tariff == \"smart\"')['minutes'].hist(bins=50,alpha=0.3)\n",
    "\n",
    "plt.legend(['Тариф \"Ультра\"','Тариф \"Смарт\"'])\n",
    "plt.ylabel(\"Количество Пользователей\")\n",
    "plt.xlabel(\"Длительность разговора мин\")"
   ]
  },
  {
   "cell_type": "code",
   "execution_count": 54,
   "id": "162c75da",
   "metadata": {
    "scrolled": true
   },
   "outputs": [
    {
     "name": "stdout",
     "output_type": "stream",
     "text": [
      "Среднее колчество минут разговора в месяц:\n",
      "Тариф \"ultra\": 526.62 минут,  дисперсия = 100873.63 стандартное отклонение = 317.61\n",
      "Тариф \"smart\": 417.93 минут,  дисперсия = 36219.32 стандартное отклонение = 190.31\n",
      "\n",
      "% минут по тарифам tariff\n",
      "smart    0.642334\n",
      "ultra    0.357666\n",
      "Name: minutes, dtype: float64\n"
     ]
    }
   ],
   "source": [
    "print('Среднее колчество минут разговора в месяц:')\n",
    "print ('Тариф \"ultra\":', df.query('tariff == \"ultra\"')['minutes'].describe()['mean'].round(2),'минут, ',\n",
    "      'дисперсия =',(df.query('tariff == \"ultra\"')['minutes'].describe()['std']**2).round(2),\n",
    "       'стандартное отклонение =',df.query('tariff == \"ultra\"')['minutes'].describe()['std'].round(2))\n",
    "\n",
    "print ('Тариф \"smart\":', df.query('tariff == \"smart\"')['minutes'].describe()['mean'].round(2),'минут, ',\n",
    "       'дисперсия =',(df.query('tariff == \"smart\"')['minutes'].describe()['std']**2).round(2),\n",
    "      'стандартное отклонение =',df.query('tariff == \"smart\"')['minutes'].describe()['std'].round(2))\n",
    "print()\n",
    "print('% минут по тарифам',df.groupby('tariff')['minutes'].sum()/df['minutes'].sum())\n",
    "      \n"
   ]
  },
  {
   "cell_type": "markdown",
   "id": "6bf3cc6f",
   "metadata": {},
   "source": [
    "### Среднее колчество гигабайт интернет-трафика в месяц"
   ]
  },
  {
   "cell_type": "code",
   "execution_count": 55,
   "id": "89dce689",
   "metadata": {},
   "outputs": [
    {
     "name": "stdout",
     "output_type": "stream",
     "text": [
      "Среднее колчество гигабайт интернет-трафика в месяц:\n",
      "Тариф \"ultra\" =  19.49 Гб,  дисперсия = 97.09 стандартное отклонение = 9.85\n",
      "Тариф \"smart\" =  16.33 Гб,  дисперсия = 33.03 стандартное отклонение = 5.75\n",
      "\n",
      "% гигабайты по тарифам tariff\n",
      "smart    0.654634\n",
      "ultra    0.345366\n",
      "Name: gb_used, dtype: float64\n"
     ]
    }
   ],
   "source": [
    "print('Среднее колчество гигабайт интернет-трафика в месяц:')\n",
    "print ('Тариф \"ultra\" = ', df.query('tariff == \"ultra\"')['gb_used'].describe()['mean'].round(2),'Гб, ',\n",
    "      'дисперсия =',(df.query('tariff == \"ultra\"')['gb_used'].describe()['std']**2).round(2),\n",
    "       'стандартное отклонение =',df.query('tariff == \"ultra\"')['gb_used'].describe()['std'].round(2))\n",
    "\n",
    "print ('Тариф \"smart\" = ', df.query('tariff == \"smart\"')['gb_used'].describe()['mean'].round(2),'Гб, ',\n",
    "       'дисперсия =',(df.query('tariff == \"smart\"')['gb_used'].describe()['std']**2).round(2),\n",
    "      'стандартное отклонение =',df.query('tariff == \"smart\"')['gb_used'].describe()['std'].round(2))\n",
    "\n",
    "print()\n",
    "print('% гигабайты по тарифам',df.groupby('tariff')['gb_used'].sum()/df['gb_used'].sum())\n"
   ]
  },
  {
   "cell_type": "code",
   "execution_count": 56,
   "id": "18af7489",
   "metadata": {
    "scrolled": false
   },
   "outputs": [
    {
     "data": {
      "text/plain": [
       "Text(0.5, 0, 'Количество сообщений')"
      ]
     },
     "execution_count": 56,
     "metadata": {},
     "output_type": "execute_result"
    },
    {
     "data": {
      "image/png": "[encoded data removed]",
      "text/plain": [
       "<Figure size 1008x432 with 1 Axes>"
      ]
     },
     "metadata": {
      "needs_background": "light"
     },
     "output_type": "display_data"
    }
   ],
   "source": [
    "df.query('tariff == \"ultra\"')['messages'].hist(bins=20,alpha=0.3,figsize=(14, 6))\n",
    "df.query('tariff == \"smart\"')['messages'].hist(bins=20,alpha=0.3)\n",
    "\n",
    "plt.legend(['Тариф \"Ультра\"','Тариф \"Смарт\"'])\n",
    "plt.ylabel(\"Количество Пользователей\")\n",
    "plt.xlabel(\"Количество сообщений\")"
   ]
  },
  {
   "cell_type": "markdown",
   "id": "487b4202",
   "metadata": {},
   "source": [
    "### Среднее колчество сообщений в месяц"
   ]
  },
  {
   "cell_type": "code",
   "execution_count": 57,
   "id": "0c41059f",
   "metadata": {},
   "outputs": [
    {
     "name": "stdout",
     "output_type": "stream",
     "text": [
      "Среднее колчество сообщений в месяц:\n",
      "Тариф \"ultra\" =  49.36 дисперсия = 2285.27 стандартное отклонение = 47.8\n",
      "Тариф \"smart\" =  33.38 дисперсия = 796.81 стандартное отклонение = 28.23\n",
      "\n",
      "% сообщений по тарифам tariff\n",
      "smart    0.604807\n",
      "ultra    0.395193\n",
      "Name: messages, dtype: float64\n"
     ]
    }
   ],
   "source": [
    "print('Среднее колчество сообщений в месяц:')\n",
    "print('Тариф \"ultra\" = ', df.query('tariff == \"ultra\"')['messages'].describe()['mean'].round(2),\n",
    "      'дисперсия =',(df.query('tariff == \"ultra\"')['messages'].describe()['std']**2).round(2),\n",
    "       'стандартное отклонение =',df.query('tariff == \"ultra\"')['messages'].describe()['std'].round(2))\n",
    "\n",
    "print('Тариф \"smart\" = ', df.query('tariff == \"smart\"')['messages'].describe()['mean'].round(2),\n",
    "       'дисперсия =',(df.query('tariff == \"smart\"')['messages'].describe()['std']**2).round(2),\n",
    "      'стандартное отклонение =',df.query('tariff == \"smart\"')['messages'].describe()['std'].round(2))\n",
    "\n",
    "print()\n",
    "print('% сообщений по тарифам',df.groupby('tariff')['messages'].sum()/df['messages'].sum())"
   ]
  },
  {
   "cell_type": "code",
   "execution_count": 58,
   "id": "a563bac9",
   "metadata": {},
   "outputs": [
    {
     "data": {
      "text/plain": [
       "Text(0.5, 0, 'Объём интернет-трафика Гб')"
      ]
     },
     "execution_count": 58,
     "metadata": {},
     "output_type": "execute_result"
    },
    {
     "data": {
      "image/png": "[encoded data removed]",
      "text/plain": [
       "<Figure size 1008x432 with 1 Axes>"
      ]
     },
     "metadata": {
      "needs_background": "light"
     },
     "output_type": "display_data"
    }
   ],
   "source": [
    "df.query('tariff == \"ultra\"')['gb_used'].hist(bins=20,alpha=0.3,figsize=(14, 6))\n",
    "df.query('tariff == \"smart\"')['gb_used'].hist(bins=20,alpha=0.3)\n",
    "\n",
    "plt.legend(['Тариф \"Ультра\"','Тариф \"Смарт\"'])\n",
    "plt.ylabel(\"Количество Пользователей\")\n",
    "plt.xlabel(\"Объём интернет-трафика Гб\")"
   ]
  },
  {
   "cell_type": "markdown",
   "id": "29cb26ae",
   "metadata": {},
   "source": [
    "### Изучение выручки"
   ]
  },
  {
   "cell_type": "code",
   "execution_count": 59,
   "id": "3753d358",
   "metadata": {},
   "outputs": [
    {
     "name": "stdout",
     "output_type": "stream",
     "text": [
      "Средний размер выручки в месяц:\n",
      "Тариф \"ultra\" =  2070.15 дисперсия = 141516.75 стандартное отклонение = 376.19\n",
      "Тариф \"smart\" =  1272.57 дисперсия = 661916.98 стандартное отклонение = 813.58\n",
      "\n",
      "% выручки по тарифам tariff\n",
      "smart    0.58178\n",
      "ultra    0.41822\n",
      "Name: payment, dtype: float64\n"
     ]
    }
   ],
   "source": [
    "print('Средний размер выручки в месяц:')\n",
    "print('Тариф \"ultra\" = ', df.query('tariff == \"ultra\"')['payment'].describe()['mean'].round(2),\n",
    "      'дисперсия =',(df.query('tariff == \"ultra\"')['payment'].describe()['std']**2).round(2),\n",
    "       'стандартное отклонение =',df.query('tariff == \"ultra\"')['payment'].describe()['std'].round(2))\n",
    "\n",
    "print('Тариф \"smart\" = ', df.query('tariff == \"smart\"')['payment'].describe()['mean'].round(2),\n",
    "       'дисперсия =',(df.query('tariff == \"smart\"')['payment'].describe()['std']**2).round(2),\n",
    "      'стандартное отклонение =',df.query('tariff == \"smart\"')['payment'].describe()['std'].round(2))\n",
    "\n",
    "print()\n",
    "print('% выручки по тарифам',df.groupby('tariff')['payment'].sum()/df['payment'].sum())"
   ]
  },
  {
   "cell_type": "markdown",
   "id": "d4347d4d",
   "metadata": {},
   "source": [
    "**Посчитаем количество пользователей тарифа Смарт с платежами выше абонентской платы**"
   ]
  },
  {
   "cell_type": "code",
   "execution_count": 60,
   "id": "3bde3d98",
   "metadata": {},
   "outputs": [
    {
     "data": {
      "text/plain": [
       "count     327.000000\n",
       "mean     1359.990082\n",
       "std       588.065028\n",
       "min       566.666667\n",
       "25%       912.666667\n",
       "50%      1212.333333\n",
       "75%      1689.000000\n",
       "max      4254.333333\n",
       "Name: payment, dtype: float64"
      ]
     },
     "execution_count": 60,
     "metadata": {},
     "output_type": "execute_result"
    }
   ],
   "source": [
    "user_payment = df.groupby(['user_id','tariff'],as_index=False)['payment'].mean()\n",
    "user_payment.query('tariff == \"smart\" and payment > 550')['payment'].describe()"
   ]
  },
  {
   "cell_type": "code",
   "execution_count": 61,
   "id": "17d87e44",
   "metadata": {},
   "outputs": [
    {
     "data": {
      "text/html": [
       "<div>\n",
       "<style scoped>\n",
       "    .dataframe tbody tr th:only-of-type {\n",
       "        vertical-align: middle;\n",
       "    }\n",
       "\n",
       "    .dataframe tbody tr th {\n",
       "        vertical-align: top;\n",
       "    }\n",
       "\n",
       "    .dataframe thead th {\n",
       "        text-align: right;\n",
       "    }\n",
       "</style>\n",
       "<table border=\"1\" class=\"dataframe\">\n",
       "  <thead>\n",
       "    <tr style=\"text-align: right;\">\n",
       "      <th></th>\n",
       "      <th>count</th>\n",
       "      <th>sum</th>\n",
       "    </tr>\n",
       "    <tr>\n",
       "      <th>tariff</th>\n",
       "      <th></th>\n",
       "      <th></th>\n",
       "    </tr>\n",
       "  </thead>\n",
       "  <tbody>\n",
       "    <tr>\n",
       "      <td>smart</td>\n",
       "      <td>350</td>\n",
       "      <td>457366.756854</td>\n",
       "    </tr>\n",
       "    <tr>\n",
       "      <td>ultra</td>\n",
       "      <td>148</td>\n",
       "      <td>308796.769481</td>\n",
       "    </tr>\n",
       "  </tbody>\n",
       "</table>\n",
       "</div>"
      ],
      "text/plain": [
       "        count            sum\n",
       "tariff                      \n",
       "smart     350  457366.756854\n",
       "ultra     148  308796.769481"
      ]
     },
     "execution_count": 61,
     "metadata": {},
     "output_type": "execute_result"
    }
   ],
   "source": [
    "user_payment.groupby('tariff')['payment'].agg(['count','sum'])"
   ]
  },
  {
   "cell_type": "markdown",
   "id": "2f8150c1",
   "metadata": {},
   "source": [
    "### Вывод\n",
    "\n",
    "В выборке представлено:\n",
    "- 350(70%) пользователей тарифа «Смарт»\n",
    "- 148(30%) тарифа «Ультра»\n",
    "\n",
    "Распределение минут \n",
    "- 64% «Смарт»\n",
    "- 36% «Ультра»\n",
    "\n",
    "Распределение интернет-трафика\n",
    "- 65% «Смарт»\n",
    "- 35% «Ультра»\n",
    "\n",
    "Распределение сообщений \n",
    "- 60% «Смарт»\n",
    "- 40% «Ультра»\n",
    "\n",
    "Распределение выручки\n",
    "- 58% «Смарт»\n",
    "- 42% «Ультра»\n",
    "\n",
    "Это говорит нам о том, что более активны пользователи тарифа «Ультра». Платежи 327(93%) пользователей тарифа «Смарт» превышают абонентскую плату. Как минимум четверть из них (75 процентиль) по платежам уже приблизились к тарифу «Ультра».\n"
   ]
  },
  {
   "cell_type": "markdown",
   "id": "beebe73d",
   "metadata": {},
   "source": [
    "### Шаг 4. Проверьте гипотезы\n",
    "- средняя выручка пользователей тарифов «Ультра» и «Смарт» различаются;\n",
    "- средняя выручка пользователи из Москвы отличается от выручки пользователей из других регионов.\n",
    "\n",
    "Пороговое значение alpha задайте самостоятельно.\n",
    "\n",
    "Поясните:\n",
    "- как вы формулировали нулевую и альтернативную гипотезы;\n",
    "- какой критерий использовали для проверки гипотез и почему."
   ]
  },
  {
   "cell_type": "markdown",
   "id": "3beebce0",
   "metadata": {},
   "source": [
    "Нулевую гипотезу формулируем исходя из предположение о том, что не существует связи между двумя наблюдаемыми событиями.\n",
    "Уровень значимости устанавливаем — 5%, как общепринятое пороговое значение."
   ]
  },
  {
   "cell_type": "markdown",
   "id": "66f057d9",
   "metadata": {},
   "source": [
    "### Проверька гипотезы, что средняя выручка пользователей тарифов «Ультра» и «Смарт» различаются"
   ]
  },
  {
   "cell_type": "markdown",
   "id": "29001e8f",
   "metadata": {},
   "source": [
    "Сформируем гипотезы:\n",
    "\n",
    "    H0 - средняя выручка пользователей тарифов «Ультра» и «Смарт» не различается\n",
    "    H1 - средняя выручка пользователей тарифов «Ультра» и «Смарт» различается\n",
    "\n",
    "Зададим 2 выборки для разных тарифов"
   ]
  },
  {
   "cell_type": "code",
   "execution_count": 62,
   "id": "2d1552fe",
   "metadata": {},
   "outputs": [],
   "source": [
    "tariff_smart = df.query('tariff == \"smart\"')\n",
    "tariff_ultra = df.query('tariff == \"ultra\"')"
   ]
  },
  {
   "cell_type": "code",
   "execution_count": 63,
   "id": "020bd1d7",
   "metadata": {},
   "outputs": [
    {
     "name": "stdout",
     "output_type": "stream",
     "text": [
      "p-значение:  3.798003235009034e-261\n",
      "Отвергаем нулевую гипотезу\n"
     ]
    }
   ],
   "source": [
    "alpha = .05\n",
    "\n",
    "results = st.ttest_ind(tariff_smart['payment'], tariff_ultra['payment'], equal_var = False)\n",
    "\n",
    "print('p-значение: ', results.pvalue)\n",
    "\n",
    "if results.pvalue < alpha:\n",
    "    print(\"Отвергаем нулевую гипотезу\")\n",
    "else:\n",
    "    print(\"Не получилось отвергнуть нулевую гипотезу\") "
   ]
  },
  {
   "cell_type": "markdown",
   "id": "f33e9946",
   "metadata": {},
   "source": [
    "### Проверка гипотезы, что средняя выручка пользователи из Москвы отличается от выручки пользователей из других регионов.\n",
    "\n",
    "Сформируем гипотезы:\n",
    "\n",
    "    H0 - средняя выручка пользователей тарифов «Ультра» и «Смарт» не различается\n",
    "    H1 - средняя выручка пользователей тарифов «Ультра» и «Смарт» различается\n",
    "\n",
    "Зададим 2 выборки для москвы и других городов"
   ]
  },
  {
   "cell_type": "code",
   "execution_count": 64,
   "id": "9e5c038a",
   "metadata": {},
   "outputs": [],
   "source": [
    "payment_msk = df.query('city == \"Москва\"')\n",
    "payment_no_msk = df.query('city != \"Москва\"')"
   ]
  },
  {
   "cell_type": "code",
   "execution_count": 65,
   "id": "cacac0e9",
   "metadata": {},
   "outputs": [
    {
     "name": "stdout",
     "output_type": "stream",
     "text": [
      "p-значение:  0.425625168367989\n",
      "Не получилось отвергнуть нулевую гипотезу\n"
     ]
    }
   ],
   "source": [
    "alpha = .05\n",
    "\n",
    "results = st.ttest_ind(payment_msk['payment'], payment_no_msk['payment'], equal_var = False)\n",
    "\n",
    "print('p-значение: ', results.pvalue)\n",
    "\n",
    "if results.pvalue < alpha:\n",
    "    print(\"Отвергаем нулевую гипотезу\")\n",
    "else:\n",
    "    print(\"Не получилось отвергнуть нулевую гипотезу\") "
   ]
  },
  {
   "cell_type": "code",
   "execution_count": 66,
   "id": "818534be",
   "metadata": {},
   "outputs": [
    {
     "data": {
      "text/plain": [
       "tariff\n",
       "smart    1272.573800\n",
       "ultra    2070.152284\n",
       "Name: payment, dtype: float64"
      ]
     },
     "execution_count": 66,
     "metadata": {},
     "output_type": "execute_result"
    }
   ],
   "source": [
    "df.groupby('tariff')['payment'].mean()"
   ]
  },
  {
   "cell_type": "markdown",
   "id": "8453f6c9",
   "metadata": {},
   "source": [
    "### Шаг 5. Напишите общий вывод"
   ]
  },
  {
   "cell_type": "markdown",
   "id": "e8e98f32",
   "metadata": {},
   "source": [
    "Нам представлена выборка данных о расходах 500 абонентов компании «Мегалайн» за 2018 год.\n",
    "\n",
    "В процессе исследования:\n",
    "- В таблицах users, tariffs, calls, internet данные колонок содержащих дату были заменены на тип datetime64.\n",
    "- Пропуски в таблице users в значениях churn_date менять не стали, тк по условию если значение пропущено, то тариф ещё действовал на момент выгрузки данных.\n",
    "- В tariffs объём интернет-трафика, включённого в абонентскую плату (в мегабайтах) пересчитали в гигабайты.\n",
    "- В calls длительность звонка округлили до минут и перевели  в формат int.\n",
    "- В internet удалена колонка Unnamed: 0 дублирующая значение индексов. Объём потраченных мегабайт суммированы за месяц, пересчитаны в гигабайты и переведены в int.\n",
    "\n",
    "Каждую таблицу (кроме tariffs) сгруппировали по идентификатору пользователя и месяцу.\n",
    "Получившиеся сводные таблицы объединили в единую таблицу user_spend. Пропуски возникающие в процессе объединения были заменены на 0.\n",
    "Тк не все клиенты использовали предоставленные им минуты или интеренет траффик.\n",
    "Из user_spend были удалены 2 строки пропусков: абоненты которые заключили договор и расторгли его в течение 1 месяца не воспользовавшись услугами оператора.\n",
    "\n",
    "Объединив информацию о расходах с информацией о тарифах мы получили новый датафрейм с данными о затратах каждого пользователя.\n",
    "\n",
    "Изучив полученный датафрейм, мы пришли к выводу, что доля пользователей тарифа \"Ультра\" составляет 30% от всех пользователей. При этом на них приходится 42% выручки.\n",
    "\n",
    "93% пользователей тарифа «Смарт» превышают абонентскую плату. Как минимум четверть из них (75 процентиль) по платежам уже приблизились к тарифу «Ультра».\n",
    "\n",
    "Тариф «Ультра» является более выгодным для «Мегалайн», так как он приносит больше выручки на одного абонента. Коммерческому отделу стоит сконцентрироваться на рекламе тарифа «Ультра» среди пользователей тарифа \"Смарт\", тк около 23%(327/4/350) по сумме платежей приближаются к абонентской плате тарифа «Ультра»."
   ]
  },
  {
   "cell_type": "code",
   "execution_count": 67,
   "id": "59e7c795",
   "metadata": {},
   "outputs": [
    {
     "data": {
      "text/plain": [
       "<matplotlib.axes._subplots.AxesSubplot at 0x7f5159d0c850>"
      ]
     },
     "execution_count": 67,
     "metadata": {},
     "output_type": "execute_result"
    },
    {
     "data": {
      "image/png": "[encoded data removed]",
      "text/plain": [
       "<Figure size 1008x432 with 1 Axes>"
      ]
     },
     "metadata": {
      "needs_background": "light"
     },
     "output_type": "display_data"
    }
   ],
   "source": [
    "df.groupby(['month','tariff']).agg({'payment':'sum'}).plot(kind='bar', figsize=(14,6))"
   ]
  },
  {
   "cell_type": "markdown",
   "id": "84a9f336",
   "metadata": {},
   "source": [
    "Очевидно, что выручка растет с каждим месяцем. Доли выручки по каждому тарифу сохраняются."
   ]
  }
 ],
 "metadata": {
  "ExecuteTimeLog": [
   {
    "duration": 1384,
    "start_time": "2022-03-09T11:35:48.669Z"
   },
   {
    "duration": 482,
    "start_time": "2022-03-09T11:35:50.055Z"
   },
   {
    "duration": 4,
    "start_time": "2022-03-09T11:35:50.540Z"
   },
   {
    "duration": 22,
    "start_time": "2022-03-09T11:35:50.546Z"
   },
   {
    "duration": 19,
    "start_time": "2022-03-09T11:35:50.571Z"
   },
   {
    "duration": 9,
    "start_time": "2022-03-09T11:35:50.592Z"
   },
   {
    "duration": 8,
    "start_time": "2022-03-09T11:35:50.603Z"
   },
   {
    "duration": 12,
    "start_time": "2022-03-09T11:35:50.615Z"
   },
   {
    "duration": 12,
    "start_time": "2022-03-09T11:35:50.629Z"
   },
   {
    "duration": 44,
    "start_time": "2022-03-09T11:35:50.643Z"
   },
   {
    "duration": 14,
    "start_time": "2022-03-09T11:35:50.690Z"
   },
   {
    "duration": 197,
    "start_time": "2022-03-09T11:35:50.707Z"
   },
   {
    "duration": 87,
    "start_time": "2022-03-09T11:35:50.907Z"
   },
   {
    "duration": 12,
    "start_time": "2022-03-09T11:35:50.996Z"
   },
   {
    "duration": 38,
    "start_time": "2022-03-09T11:35:51.011Z"
   },
   {
    "duration": 37,
    "start_time": "2022-03-09T11:35:51.052Z"
   },
   {
    "duration": 16,
    "start_time": "2022-03-09T11:35:51.092Z"
   },
   {
    "duration": 14,
    "start_time": "2022-03-09T11:35:51.111Z"
   },
   {
    "duration": 132,
    "start_time": "2022-03-09T11:35:51.128Z"
   },
   {
    "duration": 71,
    "start_time": "2022-03-09T11:35:51.263Z"
   },
   {
    "duration": 13,
    "start_time": "2022-03-09T11:35:51.336Z"
   },
   {
    "duration": 48,
    "start_time": "2022-03-09T11:35:51.352Z"
   },
   {
    "duration": 10,
    "start_time": "2022-03-09T11:35:51.406Z"
   },
   {
    "duration": 9,
    "start_time": "2022-03-09T11:35:51.419Z"
   },
   {
    "duration": 8,
    "start_time": "2022-03-09T11:35:51.431Z"
   },
   {
    "duration": 21,
    "start_time": "2022-03-09T11:35:51.441Z"
   },
   {
    "duration": 24,
    "start_time": "2022-03-09T11:35:51.464Z"
   },
   {
    "duration": 115,
    "start_time": "2022-03-09T11:35:51.490Z"
   },
   {
    "duration": 44,
    "start_time": "2022-03-09T11:35:51.607Z"
   },
   {
    "duration": 11,
    "start_time": "2022-03-09T11:35:51.653Z"
   },
   {
    "duration": 43,
    "start_time": "2022-03-09T11:35:51.666Z"
   },
   {
    "duration": 4,
    "start_time": "2022-03-09T11:35:51.711Z"
   },
   {
    "duration": 16,
    "start_time": "2022-03-09T11:35:51.716Z"
   },
   {
    "duration": 17,
    "start_time": "2022-03-09T11:35:51.734Z"
   },
   {
    "duration": 7,
    "start_time": "2022-03-09T11:35:51.787Z"
   },
   {
    "duration": 5,
    "start_time": "2022-03-09T11:35:51.796Z"
   },
   {
    "duration": 12,
    "start_time": "2022-03-09T11:35:51.803Z"
   },
   {
    "duration": 8,
    "start_time": "2022-03-09T11:35:51.817Z"
   },
   {
    "duration": 15,
    "start_time": "2022-03-09T11:35:51.827Z"
   },
   {
    "duration": 15,
    "start_time": "2022-03-09T11:35:51.888Z"
   },
   {
    "duration": 9,
    "start_time": "2022-03-09T11:35:51.905Z"
   },
   {
    "duration": 13,
    "start_time": "2022-03-09T11:35:51.916Z"
   },
   {
    "duration": 19,
    "start_time": "2022-03-09T11:35:51.931Z"
   },
   {
    "duration": 56,
    "start_time": "2022-03-09T11:35:51.952Z"
   },
   {
    "duration": 7,
    "start_time": "2022-03-09T11:35:52.010Z"
   },
   {
    "duration": 384,
    "start_time": "2022-03-09T11:35:52.020Z"
   },
   {
    "duration": 14,
    "start_time": "2022-03-09T11:35:52.407Z"
   },
   {
    "duration": 8,
    "start_time": "2022-03-09T11:35:52.424Z"
   },
   {
    "duration": 112,
    "start_time": "2022-03-09T11:35:52.434Z"
   },
   {
    "duration": 720,
    "start_time": "2022-03-09T11:35:52.548Z"
   },
   {
    "duration": 56,
    "start_time": "2022-03-09T11:35:53.270Z"
   },
   {
    "duration": 73,
    "start_time": "2022-03-09T11:35:53.328Z"
   },
   {
    "duration": 498,
    "start_time": "2022-03-09T11:35:53.403Z"
   },
   {
    "duration": 49,
    "start_time": "2022-03-09T11:35:53.903Z"
   },
   {
    "duration": 544,
    "start_time": "2022-03-09T11:35:53.954Z"
   },
   {
    "duration": 49,
    "start_time": "2022-03-09T11:35:54.500Z"
   },
   {
    "duration": 41,
    "start_time": "2022-03-09T11:35:54.551Z"
   },
   {
    "duration": 9,
    "start_time": "2022-03-09T11:35:54.594Z"
   },
   {
    "duration": 10,
    "start_time": "2022-03-09T11:35:54.606Z"
   },
   {
    "duration": 8,
    "start_time": "2022-03-09T11:35:54.619Z"
   },
   {
    "duration": 7,
    "start_time": "2022-03-09T11:35:54.629Z"
   },
   {
    "duration": 1346,
    "start_time": "2022-03-09T11:45:27.198Z"
   },
   {
    "duration": 471,
    "start_time": "2022-03-09T11:45:28.546Z"
   },
   {
    "duration": 4,
    "start_time": "2022-03-09T11:45:29.023Z"
   },
   {
    "duration": 22,
    "start_time": "2022-03-09T11:45:29.029Z"
   },
   {
    "duration": 37,
    "start_time": "2022-03-09T11:45:29.053Z"
   },
   {
    "duration": 9,
    "start_time": "2022-03-09T11:45:29.092Z"
   },
   {
    "duration": 7,
    "start_time": "2022-03-09T11:45:29.105Z"
   },
   {
    "duration": 13,
    "start_time": "2022-03-09T11:45:29.115Z"
   },
   {
    "duration": 15,
    "start_time": "2022-03-09T11:45:29.130Z"
   },
   {
    "duration": 42,
    "start_time": "2022-03-09T11:45:29.147Z"
   },
   {
    "duration": 11,
    "start_time": "2022-03-09T11:45:29.192Z"
   },
   {
    "duration": 193,
    "start_time": "2022-03-09T11:45:29.205Z"
   },
   {
    "duration": 70,
    "start_time": "2022-03-09T11:45:29.401Z"
   },
   {
    "duration": 25,
    "start_time": "2022-03-09T11:45:29.473Z"
   },
   {
    "duration": 36,
    "start_time": "2022-03-09T11:45:29.500Z"
   },
   {
    "duration": 9,
    "start_time": "2022-03-09T11:45:29.539Z"
   },
   {
    "duration": 41,
    "start_time": "2022-03-09T11:45:29.551Z"
   },
   {
    "duration": 11,
    "start_time": "2022-03-09T11:45:29.595Z"
   },
   {
    "duration": 121,
    "start_time": "2022-03-09T11:45:29.608Z"
   },
   {
    "duration": 63,
    "start_time": "2022-03-09T11:45:29.731Z"
   },
   {
    "duration": 13,
    "start_time": "2022-03-09T11:45:29.796Z"
   },
   {
    "duration": 26,
    "start_time": "2022-03-09T11:45:29.815Z"
   },
   {
    "duration": 9,
    "start_time": "2022-03-09T11:45:29.845Z"
   },
   {
    "duration": 8,
    "start_time": "2022-03-09T11:45:29.887Z"
   },
   {
    "duration": 9,
    "start_time": "2022-03-09T11:45:29.897Z"
   },
   {
    "duration": 13,
    "start_time": "2022-03-09T11:45:29.908Z"
   },
   {
    "duration": 13,
    "start_time": "2022-03-09T11:45:29.924Z"
   },
   {
    "duration": 125,
    "start_time": "2022-03-09T11:45:29.939Z"
   },
   {
    "duration": 60,
    "start_time": "2022-03-09T11:45:30.067Z"
   },
   {
    "duration": 13,
    "start_time": "2022-03-09T11:45:30.130Z"
   },
   {
    "duration": 51,
    "start_time": "2022-03-09T11:45:30.146Z"
   },
   {
    "duration": 3,
    "start_time": "2022-03-09T11:45:30.200Z"
   },
   {
    "duration": 36,
    "start_time": "2022-03-09T11:45:30.206Z"
   },
   {
    "duration": 27,
    "start_time": "2022-03-09T11:45:30.245Z"
   },
   {
    "duration": 8,
    "start_time": "2022-03-09T11:45:30.274Z"
   },
   {
    "duration": 11,
    "start_time": "2022-03-09T11:45:30.284Z"
   },
   {
    "duration": 14,
    "start_time": "2022-03-09T11:45:30.298Z"
   },
   {
    "duration": 14,
    "start_time": "2022-03-09T11:45:30.314Z"
   },
   {
    "duration": 21,
    "start_time": "2022-03-09T11:45:30.331Z"
   },
   {
    "duration": 35,
    "start_time": "2022-03-09T11:45:30.355Z"
   },
   {
    "duration": 19,
    "start_time": "2022-03-09T11:45:30.393Z"
   },
   {
    "duration": 14,
    "start_time": "2022-03-09T11:45:30.414Z"
   },
   {
    "duration": 18,
    "start_time": "2022-03-09T11:45:30.431Z"
   },
   {
    "duration": 42,
    "start_time": "2022-03-09T11:45:30.451Z"
   },
   {
    "duration": 7,
    "start_time": "2022-03-09T11:45:30.495Z"
   },
   {
    "duration": 392,
    "start_time": "2022-03-09T11:45:30.504Z"
   },
   {
    "duration": 16,
    "start_time": "2022-03-09T11:45:30.899Z"
   },
   {
    "duration": 23,
    "start_time": "2022-03-09T11:45:30.917Z"
   },
   {
    "duration": 97,
    "start_time": "2022-03-09T11:45:30.943Z"
   },
   {
    "duration": 704,
    "start_time": "2022-03-09T11:45:31.043Z"
   },
   {
    "duration": 69,
    "start_time": "2022-03-09T11:45:31.750Z"
   },
   {
    "duration": 48,
    "start_time": "2022-03-09T11:45:31.821Z"
   },
   {
    "duration": 490,
    "start_time": "2022-03-09T11:45:31.888Z"
   },
   {
    "duration": 49,
    "start_time": "2022-03-09T11:45:32.386Z"
   },
   {
    "duration": 1115,
    "start_time": "2022-03-09T11:45:32.488Z"
   },
   {
    "duration": 63,
    "start_time": "2022-03-09T11:45:33.605Z"
   },
   {
    "duration": 27,
    "start_time": "2022-03-09T11:45:33.688Z"
   },
   {
    "duration": 17,
    "start_time": "2022-03-09T11:45:33.718Z"
   },
   {
    "duration": 20,
    "start_time": "2022-03-09T11:45:33.737Z"
   },
   {
    "duration": 30,
    "start_time": "2022-03-09T11:45:33.760Z"
   },
   {
    "duration": 14,
    "start_time": "2022-03-09T11:45:33.792Z"
   },
   {
    "duration": 75,
    "start_time": "2022-03-09T11:58:12.384Z"
   },
   {
    "duration": 6,
    "start_time": "2022-03-09T12:13:39.610Z"
   },
   {
    "duration": 6,
    "start_time": "2022-03-09T12:14:04.534Z"
   },
   {
    "duration": 6,
    "start_time": "2022-03-09T12:14:53.689Z"
   },
   {
    "duration": 87,
    "start_time": "2022-03-09T18:44:16.959Z"
   },
   {
    "duration": 95,
    "start_time": "2022-03-09T18:47:18.846Z"
   },
   {
    "duration": 86,
    "start_time": "2022-03-09T18:56:15.155Z"
   },
   {
    "duration": 1331,
    "start_time": "2022-03-09T19:00:58.785Z"
   },
   {
    "duration": 493,
    "start_time": "2022-03-09T19:01:00.119Z"
   },
   {
    "duration": 3,
    "start_time": "2022-03-09T19:01:00.615Z"
   },
   {
    "duration": 22,
    "start_time": "2022-03-09T19:01:00.621Z"
   },
   {
    "duration": 21,
    "start_time": "2022-03-09T19:01:00.645Z"
   },
   {
    "duration": 8,
    "start_time": "2022-03-09T19:01:00.669Z"
   },
   {
    "duration": 16,
    "start_time": "2022-03-09T19:01:00.679Z"
   },
   {
    "duration": 11,
    "start_time": "2022-03-09T19:01:00.699Z"
   },
   {
    "duration": 45,
    "start_time": "2022-03-09T19:01:00.713Z"
   },
   {
    "duration": 11,
    "start_time": "2022-03-09T19:01:00.760Z"
   },
   {
    "duration": 16,
    "start_time": "2022-03-09T19:01:00.774Z"
   },
   {
    "duration": 213,
    "start_time": "2022-03-09T19:01:00.793Z"
   },
   {
    "duration": 80,
    "start_time": "2022-03-09T19:01:01.009Z"
   },
   {
    "duration": 12,
    "start_time": "2022-03-09T19:01:01.091Z"
   },
   {
    "duration": 56,
    "start_time": "2022-03-09T19:01:01.106Z"
   },
   {
    "duration": 10,
    "start_time": "2022-03-09T19:01:01.165Z"
   },
   {
    "duration": 24,
    "start_time": "2022-03-09T19:01:01.177Z"
   },
   {
    "duration": 13,
    "start_time": "2022-03-09T19:01:01.204Z"
   },
   {
    "duration": 141,
    "start_time": "2022-03-09T19:01:01.219Z"
   },
   {
    "duration": 52,
    "start_time": "2022-03-09T19:01:01.363Z"
   },
   {
    "duration": 33,
    "start_time": "2022-03-09T19:01:01.418Z"
   },
   {
    "duration": 29,
    "start_time": "2022-03-09T19:01:01.453Z"
   },
   {
    "duration": 11,
    "start_time": "2022-03-09T19:01:01.487Z"
   },
   {
    "duration": 27,
    "start_time": "2022-03-09T19:01:01.501Z"
   },
   {
    "duration": 12,
    "start_time": "2022-03-09T19:01:01.530Z"
   },
   {
    "duration": 12,
    "start_time": "2022-03-09T19:01:01.552Z"
   },
   {
    "duration": 912,
    "start_time": "2022-03-09T19:01:01.567Z"
   },
   {
    "duration": 116,
    "start_time": "2022-03-09T19:01:02.366Z"
   },
   {
    "duration": 113,
    "start_time": "2022-03-09T19:01:02.371Z"
   },
   {
    "duration": 109,
    "start_time": "2022-03-09T19:01:02.376Z"
   },
   {
    "duration": 107,
    "start_time": "2022-03-09T19:01:02.380Z"
   },
   {
    "duration": 103,
    "start_time": "2022-03-09T19:01:02.386Z"
   },
   {
    "duration": 100,
    "start_time": "2022-03-09T19:01:02.391Z"
   },
   {
    "duration": 89,
    "start_time": "2022-03-09T19:01:02.403Z"
   },
   {
    "duration": 86,
    "start_time": "2022-03-09T19:01:02.407Z"
   },
   {
    "duration": 80,
    "start_time": "2022-03-09T19:01:02.414Z"
   },
   {
    "duration": 78,
    "start_time": "2022-03-09T19:01:02.418Z"
   },
   {
    "duration": 74,
    "start_time": "2022-03-09T19:01:02.423Z"
   },
   {
    "duration": 64,
    "start_time": "2022-03-09T19:01:02.434Z"
   },
   {
    "duration": 61,
    "start_time": "2022-03-09T19:01:02.439Z"
   },
   {
    "duration": 57,
    "start_time": "2022-03-09T19:01:02.444Z"
   },
   {
    "duration": 53,
    "start_time": "2022-03-09T19:01:02.449Z"
   },
   {
    "duration": 51,
    "start_time": "2022-03-09T19:01:02.453Z"
   },
   {
    "duration": 48,
    "start_time": "2022-03-09T19:01:02.457Z"
   },
   {
    "duration": 44,
    "start_time": "2022-03-09T19:01:02.462Z"
   },
   {
    "duration": 41,
    "start_time": "2022-03-09T19:01:02.467Z"
   },
   {
    "duration": 79,
    "start_time": "2022-03-09T19:01:02.471Z"
   },
   {
    "duration": 76,
    "start_time": "2022-03-09T19:01:02.476Z"
   },
   {
    "duration": 73,
    "start_time": "2022-03-09T19:01:02.480Z"
   },
   {
    "duration": 71,
    "start_time": "2022-03-09T19:01:02.484Z"
   },
   {
    "duration": 68,
    "start_time": "2022-03-09T19:01:02.488Z"
   },
   {
    "duration": 58,
    "start_time": "2022-03-09T19:01:02.499Z"
   },
   {
    "duration": 56,
    "start_time": "2022-03-09T19:01:02.503Z"
   },
   {
    "duration": 52,
    "start_time": "2022-03-09T19:01:02.508Z"
   },
   {
    "duration": 50,
    "start_time": "2022-03-09T19:01:02.512Z"
   },
   {
    "duration": 46,
    "start_time": "2022-03-09T19:01:02.517Z"
   },
   {
    "duration": 43,
    "start_time": "2022-03-09T19:01:02.521Z"
   },
   {
    "duration": 32,
    "start_time": "2022-03-09T19:01:02.534Z"
   },
   {
    "duration": -20,
    "start_time": "2022-03-09T19:01:02.587Z"
   },
   {
    "duration": -35,
    "start_time": "2022-03-09T19:01:02.604Z"
   },
   {
    "duration": -44,
    "start_time": "2022-03-09T19:01:02.614Z"
   },
   {
    "duration": -48,
    "start_time": "2022-03-09T19:01:02.619Z"
   },
   {
    "duration": -55,
    "start_time": "2022-03-09T19:01:02.628Z"
   },
   {
    "duration": -58,
    "start_time": "2022-03-09T19:01:02.632Z"
   },
   {
    "duration": -62,
    "start_time": "2022-03-09T19:01:02.638Z"
   },
   {
    "duration": -68,
    "start_time": "2022-03-09T19:01:02.645Z"
   },
   {
    "duration": 830,
    "start_time": "2022-03-09T19:01:41.568Z"
   },
   {
    "duration": 499,
    "start_time": "2022-03-09T19:02:03.369Z"
   },
   {
    "duration": 554,
    "start_time": "2022-03-09T19:02:17.665Z"
   },
   {
    "duration": 10,
    "start_time": "2022-03-09T19:02:18.221Z"
   },
   {
    "duration": 128,
    "start_time": "2022-03-09T19:02:18.234Z"
   },
   {
    "duration": 40,
    "start_time": "2022-03-09T19:02:18.365Z"
   },
   {
    "duration": 10,
    "start_time": "2022-03-09T19:02:18.408Z"
   },
   {
    "duration": 49,
    "start_time": "2022-03-09T19:02:18.421Z"
   },
   {
    "duration": 3,
    "start_time": "2022-03-09T19:02:18.473Z"
   },
   {
    "duration": 10,
    "start_time": "2022-03-09T19:02:18.480Z"
   },
   {
    "duration": 21,
    "start_time": "2022-03-09T19:02:18.493Z"
   },
   {
    "duration": 41,
    "start_time": "2022-03-09T19:02:18.516Z"
   },
   {
    "duration": 4,
    "start_time": "2022-03-09T19:02:18.559Z"
   },
   {
    "duration": 12,
    "start_time": "2022-03-09T19:02:18.565Z"
   },
   {
    "duration": 8,
    "start_time": "2022-03-09T19:02:18.579Z"
   },
   {
    "duration": 17,
    "start_time": "2022-03-09T19:02:18.589Z"
   },
   {
    "duration": 53,
    "start_time": "2022-03-09T19:02:18.609Z"
   },
   {
    "duration": 8,
    "start_time": "2022-03-09T19:02:18.664Z"
   },
   {
    "duration": 8,
    "start_time": "2022-03-09T19:02:18.675Z"
   },
   {
    "duration": 15,
    "start_time": "2022-03-09T19:02:18.686Z"
   },
   {
    "duration": 72,
    "start_time": "2022-03-09T19:02:18.704Z"
   },
   {
    "duration": 6,
    "start_time": "2022-03-09T19:02:18.779Z"
   },
   {
    "duration": 7,
    "start_time": "2022-03-09T19:02:18.788Z"
   },
   {
    "duration": 443,
    "start_time": "2022-03-09T19:02:18.797Z"
   },
   {
    "duration": 24,
    "start_time": "2022-03-09T19:02:19.251Z"
   },
   {
    "duration": 8,
    "start_time": "2022-03-09T19:02:19.278Z"
   },
   {
    "duration": 110,
    "start_time": "2022-03-09T19:02:19.289Z"
   },
   {
    "duration": 917,
    "start_time": "2022-03-09T19:02:19.402Z"
   },
   {
    "duration": 62,
    "start_time": "2022-03-09T19:02:20.322Z"
   },
   {
    "duration": 65,
    "start_time": "2022-03-09T19:02:20.387Z"
   },
   {
    "duration": 546,
    "start_time": "2022-03-09T19:02:20.455Z"
   },
   {
    "duration": 67,
    "start_time": "2022-03-09T19:02:21.004Z"
   },
   {
    "duration": 557,
    "start_time": "2022-03-09T19:02:21.074Z"
   },
   {
    "duration": 144,
    "start_time": "2022-03-09T19:02:21.633Z"
   },
   {
    "duration": 24,
    "start_time": "2022-03-09T19:02:21.780Z"
   },
   {
    "duration": 44,
    "start_time": "2022-03-09T19:02:21.807Z"
   },
   {
    "duration": 12,
    "start_time": "2022-03-09T19:02:21.854Z"
   },
   {
    "duration": 12,
    "start_time": "2022-03-09T19:02:21.869Z"
   },
   {
    "duration": 17,
    "start_time": "2022-03-09T19:02:21.883Z"
   },
   {
    "duration": 7,
    "start_time": "2022-03-09T19:02:21.902Z"
   },
   {
    "duration": 46,
    "start_time": "2022-03-09T19:02:21.912Z"
   },
   {
    "duration": 568,
    "start_time": "2022-03-09T19:02:21.960Z"
   },
   {
    "duration": 346,
    "start_time": "2022-03-09T20:19:16.580Z"
   },
   {
    "duration": 1023,
    "start_time": "2022-03-09T20:19:39.114Z"
   },
   {
    "duration": 363,
    "start_time": "2022-03-09T20:19:40.139Z"
   },
   {
    "duration": 3,
    "start_time": "2022-03-09T20:19:40.505Z"
   },
   {
    "duration": 13,
    "start_time": "2022-03-09T20:19:40.509Z"
   },
   {
    "duration": 13,
    "start_time": "2022-03-09T20:19:40.524Z"
   },
   {
    "duration": 5,
    "start_time": "2022-03-09T20:19:40.538Z"
   },
   {
    "duration": 7,
    "start_time": "2022-03-09T20:19:40.545Z"
   },
   {
    "duration": 8,
    "start_time": "2022-03-09T20:19:40.553Z"
   },
   {
    "duration": 8,
    "start_time": "2022-03-09T20:19:40.563Z"
   },
   {
    "duration": 6,
    "start_time": "2022-03-09T20:19:40.602Z"
   },
   {
    "duration": 7,
    "start_time": "2022-03-09T20:19:40.610Z"
   },
   {
    "duration": 137,
    "start_time": "2022-03-09T20:19:40.618Z"
   },
   {
    "duration": 56,
    "start_time": "2022-03-09T20:19:40.756Z"
   },
   {
    "duration": 8,
    "start_time": "2022-03-09T20:19:40.814Z"
   },
   {
    "duration": 27,
    "start_time": "2022-03-09T20:19:40.823Z"
   },
   {
    "duration": 6,
    "start_time": "2022-03-09T20:19:40.851Z"
   },
   {
    "duration": 8,
    "start_time": "2022-03-09T20:19:40.859Z"
   },
   {
    "duration": 8,
    "start_time": "2022-03-09T20:19:40.869Z"
   },
   {
    "duration": 79,
    "start_time": "2022-03-09T20:19:40.878Z"
   },
   {
    "duration": 49,
    "start_time": "2022-03-09T20:19:40.958Z"
   },
   {
    "duration": 8,
    "start_time": "2022-03-09T20:19:41.008Z"
   },
   {
    "duration": 15,
    "start_time": "2022-03-09T20:19:41.021Z"
   },
   {
    "duration": 6,
    "start_time": "2022-03-09T20:19:41.039Z"
   },
   {
    "duration": 5,
    "start_time": "2022-03-09T20:19:41.047Z"
   },
   {
    "duration": 4,
    "start_time": "2022-03-09T20:19:41.053Z"
   },
   {
    "duration": 8,
    "start_time": "2022-03-09T20:19:41.058Z"
   },
   {
    "duration": 317,
    "start_time": "2022-03-09T20:19:41.068Z"
   },
   {
    "duration": 3,
    "start_time": "2022-03-09T20:19:41.386Z"
   },
   {
    "duration": 12,
    "start_time": "2022-03-09T20:19:41.390Z"
   },
   {
    "duration": 54,
    "start_time": "2022-03-09T20:19:41.403Z"
   },
   {
    "duration": 48,
    "start_time": "2022-03-09T20:19:41.459Z"
   },
   {
    "duration": 9,
    "start_time": "2022-03-09T20:19:41.509Z"
   },
   {
    "duration": 18,
    "start_time": "2022-03-09T20:19:41.520Z"
   },
   {
    "duration": 3,
    "start_time": "2022-03-09T20:19:41.540Z"
   },
   {
    "duration": 7,
    "start_time": "2022-03-09T20:19:41.545Z"
   },
   {
    "duration": 11,
    "start_time": "2022-03-09T20:19:41.554Z"
   },
   {
    "duration": 39,
    "start_time": "2022-03-09T20:19:41.566Z"
   },
   {
    "duration": 3,
    "start_time": "2022-03-09T20:19:41.606Z"
   },
   {
    "duration": 6,
    "start_time": "2022-03-09T20:19:41.611Z"
   },
   {
    "duration": 5,
    "start_time": "2022-03-09T20:19:41.619Z"
   },
   {
    "duration": 11,
    "start_time": "2022-03-09T20:19:41.625Z"
   },
   {
    "duration": 13,
    "start_time": "2022-03-09T20:19:41.638Z"
   },
   {
    "duration": 8,
    "start_time": "2022-03-09T20:19:41.652Z"
   },
   {
    "duration": 9,
    "start_time": "2022-03-09T20:19:41.661Z"
   },
   {
    "duration": 33,
    "start_time": "2022-03-09T20:19:41.672Z"
   },
   {
    "duration": 15,
    "start_time": "2022-03-09T20:19:41.707Z"
   },
   {
    "duration": 3,
    "start_time": "2022-03-09T20:19:41.724Z"
   },
   {
    "duration": 7,
    "start_time": "2022-03-09T20:19:41.728Z"
   },
   {
    "duration": 209,
    "start_time": "2022-03-09T20:19:41.736Z"
   },
   {
    "duration": 8,
    "start_time": "2022-03-09T20:19:41.947Z"
   },
   {
    "duration": 5,
    "start_time": "2022-03-09T20:19:41.957Z"
   },
   {
    "duration": 60,
    "start_time": "2022-03-09T20:19:41.964Z"
   },
   {
    "duration": 407,
    "start_time": "2022-03-09T20:19:42.025Z"
   },
   {
    "duration": 28,
    "start_time": "2022-03-09T20:19:42.434Z"
   },
   {
    "duration": 41,
    "start_time": "2022-03-09T20:19:42.463Z"
   },
   {
    "duration": 349,
    "start_time": "2022-03-09T20:19:42.505Z"
   },
   {
    "duration": 48,
    "start_time": "2022-03-09T20:19:42.856Z"
   },
   {
    "duration": 305,
    "start_time": "2022-03-09T20:19:42.905Z"
   },
   {
    "duration": 28,
    "start_time": "2022-03-09T20:19:43.211Z"
   },
   {
    "duration": 14,
    "start_time": "2022-03-09T20:19:43.241Z"
   },
   {
    "duration": 9,
    "start_time": "2022-03-09T20:19:43.256Z"
   },
   {
    "duration": 36,
    "start_time": "2022-03-09T20:19:43.266Z"
   },
   {
    "duration": 5,
    "start_time": "2022-03-09T20:19:43.303Z"
   },
   {
    "duration": 8,
    "start_time": "2022-03-09T20:19:43.310Z"
   },
   {
    "duration": 5,
    "start_time": "2022-03-09T20:19:43.319Z"
   },
   {
    "duration": 7,
    "start_time": "2022-03-09T20:19:43.325Z"
   },
   {
    "duration": 320,
    "start_time": "2022-03-09T20:19:43.336Z"
   },
   {
    "duration": 287,
    "start_time": "2022-03-09T20:20:24.789Z"
   },
   {
    "duration": 277,
    "start_time": "2022-03-09T20:21:49.019Z"
   }
  ],
  "kernelspec": {
   "display_name": "Python 3",
   "language": "python",
   "name": "python3"
  },
  "language_info": {
   "codemirror_mode": {
    "name": "ipython",
    "version": 3
   },
   "file_extension": ".py",
   "mimetype": "text/x-python",
   "name": "python",
   "nbconvert_exporter": "python",
   "pygments_lexer": "ipython3",
   "version": "3.8.8"
  },
  "toc": {
   "base_numbering": 1,
   "nav_menu": {},
   "number_sections": true,
   "sideBar": true,
   "skip_h1_title": true,
   "title_cell": "Table of Contents",
   "title_sidebar": "Contents",
   "toc_cell": false,
   "toc_position": {},
   "toc_section_display": true,
   "toc_window_display": true
  }
 },
 "nbformat": 4,
 "nbformat_minor": 5
}
