{
 "cells": [
  {
   "cell_type": "markdown",
   "metadata": {
    "id": "E0vqbgi9ay0H"
   },
   "source": [
    "# Яндекс.Музыка"
   ]
  },
  {
   "cell_type": "markdown",
   "metadata": {
    "id": "VUC88oWjTJw2"
   },
   "source": [
    "Сравнение Москвы и Петербурга окружено мифами. Например:\n",
    " * Москва — мегаполис, подчинённый жёсткому ритму рабочей недели;\n",
    " * Петербург — культурная столица, со своими вкусами.\n",
    "\n",
    "На данных Яндекс.Музыки вы сравните поведение пользователей двух столиц.\n",
    "\n",
    "**Цель исследования** — проверьте три гипотезы:\n",
    "1. Активность пользователей зависит от дня недели. Причём в Москве и Петербурге это проявляется по-разному.\n",
    "2. В понедельник утром в Москве преобладают одни жанры, а в Петербурге — другие. Так же и вечером пятницы преобладают разные жанры — в зависимости от города. \n",
    "3. Москва и Петербург предпочитают разные жанры музыки. В Москве чаще слушают поп-музыку, в Петербурге — русский рэп.\n",
    "\n",
    "**Ход исследования**\n",
    "\n",
    "Данные о поведении пользователей вы получите из файла `yandex_music_project.csv`. О качестве данных ничего не известно. Поэтому перед проверкой гипотез понадобится обзор данных. \n",
    "\n",
    "Вы проверите данные на ошибки и оцените их влияние на исследование. Затем, на этапе предобработки вы поищете возможность исправить самые критичные ошибки данных.\n",
    " \n",
    "Таким образом, исследование пройдёт в три этапа:\n",
    " 1. Обзор данных.\n",
    " 2. Предобработка данных.\n",
    " 3. Проверка гипотез.\n",
    "\n"
   ]
  },
  {
   "cell_type": "markdown",
   "metadata": {
    "id": "Ml1hmfXC_Zcs"
   },
   "source": [
    "## Обзор данных\n",
    "\n",
    "Составьте первое представление о данных Яндекс.Музыки.\n",
    "\n",
    "\n"
   ]
  },
  {
   "cell_type": "markdown",
   "metadata": {
    "id": "57eAOGIz_Zcs"
   },
   "source": [
    "Основной инструмент аналитика — `pandas`. Импортируйте эту библиотеку."
   ]
  },
  {
   "cell_type": "code",
   "execution_count": 1,
   "metadata": {
    "id": "AXN7PHPN_Zcs"
   },
   "outputs": [],
   "source": [
    "# импорт библиотеки pandas\n",
    "import pandas as pd"
   ]
  },
  {
   "cell_type": "markdown",
   "metadata": {
    "id": "SG23P8tt_Zcs"
   },
   "source": [
    "Прочитайте файл `yandex_music_project.csv` из папки `/datasets` и сохраните его в переменной `df`:"
   ]
  },
  {
   "cell_type": "code",
   "execution_count": 2,
   "metadata": {
    "id": "fFVu7vqh_Zct"
   },
   "outputs": [],
   "source": [
    "# чтение файла с данными и сохранение в df\n",
    "df = pd.read_csv('/datasets/yandex_music_project.csv')"
   ]
  },
  {
   "cell_type": "markdown",
   "metadata": {
    "id": "rDoOMd3uTqnZ"
   },
   "source": [
    "Выведите на экран первые десять строк таблицы:"
   ]
  },
  {
   "cell_type": "code",
   "execution_count": 3,
   "metadata": {
    "id": "oWTVX3gW_Zct"
   },
   "outputs": [
    {
     "data": {
      "text/html": [
       "<div>\n",
       "<style scoped>\n",
       "    .dataframe tbody tr th:only-of-type {\n",
       "        vertical-align: middle;\n",
       "    }\n",
       "\n",
       "    .dataframe tbody tr th {\n",
       "        vertical-align: top;\n",
       "    }\n",
       "\n",
       "    .dataframe thead th {\n",
       "        text-align: right;\n",
       "    }\n",
       "</style>\n",
       "<table border=\"1\" class=\"dataframe\">\n",
       "  <thead>\n",
       "    <tr style=\"text-align: right;\">\n",
       "      <th></th>\n",
       "      <th>userID</th>\n",
       "      <th>Track</th>\n",
       "      <th>artist</th>\n",
       "      <th>genre</th>\n",
       "      <th>City</th>\n",
       "      <th>time</th>\n",
       "      <th>Day</th>\n",
       "    </tr>\n",
       "  </thead>\n",
       "  <tbody>\n",
       "    <tr>\n",
       "      <td>0</td>\n",
       "      <td>FFB692EC</td>\n",
       "      <td>Kamigata To Boots</td>\n",
       "      <td>The Mass Missile</td>\n",
       "      <td>rock</td>\n",
       "      <td>Saint-Petersburg</td>\n",
       "      <td>20:28:33</td>\n",
       "      <td>Wednesday</td>\n",
       "    </tr>\n",
       "    <tr>\n",
       "      <td>1</td>\n",
       "      <td>55204538</td>\n",
       "      <td>Delayed Because of Accident</td>\n",
       "      <td>Andreas Rönnberg</td>\n",
       "      <td>rock</td>\n",
       "      <td>Moscow</td>\n",
       "      <td>14:07:09</td>\n",
       "      <td>Friday</td>\n",
       "    </tr>\n",
       "    <tr>\n",
       "      <td>2</td>\n",
       "      <td>20EC38</td>\n",
       "      <td>Funiculì funiculà</td>\n",
       "      <td>Mario Lanza</td>\n",
       "      <td>pop</td>\n",
       "      <td>Saint-Petersburg</td>\n",
       "      <td>20:58:07</td>\n",
       "      <td>Wednesday</td>\n",
       "    </tr>\n",
       "    <tr>\n",
       "      <td>3</td>\n",
       "      <td>A3DD03C9</td>\n",
       "      <td>Dragons in the Sunset</td>\n",
       "      <td>Fire + Ice</td>\n",
       "      <td>folk</td>\n",
       "      <td>Saint-Petersburg</td>\n",
       "      <td>08:37:09</td>\n",
       "      <td>Monday</td>\n",
       "    </tr>\n",
       "    <tr>\n",
       "      <td>4</td>\n",
       "      <td>E2DC1FAE</td>\n",
       "      <td>Soul People</td>\n",
       "      <td>Space Echo</td>\n",
       "      <td>dance</td>\n",
       "      <td>Moscow</td>\n",
       "      <td>08:34:34</td>\n",
       "      <td>Monday</td>\n",
       "    </tr>\n",
       "    <tr>\n",
       "      <td>5</td>\n",
       "      <td>842029A1</td>\n",
       "      <td>Преданная</td>\n",
       "      <td>IMPERVTOR</td>\n",
       "      <td>rusrap</td>\n",
       "      <td>Saint-Petersburg</td>\n",
       "      <td>13:09:41</td>\n",
       "      <td>Friday</td>\n",
       "    </tr>\n",
       "    <tr>\n",
       "      <td>6</td>\n",
       "      <td>4CB90AA5</td>\n",
       "      <td>True</td>\n",
       "      <td>Roman Messer</td>\n",
       "      <td>dance</td>\n",
       "      <td>Moscow</td>\n",
       "      <td>13:00:07</td>\n",
       "      <td>Wednesday</td>\n",
       "    </tr>\n",
       "    <tr>\n",
       "      <td>7</td>\n",
       "      <td>F03E1C1F</td>\n",
       "      <td>Feeling This Way</td>\n",
       "      <td>Polina Griffith</td>\n",
       "      <td>dance</td>\n",
       "      <td>Moscow</td>\n",
       "      <td>20:47:49</td>\n",
       "      <td>Wednesday</td>\n",
       "    </tr>\n",
       "    <tr>\n",
       "      <td>8</td>\n",
       "      <td>8FA1D3BE</td>\n",
       "      <td>И вновь продолжается бой</td>\n",
       "      <td>NaN</td>\n",
       "      <td>ruspop</td>\n",
       "      <td>Moscow</td>\n",
       "      <td>09:17:40</td>\n",
       "      <td>Friday</td>\n",
       "    </tr>\n",
       "    <tr>\n",
       "      <td>9</td>\n",
       "      <td>E772D5C0</td>\n",
       "      <td>Pessimist</td>\n",
       "      <td>NaN</td>\n",
       "      <td>dance</td>\n",
       "      <td>Saint-Petersburg</td>\n",
       "      <td>21:20:49</td>\n",
       "      <td>Wednesday</td>\n",
       "    </tr>\n",
       "  </tbody>\n",
       "</table>\n",
       "</div>"
      ],
      "text/plain": [
       "     userID                        Track            artist   genre  \\\n",
       "0  FFB692EC            Kamigata To Boots  The Mass Missile    rock   \n",
       "1  55204538  Delayed Because of Accident  Andreas Rönnberg    rock   \n",
       "2    20EC38            Funiculì funiculà       Mario Lanza     pop   \n",
       "3  A3DD03C9        Dragons in the Sunset        Fire + Ice    folk   \n",
       "4  E2DC1FAE                  Soul People        Space Echo   dance   \n",
       "5  842029A1                    Преданная         IMPERVTOR  rusrap   \n",
       "6  4CB90AA5                         True      Roman Messer   dance   \n",
       "7  F03E1C1F             Feeling This Way   Polina Griffith   dance   \n",
       "8  8FA1D3BE     И вновь продолжается бой               NaN  ruspop   \n",
       "9  E772D5C0                    Pessimist               NaN   dance   \n",
       "\n",
       "             City        time        Day  \n",
       "0  Saint-Petersburg  20:28:33  Wednesday  \n",
       "1            Moscow  14:07:09     Friday  \n",
       "2  Saint-Petersburg  20:58:07  Wednesday  \n",
       "3  Saint-Petersburg  08:37:09     Monday  \n",
       "4            Moscow  08:34:34     Monday  \n",
       "5  Saint-Petersburg  13:09:41     Friday  \n",
       "6            Moscow  13:00:07  Wednesday  \n",
       "7            Moscow  20:47:49  Wednesday  \n",
       "8            Moscow  09:17:40     Friday  \n",
       "9  Saint-Petersburg  21:20:49  Wednesday  "
      ]
     },
     "execution_count": 3,
     "metadata": {},
     "output_type": "execute_result"
    }
   ],
   "source": [
    "# получение первых 10 строк таблицы df\n",
    "df.head(10)"
   ]
  },
  {
   "cell_type": "markdown",
   "metadata": {
    "id": "EO73Kwic_Zct"
   },
   "source": [
    "Одной командой получить общую информацию о таблице:"
   ]
  },
  {
   "cell_type": "code",
   "execution_count": 4,
   "metadata": {
    "id": "DSf2kIb-_Zct"
   },
   "outputs": [
    {
     "name": "stdout",
     "output_type": "stream",
     "text": [
      "<class 'pandas.core.frame.DataFrame'>\n",
      "RangeIndex: 65079 entries, 0 to 65078\n",
      "Data columns (total 7 columns):\n",
      "  userID    65079 non-null object\n",
      "Track       63848 non-null object\n",
      "artist      57876 non-null object\n",
      "genre       63881 non-null object\n",
      "  City      65079 non-null object\n",
      "time        65079 non-null object\n",
      "Day         65079 non-null object\n",
      "dtypes: object(7)\n",
      "memory usage: 3.5+ MB\n"
     ]
    }
   ],
   "source": [
    "# получение общей информации о данных в таблице df\n",
    "df.info()"
   ]
  },
  {
   "cell_type": "markdown",
   "metadata": {
    "id": "TaQ2Iwbr_Zct"
   },
   "source": [
    "Итак, в таблице семь столбцов. Тип данных во всех столбцах — `object`.\n",
    "\n",
    "Согласно документации к данным:\n",
    "* `userID` — идентификатор пользователя;\n",
    "* `Track` — название трека;  \n",
    "* `artist` — имя исполнителя;\n",
    "* `genre` — название жанра;\n",
    "* `City` — город пользователя;\n",
    "* `time` — время начала прослушивания;\n",
    "* `Day` — день недели.\n",
    "\n",
    "В названиях колонок видны три нарушения стиля:\n",
    "1. Строчные буквы сочетаются с прописными.\n",
    "2. Встречаются пробелы.\n",
    "3. Не везде используется змеиный_регистр.\n",
    "\n",
    "\n",
    "\n",
    "Количество значений в столбцах различается. Значит, в данных есть пропущенные значения.\n"
   ]
  },
  {
   "cell_type": "markdown",
   "metadata": {
    "id": "MCB6-dXG_Zct"
   },
   "source": [
    "**Выводы**\n",
    "\n",
    "В каждой строке таблицы — данные о прослушанном треке. Часть колонок описывает саму композицию: название, исполнителя и жанр. Остальные данные рассказывают о пользователе: из какого он города, когда он слушал музыку. \n",
    "\n",
    "Предварительно можно утверждать, что, данных достаточно для проверки гипотез. Но встречаются пропуски в данных, а в названиях колонок — расхождения с хорошим стилем.\n",
    "\n",
    "Чтобы двигаться дальше, нужно устранить проблемы в данных."
   ]
  },
  {
   "cell_type": "markdown",
   "metadata": {
    "id": "SjYF6Ub9_Zct"
   },
   "source": [
    "## Предобработка данных\n",
    "Исправьте стиль в заголовках столбцов, исключите пропуски. Затем проверьте данные на дубликаты."
   ]
  },
  {
   "cell_type": "markdown",
   "metadata": {
    "id": "dIaKXr29_Zct"
   },
   "source": [
    "### Стиль заголовков\n",
    "Выведите на экран названия столбцов:"
   ]
  },
  {
   "cell_type": "code",
   "execution_count": 5,
   "metadata": {
    "id": "oKOTdF_Q_Zct"
   },
   "outputs": [
    {
     "data": {
      "text/plain": [
       "Index(['  userID', 'Track', 'artist', 'genre', '  City  ', 'time', 'Day'], dtype='object')"
      ]
     },
     "execution_count": 5,
     "metadata": {},
     "output_type": "execute_result"
    }
   ],
   "source": [
    "# перечень названий столбцов таблицы df\n",
    "df.columns"
   ]
  },
  {
   "cell_type": "markdown",
   "metadata": {
    "id": "zj5534cv_Zct"
   },
   "source": [
    "Приведите названия в соответствие с хорошим стилем:\n",
    "* несколько слов в названии запишите в «змеином_регистре»,\n",
    "* все символы сделайте строчными,\n",
    "* устраните пробелы.\n",
    "\n",
    "Для этого переименуйте колонки так:\n",
    "* `'  userID'` → `'user_id'`;\n",
    "* `'Track'` → `'track'`;\n",
    "* `'  City  '` → `'city'`;\n",
    "* `'Day'` → `'day'`."
   ]
  },
  {
   "cell_type": "code",
   "execution_count": 6,
   "metadata": {
    "id": "ISlFqs5y_Zct"
   },
   "outputs": [],
   "source": [
    "# переименование столбцов\n",
    "df = df.rename(columns={'  userID':'user_id',\\\n",
    "                           'Track':'track',\\\n",
    "                        '  City  ':'city', \\\n",
    "                             'Day':'day'})"
   ]
  },
  {
   "cell_type": "markdown",
   "metadata": {
    "id": "1dqbh00J_Zct"
   },
   "source": [
    "Проверьте результат. Для этого ещё раз выведите на экран названия столбцов:"
   ]
  },
  {
   "cell_type": "code",
   "execution_count": 7,
   "metadata": {
    "id": "d4NOAmTW_Zct"
   },
   "outputs": [
    {
     "data": {
      "text/plain": [
       "Index(['user_id', 'track', 'artist', 'genre', 'city', 'time', 'day'], dtype='object')"
      ]
     },
     "execution_count": 7,
     "metadata": {},
     "output_type": "execute_result"
    }
   ],
   "source": [
    "# проверка результатов - перечень названий столбцов\n",
    "df.columns"
   ]
  },
  {
   "cell_type": "markdown",
   "metadata": {
    "id": "5ISfbcfY_Zct"
   },
   "source": [
    "### Пропуски значений\n",
    "Сначала посчитайте, сколько в таблице пропущенных значений. Для этого достаточно двух методов `pandas`:"
   ]
  },
  {
   "cell_type": "code",
   "execution_count": 8,
   "metadata": {
    "id": "RskX29qr_Zct"
   },
   "outputs": [
    {
     "data": {
      "text/plain": [
       "user_id       0\n",
       "track      1231\n",
       "artist     7203\n",
       "genre      1198\n",
       "city          0\n",
       "time          0\n",
       "day           0\n",
       "dtype: int64"
      ]
     },
     "execution_count": 8,
     "metadata": {},
     "output_type": "execute_result"
    }
   ],
   "source": [
    "# подсчёт пропусков\n",
    "df.isna().sum()"
   ]
  },
  {
   "cell_type": "markdown",
   "metadata": {
    "id": "qubhgnlO_Zct"
   },
   "source": [
    "Не все пропущенные значения влияют на исследование. Так в `track` и `artist` пропуски не важны для вашей работы. Достаточно заменить их явными обозначениями.\n",
    "\n",
    "Но пропуски в `genre` могут помешать сравнению музыкальных вкусов в Москве и Санкт-Петербурге. На практике было бы правильно установить причину пропусков и восстановить данные. Такой возможности нет в учебном проекте. Придётся:\n",
    "* заполнить и эти пропуски явными обозначениями,\n",
    "* оценить, насколько они повредят расчётам. "
   ]
  },
  {
   "cell_type": "markdown",
   "metadata": {
    "id": "fSv2laPA_Zct"
   },
   "source": [
    "Замените пропущенные значения в столбцах `track`, `artist` и `genre` на строку `'unknown'`. Для этого создайте список `columns_to_replace`, переберите его элементы циклом `for` и для каждого столбца выполните замену пропущенных значений:"
   ]
  },
  {
   "cell_type": "code",
   "execution_count": 9,
   "metadata": {
    "id": "KplB5qWs_Zct"
   },
   "outputs": [],
   "source": [
    "# перебор названий столбцов в цикле и замена пропущенных значений на 'unknown'\n",
    "columns_to_replace = ['track', 'artist', 'genre']\n",
    "for column in columns_to_replace:\n",
    "    df[column] = df[column].fillna('unknown')\n",
    "\n",
    "# поскольку другие колонки без пропусков то достаточно:\n",
    "# df = df.fillna('unknown')"
   ]
  },
  {
   "cell_type": "markdown",
   "metadata": {
    "id": "Ilsm-MZo_Zct"
   },
   "source": [
    "Убедитесь, что в таблице не осталось пропусков. Для этого ещё раз посчитайте пропущенные значения."
   ]
  },
  {
   "cell_type": "code",
   "execution_count": 10,
   "metadata": {
    "id": "Tq4nYRX4_Zct"
   },
   "outputs": [
    {
     "data": {
      "text/plain": [
       "user_id    0\n",
       "track      0\n",
       "artist     0\n",
       "genre      0\n",
       "city       0\n",
       "time       0\n",
       "day        0\n",
       "dtype: int64"
      ]
     },
     "execution_count": 10,
     "metadata": {},
     "output_type": "execute_result"
    }
   ],
   "source": [
    "# подсчёт пропусков\n",
    "df.isna().sum()"
   ]
  },
  {
   "cell_type": "markdown",
   "metadata": {
    "id": "BWKRtBJ3_Zct"
   },
   "source": [
    "### Дубликаты\n",
    "Посчитайте явные дубликаты в таблице одной командой:"
   ]
  },
  {
   "cell_type": "code",
   "execution_count": 11,
   "metadata": {
    "id": "36eES_S0_Zct"
   },
   "outputs": [
    {
     "data": {
      "text/plain": [
       "3826"
      ]
     },
     "execution_count": 11,
     "metadata": {},
     "output_type": "execute_result"
    }
   ],
   "source": [
    "# подсчёт явных дубликатов\n",
    "df.duplicated().sum()"
   ]
  },
  {
   "cell_type": "markdown",
   "metadata": {
    "id": "Ot25h6XR_Zct"
   },
   "source": [
    "Вызовите специальный метод `pandas`, чтобы удалить явные дубликаты:"
   ]
  },
  {
   "cell_type": "code",
   "execution_count": 12,
   "metadata": {
    "id": "exFHq6tt_Zct"
   },
   "outputs": [],
   "source": [
    "# удаление явных дубликатов (с удалением старых индексов и формированием новых)\n",
    "df = df.drop_duplicates().reset_index(drop=True)"
   ]
  },
  {
   "cell_type": "markdown",
   "metadata": {
    "id": "Im2YwBEG_Zct"
   },
   "source": [
    "Ещё раз посчитайте явные дубликаты в таблице — убедитесь, что полностью от них избавились:"
   ]
  },
  {
   "cell_type": "code",
   "execution_count": 13,
   "metadata": {
    "id": "-8PuNWQ0_Zct"
   },
   "outputs": [
    {
     "data": {
      "text/plain": [
       "0"
      ]
     },
     "execution_count": 13,
     "metadata": {},
     "output_type": "execute_result"
    }
   ],
   "source": [
    "# проверка на отсутствие дубликатов\n",
    "df.duplicated().sum()"
   ]
  },
  {
   "cell_type": "markdown",
   "metadata": {
    "id": "QlFBsxAr_Zct"
   },
   "source": [
    "Теперь избавьтесь от неявных дубликатов в колонке `genre`. Например, название одного и того же жанра может быть записано немного по-разному. Такие ошибки тоже повлияют на результат исследования."
   ]
  },
  {
   "cell_type": "markdown",
   "metadata": {
    "id": "eSjWwsOh_Zct"
   },
   "source": [
    "Выведите на экран список уникальных названий жанров, отсортированный в алфавитном порядке. Для этого:\n",
    "* извлеките нужный столбец датафрейма, \n",
    "* примените к нему метод сортировки,\n",
    "* для отсортированного столбца вызовите метод, который вернёт уникальные значения из столбца."
   ]
  },
  {
   "cell_type": "code",
   "execution_count": 14,
   "metadata": {
    "id": "JIUcqzZN_Zct",
    "scrolled": true
   },
   "outputs": [
    {
     "data": {
      "text/plain": [
       "array(['acid', 'acoustic', 'action', 'adult', 'africa', 'afrikaans',\n",
       "       'alternative', 'alternativepunk', 'ambient', 'americana',\n",
       "       'animated', 'anime', 'arabesk', 'arabic', 'arena',\n",
       "       'argentinetango', 'art', 'audiobook', 'author', 'avantgarde',\n",
       "       'axé', 'baile', 'balkan', 'beats', 'bigroom', 'black', 'bluegrass',\n",
       "       'blues', 'bollywood', 'bossa', 'brazilian', 'breakbeat', 'breaks',\n",
       "       'broadway', 'cantautori', 'cantopop', 'canzone', 'caribbean',\n",
       "       'caucasian', 'celtic', 'chamber', 'chanson', 'children', 'chill',\n",
       "       'chinese', 'choral', 'christian', 'christmas', 'classical',\n",
       "       'classicmetal', 'club', 'colombian', 'comedy', 'conjazz',\n",
       "       'contemporary', 'country', 'cuban', 'dance', 'dancehall',\n",
       "       'dancepop', 'dark', 'death', 'deep', 'deutschrock', 'deutschspr',\n",
       "       'dirty', 'disco', 'dnb', 'documentary', 'downbeat', 'downtempo',\n",
       "       'drum', 'dub', 'dubstep', 'eastern', 'easy', 'electronic',\n",
       "       'electropop', 'emo', 'entehno', 'epicmetal', 'estrada', 'ethnic',\n",
       "       'eurofolk', 'european', 'experimental', 'extrememetal', 'fado',\n",
       "       'fairytail', 'film', 'fitness', 'flamenco', 'folk', 'folklore',\n",
       "       'folkmetal', 'folkrock', 'folktronica', 'forró', 'frankreich',\n",
       "       'französisch', 'french', 'funk', 'future', 'gangsta', 'garage',\n",
       "       'german', 'ghazal', 'gitarre', 'glitch', 'gospel', 'gothic',\n",
       "       'grime', 'grunge', 'gypsy', 'handsup', \"hard'n'heavy\", 'hardcore',\n",
       "       'hardstyle', 'hardtechno', 'hip', 'hip-hop', 'hiphop',\n",
       "       'historisch', 'holiday', 'hop', 'horror', 'house', 'hymn', 'idm',\n",
       "       'independent', 'indian', 'indie', 'indipop', 'industrial',\n",
       "       'inspirational', 'instrumental', 'international', 'irish', 'jam',\n",
       "       'japanese', 'jazz', 'jewish', 'jpop', 'jungle', 'k-pop',\n",
       "       'karadeniz', 'karaoke', 'kayokyoku', 'korean', 'laiko', 'latin',\n",
       "       'latino', 'leftfield', 'local', 'lounge', 'loungeelectronic',\n",
       "       'lovers', 'malaysian', 'mandopop', 'marschmusik', 'meditative',\n",
       "       'mediterranean', 'melodic', 'metal', 'metalcore', 'mexican',\n",
       "       'middle', 'minimal', 'miscellaneous', 'modern', 'mood', 'mpb',\n",
       "       'muslim', 'native', 'neoklassik', 'neue', 'new', 'newage',\n",
       "       'newwave', 'nu', 'nujazz', 'numetal', 'oceania', 'old', 'opera',\n",
       "       'orchestral', 'other', 'piano', 'podcasts', 'pop', 'popdance',\n",
       "       'popelectronic', 'popeurodance', 'poprussian', 'post',\n",
       "       'posthardcore', 'postrock', 'power', 'progmetal', 'progressive',\n",
       "       'psychedelic', 'punjabi', 'punk', 'quebecois', 'ragga', 'ram',\n",
       "       'rancheras', 'rap', 'rave', 'reggae', 'reggaeton', 'regional',\n",
       "       'relax', 'religious', 'retro', 'rhythm', 'rnb', 'rnr', 'rock',\n",
       "       'rockabilly', 'rockalternative', 'rockindie', 'rockother',\n",
       "       'romance', 'roots', 'ruspop', 'rusrap', 'rusrock', 'russian',\n",
       "       'salsa', 'samba', 'scenic', 'schlager', 'self', 'sertanejo',\n",
       "       'shanson', 'shoegazing', 'showtunes', 'singer', 'ska', 'skarock',\n",
       "       'slow', 'smooth', 'soft', 'soul', 'soulful', 'sound', 'soundtrack',\n",
       "       'southern', 'specialty', 'speech', 'spiritual', 'sport',\n",
       "       'stonerrock', 'surf', 'swing', 'synthpop', 'synthrock',\n",
       "       'sängerportrait', 'tango', 'tanzorchester', 'taraftar', 'tatar',\n",
       "       'tech', 'techno', 'teen', 'thrash', 'top', 'traditional',\n",
       "       'tradjazz', 'trance', 'tribal', 'trip', 'triphop', 'tropical',\n",
       "       'türk', 'türkçe', 'ukrrock', 'unknown', 'urban', 'uzbek',\n",
       "       'variété', 'vi', 'videogame', 'vocal', 'western', 'world',\n",
       "       'worldbeat', 'ïîï', 'электроника'], dtype=object)"
      ]
     },
     "execution_count": 14,
     "metadata": {},
     "output_type": "execute_result"
    }
   ],
   "source": [
    "# Просмотр уникальных названий жанров\n",
    "df['genre'].sort_values().unique()"
   ]
  },
  {
   "cell_type": "code",
   "execution_count": 15,
   "metadata": {},
   "outputs": [
    {
     "data": {
      "text/plain": [
       "290"
      ]
     },
     "execution_count": 15,
     "metadata": {},
     "output_type": "execute_result"
    }
   ],
   "source": [
    "# Количество жанров\n",
    "len(df['genre'].sort_values().unique())"
   ]
  },
  {
   "cell_type": "markdown",
   "metadata": {
    "id": "qej-Qmuo_Zct"
   },
   "source": [
    "Просмотрите список и найдите неявные дубликаты названия `hiphop`. Это могут быть названия с ошибками или альтернативные названия того же жанра.\n",
    "\n",
    "Вы увидите следующие неявные дубликаты:\n",
    "* *hip*,\n",
    "* *hop*,\n",
    "* *hip-hop*.\n",
    "\n",
    "Чтобы очистить от них таблицу, напишите функцию `replace_wrong_genres()` с двумя параметрами: \n",
    "* `wrong_genres` — список дубликатов,\n",
    "* `correct_genre` — строка с правильным значением.\n",
    "\n",
    "Функция должна исправить колонку `genre` в таблице `df`: заменить каждое значение из списка `wrong_genres` на значение из `correct_genre`."
   ]
  },
  {
   "cell_type": "code",
   "execution_count": 16,
   "metadata": {
    "id": "ErNDkmns_Zct"
   },
   "outputs": [],
   "source": [
    "# Функция для замены неявных дубликатов\n",
    "def replace_wrong_genres(wrong_genres, correct_genre):\n",
    "    for wrong_genre in wrong_genres:\n",
    "        df['genre'] = df['genre'].replace(wrong_genres, correct_genre)"
   ]
  },
  {
   "cell_type": "markdown",
   "metadata": {
    "id": "aDoBJxbA_Zct"
   },
   "source": [
    "Вызовите `replace_wrong_genres()` и передайте ей такие аргументы, чтобы она устранила неявные дубликаты: вместо `hip`, `hop` и `hip-hop` в таблице должно быть значение `hiphop`:"
   ]
  },
  {
   "cell_type": "code",
   "execution_count": 17,
   "metadata": {
    "id": "YN5i2hpmSo09"
   },
   "outputs": [],
   "source": [
    "# Устранение неявных дубликатов\n",
    "replace_wrong_genres(['hip', 'hop', 'hip-hop'], 'hiphop')\n",
    "\n",
    "# Устранение других неявных дубликатов\n",
    "wrong_correct_genres = {'poprussian':'ruspop',\n",
    "                         'электроника':'electronic',\n",
    "                          'dancepop':'popdance',\n",
    "                          'folklore':'folk',\n",
    "                             'latin':'latino',\n",
    "                              'film':'soundtrack'}\n",
    "\n",
    "for wrong_genres, correct_genre in wrong_correct_genres.items():\n",
    "    replace_wrong_genres(wrong_genres, correct_genre)"
   ]
  },
  {
   "cell_type": "markdown",
   "metadata": {
    "id": "zQKF16_RG15m"
   },
   "source": [
    "Проверьте, что заменили неправильные названия:\n",
    "\n",
    "*   hip\n",
    "*   hop\n",
    "*   hip-hop\n",
    "\n",
    "Выведите отсортированный список уникальных значений столбца `genre`:"
   ]
  },
  {
   "cell_type": "code",
   "execution_count": 18,
   "metadata": {
    "id": "wvixALnFG15m"
   },
   "outputs": [
    {
     "data": {
      "text/plain": [
       "281"
      ]
     },
     "execution_count": 18,
     "metadata": {},
     "output_type": "execute_result"
    }
   ],
   "source": [
    "# Проверка на неявные дубликаты\n",
    "# df['genre'].sort_values().unique()\n",
    "# Обновленное количество жанров\n",
    "len(df['genre'].sort_values().unique())"
   ]
  },
  {
   "cell_type": "markdown",
   "metadata": {
    "id": "jz6a9-7HQUDd"
   },
   "source": [
    "**Выводы**\n",
    "\n",
    "Предобработка обнаружила три проблемы в данных:\n",
    "\n",
    "- нарушения в стиле заголовков,\n",
    "- пропущенные значения,\n",
    "- дубликаты — явные и неявные.\n",
    "\n",
    "Вы исправили заголовки, чтобы упростить работу с таблицей. Без дубликатов исследование станет более точным.\n",
    "\n",
    "Пропущенные значения вы заменили на `'unknown'`. Ещё предстоит увидеть, не повредят ли исследованию пропуски в колонке `genre`.\n",
    "\n",
    "Теперь можно перейти к проверке гипотез. "
   ]
  },
  {
   "cell_type": "markdown",
   "metadata": {
    "id": "WttZHXH0SqKk"
   },
   "source": [
    "## Проверка гипотез"
   ]
  },
  {
   "cell_type": "markdown",
   "metadata": {
    "id": "Im936VVi_Zcu"
   },
   "source": [
    "### Сравнение поведения пользователей двух столиц"
   ]
  },
  {
   "cell_type": "markdown",
   "metadata": {
    "id": "nwt_MuaL_Zcu"
   },
   "source": [
    "Первая гипотеза утверждает, что пользователи по-разному слушают музыку в Москве и Санкт-Петербурге. Проверьте это предположение по данным о трёх днях недели — понедельнике, среде и пятнице. Для этого:\n",
    "\n",
    "* Разделите пользователей Москвы и Санкт-Петербурга\n",
    "* Сравните, сколько треков послушала каждая группа пользователей в понедельник, среду и пятницу.\n"
   ]
  },
  {
   "cell_type": "markdown",
   "metadata": {
    "id": "8Dw_YMmT_Zcu"
   },
   "source": [
    "Для тренировки сначала выполните каждый из расчётов по отдельности. \n",
    "\n",
    "Оцените активность пользователей в каждом городе. Сгруппируйте данные по городу и посчитайте прослушивания в каждой группе.\n",
    "\n"
   ]
  },
  {
   "cell_type": "code",
   "execution_count": 19,
   "metadata": {},
   "outputs": [
    {
     "data": {
      "text/plain": [
       "array(['Saint-Petersburg', 'Moscow'], dtype=object)"
      ]
     },
     "metadata": {},
     "output_type": "display_data"
    },
    {
     "data": {
      "text/plain": [
       "array(['Wednesday', 'Friday', 'Monday'], dtype=object)"
      ]
     },
     "execution_count": 19,
     "metadata": {},
     "output_type": "execute_result"
    }
   ],
   "source": [
    "# Проверка на уникальность городов и дней недели\n",
    "display(df['city'].unique())\n",
    "df['day'].unique()"
   ]
  },
  {
   "cell_type": "code",
   "execution_count": 20,
   "metadata": {
    "id": "0_Qs96oh_Zcu"
   },
   "outputs": [
    {
     "data": {
      "text/html": [
       "<div>\n",
       "<style scoped>\n",
       "    .dataframe tbody tr th:only-of-type {\n",
       "        vertical-align: middle;\n",
       "    }\n",
       "\n",
       "    .dataframe tbody tr th {\n",
       "        vertical-align: top;\n",
       "    }\n",
       "\n",
       "    .dataframe thead th {\n",
       "        text-align: right;\n",
       "    }\n",
       "</style>\n",
       "<table border=\"1\" class=\"dataframe\">\n",
       "  <thead>\n",
       "    <tr style=\"text-align: right;\">\n",
       "      <th></th>\n",
       "      <th>city</th>\n",
       "      <th>track</th>\n",
       "    </tr>\n",
       "  </thead>\n",
       "  <tbody>\n",
       "    <tr>\n",
       "      <td>0</td>\n",
       "      <td>Moscow</td>\n",
       "      <td>42741</td>\n",
       "    </tr>\n",
       "    <tr>\n",
       "      <td>1</td>\n",
       "      <td>Saint-Petersburg</td>\n",
       "      <td>18512</td>\n",
       "    </tr>\n",
       "  </tbody>\n",
       "</table>\n",
       "</div>"
      ],
      "text/plain": [
       "               city  track\n",
       "0            Moscow  42741\n",
       "1  Saint-Petersburg  18512"
      ]
     },
     "execution_count": 20,
     "metadata": {},
     "output_type": "execute_result"
    }
   ],
   "source": [
    "# Подсчёт прослушиваний в каждом городе\n",
    "df.groupby('city', as_index=False)['track'].count()"
   ]
  },
  {
   "cell_type": "markdown",
   "metadata": {
    "id": "dzli3w8o_Zcu"
   },
   "source": [
    "В Москве прослушиваний больше, чем в Петербурге. Из этого не следует, что московские пользователи чаще слушают музыку. Просто самих пользователей в Москве больше.\n",
    "\n",
    "Теперь сгруппируйте данные по дню недели и подсчитайте прослушивания в понедельник, среду и пятницу. Учтите, что в данных есть информация только о прослушиваниях только за эти дни.\n"
   ]
  },
  {
   "cell_type": "code",
   "execution_count": 21,
   "metadata": {
    "id": "uZMKjiJz_Zcu"
   },
   "outputs": [
    {
     "data": {
      "text/html": [
       "<div>\n",
       "<style scoped>\n",
       "    .dataframe tbody tr th:only-of-type {\n",
       "        vertical-align: middle;\n",
       "    }\n",
       "\n",
       "    .dataframe tbody tr th {\n",
       "        vertical-align: top;\n",
       "    }\n",
       "\n",
       "    .dataframe thead th {\n",
       "        text-align: right;\n",
       "    }\n",
       "</style>\n",
       "<table border=\"1\" class=\"dataframe\">\n",
       "  <thead>\n",
       "    <tr style=\"text-align: right;\">\n",
       "      <th></th>\n",
       "      <th>day</th>\n",
       "      <th>track</th>\n",
       "    </tr>\n",
       "  </thead>\n",
       "  <tbody>\n",
       "    <tr>\n",
       "      <td>0</td>\n",
       "      <td>Friday</td>\n",
       "      <td>21840</td>\n",
       "    </tr>\n",
       "    <tr>\n",
       "      <td>1</td>\n",
       "      <td>Monday</td>\n",
       "      <td>21354</td>\n",
       "    </tr>\n",
       "    <tr>\n",
       "      <td>2</td>\n",
       "      <td>Wednesday</td>\n",
       "      <td>18059</td>\n",
       "    </tr>\n",
       "  </tbody>\n",
       "</table>\n",
       "</div>"
      ],
      "text/plain": [
       "         day  track\n",
       "0     Friday  21840\n",
       "1     Monday  21354\n",
       "2  Wednesday  18059"
      ]
     },
     "execution_count": 21,
     "metadata": {},
     "output_type": "execute_result"
    }
   ],
   "source": [
    "# Подсчёт прослушиваний в каждый из трёх дней\n",
    "df.groupby('day', as_index=False)['track'].count()"
   ]
  },
  {
   "cell_type": "markdown",
   "metadata": {
    "id": "cC2tNrlL_Zcu"
   },
   "source": [
    "В среднем пользователи из двух городов менее активны по средам. Но картина может измениться, если рассмотреть каждый город в отдельности."
   ]
  },
  {
   "cell_type": "markdown",
   "metadata": {
    "id": "POzs8bGa_Zcu"
   },
   "source": [
    "Вы видели, как работает группировка по городу и по дням недели. Теперь напишите функцию, которая объединит два эти расчёта.\n",
    "\n",
    "Создайте функцию `number_tracks()`, которая посчитает прослушивания для заданного дня и города. Ей понадобятся два параметра:\n",
    "* день недели,\n",
    "* название города.\n",
    "\n",
    "В функции сохраните в переменную строки исходной таблицы, у которых значение:\n",
    "  * в колонке `day` равно параметру `day`,\n",
    "  * в колонке `city` равно параметру `city`.\n",
    "\n",
    "Для этого примените последовательную фильтрацию с логической индексацией.\n",
    "\n",
    "Затем посчитайте значения в столбце `user_id` получившейся таблицы. Результат сохраните в новую переменную. Верните эту переменную из функции."
   ]
  },
  {
   "cell_type": "code",
   "execution_count": 22,
   "metadata": {
    "id": "Nz3GdQB1_Zcu"
   },
   "outputs": [],
   "source": [
    "# <создание функции number_tracks()>\n",
    "# Объявляется функция с двумя параметрами: day, city.\n",
    "# В переменной track_list сохраняются те строки таблицы df, для которых \n",
    "# значение в столбце 'day' равно параметру day и одновременно значение\n",
    "# в столбце 'city' равно параметру city (используйте последовательную фильтрацию\n",
    "# с помощью логической индексации).\n",
    "# В переменной track_list_count сохраняется число значений столбца 'user_id',\n",
    "# рассчитанное методом count() для таблицы track_list.\n",
    "# Функция возвращает число - значение track_list_count.\n",
    "\n",
    "# Функция для подсчёта прослушиваний для конкретного города и дня.\n",
    "# С помощью последовательной фильтрации с логической индексацией она \n",
    "# сначала получит из исходной таблицы строки с нужным днём,\n",
    "# затем из результата отфильтрует строки с нужным городом,\n",
    "# методом count() посчитает количество значений в колонке user_id. \n",
    "# Это количество функция вернёт в качестве результата"
   ]
  },
  {
   "cell_type": "code",
   "execution_count": 23,
   "metadata": {},
   "outputs": [],
   "source": [
    "# Функция для подсчёта прослушиваний для конкретного города и дня\n",
    "def number_tracks(city, day):\n",
    "    \n",
    "    track_list = df[df['city'] == city]\n",
    "    track_list_count = track_list[track_list['day'] == day]['user_id'].count()\n",
    "    \n",
    "    return track_list_count"
   ]
  },
  {
   "cell_type": "markdown",
   "metadata": {
    "id": "ytf7xFrFJQ2r"
   },
   "source": [
    "Вызовите `number_tracks()` шесть раз, меняя значение параметров — так, чтобы получить данные для каждого города в каждый из трёх дней."
   ]
  },
  {
   "cell_type": "code",
   "execution_count": 24,
   "metadata": {
    "id": "rJcRATNQ_Zcu"
   },
   "outputs": [
    {
     "data": {
      "text/plain": [
       "15740"
      ]
     },
     "execution_count": 24,
     "metadata": {},
     "output_type": "execute_result"
    }
   ],
   "source": [
    "# количество прослушиваний в Москве по понедельникам\n",
    "number_tracks(city='Moscow', day='Monday')"
   ]
  },
  {
   "cell_type": "code",
   "execution_count": 25,
   "metadata": {
    "id": "hq_ncZ5T_Zcu"
   },
   "outputs": [
    {
     "data": {
      "text/plain": [
       "5614"
      ]
     },
     "execution_count": 25,
     "metadata": {},
     "output_type": "execute_result"
    }
   ],
   "source": [
    "# количество прослушиваний в Санкт-Петербурге по понедельникам\n",
    "number_tracks(city='Saint-Petersburg', day='Monday')"
   ]
  },
  {
   "cell_type": "code",
   "execution_count": 26,
   "metadata": {
    "id": "_NTy2VPU_Zcu"
   },
   "outputs": [
    {
     "data": {
      "text/plain": [
       "11056"
      ]
     },
     "execution_count": 26,
     "metadata": {},
     "output_type": "execute_result"
    }
   ],
   "source": [
    "# количество прослушиваний в Москве по средам\n",
    "number_tracks(city='Moscow', day='Wednesday')"
   ]
  },
  {
   "cell_type": "code",
   "execution_count": 27,
   "metadata": {
    "id": "j2y3TAwo_Zcu"
   },
   "outputs": [
    {
     "data": {
      "text/plain": [
       "7003"
      ]
     },
     "execution_count": 27,
     "metadata": {},
     "output_type": "execute_result"
    }
   ],
   "source": [
    "# количество прослушиваний в Санкт-Петербурге по средам\n",
    "number_tracks(city='Saint-Petersburg', day='Wednesday')"
   ]
  },
  {
   "cell_type": "code",
   "execution_count": 28,
   "metadata": {
    "id": "vYDw5u_K_Zcu"
   },
   "outputs": [
    {
     "data": {
      "text/plain": [
       "15945"
      ]
     },
     "execution_count": 28,
     "metadata": {},
     "output_type": "execute_result"
    }
   ],
   "source": [
    "# количество прослушиваний в Москве по пятницам\n",
    "number_tracks(city='Moscow', day='Friday')"
   ]
  },
  {
   "cell_type": "code",
   "execution_count": 29,
   "metadata": {
    "id": "8_yzFtW3_Zcu"
   },
   "outputs": [
    {
     "data": {
      "text/plain": [
       "5895"
      ]
     },
     "execution_count": 29,
     "metadata": {},
     "output_type": "execute_result"
    }
   ],
   "source": [
    "# количество прослушиваний в Санкт-Петербурге по пятницам\n",
    "number_tracks(city='Saint-Petersburg', day='Friday')"
   ]
  },
  {
   "cell_type": "markdown",
   "metadata": {
    "id": "7QXffbO-_Zcu"
   },
   "source": [
    "Создайте c помощью конструктора `pd.DataFrame` таблицу, где\n",
    "* названия колонок — `['city', 'monday', 'wednesday', 'friday']`;\n",
    "* данные — результаты, которые вы получили с помощью `number_tracks`."
   ]
  },
  {
   "cell_type": "code",
   "execution_count": 30,
   "metadata": {},
   "outputs": [
    {
     "name": "stdout",
     "output_type": "stream",
     "text": [
      "columns ['city', 'monday', 'wednesday', 'friday']\n",
      "data [['Moscow', 15740, 11056, 15945], ['Saint-Petersburg', 5614, 7003, 5895]]\n"
     ]
    }
   ],
   "source": [
    "# Данные для формирования таблицы с результатами\n",
    "cities = ['Moscow', 'Saint-Petersburg']\n",
    "days = ['Monday', 'Wednesday', 'Friday']\n",
    "\n",
    "data = []\n",
    "columns = ['city']+[x.lower() for x in days]\n",
    "\n",
    "# Формирование списка с данными по городам и дням\n",
    "for city in cities:\n",
    "    data_city = [city]\n",
    "    for day in days:\n",
    "        data_city.append(number_tracks(city, day))\n",
    "    data.append(data_city)\n",
    "\n",
    "print('columns', columns)\n",
    "print('data', data)"
   ]
  },
  {
   "cell_type": "code",
   "execution_count": 31,
   "metadata": {
    "id": "APAcLpOr_Zcu"
   },
   "outputs": [
    {
     "data": {
      "text/html": [
       "<div>\n",
       "<style scoped>\n",
       "    .dataframe tbody tr th:only-of-type {\n",
       "        vertical-align: middle;\n",
       "    }\n",
       "\n",
       "    .dataframe tbody tr th {\n",
       "        vertical-align: top;\n",
       "    }\n",
       "\n",
       "    .dataframe thead th {\n",
       "        text-align: right;\n",
       "    }\n",
       "</style>\n",
       "<table border=\"1\" class=\"dataframe\">\n",
       "  <thead>\n",
       "    <tr style=\"text-align: right;\">\n",
       "      <th></th>\n",
       "      <th>city</th>\n",
       "      <th>monday</th>\n",
       "      <th>wednesday</th>\n",
       "      <th>friday</th>\n",
       "    </tr>\n",
       "  </thead>\n",
       "  <tbody>\n",
       "    <tr>\n",
       "      <td>0</td>\n",
       "      <td>Moscow</td>\n",
       "      <td>15740</td>\n",
       "      <td>11056</td>\n",
       "      <td>15945</td>\n",
       "    </tr>\n",
       "    <tr>\n",
       "      <td>1</td>\n",
       "      <td>Saint-Petersburg</td>\n",
       "      <td>5614</td>\n",
       "      <td>7003</td>\n",
       "      <td>5895</td>\n",
       "    </tr>\n",
       "  </tbody>\n",
       "</table>\n",
       "</div>"
      ],
      "text/plain": [
       "               city  monday  wednesday  friday\n",
       "0            Moscow   15740      11056   15945\n",
       "1  Saint-Petersburg    5614       7003    5895"
      ]
     },
     "execution_count": 31,
     "metadata": {},
     "output_type": "execute_result"
    }
   ],
   "source": [
    "# Таблица с результатами\n",
    "pd.DataFrame(data=data, columns=columns)"
   ]
  },
  {
   "cell_type": "code",
   "execution_count": 32,
   "metadata": {},
   "outputs": [
    {
     "data": {
      "text/html": [
       "<div>\n",
       "<style scoped>\n",
       "    .dataframe tbody tr th:only-of-type {\n",
       "        vertical-align: middle;\n",
       "    }\n",
       "\n",
       "    .dataframe tbody tr th {\n",
       "        vertical-align: top;\n",
       "    }\n",
       "\n",
       "    .dataframe thead th {\n",
       "        text-align: right;\n",
       "    }\n",
       "</style>\n",
       "<table border=\"1\" class=\"dataframe\">\n",
       "  <thead>\n",
       "    <tr style=\"text-align: right;\">\n",
       "      <th></th>\n",
       "      <th>city</th>\n",
       "      <th>day</th>\n",
       "      <th>track</th>\n",
       "    </tr>\n",
       "  </thead>\n",
       "  <tbody>\n",
       "    <tr>\n",
       "      <td>0</td>\n",
       "      <td>Moscow</td>\n",
       "      <td>Friday</td>\n",
       "      <td>15945</td>\n",
       "    </tr>\n",
       "    <tr>\n",
       "      <td>1</td>\n",
       "      <td>Moscow</td>\n",
       "      <td>Monday</td>\n",
       "      <td>15740</td>\n",
       "    </tr>\n",
       "    <tr>\n",
       "      <td>2</td>\n",
       "      <td>Moscow</td>\n",
       "      <td>Wednesday</td>\n",
       "      <td>11056</td>\n",
       "    </tr>\n",
       "    <tr>\n",
       "      <td>3</td>\n",
       "      <td>Saint-Petersburg</td>\n",
       "      <td>Friday</td>\n",
       "      <td>5895</td>\n",
       "    </tr>\n",
       "    <tr>\n",
       "      <td>4</td>\n",
       "      <td>Saint-Petersburg</td>\n",
       "      <td>Monday</td>\n",
       "      <td>5614</td>\n",
       "    </tr>\n",
       "    <tr>\n",
       "      <td>5</td>\n",
       "      <td>Saint-Petersburg</td>\n",
       "      <td>Wednesday</td>\n",
       "      <td>7003</td>\n",
       "    </tr>\n",
       "  </tbody>\n",
       "</table>\n",
       "</div>"
      ],
      "text/plain": [
       "               city        day  track\n",
       "0            Moscow     Friday  15945\n",
       "1            Moscow     Monday  15740\n",
       "2            Moscow  Wednesday  11056\n",
       "3  Saint-Petersburg     Friday   5895\n",
       "4  Saint-Petersburg     Monday   5614\n",
       "5  Saint-Petersburg  Wednesday   7003"
      ]
     },
     "execution_count": 32,
     "metadata": {},
     "output_type": "execute_result"
    }
   ],
   "source": [
    "# Проверка\n",
    "df.groupby(['city', 'day'], as_index=False)['track'].count()"
   ]
  },
  {
   "cell_type": "markdown",
   "metadata": {
    "id": "-EgPIHYu_Zcu"
   },
   "source": [
    "**Выводы**\n",
    "\n",
    "Данные показывают разницу поведения пользователей:\n",
    "\n",
    "- В Москве пик прослушиваний приходится на понедельник и пятницу, а в среду заметен спад.\n",
    "- В Петербурге, наоборот, больше слушают музыку по средам. Активность в понедельник и пятницу здесь почти в равной мере уступает среде.\n",
    "\n",
    "Значит, данные говорят в пользу первой гипотезы."
   ]
  },
  {
   "cell_type": "markdown",
   "metadata": {
    "id": "atZAxtq4_Zcu"
   },
   "source": [
    "### Музыка в начале и в конце недели"
   ]
  },
  {
   "cell_type": "markdown",
   "metadata": {
    "id": "eXrQqXFH_Zcu"
   },
   "source": [
    "Согласно второй гипотезе, утром в понедельник в Москве преобладают одни жанры, а в Петербурге — другие. Так же и вечером пятницы преобладают разные жанры — в зависимости от города."
   ]
  },
  {
   "cell_type": "markdown",
   "metadata": {
    "id": "S8UcW6Hw_Zcu"
   },
   "source": [
    "Сохраните таблицы с данными в две переменные:\n",
    "* по Москве — в `moscow_general`;\n",
    "* по Санкт-Петербургу — в `spb_general`."
   ]
  },
  {
   "cell_type": "code",
   "execution_count": 33,
   "metadata": {
    "id": "qeaFfM_P_Zcu"
   },
   "outputs": [],
   "source": [
    "# получение таблицы moscow_general из тех строк таблицы df, \n",
    "# для которых значение в столбце 'city' равно 'Moscow'\n",
    "moscow_general = df[df['city']=='Moscow']"
   ]
  },
  {
   "cell_type": "code",
   "execution_count": 34,
   "metadata": {
    "id": "ORaVRKto_Zcu"
   },
   "outputs": [],
   "source": [
    "# получение таблицы spb_general из тех строк таблицы df,\n",
    "# для которых значение в столбце 'city' равно 'Saint-Petersburg'\n",
    "spb_general = df[df['city']=='Saint-Petersburg']"
   ]
  },
  {
   "cell_type": "markdown",
   "metadata": {
    "id": "MEJV-CX2_Zcu"
   },
   "source": [
    "Создайте функцию `genre_weekday()` с четырьмя параметрами:\n",
    "* таблица (датафрейм) с данными,\n",
    "* день недели,\n",
    "* начальная временная метка в формате 'hh:mm', \n",
    "* последняя временная метка в формате 'hh:mm'.\n",
    "\n",
    "Функция должна вернуть информацию о топ-10 жанров тех треков, которые прослушивали в указанный день, в промежутке между двумя отметками времени."
   ]
  },
  {
   "cell_type": "code",
   "execution_count": 35,
   "metadata": {
    "id": "laJT9BYl_Zcu"
   },
   "outputs": [],
   "source": [
    "# Объявление функции genre_weekday() с параметрами table, day, time1, time2,\n",
    "# которая возвращает информацию о самых популярных жанрах в указанный день в\n",
    "# заданное время:\n",
    "# 1) в переменную genre_df сохраняются те строки переданного датафрейма table, для\n",
    "#    которых одновременно:\n",
    "#    - значение в столбце day равно значению аргумента day\n",
    "#    - значение в столбце time больше значения аргумента time1\n",
    "#    - значение в столбце time меньше значения аргумента time2\n",
    "#    Используйте последовательную фильтрацию с помощью логической индексации.\n",
    "# 2) сгруппировать датафрейм genre_df по столбцу genre, взять один из его\n",
    "#    столбцов и посчитать методом count() количество записей для каждого из\n",
    "#    присутствующих жанров, получившийся Series записать в переменную\n",
    "#    genre_df_count\n",
    "# 3) отсортировать genre_df_count по убыванию встречаемости и сохранить\n",
    "#    в переменную genre_df_sorted\n",
    "# 4) вернуть Series из 10 первых значений genre_df_sorted, это будут топ-10\n",
    "#    популярных жанров (в указанный день, в заданное время)"
   ]
  },
  {
   "cell_type": "code",
   "execution_count": 5,
   "metadata": {},
   "outputs": [],
   "source": [
    "# Функция возвращает информацию о самых популярных жанрах в указанный день, заданное время\n",
    "def genre_weekday(table, day, time1, time2):\n",
    "\n",
    "    genre_df = table[(table['day'] == day) & (table['time'] > time1) & (table['time'] < time2)]\n",
    "    genre_df_count = genre_df.groupby('genre')['track'].count()\n",
    "    genre_df_sorted = genre_df_count.sort_values(ascending=False).head(10)\n",
    "    \n",
    "    return genre_df_sorted"
   ]
  },
  {
   "cell_type": "markdown",
   "metadata": {
    "id": "la2s2_PF_Zcu"
   },
   "source": [
    "Cравните результаты функции `genre_weekday()` для Москвы и Санкт-Петербурга в понедельник утром (с 7:00 до 11:00) и в пятницу вечером (с 17:00 до 23:00):"
   ]
  },
  {
   "cell_type": "code",
   "execution_count": 37,
   "metadata": {
    "id": "yz7itPUQ_Zcu"
   },
   "outputs": [
    {
     "data": {
      "text/plain": [
       "genre\n",
       "pop            781\n",
       "dance          549\n",
       "electronic     480\n",
       "rock           474\n",
       "hiphop         286\n",
       "ruspop         186\n",
       "world          181\n",
       "rusrap         175\n",
       "alternative    164\n",
       "unknown        161\n",
       "Name: track, dtype: int64"
      ]
     },
     "execution_count": 37,
     "metadata": {},
     "output_type": "execute_result"
    }
   ],
   "source": [
    "# вызов функции для утра понедельника в Москве (вместо df — таблица moscow_general)\n",
    "# объекты, хранящие время, являются строками и сравниваются как строки\n",
    "# пример вызова: genre_weekday(moscow_general, 'Monday', '07:00', '11:00')\n",
    "genre_weekday(moscow_general, 'Monday', '07:00', '11:00')"
   ]
  },
  {
   "cell_type": "code",
   "execution_count": 38,
   "metadata": {
    "id": "kwUcHPdy_Zcu"
   },
   "outputs": [
    {
     "data": {
      "text/plain": [
       "genre\n",
       "pop            218\n",
       "dance          182\n",
       "rock           162\n",
       "electronic     147\n",
       "hiphop          80\n",
       "ruspop          64\n",
       "alternative     58\n",
       "rusrap          55\n",
       "jazz            44\n",
       "classical       40\n",
       "Name: track, dtype: int64"
      ]
     },
     "execution_count": 38,
     "metadata": {},
     "output_type": "execute_result"
    }
   ],
   "source": [
    "# вызов функции для утра понедельника в Петербурге (вместо df — таблица spb_general)\n",
    "genre_weekday(spb_general, 'Monday', '07:00', '11:00')"
   ]
  },
  {
   "cell_type": "code",
   "execution_count": 39,
   "metadata": {
    "id": "EzXVRE1o_Zcu"
   },
   "outputs": [
    {
     "data": {
      "text/plain": [
       "genre\n",
       "pop            713\n",
       "rock           517\n",
       "dance          495\n",
       "electronic     482\n",
       "hiphop         273\n",
       "world          208\n",
       "ruspop         170\n",
       "alternative    163\n",
       "classical      163\n",
       "rusrap         142\n",
       "Name: track, dtype: int64"
      ]
     },
     "execution_count": 39,
     "metadata": {},
     "output_type": "execute_result"
    }
   ],
   "source": [
    "# вызов функции для вечера пятницы в Москве\n",
    "genre_weekday(moscow_general, 'Friday', '17:00', '23:00')"
   ]
  },
  {
   "cell_type": "code",
   "execution_count": 40,
   "metadata": {
    "id": "JZaEKu5v_Zcu"
   },
   "outputs": [
    {
     "data": {
      "text/plain": [
       "genre\n",
       "pop            256\n",
       "electronic     216\n",
       "rock           216\n",
       "dance          210\n",
       "hiphop          97\n",
       "alternative     63\n",
       "jazz            61\n",
       "classical       60\n",
       "rusrap          59\n",
       "world           54\n",
       "Name: track, dtype: int64"
      ]
     },
     "execution_count": 40,
     "metadata": {},
     "output_type": "execute_result"
    }
   ],
   "source": [
    "# вызов функции для вечера пятницы в Петербурге\n",
    "genre_weekday(spb_general, 'Friday', '17:00', '23:00')"
   ]
  },
  {
   "cell_type": "markdown",
   "metadata": {
    "id": "wrCe4MNX_Zcu"
   },
   "source": [
    "**Выводы**\n",
    "\n",
    "Если сравнить топ-10 жанров в понедельник утром, можно сделать такие выводы:\n",
    "\n",
    "1. В Москве и Петербурге слушают похожую музыку. Единственное отличие — в московский рейтинг вошёл жанр “world”, а в петербургский — джаз и классика.\n",
    "\n",
    "2. В Москве пропущенных значений оказалось так много, что значение `'unknown'` заняло десятое место среди самых популярных жанров. Значит, пропущенные значения занимают существенную долю в данных и угрожают достоверности исследования.\n",
    "\n",
    "Вечер пятницы не меняет эту картину. Некоторые жанры поднимаются немного выше, другие спускаются, но в целом топ-10 остаётся тем же самым.\n",
    "\n",
    "Таким образом, вторая гипотеза подтвердилась лишь частично:\n",
    "* Пользователи слушают похожую музыку в начале недели и в конце.\n",
    "* Разница между Москвой и Петербургом не слишком выражена. В Москве чаще слушают русскую популярную музыку, в Петербурге — джаз.\n",
    "\n",
    "Однако пропуски в данных ставят под сомнение этот результат. В Москве их так много, что рейтинг топ-10 мог бы выглядеть иначе, если бы не утерянные  данные о жанрах."
   ]
  },
  {
   "cell_type": "markdown",
   "metadata": {
    "id": "JolODAqr_Zcu"
   },
   "source": [
    "### Жанровые предпочтения в Москве и Петербурге\n",
    "\n",
    "Гипотеза: Петербург — столица рэпа, музыку этого жанра там слушают чаще, чем в Москве.  А Москва — город контрастов, в котором, тем не менее, преобладает поп-музыка."
   ]
  },
  {
   "cell_type": "markdown",
   "metadata": {
    "id": "DlegSvaT_Zcu"
   },
   "source": [
    "Сгруппируйте таблицу `moscow_general` по жанру и посчитайте прослушивания треков каждого жанра методом `count()`. Затем отсортируйте результат в порядке убывания и сохраните его в таблице `moscow_genres`."
   ]
  },
  {
   "cell_type": "code",
   "execution_count": 41,
   "metadata": {
    "id": "r19lIPke_Zcu"
   },
   "outputs": [],
   "source": [
    "# одной строкой: группировка таблицы moscow_general по столбцу 'genre', \n",
    "# подсчёт числа значений 'genre' в этой группировке методом count(), \n",
    "# сортировка получившегося Series в порядке убывания и сохранение в moscow_genres\n",
    "moscow_genres = moscow_general.groupby('genre')['genre'].count().sort_values(ascending=False)"
   ]
  },
  {
   "cell_type": "markdown",
   "metadata": {
    "id": "6kMuomxTiIr8"
   },
   "source": [
    "Выведите на экран первые десять строк `moscow_genres`:"
   ]
  },
  {
   "cell_type": "code",
   "execution_count": 42,
   "metadata": {
    "id": "WhCSooF8_Zcv"
   },
   "outputs": [
    {
     "data": {
      "text/plain": [
       "genre\n",
       "pop            5892\n",
       "dance          4435\n",
       "rock           3965\n",
       "electronic     3786\n",
       "hiphop         2096\n",
       "classical      1616\n",
       "world          1432\n",
       "alternative    1379\n",
       "ruspop         1372\n",
       "rusrap         1161\n",
       "Name: genre, dtype: int64"
      ]
     },
     "execution_count": 42,
     "metadata": {},
     "output_type": "execute_result"
    }
   ],
   "source": [
    "# просмотр первых 10 строк moscow_genres\n",
    "moscow_genres.head(10)"
   ]
  },
  {
   "cell_type": "markdown",
   "metadata": {
    "id": "cnPG2vnN_Zcv"
   },
   "source": [
    "Теперь повторите то же и для Петербурга.\n",
    "\n",
    "Сгруппируйте таблицу `spb_general` по жанру. Посчитайте прослушивания треков каждого жанра. Результат отсортируйте в порядке убывания и сохраните в таблице `spb_genres`:\n"
   ]
  },
  {
   "cell_type": "code",
   "execution_count": 43,
   "metadata": {
    "id": "gluLIpE7_Zcv"
   },
   "outputs": [],
   "source": [
    "# одной строкой: группировка таблицы spb_general по столбцу 'genre', \n",
    "# подсчёт числа значений 'genre' в этой группировке методом count(), \n",
    "# сортировка получившегося Series в порядке убывания и сохранение в spb_genres\n",
    "spb_genres = spb_general.groupby('genre')['genre'].count().sort_values(ascending=False)"
   ]
  },
  {
   "cell_type": "markdown",
   "metadata": {
    "id": "5Doha_ODgyQ8"
   },
   "source": [
    "Выведите на экран первые десять строк `spb_genres`:"
   ]
  },
  {
   "cell_type": "code",
   "execution_count": 44,
   "metadata": {
    "id": "uaGJHjVU_Zcv"
   },
   "outputs": [
    {
     "data": {
      "text/plain": [
       "genre\n",
       "pop            2431\n",
       "dance          1932\n",
       "rock           1879\n",
       "electronic     1737\n",
       "hiphop          960\n",
       "alternative     649\n",
       "classical       646\n",
       "rusrap          564\n",
       "ruspop          539\n",
       "world           515\n",
       "Name: genre, dtype: int64"
      ]
     },
     "execution_count": 44,
     "metadata": {},
     "output_type": "execute_result"
    }
   ],
   "source": [
    "# просмотр первых 10 строк spb_genres\n",
    "spb_genres.head(10)"
   ]
  },
  {
   "cell_type": "markdown",
   "metadata": {
    "id": "RY51YJYu_Zcv"
   },
   "source": [
    "**Выводы**"
   ]
  },
  {
   "cell_type": "markdown",
   "metadata": {
    "id": "nVhnJEm__Zcv"
   },
   "source": [
    "Гипотеза частично подтвердилась:\n",
    "* Поп-музыка — самый популярный жанр в Москве, как и предполагала гипотеза. Более того, в топ-10 жанров встречается близкий жанр — русская популярная музыка.\n",
    "* Вопреки ожиданиям, рэп одинаково популярен в Москве и Петербурге. \n"
   ]
  },
  {
   "cell_type": "markdown",
   "metadata": {
    "id": "ykKQ0N65_Zcv"
   },
   "source": [
    "## Итоги исследования"
   ]
  },
  {
   "cell_type": "markdown",
   "metadata": {
    "id": "tjUwbHb3_Zcv"
   },
   "source": [
    "Вы проверили три гипотезы и установили:\n",
    "\n",
    "1. День недели по-разному влияет на активность пользователей в Москве и Петербурге. \n",
    "\n",
    "Первая гипотеза полностью подтвердилась.\n",
    "\n",
    "2. Музыкальные предпочтения не сильно меняются в течение недели — будь то Москва или Петербург. Небольшие различия заметны в начале недели, по понедельникам:\n",
    "* в Москве слушают музыку жанра “world”,\n",
    "* в Петербурге — джаз и классику.\n",
    "\n",
    "Таким образом, вторая гипотеза подтвердилась лишь отчасти. Этот результат мог оказаться иным, если бы не пропуски в данных.\n",
    "\n",
    "3. Во вкусах пользователей Москвы и Петербурга больше общего чем различий. Вопреки ожиданиям, предпочтения жанров в Петербурге напоминают московские.\n",
    "\n",
    "Третья гипотеза не подтвердилась. Если различия в предпочтениях и существуют, на основной массе пользователей они незаметны.\n",
    "\n",
    "**На практике исследования содержат проверки статистических гипотез.**\n",
    "Из данных одного сервиса не всегда можно сделать вывод о всех жителях города.\n",
    "Проверки статистических гипотез покажут, насколько они достоверны, исходя из имеющихся данных. \n",
    "С методами проверок гипотез вы ещё познакомитесь в следующих темах."
   ]
  }
 ],
 "metadata": {
  "ExecuteTimeLog": [
   {
    "duration": 576,
    "start_time": "2022-01-01T19:55:43.208Z"
   },
   {
    "duration": 125,
    "start_time": "2022-01-01T19:55:45.691Z"
   },
   {
    "duration": 15,
    "start_time": "2022-01-01T19:55:48.660Z"
   },
   {
    "duration": 22,
    "start_time": "2022-01-01T19:56:04.241Z"
   },
   {
    "duration": 346,
    "start_time": "2022-01-02T09:08:49.869Z"
   },
   {
    "duration": 750,
    "start_time": "2022-01-02T09:08:54.910Z"
   },
   {
    "duration": 1188,
    "start_time": "2022-01-02T09:08:57.397Z"
   },
   {
    "duration": 166,
    "start_time": "2022-01-02T09:13:08.369Z"
   },
   {
    "duration": 25,
    "start_time": "2022-01-02T09:13:12.089Z"
   },
   {
    "duration": 29,
    "start_time": "2022-01-02T09:13:16.560Z"
   },
   {
    "duration": 348,
    "start_time": "2022-01-04T01:47:19.414Z"
   },
   {
    "duration": 736,
    "start_time": "2022-01-04T01:47:33.203Z"
   },
   {
    "duration": 195,
    "start_time": "2022-01-04T01:47:33.941Z"
   },
   {
    "duration": 30,
    "start_time": "2022-01-04T01:47:34.139Z"
   },
   {
    "duration": 37,
    "start_time": "2022-01-04T01:47:34.172Z"
   },
   {
    "duration": 5,
    "start_time": "2022-01-04T01:47:34.212Z"
   },
   {
    "duration": 4,
    "start_time": "2022-01-04T01:47:34.219Z"
   },
   {
    "duration": 42,
    "start_time": "2022-01-04T01:47:34.225Z"
   },
   {
    "duration": 3,
    "start_time": "2022-01-04T01:47:34.270Z"
   },
   {
    "duration": 19,
    "start_time": "2022-01-04T01:47:34.277Z"
   },
   {
    "duration": 10,
    "start_time": "2022-01-04T01:47:34.299Z"
   },
   {
    "duration": 9,
    "start_time": "2022-01-04T01:47:34.311Z"
   },
   {
    "duration": 8,
    "start_time": "2022-01-04T01:47:34.322Z"
   },
   {
    "duration": 6,
    "start_time": "2022-01-04T01:47:34.332Z"
   },
   {
    "duration": 6,
    "start_time": "2022-01-04T01:47:34.340Z"
   },
   {
    "duration": 18,
    "start_time": "2022-01-04T01:47:34.349Z"
   },
   {
    "duration": 4,
    "start_time": "2022-01-04T01:47:34.369Z"
   },
   {
    "duration": 6,
    "start_time": "2022-01-04T01:47:34.376Z"
   },
   {
    "duration": 11,
    "start_time": "2022-01-04T01:47:34.385Z"
   },
   {
    "duration": 7,
    "start_time": "2022-01-04T01:47:34.398Z"
   },
   {
    "duration": 6,
    "start_time": "2022-01-04T01:47:34.408Z"
   },
   {
    "duration": 11,
    "start_time": "2022-01-04T01:47:34.416Z"
   },
   {
    "duration": 7,
    "start_time": "2022-01-04T01:47:34.429Z"
   },
   {
    "duration": 29,
    "start_time": "2022-01-04T01:47:34.438Z"
   },
   {
    "duration": 4,
    "start_time": "2022-01-04T01:47:34.470Z"
   },
   {
    "duration": 6,
    "start_time": "2022-01-04T01:47:34.477Z"
   },
   {
    "duration": 10,
    "start_time": "2022-01-04T01:47:34.485Z"
   },
   {
    "duration": 3,
    "start_time": "2022-01-04T01:47:34.501Z"
   },
   {
    "duration": 7,
    "start_time": "2022-01-04T01:47:34.507Z"
   },
   {
    "duration": 7,
    "start_time": "2022-01-04T01:47:34.516Z"
   },
   {
    "duration": 41,
    "start_time": "2022-01-04T01:47:34.526Z"
   },
   {
    "duration": 3,
    "start_time": "2022-01-04T01:47:34.570Z"
   },
   {
    "duration": 7,
    "start_time": "2022-01-04T01:47:34.575Z"
   },
   {
    "duration": 12,
    "start_time": "2022-01-04T01:47:34.585Z"
   },
   {
    "duration": 7,
    "start_time": "2022-01-04T01:47:34.599Z"
   },
   {
    "duration": 10,
    "start_time": "2022-01-04T01:47:34.609Z"
   },
   {
    "duration": 6,
    "start_time": "2022-01-04T01:47:34.621Z"
   },
   {
    "duration": 6,
    "start_time": "2022-01-04T01:47:34.630Z"
   },
   {
    "duration": 7,
    "start_time": "2022-01-04T01:47:34.638Z"
   },
   {
    "duration": 28,
    "start_time": "2022-01-04T01:48:03.152Z"
   },
   {
    "duration": 6,
    "start_time": "2022-01-04T01:48:15.141Z"
   },
   {
    "duration": 31,
    "start_time": "2022-01-04T01:48:30.453Z"
   },
   {
    "duration": 31,
    "start_time": "2022-01-04T01:49:10.833Z"
   },
   {
    "duration": 93,
    "start_time": "2022-01-04T01:49:20.753Z"
   },
   {
    "duration": 102,
    "start_time": "2022-01-04T01:49:47.753Z"
   },
   {
    "duration": 78,
    "start_time": "2022-01-04T01:50:02.812Z"
   },
   {
    "duration": 60,
    "start_time": "2022-01-04T01:50:14.041Z"
   },
   {
    "duration": 4,
    "start_time": "2022-01-04T01:50:49.253Z"
   },
   {
    "duration": 22,
    "start_time": "2022-01-04T01:51:04.508Z"
   },
   {
    "duration": 154,
    "start_time": "2022-01-04T01:51:52.115Z"
   },
   {
    "duration": 16,
    "start_time": "2022-01-04T01:52:41.141Z"
   },
   {
    "duration": 16,
    "start_time": "2022-01-04T01:52:54.393Z"
   },
   {
    "duration": 23,
    "start_time": "2022-01-04T01:53:15.913Z"
   },
   {
    "duration": 14,
    "start_time": "2022-01-04T01:53:35.012Z"
   },
   {
    "duration": 15,
    "start_time": "2022-01-04T01:53:58.634Z"
   },
   {
    "duration": 24,
    "start_time": "2022-01-04T01:54:36.793Z"
   },
   {
    "duration": 305,
    "start_time": "2022-01-04T01:56:36.453Z"
   },
   {
    "duration": 4,
    "start_time": "2022-01-04T01:56:41.133Z"
   },
   {
    "duration": 27,
    "start_time": "2022-01-04T01:56:42.873Z"
   },
   {
    "duration": 21,
    "start_time": "2022-01-04T01:56:52.312Z"
   },
   {
    "duration": 27,
    "start_time": "2022-01-04T01:57:01.713Z"
   },
   {
    "duration": 19,
    "start_time": "2022-01-04T01:57:12.553Z"
   },
   {
    "duration": 26,
    "start_time": "2022-01-04T01:57:21.273Z"
   },
   {
    "duration": 20,
    "start_time": "2022-01-04T01:57:34.013Z"
   },
   {
    "duration": 103,
    "start_time": "2022-01-04T01:58:37.601Z"
   },
   {
    "duration": 12,
    "start_time": "2022-01-04T01:58:39.361Z"
   },
   {
    "duration": 32,
    "start_time": "2022-01-04T01:58:51.701Z"
   },
   {
    "duration": 105,
    "start_time": "2022-01-04T02:01:00.453Z"
   },
   {
    "duration": 105,
    "start_time": "2022-01-04T02:01:15.233Z"
   },
   {
    "duration": 107,
    "start_time": "2022-01-04T02:01:27.073Z"
   },
   {
    "duration": 103,
    "start_time": "2022-01-04T02:02:25.493Z"
   },
   {
    "duration": 413,
    "start_time": "2022-01-04T02:02:59.094Z"
   },
   {
    "duration": 99,
    "start_time": "2022-01-04T02:03:06.693Z"
   },
   {
    "duration": 99,
    "start_time": "2022-01-04T02:03:32.735Z"
   },
   {
    "duration": 14,
    "start_time": "2022-01-04T02:04:26.973Z"
   },
   {
    "duration": 12,
    "start_time": "2022-01-04T02:04:37.553Z"
   },
   {
    "duration": 287,
    "start_time": "2022-01-04T02:07:00.493Z"
   },
   {
    "duration": 5,
    "start_time": "2022-01-04T02:07:06.262Z"
   },
   {
    "duration": 27,
    "start_time": "2022-01-04T02:07:08.062Z"
   },
   {
    "duration": 17,
    "start_time": "2022-01-04T02:07:50.254Z"
   },
   {
    "duration": 24,
    "start_time": "2022-01-04T02:07:51.560Z"
   },
   {
    "duration": 17,
    "start_time": "2022-01-04T02:07:53.393Z"
   },
   {
    "duration": 11,
    "start_time": "2022-01-04T02:08:20.273Z"
   },
   {
    "duration": 7,
    "start_time": "2022-01-04T02:08:39.183Z"
   },
   {
    "duration": 9,
    "start_time": "2022-01-04T02:08:53.357Z"
   },
   {
    "duration": 6,
    "start_time": "2022-01-04T02:09:10.493Z"
   },
   {
    "duration": 29,
    "start_time": "2022-01-04T02:11:32.513Z"
   },
   {
    "duration": 29,
    "start_time": "2022-01-04T02:11:39.342Z"
   },
   {
    "duration": 22,
    "start_time": "2022-01-04T02:11:44.853Z"
   },
   {
    "duration": 30,
    "start_time": "2022-01-04T02:11:47.093Z"
   },
   {
    "duration": 4,
    "start_time": "2022-01-04T02:11:53.414Z"
   },
   {
    "duration": 214,
    "start_time": "2022-01-04T02:11:53.420Z"
   },
   {
    "duration": 15,
    "start_time": "2022-01-04T02:11:53.637Z"
   },
   {
    "duration": 43,
    "start_time": "2022-01-04T02:11:53.655Z"
   },
   {
    "duration": 4,
    "start_time": "2022-01-04T02:11:53.701Z"
   },
   {
    "duration": 29,
    "start_time": "2022-01-04T02:11:53.708Z"
   },
   {
    "duration": 6,
    "start_time": "2022-01-04T02:11:53.767Z"
   },
   {
    "duration": 37,
    "start_time": "2022-01-04T02:11:53.775Z"
   },
   {
    "duration": 23,
    "start_time": "2022-01-04T02:11:53.816Z"
   },
   {
    "duration": 31,
    "start_time": "2022-01-04T02:11:53.867Z"
   },
   {
    "duration": 103,
    "start_time": "2022-01-04T02:11:53.900Z"
   },
   {
    "duration": 105,
    "start_time": "2022-01-04T02:11:54.005Z"
   },
   {
    "duration": 84,
    "start_time": "2022-01-04T02:11:54.113Z"
   },
   {
    "duration": 70,
    "start_time": "2022-01-04T02:11:54.200Z"
   },
   {
    "duration": 4,
    "start_time": "2022-01-04T02:11:54.272Z"
   },
   {
    "duration": 178,
    "start_time": "2022-01-04T02:11:54.278Z"
   },
   {
    "duration": 2,
    "start_time": "2022-01-04T02:11:54.458Z"
   },
   {
    "duration": 18,
    "start_time": "2022-01-04T02:11:54.463Z"
   },
   {
    "duration": 24,
    "start_time": "2022-01-04T02:11:54.483Z"
   },
   {
    "duration": 58,
    "start_time": "2022-01-04T02:11:54.510Z"
   },
   {
    "duration": 3,
    "start_time": "2022-01-04T02:11:54.571Z"
   },
   {
    "duration": 12,
    "start_time": "2022-01-04T02:11:54.576Z"
   },
   {
    "duration": 29,
    "start_time": "2022-01-04T02:11:54.591Z"
   },
   {
    "duration": 19,
    "start_time": "2022-01-04T02:11:54.622Z"
   },
   {
    "duration": 26,
    "start_time": "2022-01-04T02:11:54.668Z"
   },
   {
    "duration": 19,
    "start_time": "2022-01-04T02:11:54.697Z"
   },
   {
    "duration": 57,
    "start_time": "2022-01-04T02:11:54.721Z"
   },
   {
    "duration": 20,
    "start_time": "2022-01-04T02:11:54.781Z"
   },
   {
    "duration": 135,
    "start_time": "2022-01-04T02:11:54.803Z"
   },
   {
    "duration": 11,
    "start_time": "2022-01-04T02:11:54.941Z"
   },
   {
    "duration": 30,
    "start_time": "2022-01-04T02:11:54.967Z"
   },
   {
    "duration": 18,
    "start_time": "2022-01-04T02:11:55.000Z"
   },
   {
    "duration": 14,
    "start_time": "2022-01-04T02:11:55.020Z"
   },
   {
    "duration": 32,
    "start_time": "2022-01-04T02:11:55.037Z"
   },
   {
    "duration": 18,
    "start_time": "2022-01-04T02:11:55.072Z"
   },
   {
    "duration": 35,
    "start_time": "2022-01-04T02:11:55.092Z"
   },
   {
    "duration": 37,
    "start_time": "2022-01-04T02:11:55.129Z"
   },
   {
    "duration": 25,
    "start_time": "2022-01-04T02:11:55.169Z"
   },
   {
    "duration": 18,
    "start_time": "2022-01-04T02:11:55.197Z"
   },
   {
    "duration": 11,
    "start_time": "2022-01-04T02:11:55.217Z"
   },
   {
    "duration": 39,
    "start_time": "2022-01-04T02:11:55.231Z"
   },
   {
    "duration": 10,
    "start_time": "2022-01-04T02:11:55.272Z"
   },
   {
    "duration": 7,
    "start_time": "2022-01-04T02:11:55.284Z"
   },
   {
    "duration": 58,
    "start_time": "2022-01-04T02:15:07.135Z"
   },
   {
    "duration": 58,
    "start_time": "2022-01-04T02:15:41.614Z"
   },
   {
    "duration": 3,
    "start_time": "2022-01-04T02:15:52.438Z"
   },
   {
    "duration": 212,
    "start_time": "2022-01-04T02:15:52.444Z"
   },
   {
    "duration": 21,
    "start_time": "2022-01-04T02:15:52.660Z"
   },
   {
    "duration": 32,
    "start_time": "2022-01-04T02:15:52.684Z"
   },
   {
    "duration": 6,
    "start_time": "2022-01-04T02:15:52.719Z"
   },
   {
    "duration": 57,
    "start_time": "2022-01-04T02:15:52.728Z"
   },
   {
    "duration": 6,
    "start_time": "2022-01-04T02:15:52.788Z"
   },
   {
    "duration": 34,
    "start_time": "2022-01-04T02:15:52.797Z"
   },
   {
    "duration": 24,
    "start_time": "2022-01-04T02:15:52.870Z"
   },
   {
    "duration": 32,
    "start_time": "2022-01-04T02:15:52.898Z"
   },
   {
    "duration": 119,
    "start_time": "2022-01-04T02:15:52.932Z"
   },
   {
    "duration": 109,
    "start_time": "2022-01-04T02:15:53.067Z"
   },
   {
    "duration": 89,
    "start_time": "2022-01-04T02:15:53.179Z"
   },
   {
    "duration": 62,
    "start_time": "2022-01-04T02:15:53.271Z"
   },
   {
    "duration": 76,
    "start_time": "2022-01-04T02:15:53.335Z"
   },
   {
    "duration": 4,
    "start_time": "2022-01-04T02:15:53.413Z"
   },
   {
    "duration": 282,
    "start_time": "2022-01-04T02:15:53.420Z"
   },
   {
    "duration": 73,
    "start_time": "2022-01-04T02:15:53.704Z"
   },
   {
    "duration": 17,
    "start_time": "2022-01-04T02:15:53.780Z"
   },
   {
    "duration": 24,
    "start_time": "2022-01-04T02:15:53.799Z"
   },
   {
    "duration": 61,
    "start_time": "2022-01-04T02:15:53.826Z"
   },
   {
    "duration": 4,
    "start_time": "2022-01-04T02:15:53.890Z"
   },
   {
    "duration": 12,
    "start_time": "2022-01-04T02:15:53.897Z"
   },
   {
    "duration": 59,
    "start_time": "2022-01-04T02:15:53.911Z"
   },
   {
    "duration": 22,
    "start_time": "2022-01-04T02:15:53.973Z"
   },
   {
    "duration": 32,
    "start_time": "2022-01-04T02:15:53.998Z"
   },
   {
    "duration": 45,
    "start_time": "2022-01-04T02:15:54.035Z"
   },
   {
    "duration": 27,
    "start_time": "2022-01-04T02:15:54.083Z"
   },
   {
    "duration": 19,
    "start_time": "2022-01-04T02:15:54.112Z"
   },
   {
    "duration": 142,
    "start_time": "2022-01-04T02:15:54.133Z"
   },
   {
    "duration": 12,
    "start_time": "2022-01-04T02:15:54.277Z"
   },
   {
    "duration": 29,
    "start_time": "2022-01-04T02:15:54.291Z"
   },
   {
    "duration": 49,
    "start_time": "2022-01-04T02:15:54.323Z"
   },
   {
    "duration": 14,
    "start_time": "2022-01-04T02:15:54.375Z"
   },
   {
    "duration": 3,
    "start_time": "2022-01-04T02:15:54.392Z"
   },
   {
    "duration": 8,
    "start_time": "2022-01-04T02:15:54.398Z"
   },
   {
    "duration": 30,
    "start_time": "2022-01-04T02:15:54.408Z"
   },
   {
    "duration": 18,
    "start_time": "2022-01-04T02:15:54.467Z"
   },
   {
    "duration": 25,
    "start_time": "2022-01-04T02:15:54.488Z"
   },
   {
    "duration": 51,
    "start_time": "2022-01-04T02:15:54.516Z"
   },
   {
    "duration": 12,
    "start_time": "2022-01-04T02:15:54.569Z"
   },
   {
    "duration": 6,
    "start_time": "2022-01-04T02:15:54.584Z"
   },
   {
    "duration": 10,
    "start_time": "2022-01-04T02:15:54.592Z"
   },
   {
    "duration": 8,
    "start_time": "2022-01-04T02:15:54.604Z"
   },
   {
    "duration": 3,
    "start_time": "2022-01-04T02:20:09.395Z"
   },
   {
    "duration": 203,
    "start_time": "2022-01-04T02:20:09.401Z"
   },
   {
    "duration": 16,
    "start_time": "2022-01-04T02:20:09.607Z"
   },
   {
    "duration": 53,
    "start_time": "2022-01-04T02:20:09.625Z"
   },
   {
    "duration": 4,
    "start_time": "2022-01-04T02:20:09.681Z"
   },
   {
    "duration": 17,
    "start_time": "2022-01-04T02:20:09.688Z"
   },
   {
    "duration": 5,
    "start_time": "2022-01-04T02:20:09.708Z"
   },
   {
    "duration": 60,
    "start_time": "2022-01-04T02:20:09.715Z"
   },
   {
    "duration": 22,
    "start_time": "2022-01-04T02:20:09.779Z"
   },
   {
    "duration": 30,
    "start_time": "2022-01-04T02:20:09.804Z"
   },
   {
    "duration": 112,
    "start_time": "2022-01-04T02:20:09.837Z"
   },
   {
    "duration": 121,
    "start_time": "2022-01-04T02:20:09.951Z"
   },
   {
    "duration": 78,
    "start_time": "2022-01-04T02:20:10.075Z"
   },
   {
    "duration": 67,
    "start_time": "2022-01-04T02:20:10.156Z"
   },
   {
    "duration": 74,
    "start_time": "2022-01-04T02:20:10.226Z"
   },
   {
    "duration": 4,
    "start_time": "2022-01-04T02:20:10.302Z"
   },
   {
    "duration": 176,
    "start_time": "2022-01-04T02:20:10.309Z"
   },
   {
    "duration": 56,
    "start_time": "2022-01-04T02:20:10.488Z"
   },
   {
    "duration": 29,
    "start_time": "2022-01-04T02:20:10.547Z"
   },
   {
    "duration": 21,
    "start_time": "2022-01-04T02:20:10.578Z"
   },
   {
    "duration": 21,
    "start_time": "2022-01-04T02:20:10.601Z"
   },
   {
    "duration": 43,
    "start_time": "2022-01-04T02:20:10.624Z"
   },
   {
    "duration": 11,
    "start_time": "2022-01-04T02:20:10.670Z"
   },
   {
    "duration": 29,
    "start_time": "2022-01-04T02:20:10.683Z"
   },
   {
    "duration": 19,
    "start_time": "2022-01-04T02:20:10.714Z"
   },
   {
    "duration": 47,
    "start_time": "2022-01-04T02:20:10.735Z"
   },
   {
    "duration": 20,
    "start_time": "2022-01-04T02:20:10.787Z"
   },
   {
    "duration": 57,
    "start_time": "2022-01-04T02:20:10.810Z"
   },
   {
    "duration": 19,
    "start_time": "2022-01-04T02:20:10.870Z"
   },
   {
    "duration": 123,
    "start_time": "2022-01-04T02:20:10.892Z"
   },
   {
    "duration": 11,
    "start_time": "2022-01-04T02:20:11.017Z"
   },
   {
    "duration": 55,
    "start_time": "2022-01-04T02:20:11.030Z"
   },
   {
    "duration": 17,
    "start_time": "2022-01-04T02:20:11.087Z"
   },
   {
    "duration": 14,
    "start_time": "2022-01-04T02:20:11.106Z"
   },
   {
    "duration": 3,
    "start_time": "2022-01-04T02:20:11.122Z"
   },
   {
    "duration": 40,
    "start_time": "2022-01-04T02:20:11.127Z"
   },
   {
    "duration": 30,
    "start_time": "2022-01-04T02:20:11.170Z"
   },
   {
    "duration": 16,
    "start_time": "2022-01-04T02:20:11.202Z"
   },
   {
    "duration": 47,
    "start_time": "2022-01-04T02:20:11.220Z"
   },
   {
    "duration": 17,
    "start_time": "2022-01-04T02:20:11.269Z"
   },
   {
    "duration": 10,
    "start_time": "2022-01-04T02:20:11.288Z"
   },
   {
    "duration": 6,
    "start_time": "2022-01-04T02:20:11.300Z"
   },
   {
    "duration": 9,
    "start_time": "2022-01-04T02:20:11.308Z"
   },
   {
    "duration": 50,
    "start_time": "2022-01-04T02:20:11.319Z"
   },
   {
    "duration": 513,
    "start_time": "2022-01-04T17:13:32.862Z"
   },
   {
    "duration": 122,
    "start_time": "2022-01-04T17:13:33.377Z"
   },
   {
    "duration": 14,
    "start_time": "2022-01-04T17:13:33.501Z"
   },
   {
    "duration": 21,
    "start_time": "2022-01-04T17:13:33.527Z"
   },
   {
    "duration": 5,
    "start_time": "2022-01-04T17:13:33.549Z"
   },
   {
    "duration": 18,
    "start_time": "2022-01-04T17:13:33.556Z"
   },
   {
    "duration": 3,
    "start_time": "2022-01-04T17:13:33.576Z"
   },
   {
    "duration": 21,
    "start_time": "2022-01-04T17:13:33.582Z"
   },
   {
    "duration": 32,
    "start_time": "2022-01-04T17:13:33.606Z"
   },
   {
    "duration": 21,
    "start_time": "2022-01-04T17:13:33.639Z"
   },
   {
    "duration": 73,
    "start_time": "2022-01-04T17:13:33.661Z"
   },
   {
    "duration": 63,
    "start_time": "2022-01-04T17:13:33.736Z"
   },
   {
    "duration": 64,
    "start_time": "2022-01-04T17:13:33.800Z"
   },
   {
    "duration": 40,
    "start_time": "2022-01-04T17:13:33.866Z"
   },
   {
    "duration": 71,
    "start_time": "2022-01-04T17:13:33.908Z"
   },
   {
    "duration": 3,
    "start_time": "2022-01-04T17:13:33.981Z"
   },
   {
    "duration": 152,
    "start_time": "2022-01-04T17:13:33.986Z"
   },
   {
    "duration": 57,
    "start_time": "2022-01-04T17:13:34.141Z"
   },
   {
    "duration": 28,
    "start_time": "2022-01-04T17:13:34.200Z"
   },
   {
    "duration": 24,
    "start_time": "2022-01-04T17:13:34.230Z"
   },
   {
    "duration": 21,
    "start_time": "2022-01-04T17:13:34.256Z"
   },
   {
    "duration": 3,
    "start_time": "2022-01-04T17:13:34.279Z"
   },
   {
    "duration": 10,
    "start_time": "2022-01-04T17:13:34.286Z"
   },
   {
    "duration": 48,
    "start_time": "2022-01-04T17:13:34.298Z"
   },
   {
    "duration": 19,
    "start_time": "2022-01-04T17:13:34.348Z"
   },
   {
    "duration": 26,
    "start_time": "2022-01-04T17:13:34.368Z"
   },
   {
    "duration": 40,
    "start_time": "2022-01-04T17:13:34.396Z"
   },
   {
    "duration": 27,
    "start_time": "2022-01-04T17:13:34.438Z"
   },
   {
    "duration": 18,
    "start_time": "2022-01-04T17:13:34.467Z"
   },
   {
    "duration": 124,
    "start_time": "2022-01-04T17:13:34.487Z"
   },
   {
    "duration": 15,
    "start_time": "2022-01-04T17:13:34.613Z"
   },
   {
    "duration": 34,
    "start_time": "2022-01-04T17:13:34.630Z"
   },
   {
    "duration": 15,
    "start_time": "2022-01-04T17:13:34.665Z"
   },
   {
    "duration": 11,
    "start_time": "2022-01-04T17:13:34.682Z"
   },
   {
    "duration": 2,
    "start_time": "2022-01-04T17:13:34.695Z"
   },
   {
    "duration": 28,
    "start_time": "2022-01-04T17:13:34.699Z"
   },
   {
    "duration": 31,
    "start_time": "2022-01-04T17:13:34.729Z"
   },
   {
    "duration": 11,
    "start_time": "2022-01-04T17:13:34.762Z"
   },
   {
    "duration": 17,
    "start_time": "2022-01-04T17:13:34.774Z"
   },
   {
    "duration": 10,
    "start_time": "2022-01-04T17:13:34.792Z"
   },
   {
    "duration": 28,
    "start_time": "2022-01-04T17:13:34.803Z"
   },
   {
    "duration": 4,
    "start_time": "2022-01-04T17:13:34.832Z"
   },
   {
    "duration": 7,
    "start_time": "2022-01-04T17:13:34.839Z"
   },
   {
    "duration": 6,
    "start_time": "2022-01-04T17:13:34.847Z"
   },
   {
    "duration": 65,
    "start_time": "2022-01-04T17:14:28.985Z"
   }
  ],
  "colab": {
   "collapsed_sections": [
    "E0vqbgi9ay0H",
    "VUC88oWjTJw2"
   ],
   "name": "yandex_music_project_2021.2.ipynb",
   "provenance": []
  },
  "kernelspec": {
   "display_name": "Python 3",
   "language": "python",
   "name": "python3"
  },
  "language_info": {
   "codemirror_mode": {
    "name": "ipython",
    "version": 3
   },
   "file_extension": ".py",
   "mimetype": "text/x-python",
   "name": "python",
   "nbconvert_exporter": "python",
   "pygments_lexer": "ipython3",
   "version": "3.8.8"
  },
  "toc": {
   "base_numbering": 1,
   "nav_menu": {},
   "number_sections": true,
   "sideBar": true,
   "skip_h1_title": true,
   "title_cell": "Table of Contents",
   "title_sidebar": "Contents",
   "toc_cell": false,
   "toc_position": {
    "height": "calc(100% - 180px)",
    "left": "10px",
    "top": "150px",
    "width": "182.391px"
   },
   "toc_section_display": true,
   "toc_window_display": true
  }
 },
 "nbformat": 4,
 "nbformat_minor": 1
}
