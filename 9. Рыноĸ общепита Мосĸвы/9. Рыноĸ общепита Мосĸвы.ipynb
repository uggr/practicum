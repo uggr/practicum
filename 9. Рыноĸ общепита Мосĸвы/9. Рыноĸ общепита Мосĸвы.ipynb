{
 "cells": [
  {
   "cell_type": "markdown",
   "id": "7121545d",
   "metadata": {},
   "source": [
    "# Исследования рынĸа общепита в Мосĸве для принятия решения об отĸрытии нового заведения"
   ]
  },
  {
   "cell_type": "markdown",
   "id": "f87d9945",
   "metadata": {},
   "source": [
    "## Описание проекта\n",
    "\n",
    "Вы решили открыть небольшое кафе в Москве. Оно оригинальное — гостей должны обслуживать роботы. Проект многообещающий, но дорогой. Вместе с партнёрами вы решились обратиться к инвесторам. Их интересует текущее положение дел на рынке — сможете ли вы снискать популярность на долгое время, когда все зеваки насмотрятся на роботов-официантов?\n",
    "\n",
    "Вы — гуру аналитики, и партнёры просят вас подготовить исследование рынка. У вас есть открытые данные о заведениях общественного питания в Москве."
   ]
  },
  {
   "cell_type": "markdown",
   "id": "523d45ae",
   "metadata": {},
   "source": [
    "<div class=\"alert alert-success\">\n",
    "<b>✔️ Комментарий ревьюера</b>\n",
    "\n",
    "Отличное начало проекта. Описание поможет вспомнить о чём файл, а содержание помогло бы с навигацией.\n",
    "\n",
    "</div>"
   ]
  },
  {
   "cell_type": "markdown",
   "id": "99bf6e99",
   "metadata": {},
   "source": [
    "## Шаг №1. Загрузите данные и подготовьте их к анализу"
   ]
  },
  {
   "cell_type": "code",
   "execution_count": 1,
   "id": "7c5c366e",
   "metadata": {},
   "outputs": [],
   "source": [
    "import numpy as np\n",
    "import pandas as pd\n",
    "import seaborn as sns\n",
    "import matplotlib.pyplot as plt\n",
    "\n",
    "%matplotlib inline"
   ]
  },
  {
   "cell_type": "code",
   "execution_count": 2,
   "id": "4ecbd6db",
   "metadata": {},
   "outputs": [],
   "source": [
    "df = pd.read_csv('/datasets/rest_data.csv')"
   ]
  },
  {
   "cell_type": "code",
   "execution_count": 3,
   "id": "93d80a89",
   "metadata": {},
   "outputs": [
    {
     "data": {
      "text/html": [
       "<div>\n",
       "<style scoped>\n",
       "    .dataframe tbody tr th:only-of-type {\n",
       "        vertical-align: middle;\n",
       "    }\n",
       "\n",
       "    .dataframe tbody tr th {\n",
       "        vertical-align: top;\n",
       "    }\n",
       "\n",
       "    .dataframe thead th {\n",
       "        text-align: right;\n",
       "    }\n",
       "</style>\n",
       "<table border=\"1\" class=\"dataframe\">\n",
       "  <thead>\n",
       "    <tr style=\"text-align: right;\">\n",
       "      <th></th>\n",
       "      <th>id</th>\n",
       "      <th>object_name</th>\n",
       "      <th>chain</th>\n",
       "      <th>object_type</th>\n",
       "      <th>address</th>\n",
       "      <th>number</th>\n",
       "    </tr>\n",
       "  </thead>\n",
       "  <tbody>\n",
       "    <tr>\n",
       "      <th>0</th>\n",
       "      <td>151635</td>\n",
       "      <td>СМЕТАНА</td>\n",
       "      <td>нет</td>\n",
       "      <td>кафе</td>\n",
       "      <td>город Москва, улица Егора Абакумова, дом 9</td>\n",
       "      <td>48</td>\n",
       "    </tr>\n",
       "    <tr>\n",
       "      <th>1</th>\n",
       "      <td>77874</td>\n",
       "      <td>Родник</td>\n",
       "      <td>нет</td>\n",
       "      <td>кафе</td>\n",
       "      <td>город Москва, улица Талалихина, дом 2/1, корпус 1</td>\n",
       "      <td>35</td>\n",
       "    </tr>\n",
       "    <tr>\n",
       "      <th>2</th>\n",
       "      <td>24309</td>\n",
       "      <td>Кафе «Академия»</td>\n",
       "      <td>нет</td>\n",
       "      <td>кафе</td>\n",
       "      <td>город Москва, Абельмановская улица, дом 6</td>\n",
       "      <td>95</td>\n",
       "    </tr>\n",
       "    <tr>\n",
       "      <th>3</th>\n",
       "      <td>21894</td>\n",
       "      <td>ПИЦЦЕТОРИЯ</td>\n",
       "      <td>да</td>\n",
       "      <td>кафе</td>\n",
       "      <td>город Москва, Абрамцевская улица, дом 1</td>\n",
       "      <td>40</td>\n",
       "    </tr>\n",
       "    <tr>\n",
       "      <th>4</th>\n",
       "      <td>119365</td>\n",
       "      <td>Кафе «Вишневая метель»</td>\n",
       "      <td>нет</td>\n",
       "      <td>кафе</td>\n",
       "      <td>город Москва, Абрамцевская улица, дом 9, корпус 1</td>\n",
       "      <td>50</td>\n",
       "    </tr>\n",
       "  </tbody>\n",
       "</table>\n",
       "</div>"
      ],
      "text/plain": [
       "       id             object_name chain object_type  \\\n",
       "0  151635                 СМЕТАНА   нет        кафе   \n",
       "1   77874                  Родник   нет        кафе   \n",
       "2   24309         Кафе «Академия»   нет        кафе   \n",
       "3   21894              ПИЦЦЕТОРИЯ    да        кафе   \n",
       "4  119365  Кафе «Вишневая метель»   нет        кафе   \n",
       "\n",
       "                                             address  number  \n",
       "0         город Москва, улица Егора Абакумова, дом 9      48  \n",
       "1  город Москва, улица Талалихина, дом 2/1, корпус 1      35  \n",
       "2          город Москва, Абельмановская улица, дом 6      95  \n",
       "3            город Москва, Абрамцевская улица, дом 1      40  \n",
       "4  город Москва, Абрамцевская улица, дом 9, корпус 1      50  "
      ]
     },
     "execution_count": 3,
     "metadata": {},
     "output_type": "execute_result"
    }
   ],
   "source": [
    "df.head()"
   ]
  },
  {
   "cell_type": "markdown",
   "id": "1041b817",
   "metadata": {},
   "source": [
    "### Описание данных\n",
    "Таблица rest_data:\n",
    "- `id` — идентификатор объекта;\n",
    "\n",
    "- `object_name` — название объекта общественного питания;\n",
    "- `chain` — сетевой ресторан;\n",
    "- `object_type` — тип объекта общественного питания;\n",
    "- `address` — адрес;\n",
    "- `number` — количество посадочных мест."
   ]
  },
  {
   "cell_type": "code",
   "execution_count": 4,
   "id": "fb7bb441",
   "metadata": {},
   "outputs": [
    {
     "name": "stdout",
     "output_type": "stream",
     "text": [
      "<class 'pandas.core.frame.DataFrame'>\n",
      "RangeIndex: 15366 entries, 0 to 15365\n",
      "Data columns (total 6 columns):\n",
      " #   Column       Non-Null Count  Dtype \n",
      "---  ------       --------------  ----- \n",
      " 0   id           15366 non-null  int64 \n",
      " 1   object_name  15366 non-null  object\n",
      " 2   chain        15366 non-null  object\n",
      " 3   object_type  15366 non-null  object\n",
      " 4   address      15366 non-null  object\n",
      " 5   number       15366 non-null  int64 \n",
      "dtypes: int64(2), object(4)\n",
      "memory usage: 720.4+ KB\n",
      "\n",
      "Колонок: 6\n",
      "Cтрок: 15366\n",
      "Количество пропусков: 0\n",
      "Количество дубликатов: 0\n"
     ]
    }
   ],
   "source": [
    "df.info()\n",
    "\n",
    "print()\n",
    "print(f'Колонок: {df.shape[1]}\\nCтрок: {df.shape[0]}')\n",
    "print('Количество пропусков:', df.isna().sum().sum())\n",
    "print('Количество дубликатов:', df.duplicated().sum())"
   ]
  },
  {
   "cell_type": "markdown",
   "id": "bee4e665",
   "metadata": {},
   "source": [
    "Мы не обнаружили полных дубликатов, но есть неявные дубликаты, где отличаются только id и количество посадочных мест. Например:"
   ]
  },
  {
   "cell_type": "code",
   "execution_count": 5,
   "id": "3fc8c392",
   "metadata": {},
   "outputs": [
    {
     "data": {
      "text/html": [
       "<div>\n",
       "<style scoped>\n",
       "    .dataframe tbody tr th:only-of-type {\n",
       "        vertical-align: middle;\n",
       "    }\n",
       "\n",
       "    .dataframe tbody tr th {\n",
       "        vertical-align: top;\n",
       "    }\n",
       "\n",
       "    .dataframe thead th {\n",
       "        text-align: right;\n",
       "    }\n",
       "</style>\n",
       "<table border=\"1\" class=\"dataframe\">\n",
       "  <thead>\n",
       "    <tr style=\"text-align: right;\">\n",
       "      <th></th>\n",
       "      <th>id</th>\n",
       "      <th>object_name</th>\n",
       "      <th>chain</th>\n",
       "      <th>object_type</th>\n",
       "      <th>address</th>\n",
       "      <th>number</th>\n",
       "    </tr>\n",
       "  </thead>\n",
       "  <tbody>\n",
       "    <tr>\n",
       "      <th>15362</th>\n",
       "      <td>209264</td>\n",
       "      <td>Шоколадница</td>\n",
       "      <td>да</td>\n",
       "      <td>кафе</td>\n",
       "      <td>город Москва, улица Земляной Вал, дом 33</td>\n",
       "      <td>10</td>\n",
       "    </tr>\n",
       "    <tr>\n",
       "      <th>15363</th>\n",
       "      <td>209186</td>\n",
       "      <td>Шоколадница</td>\n",
       "      <td>да</td>\n",
       "      <td>кафе</td>\n",
       "      <td>город Москва, улица Земляной Вал, дом 33</td>\n",
       "      <td>20</td>\n",
       "    </tr>\n",
       "  </tbody>\n",
       "</table>\n",
       "</div>"
      ],
      "text/plain": [
       "           id  object_name chain object_type  \\\n",
       "15362  209264  Шоколадница    да        кафе   \n",
       "15363  209186  Шоколадница    да        кафе   \n",
       "\n",
       "                                        address  number  \n",
       "15362  город Москва, улица Земляной Вал, дом 33      10  \n",
       "15363  город Москва, улица Земляной Вал, дом 33      20  "
      ]
     },
     "execution_count": 5,
     "metadata": {},
     "output_type": "execute_result"
    }
   ],
   "source": [
    "df.loc[15362:15363,:]"
   ]
  },
  {
   "cell_type": "markdown",
   "id": "d1ce8e74",
   "metadata": {},
   "source": [
    "Проверим сколько таких"
   ]
  },
  {
   "cell_type": "code",
   "execution_count": 6,
   "id": "78bc89c2",
   "metadata": {},
   "outputs": [
    {
     "data": {
      "text/plain": [
       "170"
      ]
     },
     "execution_count": 6,
     "metadata": {},
     "output_type": "execute_result"
    }
   ],
   "source": [
    "df.duplicated(subset=['object_name','chain','object_type','address']).sum()"
   ]
  },
  {
   "cell_type": "markdown",
   "id": "c880ada7",
   "metadata": {},
   "source": [
    "Возможно количество посадочных мест отличается в зависимости от сезона, например летом появляется открытая веранда. Дубликаты можно удалить:\n",
    "```python\n",
    "df = df.drop_duplicates(subset=['object_name','chain','object_type','address'], keep='first')\n",
    "```\n",
    "Но преподаватель @Максим Захаров сказал что с ними ничего делать не надо"
   ]
  },
  {
   "cell_type": "markdown",
   "id": "1607fe9f",
   "metadata": {},
   "source": [
    "Заменим названия типов заведений для лучшей читаемости"
   ]
  },
  {
   "cell_type": "code",
   "execution_count": 7,
   "id": "183ef3fa",
   "metadata": {},
   "outputs": [
    {
     "data": {
      "text/plain": [
       "array(['кафе', 'столовая', 'закусочная',\n",
       "       'предприятие быстрого обслуживания', 'ресторан', 'кафетерий',\n",
       "       'буфет', 'бар', 'магазин (отдел кулинарии)'], dtype=object)"
      ]
     },
     "execution_count": 7,
     "metadata": {},
     "output_type": "execute_result"
    }
   ],
   "source": [
    "df['object_type'].unique()"
   ]
  },
  {
   "cell_type": "code",
   "execution_count": 8,
   "id": "43f9f59b",
   "metadata": {},
   "outputs": [],
   "source": [
    "df['object_type'] = df['object_type'].replace({'предприятие быстрого обслуживания':'фастфуд',\n",
    "                                               'магазин (отдел кулинарии)':'кулинария'})"
   ]
  },
  {
   "cell_type": "code",
   "execution_count": 9,
   "id": "a78b7fe1",
   "metadata": {},
   "outputs": [],
   "source": [
    "df['object_name'] = df['object_name'].str.lower()"
   ]
  },
  {
   "cell_type": "code",
   "execution_count": 10,
   "id": "04d32f5b",
   "metadata": {},
   "outputs": [
    {
     "data": {
      "text/html": [
       "<div>\n",
       "<style scoped>\n",
       "    .dataframe tbody tr th:only-of-type {\n",
       "        vertical-align: middle;\n",
       "    }\n",
       "\n",
       "    .dataframe tbody tr th {\n",
       "        vertical-align: top;\n",
       "    }\n",
       "\n",
       "    .dataframe thead th {\n",
       "        text-align: right;\n",
       "    }\n",
       "</style>\n",
       "<table border=\"1\" class=\"dataframe\">\n",
       "  <thead>\n",
       "    <tr style=\"text-align: right;\">\n",
       "      <th></th>\n",
       "      <th>id</th>\n",
       "      <th>object_name</th>\n",
       "      <th>chain</th>\n",
       "      <th>object_type</th>\n",
       "      <th>address</th>\n",
       "      <th>number</th>\n",
       "    </tr>\n",
       "  </thead>\n",
       "  <tbody>\n",
       "    <tr>\n",
       "      <th>0</th>\n",
       "      <td>151635</td>\n",
       "      <td>сметана</td>\n",
       "      <td>нет</td>\n",
       "      <td>кафе</td>\n",
       "      <td>город Москва, улица Егора Абакумова, дом 9</td>\n",
       "      <td>48</td>\n",
       "    </tr>\n",
       "    <tr>\n",
       "      <th>1</th>\n",
       "      <td>77874</td>\n",
       "      <td>родник</td>\n",
       "      <td>нет</td>\n",
       "      <td>кафе</td>\n",
       "      <td>город Москва, улица Талалихина, дом 2/1, корпус 1</td>\n",
       "      <td>35</td>\n",
       "    </tr>\n",
       "    <tr>\n",
       "      <th>2</th>\n",
       "      <td>24309</td>\n",
       "      <td>кафе «академия»</td>\n",
       "      <td>нет</td>\n",
       "      <td>кафе</td>\n",
       "      <td>город Москва, Абельмановская улица, дом 6</td>\n",
       "      <td>95</td>\n",
       "    </tr>\n",
       "    <tr>\n",
       "      <th>3</th>\n",
       "      <td>21894</td>\n",
       "      <td>пиццетория</td>\n",
       "      <td>да</td>\n",
       "      <td>кафе</td>\n",
       "      <td>город Москва, Абрамцевская улица, дом 1</td>\n",
       "      <td>40</td>\n",
       "    </tr>\n",
       "    <tr>\n",
       "      <th>4</th>\n",
       "      <td>119365</td>\n",
       "      <td>кафе «вишневая метель»</td>\n",
       "      <td>нет</td>\n",
       "      <td>кафе</td>\n",
       "      <td>город Москва, Абрамцевская улица, дом 9, корпус 1</td>\n",
       "      <td>50</td>\n",
       "    </tr>\n",
       "    <tr>\n",
       "      <th>...</th>\n",
       "      <td>...</td>\n",
       "      <td>...</td>\n",
       "      <td>...</td>\n",
       "      <td>...</td>\n",
       "      <td>...</td>\n",
       "      <td>...</td>\n",
       "    </tr>\n",
       "    <tr>\n",
       "      <th>15361</th>\n",
       "      <td>208537</td>\n",
       "      <td>шоколадница</td>\n",
       "      <td>да</td>\n",
       "      <td>кафе</td>\n",
       "      <td>город Москва, 3-й Крутицкий переулок, дом 18</td>\n",
       "      <td>50</td>\n",
       "    </tr>\n",
       "    <tr>\n",
       "      <th>15362</th>\n",
       "      <td>209264</td>\n",
       "      <td>шоколадница</td>\n",
       "      <td>да</td>\n",
       "      <td>кафе</td>\n",
       "      <td>город Москва, улица Земляной Вал, дом 33</td>\n",
       "      <td>10</td>\n",
       "    </tr>\n",
       "    <tr>\n",
       "      <th>15363</th>\n",
       "      <td>209186</td>\n",
       "      <td>шоколадница</td>\n",
       "      <td>да</td>\n",
       "      <td>кафе</td>\n",
       "      <td>город Москва, улица Земляной Вал, дом 33</td>\n",
       "      <td>20</td>\n",
       "    </tr>\n",
       "    <tr>\n",
       "      <th>15364</th>\n",
       "      <td>221900</td>\n",
       "      <td>шоколадница</td>\n",
       "      <td>да</td>\n",
       "      <td>кафе</td>\n",
       "      <td>город Москва, поселение Московский, Киевское ш...</td>\n",
       "      <td>36</td>\n",
       "    </tr>\n",
       "    <tr>\n",
       "      <th>15365</th>\n",
       "      <td>222535</td>\n",
       "      <td>шоколадница</td>\n",
       "      <td>да</td>\n",
       "      <td>кафе</td>\n",
       "      <td>город Москва, Ходынский бульвар, дом 4</td>\n",
       "      <td>10</td>\n",
       "    </tr>\n",
       "  </tbody>\n",
       "</table>\n",
       "<p>15366 rows × 6 columns</p>\n",
       "</div>"
      ],
      "text/plain": [
       "           id             object_name chain object_type  \\\n",
       "0      151635                 сметана   нет        кафе   \n",
       "1       77874                  родник   нет        кафе   \n",
       "2       24309         кафе «академия»   нет        кафе   \n",
       "3       21894              пиццетория    да        кафе   \n",
       "4      119365  кафе «вишневая метель»   нет        кафе   \n",
       "...       ...                     ...   ...         ...   \n",
       "15361  208537             шоколадница    да        кафе   \n",
       "15362  209264             шоколадница    да        кафе   \n",
       "15363  209186             шоколадница    да        кафе   \n",
       "15364  221900             шоколадница    да        кафе   \n",
       "15365  222535             шоколадница    да        кафе   \n",
       "\n",
       "                                                 address  number  \n",
       "0             город Москва, улица Егора Абакумова, дом 9      48  \n",
       "1      город Москва, улица Талалихина, дом 2/1, корпус 1      35  \n",
       "2              город Москва, Абельмановская улица, дом 6      95  \n",
       "3                город Москва, Абрамцевская улица, дом 1      40  \n",
       "4      город Москва, Абрамцевская улица, дом 9, корпус 1      50  \n",
       "...                                                  ...     ...  \n",
       "15361       город Москва, 3-й Крутицкий переулок, дом 18      50  \n",
       "15362           город Москва, улица Земляной Вал, дом 33      10  \n",
       "15363           город Москва, улица Земляной Вал, дом 33      20  \n",
       "15364  город Москва, поселение Московский, Киевское ш...      36  \n",
       "15365             город Москва, Ходынский бульвар, дом 4      10  \n",
       "\n",
       "[15366 rows x 6 columns]"
      ]
     },
     "execution_count": 10,
     "metadata": {},
     "output_type": "execute_result"
    }
   ],
   "source": [
    "df"
   ]
  },
  {
   "cell_type": "code",
   "execution_count": 11,
   "id": "ddcf9890",
   "metadata": {},
   "outputs": [
    {
     "data": {
      "text/plain": [
       "0"
      ]
     },
     "execution_count": 11,
     "metadata": {},
     "output_type": "execute_result"
    }
   ],
   "source": [
    "df['id'].duplicated().sum()"
   ]
  },
  {
   "cell_type": "markdown",
   "id": "daf4e93e",
   "metadata": {},
   "source": [
    "##### Вывод\n",
    "\n",
    "Загрузили данные, пропусков и дубликатов нет. Есть неявные дубликаты, с ними ничего не делали. Заменили названия заведений на более короткие. Представленная информация позволит нам провести анализ и сделать выводы."
   ]
  },
  {
   "cell_type": "markdown",
   "id": "1382e68a",
   "metadata": {},
   "source": [
    "## Шаг №2. Анализ данных"
   ]
  },
  {
   "cell_type": "markdown",
   "id": "69e69a92",
   "metadata": {},
   "source": [
    "### Cоотношение видов объектов общественного питания по количеству."
   ]
  },
  {
   "cell_type": "code",
   "execution_count": 12,
   "id": "5bb5b0b6",
   "metadata": {},
   "outputs": [
    {
     "name": "stdout",
     "output_type": "stream",
     "text": [
      "Всего объектов общественного питания: 15366\n",
      "Видов объектов общественного питания: 9\n"
     ]
    },
    {
     "data": {
      "text/html": [
       "<div>\n",
       "<style scoped>\n",
       "    .dataframe tbody tr th:only-of-type {\n",
       "        vertical-align: middle;\n",
       "    }\n",
       "\n",
       "    .dataframe tbody tr th {\n",
       "        vertical-align: top;\n",
       "    }\n",
       "\n",
       "    .dataframe thead th {\n",
       "        text-align: right;\n",
       "    }\n",
       "</style>\n",
       "<table border=\"1\" class=\"dataframe\">\n",
       "  <thead>\n",
       "    <tr style=\"text-align: right;\">\n",
       "      <th></th>\n",
       "      <th>object_type</th>\n",
       "      <th>count</th>\n",
       "    </tr>\n",
       "  </thead>\n",
       "  <tbody>\n",
       "    <tr>\n",
       "      <th>0</th>\n",
       "      <td>кафе</td>\n",
       "      <td>6099</td>\n",
       "    </tr>\n",
       "    <tr>\n",
       "      <th>1</th>\n",
       "      <td>столовая</td>\n",
       "      <td>2587</td>\n",
       "    </tr>\n",
       "    <tr>\n",
       "      <th>2</th>\n",
       "      <td>ресторан</td>\n",
       "      <td>2285</td>\n",
       "    </tr>\n",
       "    <tr>\n",
       "      <th>3</th>\n",
       "      <td>фастфуд</td>\n",
       "      <td>1923</td>\n",
       "    </tr>\n",
       "    <tr>\n",
       "      <th>4</th>\n",
       "      <td>бар</td>\n",
       "      <td>856</td>\n",
       "    </tr>\n",
       "    <tr>\n",
       "      <th>5</th>\n",
       "      <td>буфет</td>\n",
       "      <td>585</td>\n",
       "    </tr>\n",
       "    <tr>\n",
       "      <th>6</th>\n",
       "      <td>кафетерий</td>\n",
       "      <td>398</td>\n",
       "    </tr>\n",
       "    <tr>\n",
       "      <th>7</th>\n",
       "      <td>закусочная</td>\n",
       "      <td>360</td>\n",
       "    </tr>\n",
       "    <tr>\n",
       "      <th>8</th>\n",
       "      <td>кулинария</td>\n",
       "      <td>273</td>\n",
       "    </tr>\n",
       "  </tbody>\n",
       "</table>\n",
       "</div>"
      ],
      "text/plain": [
       "  object_type  count\n",
       "0        кафе   6099\n",
       "1    столовая   2587\n",
       "2    ресторан   2285\n",
       "3     фастфуд   1923\n",
       "4         бар    856\n",
       "5       буфет    585\n",
       "6   кафетерий    398\n",
       "7  закусочная    360\n",
       "8   кулинария    273"
      ]
     },
     "execution_count": 12,
     "metadata": {},
     "output_type": "execute_result"
    }
   ],
   "source": [
    "print('Всего объектов общественного питания:', df['object_type'].count())\n",
    "print('Видов объектов общественного питания:', df['object_type'].nunique())\n",
    "\n",
    "rest_type = df['object_type'].value_counts().reset_index()\n",
    "\n",
    "rest_type.columns = ['object_type', 'count']\n",
    "rest_type"
   ]
  },
  {
   "cell_type": "code",
   "execution_count": 13,
   "id": "77c94aef",
   "metadata": {
    "scrolled": false
   },
   "outputs": [
    {
     "data": {
      "image/png": "[encoded data removed]",
      "text/plain": [
       "<Figure size 864x576 with 1 Axes>"
      ]
     },
     "metadata": {
      "needs_background": "light"
     },
     "output_type": "display_data"
    }
   ],
   "source": [
    "plt.figure(figsize=(12,8))\n",
    "\n",
    "ax = sns.barplot(data=rest_type, y='count', x='object_type',palette='Greens')\n",
    "\n",
    "ax.set_title('Виды объектов общественного питания по количеству', fontsize=20)\n",
    "ax.set_ylabel('Количество\\n', fontsize=15)\n",
    "ax.set_xlabel('\\nВид заведения', fontsize=15)\n",
    "\n",
    "\n",
    "ax.set_xticklabels(rest_type['object_type'])\n",
    "sns.despine()"
   ]
  },
  {
   "cell_type": "code",
   "execution_count": 14,
   "id": "008dd9f0",
   "metadata": {
    "scrolled": false
   },
   "outputs": [
    {
     "data": {
      "image/png": "[encoded data removed]",
      "text/plain": [
       "<Figure size 864x576 with 1 Axes>"
      ]
     },
     "metadata": {},
     "output_type": "display_data"
    }
   ],
   "source": [
    "labels = rest_type.loc[:,'object_type'].values\n",
    "data = rest_type.loc[:,'count'].values\n",
    "\n",
    "colors = sns.color_palette('pastel')\n",
    "plt.figure(figsize=(12,8))\n",
    "\n",
    "plt.pie(data, labels = labels, colors = colors, autopct='%.1f%%')\n",
    "plt.title('Соотношение объектов общественного питания по количеству', fontsize=20)\n",
    "\n",
    "plt.show()"
   ]
  },
  {
   "cell_type": "markdown",
   "id": "6dcce116",
   "metadata": {},
   "source": [
    "### Вывод\n",
    "Всего в таблице 15366 заведений общепита 9 видов. На первом месте кафе 6099(39,7%), затем идут столовая 2587(16,8%), ресторан 2285(14,9%), фастфуд 1923(12,5%). Остальных типов заведений менее 1000 на каждый."
   ]
  },
  {
   "cell_type": "markdown",
   "id": "a5210d19",
   "metadata": {},
   "source": [
    "<div class=\"alert alert-success\">\n",
    "<b>✔️ Комментарий ревьюера</b>\n",
    "\n",
    "Хорошо. \n",
    "</div>"
   ]
  },
  {
   "cell_type": "markdown",
   "id": "3c04bc8c",
   "metadata": {},
   "source": [
    "### Cоотношение сетевых и несетевых заведений."
   ]
  },
  {
   "cell_type": "code",
   "execution_count": 15,
   "id": "c13b4e07",
   "metadata": {},
   "outputs": [],
   "source": [
    "# таблица сетевых и не сетевых заведений\n",
    "df_chain = pd.pivot_table(df, values='id', index=['object_type'], columns=['chain'], aggfunc='count')\n",
    "df_chain.columns=['chain','not_chain']"
   ]
  },
  {
   "cell_type": "code",
   "execution_count": 16,
   "id": "6da209db",
   "metadata": {
    "scrolled": true
   },
   "outputs": [],
   "source": [
    "df_chain['chain, %'] = (df_chain['chain']/(df_chain['chain']+df_chain['not_chain'])*100).round(2)\n",
    "df_chain['not_chain, %'] = (df_chain['not_chain']/(df_chain['chain']+df_chain['not_chain'])*100).round(2)\n",
    "df_chain['total'] = df_chain['chain'] + df_chain['not_chain']"
   ]
  },
  {
   "cell_type": "code",
   "execution_count": 17,
   "id": "96551142",
   "metadata": {},
   "outputs": [
    {
     "data": {
      "text/html": [
       "<div>\n",
       "<style scoped>\n",
       "    .dataframe tbody tr th:only-of-type {\n",
       "        vertical-align: middle;\n",
       "    }\n",
       "\n",
       "    .dataframe tbody tr th {\n",
       "        vertical-align: top;\n",
       "    }\n",
       "\n",
       "    .dataframe thead th {\n",
       "        text-align: right;\n",
       "    }\n",
       "</style>\n",
       "<table border=\"1\" class=\"dataframe\">\n",
       "  <thead>\n",
       "    <tr style=\"text-align: right;\">\n",
       "      <th></th>\n",
       "      <th>chain</th>\n",
       "      <th>not_chain</th>\n",
       "      <th>chain, %</th>\n",
       "      <th>not_chain, %</th>\n",
       "      <th>total</th>\n",
       "    </tr>\n",
       "    <tr>\n",
       "      <th>object_type</th>\n",
       "      <th></th>\n",
       "      <th></th>\n",
       "      <th></th>\n",
       "      <th></th>\n",
       "      <th></th>\n",
       "    </tr>\n",
       "  </thead>\n",
       "  <tbody>\n",
       "    <tr>\n",
       "      <th>кафе</th>\n",
       "      <td>1396</td>\n",
       "      <td>4703</td>\n",
       "      <td>22.89</td>\n",
       "      <td>77.11</td>\n",
       "      <td>6099</td>\n",
       "    </tr>\n",
       "    <tr>\n",
       "      <th>столовая</th>\n",
       "      <td>3</td>\n",
       "      <td>2584</td>\n",
       "      <td>0.12</td>\n",
       "      <td>99.88</td>\n",
       "      <td>2587</td>\n",
       "    </tr>\n",
       "    <tr>\n",
       "      <th>ресторан</th>\n",
       "      <td>544</td>\n",
       "      <td>1741</td>\n",
       "      <td>23.81</td>\n",
       "      <td>76.19</td>\n",
       "      <td>2285</td>\n",
       "    </tr>\n",
       "    <tr>\n",
       "      <th>фастфуд</th>\n",
       "      <td>791</td>\n",
       "      <td>1132</td>\n",
       "      <td>41.13</td>\n",
       "      <td>58.87</td>\n",
       "      <td>1923</td>\n",
       "    </tr>\n",
       "    <tr>\n",
       "      <th>бар</th>\n",
       "      <td>37</td>\n",
       "      <td>819</td>\n",
       "      <td>4.32</td>\n",
       "      <td>95.68</td>\n",
       "      <td>856</td>\n",
       "    </tr>\n",
       "    <tr>\n",
       "      <th>буфет</th>\n",
       "      <td>11</td>\n",
       "      <td>574</td>\n",
       "      <td>1.88</td>\n",
       "      <td>98.12</td>\n",
       "      <td>585</td>\n",
       "    </tr>\n",
       "    <tr>\n",
       "      <th>кафетерий</th>\n",
       "      <td>52</td>\n",
       "      <td>346</td>\n",
       "      <td>13.07</td>\n",
       "      <td>86.93</td>\n",
       "      <td>398</td>\n",
       "    </tr>\n",
       "    <tr>\n",
       "      <th>закусочная</th>\n",
       "      <td>56</td>\n",
       "      <td>304</td>\n",
       "      <td>15.56</td>\n",
       "      <td>84.44</td>\n",
       "      <td>360</td>\n",
       "    </tr>\n",
       "    <tr>\n",
       "      <th>кулинария</th>\n",
       "      <td>78</td>\n",
       "      <td>195</td>\n",
       "      <td>28.57</td>\n",
       "      <td>71.43</td>\n",
       "      <td>273</td>\n",
       "    </tr>\n",
       "  </tbody>\n",
       "</table>\n",
       "</div>"
      ],
      "text/plain": [
       "             chain  not_chain  chain, %  not_chain, %  total\n",
       "object_type                                                 \n",
       "кафе          1396       4703     22.89         77.11   6099\n",
       "столовая         3       2584      0.12         99.88   2587\n",
       "ресторан       544       1741     23.81         76.19   2285\n",
       "фастфуд        791       1132     41.13         58.87   1923\n",
       "бар             37        819      4.32         95.68    856\n",
       "буфет           11        574      1.88         98.12    585\n",
       "кафетерий       52        346     13.07         86.93    398\n",
       "закусочная      56        304     15.56         84.44    360\n",
       "кулинария       78        195     28.57         71.43    273"
      ]
     },
     "execution_count": 17,
     "metadata": {},
     "output_type": "execute_result"
    }
   ],
   "source": [
    "df_chain.sort_values('not_chain',ascending=False,inplace=True)\n",
    "df_chain"
   ]
  },
  {
   "cell_type": "code",
   "execution_count": 18,
   "id": "e72fe7d1",
   "metadata": {},
   "outputs": [
    {
     "name": "stdout",
     "output_type": "stream",
     "text": [
      "Количество сетевых заведений: 2968, 19.32%\n",
      "Количество несетевых заведений: 12398, 80.68%\n"
     ]
    }
   ],
   "source": [
    "# Соотношение сетевых и несетевых заведений всего\n",
    "print('Количество сетевых заведений: {}, {:.2%}'.\n",
    "      format(df_chain['chain'].sum(),\n",
    "             df_chain['chain'].sum()/rest_type['count'].sum()))\n",
    "print('Количество несетевых заведений: {}, {:.2%}'.\n",
    "      format(df_chain['not_chain'].sum(),\n",
    "             df_chain['not_chain'].sum()/rest_type['count'].sum()))"
   ]
  },
  {
   "cell_type": "markdown",
   "id": "ca2870a7",
   "metadata": {},
   "source": [
    "<div class=\"alert alert-success\">\n",
    "<b>✔️ Комментарий ревьюера</b>\n",
    "\n",
    "Вижу. \n",
    "</div>"
   ]
  },
  {
   "cell_type": "code",
   "execution_count": 19,
   "id": "7b0319e5",
   "metadata": {},
   "outputs": [
    {
     "data": {
      "image/png": "[encoded data removed]",
      "text/plain": [
       "<Figure size 864x576 with 1 Axes>"
      ]
     },
     "metadata": {},
     "output_type": "display_data"
    }
   ],
   "source": [
    "labels = 'Сетевые','Несетевые'\n",
    "data = [df_chain['chain'].sum(), df_chain['not_chain'].sum()]\n",
    "\n",
    "colors = sns.color_palette('Greens')\n",
    "plt.figure(figsize=(12,8))\n",
    "\n",
    "plt.pie(data, labels = labels, colors = colors, autopct='%.1f%%')\n",
    "plt.title('Соотношение сетевых и несетевых заведений', fontsize=20)\n",
    "\n",
    "plt.show()"
   ]
  },
  {
   "cell_type": "code",
   "execution_count": 20,
   "id": "00bb5011",
   "metadata": {},
   "outputs": [
    {
     "data": {
      "image/png": "[encoded data removed]",
      "text/plain": [
       "<Figure size 864x576 with 1 Axes>"
      ]
     },
     "metadata": {
      "needs_background": "light"
     },
     "output_type": "display_data"
    }
   ],
   "source": [
    "ax = df_chain[['chain','not_chain']].plot(kind='bar',figsize=(12,8),rot=0,grid=True)\n",
    "\n",
    "ax.set_title('Количество сетевых и несетевых заведений\\n', fontsize=20)\n",
    "ax.set_xlabel('Тип заведения', fontsize=15)\n",
    "ax.set_ylabel('Количество заведений', fontsize=15)\n",
    "ax.legend(['сетевые', 'несетевые'], fontsize=15)\n",
    "\n",
    "sns.despine()"
   ]
  },
  {
   "cell_type": "markdown",
   "id": "105f4a11",
   "metadata": {},
   "source": [
    "### Для какого вида объекта общественного питания характерно сетевое распространение"
   ]
  },
  {
   "cell_type": "code",
   "execution_count": 21,
   "id": "04a83009",
   "metadata": {},
   "outputs": [
    {
     "data": {
      "text/html": [
       "<div>\n",
       "<style scoped>\n",
       "    .dataframe tbody tr th:only-of-type {\n",
       "        vertical-align: middle;\n",
       "    }\n",
       "\n",
       "    .dataframe tbody tr th {\n",
       "        vertical-align: top;\n",
       "    }\n",
       "\n",
       "    .dataframe thead th {\n",
       "        text-align: right;\n",
       "    }\n",
       "</style>\n",
       "<table border=\"1\" class=\"dataframe\">\n",
       "  <thead>\n",
       "    <tr style=\"text-align: right;\">\n",
       "      <th></th>\n",
       "      <th>chain</th>\n",
       "      <th>not_chain</th>\n",
       "      <th>chain, %</th>\n",
       "      <th>not_chain, %</th>\n",
       "      <th>total</th>\n",
       "    </tr>\n",
       "    <tr>\n",
       "      <th>object_type</th>\n",
       "      <th></th>\n",
       "      <th></th>\n",
       "      <th></th>\n",
       "      <th></th>\n",
       "      <th></th>\n",
       "    </tr>\n",
       "  </thead>\n",
       "  <tbody>\n",
       "    <tr>\n",
       "      <th>фастфуд</th>\n",
       "      <td>791</td>\n",
       "      <td>1132</td>\n",
       "      <td>41.13</td>\n",
       "      <td>58.87</td>\n",
       "      <td>1923</td>\n",
       "    </tr>\n",
       "    <tr>\n",
       "      <th>кулинария</th>\n",
       "      <td>78</td>\n",
       "      <td>195</td>\n",
       "      <td>28.57</td>\n",
       "      <td>71.43</td>\n",
       "      <td>273</td>\n",
       "    </tr>\n",
       "    <tr>\n",
       "      <th>ресторан</th>\n",
       "      <td>544</td>\n",
       "      <td>1741</td>\n",
       "      <td>23.81</td>\n",
       "      <td>76.19</td>\n",
       "      <td>2285</td>\n",
       "    </tr>\n",
       "    <tr>\n",
       "      <th>кафе</th>\n",
       "      <td>1396</td>\n",
       "      <td>4703</td>\n",
       "      <td>22.89</td>\n",
       "      <td>77.11</td>\n",
       "      <td>6099</td>\n",
       "    </tr>\n",
       "    <tr>\n",
       "      <th>закусочная</th>\n",
       "      <td>56</td>\n",
       "      <td>304</td>\n",
       "      <td>15.56</td>\n",
       "      <td>84.44</td>\n",
       "      <td>360</td>\n",
       "    </tr>\n",
       "    <tr>\n",
       "      <th>кафетерий</th>\n",
       "      <td>52</td>\n",
       "      <td>346</td>\n",
       "      <td>13.07</td>\n",
       "      <td>86.93</td>\n",
       "      <td>398</td>\n",
       "    </tr>\n",
       "    <tr>\n",
       "      <th>бар</th>\n",
       "      <td>37</td>\n",
       "      <td>819</td>\n",
       "      <td>4.32</td>\n",
       "      <td>95.68</td>\n",
       "      <td>856</td>\n",
       "    </tr>\n",
       "    <tr>\n",
       "      <th>буфет</th>\n",
       "      <td>11</td>\n",
       "      <td>574</td>\n",
       "      <td>1.88</td>\n",
       "      <td>98.12</td>\n",
       "      <td>585</td>\n",
       "    </tr>\n",
       "    <tr>\n",
       "      <th>столовая</th>\n",
       "      <td>3</td>\n",
       "      <td>2584</td>\n",
       "      <td>0.12</td>\n",
       "      <td>99.88</td>\n",
       "      <td>2587</td>\n",
       "    </tr>\n",
       "  </tbody>\n",
       "</table>\n",
       "</div>"
      ],
      "text/plain": [
       "             chain  not_chain  chain, %  not_chain, %  total\n",
       "object_type                                                 \n",
       "фастфуд        791       1132     41.13         58.87   1923\n",
       "кулинария       78        195     28.57         71.43    273\n",
       "ресторан       544       1741     23.81         76.19   2285\n",
       "кафе          1396       4703     22.89         77.11   6099\n",
       "закусочная      56        304     15.56         84.44    360\n",
       "кафетерий       52        346     13.07         86.93    398\n",
       "бар             37        819      4.32         95.68    856\n",
       "буфет           11        574      1.88         98.12    585\n",
       "столовая         3       2584      0.12         99.88   2587"
      ]
     },
     "execution_count": 21,
     "metadata": {},
     "output_type": "execute_result"
    }
   ],
   "source": [
    "df_chain.sort_values('chain, %',ascending=False,inplace=True)\n",
    "df_chain"
   ]
  },
  {
   "cell_type": "code",
   "execution_count": 22,
   "id": "1676e93e",
   "metadata": {},
   "outputs": [
    {
     "data": {
      "image/png": "[encoded data removed]",
      "text/plain": [
       "<Figure size 864x576 with 1 Axes>"
      ]
     },
     "metadata": {
      "needs_background": "light"
     },
     "output_type": "display_data"
    }
   ],
   "source": [
    "ax = df_chain[['chain, %','not_chain, %']].plot(kind='bar',rot=0, figsize=(12, 8),grid=True)\n",
    "\n",
    "ax.set_title('Соотношение сетевых и несетевых заведений\\n', fontsize=20)\n",
    "ax.set_xlabel('Тип заведения', fontsize=15)\n",
    "ax.set_ylabel('% заведений', fontsize=15)\n",
    "ax.legend(['сетевые, %', 'несетевые, %'], fontsize=15)\n",
    "\n",
    "sns.despine()"
   ]
  },
  {
   "cell_type": "markdown",
   "id": "22980ea1",
   "metadata": {},
   "source": [
    "###### Вывод\n",
    "\n",
    "В среднем на сетевые заведения приходится 19.32%(2968), на несетевые - 80,68%(12398).\n",
    "\n",
    "Максимальное количество сетевых заведений приходится на кафе 1396 ед, минимальное на столовые - всего 3 единицы.\n",
    "\n",
    "Максимальная доля сетевых заведений среди фастфуда 41,13% и минимальное среди столовых 0,12%"
   ]
  },
  {
   "cell_type": "markdown",
   "id": "cc461d9e",
   "metadata": {},
   "source": [
    "### Что характерно для сетевых заведений: много заведений с небольшим числом посадочных мест в каждом или мало заведений с большим количеством посадочных мест?"
   ]
  },
  {
   "cell_type": "code",
   "execution_count": 23,
   "id": "4fe203fd",
   "metadata": {},
   "outputs": [
    {
     "name": "stdout",
     "output_type": "stream",
     "text": [
      "Медианное значение посадочных мест chain\n",
      "да     40\n",
      "нет    40\n",
      "Name: number, dtype: int64\n",
      "\n",
      "Среднее значение посадочных мест chain\n",
      "да     53.0\n",
      "нет    61.0\n",
      "Name: number, dtype: float64\n"
     ]
    }
   ],
   "source": [
    "print('Медианное значение посадочных мест',df.groupby(['chain'])['number'].median())\n",
    "print()\n",
    "print('Среднее значение посадочных мест',df.groupby(['chain'])['number'].mean().round())"
   ]
  },
  {
   "cell_type": "code",
   "execution_count": 24,
   "id": "4f645cad",
   "metadata": {
    "scrolled": true
   },
   "outputs": [
    {
     "data": {
      "text/html": [
       "<div>\n",
       "<style scoped>\n",
       "    .dataframe tbody tr th:only-of-type {\n",
       "        vertical-align: middle;\n",
       "    }\n",
       "\n",
       "    .dataframe tbody tr th {\n",
       "        vertical-align: top;\n",
       "    }\n",
       "\n",
       "    .dataframe thead th {\n",
       "        text-align: right;\n",
       "    }\n",
       "</style>\n",
       "<table border=\"1\" class=\"dataframe\">\n",
       "  <thead>\n",
       "    <tr style=\"text-align: right;\">\n",
       "      <th></th>\n",
       "      <th>chain_count</th>\n",
       "      <th>chain_median</th>\n",
       "      <th>chain_mean</th>\n",
       "      <th>not_chain_count</th>\n",
       "      <th>not_chain_median</th>\n",
       "      <th>not_chain_mean</th>\n",
       "    </tr>\n",
       "    <tr>\n",
       "      <th>object_type</th>\n",
       "      <th></th>\n",
       "      <th></th>\n",
       "      <th></th>\n",
       "      <th></th>\n",
       "      <th></th>\n",
       "      <th></th>\n",
       "    </tr>\n",
       "  </thead>\n",
       "  <tbody>\n",
       "    <tr>\n",
       "      <th>кафе</th>\n",
       "      <td>1396</td>\n",
       "      <td>40.0</td>\n",
       "      <td>47.0</td>\n",
       "      <td>4703</td>\n",
       "      <td>30</td>\n",
       "      <td>37.0</td>\n",
       "    </tr>\n",
       "    <tr>\n",
       "      <th>фастфуд</th>\n",
       "      <td>791</td>\n",
       "      <td>25.0</td>\n",
       "      <td>40.0</td>\n",
       "      <td>1132</td>\n",
       "      <td>0</td>\n",
       "      <td>7.0</td>\n",
       "    </tr>\n",
       "    <tr>\n",
       "      <th>ресторан</th>\n",
       "      <td>544</td>\n",
       "      <td>88.0</td>\n",
       "      <td>100.0</td>\n",
       "      <td>1741</td>\n",
       "      <td>75</td>\n",
       "      <td>96.0</td>\n",
       "    </tr>\n",
       "    <tr>\n",
       "      <th>кулинария</th>\n",
       "      <td>78</td>\n",
       "      <td>4.0</td>\n",
       "      <td>9.0</td>\n",
       "      <td>195</td>\n",
       "      <td>0</td>\n",
       "      <td>4.0</td>\n",
       "    </tr>\n",
       "    <tr>\n",
       "      <th>закусочная</th>\n",
       "      <td>56</td>\n",
       "      <td>8.0</td>\n",
       "      <td>14.0</td>\n",
       "      <td>304</td>\n",
       "      <td>0</td>\n",
       "      <td>6.0</td>\n",
       "    </tr>\n",
       "    <tr>\n",
       "      <th>кафетерий</th>\n",
       "      <td>52</td>\n",
       "      <td>8.0</td>\n",
       "      <td>12.0</td>\n",
       "      <td>346</td>\n",
       "      <td>6</td>\n",
       "      <td>9.0</td>\n",
       "    </tr>\n",
       "    <tr>\n",
       "      <th>бар</th>\n",
       "      <td>37</td>\n",
       "      <td>45.0</td>\n",
       "      <td>53.0</td>\n",
       "      <td>819</td>\n",
       "      <td>34</td>\n",
       "      <td>43.0</td>\n",
       "    </tr>\n",
       "    <tr>\n",
       "      <th>буфет</th>\n",
       "      <td>11</td>\n",
       "      <td>0.0</td>\n",
       "      <td>13.0</td>\n",
       "      <td>574</td>\n",
       "      <td>32</td>\n",
       "      <td>52.0</td>\n",
       "    </tr>\n",
       "    <tr>\n",
       "      <th>столовая</th>\n",
       "      <td>3</td>\n",
       "      <td>120.0</td>\n",
       "      <td>112.0</td>\n",
       "      <td>2584</td>\n",
       "      <td>103</td>\n",
       "      <td>130.0</td>\n",
       "    </tr>\n",
       "  </tbody>\n",
       "</table>\n",
       "</div>"
      ],
      "text/plain": [
       "             chain_count  chain_median  chain_mean  not_chain_count  \\\n",
       "object_type                                                           \n",
       "кафе                1396          40.0        47.0             4703   \n",
       "фастфуд              791          25.0        40.0             1132   \n",
       "ресторан             544          88.0       100.0             1741   \n",
       "кулинария             78           4.0         9.0              195   \n",
       "закусочная            56           8.0        14.0              304   \n",
       "кафетерий             52           8.0        12.0              346   \n",
       "бар                   37          45.0        53.0              819   \n",
       "буфет                 11           0.0        13.0              574   \n",
       "столовая               3         120.0       112.0             2584   \n",
       "\n",
       "             not_chain_median  not_chain_mean  \n",
       "object_type                                    \n",
       "кафе                       30            37.0  \n",
       "фастфуд                     0             7.0  \n",
       "ресторан                   75            96.0  \n",
       "кулинария                   0             4.0  \n",
       "закусочная                  0             6.0  \n",
       "кафетерий                   6             9.0  \n",
       "бар                        34            43.0  \n",
       "буфет                      32            52.0  \n",
       "столовая                  103           130.0  "
      ]
     },
     "execution_count": 24,
     "metadata": {},
     "output_type": "execute_result"
    }
   ],
   "source": [
    "number_chain = (df.query('chain == \"да\"')\n",
    "                .groupby('object_type')\n",
    "                .agg({'number':['count','median','mean']}).round().sort_values(('number','count'),ascending=False))\n",
    "number_chain.columns = ['chain_count','chain_median','chain_mean']\n",
    "\n",
    "number_not_chain = (df.query('chain == \"нет\"')\n",
    "                    .groupby('object_type')\n",
    "                    .agg({'number':['count','median','mean']}).round())\n",
    "number_not_chain.columns = ['not_chain_count','not_chain_median','not_chain_mean']\n",
    "                    \n",
    "numbers = number_chain.merge(number_not_chain,how='left', on='object_type')\n",
    "numbers"
   ]
  },
  {
   "cell_type": "markdown",
   "id": "497d52b4",
   "metadata": {},
   "source": [
    "###### Вывод\n",
    "\n",
    "Среднее значение посадочных мест:\n",
    "- сетевые заведения 53 посадочных места,\n",
    "- несетевых заведения 61 посадочное место.\n",
    "\n",
    "Хотя если посмотреть на таблицу выше, мы увидим, что для сетевых заведений характерно большее количество посадочных мест чем для несетевых.\n",
    "\n",
    "Всю картину меняют `столовые` где среднее количество посадочных мест превышает 130 и практически все столовые несетевые заведения.\n",
    "\n",
    "В целом, для сетевых заведений характерно много заведений с небольшим числом посадочных мест:\n",
    "- `кафе`- 40,\n",
    "- `фастфуд` - 25.\n",
    "\n",
    "Так же для несетевых заведений фастфуда, кулинарии и закусочной отсутствие посадочных мест о чемговорит медианное значение = 0."
   ]
  },
  {
   "cell_type": "code",
   "execution_count": 25,
   "id": "0a9edf6c",
   "metadata": {},
   "outputs": [
    {
     "data": {
      "text/html": [
       "<div>\n",
       "<style scoped>\n",
       "    .dataframe tbody tr th:only-of-type {\n",
       "        vertical-align: middle;\n",
       "    }\n",
       "\n",
       "    .dataframe tbody tr th {\n",
       "        vertical-align: top;\n",
       "    }\n",
       "\n",
       "    .dataframe thead th {\n",
       "        text-align: right;\n",
       "    }\n",
       "</style>\n",
       "<table border=\"1\" class=\"dataframe\">\n",
       "  <thead>\n",
       "    <tr style=\"text-align: right;\">\n",
       "      <th></th>\n",
       "      <th>id</th>\n",
       "      <th>object_name</th>\n",
       "      <th>chain</th>\n",
       "      <th>object_type</th>\n",
       "      <th>address</th>\n",
       "      <th>number</th>\n",
       "    </tr>\n",
       "  </thead>\n",
       "  <tbody>\n",
       "    <tr>\n",
       "      <th>0</th>\n",
       "      <td>151635</td>\n",
       "      <td>сметана</td>\n",
       "      <td>нет</td>\n",
       "      <td>кафе</td>\n",
       "      <td>город Москва, улица Егора Абакумова, дом 9</td>\n",
       "      <td>48</td>\n",
       "    </tr>\n",
       "    <tr>\n",
       "      <th>1</th>\n",
       "      <td>77874</td>\n",
       "      <td>родник</td>\n",
       "      <td>нет</td>\n",
       "      <td>кафе</td>\n",
       "      <td>город Москва, улица Талалихина, дом 2/1, корпус 1</td>\n",
       "      <td>35</td>\n",
       "    </tr>\n",
       "    <tr>\n",
       "      <th>2</th>\n",
       "      <td>24309</td>\n",
       "      <td>кафе «академия»</td>\n",
       "      <td>нет</td>\n",
       "      <td>кафе</td>\n",
       "      <td>город Москва, Абельмановская улица, дом 6</td>\n",
       "      <td>95</td>\n",
       "    </tr>\n",
       "    <tr>\n",
       "      <th>3</th>\n",
       "      <td>21894</td>\n",
       "      <td>пиццетория</td>\n",
       "      <td>да</td>\n",
       "      <td>кафе</td>\n",
       "      <td>город Москва, Абрамцевская улица, дом 1</td>\n",
       "      <td>40</td>\n",
       "    </tr>\n",
       "    <tr>\n",
       "      <th>4</th>\n",
       "      <td>119365</td>\n",
       "      <td>кафе «вишневая метель»</td>\n",
       "      <td>нет</td>\n",
       "      <td>кафе</td>\n",
       "      <td>город Москва, Абрамцевская улица, дом 9, корпус 1</td>\n",
       "      <td>50</td>\n",
       "    </tr>\n",
       "  </tbody>\n",
       "</table>\n",
       "</div>"
      ],
      "text/plain": [
       "       id             object_name chain object_type  \\\n",
       "0  151635                 сметана   нет        кафе   \n",
       "1   77874                  родник   нет        кафе   \n",
       "2   24309         кафе «академия»   нет        кафе   \n",
       "3   21894              пиццетория    да        кафе   \n",
       "4  119365  кафе «вишневая метель»   нет        кафе   \n",
       "\n",
       "                                             address  number  \n",
       "0         город Москва, улица Егора Абакумова, дом 9      48  \n",
       "1  город Москва, улица Талалихина, дом 2/1, корпус 1      35  \n",
       "2          город Москва, Абельмановская улица, дом 6      95  \n",
       "3            город Москва, Абрамцевская улица, дом 1      40  \n",
       "4  город Москва, Абрамцевская улица, дом 9, корпус 1      50  "
      ]
     },
     "execution_count": 25,
     "metadata": {},
     "output_type": "execute_result"
    }
   ],
   "source": [
    "df.head()"
   ]
  },
  {
   "cell_type": "code",
   "execution_count": 26,
   "id": "e7b04472",
   "metadata": {},
   "outputs": [],
   "source": [
    "df_chain = df.query('chain == \"да\"').groupby('object_name').agg({'number':['count','mean']}).round()"
   ]
  },
  {
   "cell_type": "code",
   "execution_count": 27,
   "id": "1caae4a8",
   "metadata": {},
   "outputs": [
    {
     "data": {
      "text/html": [
       "<div>\n",
       "<style scoped>\n",
       "    .dataframe tbody tr th:only-of-type {\n",
       "        vertical-align: middle;\n",
       "    }\n",
       "\n",
       "    .dataframe tbody tr th {\n",
       "        vertical-align: top;\n",
       "    }\n",
       "\n",
       "    .dataframe thead th {\n",
       "        text-align: right;\n",
       "    }\n",
       "</style>\n",
       "<table border=\"1\" class=\"dataframe\">\n",
       "  <thead>\n",
       "    <tr style=\"text-align: right;\">\n",
       "      <th></th>\n",
       "      <th>count</th>\n",
       "      <th>mean</th>\n",
       "    </tr>\n",
       "    <tr>\n",
       "      <th>object_name</th>\n",
       "      <th></th>\n",
       "      <th></th>\n",
       "    </tr>\n",
       "  </thead>\n",
       "  <tbody>\n",
       "    <tr>\n",
       "      <th>beverly hills diner</th>\n",
       "      <td>1</td>\n",
       "      <td>88.0</td>\n",
       "    </tr>\n",
       "    <tr>\n",
       "      <th>bierloga</th>\n",
       "      <td>1</td>\n",
       "      <td>75.0</td>\n",
       "    </tr>\n",
       "    <tr>\n",
       "      <th>black &amp; white</th>\n",
       "      <td>1</td>\n",
       "      <td>40.0</td>\n",
       "    </tr>\n",
       "    <tr>\n",
       "      <th>bocconcino</th>\n",
       "      <td>3</td>\n",
       "      <td>67.0</td>\n",
       "    </tr>\n",
       "    <tr>\n",
       "      <th>boobo</th>\n",
       "      <td>1</td>\n",
       "      <td>46.0</td>\n",
       "    </tr>\n",
       "  </tbody>\n",
       "</table>\n",
       "</div>"
      ],
      "text/plain": [
       "                     count  mean\n",
       "object_name                     \n",
       "beverly hills diner      1  88.0\n",
       "bierloga                 1  75.0\n",
       "black & white            1  40.0\n",
       "bocconcino               3  67.0\n",
       "boobo                    1  46.0"
      ]
     },
     "execution_count": 27,
     "metadata": {},
     "output_type": "execute_result"
    }
   ],
   "source": [
    "df_chain.columns = ['count','mean']\n",
    "df_chain.head()"
   ]
  },
  {
   "cell_type": "code",
   "execution_count": 28,
   "id": "124dfa46",
   "metadata": {},
   "outputs": [
    {
     "data": {
      "image/png": "[encoded data removed]",
      "text/plain": [
       "<Figure size 864x576 with 1 Axes>"
      ]
     },
     "metadata": {},
     "output_type": "display_data"
    }
   ],
   "source": [
    "fig, ax = plt.subplots()\n",
    "\n",
    "x = df_chain['mean']\n",
    "y = df_chain['count']\n",
    "\n",
    "ax.scatter(x, y, s=10)\n",
    "\n",
    "ax.set_title('Количество заведений в сети и среднее значение посадочных мест', fontsize=16)\n",
    "ax.set_xlabel('\\nСреднее количество посадочных мест в заведении сети', fontsize=15)\n",
    "ax.set_ylabel('Количество заведений в сети\\n', fontsize=15)\n",
    "\n",
    "ax.set_facecolor('seashell')\n",
    "fig.set_facecolor('floralwhite')\n",
    "\n",
    "fig.set_figwidth(12)\n",
    "fig.set_figheight(8)\n",
    "\n",
    "plt.show()"
   ]
  },
  {
   "cell_type": "markdown",
   "id": "cc9cc04d",
   "metadata": {},
   "source": [
    "##### Вывод\n",
    "\n",
    "Из графика видим, что значения характеризуются незначительным количеством заведений в сети и средним количеством посадочных мест "
   ]
  },
  {
   "cell_type": "code",
   "execution_count": 29,
   "id": "941e8951",
   "metadata": {},
   "outputs": [
    {
     "data": {
      "text/plain": [
       "array(['старбакс starbucks', 'starbucks', 'кафе «starbucks»',\n",
       "       'кафе starbucks', 'starbucks кофе', 'starbucks, старбакс кофе',\n",
       "       'starbucks старбакс', 'starbucks coffee', 'кофемания starbucks'],\n",
       "      dtype=object)"
      ]
     },
     "execution_count": 29,
     "metadata": {},
     "output_type": "execute_result"
    }
   ],
   "source": [
    "df[df['object_name'].str.contains('starbucks')]['object_name'].unique()"
   ]
  },
  {
   "cell_type": "code",
   "execution_count": 30,
   "id": "bdf064a6",
   "metadata": {},
   "outputs": [
    {
     "data": {
      "text/plain": [
       "9"
      ]
     },
     "execution_count": 30,
     "metadata": {},
     "output_type": "execute_result"
    }
   ],
   "source": [
    "df[df['object_name'].str.contains(r'starbucks')]['object_name'].nunique()"
   ]
  },
  {
   "cell_type": "markdown",
   "id": "45c25f24",
   "metadata": {},
   "source": [
    "### Для каждого вида объекта общественного питания опишите среднее количество посадочных мест. Какой вид предоставляет в среднем самое большое количество посадочных мест? Постройте графики."
   ]
  },
  {
   "cell_type": "code",
   "execution_count": 31,
   "id": "b9216fee",
   "metadata": {},
   "outputs": [
    {
     "data": {
      "text/html": [
       "<div>\n",
       "<style scoped>\n",
       "    .dataframe tbody tr th:only-of-type {\n",
       "        vertical-align: middle;\n",
       "    }\n",
       "\n",
       "    .dataframe tbody tr th {\n",
       "        vertical-align: top;\n",
       "    }\n",
       "\n",
       "    .dataframe thead th {\n",
       "        text-align: right;\n",
       "    }\n",
       "</style>\n",
       "<table border=\"1\" class=\"dataframe\">\n",
       "  <thead>\n",
       "    <tr style=\"text-align: right;\">\n",
       "      <th></th>\n",
       "      <th>object_type</th>\n",
       "      <th>count</th>\n",
       "      <th>median</th>\n",
       "      <th>mean</th>\n",
       "    </tr>\n",
       "  </thead>\n",
       "  <tbody>\n",
       "    <tr>\n",
       "      <th>7</th>\n",
       "      <td>столовая</td>\n",
       "      <td>2587</td>\n",
       "      <td>103</td>\n",
       "      <td>130.0</td>\n",
       "    </tr>\n",
       "    <tr>\n",
       "      <th>6</th>\n",
       "      <td>ресторан</td>\n",
       "      <td>2285</td>\n",
       "      <td>80</td>\n",
       "      <td>97.0</td>\n",
       "    </tr>\n",
       "    <tr>\n",
       "      <th>1</th>\n",
       "      <td>буфет</td>\n",
       "      <td>585</td>\n",
       "      <td>32</td>\n",
       "      <td>51.0</td>\n",
       "    </tr>\n",
       "    <tr>\n",
       "      <th>0</th>\n",
       "      <td>бар</td>\n",
       "      <td>856</td>\n",
       "      <td>35</td>\n",
       "      <td>43.0</td>\n",
       "    </tr>\n",
       "    <tr>\n",
       "      <th>3</th>\n",
       "      <td>кафе</td>\n",
       "      <td>6099</td>\n",
       "      <td>30</td>\n",
       "      <td>40.0</td>\n",
       "    </tr>\n",
       "    <tr>\n",
       "      <th>8</th>\n",
       "      <td>фастфуд</td>\n",
       "      <td>1923</td>\n",
       "      <td>5</td>\n",
       "      <td>21.0</td>\n",
       "    </tr>\n",
       "    <tr>\n",
       "      <th>4</th>\n",
       "      <td>кафетерий</td>\n",
       "      <td>398</td>\n",
       "      <td>6</td>\n",
       "      <td>9.0</td>\n",
       "    </tr>\n",
       "    <tr>\n",
       "      <th>2</th>\n",
       "      <td>закусочная</td>\n",
       "      <td>360</td>\n",
       "      <td>0</td>\n",
       "      <td>8.0</td>\n",
       "    </tr>\n",
       "    <tr>\n",
       "      <th>5</th>\n",
       "      <td>кулинария</td>\n",
       "      <td>273</td>\n",
       "      <td>0</td>\n",
       "      <td>6.0</td>\n",
       "    </tr>\n",
       "  </tbody>\n",
       "</table>\n",
       "</div>"
      ],
      "text/plain": [
       "  object_type  count  median   mean\n",
       "7    столовая   2587     103  130.0\n",
       "6    ресторан   2285      80   97.0\n",
       "1       буфет    585      32   51.0\n",
       "0         бар    856      35   43.0\n",
       "3        кафе   6099      30   40.0\n",
       "8     фастфуд   1923       5   21.0\n",
       "4   кафетерий    398       6    9.0\n",
       "2  закусочная    360       0    8.0\n",
       "5   кулинария    273       0    6.0"
      ]
     },
     "execution_count": 31,
     "metadata": {},
     "output_type": "execute_result"
    }
   ],
   "source": [
    "number = (df.groupby('object_type',as_index=False)\n",
    "          .agg({'number':['count','median','mean']}).round())\n",
    "          #.sort_values(('number','mean'),ascending=False))\n",
    "number.columns = ['object_type','count','median','mean']\n",
    "number = number.sort_values('mean',ascending=False)\n",
    "number"
   ]
  },
  {
   "cell_type": "code",
   "execution_count": 32,
   "id": "a87222e0",
   "metadata": {},
   "outputs": [
    {
     "data": {
      "image/png": "[encoded data removed]",
      "text/plain": [
       "<Figure size 864x576 with 1 Axes>"
      ]
     },
     "metadata": {
      "needs_background": "light"
     },
     "output_type": "display_data"
    }
   ],
   "source": [
    "plt.figure(figsize=(12,8))\n",
    "\n",
    "ax = sns.barplot(data=number, y='mean', x='object_type')\n",
    "\n",
    "ax.set_title('Заведения общественного питания по количеству посадочных мест\\n', fontsize=20)\n",
    "ax.set_ylabel('Количество посадочных мест\\n', fontsize=15)\n",
    "ax.set_xlabel('\\nВид заведения', fontsize=15)\n",
    "\n",
    "ax.set_xticklabels(number['object_type'])\n",
    "sns.despine()"
   ]
  },
  {
   "cell_type": "markdown",
   "id": "0a5d1a7e",
   "metadata": {
    "scrolled": false
   },
   "source": [
    "##### Вывод\n",
    "\n",
    "Максимальное среднее количество посадочных мест в столовых - 130 и ресторанах - 80, минимальное в кулинарии - 6 и закусочной - 8, где как было ранее указано часто встречается отсутствие посадочных мест."
   ]
  },
  {
   "cell_type": "markdown",
   "id": "8a9a54f5",
   "metadata": {},
   "source": [
    "### Выделите в отдельный столбец информацию об улице из столбца address"
   ]
  },
  {
   "cell_type": "code",
   "execution_count": 33,
   "id": "cc351b3d",
   "metadata": {},
   "outputs": [],
   "source": [
    "df['object_type'] = df['object_type'].replace({'предприятие быстрого обслуживания':'фастфуд',\n",
    "                                               'магазин (отдел кулинарии)':'кулинария'})"
   ]
  },
  {
   "cell_type": "code",
   "execution_count": 34,
   "id": "8ba94d9d",
   "metadata": {},
   "outputs": [],
   "source": [
    "# df['street'] = df['address'].apply(lambda x: x.split(', ')[1])\n",
    "# df.drop(columns=['street'], inplace=True)  \n",
    "#'город Троицк','город Зеленоград','город Московский','поселение','километр','деревня','посёлок',\n",
    "street_types = (['улица','переулок','шоссе','проезд','проспект','бульвар','площадь','просек',\n",
    "                 'набережная','квартал','аллея','линия','тупик','территория','микрорайон Северное'\n",
    "                 ])\n",
    "def street(address):\n",
    "    street0 = address.split(',')[0]\n",
    "    street1 = address.split(',')[1]\n",
    "\n",
    "    for street_type in street_types:\n",
    "        if street_type in street0:\n",
    "            return street0.strip()\n",
    "        if street_type in street1:\n",
    "            return street1.strip()\n",
    "    return 'n'"
   ]
  },
  {
   "cell_type": "code",
   "execution_count": 35,
   "id": "967dcaa8",
   "metadata": {
    "scrolled": true
   },
   "outputs": [],
   "source": [
    "df['street'] = df['address'].apply(street)"
   ]
  },
  {
   "cell_type": "code",
   "execution_count": 36,
   "id": "990de8f3",
   "metadata": {},
   "outputs": [
    {
     "data": {
      "text/html": [
       "<div>\n",
       "<style scoped>\n",
       "    .dataframe tbody tr th:only-of-type {\n",
       "        vertical-align: middle;\n",
       "    }\n",
       "\n",
       "    .dataframe tbody tr th {\n",
       "        vertical-align: top;\n",
       "    }\n",
       "\n",
       "    .dataframe thead th {\n",
       "        text-align: right;\n",
       "    }\n",
       "</style>\n",
       "<table border=\"1\" class=\"dataframe\">\n",
       "  <thead>\n",
       "    <tr style=\"text-align: right;\">\n",
       "      <th></th>\n",
       "      <th>id</th>\n",
       "      <th>object_name</th>\n",
       "      <th>chain</th>\n",
       "      <th>object_type</th>\n",
       "      <th>address</th>\n",
       "      <th>number</th>\n",
       "      <th>street</th>\n",
       "    </tr>\n",
       "  </thead>\n",
       "  <tbody>\n",
       "    <tr>\n",
       "      <th>0</th>\n",
       "      <td>151635</td>\n",
       "      <td>сметана</td>\n",
       "      <td>нет</td>\n",
       "      <td>кафе</td>\n",
       "      <td>город Москва, улица Егора Абакумова, дом 9</td>\n",
       "      <td>48</td>\n",
       "      <td>улица Егора Абакумова</td>\n",
       "    </tr>\n",
       "    <tr>\n",
       "      <th>1</th>\n",
       "      <td>77874</td>\n",
       "      <td>родник</td>\n",
       "      <td>нет</td>\n",
       "      <td>кафе</td>\n",
       "      <td>город Москва, улица Талалихина, дом 2/1, корпус 1</td>\n",
       "      <td>35</td>\n",
       "      <td>улица Талалихина</td>\n",
       "    </tr>\n",
       "    <tr>\n",
       "      <th>2</th>\n",
       "      <td>24309</td>\n",
       "      <td>кафе «академия»</td>\n",
       "      <td>нет</td>\n",
       "      <td>кафе</td>\n",
       "      <td>город Москва, Абельмановская улица, дом 6</td>\n",
       "      <td>95</td>\n",
       "      <td>Абельмановская улица</td>\n",
       "    </tr>\n",
       "    <tr>\n",
       "      <th>3</th>\n",
       "      <td>21894</td>\n",
       "      <td>пиццетория</td>\n",
       "      <td>да</td>\n",
       "      <td>кафе</td>\n",
       "      <td>город Москва, Абрамцевская улица, дом 1</td>\n",
       "      <td>40</td>\n",
       "      <td>Абрамцевская улица</td>\n",
       "    </tr>\n",
       "    <tr>\n",
       "      <th>4</th>\n",
       "      <td>119365</td>\n",
       "      <td>кафе «вишневая метель»</td>\n",
       "      <td>нет</td>\n",
       "      <td>кафе</td>\n",
       "      <td>город Москва, Абрамцевская улица, дом 9, корпус 1</td>\n",
       "      <td>50</td>\n",
       "      <td>Абрамцевская улица</td>\n",
       "    </tr>\n",
       "  </tbody>\n",
       "</table>\n",
       "</div>"
      ],
      "text/plain": [
       "       id             object_name chain object_type  \\\n",
       "0  151635                 сметана   нет        кафе   \n",
       "1   77874                  родник   нет        кафе   \n",
       "2   24309         кафе «академия»   нет        кафе   \n",
       "3   21894              пиццетория    да        кафе   \n",
       "4  119365  кафе «вишневая метель»   нет        кафе   \n",
       "\n",
       "                                             address  number  \\\n",
       "0         город Москва, улица Егора Абакумова, дом 9      48   \n",
       "1  город Москва, улица Талалихина, дом 2/1, корпус 1      35   \n",
       "2          город Москва, Абельмановская улица, дом 6      95   \n",
       "3            город Москва, Абрамцевская улица, дом 1      40   \n",
       "4  город Москва, Абрамцевская улица, дом 9, корпус 1      50   \n",
       "\n",
       "                  street  \n",
       "0  улица Егора Абакумова  \n",
       "1       улица Талалихина  \n",
       "2   Абельмановская улица  \n",
       "3     Абрамцевская улица  \n",
       "4     Абрамцевская улица  "
      ]
     },
     "execution_count": 36,
     "metadata": {},
     "output_type": "execute_result"
    }
   ],
   "source": [
    "df = df.query('street != \"n\"').reset_index(drop=True)\n",
    "df.head()"
   ]
  },
  {
   "cell_type": "markdown",
   "id": "960cdd72",
   "metadata": {},
   "source": [
    "##### Вывод \n",
    "\n",
    "Для дальнейшего анализа мы выделили из адреса информацию об улице включая переулки, проспекты, площади и пр. Убрали из списка заведения находящиеся за пределами МКАД. Из всего списка адресов оставили 14506 адреса."
   ]
  },
  {
   "cell_type": "markdown",
   "id": "f1b3eda3",
   "metadata": {},
   "source": [
    "### Постройте график топ-10 улиц по количеству объектов общественного питания. Воспользуйтесь внешней информацией и ответьте на вопрос — в каких районах Москвы находятся эти улицы?"
   ]
  },
  {
   "cell_type": "markdown",
   "id": "a6913a40",
   "metadata": {},
   "source": [
    "Загрузим внешние данные, используем файлы открытых данных mos.ru и mosgaz"
   ]
  },
  {
   "cell_type": "code",
   "execution_count": 37,
   "id": "e49d0f7b",
   "metadata": {
    "scrolled": true
   },
   "outputs": [],
   "source": [
    "from io import BytesIO\n",
    "import requests\n",
    "spreadsheet_id = '1rcnVH1c4pvf4HBQlLNLQBXXoIhkJeP8OcmUQxBMVBeM'\n",
    "file_name = 'https://docs.google.com/spreadsheets/d/{}/export?format=csv'.format(spreadsheet_id)\n",
    "r = requests.get(file_name)\n",
    "district = pd.read_csv(BytesIO(r.content))"
   ]
  },
  {
   "cell_type": "code",
   "execution_count": 38,
   "id": "163ee191",
   "metadata": {},
   "outputs": [],
   "source": [
    "spreadsheet_id = '1KeqVxNir1dDCGadYt-8_L1EXR7ip75e1__728ZaAt_0'\n",
    "file_name = 'https://docs.google.com/spreadsheets/d/{}/export?format=csv'.format(spreadsheet_id)\n",
    "r = requests.get(file_name)\n",
    "area = pd.read_csv(BytesIO(r.content))"
   ]
  },
  {
   "cell_type": "markdown",
   "id": "eba82fcf",
   "metadata": {},
   "source": [
    "Объединим данные поочередно"
   ]
  },
  {
   "cell_type": "code",
   "execution_count": 39,
   "id": "60dbbb01",
   "metadata": {},
   "outputs": [],
   "source": [
    "df_location = df.merge(district[['id','district']],how='left', on='id')\n",
    "df_location = df_location.merge(area[['street','area']], how='left', on='street')"
   ]
  },
  {
   "cell_type": "markdown",
   "id": "d9d36fb4",
   "metadata": {},
   "source": [
    "Заполним пропуски"
   ]
  },
  {
   "cell_type": "code",
   "execution_count": 40,
   "id": "c6bcacd5",
   "metadata": {},
   "outputs": [],
   "source": [
    "df_location['district'].fillna(df_location['area'],inplace=True)"
   ]
  },
  {
   "cell_type": "markdown",
   "id": "97256fc5",
   "metadata": {},
   "source": [
    "Удалим ненужные колонки и дубликаты"
   ]
  },
  {
   "cell_type": "code",
   "execution_count": 41,
   "id": "960e6cdf",
   "metadata": {},
   "outputs": [
    {
     "data": {
      "text/html": [
       "<div>\n",
       "<style scoped>\n",
       "    .dataframe tbody tr th:only-of-type {\n",
       "        vertical-align: middle;\n",
       "    }\n",
       "\n",
       "    .dataframe tbody tr th {\n",
       "        vertical-align: top;\n",
       "    }\n",
       "\n",
       "    .dataframe thead th {\n",
       "        text-align: right;\n",
       "    }\n",
       "</style>\n",
       "<table border=\"1\" class=\"dataframe\">\n",
       "  <thead>\n",
       "    <tr style=\"text-align: right;\">\n",
       "      <th></th>\n",
       "      <th>id</th>\n",
       "      <th>object_name</th>\n",
       "      <th>chain</th>\n",
       "      <th>object_type</th>\n",
       "      <th>address</th>\n",
       "      <th>number</th>\n",
       "      <th>street</th>\n",
       "      <th>district</th>\n",
       "    </tr>\n",
       "  </thead>\n",
       "  <tbody>\n",
       "    <tr>\n",
       "      <th>0</th>\n",
       "      <td>151635</td>\n",
       "      <td>сметана</td>\n",
       "      <td>нет</td>\n",
       "      <td>кафе</td>\n",
       "      <td>город Москва, улица Егора Абакумова, дом 9</td>\n",
       "      <td>48</td>\n",
       "      <td>улица Егора Абакумова</td>\n",
       "      <td>Ярославский район</td>\n",
       "    </tr>\n",
       "    <tr>\n",
       "      <th>1</th>\n",
       "      <td>77874</td>\n",
       "      <td>родник</td>\n",
       "      <td>нет</td>\n",
       "      <td>кафе</td>\n",
       "      <td>город Москва, улица Талалихина, дом 2/1, корпус 1</td>\n",
       "      <td>35</td>\n",
       "      <td>улица Талалихина</td>\n",
       "      <td>Таганский район</td>\n",
       "    </tr>\n",
       "    <tr>\n",
       "      <th>2</th>\n",
       "      <td>24309</td>\n",
       "      <td>кафе «академия»</td>\n",
       "      <td>нет</td>\n",
       "      <td>кафе</td>\n",
       "      <td>город Москва, Абельмановская улица, дом 6</td>\n",
       "      <td>95</td>\n",
       "      <td>Абельмановская улица</td>\n",
       "      <td>Таганский район</td>\n",
       "    </tr>\n",
       "    <tr>\n",
       "      <th>3</th>\n",
       "      <td>21894</td>\n",
       "      <td>пиццетория</td>\n",
       "      <td>да</td>\n",
       "      <td>кафе</td>\n",
       "      <td>город Москва, Абрамцевская улица, дом 1</td>\n",
       "      <td>40</td>\n",
       "      <td>Абрамцевская улица</td>\n",
       "      <td>Район Лианозово</td>\n",
       "    </tr>\n",
       "    <tr>\n",
       "      <th>4</th>\n",
       "      <td>119365</td>\n",
       "      <td>кафе «вишневая метель»</td>\n",
       "      <td>нет</td>\n",
       "      <td>кафе</td>\n",
       "      <td>город Москва, Абрамцевская улица, дом 9, корпус 1</td>\n",
       "      <td>50</td>\n",
       "      <td>Абрамцевская улица</td>\n",
       "      <td>Район Лианозово</td>\n",
       "    </tr>\n",
       "  </tbody>\n",
       "</table>\n",
       "</div>"
      ],
      "text/plain": [
       "       id             object_name chain object_type  \\\n",
       "0  151635                 сметана   нет        кафе   \n",
       "1   77874                  родник   нет        кафе   \n",
       "2   24309         кафе «академия»   нет        кафе   \n",
       "3   21894              пиццетория    да        кафе   \n",
       "4  119365  кафе «вишневая метель»   нет        кафе   \n",
       "\n",
       "                                             address  number  \\\n",
       "0         город Москва, улица Егора Абакумова, дом 9      48   \n",
       "1  город Москва, улица Талалихина, дом 2/1, корпус 1      35   \n",
       "2          город Москва, Абельмановская улица, дом 6      95   \n",
       "3            город Москва, Абрамцевская улица, дом 1      40   \n",
       "4  город Москва, Абрамцевская улица, дом 9, корпус 1      50   \n",
       "\n",
       "                  street           district  \n",
       "0  улица Егора Абакумова  Ярославский район  \n",
       "1       улица Талалихина    Таганский район  \n",
       "2   Абельмановская улица    Таганский район  \n",
       "3     Абрамцевская улица    Район Лианозово  \n",
       "4     Абрамцевская улица    Район Лианозово  "
      ]
     },
     "execution_count": 41,
     "metadata": {},
     "output_type": "execute_result"
    }
   ],
   "source": [
    "df_location.drop('area',axis=1,inplace=True)\n",
    "df_location.drop_duplicates(['id'], keep='first', inplace=True)\n",
    "df_location.reset_index(drop=True).head()"
   ]
  },
  {
   "cell_type": "markdown",
   "id": "0a117511",
   "metadata": {},
   "source": [
    "Удалим пропуски"
   ]
  },
  {
   "cell_type": "code",
   "execution_count": 42,
   "id": "97abe2d2",
   "metadata": {},
   "outputs": [
    {
     "data": {
      "text/plain": [
       "id             0\n",
       "object_name    0\n",
       "chain          0\n",
       "object_type    0\n",
       "address        0\n",
       "number         0\n",
       "street         0\n",
       "district       0\n",
       "dtype: int64"
      ]
     },
     "execution_count": 42,
     "metadata": {},
     "output_type": "execute_result"
    }
   ],
   "source": [
    "df_location.dropna(inplace=True)\n",
    "df_location.reset_index(drop=True, inplace=True)\n",
    "df_location.isna().sum()"
   ]
  },
  {
   "cell_type": "code",
   "execution_count": 43,
   "id": "b153e30c",
   "metadata": {},
   "outputs": [],
   "source": [
    "top_street = (df_location['street']\n",
    "          .value_counts()\n",
    "          .reset_index()\n",
    "          .rename(columns={'index':'street','street':'count'}) )"
   ]
  },
  {
   "cell_type": "code",
   "execution_count": 44,
   "id": "fcfa81ec",
   "metadata": {},
   "outputs": [
    {
     "data": {
      "text/html": [
       "<div>\n",
       "<style scoped>\n",
       "    .dataframe tbody tr th:only-of-type {\n",
       "        vertical-align: middle;\n",
       "    }\n",
       "\n",
       "    .dataframe tbody tr th {\n",
       "        vertical-align: top;\n",
       "    }\n",
       "\n",
       "    .dataframe thead th {\n",
       "        text-align: right;\n",
       "    }\n",
       "</style>\n",
       "<table border=\"1\" class=\"dataframe\">\n",
       "  <thead>\n",
       "    <tr style=\"text-align: right;\">\n",
       "      <th></th>\n",
       "      <th>street</th>\n",
       "      <th>count</th>\n",
       "    </tr>\n",
       "  </thead>\n",
       "  <tbody>\n",
       "    <tr>\n",
       "      <th>0</th>\n",
       "      <td>проспект Мира</td>\n",
       "      <td>204</td>\n",
       "    </tr>\n",
       "    <tr>\n",
       "      <th>1</th>\n",
       "      <td>Профсоюзная улица</td>\n",
       "      <td>183</td>\n",
       "    </tr>\n",
       "    <tr>\n",
       "      <th>2</th>\n",
       "      <td>Ленинградский проспект</td>\n",
       "      <td>173</td>\n",
       "    </tr>\n",
       "    <tr>\n",
       "      <th>3</th>\n",
       "      <td>Пресненская набережная</td>\n",
       "      <td>167</td>\n",
       "    </tr>\n",
       "    <tr>\n",
       "      <th>4</th>\n",
       "      <td>Варшавское шоссе</td>\n",
       "      <td>162</td>\n",
       "    </tr>\n",
       "    <tr>\n",
       "      <th>5</th>\n",
       "      <td>Ленинский проспект</td>\n",
       "      <td>148</td>\n",
       "    </tr>\n",
       "    <tr>\n",
       "      <th>6</th>\n",
       "      <td>проспект Вернадского</td>\n",
       "      <td>132</td>\n",
       "    </tr>\n",
       "    <tr>\n",
       "      <th>7</th>\n",
       "      <td>Кутузовский проспект</td>\n",
       "      <td>114</td>\n",
       "    </tr>\n",
       "    <tr>\n",
       "      <th>8</th>\n",
       "      <td>Каширское шоссе</td>\n",
       "      <td>112</td>\n",
       "    </tr>\n",
       "    <tr>\n",
       "      <th>9</th>\n",
       "      <td>Кировоградская улица</td>\n",
       "      <td>110</td>\n",
       "    </tr>\n",
       "  </tbody>\n",
       "</table>\n",
       "</div>"
      ],
      "text/plain": [
       "                   street  count\n",
       "0           проспект Мира    204\n",
       "1       Профсоюзная улица    183\n",
       "2  Ленинградский проспект    173\n",
       "3  Пресненская набережная    167\n",
       "4        Варшавское шоссе    162\n",
       "5      Ленинский проспект    148\n",
       "6    проспект Вернадского    132\n",
       "7    Кутузовский проспект    114\n",
       "8         Каширское шоссе    112\n",
       "9    Кировоградская улица    110"
      ]
     },
     "execution_count": 44,
     "metadata": {},
     "output_type": "execute_result"
    }
   ],
   "source": [
    "top_10 = top_street.head(10)\n",
    "top_10"
   ]
  },
  {
   "cell_type": "code",
   "execution_count": 45,
   "id": "d5b650f6",
   "metadata": {},
   "outputs": [],
   "source": [
    "top_10 = top_street.head(10)"
   ]
  },
  {
   "cell_type": "code",
   "execution_count": 46,
   "id": "9e7e2d9d",
   "metadata": {
    "scrolled": true
   },
   "outputs": [
    {
     "data": {
      "text/html": [
       "<div>\n",
       "<style scoped>\n",
       "    .dataframe tbody tr th:only-of-type {\n",
       "        vertical-align: middle;\n",
       "    }\n",
       "\n",
       "    .dataframe tbody tr th {\n",
       "        vertical-align: top;\n",
       "    }\n",
       "\n",
       "    .dataframe thead th {\n",
       "        text-align: right;\n",
       "    }\n",
       "</style>\n",
       "<table border=\"1\" class=\"dataframe\">\n",
       "  <thead>\n",
       "    <tr style=\"text-align: right;\">\n",
       "      <th></th>\n",
       "      <th>street</th>\n",
       "      <th>count</th>\n",
       "      <th>area</th>\n",
       "    </tr>\n",
       "  </thead>\n",
       "  <tbody>\n",
       "    <tr>\n",
       "      <th>0</th>\n",
       "      <td>проспект Мира</td>\n",
       "      <td>204</td>\n",
       "      <td>Алексеевский район</td>\n",
       "    </tr>\n",
       "    <tr>\n",
       "      <th>1</th>\n",
       "      <td>проспект Мира</td>\n",
       "      <td>204</td>\n",
       "      <td>Ярославский Район</td>\n",
       "    </tr>\n",
       "    <tr>\n",
       "      <th>2</th>\n",
       "      <td>проспект Мира</td>\n",
       "      <td>204</td>\n",
       "      <td>Район Марьина роща</td>\n",
       "    </tr>\n",
       "    <tr>\n",
       "      <th>3</th>\n",
       "      <td>проспект Мира</td>\n",
       "      <td>204</td>\n",
       "      <td>Останкинский район</td>\n",
       "    </tr>\n",
       "    <tr>\n",
       "      <th>4</th>\n",
       "      <td>проспект Мира</td>\n",
       "      <td>204</td>\n",
       "      <td>Район Ростокино</td>\n",
       "    </tr>\n",
       "  </tbody>\n",
       "</table>\n",
       "</div>"
      ],
      "text/plain": [
       "          street  count                area\n",
       "0  проспект Мира    204  Алексеевский район\n",
       "1  проспект Мира    204   Ярославский Район\n",
       "2  проспект Мира    204  Район Марьина роща\n",
       "3  проспект Мира    204  Останкинский район\n",
       "4  проспект Мира    204     Район Ростокино"
      ]
     },
     "execution_count": 46,
     "metadata": {},
     "output_type": "execute_result"
    }
   ],
   "source": [
    "top_10_area = top_10.merge(area,how='left', on='street')\n",
    "top_10_area.head()"
   ]
  },
  {
   "cell_type": "code",
   "execution_count": 47,
   "id": "035242dc",
   "metadata": {},
   "outputs": [
    {
     "data": {
      "text/plain": [
       "Ленинский проспект        8\n",
       "Варшавское шоссе          8\n",
       "проспект Мира             7\n",
       "Профсоюзная улица         6\n",
       "проспект Вернадского      5\n",
       "Каширское шоссе           4\n",
       "Ленинградский проспект    4\n",
       "Кировоградская улица      3\n",
       "Кутузовский проспект      2\n",
       "Пресненская набережная    1\n",
       "Name: street, dtype: int64"
      ]
     },
     "execution_count": 47,
     "metadata": {},
     "output_type": "execute_result"
    }
   ],
   "source": [
    "top_10_area['street'].value_counts()"
   ]
  },
  {
   "cell_type": "markdown",
   "id": "75341e09",
   "metadata": {},
   "source": [
    "Районы где расположены топ-10 улиц по количеству заведений"
   ]
  },
  {
   "cell_type": "code",
   "execution_count": 48,
   "id": "f46f1c3f",
   "metadata": {},
   "outputs": [
    {
     "data": {
      "text/plain": [
       "array(['Алексеевский район', 'Ярославский Район', 'Район Марьина роща',\n",
       "       'Останкинский район', 'Район Ростокино', 'Район Свиблово',\n",
       "       'Мещанский район', 'Академический район', 'Район Черемушки',\n",
       "       'Район Ясенево', 'Район Коньково', 'Обручевский район',\n",
       "       'Район Теплый Стан', 'Район Аэропорт', 'Район Беговой',\n",
       "       'Хорошевский район', 'Район Сокол', 'Пресненский район',\n",
       "       'Район Чертаново Центральное', 'Район Чертаново Северное',\n",
       "       'Район Чертаново Южное', 'Донской район',\n",
       "       'Район Нагатино-Садовники', 'Нагорный район',\n",
       "       'Район Северное Бутово', 'Район Южное Бутово',\n",
       "       'Район Проспект Вернадского', 'Район Тропарево-Никулино',\n",
       "       'Район Гагаринский', 'Ломоносовский район', 'Район Якиманка',\n",
       "       'Район Раменки', 'Район Дорогомилово', 'Район Фили-Давыдково',\n",
       "       'Район Москворечье-Сабурово', 'Район Орехово-Борисово Южное',\n",
       "       'Район Орехово-Борисово Северное'], dtype=object)"
      ]
     },
     "execution_count": 48,
     "metadata": {},
     "output_type": "execute_result"
    }
   ],
   "source": [
    "top_10_area.area.unique()"
   ]
  },
  {
   "cell_type": "code",
   "execution_count": 49,
   "id": "d09e44c1",
   "metadata": {},
   "outputs": [
    {
     "data": {
      "image/png": "[encoded data removed]",
      "text/plain": [
       "<Figure size 864x576 with 1 Axes>"
      ]
     },
     "metadata": {
      "needs_background": "light"
     },
     "output_type": "display_data"
    }
   ],
   "source": [
    "plt.figure(figsize=(12,8))\n",
    "\n",
    "ax = sns.barplot(data=top_10, y='count', x='street')\n",
    "\n",
    "ax.set_title('Топ-10 улиц по количеству заведений\\n', fontsize=20)\n",
    "ax.set_ylabel('Количество заведений\\n', fontsize=15)\n",
    "ax.set_xlabel('\\nУлица', fontsize=15)\n",
    "\n",
    "\n",
    "ax.set_xticklabels(top_10['street'], rotation=45)\n",
    "sns.despine()"
   ]
  },
  {
   "cell_type": "markdown",
   "id": "beda8af3",
   "metadata": {},
   "source": [
    "##### Вывод\n",
    "\n",
    "На первом месте по количеству заведений общепита находятся улицы большой протяженностью, которые проходят через несколько районов Москвы. \n",
    "1. Проспект Мира - 204 заведения, проходит через 7 районов,\n",
    "2. Профсоюзная улица - 183 заведения, проходит через 6 районов,\n",
    "3. Ленинградский проспект - 173 заведения, проходит через 4 района. \n",
    "\n",
    "Для наших целей полученные данные малоинформативны тк не говорят о плотности расположения заведений."
   ]
  },
  {
   "cell_type": "markdown",
   "id": "0b288e3d",
   "metadata": {},
   "source": [
    "### Найдите число улиц с одним объектом общественного питания. Воспользуйтесь внешней информацией и ответьте на вопрос — в каких районах Москвы находятся эти улицы?"
   ]
  },
  {
   "cell_type": "code",
   "execution_count": 50,
   "id": "514182ea",
   "metadata": {},
   "outputs": [
    {
     "data": {
      "text/html": [
       "<div>\n",
       "<style scoped>\n",
       "    .dataframe tbody tr th:only-of-type {\n",
       "        vertical-align: middle;\n",
       "    }\n",
       "\n",
       "    .dataframe tbody tr th {\n",
       "        vertical-align: top;\n",
       "    }\n",
       "\n",
       "    .dataframe thead th {\n",
       "        text-align: right;\n",
       "    }\n",
       "</style>\n",
       "<table border=\"1\" class=\"dataframe\">\n",
       "  <thead>\n",
       "    <tr style=\"text-align: right;\">\n",
       "      <th></th>\n",
       "      <th>street</th>\n",
       "      <th>count</th>\n",
       "    </tr>\n",
       "  </thead>\n",
       "  <tbody>\n",
       "    <tr>\n",
       "      <th>1277</th>\n",
       "      <td>улица Красных Зорь</td>\n",
       "      <td>1</td>\n",
       "    </tr>\n",
       "    <tr>\n",
       "      <th>1278</th>\n",
       "      <td>Прибрежный проезд</td>\n",
       "      <td>1</td>\n",
       "    </tr>\n",
       "    <tr>\n",
       "      <th>1279</th>\n",
       "      <td>Лениногорская улица</td>\n",
       "      <td>1</td>\n",
       "    </tr>\n",
       "    <tr>\n",
       "      <th>1280</th>\n",
       "      <td>Воротниковский переулок</td>\n",
       "      <td>1</td>\n",
       "    </tr>\n",
       "    <tr>\n",
       "      <th>1281</th>\n",
       "      <td>Несвижский переулок</td>\n",
       "      <td>1</td>\n",
       "    </tr>\n",
       "  </tbody>\n",
       "</table>\n",
       "</div>"
      ],
      "text/plain": [
       "                       street  count\n",
       "1277       улица Красных Зорь      1\n",
       "1278        Прибрежный проезд      1\n",
       "1279      Лениногорская улица      1\n",
       "1280  Воротниковский переулок      1\n",
       "1281      Несвижский переулок      1"
      ]
     },
     "execution_count": 50,
     "metadata": {},
     "output_type": "execute_result"
    }
   ],
   "source": [
    "low_street = top_street.query('count == 1')\n",
    "low_street.head()"
   ]
  },
  {
   "cell_type": "code",
   "execution_count": 51,
   "id": "841fb9f2",
   "metadata": {},
   "outputs": [
    {
     "data": {
      "text/html": [
       "<div>\n",
       "<style scoped>\n",
       "    .dataframe tbody tr th:only-of-type {\n",
       "        vertical-align: middle;\n",
       "    }\n",
       "\n",
       "    .dataframe tbody tr th {\n",
       "        vertical-align: top;\n",
       "    }\n",
       "\n",
       "    .dataframe thead th {\n",
       "        text-align: right;\n",
       "    }\n",
       "</style>\n",
       "<table border=\"1\" class=\"dataframe\">\n",
       "  <thead>\n",
       "    <tr style=\"text-align: right;\">\n",
       "      <th></th>\n",
       "      <th>street</th>\n",
       "      <th>count</th>\n",
       "      <th>area</th>\n",
       "    </tr>\n",
       "  </thead>\n",
       "  <tbody>\n",
       "    <tr>\n",
       "      <th>0</th>\n",
       "      <td>улица Красных Зорь</td>\n",
       "      <td>1</td>\n",
       "      <td>Можайский Район</td>\n",
       "    </tr>\n",
       "    <tr>\n",
       "      <th>1</th>\n",
       "      <td>Прибрежный проезд</td>\n",
       "      <td>1</td>\n",
       "      <td>Район Левобережный</td>\n",
       "    </tr>\n",
       "    <tr>\n",
       "      <th>2</th>\n",
       "      <td>Прибрежный проезд</td>\n",
       "      <td>1</td>\n",
       "      <td>Молжаниновский район</td>\n",
       "    </tr>\n",
       "    <tr>\n",
       "      <th>3</th>\n",
       "      <td>Лениногорская улица</td>\n",
       "      <td>1</td>\n",
       "      <td>Район Косино-Ухтомский</td>\n",
       "    </tr>\n",
       "    <tr>\n",
       "      <th>4</th>\n",
       "      <td>Воротниковский переулок</td>\n",
       "      <td>1</td>\n",
       "      <td>Тверской район</td>\n",
       "    </tr>\n",
       "  </tbody>\n",
       "</table>\n",
       "</div>"
      ],
      "text/plain": [
       "                    street  count                    area\n",
       "0       улица Красных Зорь      1         Можайский Район\n",
       "1        Прибрежный проезд      1      Район Левобережный\n",
       "2        Прибрежный проезд      1    Молжаниновский район\n",
       "3      Лениногорская улица      1  Район Косино-Ухтомский\n",
       "4  Воротниковский переулок      1          Тверской район"
      ]
     },
     "execution_count": 51,
     "metadata": {},
     "output_type": "execute_result"
    }
   ],
   "source": [
    "low_street_district = low_street.merge(area,how='left', on='street')\n",
    "low_street_district.head()"
   ]
  },
  {
   "cell_type": "code",
   "execution_count": 52,
   "id": "a2c673f3",
   "metadata": {},
   "outputs": [
    {
     "name": "stdout",
     "output_type": "stream",
     "text": [
      "Число улиц всего: 1805\n",
      "Число улиц с одним объектом общественного питания: 528\n",
      "Число районов: 229\n",
      "Число районов где раположены улицы с одним объектом общепита: 101\n"
     ]
    }
   ],
   "source": [
    "print('Число улиц всего:', df_location.street.nunique())\n",
    "print('Число улиц с одним объектом общественного питания:', low_street.street.nunique())\n",
    "print('Число районов:',df_location.district.nunique())\n",
    "print('Число районов где раположены улицы с одним объектом общепита:',low_street_district.area.nunique())"
   ]
  },
  {
   "cell_type": "markdown",
   "id": "2806d319",
   "metadata": {},
   "source": [
    "##### Вывод\n",
    "\n",
    "Всего в таблице 1805 улиц на которых расположены заведения общепита. На 528(29%) улицах находится только 1 заведение. Указанные улицы проходят по 101 району Москвы из 229 упомянутых. Те почти в каждом втором районе Москвы есть улица только с 1 заведением общепита."
   ]
  },
  {
   "cell_type": "markdown",
   "id": "4a4fe558",
   "metadata": {},
   "source": [
    "### Посмотрите на распределение количества посадочных мест для улиц с большим количеством объектов общественного питания. Какие закономерности можно выявить?"
   ]
  },
  {
   "cell_type": "markdown",
   "id": "b3b5e42a",
   "metadata": {},
   "source": [
    "Как мы выяснили ранее, расположение улиц по районам это малополезная информация. Для целей анализа рассмотрим информацию в разрезе районов."
   ]
  },
  {
   "cell_type": "code",
   "execution_count": 53,
   "id": "37cf1fb9",
   "metadata": {},
   "outputs": [],
   "source": [
    "top_5_district = (df_location['district']\n",
    "          .value_counts()\n",
    "          .head(5)\n",
    "          .reset_index()\n",
    "          .rename(columns={'index':'district','district':'count'}))"
   ]
  },
  {
   "cell_type": "code",
   "execution_count": 54,
   "id": "cb966038",
   "metadata": {
    "scrolled": true
   },
   "outputs": [
    {
     "name": "stdout",
     "output_type": "stream",
     "text": [
      "Топ 5 районов по количеству заведений общепита:\n"
     ]
    },
    {
     "data": {
      "text/html": [
       "<div>\n",
       "<style scoped>\n",
       "    .dataframe tbody tr th:only-of-type {\n",
       "        vertical-align: middle;\n",
       "    }\n",
       "\n",
       "    .dataframe tbody tr th {\n",
       "        vertical-align: top;\n",
       "    }\n",
       "\n",
       "    .dataframe thead th {\n",
       "        text-align: right;\n",
       "    }\n",
       "</style>\n",
       "<table border=\"1\" class=\"dataframe\">\n",
       "  <thead>\n",
       "    <tr style=\"text-align: right;\">\n",
       "      <th></th>\n",
       "      <th>district</th>\n",
       "      <th>count</th>\n",
       "    </tr>\n",
       "  </thead>\n",
       "  <tbody>\n",
       "    <tr>\n",
       "      <th>0</th>\n",
       "      <td>Тверской район</td>\n",
       "      <td>885</td>\n",
       "    </tr>\n",
       "    <tr>\n",
       "      <th>1</th>\n",
       "      <td>Пресненский район</td>\n",
       "      <td>734</td>\n",
       "    </tr>\n",
       "    <tr>\n",
       "      <th>2</th>\n",
       "      <td>Басманный район</td>\n",
       "      <td>601</td>\n",
       "    </tr>\n",
       "    <tr>\n",
       "      <th>3</th>\n",
       "      <td>Даниловский район</td>\n",
       "      <td>485</td>\n",
       "    </tr>\n",
       "    <tr>\n",
       "      <th>4</th>\n",
       "      <td>Таганский район</td>\n",
       "      <td>441</td>\n",
       "    </tr>\n",
       "  </tbody>\n",
       "</table>\n",
       "</div>"
      ],
      "text/plain": [
       "            district  count\n",
       "0     Тверской район    885\n",
       "1  Пресненский район    734\n",
       "2    Басманный район    601\n",
       "3  Даниловский район    485\n",
       "4    Таганский район    441"
      ]
     },
     "execution_count": 54,
     "metadata": {},
     "output_type": "execute_result"
    }
   ],
   "source": [
    "print('Топ 5 районов по количеству заведений общепита:')\n",
    "top_5_district"
   ]
  },
  {
   "cell_type": "code",
   "execution_count": 55,
   "id": "ccbb4227",
   "metadata": {},
   "outputs": [
    {
     "data": {
      "image/png": "[encoded data removed]",
      "text/plain": [
       "<Figure size 864x576 with 1 Axes>"
      ]
     },
     "metadata": {
      "needs_background": "light"
     },
     "output_type": "display_data"
    }
   ],
   "source": [
    "plt.figure(figsize=(12,8))\n",
    "\n",
    "ax = sns.barplot(data=top_5_district, y='count', x='district')\n",
    "\n",
    "ax.set_title('Топ-5 районов по количеству заведений\\n', fontsize=20)\n",
    "ax.set_ylabel('Количество заведений\\n', fontsize=15)\n",
    "ax.set_xlabel('\\nРайон', fontsize=15)\n",
    "\n",
    "sns.despine()"
   ]
  },
  {
   "cell_type": "code",
   "execution_count": 56,
   "id": "ec919569",
   "metadata": {},
   "outputs": [
    {
     "data": {
      "text/plain": [
       "array(['Тверской район', 'Пресненский район', 'Басманный район',\n",
       "       'Даниловский район', 'Таганский район'], dtype=object)"
      ]
     },
     "execution_count": 56,
     "metadata": {},
     "output_type": "execute_result"
    }
   ],
   "source": [
    "district_list = top_5_district.loc[:,'district'].values\n",
    "district_list"
   ]
  },
  {
   "cell_type": "code",
   "execution_count": 57,
   "id": "c9734c82",
   "metadata": {},
   "outputs": [
    {
     "name": "stdout",
     "output_type": "stream",
     "text": [
      "Топ-10 улиц из топ-5 районов\n"
     ]
    },
    {
     "data": {
      "text/html": [
       "<div>\n",
       "<style scoped>\n",
       "    .dataframe tbody tr th:only-of-type {\n",
       "        vertical-align: middle;\n",
       "    }\n",
       "\n",
       "    .dataframe tbody tr th {\n",
       "        vertical-align: top;\n",
       "    }\n",
       "\n",
       "    .dataframe thead th {\n",
       "        text-align: right;\n",
       "    }\n",
       "</style>\n",
       "<table border=\"1\" class=\"dataframe\">\n",
       "  <thead>\n",
       "    <tr style=\"text-align: right;\">\n",
       "      <th></th>\n",
       "      <th>street</th>\n",
       "      <th>count</th>\n",
       "    </tr>\n",
       "  </thead>\n",
       "  <tbody>\n",
       "    <tr>\n",
       "      <th>0</th>\n",
       "      <td>Пресненская набережная</td>\n",
       "      <td>167</td>\n",
       "    </tr>\n",
       "    <tr>\n",
       "      <th>1</th>\n",
       "      <td>улица Ленинская Слобода</td>\n",
       "      <td>89</td>\n",
       "    </tr>\n",
       "    <tr>\n",
       "      <th>2</th>\n",
       "      <td>улица Земляной Вал</td>\n",
       "      <td>80</td>\n",
       "    </tr>\n",
       "    <tr>\n",
       "      <th>3</th>\n",
       "      <td>улица Покровка</td>\n",
       "      <td>77</td>\n",
       "    </tr>\n",
       "    <tr>\n",
       "      <th>4</th>\n",
       "      <td>Тверская улица</td>\n",
       "      <td>68</td>\n",
       "    </tr>\n",
       "    <tr>\n",
       "      <th>5</th>\n",
       "      <td>Автозаводская улица</td>\n",
       "      <td>67</td>\n",
       "    </tr>\n",
       "    <tr>\n",
       "      <th>6</th>\n",
       "      <td>улица Сущёвский Вал</td>\n",
       "      <td>64</td>\n",
       "    </tr>\n",
       "    <tr>\n",
       "      <th>7</th>\n",
       "      <td>Лесная улица</td>\n",
       "      <td>62</td>\n",
       "    </tr>\n",
       "    <tr>\n",
       "      <th>8</th>\n",
       "      <td>улица Маросейка</td>\n",
       "      <td>60</td>\n",
       "    </tr>\n",
       "    <tr>\n",
       "      <th>9</th>\n",
       "      <td>Мясницкая улица</td>\n",
       "      <td>57</td>\n",
       "    </tr>\n",
       "  </tbody>\n",
       "</table>\n",
       "</div>"
      ],
      "text/plain": [
       "                    street  count\n",
       "0   Пресненская набережная    167\n",
       "1  улица Ленинская Слобода     89\n",
       "2       улица Земляной Вал     80\n",
       "3           улица Покровка     77\n",
       "4           Тверская улица     68\n",
       "5      Автозаводская улица     67\n",
       "6      улица Сущёвский Вал     64\n",
       "7             Лесная улица     62\n",
       "8          улица Маросейка     60\n",
       "9          Мясницкая улица     57"
      ]
     },
     "execution_count": 57,
     "metadata": {},
     "output_type": "execute_result"
    }
   ],
   "source": [
    "top_streets = df_location.query('district in @district_list')['street'].value_counts().reset_index().head(10)\n",
    "top_streets.columns = ['street','count']\n",
    "print('Топ-10 улиц из топ-5 районов')\n",
    "top_streets"
   ]
  },
  {
   "cell_type": "code",
   "execution_count": 58,
   "id": "44104ee9",
   "metadata": {},
   "outputs": [
    {
     "data": {
      "image/png": "[encoded data removed]",
      "text/plain": [
       "<Figure size 864x576 with 1 Axes>"
      ]
     },
     "metadata": {
      "needs_background": "light"
     },
     "output_type": "display_data"
    }
   ],
   "source": [
    "plt.figure(figsize=(12,8))\n",
    "ax=sns.barplot(x='count', y='street', data=top_streets, \n",
    "               order = top_streets.sort_values('count', ascending = False).street)\n",
    "\n",
    "ax.set_title('Топ-10 улиц из Топ-5 районов по количеству заведений\\n', fontsize=20)\n",
    "ax.set_ylabel('Улица\\n', fontsize=15)\n",
    "ax.set_xlabel('\\nКоличество заведений', fontsize=15)\n",
    "\n",
    "for p in ax.patches:\n",
    "    ax.annotate(\"%.0f\" % p.get_width(), xy=(p.get_width()+3, p.get_y()+0.5),\n",
    "                xytext=(-5, 0),textcoords='offset points')\n",
    "\n",
    "sns.despine()"
   ]
  },
  {
   "cell_type": "markdown",
   "id": "ade9df25",
   "metadata": {},
   "source": [
    "##### Вывод\n",
    "\n",
    "Наиболее плотно заведения общепита расположены в центральных районах города:\n",
    "1. Тверской район - 885 заведений, \n",
    "2. Пресненский район - 734 заведения,\n",
    "3. Басманный район - 601 заведение,\n",
    "4. Даниловский район - 485 заведений,\n",
    "5. Таганский район - 441 заведений.\n",
    "\n",
    "Наиболее популярные улицы этих районов:\n",
    "1.\tПресненская набережная - 167 заведений,\n",
    "2.\tулица Ленинская Слобода - 89 заведений,\n",
    "3.\tулица Земляной Вал - 80 заведений."
   ]
  },
  {
   "cell_type": "markdown",
   "id": "2a0303b9",
   "metadata": {},
   "source": [
    "### Посмотрите на распределение количества посадочных мест для улиц с большим количеством объектов общественного питания. Какие закономерности можно выявить?"
   ]
  },
  {
   "cell_type": "code",
   "execution_count": 59,
   "id": "bf84f2e5",
   "metadata": {},
   "outputs": [
    {
     "data": {
      "text/plain": [
       "array(['Пресненская набережная', 'улица Ленинская Слобода',\n",
       "       'улица Земляной Вал', 'улица Покровка', 'Тверская улица',\n",
       "       'Автозаводская улица', 'улица Сущёвский Вал', 'Лесная улица',\n",
       "       'улица Маросейка', 'Мясницкая улица'], dtype=object)"
      ]
     },
     "execution_count": 59,
     "metadata": {},
     "output_type": "execute_result"
    }
   ],
   "source": [
    "street_list = top_streets.loc[:,'street'].values\n",
    "street_list"
   ]
  },
  {
   "cell_type": "markdown",
   "id": "48aa4e36",
   "metadata": {},
   "source": [
    "Датафрейм по топ-10 улицам из топ-5 районов"
   ]
  },
  {
   "cell_type": "code",
   "execution_count": 60,
   "id": "ffe6af07",
   "metadata": {},
   "outputs": [
    {
     "data": {
      "text/html": [
       "<div>\n",
       "<style scoped>\n",
       "    .dataframe tbody tr th:only-of-type {\n",
       "        vertical-align: middle;\n",
       "    }\n",
       "\n",
       "    .dataframe tbody tr th {\n",
       "        vertical-align: top;\n",
       "    }\n",
       "\n",
       "    .dataframe thead th {\n",
       "        text-align: right;\n",
       "    }\n",
       "</style>\n",
       "<table border=\"1\" class=\"dataframe\">\n",
       "  <thead>\n",
       "    <tr style=\"text-align: right;\">\n",
       "      <th></th>\n",
       "      <th>id</th>\n",
       "      <th>object_name</th>\n",
       "      <th>chain</th>\n",
       "      <th>object_type</th>\n",
       "      <th>address</th>\n",
       "      <th>number</th>\n",
       "      <th>street</th>\n",
       "      <th>district</th>\n",
       "    </tr>\n",
       "  </thead>\n",
       "  <tbody>\n",
       "    <tr>\n",
       "      <th>262</th>\n",
       "      <td>22596</td>\n",
       "      <td>гин-но-таки</td>\n",
       "      <td>нет</td>\n",
       "      <td>кафе</td>\n",
       "      <td>город Москва, Тверская улица, дом 6, строение 1</td>\n",
       "      <td>270</td>\n",
       "      <td>Тверская улица</td>\n",
       "      <td>Тверской район</td>\n",
       "    </tr>\n",
       "    <tr>\n",
       "      <th>263</th>\n",
       "      <td>133843</td>\n",
       "      <td>голову с плеч</td>\n",
       "      <td>нет</td>\n",
       "      <td>бар</td>\n",
       "      <td>город Москва, Тверская улица, дом 12, строение 1</td>\n",
       "      <td>20</td>\n",
       "      <td>Тверская улица</td>\n",
       "      <td>Тверской район</td>\n",
       "    </tr>\n",
       "    <tr>\n",
       "      <th>264</th>\n",
       "      <td>120430</td>\n",
       "      <td>хлеб и вино</td>\n",
       "      <td>нет</td>\n",
       "      <td>кафе</td>\n",
       "      <td>город Москва, Тверская улица, дом 12, строение 2</td>\n",
       "      <td>65</td>\n",
       "      <td>Тверская улица</td>\n",
       "      <td>Тверской район</td>\n",
       "    </tr>\n",
       "    <tr>\n",
       "      <th>265</th>\n",
       "      <td>22605</td>\n",
       "      <td>бирхаус</td>\n",
       "      <td>нет</td>\n",
       "      <td>кафе</td>\n",
       "      <td>город Москва, Тверская улица, дом 12, строение 7</td>\n",
       "      <td>56</td>\n",
       "      <td>Тверская улица</td>\n",
       "      <td>Тверской район</td>\n",
       "    </tr>\n",
       "    <tr>\n",
       "      <th>266</th>\n",
       "      <td>141533</td>\n",
       "      <td>с утра</td>\n",
       "      <td>нет</td>\n",
       "      <td>кафе</td>\n",
       "      <td>город Москва, Тверская улица, дом 12, строение 8</td>\n",
       "      <td>48</td>\n",
       "      <td>Тверская улица</td>\n",
       "      <td>Тверской район</td>\n",
       "    </tr>\n",
       "  </tbody>\n",
       "</table>\n",
       "</div>"
      ],
      "text/plain": [
       "         id    object_name chain object_type  \\\n",
       "262   22596    гин-но-таки   нет        кафе   \n",
       "263  133843  голову с плеч   нет         бар   \n",
       "264  120430    хлеб и вино   нет        кафе   \n",
       "265   22605        бирхаус   нет        кафе   \n",
       "266  141533         с утра   нет        кафе   \n",
       "\n",
       "                                              address  number          street  \\\n",
       "262   город Москва, Тверская улица, дом 6, строение 1     270  Тверская улица   \n",
       "263  город Москва, Тверская улица, дом 12, строение 1      20  Тверская улица   \n",
       "264  город Москва, Тверская улица, дом 12, строение 2      65  Тверская улица   \n",
       "265  город Москва, Тверская улица, дом 12, строение 7      56  Тверская улица   \n",
       "266  город Москва, Тверская улица, дом 12, строение 8      48  Тверская улица   \n",
       "\n",
       "           district  \n",
       "262  Тверской район  \n",
       "263  Тверской район  \n",
       "264  Тверской район  \n",
       "265  Тверской район  \n",
       "266  Тверской район  "
      ]
     },
     "execution_count": 60,
     "metadata": {},
     "output_type": "execute_result"
    }
   ],
   "source": [
    "df_top_streets = df_location.query('street in @street_list')\n",
    "df_top_streets.head()"
   ]
  },
  {
   "cell_type": "code",
   "execution_count": 61,
   "id": "17ee25c0",
   "metadata": {},
   "outputs": [],
   "source": [
    "df_number = (df_top_streets.groupby('object_type')\n",
    "             .agg({'number':['count','sum','mean']}).round()\n",
    "             .sort_values(('number','sum'),ascending=False)\n",
    "            )\n",
    "df_number.columns=['count','sum','mean']"
   ]
  },
  {
   "cell_type": "code",
   "execution_count": 62,
   "id": "e4572def",
   "metadata": {},
   "outputs": [
    {
     "data": {
      "text/html": [
       "<div>\n",
       "<style scoped>\n",
       "    .dataframe tbody tr th:only-of-type {\n",
       "        vertical-align: middle;\n",
       "    }\n",
       "\n",
       "    .dataframe tbody tr th {\n",
       "        vertical-align: top;\n",
       "    }\n",
       "\n",
       "    .dataframe thead th {\n",
       "        text-align: right;\n",
       "    }\n",
       "</style>\n",
       "<table border=\"1\" class=\"dataframe\">\n",
       "  <thead>\n",
       "    <tr style=\"text-align: right;\">\n",
       "      <th></th>\n",
       "      <th>count</th>\n",
       "      <th>sum</th>\n",
       "      <th>mean</th>\n",
       "    </tr>\n",
       "    <tr>\n",
       "      <th>object_type</th>\n",
       "      <th></th>\n",
       "      <th></th>\n",
       "      <th></th>\n",
       "    </tr>\n",
       "  </thead>\n",
       "  <tbody>\n",
       "    <tr>\n",
       "      <th>кафе</th>\n",
       "      <td>472</td>\n",
       "      <td>17929</td>\n",
       "      <td>38.0</td>\n",
       "    </tr>\n",
       "    <tr>\n",
       "      <th>ресторан</th>\n",
       "      <td>152</td>\n",
       "      <td>14804</td>\n",
       "      <td>97.0</td>\n",
       "    </tr>\n",
       "    <tr>\n",
       "      <th>бар</th>\n",
       "      <td>77</td>\n",
       "      <td>4239</td>\n",
       "      <td>55.0</td>\n",
       "    </tr>\n",
       "    <tr>\n",
       "      <th>столовая</th>\n",
       "      <td>16</td>\n",
       "      <td>1524</td>\n",
       "      <td>95.0</td>\n",
       "    </tr>\n",
       "    <tr>\n",
       "      <th>фастфуд</th>\n",
       "      <td>70</td>\n",
       "      <td>840</td>\n",
       "      <td>12.0</td>\n",
       "    </tr>\n",
       "    <tr>\n",
       "      <th>буфет</th>\n",
       "      <td>12</td>\n",
       "      <td>552</td>\n",
       "      <td>46.0</td>\n",
       "    </tr>\n",
       "    <tr>\n",
       "      <th>кафетерий</th>\n",
       "      <td>19</td>\n",
       "      <td>327</td>\n",
       "      <td>17.0</td>\n",
       "    </tr>\n",
       "    <tr>\n",
       "      <th>закусочная</th>\n",
       "      <td>6</td>\n",
       "      <td>172</td>\n",
       "      <td>29.0</td>\n",
       "    </tr>\n",
       "    <tr>\n",
       "      <th>кулинария</th>\n",
       "      <td>6</td>\n",
       "      <td>61</td>\n",
       "      <td>10.0</td>\n",
       "    </tr>\n",
       "  </tbody>\n",
       "</table>\n",
       "</div>"
      ],
      "text/plain": [
       "             count    sum  mean\n",
       "object_type                    \n",
       "кафе           472  17929  38.0\n",
       "ресторан       152  14804  97.0\n",
       "бар             77   4239  55.0\n",
       "столовая        16   1524  95.0\n",
       "фастфуд         70    840  12.0\n",
       "буфет           12    552  46.0\n",
       "кафетерий       19    327  17.0\n",
       "закусочная       6    172  29.0\n",
       "кулинария        6     61  10.0"
      ]
     },
     "execution_count": 62,
     "metadata": {},
     "output_type": "execute_result"
    }
   ],
   "source": [
    "df_number"
   ]
  },
  {
   "cell_type": "code",
   "execution_count": 63,
   "id": "b3ab2cb2",
   "metadata": {},
   "outputs": [
    {
     "data": {
      "image/png": "[encoded data removed]",
      "text/plain": [
       "<Figure size 864x576 with 1 Axes>"
      ]
     },
     "metadata": {
      "needs_background": "light"
     },
     "output_type": "display_data"
    }
   ],
   "source": [
    "ax = df_number[['count','mean']].plot(kind='bar',figsize=(12,8),rot=0,grid=True)\n",
    "\n",
    "ax.set_title('Количество заведений и среднее количество посадочных мест\\n', fontsize=20)\n",
    "ax.set_xlabel('\\nТип заведения', fontsize=15)\n",
    "ax.set_ylabel('Количество\\n', fontsize=15)\n",
    "ax.legend(['Количество заведений', 'Среднее количество посадочных мест'], fontsize=15)\n",
    "\n",
    "sns.despine()"
   ]
  },
  {
   "cell_type": "markdown",
   "id": "16bc2548",
   "metadata": {},
   "source": [
    "##### Вывод\n",
    "\n",
    "Самые популярные типы заведений это:\n",
    "- кафе - 472 заведения, \n",
    "- на втором месте рестораны - 152 заведения.\n",
    "\n",
    "В среднем на кафе приходится 38 посадочных мест, на рестораны 97 посадочных места."
   ]
  },
  {
   "cell_type": "markdown",
   "id": "281d3870",
   "metadata": {},
   "source": [
    "### Сделайте общий вывод и дайте рекомендации о виде заведения, количестве посадочных мест, а также районе расположения. Прокомментируйте возможность развития сети."
   ]
  },
  {
   "cell_type": "markdown",
   "id": "0d4be69b",
   "metadata": {},
   "source": [
    "##### Вывод\n",
    "\n",
    "В процессе анализы мы выделили 15366 заведений общепита 9 видов. На первом месте:\n",
    "- кафе 6099(39,7%)\n",
    "- столовая 2587(16,8%)\n",
    "- ресторан 2285(14,9%)\n",
    "- фастфуд 1923(12,5%)\n",
    "\n",
    "Заведения общепита подразделяются на сетевые  и несетевые\n",
    "- сетевые заведения - 2968(19.32%),\n",
    "- несетевые - 12398(80,68%).\n",
    "\n",
    "Максимальная доля сетевых заведений среди фастфуда 41,13% и минимальное среди столловых 0,12%\n",
    "\n",
    "Среднее значение посадочных мест:\n",
    "- сетевые заведения 53 посадочных места,\n",
    "- несетевых заведения 61 посадочное место.\n",
    "\n",
    "Максимальное среднее количество посадочных мест в столовых - 130 и ресторанах - 80, минимальное в куланарии - 6 и закусочной - 8\n",
    "\n",
    "Для дальнейшего анализа мы выделили из адреса информацию об улице включая переулки, проспекты, площади и пр. Убрали из списка заведения находящиеся за пределами МКАД. Из всего списка адресов оставили 14506 адреса. Всего получили 1805 улиц на которых расположены заведения общепита.\n",
    "\n",
    "На первом месте по количеству заведений общепита находятся улицы большой протяженностью, которые проходят через несколько районов Москвы.\n",
    "- Проспект Мира - 204 заведения, проходит через 7 районов,\n",
    "- Профсоюзная улица - 183 заведения, проходит через 6 районов,\n",
    "- Ленинградский проспект - 173 заведения, проходит через 4 района.\n",
    "\n",
    "Для наших целей полученные данные малоинформативны тк не говорят о плотности расположения заведений. Поэтому далее делали анализ в разрезе района местонахождения.\n",
    "\n",
    "Наиболее плотно заведения общепита расположены в центральных районах города:\n",
    "- Тверской район - 885 заведений,\n",
    "- Пресненский район - 734 заведения,\n",
    "- Басманный район - 601 заведение,\n",
    "- Даниловский район - 485 заведений,\n",
    "- Таганский район - 441 заведений.\n",
    "\n",
    "Наиболее популярные улицы этих районов:\n",
    "- Пресненская набережная - 167 заведений,\n",
    "- улица Ленинская Слобода - 89 заведений,\n",
    "- улица Земляной Вал - 80 заведений.\n",
    "\n",
    "Самые популярные типы заведений на этих улицах:\n",
    "- кафе - 472 заведения,\n",
    "- на втором месте рестораны - 152 заведения.\n",
    "\n",
    "В среднем на кафе приходится 38 посадочных мест, на рестораны 97 посадочных места.\n",
    "\n",
    "Для реализации плана по открытию небольшого кафе где гостей должны обслуживать роботы подходят центральные районы города и улицы расположенные в этих районах.\n",
    "\n",
    "Анализ подтвердил, что большое количество кафе на этих улицах говорит о их восстребованности. Количество посадочных мест также отражает план по небольшому кафе.\n",
    "\n",
    "**Итог: небольшое кафе в среднем 30-40 посадочных мест на Пресненской набережной в районе Москва-Сити.\n",
    "В дальнейшем возможно развитие сети, по результатам работы первого объекта.**"
   ]
  },
  {
   "cell_type": "markdown",
   "id": "d545dd2c",
   "metadata": {},
   "source": [
    "## Шаг №3. Подготовка презентации\n",
    "Подготовьте презентацию исследования для инвесторов. Для создания презентации используйте любой удобный инструмент, но отправить презентацию нужно обязательно в формате pdf. Приложите ссылку на презентацию в markdown-ячейке в формате:\n",
    "\n",
    "Презентация: https://drive.google.com/file/d/1TZLrYXoYOfnf6lI0-IDI4a1x_Amui1gC/view?usp=sharing\n"
   ]
  }
 ],
 "metadata": {
  "ExecuteTimeLog": [
   {
    "duration": 1721,
    "start_time": "2022-05-11T15:13:58.961Z"
   },
   {
    "duration": 77,
    "start_time": "2022-05-11T15:14:00.685Z"
   },
   {
    "duration": 14,
    "start_time": "2022-05-11T15:14:00.763Z"
   },
   {
    "duration": 35,
    "start_time": "2022-05-11T15:14:00.779Z"
   },
   {
    "duration": 9,
    "start_time": "2022-05-11T15:14:00.816Z"
   },
   {
    "duration": 21,
    "start_time": "2022-05-11T15:14:00.848Z"
   },
   {
    "duration": 6,
    "start_time": "2022-05-11T15:14:00.871Z"
   },
   {
    "duration": 8,
    "start_time": "2022-05-11T15:14:00.879Z"
   },
   {
    "duration": 17,
    "start_time": "2022-05-11T15:14:00.889Z"
   },
   {
    "duration": 240,
    "start_time": "2022-05-11T15:14:00.907Z"
   },
   {
    "duration": 165,
    "start_time": "2022-05-11T15:14:01.150Z"
   },
   {
    "duration": 17,
    "start_time": "2022-05-11T15:14:01.317Z"
   },
   {
    "duration": 16,
    "start_time": "2022-05-11T15:14:01.335Z"
   },
   {
    "duration": 13,
    "start_time": "2022-05-11T15:14:01.354Z"
   },
   {
    "duration": 8,
    "start_time": "2022-05-11T15:14:01.369Z"
   },
   {
    "duration": 210,
    "start_time": "2022-05-11T15:14:01.379Z"
   },
   {
    "duration": 10,
    "start_time": "2022-05-11T15:14:01.591Z"
   },
   {
    "duration": 222,
    "start_time": "2022-05-11T15:14:01.603Z"
   },
   {
    "duration": 24,
    "start_time": "2022-05-11T15:14:01.827Z"
   },
   {
    "duration": 52,
    "start_time": "2022-05-11T15:14:01.853Z"
   },
   {
    "duration": 42,
    "start_time": "2022-05-11T15:14:01.907Z"
   },
   {
    "duration": 289,
    "start_time": "2022-05-11T15:14:01.951Z"
   },
   {
    "duration": 307,
    "start_time": "2022-05-11T15:14:02.242Z"
   },
   {
    "duration": 0,
    "start_time": "2022-05-11T15:14:02.552Z"
   },
   {
    "duration": 0,
    "start_time": "2022-05-11T15:14:02.553Z"
   },
   {
    "duration": 0,
    "start_time": "2022-05-11T15:14:02.555Z"
   },
   {
    "duration": 0,
    "start_time": "2022-05-11T15:14:02.556Z"
   },
   {
    "duration": 0,
    "start_time": "2022-05-11T15:14:02.558Z"
   },
   {
    "duration": 0,
    "start_time": "2022-05-11T15:14:02.559Z"
   },
   {
    "duration": 0,
    "start_time": "2022-05-11T15:14:02.561Z"
   },
   {
    "duration": 0,
    "start_time": "2022-05-11T15:14:02.562Z"
   },
   {
    "duration": 0,
    "start_time": "2022-05-11T15:14:02.563Z"
   },
   {
    "duration": 0,
    "start_time": "2022-05-11T15:14:02.565Z"
   },
   {
    "duration": 0,
    "start_time": "2022-05-11T15:14:02.566Z"
   },
   {
    "duration": 0,
    "start_time": "2022-05-11T15:14:02.568Z"
   },
   {
    "duration": 0,
    "start_time": "2022-05-11T15:14:02.569Z"
   },
   {
    "duration": 0,
    "start_time": "2022-05-11T15:14:02.570Z"
   },
   {
    "duration": 0,
    "start_time": "2022-05-11T15:14:02.572Z"
   },
   {
    "duration": 0,
    "start_time": "2022-05-11T15:14:02.574Z"
   },
   {
    "duration": 0,
    "start_time": "2022-05-11T15:14:02.575Z"
   },
   {
    "duration": 0,
    "start_time": "2022-05-11T15:14:02.576Z"
   },
   {
    "duration": 0,
    "start_time": "2022-05-11T15:14:02.577Z"
   },
   {
    "duration": 0,
    "start_time": "2022-05-11T15:14:02.579Z"
   },
   {
    "duration": 0,
    "start_time": "2022-05-11T15:14:02.580Z"
   },
   {
    "duration": 1,
    "start_time": "2022-05-11T15:14:02.581Z"
   },
   {
    "duration": 1,
    "start_time": "2022-05-11T15:14:02.582Z"
   },
   {
    "duration": 0,
    "start_time": "2022-05-11T15:14:02.584Z"
   },
   {
    "duration": 0,
    "start_time": "2022-05-11T15:14:02.585Z"
   },
   {
    "duration": 0,
    "start_time": "2022-05-11T15:14:02.647Z"
   },
   {
    "duration": 0,
    "start_time": "2022-05-11T15:14:02.649Z"
   },
   {
    "duration": 0,
    "start_time": "2022-05-11T15:14:02.651Z"
   },
   {
    "duration": 0,
    "start_time": "2022-05-11T15:14:02.653Z"
   },
   {
    "duration": 0,
    "start_time": "2022-05-11T15:14:02.655Z"
   },
   {
    "duration": 1127,
    "start_time": "2022-05-11T15:16:38.785Z"
   },
   {
    "duration": 60,
    "start_time": "2022-05-11T15:16:39.915Z"
   },
   {
    "duration": 13,
    "start_time": "2022-05-11T15:16:39.976Z"
   },
   {
    "duration": 35,
    "start_time": "2022-05-11T15:16:39.991Z"
   },
   {
    "duration": 9,
    "start_time": "2022-05-11T15:16:40.047Z"
   },
   {
    "duration": 16,
    "start_time": "2022-05-11T15:16:40.058Z"
   },
   {
    "duration": 5,
    "start_time": "2022-05-11T15:16:40.075Z"
   },
   {
    "duration": 7,
    "start_time": "2022-05-11T15:16:40.081Z"
   },
   {
    "duration": 18,
    "start_time": "2022-05-11T15:16:40.089Z"
   },
   {
    "duration": 323,
    "start_time": "2022-05-11T15:16:40.109Z"
   },
   {
    "duration": 242,
    "start_time": "2022-05-11T15:16:40.434Z"
   },
   {
    "duration": 22,
    "start_time": "2022-05-11T15:16:40.678Z"
   },
   {
    "duration": 10,
    "start_time": "2022-05-11T15:16:40.702Z"
   },
   {
    "duration": 33,
    "start_time": "2022-05-11T15:16:40.716Z"
   },
   {
    "duration": 6,
    "start_time": "2022-05-11T15:16:40.751Z"
   },
   {
    "duration": 221,
    "start_time": "2022-05-11T15:16:40.759Z"
   },
   {
    "duration": 10,
    "start_time": "2022-05-11T15:16:40.982Z"
   },
   {
    "duration": 209,
    "start_time": "2022-05-11T15:16:40.994Z"
   },
   {
    "duration": 10,
    "start_time": "2022-05-11T15:16:41.205Z"
   },
   {
    "duration": 52,
    "start_time": "2022-05-11T15:16:41.217Z"
   },
   {
    "duration": 18,
    "start_time": "2022-05-11T15:16:41.271Z"
   },
   {
    "duration": 193,
    "start_time": "2022-05-11T15:16:41.290Z"
   },
   {
    "duration": 139,
    "start_time": "2022-05-11T15:16:41.485Z"
   },
   {
    "duration": 0,
    "start_time": "2022-05-11T15:16:41.626Z"
   },
   {
    "duration": 0,
    "start_time": "2022-05-11T15:16:41.628Z"
   },
   {
    "duration": 0,
    "start_time": "2022-05-11T15:16:41.629Z"
   },
   {
    "duration": 0,
    "start_time": "2022-05-11T15:16:41.630Z"
   },
   {
    "duration": 0,
    "start_time": "2022-05-11T15:16:41.631Z"
   },
   {
    "duration": 0,
    "start_time": "2022-05-11T15:16:41.647Z"
   },
   {
    "duration": 0,
    "start_time": "2022-05-11T15:16:41.649Z"
   },
   {
    "duration": 0,
    "start_time": "2022-05-11T15:16:41.651Z"
   },
   {
    "duration": 0,
    "start_time": "2022-05-11T15:16:41.651Z"
   },
   {
    "duration": 0,
    "start_time": "2022-05-11T15:16:41.652Z"
   },
   {
    "duration": 0,
    "start_time": "2022-05-11T15:16:41.653Z"
   },
   {
    "duration": 0,
    "start_time": "2022-05-11T15:16:41.654Z"
   },
   {
    "duration": 0,
    "start_time": "2022-05-11T15:16:41.655Z"
   },
   {
    "duration": 0,
    "start_time": "2022-05-11T15:16:41.656Z"
   },
   {
    "duration": 0,
    "start_time": "2022-05-11T15:16:41.657Z"
   },
   {
    "duration": 0,
    "start_time": "2022-05-11T15:16:41.658Z"
   },
   {
    "duration": 0,
    "start_time": "2022-05-11T15:16:41.659Z"
   },
   {
    "duration": 0,
    "start_time": "2022-05-11T15:16:41.660Z"
   },
   {
    "duration": 0,
    "start_time": "2022-05-11T15:16:41.661Z"
   },
   {
    "duration": 0,
    "start_time": "2022-05-11T15:16:41.662Z"
   },
   {
    "duration": 0,
    "start_time": "2022-05-11T15:16:41.663Z"
   },
   {
    "duration": 0,
    "start_time": "2022-05-11T15:16:41.664Z"
   },
   {
    "duration": 0,
    "start_time": "2022-05-11T15:16:41.665Z"
   },
   {
    "duration": 0,
    "start_time": "2022-05-11T15:16:41.665Z"
   },
   {
    "duration": 0,
    "start_time": "2022-05-11T15:16:41.667Z"
   },
   {
    "duration": 1,
    "start_time": "2022-05-11T15:16:41.667Z"
   },
   {
    "duration": 0,
    "start_time": "2022-05-11T15:16:41.668Z"
   },
   {
    "duration": 0,
    "start_time": "2022-05-11T15:16:41.669Z"
   },
   {
    "duration": 0,
    "start_time": "2022-05-11T15:16:41.670Z"
   },
   {
    "duration": 0,
    "start_time": "2022-05-11T15:16:41.671Z"
   },
   {
    "duration": 1478,
    "start_time": "2022-05-12T08:51:19.109Z"
   },
   {
    "duration": 67,
    "start_time": "2022-05-12T08:51:20.589Z"
   },
   {
    "duration": 14,
    "start_time": "2022-05-12T08:51:20.658Z"
   },
   {
    "duration": 35,
    "start_time": "2022-05-12T08:51:20.674Z"
   },
   {
    "duration": 11,
    "start_time": "2022-05-12T08:51:20.726Z"
   },
   {
    "duration": 29,
    "start_time": "2022-05-12T08:51:20.739Z"
   },
   {
    "duration": 6,
    "start_time": "2022-05-12T08:51:20.769Z"
   },
   {
    "duration": 22,
    "start_time": "2022-05-12T08:51:20.776Z"
   },
   {
    "duration": 17,
    "start_time": "2022-05-12T08:51:20.800Z"
   },
   {
    "duration": 28,
    "start_time": "2022-05-12T08:51:20.819Z"
   },
   {
    "duration": 18,
    "start_time": "2022-05-12T08:51:20.849Z"
   },
   {
    "duration": 26,
    "start_time": "2022-05-12T08:51:20.868Z"
   },
   {
    "duration": 213,
    "start_time": "2022-05-12T08:51:20.895Z"
   },
   {
    "duration": 178,
    "start_time": "2022-05-12T08:51:21.124Z"
   },
   {
    "duration": 27,
    "start_time": "2022-05-12T08:51:21.304Z"
   },
   {
    "duration": 8,
    "start_time": "2022-05-12T08:51:21.334Z"
   },
   {
    "duration": 13,
    "start_time": "2022-05-12T08:51:21.344Z"
   },
   {
    "duration": 6,
    "start_time": "2022-05-12T08:51:21.359Z"
   },
   {
    "duration": 126,
    "start_time": "2022-05-12T08:51:21.367Z"
   },
   {
    "duration": 245,
    "start_time": "2022-05-12T08:51:21.495Z"
   },
   {
    "duration": 13,
    "start_time": "2022-05-12T08:51:21.742Z"
   },
   {
    "duration": 247,
    "start_time": "2022-05-12T08:51:21.757Z"
   },
   {
    "duration": 22,
    "start_time": "2022-05-12T08:51:22.006Z"
   },
   {
    "duration": 40,
    "start_time": "2022-05-12T08:51:22.030Z"
   },
   {
    "duration": 10,
    "start_time": "2022-05-12T08:51:22.072Z"
   },
   {
    "duration": 43,
    "start_time": "2022-05-12T08:51:22.084Z"
   },
   {
    "duration": 10,
    "start_time": "2022-05-12T08:51:22.134Z"
   },
   {
    "duration": 14,
    "start_time": "2022-05-12T08:51:22.147Z"
   },
   {
    "duration": 13,
    "start_time": "2022-05-12T08:51:22.163Z"
   },
   {
    "duration": 48,
    "start_time": "2022-05-12T08:51:22.178Z"
   },
   {
    "duration": 214,
    "start_time": "2022-05-12T08:51:22.228Z"
   },
   {
    "duration": 6,
    "start_time": "2022-05-12T08:51:22.444Z"
   },
   {
    "duration": 18,
    "start_time": "2022-05-12T08:51:22.452Z"
   },
   {
    "duration": 26,
    "start_time": "2022-05-12T08:51:22.472Z"
   },
   {
    "duration": 31,
    "start_time": "2022-05-12T08:51:22.500Z"
   },
   {
    "duration": 2770,
    "start_time": "2022-05-12T08:51:22.533Z"
   },
   {
    "duration": 1132,
    "start_time": "2022-05-12T08:51:25.305Z"
   },
   {
    "duration": 33,
    "start_time": "2022-05-12T08:51:26.440Z"
   },
   {
    "duration": 7,
    "start_time": "2022-05-12T08:51:26.476Z"
   },
   {
    "duration": 50,
    "start_time": "2022-05-12T08:51:26.485Z"
   },
   {
    "duration": 25,
    "start_time": "2022-05-12T08:51:26.544Z"
   },
   {
    "duration": 11,
    "start_time": "2022-05-12T08:51:26.572Z"
   },
   {
    "duration": 8,
    "start_time": "2022-05-12T08:51:26.586Z"
   },
   {
    "duration": 8,
    "start_time": "2022-05-12T08:51:26.622Z"
   },
   {
    "duration": 15,
    "start_time": "2022-05-12T08:51:26.633Z"
   },
   {
    "duration": 9,
    "start_time": "2022-05-12T08:51:26.649Z"
   },
   {
    "duration": 6,
    "start_time": "2022-05-12T08:51:26.660Z"
   },
   {
    "duration": 398,
    "start_time": "2022-05-12T08:51:26.668Z"
   },
   {
    "duration": 14,
    "start_time": "2022-05-12T08:51:27.068Z"
   },
   {
    "duration": 21,
    "start_time": "2022-05-12T08:51:27.084Z"
   },
   {
    "duration": 34,
    "start_time": "2022-05-12T08:51:27.107Z"
   },
   {
    "duration": 9,
    "start_time": "2022-05-12T08:51:27.143Z"
   },
   {
    "duration": 11,
    "start_time": "2022-05-12T08:51:27.154Z"
   },
   {
    "duration": 262,
    "start_time": "2022-05-12T08:51:27.167Z"
   },
   {
    "duration": 8,
    "start_time": "2022-05-12T08:51:27.431Z"
   },
   {
    "duration": 20,
    "start_time": "2022-05-12T08:51:27.441Z"
   },
   {
    "duration": 312,
    "start_time": "2022-05-12T08:51:27.463Z"
   },
   {
    "duration": 4,
    "start_time": "2022-05-12T08:51:27.777Z"
   },
   {
    "duration": 15,
    "start_time": "2022-05-12T08:51:27.782Z"
   },
   {
    "duration": 40,
    "start_time": "2022-05-12T08:51:27.798Z"
   },
   {
    "duration": 10,
    "start_time": "2022-05-12T08:51:27.840Z"
   },
   {
    "duration": 229,
    "start_time": "2022-05-12T08:51:27.852Z"
   },
   {
    "duration": 1581,
    "start_time": "2022-05-13T05:51:38.405Z"
   },
   {
    "duration": 68,
    "start_time": "2022-05-13T05:51:39.989Z"
   },
   {
    "duration": 15,
    "start_time": "2022-05-13T05:51:40.059Z"
   },
   {
    "duration": 42,
    "start_time": "2022-05-13T05:51:40.077Z"
   },
   {
    "duration": 10,
    "start_time": "2022-05-13T05:51:40.121Z"
   },
   {
    "duration": 36,
    "start_time": "2022-05-13T05:51:40.133Z"
   },
   {
    "duration": 5,
    "start_time": "2022-05-13T05:51:40.171Z"
   },
   {
    "duration": 7,
    "start_time": "2022-05-13T05:51:40.178Z"
   },
   {
    "duration": 15,
    "start_time": "2022-05-13T05:51:40.186Z"
   },
   {
    "duration": 15,
    "start_time": "2022-05-13T05:51:40.204Z"
   },
   {
    "duration": 8,
    "start_time": "2022-05-13T05:51:40.220Z"
   },
   {
    "duration": 46,
    "start_time": "2022-05-13T05:51:40.230Z"
   },
   {
    "duration": 258,
    "start_time": "2022-05-13T05:51:40.278Z"
   },
   {
    "duration": 211,
    "start_time": "2022-05-13T05:51:40.538Z"
   },
   {
    "duration": 27,
    "start_time": "2022-05-13T05:51:40.751Z"
   },
   {
    "duration": 8,
    "start_time": "2022-05-13T05:51:40.780Z"
   },
   {
    "duration": 14,
    "start_time": "2022-05-13T05:51:40.790Z"
   },
   {
    "duration": 8,
    "start_time": "2022-05-13T05:51:40.806Z"
   },
   {
    "duration": 142,
    "start_time": "2022-05-13T05:51:40.816Z"
   },
   {
    "duration": 274,
    "start_time": "2022-05-13T05:51:40.960Z"
   },
   {
    "duration": 13,
    "start_time": "2022-05-13T05:51:41.235Z"
   },
   {
    "duration": 273,
    "start_time": "2022-05-13T05:51:41.261Z"
   },
   {
    "duration": 13,
    "start_time": "2022-05-13T05:51:41.536Z"
   },
   {
    "duration": 53,
    "start_time": "2022-05-13T05:51:41.550Z"
   },
   {
    "duration": 10,
    "start_time": "2022-05-13T05:51:41.605Z"
   },
   {
    "duration": 16,
    "start_time": "2022-05-13T05:51:41.617Z"
   },
   {
    "duration": 28,
    "start_time": "2022-05-13T05:51:41.635Z"
   },
   {
    "duration": 175,
    "start_time": "2022-05-13T05:51:41.668Z"
   },
   {
    "duration": 11,
    "start_time": "2022-05-13T05:51:41.845Z"
   },
   {
    "duration": 15,
    "start_time": "2022-05-13T05:51:41.862Z"
   },
   {
    "duration": 18,
    "start_time": "2022-05-13T05:51:41.879Z"
   },
   {
    "duration": 181,
    "start_time": "2022-05-13T05:51:41.899Z"
   },
   {
    "duration": 6,
    "start_time": "2022-05-13T05:51:42.081Z"
   },
   {
    "duration": 9,
    "start_time": "2022-05-13T05:51:42.088Z"
   },
   {
    "duration": 31,
    "start_time": "2022-05-13T05:51:42.099Z"
   },
   {
    "duration": 15,
    "start_time": "2022-05-13T05:51:42.131Z"
   },
   {
    "duration": 2180,
    "start_time": "2022-05-13T05:51:42.148Z"
   },
   {
    "duration": 1043,
    "start_time": "2022-05-13T05:51:44.330Z"
   },
   {
    "duration": 22,
    "start_time": "2022-05-13T05:51:45.375Z"
   },
   {
    "duration": 5,
    "start_time": "2022-05-13T05:51:45.399Z"
   },
   {
    "duration": 23,
    "start_time": "2022-05-13T05:51:45.405Z"
   },
   {
    "duration": 33,
    "start_time": "2022-05-13T05:51:45.430Z"
   },
   {
    "duration": 6,
    "start_time": "2022-05-13T05:51:45.465Z"
   },
   {
    "duration": 9,
    "start_time": "2022-05-13T05:51:45.473Z"
   },
   {
    "duration": 4,
    "start_time": "2022-05-13T05:51:45.483Z"
   },
   {
    "duration": 11,
    "start_time": "2022-05-13T05:51:45.488Z"
   },
   {
    "duration": 5,
    "start_time": "2022-05-13T05:51:45.501Z"
   },
   {
    "duration": 5,
    "start_time": "2022-05-13T05:51:45.507Z"
   },
   {
    "duration": 310,
    "start_time": "2022-05-13T05:51:45.514Z"
   },
   {
    "duration": 9,
    "start_time": "2022-05-13T05:51:45.826Z"
   },
   {
    "duration": 29,
    "start_time": "2022-05-13T05:51:45.836Z"
   },
   {
    "duration": 12,
    "start_time": "2022-05-13T05:51:45.866Z"
   },
   {
    "duration": 6,
    "start_time": "2022-05-13T05:51:45.879Z"
   },
   {
    "duration": 9,
    "start_time": "2022-05-13T05:51:45.886Z"
   },
   {
    "duration": 160,
    "start_time": "2022-05-13T05:51:45.896Z"
   },
   {
    "duration": 4,
    "start_time": "2022-05-13T05:51:46.062Z"
   },
   {
    "duration": 18,
    "start_time": "2022-05-13T05:51:46.067Z"
   },
   {
    "duration": 244,
    "start_time": "2022-05-13T05:51:46.087Z"
   },
   {
    "duration": 4,
    "start_time": "2022-05-13T05:51:46.333Z"
   },
   {
    "duration": 28,
    "start_time": "2022-05-13T05:51:46.339Z"
   },
   {
    "duration": 11,
    "start_time": "2022-05-13T05:51:46.368Z"
   },
   {
    "duration": 8,
    "start_time": "2022-05-13T05:51:46.381Z"
   },
   {
    "duration": 209,
    "start_time": "2022-05-13T05:51:46.391Z"
   }
  ],
  "kernelspec": {
   "display_name": "Python 3",
   "language": "python",
   "name": "python3"
  },
  "language_info": {
   "codemirror_mode": {
    "name": "ipython",
    "version": 3
   },
   "file_extension": ".py",
   "mimetype": "text/x-python",
   "name": "python",
   "nbconvert_exporter": "python",
   "pygments_lexer": "ipython3",
   "version": "3.8.8"
  },
  "toc": {
   "base_numbering": 1,
   "nav_menu": {},
   "number_sections": true,
   "sideBar": true,
   "skip_h1_title": true,
   "title_cell": "Table of Contents",
   "title_sidebar": "Contents",
   "toc_cell": false,
   "toc_position": {},
   "toc_section_display": true,
   "toc_window_display": false
  }
 },
 "nbformat": 4,
 "nbformat_minor": 5
}
